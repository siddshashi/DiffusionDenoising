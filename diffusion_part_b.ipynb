{
  "cells": [
    {
      "cell_type": "code",
      "execution_count": null,
      "metadata": {
        "colab": {
          "base_uri": "https://localhost:8080/"
        },
        "id": "lX3XpcGSXBIs",
        "outputId": "a09a3a00-0a86-4a60-fdc9-d2b0b5416dc8"
      },
      "outputs": [
        {
          "name": "stdout",
          "output_type": "stream",
          "text": [
            "\u001b[?25l   \u001b[90m━━━━━━━━━━━━━━━━━━━━━━━━━━━━━━━━━━━━━━━━\u001b[0m \u001b[32m0.0/1.6 MB\u001b[0m \u001b[31m?\u001b[0m eta \u001b[36m-:--:--\u001b[0m\r\u001b[2K   \u001b[91m━━━━━━━━━━━━━━━━━━━━━━━━━━━━━━━━\u001b[0m\u001b[91m╸\u001b[0m\u001b[90m━━━━━━━\u001b[0m \u001b[32m1.3/1.6 MB\u001b[0m \u001b[31m40.8 MB/s\u001b[0m eta \u001b[36m0:00:01\u001b[0m\r\u001b[2K   \u001b[90m━━━━━━━━━━━━━━━━━━━━━━━━━━━━━━━━━━━━━━━━\u001b[0m \u001b[32m1.6/1.6 MB\u001b[0m \u001b[31m19.6 MB/s\u001b[0m eta \u001b[36m0:00:00\u001b[0m\n",
            "\u001b[?25h"
          ]
        }
      ],
      "source": [
        "# https://google.github.io/mediapy/mediapy.html\n",
        "# https://einops.rocks/\n",
        "!pip install mediapy einops --quiet"
      ]
    },
    {
      "cell_type": "code",
      "execution_count": null,
      "metadata": {
        "id": "VdFQ6c9-Pm4Y"
      },
      "outputs": [],
      "source": [
        "import einops\n",
        "import mediapy\n",
        "import matplotlib.pyplot as plt\n",
        "import torch\n",
        "import torchvision\n",
        "import tqdm\n",
        "import torchvision.transforms.functional as TF\n",
        "import random\n",
        "import math\n",
        "import gc\n",
        "from torchvision import datasets, transforms\n",
        "from torch import nn\n",
        "from torch.utils.data import DataLoader\n",
        "from torchvision.datasets import MNIST\n",
        "from torchvision.transforms import ToTensor"
      ]
    },
    {
      "cell_type": "code",
      "execution_count": null,
      "metadata": {
        "id": "SaxPnx2whSxW"
      },
      "outputs": [],
      "source": [
        "gc.collect()\n",
        "torch.cuda.empty_cache()"
      ]
    },
    {
      "cell_type": "code",
      "execution_count": null,
      "metadata": {
        "id": "fhpEzgwCJqbW"
      },
      "outputs": [],
      "source": [
        "class Conv(nn.Module):\n",
        "    def __init__(self, in_channels: int, out_channels: int):\n",
        "      super().__init__()\n",
        "      self.conv = nn.Conv2d(in_channels, out_channels, kernel_size=3, stride=1, padding=1)\n",
        "      self.bn = nn.BatchNorm2d(out_channels)\n",
        "      self.activation = nn.GELU()\n",
        "\n",
        "    def forward(self, x: torch.Tensor) -> torch.Tensor:\n",
        "      x = self.conv(x)\n",
        "      x = self.bn(x)\n",
        "      x = self.activation(x)\n",
        "      return x\n",
        "\n",
        "\n",
        "class DownConv(nn.Module):\n",
        "    def __init__(self, in_channels: int, out_channels: int):\n",
        "      super().__init__()\n",
        "      self.conv = nn.Conv2d(in_channels, out_channels, kernel_size=3, stride=2, padding=1)\n",
        "      self.bn = nn.BatchNorm2d(out_channels)\n",
        "      self.activation = nn.GELU()\n",
        "\n",
        "    def forward(self, x: torch.Tensor) -> torch.Tensor:\n",
        "      x = self.conv(x)\n",
        "      x = self.bn(x)\n",
        "      x = self.activation(x)\n",
        "      return x\n",
        "\n",
        "\n",
        "class UpConv(nn.Module):\n",
        "    def __init__(self, in_channels: int, out_channels: int):\n",
        "      super().__init__()\n",
        "      self.conv = nn.ConvTranspose2d(in_channels, out_channels, kernel_size=4, stride=2, padding=1)\n",
        "      self.bn = nn.BatchNorm2d(out_channels)\n",
        "      self.activation = nn.GELU()\n",
        "\n",
        "    def forward(self, x: torch.Tensor) -> torch.Tensor:\n",
        "      x = self.conv(x)\n",
        "      x = self.bn(x)\n",
        "      x = self.activation(x)\n",
        "      return x\n",
        "\n",
        "\n",
        "class Flatten(nn.Module):\n",
        "    def __init__(self):\n",
        "      super().__init__()\n",
        "      self.pool = nn.AvgPool2d(kernel_size=7)\n",
        "      self.activation = nn.GELU()\n",
        "\n",
        "    def forward(self, x: torch.Tensor) -> torch.Tensor:\n",
        "      x = self.pool(x)\n",
        "      x = self.activation(x)\n",
        "      return x\n",
        "\n",
        "\n",
        "class Unflatten(nn.Module):\n",
        "    def __init__(self, in_channels: int):\n",
        "      super().__init__()\n",
        "      self.upsample = nn.ConvTranspose2d(\n",
        "            in_channels=in_channels,\n",
        "            out_channels=in_channels,\n",
        "            kernel_size=7,\n",
        "            stride=1,\n",
        "            padding=0\n",
        "      )\n",
        "      self.bn = nn.BatchNorm2d(in_channels)\n",
        "      self.activation = nn.GELU()\n",
        "\n",
        "    def forward(self, x: torch.Tensor) -> torch.Tensor:\n",
        "      x = self.upsample(x)\n",
        "      x = self.bn(x)\n",
        "      x = self.activation(x)\n",
        "      return x\n",
        "\n",
        "\n",
        "class Concat(nn.Module):\n",
        "  def __init__(self):\n",
        "    super().__init__()\n",
        "\n",
        "  def forward(self, *inputs: torch.Tensor) -> torch.Tensor:\n",
        "    return torch.cat(inputs, dim=1)\n",
        "\n",
        "\n",
        "class ConvBlock(nn.Module):\n",
        "    def __init__(self, in_channels: int, out_channels: int):\n",
        "      super().__init__()\n",
        "      self.conv1 = Conv(in_channels, out_channels)\n",
        "      self.conv2 = Conv(out_channels, out_channels)\n",
        "\n",
        "    def forward(self, x: torch.Tensor) -> torch.Tensor:\n",
        "      x = self.conv1(x)\n",
        "      x = self.conv2(x)\n",
        "      return x\n",
        "\n",
        "\n",
        "class DownBlock(nn.Module):\n",
        "    def __init__(self, in_channels: int, out_channels: int):\n",
        "      super().__init__()\n",
        "      self.down = DownConv(in_channels, out_channels)\n",
        "      self.conv = ConvBlock(out_channels, out_channels)\n",
        "\n",
        "    def forward(self, x: torch.Tensor) -> torch.Tensor:\n",
        "      x = self.down(x)\n",
        "      x = self.conv(x)\n",
        "      return x\n",
        "\n",
        "\n",
        "class UpBlock(nn.Module):\n",
        "    def __init__(self, in_channels: int, out_channels: int):\n",
        "      super().__init__()\n",
        "      self.up = UpConv(in_channels, out_channels)\n",
        "      self.conv = ConvBlock(out_channels, out_channels)\n",
        "\n",
        "    def forward(self, x: torch.Tensor) -> torch.Tensor:\n",
        "      x = self.up(x)\n",
        "      x = self.conv(x)\n",
        "      return x"
      ]
    },
    {
      "cell_type": "markdown",
      "metadata": {
        "id": "tsntLNl8PkdG"
      },
      "source": [
        "## Implementing Unconditional UNet"
      ]
    },
    {
      "cell_type": "code",
      "execution_count": null,
      "metadata": {
        "id": "94h1Q3BxN0ha"
      },
      "outputs": [],
      "source": [
        "class UnconditionalUNet(nn.Module):\n",
        "    def __init__(\n",
        "        self,\n",
        "        in_channels: int,\n",
        "        num_hiddens: int,\n",
        "    ):\n",
        "      super().__init__()\n",
        "      self.conv1 = ConvBlock(in_channels, num_hiddens)\n",
        "      self.down1 = DownBlock(num_hiddens, num_hiddens)\n",
        "      self.down2 = DownBlock(num_hiddens, 2 * num_hiddens)\n",
        "      self.flatten = Flatten()\n",
        "      self.unflatten = Unflatten(2 * num_hiddens)\n",
        "      self.up1 = UpBlock(4 * num_hiddens, num_hiddens)\n",
        "      self.up2 = UpBlock(2 * num_hiddens, num_hiddens)\n",
        "      self.conv2 = ConvBlock(2 * num_hiddens, num_hiddens)\n",
        "      self.conv3 = nn.Conv2d(num_hiddens, in_channels, 3, 1, 1)\n",
        "      self.concat = Concat()\n",
        "\n",
        "    def forward(self, x: torch.Tensor) -> torch.Tensor:\n",
        "      assert x.shape[-2:] == (28, 28), \"Expect input shape to be (28, 28).\"\n",
        "\n",
        "      x = self.conv1(x)\n",
        "      a = x.clone()\n",
        "      x = self.down1(x)\n",
        "      b = x.clone()\n",
        "      x = self.down2(x)\n",
        "      c = x.clone()\n",
        "      x = self.flatten(x)\n",
        "      x = self.unflatten(x)\n",
        "      x = self.concat(x, c)\n",
        "      x = self.up1(x)\n",
        "      x = self.concat(x, b)\n",
        "      x = self.up2(x)\n",
        "      x = self.concat(x, a)\n",
        "      x = self.conv2(x)\n",
        "      x = self.conv3(x)\n",
        "      gc.collect()\n",
        "      return x"
      ]
    },
    {
      "cell_type": "code",
      "execution_count": null,
      "metadata": {
        "colab": {
          "base_uri": "https://localhost:8080/"
        },
        "id": "N12yl3th1ghq",
        "outputId": "64ff1325-efa9-4a86-f182-a263f5a522b8"
      },
      "outputs": [
        {
          "name": "stdout",
          "output_type": "stream",
          "text": [
            "Downloading http://yann.lecun.com/exdb/mnist/train-images-idx3-ubyte.gz\n",
            "Failed to download (trying next):\n",
            "HTTP Error 403: Forbidden\n",
            "\n",
            "Downloading https://ossci-datasets.s3.amazonaws.com/mnist/train-images-idx3-ubyte.gz\n",
            "Downloading https://ossci-datasets.s3.amazonaws.com/mnist/train-images-idx3-ubyte.gz to ../data/MNIST/raw/train-images-idx3-ubyte.gz\n"
          ]
        },
        {
          "name": "stderr",
          "output_type": "stream",
          "text": [
            "100%|██████████| 9.91M/9.91M [00:00<00:00, 17.6MB/s]\n"
          ]
        },
        {
          "name": "stdout",
          "output_type": "stream",
          "text": [
            "Extracting ../data/MNIST/raw/train-images-idx3-ubyte.gz to ../data/MNIST/raw\n",
            "\n",
            "Downloading http://yann.lecun.com/exdb/mnist/train-labels-idx1-ubyte.gz\n",
            "Failed to download (trying next):\n",
            "HTTP Error 403: Forbidden\n",
            "\n",
            "Downloading https://ossci-datasets.s3.amazonaws.com/mnist/train-labels-idx1-ubyte.gz\n",
            "Downloading https://ossci-datasets.s3.amazonaws.com/mnist/train-labels-idx1-ubyte.gz to ../data/MNIST/raw/train-labels-idx1-ubyte.gz\n"
          ]
        },
        {
          "name": "stderr",
          "output_type": "stream",
          "text": [
            "100%|██████████| 28.9k/28.9k [00:00<00:00, 492kB/s]\n"
          ]
        },
        {
          "name": "stdout",
          "output_type": "stream",
          "text": [
            "Extracting ../data/MNIST/raw/train-labels-idx1-ubyte.gz to ../data/MNIST/raw\n",
            "\n",
            "Downloading http://yann.lecun.com/exdb/mnist/t10k-images-idx3-ubyte.gz\n",
            "Failed to download (trying next):\n",
            "HTTP Error 403: Forbidden\n",
            "\n",
            "Downloading https://ossci-datasets.s3.amazonaws.com/mnist/t10k-images-idx3-ubyte.gz\n",
            "Downloading https://ossci-datasets.s3.amazonaws.com/mnist/t10k-images-idx3-ubyte.gz to ../data/MNIST/raw/t10k-images-idx3-ubyte.gz\n"
          ]
        },
        {
          "name": "stderr",
          "output_type": "stream",
          "text": [
            "100%|██████████| 1.65M/1.65M [00:00<00:00, 4.46MB/s]\n"
          ]
        },
        {
          "name": "stdout",
          "output_type": "stream",
          "text": [
            "Extracting ../data/MNIST/raw/t10k-images-idx3-ubyte.gz to ../data/MNIST/raw\n",
            "\n",
            "Downloading http://yann.lecun.com/exdb/mnist/t10k-labels-idx1-ubyte.gz\n",
            "Failed to download (trying next):\n",
            "HTTP Error 403: Forbidden\n",
            "\n",
            "Downloading https://ossci-datasets.s3.amazonaws.com/mnist/t10k-labels-idx1-ubyte.gz\n",
            "Downloading https://ossci-datasets.s3.amazonaws.com/mnist/t10k-labels-idx1-ubyte.gz to ../data/MNIST/raw/t10k-labels-idx1-ubyte.gz\n"
          ]
        },
        {
          "name": "stderr",
          "output_type": "stream",
          "text": [
            "100%|██████████| 4.54k/4.54k [00:00<00:00, 4.88MB/s]"
          ]
        },
        {
          "name": "stdout",
          "output_type": "stream",
          "text": [
            "Extracting ../data/MNIST/raw/t10k-labels-idx1-ubyte.gz to ../data/MNIST/raw\n",
            "\n"
          ]
        },
        {
          "name": "stderr",
          "output_type": "stream",
          "text": [
            "\n"
          ]
        }
      ],
      "source": [
        "train_dataset = datasets.MNIST('../data', train=True, download=True, transform=transforms.ToTensor())\n",
        "test_dataset = datasets.MNIST('../data', train=False, transform=transforms.ToTensor())"
      ]
    },
    {
      "cell_type": "code",
      "execution_count": null,
      "metadata": {
        "id": "uGQ3JXQw3TIo"
      },
      "outputs": [],
      "source": [
        "train_loader = DataLoader(train_dataset, batch_size=256, shuffle=True)\n",
        "test_loader = DataLoader(test_dataset, batch_size=256, shuffle=True)"
      ]
    },
    {
      "cell_type": "code",
      "execution_count": null,
      "metadata": {
        "id": "ZaZBhB3wUYQj"
      },
      "outputs": [],
      "source": [
        "unet = UnconditionalUNet(1, 128)\n",
        "unet = unet.cuda()\n",
        "criterion = nn.MSELoss() # CrossEntropyLoss(), L1loss()\n",
        "optimizer = torch.optim.Adam(unet.parameters(), lr=0.0001)"
      ]
    },
    {
      "cell_type": "code",
      "execution_count": null,
      "metadata": {
        "colab": {
          "base_uri": "https://localhost:8080/",
          "height": 1000
        },
        "id": "5Xh-VIXattq9",
        "outputId": "e8e98626-130d-4fd0-f342-a7bdf83dca5c"
      },
      "outputs": [
        {
          "name": "stderr",
          "output_type": "stream",
          "text": [
            "  9%|▊         | 20/235 [00:08<01:19,  2.69it/s]"
          ]
        },
        {
          "name": "stdout",
          "output_type": "stream",
          "text": [
            "[1,    20] loss: 0.098\n"
          ]
        },
        {
          "name": "stderr",
          "output_type": "stream",
          "text": [
            " 17%|█▋        | 40/235 [00:16<01:12,  2.69it/s]"
          ]
        },
        {
          "name": "stdout",
          "output_type": "stream",
          "text": [
            "[1,    40] loss: 0.031\n"
          ]
        },
        {
          "name": "stderr",
          "output_type": "stream",
          "text": [
            " 26%|██▌       | 60/235 [00:24<01:06,  2.65it/s]"
          ]
        },
        {
          "name": "stdout",
          "output_type": "stream",
          "text": [
            "[1,    60] loss: 0.019\n"
          ]
        },
        {
          "name": "stderr",
          "output_type": "stream",
          "text": [
            " 34%|███▍      | 80/235 [00:31<01:01,  2.53it/s]"
          ]
        },
        {
          "name": "stdout",
          "output_type": "stream",
          "text": [
            "[1,    80] loss: 0.017\n"
          ]
        },
        {
          "name": "stderr",
          "output_type": "stream",
          "text": [
            " 43%|████▎     | 100/235 [00:39<00:56,  2.37it/s]"
          ]
        },
        {
          "name": "stdout",
          "output_type": "stream",
          "text": [
            "[1,   100] loss: 0.015\n"
          ]
        },
        {
          "name": "stderr",
          "output_type": "stream",
          "text": [
            " 51%|█████     | 120/235 [00:47<00:44,  2.58it/s]"
          ]
        },
        {
          "name": "stdout",
          "output_type": "stream",
          "text": [
            "[1,   120] loss: 0.015\n"
          ]
        },
        {
          "name": "stderr",
          "output_type": "stream",
          "text": [
            " 60%|█████▉    | 140/235 [00:55<00:38,  2.45it/s]"
          ]
        },
        {
          "name": "stdout",
          "output_type": "stream",
          "text": [
            "[1,   140] loss: 0.014\n"
          ]
        },
        {
          "name": "stderr",
          "output_type": "stream",
          "text": [
            " 68%|██████▊   | 160/235 [01:03<00:30,  2.50it/s]"
          ]
        },
        {
          "name": "stdout",
          "output_type": "stream",
          "text": [
            "[1,   160] loss: 0.014\n"
          ]
        },
        {
          "name": "stderr",
          "output_type": "stream",
          "text": [
            " 77%|███████▋  | 180/235 [01:11<00:22,  2.47it/s]"
          ]
        },
        {
          "name": "stdout",
          "output_type": "stream",
          "text": [
            "[1,   180] loss: 0.013\n"
          ]
        },
        {
          "name": "stderr",
          "output_type": "stream",
          "text": [
            " 85%|████████▌ | 200/235 [01:20<00:14,  2.36it/s]"
          ]
        },
        {
          "name": "stdout",
          "output_type": "stream",
          "text": [
            "[1,   200] loss: 0.013\n"
          ]
        },
        {
          "name": "stderr",
          "output_type": "stream",
          "text": [
            " 94%|█████████▎| 220/235 [01:28<00:06,  2.43it/s]"
          ]
        },
        {
          "name": "stdout",
          "output_type": "stream",
          "text": [
            "[1,   220] loss: 0.013\n"
          ]
        },
        {
          "name": "stderr",
          "output_type": "stream",
          "text": [
            "100%|██████████| 235/235 [01:34<00:00,  2.49it/s]\n",
            "  9%|▊         | 20/235 [00:08<01:31,  2.35it/s]"
          ]
        },
        {
          "name": "stdout",
          "output_type": "stream",
          "text": [
            "[2,    20] loss: 0.012\n"
          ]
        },
        {
          "name": "stderr",
          "output_type": "stream",
          "text": [
            " 17%|█▋        | 40/235 [00:16<01:22,  2.36it/s]"
          ]
        },
        {
          "name": "stdout",
          "output_type": "stream",
          "text": [
            "[2,    40] loss: 0.012\n"
          ]
        },
        {
          "name": "stderr",
          "output_type": "stream",
          "text": [
            " 26%|██▌       | 60/235 [00:25<01:15,  2.33it/s]"
          ]
        },
        {
          "name": "stdout",
          "output_type": "stream",
          "text": [
            "[2,    60] loss: 0.012\n"
          ]
        },
        {
          "name": "stderr",
          "output_type": "stream",
          "text": [
            " 34%|███▍      | 80/235 [00:34<01:07,  2.30it/s]"
          ]
        },
        {
          "name": "stdout",
          "output_type": "stream",
          "text": [
            "[2,    80] loss: 0.011\n"
          ]
        },
        {
          "name": "stderr",
          "output_type": "stream",
          "text": [
            " 43%|████▎     | 100/235 [00:42<00:57,  2.36it/s]"
          ]
        },
        {
          "name": "stdout",
          "output_type": "stream",
          "text": [
            "[2,   100] loss: 0.011\n"
          ]
        },
        {
          "name": "stderr",
          "output_type": "stream",
          "text": [
            " 51%|█████     | 120/235 [00:51<00:48,  2.38it/s]"
          ]
        },
        {
          "name": "stdout",
          "output_type": "stream",
          "text": [
            "[2,   120] loss: 0.011\n"
          ]
        },
        {
          "name": "stderr",
          "output_type": "stream",
          "text": [
            " 60%|█████▉    | 140/235 [00:59<00:40,  2.37it/s]"
          ]
        },
        {
          "name": "stdout",
          "output_type": "stream",
          "text": [
            "[2,   140] loss: 0.011\n"
          ]
        },
        {
          "name": "stderr",
          "output_type": "stream",
          "text": [
            " 68%|██████▊   | 160/235 [01:07<00:31,  2.39it/s]"
          ]
        },
        {
          "name": "stdout",
          "output_type": "stream",
          "text": [
            "[2,   160] loss: 0.011\n"
          ]
        },
        {
          "name": "stderr",
          "output_type": "stream",
          "text": [
            " 77%|███████▋  | 180/235 [01:16<00:23,  2.38it/s]"
          ]
        },
        {
          "name": "stdout",
          "output_type": "stream",
          "text": [
            "[2,   180] loss: 0.010\n"
          ]
        },
        {
          "name": "stderr",
          "output_type": "stream",
          "text": [
            " 85%|████████▌ | 200/235 [01:24<00:14,  2.37it/s]"
          ]
        },
        {
          "name": "stdout",
          "output_type": "stream",
          "text": [
            "[2,   200] loss: 0.010\n"
          ]
        },
        {
          "name": "stderr",
          "output_type": "stream",
          "text": [
            " 94%|█████████▎| 220/235 [01:33<00:06,  2.32it/s]"
          ]
        },
        {
          "name": "stdout",
          "output_type": "stream",
          "text": [
            "[2,   220] loss: 0.010\n"
          ]
        },
        {
          "name": "stderr",
          "output_type": "stream",
          "text": [
            "100%|██████████| 235/235 [01:39<00:00,  2.36it/s]\n",
            "  9%|▊         | 20/235 [00:08<01:32,  2.33it/s]"
          ]
        },
        {
          "name": "stdout",
          "output_type": "stream",
          "text": [
            "[3,    20] loss: 0.010\n"
          ]
        },
        {
          "name": "stderr",
          "output_type": "stream",
          "text": [
            " 17%|█▋        | 40/235 [00:17<01:22,  2.35it/s]"
          ]
        },
        {
          "name": "stdout",
          "output_type": "stream",
          "text": [
            "[3,    40] loss: 0.010\n"
          ]
        },
        {
          "name": "stderr",
          "output_type": "stream",
          "text": [
            " 26%|██▌       | 60/235 [00:25<01:13,  2.37it/s]"
          ]
        },
        {
          "name": "stdout",
          "output_type": "stream",
          "text": [
            "[3,    60] loss: 0.010\n"
          ]
        },
        {
          "name": "stderr",
          "output_type": "stream",
          "text": [
            " 34%|███▍      | 80/235 [00:34<01:05,  2.36it/s]"
          ]
        },
        {
          "name": "stdout",
          "output_type": "stream",
          "text": [
            "[3,    80] loss: 0.010\n"
          ]
        },
        {
          "name": "stderr",
          "output_type": "stream",
          "text": [
            " 43%|████▎     | 100/235 [00:42<00:57,  2.35it/s]"
          ]
        },
        {
          "name": "stdout",
          "output_type": "stream",
          "text": [
            "[3,   100] loss: 0.010\n"
          ]
        },
        {
          "name": "stderr",
          "output_type": "stream",
          "text": [
            " 51%|█████     | 120/235 [00:51<00:48,  2.38it/s]"
          ]
        },
        {
          "name": "stdout",
          "output_type": "stream",
          "text": [
            "[3,   120] loss: 0.009\n"
          ]
        },
        {
          "name": "stderr",
          "output_type": "stream",
          "text": [
            " 60%|█████▉    | 140/235 [00:59<00:40,  2.37it/s]"
          ]
        },
        {
          "name": "stdout",
          "output_type": "stream",
          "text": [
            "[3,   140] loss: 0.009\n"
          ]
        },
        {
          "name": "stderr",
          "output_type": "stream",
          "text": [
            " 68%|██████▊   | 160/235 [01:08<00:32,  2.31it/s]"
          ]
        },
        {
          "name": "stdout",
          "output_type": "stream",
          "text": [
            "[3,   160] loss: 0.009\n"
          ]
        },
        {
          "name": "stderr",
          "output_type": "stream",
          "text": [
            " 77%|███████▋  | 180/235 [01:16<00:23,  2.36it/s]"
          ]
        },
        {
          "name": "stdout",
          "output_type": "stream",
          "text": [
            "[3,   180] loss: 0.009\n"
          ]
        },
        {
          "name": "stderr",
          "output_type": "stream",
          "text": [
            " 85%|████████▌ | 200/235 [01:25<00:14,  2.36it/s]"
          ]
        },
        {
          "name": "stdout",
          "output_type": "stream",
          "text": [
            "[3,   200] loss: 0.009\n"
          ]
        },
        {
          "name": "stderr",
          "output_type": "stream",
          "text": [
            " 94%|█████████▎| 220/235 [01:33<00:06,  2.34it/s]"
          ]
        },
        {
          "name": "stdout",
          "output_type": "stream",
          "text": [
            "[3,   220] loss: 0.009\n"
          ]
        },
        {
          "name": "stderr",
          "output_type": "stream",
          "text": [
            "100%|██████████| 235/235 [01:39<00:00,  2.35it/s]\n",
            "  9%|▊         | 20/235 [00:08<01:30,  2.37it/s]"
          ]
        },
        {
          "name": "stdout",
          "output_type": "stream",
          "text": [
            "[4,    20] loss: 0.009\n"
          ]
        },
        {
          "name": "stderr",
          "output_type": "stream",
          "text": [
            " 17%|█▋        | 40/235 [00:17<01:24,  2.31it/s]"
          ]
        },
        {
          "name": "stdout",
          "output_type": "stream",
          "text": [
            "[4,    40] loss: 0.009\n"
          ]
        },
        {
          "name": "stderr",
          "output_type": "stream",
          "text": [
            " 26%|██▌       | 60/235 [00:25<01:14,  2.36it/s]"
          ]
        },
        {
          "name": "stdout",
          "output_type": "stream",
          "text": [
            "[4,    60] loss: 0.009\n"
          ]
        },
        {
          "name": "stderr",
          "output_type": "stream",
          "text": [
            " 34%|███▍      | 80/235 [00:34<01:05,  2.36it/s]"
          ]
        },
        {
          "name": "stdout",
          "output_type": "stream",
          "text": [
            "[4,    80] loss: 0.009\n"
          ]
        },
        {
          "name": "stderr",
          "output_type": "stream",
          "text": [
            " 43%|████▎     | 100/235 [00:42<00:58,  2.33it/s]"
          ]
        },
        {
          "name": "stdout",
          "output_type": "stream",
          "text": [
            "[4,   100] loss: 0.009\n"
          ]
        },
        {
          "name": "stderr",
          "output_type": "stream",
          "text": [
            " 51%|█████     | 120/235 [00:51<00:48,  2.35it/s]"
          ]
        },
        {
          "name": "stdout",
          "output_type": "stream",
          "text": [
            "[4,   120] loss: 0.009\n"
          ]
        },
        {
          "name": "stderr",
          "output_type": "stream",
          "text": [
            " 60%|█████▉    | 140/235 [00:59<00:40,  2.35it/s]"
          ]
        },
        {
          "name": "stdout",
          "output_type": "stream",
          "text": [
            "[4,   140] loss: 0.009\n"
          ]
        },
        {
          "name": "stderr",
          "output_type": "stream",
          "text": [
            " 68%|██████▊   | 160/235 [01:08<00:31,  2.35it/s]"
          ]
        },
        {
          "name": "stdout",
          "output_type": "stream",
          "text": [
            "[4,   160] loss: 0.009\n"
          ]
        },
        {
          "name": "stderr",
          "output_type": "stream",
          "text": [
            " 77%|███████▋  | 180/235 [01:16<00:23,  2.31it/s]"
          ]
        },
        {
          "name": "stdout",
          "output_type": "stream",
          "text": [
            "[4,   180] loss: 0.009\n"
          ]
        },
        {
          "name": "stderr",
          "output_type": "stream",
          "text": [
            " 85%|████████▌ | 200/235 [01:25<00:14,  2.35it/s]"
          ]
        },
        {
          "name": "stdout",
          "output_type": "stream",
          "text": [
            "[4,   200] loss: 0.009\n"
          ]
        },
        {
          "name": "stderr",
          "output_type": "stream",
          "text": [
            " 94%|█████████▎| 220/235 [01:34<00:06,  2.35it/s]"
          ]
        },
        {
          "name": "stdout",
          "output_type": "stream",
          "text": [
            "[4,   220] loss: 0.009\n"
          ]
        },
        {
          "name": "stderr",
          "output_type": "stream",
          "text": [
            "100%|██████████| 235/235 [01:40<00:00,  2.34it/s]\n",
            "  9%|▊         | 20/235 [00:08<01:31,  2.36it/s]"
          ]
        },
        {
          "name": "stdout",
          "output_type": "stream",
          "text": [
            "[5,    20] loss: 0.009\n"
          ]
        },
        {
          "name": "stderr",
          "output_type": "stream",
          "text": [
            " 17%|█▋        | 40/235 [00:17<01:22,  2.36it/s]"
          ]
        },
        {
          "name": "stdout",
          "output_type": "stream",
          "text": [
            "[5,    40] loss: 0.008\n"
          ]
        },
        {
          "name": "stderr",
          "output_type": "stream",
          "text": [
            " 26%|██▌       | 60/235 [00:25<01:16,  2.28it/s]"
          ]
        },
        {
          "name": "stdout",
          "output_type": "stream",
          "text": [
            "[5,    60] loss: 0.009\n"
          ]
        },
        {
          "name": "stderr",
          "output_type": "stream",
          "text": [
            " 34%|███▍      | 80/235 [00:34<01:05,  2.36it/s]"
          ]
        },
        {
          "name": "stdout",
          "output_type": "stream",
          "text": [
            "[5,    80] loss: 0.009\n"
          ]
        },
        {
          "name": "stderr",
          "output_type": "stream",
          "text": [
            " 43%|████▎     | 100/235 [00:42<00:57,  2.35it/s]"
          ]
        },
        {
          "name": "stdout",
          "output_type": "stream",
          "text": [
            "[5,   100] loss: 0.008\n"
          ]
        },
        {
          "name": "stderr",
          "output_type": "stream",
          "text": [
            " 51%|█████     | 120/235 [00:51<00:49,  2.33it/s]"
          ]
        },
        {
          "name": "stdout",
          "output_type": "stream",
          "text": [
            "[5,   120] loss: 0.008\n"
          ]
        },
        {
          "name": "stderr",
          "output_type": "stream",
          "text": [
            " 60%|█████▉    | 140/235 [00:59<00:40,  2.35it/s]"
          ]
        },
        {
          "name": "stdout",
          "output_type": "stream",
          "text": [
            "[5,   140] loss: 0.008\n"
          ]
        },
        {
          "name": "stderr",
          "output_type": "stream",
          "text": [
            " 68%|██████▊   | 160/235 [01:08<00:31,  2.35it/s]"
          ]
        },
        {
          "name": "stdout",
          "output_type": "stream",
          "text": [
            "[5,   160] loss: 0.008\n"
          ]
        },
        {
          "name": "stderr",
          "output_type": "stream",
          "text": [
            " 77%|███████▋  | 180/235 [01:16<00:23,  2.35it/s]"
          ]
        },
        {
          "name": "stdout",
          "output_type": "stream",
          "text": [
            "[5,   180] loss: 0.008\n"
          ]
        },
        {
          "name": "stderr",
          "output_type": "stream",
          "text": [
            " 85%|████████▌ | 200/235 [01:25<00:14,  2.36it/s]"
          ]
        },
        {
          "name": "stdout",
          "output_type": "stream",
          "text": [
            "[5,   200] loss: 0.008\n"
          ]
        },
        {
          "name": "stderr",
          "output_type": "stream",
          "text": [
            " 94%|█████████▎| 220/235 [01:33<00:06,  2.35it/s]"
          ]
        },
        {
          "name": "stdout",
          "output_type": "stream",
          "text": [
            "[5,   220] loss: 0.008\n"
          ]
        },
        {
          "name": "stderr",
          "output_type": "stream",
          "text": [
            "100%|██████████| 235/235 [01:40<00:00,  2.35it/s]\n"
          ]
        },
        {
          "name": "stdout",
          "output_type": "stream",
          "text": [
            "finished training\n"
          ]
        },
        {
          "data": {
            "image/png": "[encoded data removed]",
            "text/plain": [
              "<Figure size 1000x600 with 1 Axes>"
            ]
          },
          "metadata": {},
          "output_type": "display_data"
        }
      ],
      "source": [
        "num_epochs = 5\n",
        "sigma = 0.5\n",
        "losses = []\n",
        "steps = []\n",
        "step_counter = 0\n",
        "\n",
        "for epoch in range(num_epochs):\n",
        "  running_loss = 0\n",
        "\n",
        "  progress_bar = tqdm.tqdm(train_loader)\n",
        "\n",
        "  for i, data in enumerate(progress_bar):\n",
        "    clean_images, _ = data # labels not used here\n",
        "\n",
        "    clean_images = clean_images.cuda()\n",
        "\n",
        "    epsilon = torch.randn_like(clean_images)\n",
        "    noised_images = clean_images + (epsilon * sigma)\n",
        "\n",
        "    # Forward pass\n",
        "    noised_images = noised_images.cuda()\n",
        "    optimizer.zero_grad()\n",
        "    outputs = unet(noised_images)\n",
        "\n",
        "    # Calculate loss\n",
        "    loss = criterion(outputs, clean_images)\n",
        "    loss.backward()\n",
        "    optimizer.step()\n",
        "\n",
        "    item = loss.item()\n",
        "    running_loss += item\n",
        "    losses.append(item)\n",
        "\n",
        "    steps.append(step_counter)\n",
        "    step_counter += 1\n",
        "\n",
        "    if i % 20 == 19:    # print every 20 minibatches\n",
        "        print('[%d, %5d] loss: %.3f' % (epoch + 1, i + 1, running_loss / 20))\n",
        "        running_loss = 0.0\n",
        "\n",
        "print(\"finished training\")\n",
        "plt.figure(figsize=(10, 6))\n",
        "plt.plot(steps, losses, label='Minibatch Loss', alpha=0.8)\n",
        "plt.xlabel('Step')\n",
        "plt.ylabel('Loss')\n",
        "plt.title('Minibatch Loss vs. Step')\n",
        "plt.legend()\n",
        "plt.grid(True)\n",
        "plt.show()"
      ]
    },
    {
      "cell_type": "code",
      "execution_count": null,
      "metadata": {
        "colab": {
          "base_uri": "https://localhost:8080/"
        },
        "id": "9a335JA0LoJf",
        "outputId": "38a5b0c0-a332-4b59-a318-943b86a03235"
      },
      "outputs": [
        {
          "name": "stderr",
          "output_type": "stream",
          "text": [
            "<ipython-input-10-697ffc0106f8>:2: FutureWarning: You are using `torch.load` with `weights_only=False` (the current default value), which uses the default pickle module implicitly. It is possible to construct malicious pickle data which will execute arbitrary code during unpickling (See https://github.com/pytorch/pytorch/blob/main/SECURITY.md#untrusted-models for more details). In a future release, the default value for `weights_only` will be flipped to `True`. This limits the functions that could be executed during unpickling. Arbitrary objects will no longer be allowed to be loaded via this mode unless they are explicitly allowlisted by the user via `torch.serialization.add_safe_globals`. We recommend you start setting `weights_only=True` for any use case where you don't have full control of the loaded file. Please open an issue on GitHub for any issues related to this experimental feature.\n",
            "  state_dict = torch.load('./checkpoint.pt')\n"
          ]
        },
        {
          "data": {
            "text/plain": [
              "<All keys matched successfully>"
            ]
          },
          "execution_count": 10,
          "metadata": {},
          "output_type": "execute_result"
        }
      ],
      "source": [
        "torch.save(unet.state_dict(), './checkpoint.pt')\n",
        "state_dict = torch.load('./checkpoint.pt')\n",
        "unet.load_state_dict(state_dict)"
      ]
    },
    {
      "cell_type": "code",
      "execution_count": null,
      "metadata": {
        "colab": {
          "base_uri": "https://localhost:8080/",
          "height": 1000
        },
        "id": "3iO1uEiXit_r",
        "outputId": "2e20edbb-556a-403a-f50d-c860ef207a7e"
      },
      "outputs": [
        {
          "data": {
            "text/html": [
              "<table class=\"show_images\" style=\"border-spacing:0px;\"><tr><td style=\"padding:1px;\"><img width=\"200\" height=\"200\" style=\"image-rendering:pixelated; object-fit:cover;\" src=\"data:image/png;base64,iVBORw0KGgoAAAANSUhEUgAAABwAAAAcCAIAAAD9b0jDAAABo0lEQVR4nO2UPYvCMBjHc8cRii1qyeaiBRexXRTRwcHJxd3JD+Ckkzi5Orq5iYouHesXcBIcnVyCL4irotZS39MbCkU8vMuFG27wNyZ5fvwf8iQAvHjxp7wx1EAI/X4/ACAcDkciEZ7nL5dLvV5fLpe/kEII8/l8JpPBGIdCIZ7n4/H4w5ndbtfpdIrFIlUuhJCqqoSCfr9PZeQ4bjgcWpb1TGRvzWazZrPpdrvtqo/vu26324lEwrIse+V2uxmGAQAYj8f7/X40GnW7XdM0dV3fbDZUMQuFwn2oxWKRTqepKp8hSZJhGE6DhJD1eq2qKk3t+7MNWZZdLhcAwOldFEWfzxcIBNiTchyXzWYPh8PDzVSrVUajJEkIIQCAx+MJBoPJZHK73RJCTNNUFIXFGIvFMMaTyaTVasmybC9WKhVCiK7r5XKZRXo+n51mV6tVKpVSFOV0OhFCjsdjNBplkfZ6PU3Trtfr11HHGHu9XhapTa1Wu38zNo1GA0LILhUEoVQqTadTxzifzynn6YdfCiEkimIulxMEYTAYaJrGHvPFv+MTfGE8hw1xjJUAAAAASUVORK5CYII=\"/></td><td style=\"padding:1px;\"><img width=\"200\" height=\"200\" style=\"image-rendering:pixelated; object-fit:cover;\" src=\"data:image/png;base64,iVBORw0KGgoAAAANSUhEUgAAABwAAAAcCAIAAAD9b0jDAAABeklEQVR4nO2UoavCQBzHjweyiRwyTCeI4PJYWFwxLBgU7IaFIRaDbf/EmsGyZFtbHDMKgiBLIoYhImexTIPBsJ+G4w3e4/F8eEvvvU86uLsPX7734xD65/dgmuZ6vQaAMAyr1SqvDmMcRREApO/4vv/01tv326VSSVXV7XbrOM5yuUQIiaLIm1QQhMFgQAiRJGm/36dpGgQBr5ShKMpqtQIAADAMIwejYRjX65UVOplMfnLlSacIoeFwWCwW2VqW5V6vV6lUuGIihAghcRxnrw8A5/PZ931CCK9a07R+vx8EQVZuHMe80gxBECzLYqk1TfvyzPNOP3G73WazWZIk3PE+0u12WdLcjKZpsk4ppTnoCoXCeDxmM7tYLMrlMq+x2WzO53M2UlEUZZP7OrZt73Y71qPnefV6/XUXxng0Gh2Px/v9DgCbzUbXda50rVbrcDiwdJfLxXXdWq3GZWy32+xjPp1O0+m00Whw6Ri6rlNKO50OxjgH3R/jAVPX03hVSdAhAAAAAElFTkSuQmCC\"/></td><td style=\"padding:1px;\"><img width=\"200\" height=\"200\" style=\"image-rendering:pixelated; object-fit:cover;\" src=\"data:image/png;base64,iVBORw0KGgoAAAANSUhEUgAAABwAAAAcCAIAAAD9b0jDAAAB8UlEQVR4nO2Ur6vyYBTH97pNN4tJwQWLYlFQEHEMLCKCQRAsLojVP0EEk0GwmTQYZAhLRhGLBhGGyV9tcSIIigyVDeXoDQPfi+/Ve3e96fJ+4jlnn+d7NvYgyH9+FSRJut1uFEVJkuR5/nq9SpJkt9u/b8RxvNlsAkA2m61UKgBwPB5Ho5HH4/lw3vBch2EYy7Kz2SyTyVwul81m43A4EATZbrfRaJRhGN1SiqLm83mr1XK5XP1+PxaLdTqdW1dRFIIgPtnxjnA4LIoiAABAoVDQiiaTaTgcAkC1WrVarel0WoeRoqjJZAIA5/M5kUigKKrVbTabdkypVBIEgWVZHdJaraYZ8/n8+zrLspp0sVjIsux0Or9qxHF8tVoBwH6/v2vxPK9JD4dDsVjUEdNoNCqKAgCqqjIMg2HYrb7b7TRpu93WYdTQ1tfodrscx3Ecp30iAFiv1z6fT7c0EAgMBgN4QKPReP74n0cNHMctFksul0ulUpIkjcdjmqbj8TiCINPplKbp0+mkO+y/CIJwC2s2m59MfvKbfki5XFZV9bvZ3hEMBs/nsxbT7/ejKGq1Wh8NfzWpwWAwGP4OJ5NJnudfTRoKhW4vVBRFWZYjkchPSgGgXq+/aryT9nq92xXzEgRBcBwHAMvl0uv1/oDx9/IGt+UyTCrxSeoAAAAASUVORK5CYII=\"/></td><td style=\"padding:1px;\"><img width=\"200\" height=\"200\" style=\"image-rendering:pixelated; object-fit:cover;\" src=\"data:image/png;base64,iVBORw0KGgoAAAANSUhEUgAAABwAAAAcCAIAAAD9b0jDAAAB90lEQVR4nO2Uz6sxURjH5+oVZUFmLImJLPwDSlhQFlMi1hZ+7CR/gCxla2dv4S+YIgvJYiYWVmMM+RFZTI2SRNGceRenTrc73sHt1ru5390853M+85xnToNhv/nvicViiqIwDGOxWH5Ah+N4uVy+XC4AAADA4XCoVqt2u/37RpvNViqVgCrb7TaZTH7HSBBEp9OBFlmWGYZZLpfIy7Ls20az2dzr9eB+QRASiQSGYSRJchwHi5IkvTdfo9E4GAzg5vl87na70RJJktPpFC5VKpU3jMPhEG5bLBYul+sLEA6H0RBeMlIUhXrked7hcKgZnU5H0/SrUoIgRqMRMjqdzoeY3+9HN+yJMRQKCYKATv2wR5h8Po8+oJYRx/FutwvR8/msniNKMBg8Ho8AgNvtlslktKSfb086ndYgU6kUJEVR1DJGIhE4I1mW4X38VwwGQ6vVgmSz2dSSooMzDKPFYdjpdIJko9HQJjFFUQAA6/Xa5/M9BKLRaLFYREYAAEVRauyPuiRJEhyTXq+Px+OoXigUAoGAyWSCj/v9vt1u9/v9J52uViv4fo7jWJYdj8fq3xIAYLPZ1Ot1j8fzRAeTy+Xu9/tDEcxut6vVal6v9yUdymw2U3uv16soipPJhCTJVyQf6lI2m7VarZ8rPM/TNP1ed7/52fwFJ720Spj9jL4AAAAASUVORK5CYII=\"/></td></tr></table><table class=\"show_images\" style=\"border-spacing:0px;\"><tr><td style=\"padding:1px;\"><img width=\"200\" height=\"200\" style=\"image-rendering:pixelated; object-fit:cover;\" src=\"data:image/png;base64,iVBORw0KGgoAAAANSUhEUgAAABwAAAAcCAIAAAD9b0jDAAABYUlEQVR4nO2TIYyDMBSGCznF7GoHtrqaWTK3YEFXzy6zaJKpLrPIBY3Fk7lt4DErCXpmD040qWB32400p/bEL5r2y9fXV4Q+9Z9FKQ3DME1TANjtdqvVilJqWdZI3GazKYoCAO73+yBPp5Pv+2OgTdMAQN/3ANB13SCbpqGUvg2llF6vV2V3OBw8z+Occ87lep7nY2QJIXEcu647WGeMSd8x0N+KMSZvoI04mUzO57M0JYTogUZRpCZBDxFjrGYgCAI90CzLpKMQYjabaSBGUSQdhRB6ukkIUTPLOddAtG1bCCG7mSTJdDrVAA3DUP0rPUSE0OVyAYAsy/TgEEK+78tuPjrO53PG2I+P9vUcijE2TTNNU8dxbNvGGC+XS5mmaXZd17btYrE4Ho9vmKqf/iQf5+GF6X6/9zxPecm83W5lWcoNhmHUdT04ZbyUtSxrvV67rqtA2+22qqo/3fRTuuobkuMj1qctaiwAAAAASUVORK5CYII=\"/></td><td style=\"padding:1px;\"><img width=\"200\" height=\"200\" style=\"image-rendering:pixelated; object-fit:cover;\" src=\"data:image/png;base64,iVBORw0KGgoAAAANSUhEUgAAABwAAAAcCAIAAAD9b0jDAAABt0lEQVR4nO3VPWvCQBgH8EuRHOocMLMiGXwZnTPFgHvAL+EYEPwGLoGIURdX9wyCgigIDurgVBcXDYJB1PiOF9LhMJRWLSQZCu1/OpInv+eOI3cA/OkQP1bE43FBEPC41+v1+/3j8ei2baVSQfeYpmkYhiRJLMtCCJ2joii+32Oapt2gVqv5/X63UwYAZLPZ4XC4Wq2wWywWPUBxOI7DqKqqDwveHKCz2ex1gROUYRgHX70KRVGbzQYvP5PJeCCSJKmqKhYlSSJJ0gN0v99jUdO0aDTqygoGg/l8/nK5WJaFECqVSq44CCHLsuv1Gk9wt9vJsuxKTKVSzWbT/oXq9XoikXDO0TTdaDQ0TcPcZDJRFMXn8zkXk8lkp9PBnK7r5XI5EAg45wAAsVhsPp9jcTAYcBz3up6maZ7nC4VCt9u1H35dUavVoigKj9vt9ul0AgDwPL9YLBiGIQjCsiy7OBwOp9Pp5XI5Go1yudzTzp8PN4SQYRjT6fR8Puu6js/T8XiMX1Wr1UgkEgqFviNfT35BEERRfLbLsiwfDofb7aYoyna7vV6vD8seXCcQwmcb7cFF8p9flA9xThe9JWJ0VgAAAABJRU5ErkJggg==\"/></td><td style=\"padding:1px;\"><img width=\"200\" height=\"200\" style=\"image-rendering:pixelated; object-fit:cover;\" src=\"data:image/png;base64,iVBORw0KGgoAAAANSUhEUgAAABwAAAAcCAIAAAD9b0jDAAABtUlEQVR4nO2UPY8BQRjH985LYmJJbIxKlJQaGoXo+QA+gAJRaWyz0YlGyxQ65RYSlUQlTIOeSEgkKhEkgvAMV+zd5W4jtxknV92vm+T//PLM2yMI//w9Pp+vUCgwxur1+vV6bTabfr//cZ3T6azVaofDAT5gjAEAIeRBIyFkOp3CdzTparWy2Wx8OqvVOhqNNEuv15NlORQKIYQQQpFIpNVqAUA2m+UwYow7nQ4AHI9HRVEkSdIF0uk0ACCEOKSSJGm7zmQydwOEEEOpWbcWRRFjHI1GKaV3CzweDwBwtGlIIBCYz+eGt//KJS2Xy16v1zDGJ43H41x5YxRFud1uqqo+zeh2u5fLJWMskUg8TSrLMgAsFgtRFJ9jTKVS5/P5h8er48UwYTKZVFXVdm02v79ri8WizSq73S4IwmazmUwmHG0mk0ltDgyHw2q1SimllA4Gg+12u9vtAGC9XufzeQ5jMBjUKr9OKQC4XC6n02m/35dKJZfLxWEUBIFSenf0VSqVWCyGMb5bpf/7OmazWTgc/lw2Go1ut9vv98fjMV93X9EOtN1u53K5YrHocDged/3zG94A4lwNFcdALv0AAAAASUVORK5CYII=\"/></td><td style=\"padding:1px;\"><img width=\"200\" height=\"200\" style=\"image-rendering:pixelated; object-fit:cover;\" src=\"data:image/png;base64,iVBORw0KGgoAAAANSUhEUgAAABwAAAAcCAIAAAD9b0jDAAAB/0lEQVR4nO2UP+uqUBjHD5cwFKTN0MlJirZqccmppaEtyFeg0FQNbRENTQW11AuoxSkRnBoiSCjsDw1GtFk6FERTm4fuIDck6pLd4S6/7/RwfPyc5zznOV8AfvRfRFFUq9Uaj8e2bUMIZVnmOA7DsEAg8CWRZdnJZAIhdP5oOBx2u11N02q12stffv2dyHFcJpOJx+ObzabZbK5WKwCAqqqXy+V2u5XLZZ7n/dVIUdRoNAIAkCSJ43ihUBgMBpFIBAAQDAYRBDFN83A4MAzjA9rv9x+xKIoQwnQ67U2Yz+f3+13TNB/QYrHoBolEwu3pcrnEcdx7FAjhdDr1ASVJ0g1M04QQnk6nVCr1tKtv6EOmaeq63ul0ntZxHBcE4RtoOBxeLBalUunl12g06q+nAACGYQRBQFH03RXvdjvflbbbbVVVvZfjFc/zvnsqy/J+v4/FYu8SDMOwLIsgiI9wGIbZtn29XvP5/MsEmqYVRYEQ+hj+XC7nOM5sNntHrFarlmUdj0cfz8mFPob/SYqiuM6STCY/JQIAGo2G4ziGYTyt8zxvGIb7urbbbSgU+pRI07Trm97ZFEVR13UIoeun73r9VizLuqdbr9eSJEmSVKlUHn7a6/X82ZIrhmHO57PjOF5jduexXq8jCOKb6IogCMuyvNVls1kURb/E/ejf9RvjfDD4gnSfHQAAAABJRU5ErkJggg==\"/></td></tr></table><table class=\"show_images\" style=\"border-spacing:0px;\"><tr><td style=\"padding:1px;\"><img width=\"200\" height=\"200\" style=\"image-rendering:pixelated; object-fit:cover;\" src=\"data:image/png;base64,iVBORw0KGgoAAAANSUhEUgAAABwAAAAcCAIAAAD9b0jDAAABuUlEQVR4nO3Tv6riQBQG8FFuiAEFZSq1s1KLgPoCFtqJpLGwsbO08iVEq9iEWIh5CAVtBRvBQoIiQTv/gImoTWzOyRZhw+Xubu7dbIot7lcN35z5McUMId/5cyilsiwbhoGIlmXNZrNIJOKdYxhGEATDMOBnEBEA+v2+d1EURRu63++iKPI83+l0AOByubAs6wUVBMG+3Xw+T6fTdkkp1XUdAMrlshe0VCpdr1dJkj70q9UKERVF8YISQmKx2K9lt9sFgNFo5BH9bTabDQDUajU/0dPppOs6pdR9LPh1kVLKsuxwODQMwze02WxGo1HLsj6d/As0k8kQQrbb7dePfJ7j8ahp2j990w+RJAkR2+22b2K9XjdN8/F4JJNJf0SGYVRVBYBWq+WPSAgZj8cAMJ1O4/G4P6Isy4iIiI1G432fSCSKxWK1WlUUZb/fIyLP885uwEUsFArL5dJ+mK/X6/l8Oo+U47hwOBwMBgkhgUDAsqxcLrder+3dNxe0Uqk461AoxHGcg9oQIcQ0zd1u1+v1NE1zht3QwWCQSqXy+Xw2m33fHw6HxWJxu90mk8n5fFZV1QX5zn+cHwns3Wh/4cXKAAAAAElFTkSuQmCC\"/></td><td style=\"padding:1px;\"><img width=\"200\" height=\"200\" style=\"image-rendering:pixelated; object-fit:cover;\" src=\"data:image/png;base64,iVBORw0KGgoAAAANSUhEUgAAABwAAAAcCAIAAAD9b0jDAAABrUlEQVR4nO2TPYvCMBjHgy1OpuAqFQVfoE5CB7GTQzfBwaG+4FZ0dfNbiJ27uDoJrZvg4gc4EbcOglgVB4UKgkgbb8idiFU8o8tx9xuTJz+e5PkHgH9+N7Isny4wDKPRaHAcR27s9XqHwwG5aDabhMZMJrPf7xFC4/FY13Vd11OplCzLCKHj8VipVB4aaPfSZDLRNI1hmGq1ulqt8CLDMAAAmqb9fj+JdLPZlMvlm9W2be92u4fSHwEhVFUVIaQoynuM6XTasiw8qFKp9KrO6/XW6/VzDEzTfClSAIBQKLRYLK4iNZ1Oi8UiuTQSibhzihByHGc0GiWTSRIpy7If3+TzeVEURVEcDAZYPZ/PeZ4nb/kSQRA6nQ72zmazaDT6Hi9FUZqmYa8gCO+RYrrdLp5bLBZz73rIpP1+HwAQDofj8fhL3Z3hOM40TfwC2WzWXXDj79/D5/PxPJ/L5SRJCgQCAADLsrbbLWFfiURCVdXhcHgZWMMwJEl6zkVRVDAYbLfbtm1f5X+9XtdqNQjhvbN3rw8hLBQKLMt6PF/DXC6XiqI4jtNqtZ5r8I/xCVaKINxzSRMGAAAAAElFTkSuQmCC\"/></td><td style=\"padding:1px;\"><img width=\"200\" height=\"200\" style=\"image-rendering:pixelated; object-fit:cover;\" src=\"data:image/png;base64,iVBORw0KGgoAAAANSUhEUgAAABwAAAAcCAIAAAD9b0jDAAABoElEQVR4nO2UrYsCQRiHf3ccfmGQrZoEgwY/ml9BTGJQEPwDDEaTWDXYXCw2i8G60aJRwWyxaRERFj9AYWy7zoWFcc4791b3ynH3pJmdfZ/3nZl3F/jn7/KivzyZTBKJBIBOp3M+nxVFabfbbNXr9RaLRQDxeDyXyxFCDOUcj8cKh6qqyh2azSaLetWXSpIky7Kh/BzfbB+Ax+OJRqMAYrFYKpWilFqtVr/fz78zn89LpdJsNns0/ZV0Os1vfLPZCILwvA5AIBAYDofM2O12fT6fKaPD4ZBlmTfa7XZTxlAotFwuNd12u200GveMehfldrsLhQKb1ut1QRAopcfjMZ/PT6fTZ+oihNw0o9anvV7vYZ1GJBJRP0Ep5afJZPLLWL3mpx8hhFwuF/7JvcA3g4VLkiSKYjAYBJDNZgkh6/V6sVgYDAeAcDg8Go20c9zv9+Vy2WazPRD/GYvFMhgM2OWIomhKp1Gr1Zix3+87nU6zxkqlwr6ZnzECOBwOrMxMJvOc5LalXC6XNtjtdqvVykx9V1qt1ul0qlarZv8Uv4N3mgREbtcqfy8AAAAASUVORK5CYII=\"/></td><td style=\"padding:1px;\"><img width=\"200\" height=\"200\" style=\"image-rendering:pixelated; object-fit:cover;\" src=\"data:image/png;base64,iVBORw0KGgoAAAANSUhEUgAAABwAAAAcCAIAAAD9b0jDAAABrklEQVR4nO2Tr8vqYBTHz90E1yxaHMrA7BA0LlgMMmHJZDNoEqy6KCwabCJiF0yCFrH6FyjCQFBmGf4AURmO73yDXMvFd/dO0+X9tPOc83z4wnkeoh/+E1iW7fV6juPc7/dGo/EBo6Ios9kMAADHcSzLSqVSbxkjkYhpmgAWi0WtVtN1HUCr1fJuzGQym80GwHw+53meiCqVCoDxeOx6l3nV4DjO7/fv93tZlrfbLREdDgciisfj3qXD4VCSpH6/v9vtXC3eKRQKAAzDcJ18mfRPRFEkotFo9DGpLMv5fJ6I1uv1Z6TtdnswGAiCYNs2x3F/sysX6vW64ziPH+X8RtM0hnkZ6JerNJ1OBwKBUCjEsmwymYzFYpIk+Xy+UqnU7XbfjfxkMpkAUFX11cA/bP+JruvfD7hLRVFMJBLPMhwOZ7NZIjqdTh4CERFFo1HDMIrF4vNEVVUAy+UyGAx6lJbLZQDNZvNRKopyuVwAVKtVj0YiEgTheDxer9dcLsfz/Gq1AmCaZigU8i4lok6nA8CyrPP5DGA6nQqC8JaRiBiG0TTtdrvZtv39m//hwRdH3sxtjfXbmgAAAABJRU5ErkJggg==\"/></td></tr></table><table class=\"show_images\" style=\"border-spacing:0px;\"><tr><td style=\"padding:1px;\"><img width=\"200\" height=\"200\" style=\"image-rendering:pixelated; object-fit:cover;\" src=\"data:image/png;base64,iVBORw0KGgoAAAANSUhEUgAAABwAAAAcCAIAAAD9b0jDAAABoUlEQVR4nO3Vr8vCQBgH8OfG0DDFFRVMJlEEi4ZFBYNlpkXRpkGMRhHDmlgsIiYN4h8w8E+wiAabFvEXKDIsE8WdBuG4YPDeSy/v+43H7rPvPdsYwH/+btD3lzocDr/fn0ql9vt9IBAIBoOaphmGUa/X7/c7420RUhSl2Wwul0v8KbVajU2UJCmXy320SI7HYyQS+VZ0uVy6rtP7d7udruvX65WsWJZVqVQYapbLZbJ5u91Wq1VZlkulkm3bZD2fz7OdvdVqPZ9PjPFms8lmswCgKMr5fCZip9MRRZENjUajq9XKtu1GowEAHo9nMpkQ0TRNr9fLJr7j8/ni8TgACILQ6/Xo+abT6Z+IdJLJJC0Oh0NeMZFIrNfr93wxxtPpVBAELhEhZBgG6Xi5XFRV5a2ZyWTog49GI14xFovRr3q323U6nbzobDYj4mKx4B2lKIr9fv92u5EPPBQK8XZst9uk4+PxKBQKvKKmaZZlEXQ8HvOK4XCYfjiDwUCSJF5UVVXTNN/i4XBwu928IgDIsjyfzzHGp9OpWCwixPDL+W15AXzsbbGV336uAAAAAElFTkSuQmCC\"/></td><td style=\"padding:1px;\"><img width=\"200\" height=\"200\" style=\"image-rendering:pixelated; object-fit:cover;\" src=\"data:image/png;base64,iVBORw0KGgoAAAANSUhEUgAAABwAAAAcCAIAAAD9b0jDAAAB+klEQVR4nO2UPajiQBSFM+vKU0RBhTFY2YoKolgEBK0CUSJYWaq1TRqxt5NgZyuCnRaWsdJGsAsWCmkkBGwiEQkkphCjWwyblV1/1ie71TtVzs29H2cymcGwL/1nQQhZlu31eoPBYLvdmqZ5uVxkWa7Vana7/TPEYrGo67ppmqcrWbbRaLxMTCaTqqpeU2az2Xg8nk6nyG42G6/X+xqUJEk0fDgcWJaNxWJOpxPDMBzHrdT1ev3m7Pen9Far1Ww2b76SJOlm/ds91vF4NE0TAGAYxnWdoigAAABgsVhwHPc00+/K5/P7/b5cLluVXC5nfWKWZV8mImUyGeuZIAie5xF0OBy63e5PQq+Juq6jn0FRlGg0+i4xEonsdju0almWfT7fu8RSqWT+lKZp7+KQVqsVyqgoSjqdfhcXDAZHo5G13TRN3+v0+/0kSX58fDwhEgQhSZK1MzRNoxN1UwzDnE6n5XL5iAgh5HkeBdQ07cGqXS7XZDIxDAM1o+KNY2qz2TqdTjweR7bdbq/XaxzHrQaKosLhMIZhqVQqm82ez2dULxQKd2NWq9Wbd90Dq6oqwzAOh+MuVBTFv4cKgtDv9xOJxDUB/AlF1/uvDgCQFUVxPp9bVhAEjuNkWVYU5W5AS5VKBaXodruhUCgQCEAIIYQej+f58Jf+kX4Aq6iWUCWIKe8AAAAASUVORK5CYII=\"/></td><td style=\"padding:1px;\"><img width=\"200\" height=\"200\" style=\"image-rendering:pixelated; object-fit:cover;\" src=\"data:image/png;base64,iVBORw0KGgoAAAANSUhEUgAAABwAAAAcCAIAAAD9b0jDAAABjklEQVR4nO2UMYvCMBiGvztbFfwFrgoOgouTW50EXd3FWTfbpYtzOziIYN38A0UHS/+BizgILi4OQgalUrDgUkjjUE5C7ZHe5YaDu2cq4eXJ2yZfAf75u7wljyqKIooiAPR6PUKIYRiWZe33+69JW61WoVAAgEajUa/Xc7lcJDCbzfr9PrtOsVjUNA0hhBC63+/4gyAI8Au+73e73VeJEDFallUqldibAwBAKpV6rR+VNpvNWOPxeDydToSQfD5fLpeZmwmxq57nHQ6H8EHX9VAKAJ1OZz6fP2O+718uF4bUtm2EEAA4jrNer5mNHMcxTZMZY7BareiDGo1GsbH35EZJkiRJold2ux2vVJbl2LPmwvO8gGI6nfIaFUWhv+ZmsxGE+JuTlGq1ervdaClvTVEUTdOkx/R8Plcqle8bs9nsZDKJzL5hGFw1a7Va5IdyvV6TTOqnZDKZ5XIZugghGGPXdcfjMVfN4XD4fOVQymsEgMViQUsHg8EPXP52u73dbjHGtm2rqppOp3mNv44HONUsMpEdn1gAAAAASUVORK5CYII=\"/></td><td style=\"padding:1px;\"><img width=\"200\" height=\"200\" style=\"image-rendering:pixelated; object-fit:cover;\" src=\"data:image/png;base64,iVBORw0KGgoAAAANSUhEUgAAABwAAAAcCAIAAAD9b0jDAAAAyElEQVR4nO2UUQrEIAxE3aX3So42nix6su5HaCq6piqFZaHvSzCOYxwN4eEveK0tY2ZmDiEAuMEFM4vIfnCznKJ+V7QA7H3mdAG01lpEZEKxWgwAgPmygom7Kte0Byy3XGxrJVf2ZOLsjspiNyucK+p1c7sUTSnlnHWQUgpHYBc9OmhDetLvBUV7+D1OUUvJiKgOtC0e4xdqYbhO6GVd9Qk4D+n8T0XEFGOMVR0R2azmYeh1MrMTyRGDX5wqAIjItlHLltCHn/EBFRReAfd27kgAAAAASUVORK5CYII=\"/></td></tr></table>"
            ],
            "text/plain": [
              "<IPython.core.display.HTML object>"
            ]
          },
          "metadata": {},
          "output_type": "display_data"
        },
        {
          "data": {
            "text/html": [
              "<table class=\"show_images\" style=\"border-spacing:0px;\"><tr><td style=\"padding:1px;\"><img width=\"200\" height=\"200\" style=\"image-rendering:pixelated; object-fit:cover;\" src=\"data:image/png;base64,iVBORw0KGgoAAAANSUhEUgAAABwAAAAcCAIAAAD9b0jDAAAEAklEQVR4nHVWPUszTRSdr81u2MTsBhMFizRBzdP4QboUaiMIkXQBf0FA/AFi44/wFwgWFlYWASsb0ykBQSGksIuJaIJuvnYzs/sWN+842TzPFnJnGO8958y5d4KTyaQQAiGEEMIYB0GAZj91E2OMEPrXUm4S3/flOpj7EEJwQMZyXz0vY9hnapEgCNTiEiPsy/hfYCFGCJHQObVgqJ6aRQ3UGI4RFdH8OYyxuhmqDbEQIggCUAYOs78qPZ9C0gQEhBAIGGOEEJAbYwx/WSiXSmTKhRBK6WQyoZQKISKRiBCCEOJ5nqZp/X5f5oIyGGOcSCTUewipQymF23ddFzgSQjjnhmEwxuLxuGVZ8Xh8OBwOBoOPj48gCIQQTBU+RBZ4cc5N09za2srn88lkMhaLJRKJ5eVl27YNwzAMAzA6jnN5eXl9fT0ajZjEFboQQogQAmOcSqVOTk5KpZJhGJFIhDEWBIGmaRIBxLZt53I50zR/k6qCEkKk4ZPJ5Pn5ebFYpJRyzimlGGNKqed5CKHRaIQQarfbruvW6/WbmxvHcRhjM+ZXP2B9fHy8v7+vaRrn/PPzs9vtfn9/9/t913Xf3t4ajUaj0Wi1Wowxx3Gi0ehkMhFChDsK8Pq+r+t6uVwuFovRaHQwGAyHw6enp4uLi2az6bpuNBodj8eUUlADwI3HY0JIEARk3qG+7/u+b9v2wcHB0tIS/IMQwjAM27Z7vR7w0HUdYzyZTHzfd10XMIFuM+ZX751zzjn3fT8ej3ueZ5rmwsJCp9N5fn7u9XrABjyntsav+aWZoE+gvhDi6uqq2+2ura1FIpF0Om1ZVqFQSCaT3W7XdV1CCHCHO5SeQQhhy7KkOUCRWCwWiUQ45+PxWNd10zTT6fTp6Wk+n+ecVyqVu7u7aDQKjSC7SOU641NCiKZpOzs75XK51WpVq9Varfb+/t5utx8eHjY2Nhhj4HZJXBJVZ/nM7XueRwjZ3d3d29vzPO/Pnz/ZbLZWq41Go+3tbV3XGWOe50EAYwnNjhL4GAwOuR4Oh/f394VCYXV1dXNzc2Vl5fDw0Pf9TCZDKe10Os1mk3MOWQDs1EaE/NJXRzeMg9vb236/X6lUCoXC4uJiOp3++fmhlCKEqtXq19cXIQREV909Mx4tywLksCvjTCZzdHRUKpWy2ayu647j1Ov1s7Ozl5cX9P/DpQqq9s5MUqk9vK+apqVSqVwut76+zjl/fHx8fX0F3WEOwMSZb/FpUrmW0kDbAGuQe2psxoD4PMDfJJKF7FGpEWMMulu+P77vy1sK9beqLJmfpGplzrkQQlaCdCGMSHm7pk2kXh9SnknAIn2uVg39/pCb0pfTPvvrsy69HWIAuofQqID+A9CqUDKRnL3FAAAAAElFTkSuQmCC\"/></td><td style=\"padding:1px;\"><img width=\"200\" height=\"200\" style=\"image-rendering:pixelated; object-fit:cover;\" src=\"data:image/png;base64,iVBORw0KGgoAAAANSUhEUgAAABwAAAAcCAIAAAD9b0jDAAAD+klEQVR4nJ1Wv0szSxTdmZ3ZTSIBTWJiEET80QlKQANCiihpUlgqNoaIYCOCoJV28iEW/gGBdBZCGmHtJGinraUiCkYUkqgkBqP7a+Yrrm8cN+81b4swO7Nz5t5zz7kTFIvFGGOKoiiKghDinCv/6xF7EUJYRvlXRM45YwyW5F/PFrHEOSeeZYSQWIN5QghjDObhFzITM/JGhBBCiHQGKF4RQhhjx3Fc1+WcO44TDAZt21YUBWMsSOOcy7x9g4oXOQtAtG0bctd1nRDSarUYY5RSxhjGGNBlOBj/gHbGCOPx8fGFhYV0Ou3z+c7Ozg4ODiqViqZpcpgeWrHMiOdxXTcSiWxubs7Nzfl8vpeXl0wmk8/n/X4/5C4Q5e0IIdxZGXEspTQSiVBKz8/P//z5c3V1hTGOx+MYY9d1IVkPobDxV/riKMaYqqqc83q9fnh4eHt72263s9lsd3d3rVaDzxzHkWMUwf1noSAWRVFardb9/f3g4ODMzEwikXh6ejIMwzRNVVVVVXVdFyrmKTLpZAQG8CnIaHV1NZFItFqtUql0c3MDSvj8/CSEcM5BALItsSDUU0SEEMTS398/PDzsOA5CaGxsLJvN6rr+/PxsWZbrukCCHA3nHEWjUeGQThkzxkZGRtbX15PJJOd8YGCg3W5Xq9VSqVQoFBqNBiFE0zQhWwj8F6in+t9KJiQcDodCoaGhoVQqlUwmo9EoIaRYLO7u7nZ1dYE7oLDf0QCojCjiFZOqqlqWxTm3LCsUCq2trS0vL9/d3S0uLtbrdZAt+AVCxkpHx5MRZddqmhYMBjHGJycnnPN4PC7kLDcazjnupFluYuJrCIRS2mg0Zmdng8FgvV7/+vry+/38n0c4m8gpKx1tBQ7HGBNCMMYfHx+ZTCaXy5mmeXp6CpwIF/x0S9lqwnmyCwDRtu12u53L5TY2NmKx2OXlZbFYBC3btq2qqiL1I+IBAmiRNaWUEPL29tbb27u9vT0/Px+Pxy8uLra2tt7f3yFlTdNAxT8NW0hKzhoaqOu6lmXpup5Op1dWVqamphRFMQxjb2+vVqtRSsGmYi9YC2P8q6EIWimlnHO/359KpfL5/MTERDgcrlar+/v7hmFANrK6va7xOApk3NPTMz09vbS0NDo6qut6s9ksl8uFQuHh4YFSqqoqUCk3TMHbry4lFjDGk5OTOzs7fX19zWbz+Pj46Ojo+voa9kP3EjqTi+y9TmTBu677+vpqGMbj42O5XK5UKoQQoBiqDL4UDMgKBagfm8ra5Jz7fD7TNAOBAGPMNE1xa3kuCI8Pv0UtVxy2CdEFAgGQtwhEkOhpDrJ9FEXB8r8BcRSMLcsCpmRtC+4670oR318WLi7ODUMwlAAAAABJRU5ErkJggg==\"/></td><td style=\"padding:1px;\"><img width=\"200\" height=\"200\" style=\"image-rendering:pixelated; object-fit:cover;\" src=\"data:image/png;base64,iVBORw0KGgoAAAANSUhEUgAAABwAAAAcCAIAAAD9b0jDAAAEIUlEQVR4nIVVvy88Txien2vvLHeIFSKikEv8yCI5cSGERi/RUSo1GrXo8A9IVHqJSi5RHY0o0BwSoiAnucsFwdmzv2a+xctYe/fJ9y02M7Mzz7zzvM88g1tbW4UQ6N8hpUQIYYxVF2Nc96umMSEEjKr14VBY6q+aDO3IEvhLFBz0wyjhvKSU4icQQvCNHEIFC28VziKcC2xGCIERzjkhhFIqpQyCgDEmhAgzwOoyCA2YCtsIISilCCHXdT8+PoIgwBjH43GEUBAEhJA/nP7rsDCDEIIxDoIgCAIhRCwW6+rqymQybW1tuVzu5uZG0zTf9xUcINTJNMK94zidnZ0LCwujo6NfX1/Nzc3j4+Ovr693d3fX19eu6wJc+Mtq2cQYCyGAKV3Xl5eXFxcXe3t77+/vj4+P29vbOeeMsYeHB8aY4ziUUqD7t1AKSMEhhCiljuOkUqmNjY2xsTEhxP7+/t7e3uPj48rKytzcXLlctm2bEKIqFmbgN1MgG0j0PM+yrM3Nzb6+vpeXl+3t7Ww2+/7+TiltbW21bbtQKCCEfN+H+Sqb70pEqoQx/vr6Mk1zfX29v7//7e1tbW3t4OAA1nd0dAwNDQE5PT09uq4LIYIg8H0/XIlfUECklFJKZ2dn0+m0lHJra+v09JQxBrrp6OgwTbNSqTDGDMPwPA+HQimSKETIFPQxPz/vuu7t7W02m4URTdOq1erMzExTU5Ou65TS6+trSD+cI0CTsOa/VcYY57yxsVHTNNM0q9VqpVIpl8uDg4NTU1OUUsMw8vl8qVSCEgGtMhRMXS+4NtDN5/PpdHpwcHBnZ+f8/LxUKnHOLcuamJiQUjqOc3h4+Pn5GYvFvlML5YsxZhFTANzd3d1kMjk/Pz85OWlZlpQSRA53t1AoXFxcMMZAfOBzikOEEG5paQE1qCNwziuVSiKRyGQy09PTAwMDvu+Xy+Xu7u6RkRHG2NnZ2dLSkud5nHPP8yLK/80U/bgZNOLxuBDi5OTk5OQE5nHOV1dXLctyHOf5+Rkuku/7QogIaB1JqRlSSk3ToBSaprmuaxhGPB7Xdf3y8lJlwBgL6wna9a0PePA8D5Y5jsM5T6VSUsr39/erqyu4Tkq/kUeF1D4YyttBXuDEjY2NLS0tykFisRjnXJ0vYmx1pBveFpQPKE1NTbZtO44zPDycSqWAqLqPZpTjCDp0fd/XdZ0xpuu6aZqWZQkhbNuWUiqL+n9Q9GOD6snzPM+2bdu2GWOu6xaLRbCS2vL+calIhO+frutPT0+5XC6RSLy9vR0dHfm+H4/HGxoawvX5xU0mk7U/VECyhJAgCAzD6O3trVarxWIR9AA6RX8fKIwxTiaT6srXvuB/hEJIEARSyoaGBmWgtQsxxiy8SS3QN/GEKNbAHgkhyvciCFLK/wBZjhSJrli+dwAAAABJRU5ErkJggg==\"/></td><td style=\"padding:1px;\"><img width=\"200\" height=\"200\" style=\"image-rendering:pixelated; object-fit:cover;\" src=\"data:image/png;base64,iVBORw0KGgoAAAANSUhEUgAAABwAAAAcCAIAAAD9b0jDAAAFKElEQVR4nI1WQWgTXRDeN/t2N5umu5ttDSjVoq2Q1ZJLpdqrHiKe2oOIZ7GnHixYvQg9iIrgSXISqWAVDxbESu1NtCKIUAQFDZjakgShKkhj0nX3+d7zMPG5f3r53yHMZHdmvpn3zcwS3/eFENr/O1JKFAghUkpCSFJVMigFbVCVf892vwAgpRRCoEchBKoqpJQSOlyo4Mn4UkrOuRBC1/U2FgBCSBzHGKPjfdrxV1JFAVHoui6lZIyFYSilBABd1wEAkeL7yiko445klaoEXdfT6fTJkyefPn16//79o0ePUkqFEIwxTEWhoduTVTJiVLVLp9MTExOTk5Ou6wLA8PDw3Nzc7du3NzY2MA8AaJt7nof3mESaLIWUMo7jXC53/vz5M2fO4AtbW1uU0l+/fi0tLc3MzGxsbFiWpWkapfQf0u2VxYPq7t27r169Oj4+rut6tVp99+5dGIZBEPT29haLxWq1ev36dfTQvsxsNuu6ruu6nuepX+fvsSwrCILHjx9vbm5GUfT27dtTp0719/fv2rXr4sWLlUoliqKPHz8WCgVCiG3bvu+7rgvJlDvuh3M+ODh48+bNYrGYyWTK5fKFCxdevHjRarW+ffv24MGDR48eNZvNvr6+48ePE0JM00T+QsctK36EYbh3795SqTQ6OiqEePny5eTk5MrKimmaUkrHcb5//z4/P//z50/DMEZGRoQQURTpus45hyTF1GGMHTx48NatW0eOHEmlUm/evJmenn7//r0QotFoIBzDMGq1Wr1etyxrYGCgq6uLUtpuDdVRSGNCyNbWVj6fL5VKWKnnz59PTU19/vzZNE1CCDYVY8wwjHQ67fs+YyyOY865omqb/Nh5hmEIIYIgKJVKQ0NDALC8vDw1NbW6uorwCSFCCOzORqOxf/9+x3EYY1++fMF4QgghRDt9jBOGYS6Xu3btWj6fB4CVlZVz586tr69bliWEQG6jcRRFnucVi0Xbtm3bXlxcRIYKISil7fQNwwCAVCp19uzZkZGRVCq1vr5+6dKlT58+IclViTjnmNOBAwdOnDjheV6lUnn16hUWBwA454B1xCADAwOnT582TbPZbF65cuX169ee53HOsQt///6NHjnnPT09ly9f7u/v55zPzs5Wq1VN05BSgBMMAOI4jqJobGzMdV0hxMLCwsLCQldXV6vVwiRwLFmWFYbh4ODg7OzsoUOHAGBxcfHu3buGYTDGMKSmaZrneb7vd3d3ZzIZJPba2trw8LDjOK7rYof09vbatm1Z1p49eyYmJsrlchzHSN5CoeA4TjabVZ3pum67upqmxXGczWallPV6vdlsRlHEOaeUSild183n82NjY6Ojo/v27ctkMpzz5eXlmZmZ1dVV5ExynlKsKaZWr9eDIAiC4MaNG7VajTHm+77jODt37tyxY0d3dzcO5q9fv87Nzd25c6fRaKRSKaSRaksAoMgnpPT8/PzQ0JDv+8eOHeOcY3BcGJRSAKjX60tLS/fu3SuXy4guOfbV4qKapiFFCCFPnjwpFArj4+M9PT2EEMuykEybm5s/fvx49uzZw4cPP3z4IKXUdR3RILqkx39Dut1eAJTSvr6+w4cP53I527abzeba2lqlUqnVaq1Wy7ZtzjljTA15vPH/eCSEeJ6n5h5miotT7V4pZSaT0XU9jmPTNJPUwY5QTrEaAPAPqRoCqspYfmWg4KjPiI4lpJBCx2BGdNg2aIMDLblplJC89OSkpyp48gGC6vC+/VMniU49klL+AcRRmuHfnGgiAAAAAElFTkSuQmCC\"/></td></tr></table><table class=\"show_images\" style=\"border-spacing:0px;\"><tr><td style=\"padding:1px;\"><img width=\"200\" height=\"200\" style=\"image-rendering:pixelated; object-fit:cover;\" src=\"data:image/png;base64,iVBORw0KGgoAAAANSUhEUgAAABwAAAAcCAIAAAD9b0jDAAAERElEQVR4nIVVuy98WxTerzPmGeMokDCJRzxCBI14NHQKmvkH0E6hUaAXjU5EITqtRqkRIghTIBFvEq8YiZinM3PO2XvfYt3ZtvH73buKk/063/7WWt9aG5umKYSQUmKM0S8rWZdSIoQwxvq6GsMuIYRJKWGitmGqTgghFCghBCGkr4AJIdRNUkqmI8K2lJIQQgiBQx6PB8a8aIwxzrm6QzFV3NlvjoqU67qO42SzWcdxGGOEEMYYpdR1Xd139VW4TJ+oo/l83u/3V1dX19fXd3R0RCKRl5eXi4uLy8vL5+dnIQSlFGMshGCM6b7/YAqIQgjwaHh4eHx8vK+vLxAIUEoppY7jSCnT6fTOzs7KysrR0ZHP54N8KEJq/A0KS0IIj8czNjY2PDxcXl5u2/bX11c6ncYYc84rKiqGhoYikcj09PTZ2VkwGAQeOk2M8Y+Yqguvr69TqRRCKJFInJ2dxePxp6cnSml/f//Y2Fh3d/fExMTMzAznXNeTSgwOh8O6qiA/pml2dXURQm5vbx8fHw3DsCxLCBEOh2Ox2NTU1Ovr68DAgOM4rusahgFhVbS+EwVL4M7n5+fu7q4QQgjh9XohIZTSXC5XKBQwxowxn88HWCWICCGiCxgUiotmGIbP50MIcc4Nw7Btu7q6ure3Vwhh27bjOHBYqfW7ZPTs63KTUgohXNdVdAghnZ2d7e3tgUDg/PzcsiwIV0n5SCm/QdWGijfnXOHatl1bWzs3N2ea5sfHx/r6ej6fxxgXCoUS5WOMf4Dq9QsrgEsp9Xg8sVisqanJMIytra3t7W2fz+e6LqUUgqDjlDLVt0nRLMsaHR2NRqOU0vv7+4WFBaAP0fzd3kpBdWjOOaVUStnS0gKO5/P5xcXFp6cnwzB0t/6HqR5chJDrulVVVfPz81VVVUKItbW1zc1NxhgqljWAluD+1X3QimEYIyMjg4OD4XB4Y2NjeXm5UChAKBUo0rrUn0HhWmjDQgjTNCcnJxljBwcHS0tLqVQKWowSMqhb2X+Bwj+EkO7u7rq6umQyubS0dHp6KoRIpVKWZeVyuWw2CxeXlZVBE0DFJ4CVgCp3OOdlZWWtra1+vz+TyZim2dHRYZpmc3NzQ0NDW1tbKBQKBoMPDw+rq6uHh4egaKiFUlBgSgihlNq2/fb2RgiprKycnZ0FD/x+v5QyEAhAxCORyNXV1eXlZTKZVNX1V6Yw3dvbi8fjPT09NTU14G8ul3Mc5/39PZVKZTKZm5ub4+PjbDarxw1XVFRAWnSJoGLfYow1NjZGo9G+vj6Px5NIJE5OTvb39+/u7mzbzmQyXq+Xc57P54EE9LN/+2kJWVihlHLOHcexLCsUCkEnBJFSSg3DgEalsgQ/EkL+AFpyAVSqepNd15VSwpsKBxhjoELlPkPa+/zHygMl6LGmlELhqw6pAghniBr9xtJrAXwEdPBRCRNpDwfYP9JLTS8ACe2BAAAAAElFTkSuQmCC\"/></td><td style=\"padding:1px;\"><img width=\"200\" height=\"200\" style=\"image-rendering:pixelated; object-fit:cover;\" src=\"data:image/png;base64,iVBORw0KGgoAAAANSUhEUgAAABwAAAAcCAIAAAD9b0jDAAAEeElEQVR4nH1WO0gzTRTdeWSTXRODRvEBYuIH4gsJFoJoYS1qYSEIWorYWdhY2qiVICIhIKgRK220EBvRQqsIARGjYhAlIaIWPshrd3bmL26+cYl+/1ST7MyZe88998wgr9fLOVf+DiEEQggmQghFURBCMIEBPxFCsOznQAhRzrl9D8DJzzAhhAghOOcIIcMwnE4nrCnZ+A3662mKogAE59yyLMuyCCEQo6qqiqIwxhwOB6zBGNtzEkL8DgqLMMaEkJaWls7OTrfbnU6n4/H4w8NDPp93OByUUns2dpa+QUu4wxgjhMrKysbHx0dGRvx+/8fHh6Io8Xj88PBwe3s7lUoBLQghSilEDQi/RCqhhRCU0mQymUgkMpmMoigVFRXBYLC1tXVgYGB5eXlvb09VVUIIY0ySoCgK8ng8P6ssNQAMOJ1OxpgQwu/3Dw0NDQ4OBgKBx8fH2dnZ8/NzIJcQAhsxxr9zijGGakhtwDwej9/c3Jyenq6srDQ1NfX395+dndkTL+KWwEGAgEUIoZTCAQ6HA2Os6zpj7PLyMplMlpWV1dTUUEoBEaBLC2UnVOrfsiyMsWmaoPZ8Pk8I+fPnT0NDg2VZt7e3hUIBCAR+ipFKeAkH/4AAMcbQb5ZlgWzdbvf8/Hxzc/PDw8PJyQkQmsvl7C2DS7BAvTIjKVhVVQuFgq7rS0tLfX192Wx2bW3t7u4OY8wYg46QuLhERjC39y7IMJfL1dfXh8PhsbExQsjm5ubW1hZCSHaaPUUq/yoplwyBc845Hx0dnZmZ6ejo4JyHQqHFxcV/qfC7TSXHckIpBe67u7unp6d7enp8Pt/T09Pq6mokEsEYU0qFEKZpyjhApAqI347LOQfBFwqFQCAwNTU1OjqqaZppmsfHx+Fw+OLighAC/EAZxd8BnY0xLoLKD3BgZWXlxMTE+Ph4W1vb29tbNBrd2dk5OjqC4znnhmHYebP3JMaY2sPmnDPG/H7/3Nzc8PAwpTQajW5sbOzu7goh8vk8rHE6nRAUJCTpAv0jhJDH44HO5Zybptne3r6wsNDV1fX6+rq/v7++vp5KpTRN45xTSjOZDLSApmkIIU3TqqqqVFX1er1fX1/pdDqXyxVNGgwGqJycnOzt7f38/Ly6ujo4OHh9fYWmopT6fL7a2lq3211eXl5dXd3Y2FhXV0cISafTl5eXz8/P2WyWc+5wOKhUA+DW1dUxxnRdDwaDoVDIsixN0wgh0l4h04+Pj/v7+5OTk1gsdnd39/7+zhgDoyhGKhEZY5FIpLy83O/3V1dXU0qz2SxCCLowk8m8vLwkEonr6+tYLBaPxz8/P6Fi0NDfziKrD+j5fN7j8bhcLl3XDcMghFiWVSgUDMOAQiGETNPUdd00TbAoWZ/vC9iuU6ggFFpVVcMwXC4XY8zlcgEEOLz9SodTpe0X1QrGJX0eoEFh4HgyD8uySh4AJVZZdBNwftnCEIJ0RsV2UcMdB6dCsrD455Oi2PvStH8+EWTbSHS5syRGuytRO9zP8a+3zf9//Q8FRUw7hKvrrwAAAABJRU5ErkJggg==\"/></td><td style=\"padding:1px;\"><img width=\"200\" height=\"200\" style=\"image-rendering:pixelated; object-fit:cover;\" src=\"data:image/png;base64,iVBORw0KGgoAAAANSUhEUgAAABwAAAAcCAIAAAD9b0jDAAAEfElEQVR4nG1WzS8zXxS+XzOdQappmtJWlHgT/4AIIWInEhYaEiQWEn+H/8BObFgQG4mFSGPVRHw3UsHCBok0tUFbVDvTzted3+L43XeMdxZyrrn33HOe5znPFEciEcdxEEIYY/TrcV0XAowxxCIQR8QSHkII45z/TiGWkIIQ4jgOLDHGlFLOuXez724mbnZdF45BzDknhHDOKaWEEEIIY4xzblkWvIWifBkhYL5LRI+MMcdxKKUYY9M0LcvinBuGoaoqpTQQCABo4oi3OeatX+yAXJA3FAr19/cPDg62t7drmnZ2dra3t9doNAAHqM6LOEKIefGGQJIk13UbjUYymUylUlNTU52dnYqicM7r9frw8DCldGtrKxgMCoZFTbDE4XCYcw7pBGmRSGR2dnZ+fr6np+fr6+v19TWfz1er1WQy+efPn/v7+5mZGV3XCSFAI+SFJIQQJq6Cf1FKE4nE8vLy+Pg4pTSXy21ubh4eHhaLRV3X+/r6NjY2ent74/F4Pp9njDUaDeBTsOS6LvOxJEnS4uLixMREqVTa3t5eX18vFovNzc2yLEuSVCgU3t7euru7W1paDMOglIIS/oEppAfdRKPRgYGB5+fn1dXV3d3der0uSZJhGAghRVEopYwx13VrtRpAD6ryS8qrBtd1dV1Pp9NPT0/ZbNY0TUqpJEmgzUaj0dbW1t3d/f7+XiqVBJrQvndqmNA8xti27Y+Pj52dHcuyoDvOOcwSVNTR0REKhR4fH2u1mqhOtC+IYd6RZ4wRQqrVKmwVYwMlU0qnp6dlWb64uDBNU1VVkcg338w3ZzDUwADcZ1mWLMuc80gkMjY2ZhjG0dERY8y2bW+XYj9CiHzL1eM3nHPbtiE7OIBlWaqqzs3NdXZ2Pjw8nJ6eKooC5ymlPpZ+EAUPZBEdAV6KokQikYWFBUrpysqKaZpAjtjp8xR/UvTTB0Bnuq4vLS3FYrHb29uzszMg0NsyHBHyIr6MAiAo03Vd0zRHRkZSqZRlWdvb2+Vy2bZtjHEgECCE2LaN/p8d4PavS4kahetwzoVLLS0tJRKJQqGQyWQMwwDP1jRNUZRQKKSqKsa4UqlomgZN/LA+rzhkWbYsS1GUycnJoaEhXdfv7u5GR0cnJibC4XAymYzH49FolDF2c3Ozv79/cXFRr9cdx5FlGYfDYa83e9E0TXN4eHhtbS0Wi2maVq1WEUJtbW2cc13XOeflcvn4+Pjk5OT6+rpSqYC5UEqZF00RA1iqqs7Pz3d1dWmaZtt2KBQKBoOfn58vLy/ZbDaTyeRyuVqt5jiO4ziMMVD3D5fy4oAQsm07GAy2trbCK1VVK5XK+fn5wcFBNpt9eXmBOfbpFHj2EyXah5k5Ojrq7e1FCF1eXqbT6aurq2q1CgOGEIIawbrE59Z13W9Mf6fGGMOZpqYmuMa2bUmSkMcNQHPeLzn8/Yf4/9oiY7IsA/ySJFFKLcsSMy30D5oX7SNhKGI8RNViBAOBALwSpun7zPk0/k2USOTFAQoRdgnY/f454zUnEf8HeZVy+qmfytUAAAAASUVORK5CYII=\"/></td><td style=\"padding:1px;\"><img width=\"200\" height=\"200\" style=\"image-rendering:pixelated; object-fit:cover;\" src=\"data:image/png;base64,iVBORw0KGgoAAAANSUhEUgAAABwAAAAcCAIAAAD9b0jDAAAE6ElEQVR4nH1WO0gcXRSe+5id2WUWRXAVJCHYrQZDgqIWLihYGJMUaRQhWEQimC4EjGDAItVaiRZ2iqIgCpZqIbhIIAENIUUeKjZLIOsjZtXdmbmv+Yuj18kG/lsM87j3u9855/vOHVRdXa2UMv53BEGAECp5DL+ER32Pg+tRghK+agilFOccY6yUQgjBe6WUUioIDarh4EZvDvSVUhhjwzAwxpRS0zSDIJBSIoTgCrgwR4NQzQ4+l1BGCBFCEELFYtF1XaWUEAIhZNu24zh6VyklIUSvugEtoQz7I4Q457ZtP378OJVK3b9/H2P8+fPnTCaTyWSy2Wx5eblhGMAacBFCKJFI6MDDqYTQpJT37t17/vx5S0sLIcRxHCEEpTQIgh8/fkxMTKytrVmWpZQihGCMIfVUh/lvZYMgqK2tTaVSGOOFhQXXdRsaGs7Pz79+/drQ0NDe3p5Op5VSq6uriURCCHGTNM00PGDPWCxWXl5OCDk7O3Nd9/Xr11VVVZOTkwcHB5TSVCqVTqd//vzZ39+fz+d1fFhXTZOFb1JKSqkQIpfL5XI5znlvb29vb6/v+9lsFmZubGysr6/fvXv36dOnl5eXmg1CCJdwRNdDSskYA0kmEokXL15QSjc3Nz3Pk1JalhWPx5eXly8uLpqbmymluqqGYdyA/usQQkixWBRCDAwMVFdXf/ny5f3797FYzDRN3/d939/b28vlcvX19Y7jEEKEECDkv8IHn0D46nokk8mHDx9eXFxMTk56nsc5Z4zBzD9//mSzWcg+pTQWi0kp/wLVFdeUpZRlZWXPnj0jhExPT+/u7mphCCEIIaZpYozj8biUEuiD2rAOGYoWBkUI9fT0dHZ2zs3NLSwscM6FEGBfSiljrLKyMplMfv/+HcxmWRasxf8qH244521tba9evfr27dvMzIzneWB/EDnMbGpqqqmpOTg4KBQKhmF4ngdr/6o+ELQsi3N+69att2/fFgqF8fHx379/m6aJEGKMMcYopUop27YHBwcLhcLc3Jxt25zzSCRyFXQYFEIrFouU0uHh4WQyOTs7u7OzE41Gfd8HhZmmKYRgjA0PDzc2Nq6srOzv71NKpZSe55U6CmhijIUQt2/fXl9fZ4ylUqnz83PTNCF8XYC+vr537979+vWru7s7n89DNgghUspSnULHlVK2t7c7jrO1tXV0dAQsEELRaBQU8+bNm7GxscvLy5cvXx4fH0ejUVgIykcI4bA7ITpK6YMHD4IgODw8tG0bCMbj8dPT0/r6+sXFxaGhIc75yMjIp0+fIpGI67qGYUDbBX43XQpwGWOO4zQ2NhaLxaOjI9A5iHFoaOjRo0d1dXW7u7ujo6Pb29sVFRWMMfB0uL3R8EGk20wQBPF4vKOjA2rS3Nzc2tp6584d13Xn5+fT6fTp6anjOK7rhs8STY7q8IMgAJ/k8/kPHz7U1NQ8efKko6MDeoppmh8/fpyZmdnc3AT/QGXAryAbXWqq1Q6v4PPU1BSltKurq6Ki4uTkZGdnZ2lpKZPJ+L6PMWaMSSm1BcKn99WbqqoqvQ+gA9lIJAISwRjD0WZZViQSgYTAcVRCqDSnYdcrpcrKyiBqnS8pJRhfd7IwnK7STfVL/jgAHThCWeGTJg5z9P9EicsNw6AlW4Uf4SyD+l61n2tE47qrhVOpM/Afne+rDlh+u7QAAAAASUVORK5CYII=\"/></td></tr></table><table class=\"show_images\" style=\"border-spacing:0px;\"><tr><td style=\"padding:1px;\"><img width=\"200\" height=\"200\" style=\"image-rendering:pixelated; object-fit:cover;\" src=\"data:image/png;base64,iVBORw0KGgoAAAANSUhEUgAAABwAAAAcCAIAAAD9b0jDAAAEQklEQVR4nHVWvUszTxC+/bi7xBiDghJFJU06MeIHKdJYBMROSBVQEEmpnVb+J1qIICL4kULBxspWCyMGSUiIRTAqAcMJ97V7t79ifDeXvL93i+XusvvMzDPPzATF43Hf94UQCCFFURRFEULADh8xxq7rIoR836eUIoSEEIQQOAO34AosjDEFxH/BEUKEELquE0I455qmWZYFQL7vgwEJB7eEEDT4SYLCHQDinHc6HUVREEK6rlNKdV1njIGzQW8AESFE+4ygP0tVVdM0I5FIPp/PZrPT09OdTufq6ur09NR1XYgAYyz+LMmeoihdT4EOOMo5tyxrZWVld3d3fn7eMAzbtgcHB/f29jRNOzg4IIR4ngfQ4CMgwAMaGxuTvPi+jzH2PA9jXCgUtre3o9FopVI5Pz+vVqupVKpQKDSbza2trY+PDyGEqqoyUUFcGvwEu+d56XR6Y2NjYGDg5OTk6OioVqsJIZ6ennK53OzsbDKZbDablFKILMhmN/wgmxjjcDgcjUZbrVaxWDw8PLRtOxKJuK5rmubb21sikUgkEhIRLkKIPZzKpMPPnuc9Pj62Wq1Go2Hbtq7rrutSSoFuSDqlv1qU4guSiyURGGOMse/7iqL8/PzU63XOuRDCcRxCiGVZlNJ4PO667tfXl0QJalGGj+WL7/ugTUIIEAKpUBTFtm1N0zzPGx0ddRynUqlQ+subXD0qCtoJ6p8xJqMDtc/NzU1MTNRqtXa7LYQAQoIVKH3Hf9sJxgXEgafpdFoI8fr6ahgGiARI+xuhp6L6lCEjCIfDkUhkdXXV87zb21vQMqUUcP+WVDdR8kF6ihCCa57nLSwszMzMVKvVUqkEhx3HCar7n2UaNABYqqoSQsLh8ObmJiHk+vq63W5rmiZzGDwsU4f7EGWuoLMBd9lsdmlp6f39/ezsLBKJKIEGJITgnIMQgeJu+N3EYSxfQYzxeHxnZycWix0fH39+ftq2DT1bnoGKQAiBrvs5DTYx6EOapu3v709OTpZKpbu7O855OBxWFEVVVegmpmnats05p5TKcdCT/T5cSun6+nomk2GMXVxc1Go1aNgYYxDZ1NRUKpXKZDKu6xaLxXK5DAXd0/llaRFCHMdJJpP5fD4WiyGEcrnc8vKyaZqhUMg0zaGhoVAoND4+PjIygjGuVqv39/eMMSj0bkPp64yEkOHhYV3Xwcbi4iKkmHOuqirG2DAMxtj39/fDw8PNzc3LywsMsd/wgxIDTYA+6vX65eXl2tpaPB53HMeyLMaYYRiWZdVqtXK5/Pz83Gg0YC6oqgpxCyF6Or/SO1BhjsKwY4z5vs8YA/FC+aqqyjlHCLmuK6fAb/h9ypcCBEkxxmzbBlxIOmMMxASIwE9wAv5PRcm+qwQqFZIg/1XALnUtg4PX7ozq24NzAijmnEN0fdURTAnY6+o0iB50GTwFL2Sk0tO+ggQD/wGmsn4f8hrXqgAAAABJRU5ErkJggg==\"/></td><td style=\"padding:1px;\"><img width=\"200\" height=\"200\" style=\"image-rendering:pixelated; object-fit:cover;\" src=\"data:image/png;base64,iVBORw0KGgoAAAANSUhEUgAAABwAAAAcCAIAAAD9b0jDAAAEc0lEQVR4nG1VOyx0QRS+87iv3WWtrEdB4xEKohFKEURQaNZGPBIRrUSp0kgErQiJKLSI2EohEQ0JCRpvQlaya21IPHbX3t25c//i+Md1mWJy72TmzHe+851vUGFhoWmakiQhhKRfw7IshNCfM2yAU/ZFjDHlnNtD/A5qP+DYbI9u/8CO82LAnTBDLM45xtiB8U8o2P4jcMGQJIkQAoFUVUUIcc4RQkCX2O8AJEkS/X0b5xyOfX5+qqqaTqcty/r4+DBN0+12Y4whA4H3N3ZqR4oQgmSLi4tbW1t7enoqKytdLtfb29v19XUoFFpbW0skErqum6ZJCLFHtBON/H4/JCXA5+bmTk9Pd3Z2YoxfXl4AmqZppmkuLy9PTk7KskwphfN2lgUy5Pf7BZWmaVJKm5ub5+fnOefRaPTg4ODi4uLt7a2urq6vr88wjGAweHFxQSnlnBNC7NRB+gihb04ty4L6Pj4+hkKhSCSytbV1fX1NCEkkEuFwOBAIeDye8vLy8/Nzy7IIIaKqjupT+yWUUtM07+/vp6amMplMNpuFNHNycrxer8vlwhg/Pz8jhOwY7U3xh6SAI8Mw3t/fGWMgKc653+8fGRnx+XwnJye3t7fAI1TCrj8x8HfJ/jccxBKcVFVVzc7ONjY2RiKR1dXVWCzGOTcMw1566A4hVSr97Hqg1TRNxlhBQUEwGBweHi4uLsYYX15enp6eZjIZXdehEQRYB6dfknKsYozz8vImJia6u7tzc3OTyaRlWalU6ujoaGVlJRQKMcY0TcMYU0oxxnAHgP3qDQcvsKOoqKitrU1RFMZYLBaLx+OyLHd0dCwsLCwuLvp8vmQySSk1DAMgi7Nf6f8ehJDX19fd3d3y8vKbm5udnZ27u7v8/PyBgYGWlpZAIOByucbHx8PhsNvtZoyBRQikX+IXhAJeqK+maQihZDIJeaTTaV3Xh4aGRkdHNU3b3t4eGxtLp9OKosAG0UROSYGqGGMIoVQqlUgkoE2z2azb7ZYkaWlpaW5ujlLa3t7e29sryzJCiDHGORcq+uGn4ptSCrOiKKqqYowVRYG+VBRlfX19Y2PD6/X29/fLsixkIOJgB0y7LcJuwzAYY6B2wzB0XU8kEsfHx/F4vLS0tKSkRHibQIZ/w4REhB9/+S6lmqa53e6npye/319fX+9yuSRJAkLBBgU4Z/W/+xdjVVUty8pms5ZlfX5+cs69Xm9XV1cgEGhqavJ4PPv7+5FIRBT2mz17LGENhBBd130+X05ODpBQVlbW0NBQW1tbUVGRl5fHOd/e3p6ZmUmn01BGMMO/kdph1tTUDA4OVldXg0N7PB5Yf3h4WFlZ2dzcjEajIExhgz+Q2jUAEkmlUvF4/Pz8vKSkBLR9dnZ2dXW1t7d3eHj49PQELgG8O6zv+zmRfr7dCKFMJpNKpWRZhmYFbxW/ooBgkiAAkBB1YIR0QFWapsmyDIEgqPTfGQgh0J3iuba70g9JCXlCrSRJUlWVEALfCKFsNssYE/0DM5BgB/cPlOpFkL5NKAQAAAAASUVORK5CYII=\"/></td><td style=\"padding:1px;\"><img width=\"200\" height=\"200\" style=\"image-rendering:pixelated; object-fit:cover;\" src=\"data:image/png;base64,iVBORw0KGgoAAAANSUhEUgAAABwAAAAcCAIAAAD9b0jDAAAEnUlEQVR4nJ1Vz2vUTBiemUwmG7LZQLcr6/4QxLXCFou00IvirRdBsPSgZ4Xq3+BBkD14dOmhtqUIS08VpacWFbyIhwWx1IOKUiiFSiu6ZX9km51kMvkOb53mS/kuXw5hmGSe93mf93nfwY7jhGGI/teDMY6iKLFJCCFSyv86AIvTx9Q+fIr+PmqfJP5QayklvBO4sJZSYowVIUJInDiJn1GRFVlN0xQKBIOT6nyCDeRHTuerDkgppZSEEIWuaVoYhsBR0zRCCGMM4OIynoAmImOMhRAIIUqp7/u+73POB4MBhNE0TdM0hFAQBEEQACJogjGm8WQVHEIoDMMzZ87Mzs7evHkzDMNms/n58+cvX75sb2+7ruv7fhAEjuPk83nHcY6Ojr5//845h2xoXB2lCyHE933HcSYnJ69cueL7/sWLF2/fvu15Hue83W4HQeD7PqU0k8kwxr5+/frkyZOtrS0oGo1rqioQBAHGeG9vb319vVwu5/N5SmkYhqVSaTAYFAqFfr8fRVEYhoQQy7I6nU4mkwFZpJQnoCcyExJFESGEc/7q1av3799XKpVcLnf27Nlz584NDQ1JKYvFYiaTyeVyhmEIIba2tra3t0E0Qgi2bTtuCxAUqqn8JITAGKdSKSkl53xqaurBgwcjIyOFQsF13Tdv3tRqtd+/f0NhEUJUue+0QzVNE0JIKSml4FMhRLVavXXr1rVr1yilQoi1tbVardbr9RBCuq4D7jHTuKtUucA0hJAwDA3D6HQ658+fr9fr169fl1J2u91nz549f/7cdV2AA2NhjGm8E+KywmfOOViv3W5fvnz54cOHV69exRjv7OzMz883Gg1KKcY4CIK4f5KFgurD51QqdenSJcZYNpudmJi4ceNGuVwWQvz48ePx48evX79OpVIYY13Xwf/KP/R0g0IvZrPZ+/fvT09PG4ZhmmYURbZt67rearU+ffrUbDaFEBA7DEPV1scpxjVV0aSUlUplZWWlVCrZtt3v9zHGjDHTND3PQwjt7u5ubGy8ePHi27dvMI5hRJwwjRcHHkKI4ziMMcMwMMaWZTHGWq1Wu93mnJfL5Wq1alnW5ubmwcFBt9uNa4oQoolpAhU0TXNsbGx4eBhay/f91dXVd+/e7e/vp9Pp8fHxfD7/58+fnz9/cs4hv3hP4nQ6rXABlFI6Ojq6sLBw4cIFSK1erzcajU6nI6WEnjFN0zAMz/NgSsVbnBByMlBAFyGEbduPHj0CRCHE3Nzc4uKi67rgHoQQpbTf74M94zT/NflhC+4rxtjdu3cnJycxxpTSly9fLi8vHx0dAWVomMFgADnBphqYJ5rCGAeOQoiZmZl79+4BhQ8fPjx9+rTX6+m6fnxPEKJ4xWuQ6HUKKiCEGGOMsTt37uRyOSnlr1+/Go3G3t4e2BB+U8km2jrJVJlJSmmaZrFYBF5v3779+PEjrGF2KC7x86pE8TWND3zO+cbGhud5zWZzaWnp8PAQZrPqmcSIOI17vGNZFhROShkEgW3bQgi4KnRd930fhFPFPY2buNwwxti2bSgUXA9gdUopTGgVT3kwrmO8FVUAhNA/5CiJri4VluoAAAAASUVORK5CYII=\"/></td><td style=\"padding:1px;\"><img width=\"200\" height=\"200\" style=\"image-rendering:pixelated; object-fit:cover;\" src=\"data:image/png;base64,iVBORw0KGgoAAAANSUhEUgAAABwAAAAcCAIAAAD9b0jDAAAEA0lEQVR4nIVVu086SxSenceusAioBAmFJoZEOhJirEQxllAYCnsjBQmd/AV2NpIYfwUdlb2hsrEkVhQ+g4WQKCEa8AEouq/ZW8zPcVy8955iMzuPb84533fOSMFg0LIsAIAkSUAw27YlSbJtm/2KY9H4PB9ACDGlVARy4Dom/+MO/ksphY5Z7q/9ZQghSZIYCoRQxGWbHeiSJMHRWRERQshvYiiUUkoph+PRcAMA4F/j5T4CAHRd7/V6LFkIIYSQoiiGYSCEHL5zg44E8QHGmFJqGEYkEikWixcXF6enp5ubm+wm6cvAiNm2LQUCgVFEnt9EIrGzsxOJRIbD4evr68fHRy6Xu7y8dLvdhmHwzDgSDcUk8mWMsWEYyWTy4OBgbm6uWq3++fPn/v4+HA6nUikAAFPhKEXf4Y+uaZoWCoUKhYLL5apUKtvb2/v7++Vy2TTNRCLhdrtt22Z0OTTzI6f8y+hWFGV2dtbv919dXRWLxU6nQym9u7vTNM3r9WKMZVlmRI26CTj74pRt25ZldTqdUqnU6/Xa7TbGWFVVWZYJIQyLUioKjmWPg2DwVZEcnSmx2+0eHx+bpsnEDwCIRqOKojSbzff3d4QQSyvG2MHHX1B2FTtJKYUQQgh1XeeIpmmGQqFYLMaSgBAihDhoEP3FjjV+LfPXsiyXyxUMBtPp9NLS0nA4PDs7syzLMAxJkiCE/Cu2FWdOHbWPEPL7/blcbn193ePxGIaRTqdvb2+r1SohBOPvQPkpyDItmoNQWZYXFxfX1tYIIY1Go9frLS8v7+3tJZNJy7IIIbqusz7HQwQA/F5RosLi8XgsFtM0rV6vh8PhTCazurp6fX29sbHx8vJiGIaqqqZpirFiIBQlrzk2YPw2m82Hh4der/f4+AgAqNVqpVJpZmYmFoudnJywFoEQ4q3ru0xFnTJV2bbNsub1egkhhmF4PJ7x8fF2u91sNn0+n6qqiqLw/WKg/9OlVFWdn5+HEL69vbGORwiZnJwcDAb9fh9jzAUrdlgnUQ7NTk9PZzKZqakp1pMIIfF4PBKJPD093dzcyLJsWRZjm5/6PXz+5GmahjGORqMLCwuyLA8GA4RQPp8PhUKHh4fdbpc5zopF9OyH+MULKKUY436/PzExkUqlarXa5+dnNptdWVk5Pz8/Ojpi20zTlGWZcfCNMCop5injVNO03d3dfD7farXGxsYQQo1Go1Ao1Ot1VsSs8Pjj/FdFIqgYO2+XHo8nm81ubW2ZplmpVMrlcqvVghA64MScOj0VlcCaCwDg+flZlmVFUUzT9Pl8uq5zUVuWxbG+cQOBAHfKoS22g72gjGXLsjjd4F+ekx9vFBgpU9aBWIysc7MWI24WXw0+/w/iGQ5dzn1uAgAAAABJRU5ErkJggg==\"/></td></tr></table><table class=\"show_images\" style=\"border-spacing:0px;\"><tr><td style=\"padding:1px;\"><img width=\"200\" height=\"200\" style=\"image-rendering:pixelated; object-fit:cover;\" src=\"data:image/png;base64,iVBORw0KGgoAAAANSUhEUgAAABwAAAAcCAIAAAD9b0jDAAAERElEQVR4nH1VzSt8URg+H/dec4cxGqTMXFnMRsoKa9HshZqymgWyGykrKZuJ2CnKR1mQhb9ANtRoxAphFj4WKPkoGncw1/n4Ld5xHB/9zuJ2P8773Pd9nvc8Lw4Gg0II9N8lpcQY/3+PWhhjQ0r5OwbeqCu80cMgSt2rcHgkCkWFKRQ9QF1hpxACf18IIUIIxBI9BR1aR1fv4R+wABp2wj/Uo/F/HmEfxpgQIoSglHLOTdMUQsAbKSVjDHYqEv4AVSVDJNQlhIBHxpgQwvM8wDIMA2Nsmqauyh+g8FmvXQjx/v4upbRtu7Kysrq6OhwONzQ02LZ9dHS0tbX1+vpqmqZhGBD+BVrk+LOooo6ESCkdx+nu7m5vbw+Hw7ZtM8YIISUlJZTS29vbkZGR7e1tvUpDNY1KUKnpeZ7P5+vt7R0YGHAcxzCMkpKSl5cXhBBjzLIsn8/nuq7jOJRSSqkS2fjBI1AO3IVCoeHh4UQiUVFRUSgUXNfd29vzPM9xHMdxIJu7u7vj42POObBfrE9PTUfnnMdisXg8btt2oVA4PT0dGRlJJpObm5ulpaWU0re3t8fHx6mpqYuLC0KIalKMMUHfT4ti1rKsaDRaU1NjGMbl5WUqlVpfX3ddNxaL1dbWgmgrKyvpdJoxZhgG5xyEEkJ8CaXIhTQxxgcHB/v7+5FIZHV19ezsLBQKDQ0Ntba2cs4ZY4eHhwsLC4VCAVKB8ovq/3l4McaMsXQ6nc1mq6urHx4e8vl8T09PV1eXZVmc83w+PzMzc39/D+cCVIKuQAgZv/0CPlBKC4XC9fX109PT+/t7c3NzX19fXV1dLpfjnC8uLm5sbNi27XkepRS6UCVblOyHVipl0zRfX1+rqqqSyWQ0Gn15eaGUZjKZubk50zQ9zwMgzrl+Xgj6bhlIsxU46ZTSeDze1tZGKUUI3dzcjI6Ouq5LCAFl9H6CRXQ20ad3AK2ccyFES0tLf39/aWkpIQRjPDs7e35+blkWY0xq61vz6MWqNOGHQoj6+vqJiYlwOJzP54HKtbU1JTfg/uifrz5VxgVeJ6XknJeXl6dSqaamJsZYeXn5zs7O0tLSx8eH0gRE1/37y/mVSnCllIKnjY+Px2Kxt7c3hFA2m02lUldXV+ByILfy/5/9o/uglBJ+LqVMJBKdnZ1Aay6Xm5+f393dBQ8Ecn/Yvo5D1B0YO4R1dHQMDg6WlZWBS66vry8vL/v9fkqpaZq/Z6U+WpDuUuCkhmEEg8H+/v5IJPLx8WHbdiaTmZ6e9jwPGogx9lsZ9H19caraKBQKNTY2cs59Pl82mx0bG8vlcn6/X89RP4c6m0VQvcuAAdd1Dw4OOOfn5+eTk5MnJydCCBhNahbo4uhOVKwgEAiokYk+D1wgEDBNM5fLeZ7n9/uhw/R5qVB+oCOECCEG0oxZZfH8/Mw5tywLVFZTC32fEehzUujJSin/AZ4cYS32a66lAAAAAElFTkSuQmCC\"/></td><td style=\"padding:1px;\"><img width=\"200\" height=\"200\" style=\"image-rendering:pixelated; object-fit:cover;\" src=\"data:image/png;base64,iVBORw0KGgoAAAANSUhEUgAAABwAAAAcCAIAAAD9b0jDAAAE6UlEQVR4nG1VS0sbURi9r0wyQ2Mki6qxiE8IcWFaceWiiko37bKrFvwDrgRxo1iK6KYQXAZKF6VCoYtWUASl4KJURAQfIFXa2qIQI2ZsNZNh5t65t4uv3AxpZzHceZ175nznOx9OJpNBECCEMMZKKRQ69B04w6U+//dNWBMpJVwopcIQSil4JKXEGGsszjmlVOPCy1JK/TlCiNQg/ruB/pgQghCyLEvf0YSAoObLav5Ov0QICYIAYyyEAH2UUkAzCALGmGEYhBClFGMs/IsIIVajo0aEP0okEgMDA0NDQ5lMJpVKMcaurq5+/Pjx6tWr1dVV3/cBMUxLKcVqCCqlgIuUsq+vb2pqKpvNUkoxxpRS13UbGhpSqVQ6nTZN8+3btyBoba3q6+tr7lJKfd9vbGx88+ZNNpv1PE8IcX5+/vPnz6urq2Qy2dvba1nW5ubmkydPfv/+HYvFtOKwYGGOAC2EoJT29PT09PRwzm3b/vDhw7t37w4PDxljd+7cyeVy/f39nZ2dTU1N19fXlFLQSuOQf70G9amrqzNN03GcpaWlfD6/vb0NfnJdN5lMIoQqlYrneYwxhJAQImzeKijgIoRA+4uLi2Kx6Lru3t6ebduxWIwx5nneo0ePWltbK5XK4eFhqVQCTUF0jcs0VlgEKeXu7m4ul2ttbS0Wi3V1dVJK27aHh4dHR0c9z+Ocv3792nEcaASAA1xCCE4kEmGHwwMpJSHEMIx4PB6NRn/9+mXbdjqdfvnyZTqdjkQi+Xz+2bNnGGPQSjceUGRhOM0XFPA8T0oZi8WKxWImk1lYWOjo6IhEIjs7O7lcDszHOYe6h/uKhNUMVywIApCiVCrdu3cvn8/fvXs3Ho9//fp1YmLi4uICnkYiEfiWEIIxBhtULVWjKVy6rtvd3T0/P9/d3W2a5tHR0djY2JcvX+LxOGwspQyCgFIKRgQEFiYYhoPNU6nU8+fP+/v7DcP4/v375OTk58+fTdMMggAaH0oPyjLGfN9HCJFwIOk1pElLS8uLFy/u379PKf327dv4+Pjm5mYikdDNo4MY/lrnTrVQmi9809nZOTc3NzAwEIvF9vf3Z2Zm1tfXo9EoRBSUCPzkum5XV9fw8HC5XF5ZWXEc5z8pJaVsaWmZnp4eHBwUQuzv709NTX369MmyLEB0XZcxJoTAGDc3Nz98+PDBgweZTOb9+/fLy8tSSgbkAc4wDMdxGhoaxsbGRkZGgiA4OztbXFzc2trinBuGgTG2LOv27dvNzc3t7e19fX3ZbLarq0tKWSgU1tbWYKdqSsEhhHj69Ons7KxlWUKIUqlUKBQopYZhGIYhpQS+lNJoNGqaJlTp+Ph4YWHh48ePAFptU0KI7/u3bt16/PhxIpHwPA9ipa2tDZzreR7IDWVxHEdKeXJysrS0tLy8fHJywjk3TVMIUR0nmi/nXDcrQqhYLFYqFSnl5eUl57xcLl9fXxcKhaOjo4ODg9PT05ubm3Cm/A0U3UWQ7YuLi9FoNB6P7+3tbWxsHB8f27ZdLpd93weTa3tqq+o7f5Olvr6+OloJEUIAQeiQSCRCCGGMBUEAUoKXw9R0SsGimlJaWZhFnHOIFWhEYATTUE/ZmsQAAUH0asDoOQNmhIBACMG00M4DRBU6apJIKUXCUxD0UkrBQgihOeotw2fNJjylMcZ/AKpT1/hHHh8BAAAAAElFTkSuQmCC\"/></td><td style=\"padding:1px;\"><img width=\"200\" height=\"200\" style=\"image-rendering:pixelated; object-fit:cover;\" src=\"data:image/png;base64,iVBORw0KGgoAAAANSUhEUgAAABwAAAAcCAIAAAD9b0jDAAAEXUlEQVR4nH1VzSt9Txg/83Ze7nVfUlhwLVCUq1BKyl6JkpVkYWcta38AC9lbKImNZMcCpRQbSklShK67EK6Xe+45Z+bMfBfPNY7r/n6zmGbOeeaZz+fzvAxKp9NhGBqGgRBSSsEMW8MwYK3Hf9noL4ZhYIyplBI28FXPYGr8HhXGUsqKu8E7/ovoL9KqM0IIIYQxRt8DYwx/cdRF1DuAraqAlFKfAukqeFDtQutSVS+MsWEYjDEpJcYY/AohYA3GGhmNagEutJ1SijGmrX3fF0L4vg+WpmkihAghYBA9RbXkFfSFEEIIzrnv+xhjQkgmk2ltbe3s7Ozp6fn6+jo4ONjf3y8Wi6ZpaonhApRIJIAReAyCgDEWhmE6nU4mk5lMpq2tra+vr6Ojo7GxkRBCCLFtm3Puuu7q6urS0hLnHCFE6Q/pslOQ3HGcbDY7Ojra399fW1trWRZjzLZthBCQ9X3fNE3XdSml8Xg8l8tNTEycn58zxgghGikFOWCTzWYXFxe7u7tBOM/zCCFSSvCLELJtWymVSqXCMPQ8z7Ks1tbWy8tLwzAIIWEYghlV34MQ0t7e3tHRUSqVEEKe55mmyTlnjOXz+UKh8PLykkwms9lsEATFYtGyrFgs5nkeJNmv6OsVY+z19fXu7q6pqUkpVSgU7u/vT05OTk9Pr66ulFIfHx8jIyPz8/OJRMKyLMdx8vl8Pp+HuOuELUcf0tD3/aOjo9nZWdu2Pz4+crnc+/u753mO48CZUqn09fUVj8dramqKxSLG+OnpKZfLRSsKwkN1kiulfN8/Pj5mjAEjSikoJYQIgiCVSg0MDMRiMSGEbduMscPDw7e3N8uyqlcUQogxBilNCCmXMMa6WGOxWHNz8/DwMKSOlPLx8fHo6EhKKaUUQlBKdQVRI9KTAHUYhhhjjLEQAuzCMJRSjo+Pp1KpIAgg1tfX1zc3N3BE4/jRtKI/aSK6e0opW1paxsbG4vE4IHVdd3t7+/n5GQBJKaFeYeD/6U+Qd0opx3GGh4fr6+uBhG3b19fXu7u7lFIIDmS6bkDltI92T70FEZRSTU1NU1NTlmVBmZdKpZ2dnefnZzDQnH6Q6lW0z4OOwIsxNjc3l8lkIA0QQg8PD1tbWyARsNZxL2taIWi0gSqlOOeTk5NDQ0OmaUopOedBEKyurr6+vkJvjbrTLH9pEcULTnt7e6enpy3LEkIwxpLJ5N3d3d7eHuccUEMfqQgMjaLTM8aYc57JZGZmZlpaWqAcgiBwXXdlZeX29hbqAvT5y7UK0nKpUdrV1TU4OAhND6Ctr69vbm56nieEkN+jIh7Vow/EMcZ1dXWEENM0fd9HCG1sbCwsLOiqg0hWuCunjfH7vdSdECF0cXFxdnbm+/7n5+fa2try8nKhUADK0JOiqR3tISiRSGg1ddDhTtd1a2pqGhoagiB4eXkRQjiOEwRBxaNdEWSEEEomk1A5FQkLF3DOgabjOMZ3e4++klWf6H8ktIUxSPC0WgAAAABJRU5ErkJggg==\"/></td><td style=\"padding:1px;\"><img width=\"200\" height=\"200\" style=\"image-rendering:pixelated; object-fit:cover;\" src=\"data:image/png;base64,iVBORw0KGgoAAAANSUhEUgAAABwAAAAcCAIAAAD9b0jDAAAE2UlEQVR4nKVVz0sbTRiemZ2dJE12oxGxojVQGvx1MSgFkVIwUooiiogI3npqLl57qahn8eDFiyB48Q/woiC0RUExFBTa0pYWq4VqTVo17iZNdmd2enh1vtVPvss3h2UzO3mf532e930HR6NRz/MQQgghjLGUEv2/RQihUkoV6EZEjDFswos6A9iKgZSSEOL/RP+Dmh9MASCEVGZ+bP8LuZWgWn4Az/PgJHzSdR1dKQYw8mpRP8INgoqdyosQQgiRUjqOY9u2ruvkaikAjDG9NXF/OCklpdR1Xdgsl8uMsUQiEYvFjo6O9vf3Q6EQxPI871JTfyAlvJ+d0lQIEQ6HHz169OzZs2QyyRh7+/bty5cvP378GA6HhRCQBCEEm6aphFeGKKUgL865aZrd3d2jo6MPHz6sqqqyLItzruv6/Pz8zMxMoVAIBoNKbvrvrJWshJBIJNLc3PzkyZNUKlVfXx8KhVzXtW37169foVCIUjo0NPTmzZtXr175PbwlfYQQpTQQCDx9+nRkZCSZTEajUdd1EUK2bWez2U+fPuVyuVgs1tPTc/fu3UQisbGxAbkDoX/qVG0BQCqVmpqaqqqqKpVKX79+PTw83NnZ2d3dff/+falUsiwrnU6nUinOebFY1DRN0SKE3GRKCBFCUEoNwxBCfPnyZWlpaX19/eDgAP6paZqu6wMDA4ODg6Zpfvv2bW9vD7QSQlwaYxgGGKXSJ4RgjA3DqK+vLxQKxWLx9+/fQgjDMCorKzs7O7u6uh4/fmyaZj6fn52dXV5eVuHAWOrvHBXXdd18Pi+EiMfjvb298Xj8wYMHdXV19+7dY4yVy2XO+fn5+dra2urqqhACaIGsGONrAwVjDDQZY4BkmubY2FhdXV0wGMzlcmdnZxcXF4wxz/MopZ8/f87lcrque56nKv+SKYQTQmia5q98x3G+f/++sLAQDoez2eyHDx+Oj485521tbS9evEgmkzU1NVLKUqmk6/q14lGdAw5wzjnnkIvrugcHB4uLi0ovSqmUMpPJ/Pz5E2Pc2NiIMdY0DdqEEHKpA6UU2pYx1traWlNTwxhTdsHICAQCULyAhzGurq4WQuRyOcgP1FSdSVSRptPpubm5vr6+QqHgeR5UO5SX4ziUUoSQrusXFxc9PT0NDQ2c8+3tbZAS3FfGUCmlEELX9d7eXjAXdAB2IAuEcxyHc97Z2Tk+Pl5bW5vJZDY3N1XuipyUksLoDQaDsVisoqLCMIxgMGhZFuwTQmzbJoQ4jlNbW9vf359OpxOJxN7e3uTkZDabBUigpQqJYowppZZlbW1tNTU1PX/+PB6Pv379+sePH2dnZ5FIJBaLNTQ0dHR0tLe3A/Dm5ub09PS7d+/AWDAQdLhUIBKJQJXdv39/YmJieHi4UCgwxk5OTgKBQLlcjkajtm1rmnZ6enp4eLiysrKyspLP5xljfnP8YxNHo1GYr3/+/KmoqOjr6+vu7m5paQmFQgihk5OT/f393d3dTCZzfHxsWRaUgeoiKEfgq64TDPe+6qVisYgxVtZDt9y5cwcuFTgDEaEQEULXEodlGIaaT3AO+krTNCEEaK9pGuccvsJPCAQAN+5NjDFRlkFtQi7Qo0BWPdH1ex+c8O+jq7uDwBwECv4pBU/oPAUM7NT7jTtNkf0LMsl7rH2l4QwAAAAASUVORK5CYII=\"/></td></tr></table>"
            ],
            "text/plain": [
              "<IPython.core.display.HTML object>"
            ]
          },
          "metadata": {},
          "output_type": "display_data"
        },
        {
          "data": {
            "text/html": [
              "<table class=\"show_images\" style=\"border-spacing:0px;\"><tr><td style=\"padding:1px;\"><img width=\"200\" height=\"200\" style=\"image-rendering:pixelated; object-fit:cover;\" src=\"data:image/png;base64,iVBORw0KGgoAAAANSUhEUgAAABwAAAAcCAIAAAD9b0jDAAAEIklEQVR4nH1VPUszWxDe87GblawxIR8mITHCa1L40ZpCwUK00UIUKxUrQdA/YWHhD/AH2NqrlWCjhSAGyygiokRFjF8bs+s5Z99icsdzI/emCCcnM8+ZeeaZGRKPx5VSQRAYhkEphYNhGEopSqnxv58gCAgh8G0YBiEEvDggwn94Rh8w1f11UN0SDMCG6rcQbJuDUkoppdvokeIH3zYM4ydB/fa/wtGjxsAJITpRhBCqY6E/nNEa7vUkpJRSSriHVHQE2kYc/oSzEEInFP5tVYNzeIlzzhgDG3jgJxCIS88F0+ScQ1xwJoQwxhqNBufc87xms+l5nhACqeO/S6yUQh4ALggCyPf7+xseDoKAMWZZViaTSSaTruu+v78/Pj6CDUe+f5eIUgqItm2nUqlCoRCPx0ulUj6fT6VSyWQyHA6DECGI3d3dnZ0d13U5MtiSGKXIOqTsOM7k5OTCwkKhUOjo6IhEIkopy7IgJyGEaZqMsc/Pz6GhoXQ6fXNzw3XRQRGwMQghtm3Pzs6ur68nEglI2fd9gOCcN5tNzvnd3V29Xj86Otrf36/Vaoyxn/ShR1GMUkrG2PT09OrqajQaDYLg9va2Wq1+fX0JIV5fX2u12sPDw+Xl5e3tLSHE8zzbtpvNplKKIyN6bxBCwuHw1NTUyspKOp32PM913dPT042NjUajIYSwbRv1gGz4vm+aphCCoryxUL7vK6Uymczc3Fw+nzdN0zRNwzC6u7t7enre3t4IIeCJvYCqkFK2xI+qxjAppbZth8NhcP74+IhGoyMjI/Pz85lMBnSqJwfFkFIKIZRSJBaLwRU2IqXU87x8Pl8ul3t7e7u6uiKRyNjYWCQSub6+Xl5evr+/h8wsy4LqCSGwg4Ig4PAgTlKIMZvNSikPDw+bzWYQBOl02rKs8fHxZDJZKBTu7++BO6AVEPXGae/IIAiGh4e3t7e3trbGx8ellK7r3t3dnZycuK5rmmZnZycIHvq1rRUhMt4mUkrpwMDA4OCgZVm5XK5YLO7t7T0/P/f39zuOY1mWYRihUAgmCM5ZjLE1HzBr6CUhRKVSqVQq5XK5r69vaWlpYmKiXq/ncrlQKPTy8nJ1dSWlhLIANFAH7q2JgX0JdlLK4+Nj3/fX1tZGR0cdxykWi+/v71CNg4ODp6cnIYTjODCWMGXEJYSQWCyGCsWhSQhJJBKLi4szMzN//vxxHKder5+dnW1ubp6fn4NIIC4sETAASZNYLAbwIA44Q1kZY7FYLJvNlkoly7IuLi6q1SrUGtjXu1HfLv+KFLcIJAWm0CTgzDmHeYgMIrSO+zOlUAYtrVGqlGKMAZuMMYADRGxTFIAe1s860W+ReBjS2IX62P2N1b5OdLW2WWD74u5sA9LLa/yz66i+RMmv7Y8oWG501nH1Z/4CqGR7qN8O95QAAAAASUVORK5CYII=\"/></td><td style=\"padding:1px;\"><img width=\"200\" height=\"200\" style=\"image-rendering:pixelated; object-fit:cover;\" src=\"data:image/png;base64,iVBORw0KGgoAAAANSUhEUgAAABwAAAAcCAIAAAD9b0jDAAAEKklEQVR4nI1WzUt6Sxg+M2ccE1E0tYw2RS0ylGxduCm3BSEU0cpa1KJFtZF2bfoDWtQ2F0IQuIpaRKtIaNcmCEqLgsRCTcGP8zVzF293nN/5ceHO4jDnOO/XM8/7vKKBgQHGmPI/FkKIc64oCjwRQv91DINHOAcbYcP/XYwxxhhsFEXBGAsXwlDsOedYBAR7hBC4E8EwxgghVVU556qqKorCGAMr4UUscIXlF1tw8GVZlqIolmWZpokQgpTBta04YYv/Llk2ME0TnhhjVVWbzWar1TJNEyLJJgIWhBCBegXwcAhjDCdcLtfs7GwymZyZmWk0GmdnZ+fn561WC3AAlATEAg0C5cgYyTj09/dvbm5Go1FVVd1u98bGRqVSub6+BhMIL5MBvpO/3cEPcD+WZT09PVWr1Z+fn1gsNjExEY1Gb25uNE1zOp02VvUytfFJ3D68drvdbDbb6XSmp6fn5+cJIfV6nVLa7XYZY5ZlORwOmTlg2MMUkBa1gE2j0cAYR6PR1dXVUCj0/Pz88PCg67qqqmAI9JJT5pxjmUDyEjGGhob29vbm5uZqtVo+n39/f2eMOZ1OcA2skDmAEMI2JomYCCFKKed8fHx8ZGSk2WxyziORSCKR8Hq9lUrFsizGGHBOFPdbMXi09RUE0DSNEPL29nZ/f2+apq7ri4uLR0dHt7e3h4eHLper3W4bhmGaJriGyhBCKBgM2gRChhzyDYfDw8PD4XB4amoqHo9HIhGPx3NycnJwcEApNU2TMUYIEc2GQqGQXLXsFIgFBoZh6LrudDoDgcD29vba2lqpVEqn06VSyel0QuE9KxuBbT1nWRZ8MU2zr6+PMdZsNq+urjjnPp+PUsoYg+5SpObGMk9ljRDBMcaWZRFCMMaUUk3Tksmk2+2u1+vlctnlcglhhLIURSHi7sQGShDSB6dVVaWUtlqtlZWVVCqladrl5WWn0zEMA3oPKoNnr6NkMstiyhijlFqW1W63d3d319fX/X5/oVDIZrPAUNAwudF/e1/OSwSEPaW0Wq2Ojo5mMpmlpSWv1/v4+JjJZGq1Gig33LugKkKICOBE4yuKous6pRT2LpcrnU5vbW3FYjGE0N3d3f7+frFYJIQIVbWVSyBNmf8IIbfbjTEeHBxMJBKpVGpyctLv939/f+dyuePj42azCUnIBck0JzbZB9H1eDwLCwvLy8tjY2OEkM/Pz2w2m8vlXl5e4MYAa8hUDCiQ9l/pk2GFfTwe39nZCQQCHx8f+Xz+4uKiWCzqum7rY0E+ob89TMWCZA3DKJfLp6enr6+vhULh6+vLNE3IjhACjfDH7MS9kfzrJxQKySLNOYep6fP5Wq2Ww+GQpUh4kf8tiEvu0TwYDAKOsiACUWCcCBkW2IkMbCMPGKaA9MlICVrAoBfZyakJCVf+XEKY/gEWnXj8L/49RgAAAABJRU5ErkJggg==\"/></td><td style=\"padding:1px;\"><img width=\"200\" height=\"200\" style=\"image-rendering:pixelated; object-fit:cover;\" src=\"data:image/png;base64,iVBORw0KGgoAAAANSUhEUgAAABwAAAAcCAIAAAD9b0jDAAAEQElEQVR4nGVVT0v7MBhumrTdpnSdjjpF0eMmQ9TBUHeUgXjxIB705sXPMPDkxYPiJ/AL/MB/F7+AjIkHQU8qOzinY0zZEJx2a5ukv8M7Y605hCRNnzx53ifvi2KxGGNM+m4IIcnXPM+DXqx7nifLMqwHVsQewjn/i/K3IYQ45wghhFAAUZIkABHosp8C/APjwJRzDj1jDAYCXWyDgyVJIjD5ewU4H6YYY/8nWZYRQhhjx3ECrGEb8XxN8IWecy7LMqDIsgxT13Vd1wW+oVDor9w9poKswAoIyhhjjFFKVVXt6+vLZDKjo6PX19flcllRFEqpX6gfpoJd4AAgODY2ls1mU6mUJEmJRGJ+ft6yrEKhcHd3J7CAYw9UkAfh4ANjTNM0x3FM01xbW1tdXU2lUu/v79VqdXh42DTNp6enWq2maRoEUPCA34lfR4GIMbZte3Z2dmdnJ51Oy7JcKpX+/ft3f3+/sbGxtbXFGGu1Whhjzjn0ks/jRARa8IfBzMzM3t5eKpV6e3s7PDw8Ojp6fX1VFMUwDMdxWq0WIaTdbgMVUEngEv8JIKLruqZpbm9vT01NtVqt3d3ds7Mz8FA0Gh0ZGXEcR5IkwzA+Pz+73S5CCGIlTCkLLQAUY4wQyuVyuVzOsqyDg4Pz83NCehcaGBiIx+O2bQOK53kYYzCc3y0y+m7wDTy4ublp23a1Wj05ObFtmzEWCoVc152enp6YmIhEIpIk1Wo1xpjfSeKBEf8TBvRwOMw5D4fDkiRpmvb19aUoCmMsmUzm83lVVQkh5XLZsixVVaXfSQegfyzleZ7ruhhjxtjj42Mul5ucnDw+Pr69vW00GpTSZDK5vLyMMaaUXl1dwV+UUkVRhK97Muq6LoLOOQeLmKa5v7+/tLQUCoUsy6KUgnPBai8vLysrK41GAwIAIoC+vUwWjUYD6Y4Q8vHxYRhGNpvN5/PpdBpj3Gq1otFoJpPBGF9cXKyvr4NQ3W5XpAUR7V+aguMYY+Fw2HXdYrFYKpWACCGkUCjMzc11Op2HhwfXdcPhsGVZIuOAT8FVRLhX6I0xBr6EkE6no2ma53mWZRmGoaoqY6xYLMKzFtT8CLIsE/FshS2AGqXUtm0gjhDSdX18fJxz/vz8XK/XCSGQ/aCJhAtTWTxTkaj8WwUdXddN01RVtd1uDw0NGYbhv5kY92Lud6i/KojiAfsURYlEIs1ms7+/f3FxMZPJ/C0nYiwHCIpwBQrU4OAgqJxIJBYWFmKxGKUUNjPGIEqCsix9Z2X/wPuukXCSbdsQK8aYqqr1ev3m5sZxHEqp/+2D+gihX4lAhFIEFBZDoVClUrm8vMQYV6vV09PTZrOpaRo8aEEF9nPOka7rgeIVKKiwlVKq63o8HlcUpVKpQCIX4vjzKQKvBGqUH1o8PuACyQH8FAiR/64/PvUjSr6iL2qBMDzkB2GMH3t+147/Vst6d6/cgqwAAAAASUVORK5CYII=\"/></td><td style=\"padding:1px;\"><img width=\"200\" height=\"200\" style=\"image-rendering:pixelated; object-fit:cover;\" src=\"data:image/png;base64,iVBORw0KGgoAAAANSUhEUgAAABwAAAAcCAIAAAD9b0jDAAAFRUlEQVR4nG1VT0hUXRR/98+7M/NsZJ6Oo2Wm6YiBtagWQhBZRC3aRLhwM0FblzMkYrYQo6BWgRjSwm0bBwsqCEOYIEKif1CZBJExRVTKvJzezLvvntvi+N3v9fXdxXDvm3PP/Z3fOed3SDqdVkpZ/yxCiNbaiiw8EkL+3hNCAIAQgl+MBw4A/7mPG601pdS4wPvRf9GXuRLdU9yhXdQvGpkjAOAz+BJjjDEmpbRtO4oREXATQhRFFDseGWMAAABBEOADjDFKKcI37vDIDai/2bQsC6+ZYOPx+NGjR3O5HOd8YWHhzp07vu8bfhhjW5xa/7fMAyYbUkohxPDwcKFQcF1XCLF///4DBw5cu3atXC4nEgmD2rIs0tTUFM1VFDX+hmEYhqHruiMjI/l83rbtMAx//fqFxg8ePBgbG/v8+bPjOMiS1pqaKjG0GpgAEIYhpbSjo+Pq1aujo6OU0vX19VKpdP/+/Y8fPwZBMDg4eO7cOUppGIaIwLIsq6mpKZVKpVIpN7JSqVRjY2MymUwkEn19fbOzs57n1ev19+/fFwqFbDbb0tJy/vz5d+/e+b6/srLS39/POU8mk+jt3/SZXONSSlFKe3p6pqamzp49G4vFPnz4cOHChVu3bnme53lesVgsFotKqZ07dx4/fjyaKBptFbM450EQ7Nmz5/r166dOnarVak+fPs3n8w8fPkTWksnk169f7969i+QODAxIKTF2AODWny2IBaS1Pn369OTkZHt7OwC8efNmfHz8+fPnlNJKpUIp5Zwzxr5//+55Xjqd7urqSqVS2B0AQE3Uph5rtdqJEycuX77c0dEhhHjy5EmhUHj9+nU8HgcAIQSmhVIaj8cZY77vV6tV00Fa663wKaWEELQeGBi4cuVKc3MzpfTevXv5fP7t27eYWaynIAiEEJubm319fdu2bQOAlZWVMAwRFgBwAKCUKqWUUlLKXbt2zczMbN++HQAePXo0MTGxtrYmhMCHMUDOebVaTafTuVwO0dy+fZsxRghRSnHOKZratk0I4ZyPjIy0t7dTSl+8eDE1NYUeo3KD2WCMHTly5ODBg8lkcnl5eXV1FSUG/f4hbp2dnUNDQ4yxSqVy6dKlly9fJhIJLAZCCOYXq2337t2Tk5PNzc2+709PT//8+TMWi3HOMSCKGZdS+r6fy+WQo2KxuLS0RCmt1+tYQ2jNGFNK7du3b25urrOzEwBmZ2cXFxcty6rValJKjJsjTUEQNDQ0HD58GItmfn6+sbFRSoktCwC1Wk0I0dbWNjg4ODo62t3dDQALCwvT09MoshgutgzHrkfkjuNorcvlsud51WrVtm0AqNfrLS0t3d3dQ0NDhw4d2rt3r+M4GxsbpVLp4sWLP378wJJAwUX2t6SPMcY5//LlS29vbzabnZiYKJfLvu87jtPa2prJZDKZzI4dO5Dfb9++3bx5c25ubnNzM5FIYPaUUqY6ObKgtZZSzs/P9/b2tra2Hjt2zMwoIUS9XieE2LZdqVRKpdKNGzdevXplGDQ6Z65w7ATbtqWUi4uL2Wz2zJkzmUwGOcFr1Wp1fX398ePHxWJxeXk5CIJYLCaECILADIjo7CCu65qWZ4w1NDR0dXWdPHmyp6fHcZxyuby6uvrp06dnz55tbGwIIbBNMDNYlVZkdG8NHtd1TYo552hkKMcpEovF8Ltt2zj4UOWQR4Rp6n1r8Jl5GYYhyqLWGlsT1QibLwgCKaURCnSNz1t/znaOuAwppsGxHc3gQ1kyiq6UMiPWeDBgKbrHmW4EELOHLJssR1UcHzbxRg201r8BhRi+di8XHsAAAAAASUVORK5CYII=\"/></td></tr></table><table class=\"show_images\" style=\"border-spacing:0px;\"><tr><td style=\"padding:1px;\"><img width=\"200\" height=\"200\" style=\"image-rendering:pixelated; object-fit:cover;\" src=\"data:image/png;base64,iVBORw0KGgoAAAANSUhEUgAAABwAAAAcCAIAAAD9b0jDAAAEQ0lEQVR4nG1Wu0s7TRTdmZ19JBtjVIxGiBGJhQQsLARJY6EYCZJKO/8BKwtt/B+0EEtFbCy0trESfBQaCTGoaCMWSgyJuOS5719x43XM96VYZmfnnrlz7rlnQnp6ehzHIYQI3I8Q4nkePwOv8KSUep6HITDG9YQQ6rpuR4zneY7juK4Lr47j4IwoipRSxPI8D8LhifO0IxfEopS6rksIEUVRFEVJkhRFgQWEEEAhhFBKCSGQNeRLCGGA6LouHgoDXNc1DMMwDEiKUirLsqqqsBgS51mC8DYoBCAQfAgEAtFoNJlMTk1NhcPhYrH4+Ph4e3tbKBTK5TLkaNs24GJCsD3p7u5ujwhxHIcxxhhLp9PpdHp6ejoYDAqCIElSrVaTZblWq93c3BweHp6enqqqCtD/nynkKAiCKIqu62qalslkksmkqqqmaVqWVavVYBAKhRKJxNra2vf399XVlaZpvGBwzH5LRikQ1Gq18vn86Oio53nv7++5XO7l5aVer0uSNDExMT8/Pz4+vrS0lM/nHceBkmKd2xuEQiH8hoXq7+8fGRnRdf3j40PXdUmSTNOEQ6RSqa2trWKxuLCw0Gg0gDFUOmzAeNGKomjbtiAIpVKpVCrBvKIoyLXjOLIsy7Ls9/tFUQS6sbZ/jg/voCSoKfALYbifZVnBYHB2dta27UajYZomCKujrwghFEoPkdA8UFPsFr7BEonE5OSkJEn5fB70CxvzaXmeRxECexRWAKht27ZtU0otyxoeHl5fX+/t7a1UKsfHx5ZlKYpiWRafVrvNeCDMHxsBa6goysrKSiKRoJSenJycn59LkmRZFpwdmhU5/ZUu0oe4qJVms5lKpZaXlzVNu7u729/fd10XckT9o/LboP/1PeQeTCQWi21sbAwMDHx+fu7u7pbLZRBDh+n9qT6vKiQIfqZp9vX1bW5ujoyMWJa1t7d3eXnJnxfrwVvin+Pz1ksIYYxJkjQzMzM3NyfL8tnZ2dHRkW3b4E+oFigpKAS6gPKV4TcADQWDwdXVVZ/P9/z8vL29Xa1WFUVBwcmyjP77p6OEHw9HowLlw0wsFotEItVq9eDg4OnpiTFWr9cBQpIkn88HjBmGQSmllEKmrINpXrOMsaGhIVVVHccZGxtLpVKhUCgSiUSj0Xg87vf7A4HA29vbzs7O9fU1tGI7UwTFAbAOOq1UKrZty7KcyWQWFxcZY11dXbC9oig+n29wcDAej9/f3zebTURgHc2AAgDWCoXCxcVFMpnUNA26EC4YsNevr69sNpvNZhuNBiQBN2Pb+QXuLkE2gKZwOAyerSiKruu5XO7h4eH19dUwDF3XGWOtVgsqgdr6BUVJYXGBeOgosF28lHgD4wUAUW1Qvjt5ZwHTE34cCNwabBeXybKMgv2VFC9+4W/7Cz9/JqB04KHwirc6jwgEUoCAI+DmHWPsBf6T8GOPfItDKv8ApJqkarBfQLgAAAAASUVORK5CYII=\"/></td><td style=\"padding:1px;\"><img width=\"200\" height=\"200\" style=\"image-rendering:pixelated; object-fit:cover;\" src=\"data:image/png;base64,iVBORw0KGgoAAAANSUhEUgAAABwAAAAcCAIAAAD9b0jDAAAEbUlEQVR4nG2WvUsrQRDA7/YjH8VFIcQgYjApYqEWwc5SiSgINmlTifoP2NkoghZCBJs0DwRJY6GNTQoJplExjWijJo1gzhBEjEkul7u93VdM2Jx5b4tl9253Znb2NzOrDg0NCSGEEMrvBl9UVVUUhXOOMeacCyFUVYUe2sB6IQRCCMHS/4pDCMGYEAIiEEKMMUIIyAV90GAjqCSqqsInqRYGjuOAUMYY55xSihByHMfr9UqjYKPULSWQgbk0AWOMECKETExMTE9PK4ry9PT0+fn59fVlGAal1OPxwEawTh4RIUTgk5Qle8dxVFUlhCwsLKytrUUikUajYVlWpVK5vb09PT19f38nhDDGwI+cc9grhCD/dagQAizFGH98fFSrVdu2TdMMBoOJRGJqamp+fv7w8PDi4sLr9UqPSyGqpmkDB3ePVVX1er2BQMAwjE6nE4lEUqnU8vJyNBrVdX17ezufz3s8Hs459L3b/5ckKdFxHM65ZVnf39+tVss0zdfX10wms7u7q+t6OBxOJpMAANxhnyo3QxJAuFbwADgXY6woSiAQaLfbDw8PrVZL0zS/3+/z+TDG8lgwQAPukADDGNxvmiZjjFLabrcxxnNzc6FQiDFWLpdN0ySESLk9wAfMdHsWaJeQA5jj4+NbW1uRSKRSqVxdXVFKhRDdbhcWQEMS4wGJUhA0oCcQCBwcHMTj8UajcXJy8vLyoqqqbdtSNzQ0ALDU4VaAMe52u5FIJJvNLi4uCiFyuVwul0MIeTwejDF4vI+5RGqAKoSQZVk+nw+oWl1d3djYiMfjjLHj4+OjoyPLskAW3CokHdjbi32wFH5DA0R8Pt/s7Oz6+vrMzMzw8LCu63/+/MlmsxBsiqIwxmAvZADoiXsuFUA2SiQS6XQ6lUphjDudTrFYPDs7u76+hvW2bYNcSaG8FSK5AdPgt6Zpm5ub6XQ6Fovpup7P5y8vL+/v7w3DkC6G08jjy8DvCe0RixCsC4fDe3t7qVTKcZxCobC/v18qlSillmVB6qSUwnoZeG7AhRB9S8GnIHFlZaVWq52fn2cymWq1GgwGDcPw+XyWZVFKwUxKKWNM3nO324XY61kKpQL6paWlZDJpGEa5XC4Wi6ZpBgIB2KZpGsYY0tLY2Njo6ChCqNvtNhqNt7c3XdchVxDwtJukWCwGB4zFYjs7OyCFc84YA4YopZqmmaZZKpVubm6en59rtdrPz49pmtIhxA0tISSfz09OTkaj0ZGRkWAw2Gw2PR6PaZqKoti2bdt2vV5/fHwsFAp3d3f1er3dbgshKKUyh3DOe/DL/OQ4TigUIoQQQjjnfr+fMWYYBmOs2WwCW+ArqFcQe5RScChcTz+iINFCeeh0On6/37IsKESALQAApVSWEEKI4zgYY4hyyK2/whQYAGIwxrZtu58EMg3Lci2xUX6nYyIRcwcoeFBWAdDvjm6YKr/fHP284b59eQSZBCAiZNGWut2vBwDeraNfouXqfx8zA+8M+cu9VxorhPgLhrSNCm1ucEcAAAAASUVORK5CYII=\"/></td><td style=\"padding:1px;\"><img width=\"200\" height=\"200\" style=\"image-rendering:pixelated; object-fit:cover;\" src=\"data:image/png;base64,iVBORw0KGgoAAAANSUhEUgAAABwAAAAcCAIAAAD9b0jDAAAEiUlEQVR4nGVWTUsbQRier52NrCapnydTUGg1wYsK4kE8iYggEby2iODfUPBavHpoLx486Q8IRAuikosiiKLiFxE0kihWtqbZzczs9vDGcZrOYdmdnff7eZ5d/OHDhyAI0NsKwxBjDDeEEIRQ3VtKKezAMdMEFsaYwIkwDE1LWEEQwL52BDEYYxhjpRQc0+bakGCMzS19AjwqpcAX55xzDokopSAGlKJT0ffMLCQIAvy2OOdCCHglhJBSCiGUUpZlWZZl27YQAmzruoEQYu85E2IWgjGmlCKEmpqaBgcHJyYmkslkGIZHR0fLy8sPDw+UUiklWBFCwATMa5nCM1wZY2EY+r7f3t4+NjY2Ozv76dOnxsZGz/OUUj09Pa7rLi0tWZYFldX1DSGEY7GYHh/0nlLa0dExMzOTTqd7e3ullE9PTxcXFzc3N52dnSMjI3d3dxMTE67rUkqVUoQQMNdXVtdmSmkikVhYWBgfH1dKXV5ebmxsZLPZq6sr13VTqdT379+7u7tbW1s9z4OqARvaYxiGTBcO/bZt+8uXL9PT0/l8/sePH+vr66VSiXNOKY3H4/f398Visaenp7m5+ebmxrbtIAj+HwbTE4TJxOPxoaGh4+PjxcXFXC7neR7nPAiCIAgikUgQBFJK3/dhn1IKyRJCpJQYYwhQm76Gzuvr6+rq6tnZ2fX1tQaQUgrgGY1Gu7q6hBCFQgEAB0tjsZapCVqEkOd52Wy2Wq0qpRhjkBqwSCnV3Nz88ePHQqFQLpc1Ryil4BGGhhBiGlwwxCAIKpWKSVNCiBAiDEPOeTqdtizr/Py8XC47jqMnDgm+T18DzWS3pgeE4ZxjjKPR6OTkJGNsc3MT8gJ3cB4mVuORmabui2a3jsc5Hx8f7+/vv7293dzcbGhoAFxD7SZIwzAkpjL93woYkW3bDQ0Nc3NzGONv3769vLxomph6BO3CGL/LDDKkU99QSimlrutOTk5+/vz57Owsl8vVqSUMR+Opxn30Jsk6Wd1+iJ9MJufn54UQa2trpVKpZsmYUsr3fS0C2vU7o97l4E0HIAxjbHZ2NpVKXVxcZDIZIQTgwfM8x3Ha29sdx8EYPz8///nzp2ZiejQbxDn3fT8SiYyOjk5NTZXL5Xw+Pzw8PDMzk0gkOjs7Y7FYY2OjZVmHh4eZTGZ3d7dSqQC6aypl5gikJIRUq9WBgYGVlZXe3t7fv38LIXzfb2lpwRhXKhWE0Ovr68HBQTabzeVyj4+P5XIZiMt0++q0SinlOM7Xr1/7+vqADpFIJB6PFwqFUqm0t7e3v79/cnLy8vICCcJI/1H+up4SQjzPi8ViiUTC8zx49fDwcHp6urOz8/Pnz2KxWK1WLcvSrDFJxTSezC+VlNKyrGq1ur293dbW9uvXr62tre3t7Xw+77qu4ziaRRr/mmAIIRyNRk0KazyBUhBCoMVQGiEEUCGlBG3W3zcTtsz8HJr/B4QQ8CiltG0bggHBzAGYmNfJMd0LUwO1DsB/gxCCcw4aqHlcp5nmYlCRGVl31sSvlBIZqqHtw3//eeD8X1RRwAEUioj9AAAAAElFTkSuQmCC\"/></td><td style=\"padding:1px;\"><img width=\"200\" height=\"200\" style=\"image-rendering:pixelated; object-fit:cover;\" src=\"data:image/png;base64,iVBORw0KGgoAAAANSUhEUgAAABwAAAAcCAIAAAD9b0jDAAAFCUlEQVR4nGVWOUhcXRR+d5n3dEbFUccRg6QyEU2IceuSSg3EBcHGTCFpIoIWWlgJoo3YJCFg41KICwTSiWAjSmKTVCKMGEXRmMIFJy485y13+4vjf30xtxgud8495zvL992HCgsLlVJKKcMwEEJKKYSQYRhwElz6LyklbODKPTOEEJZSSinhjl76JHgO9znnlFK4rGNoS/ilGoWOA3ttSikFj4QQOOGcK6UwxnAupSSEBFHTIOxgXhoLXHZd17ZtOOGcZ2VlUUoxxkIISinnnBCiq0c1NB1KJwvxGWOhUCiRSNTX1z969Igxlkwm19fXNzY2tre3McbgGuwhKiooKACnGON7pYR41dXV/f39z58/l1Lm5OS4riuE4JxfXV3Nzs7Ozc15ngcpEkKklBhjGsw9uA+FQoZhVFRUtLe3K6U+ffqklHrx4sXx8fH379+LiooaGxv7+vouLi6mp6fj8TjnXLcO5efn685qj5B4NBotKSlxHOfo6Mj3/bGxsYqKir6+vmQyaZrmw4cPJyYmCCGJROLk5ARjDB6gIPjfXgFSIcTBwcHv37855+/evevo6Dg/P9/f37csy7Ksvb29paWl4uLi5uZm13V1DW/nVEcAyHoer66uHMdxHOfBgwddXV2MsaWlpevra845xjgSiaytrdm2/ezZM0opTB5jzDAMjP5fMHq6RVJKSqnjOIZhvH37Ni8v7+fPnysrK7m5uZRS13U9zzs+PrZtu7y8PCMjA0bNNE2lFA6SASYDISSEgOEXQtTW1ra3twshxsfHU6mUEMLzPMYYQiiVSu3v7yOEwuEwxjgzMxMu4iCFYK/75vt+LBbr6elhjH38+HF1dRUygMJRSk3TjEajkUjEdV2MMTAYIYQ1czQltNOsrKz+/v6XL18uLCxMT0/f3NxAycBjOp0uKip6+vTp9vY2VNmyrL9oGpxTGCmlVGtra2dn57dv3yYnJ13XhTTBDKI2NDREIpHNzU0I5nnebbcLCgqC/BFChEIh13UrKytnZmZs2+7u7t7Z2YEOMMbAwPf9/Pz8xcXFcDj86tWri4sLGEFQOKyVFDqDMWaMmaY5MjJSUlIyPj6+tbVlmibn3Pd9mDwhBCFkYGDg8ePHnz9/Pj09pZQKIXzfhwwwANaVBUSVlZU1NTWHh4fLy8ugnowxEAcofUtLSyKRODw8nJqasixLZwBtvD9SgKKpqSk7O3t5eTmVSlmWBXmZpokQ8n2/q6trbGwMITQ0NPTnz5/MzEwAKIS4a5QmEqWUEIIxLisr833/7OwsIyODMaaUsizr8vKytLR0cHCwsbFRCDE6OrqysmJZFqgUSBR4p8FXgRDCGIvH42VlZbZtX15eAhGUUvF4vLe3t62t7cmTJ7u7u8PDw4uLi9FoVEoJADUPMcZUD6auMbgOh8OvX7/OyckRQlRVVdXV1RUWFjqO8+XLl/fv3//69Qu0FdisVelW/GOxGMjHnRoiNDo6+ubNm0gkcnNzAySRUq6vr8/Pz3/9+jWdTpumCb0OPmhaRm6RBgVQSvnhwwfP81pbW3Nzc09PT3/8+DE7O5tMJh3HATXyPE+/PRrKnSjHYjEhBNAZhp8Qkk6noW9BYQyHw1Bi3/dBiOF5B0DBGFQXWAc0DCM7O1tj188yMFVbalU2/vnyuOO+LgpQjTEGPIELhBAgos4JvOuU/+p2UJmClIXswAhmUH8dBUupMelzpdR/9BrGndp0VLUAAAAASUVORK5CYII=\"/></td></tr></table><table class=\"show_images\" style=\"border-spacing:0px;\"><tr><td style=\"padding:1px;\"><img width=\"200\" height=\"200\" style=\"image-rendering:pixelated; object-fit:cover;\" src=\"data:image/png;base64,iVBORw0KGgoAAAANSUhEUgAAABwAAAAcCAIAAAD9b0jDAAAEYUlEQVR4nG1WO0szTRTeuWV3E0O8RtRGJCBiIdhpoRbeOsFGwUoUC2t/hI1/wcLGwguioNgIFjaCIoIiXlAJIWpcCzW62bnsW5x43C9+U4TZmTlnnvOc58wJSafTxhjLsizLCsPQ+hk4p5QGQUApDcOQUsoYM8ZQSuEMIQQn+MmNMVFfMIwxjLEwDMFFPB6HRUKIlLLiVpiEP4MQwmEDL8RPpZQQQmuttfY8D7YcxyGEuK6rlCKEAHxECk5+neI9cI4QIoT4/PxsaGiYnJwcGBhobm5+fHxcX1/f3NzUWgMthBCAD64R2a9ToAk2pJTGmLm5ufn5+UwmUygUlFI1NTXd3d2c87W1Ndu2tdZgAlZgWEYaJRtWlVKJRGJxcXF8fNz3/Z2dndXVVc/zBgcH5+bmJiYmDg8PPc9DKFGYkHMOIVSwMzQ0NDIyUiwWl5eXV1dXn56etNbX19djY2Pd3d1NTU2FQoFzzhgDKhATcEKjaoDhOE4ikcjlcisrK0tLS/l8HpTg+36hUHBdN5PJADStNQYaVQ6nlAJmVF8QBCcnJ57nHR8fa61t2/78/BRCOI7DOVdKMcY45xh7hSLL2Y8iBw3d3d3l8/lSqQQAY7GY1joej6fTad/3n5+fAQqgifIGv+Xw4U4AyzmXUvq+b4yJxWKQOmNMKpVqaGj4/v7OZrNCCKSLUooFVi7CaCVgLIwxKSUqVwgRhuHw8HAymby6unp9fQV5gglARrValkVx72+xKqUgFb7vJ5PJvr4+KeXZ2dn7+ztwh1GWfeEkqjJcjR6ilDqO09LS0tHR8f39vbW1xTkHJSGbUUWWkaKX/2z85A1c9/b2NjY2np6e3t/fg4lSyoo8VFFYNPoQoCbgtNaac04Iqa6unp2dtSxrY2OjVCrBLmMMbYFZ+LUsi2P4UWWAbIForfXU1FRra+vDw8Pe3p7rulhFKHBMDGPsl1PMEhQPrhhjMpnMzMyM67rr6+tvb29SyiAI/nqEcgd+KSaxAimoz7bthYWF6urqy8vLvb095JpzDgeMMaVSyRgjhBBClMsUEaH+AbIQQko5MjLS09OjlNrf37+9vSWEfHx8cM6hcGtra9va2vr7+4UQBwcH5+fn0Hh4pRp+Pn3fT6VS09PTruvatj06OtrV1fX29uY4jpQylUq5rptMJuvr66uqqnK5HHgspxfQVTypUKy1tbWgbSFEZ2dne3s7VDCE+fX1pbV+f38/Ojra3t4+Pz+XUjqOY4zhUVmgqoDyp6en3d1d27abmpri8XgQBMVi0fO8UqmUzWZvbm4uLi5ubm5eXl6CIOCcc86NMVprUldXVyF+nBtjEomE67qxWEwpJaX8+vqybZsxViwWQefYXDnnaEvq6+uj2Y9WAeYXOmsQBK7rhmEIHSwWiwGDVqSbgpNf91GMFdIDSTPGfN/H8vN9HxWGgoU88/99n0BhWmv8V4Gd42+jx/hQkbTiZUIDwIgTfDGBk2jhVyTDsqx/2FKfeyjL65IAAAAASUVORK5CYII=\"/></td><td style=\"padding:1px;\"><img width=\"200\" height=\"200\" style=\"image-rendering:pixelated; object-fit:cover;\" src=\"data:image/png;base64,iVBORw0KGgoAAAANSUhEUgAAABwAAAAcCAIAAAD9b0jDAAAEkElEQVR4nGVWO0srQRSenZkdk41BjUWMCIKiiIgIioKCYiGWKmijCFoKYuGPsLBSwQs2NoKiqG3QSqwsfICFb1JIfKBiEl/ZxzxucbyTTe4Wy8zuzDff+c53zq4Ri8WklEopwzDgjhDSg4KxfoIQ+n+9nlKlFCyCdXqPfqgHGGMhBAwQQlJKjLF+61+c9xQoawjYTCk1DAOIEEL0ZkDUPPzMsCYopdRwgO55nlIqm826rgsPPc9DCAkh4Aw/D/+dakUMwxBCKKU450DE8zxKqeu6Qgjbtg3DYIz5JfIrq4X+1RQOBFwpJaW0pqZmcHCws7OzqqoqFAp9fX1dXV2tr6/v7e15nhcIBAqoFSTTiEajv+piDHHFYrG5ubn29naM8ff3N0KIEGJZluM4y8vLCwsLjDEtqJ+jxqFaeKWUlJIQ0tTU1NbW5rru29vb0dHR9fX1y8tLT0/P0NDQxMREPB5PJBIFUfvJKqVyoJAo0zSTyeTGxsbn5+fh4eH5+blhGK7rJpPJvr6+srKyxsbGRCLhd0Iu6n8nUT03DIMQIoS4v7//8+eP4zi2bf8uorS4uDgUCkkp0+k0+EwpJYQAV2hEWI81KOQKIWTb9sfHh+u6QFwIYVnW2NhYJBJJJpN3d3eEECklIILiMNB1Qf1u1zrANqWUaZq1tbWzs7NdXV2pVGp7e/vh4YEQwjlnjAEvbfCcTwvEBnQIrbq6emRkZHh4uKqqinOeSCROTk4458FgEBaA//xdAoKmBXOtVGVl5fz8fEdHRygUsm3b87zKysrp6elQKLS/vw/QUMoFNkAI5TSFA7X1ysrK6uvrEUKu676+vmYyGUJIX1/fysrK0tJSeXl5KpXCGNu2DYXrtwH1+xb96xSGYaRSqd3d3ebm5qenp+Pj47u7u5KSkoGBgd7e3tHR0Wg0OjMzc3t7W1payjn3pz6vovwiAC4cALVPKXUcp7i4eHh4eGpqKhKJ3NzcjI+Pv76+hsNhIYTOLdZW0IcAHOdcSsk5d13XNE3GmBAiGAxyzjc3N9fX15VSra2tMzMzJSUlYBjdPZDup9oZMIVqoZRSSk3TxBhTSiHXCKGtra21tTWMcX9/fyQScRxH7/0FNXwXpFJfEI5t25AHKWU2m2WMZTKZ6+vr9/f3ioqKWCzGGINSBL5KKYx8fVvlX376hJBgMBgIBNLpdENDw9DQkGVZPz8/mUwGIqOUgph5PgWamiwhhDEGloKeghCqqKiYmJgYGBhoaGgIBALxePz5+RkKTAv6aymU38BBO9M0w+FwOBz2PA9jXF1d3d3d3dHRUVtbGwgEstnszs7O4uIihAJVAB+OHFOU38kxxqZp1tXVTU5OtrS0UEohfMjYxcXF6upqPB7PZDKMMci7Rs9j6kcUQvz8/KRSqcfHx6amJsuypJSXl5enp6cHBwdnZ2fpdBpaIiBCfLmajEaj2mL+dCGEHMeBMyzL8jwPPq6WZcHH0TRN5Ovuulh+w9efaO1/mFqWxTmH1EkpGWMABIia4/99Lqep/7dAe7aoqAhwCSGEEHCCX/2CvyN4+xfkQab2v9b6WAAAAABJRU5ErkJggg==\"/></td><td style=\"padding:1px;\"><img width=\"200\" height=\"200\" style=\"image-rendering:pixelated; object-fit:cover;\" src=\"data:image/png;base64,iVBORw0KGgoAAAANSUhEUgAAABwAAAAcCAIAAAD9b0jDAAAEqUlEQVR4nF1WTUsbQRier91kN1FDEkqSzaEEFUqhEK0iUtLSa0891Lt66a0X/4E3UcTiwYrtQSiIpJ4FQQ9e9NCCIthW6aGfJtaQmmzqfsxMD286jtnDMjM788wz7/O87yzu7u4WQiCEpJQYY4QQvBFCQghCiBBCjcBXKaVqq4X6INM7qq1GAFHtBxAdKDCisyEKAqZSShVNNVtN0LfXNyOEqDdCiOn7SCkBC7qwB+dc8dKxIGjwBmjVJh2hUV1YzDlnjCGEGGOwJggCWA9ngnFgow5E1M46HWhwzk3TJISEYcg5l1KGYahIwRL+/1HCEkKYvCkOgMKpk8nk8+fPR0ZGvn37trOzc3p6Wq1Wf//+bRhGq9UKgsC27Xw+n0qlLi8vj4+PPc+TUhJCGBDUpQQKQohUKnX//v0HDx4ghJ4+fdpqtVzXbTabzWaTEFKr1XzfdxzHcZxKpTI1NbW/vy+EYIwxFUrdKGEYCiEuLi6Oj497e3vT6TRjLB6PO47DOQ+C4M+fP6ZpQkwikYjv+9FoVErZFkABKcpgeEqp67obGxtHR0c9PT3JZNK27Ww2a9t2LpfLZrNSSsuyTNOs1+tbW1ufPn2CtVJKHI/HOzwIXVAJuBBCKKWmaTLGMMYTExPPnj3LZrOJROL79+/v3r1bXV39+vWrEAI8wHQsZTSMsXIyhCkMwzAMpZSjo6OPHj3q7++XUjYajZWVlaWlJfhEKW0jxGIxxU4ZQLchsMYY//37d3h4eGZmZnBw0HXdIAhmZ2ffvn3bbDYBTiEwlTMQSmBKKYWRq6srIQSI8PDhw6mpqYGBAYRQtVp99erVwsKCbduK4LV/9JgqPyOEKKW2bReLxWKxmMvlCoVCf39/NpvlnFcqlenp6XK5LKU0TdMwjKurK73iXMcUvAlZgRCKx+OTk5OTk5Pd3d2WZbmuC1pfXFwcHBx8/vwZIRSNRsMwDIJA1xljzDocqoKQyWSePHmSTCYty/I8LxKJQOJallUqlQqFwvb2drlcPjk58X1fP3s7o/TKBiISQhzHyWQyIFckEhFCnJ+fSymr1ert27fv3Llj2/bh4eHPnz9Bet3sDN0sz1JKz/MSicTdu3e7urp83yeEuK67u7v7/v3709PTs7OzYrGYTqfPzs6Ojo4ajYZuxDY0CAWnBokIIX19fevr67du3eKcR6PR5eXl169f//r1SwgRhiEhxDRNSqnneVAJ9QrXTlPQR2V9IpGYnp7O5/NQ8RYXF+fn52u1mmEYEAf1mKapqrUe0+siDU8kEhkbGyuVSowxSunm5ubLly8bjQYkgu/7EGUAhZN1XIvtiw/gIQUeP3784sUL0zSFEB8+fJibm6vX65RS5Y12ycAYaja6eXFAm0HmYIwNw6CUjo+PZzIZzvmPHz9mZ2c/fvyIMQ6CAOq/fkd0JLfyopSSAFM4SywWu3fvHsxeW1vb29uDtmEY+hnR/7sW3bzQVDCZ8iaE/MuXL0EQrK6uvnnzptVqGYbh+z4UQH2xvof64bjOddu2YRKQHxoaqtVqJycnIJQytr6mQ2u9dLRBu7q6dBYQQcYY1FDlPqCjimzHBkpt6P4DsnWfBG7mF+oAAAAASUVORK5CYII=\"/></td><td style=\"padding:1px;\"><img width=\"200\" height=\"200\" style=\"image-rendering:pixelated; object-fit:cover;\" src=\"data:image/png;base64,iVBORw0KGgoAAAANSUhEUgAAABwAAAAcCAIAAAD9b0jDAAAEY0lEQVR4nGWWyy9zQRTA53FuH/e2aEs0IRGWXhVhyc4zbInETrCzIsLCSq38E7phw1rEgtgRCwmxkDRUxCNIqUf13pn5Fkeno98smpm5M+ecOed3zimtrq4WQhBjUEpxopTSm0opxhjuUEqVUmXHcBMnTEppytLf/v/VEyGEUkoWB/k7lFKgF+ZnVRyMMVSDZjLGhBCUUm0mHqaUSim1QUyLoMVhmoZLxpheonV43xymlwAFlT32VyFjnucppXK5HCHEcRzP86SUfr/fdV0AkFJqR2uJhBBWpgetoJQyxqSUnPOGhobV1dXz8/Ozs7OlpaVQKEQptSyLUso5R91ayO+jI5FImXcIIZ7nMcZ8Pl9XV1cymWxublZKvb6+cs5nZ2f39/fD4fD39zc6xHzor0FlkdFyLcuamJjY2NhIJBLHx8fJZPLk5MS27bGxMcZYoVAoC5e5BPS9yYTrukKIgYGBxcVFzvn29vba2trV1dXo6GhPT09HR0csFstms3gR8cCL6DFKKZgwa21VVVWdnZ2EkN3d3ZWVlWw2CwBPT0/f39/hcFhKGQgECoUChkW/T8cGtPEaNynl+/v7zs7O4eHhw8PD4+Oj3++3bbuystJxnGw2WygUhBBolMbOzCswHaxPSCnT6XQmk8nn836/37IsKWU8HgeA8/Pzz89PzjkmNwCY2YwOAa2wpAeAc+66rud52svxeLy1tVUIkclkOOecc/O9ZmUghICmzCRDCIFUKaUcx6mpqRkeHh4YGHBdN51OY+g55zrTympNadcEQBcOAIjFYpOTk/Pz8/X19RUVFf39/W1tbfl83vM8DYBpMqWUmfSSv1nPGAOAlpaWvr4+27Zvbm6en597e3vX19cTiQSlNBAIuK6LRGI2/gIbjUbLEt+MGCGku7t7cHCQUnp6euo4zvj4eE9Pz97e3tTU1NfXlxAiGAyi90tcRqNRrYEU6xCKE0Iwxmpra23bzuVyt7e3lNJEIpFKpWzbnpmZOTg4AACsAyZhpZpmVgScW5YFAH6/X0r58/MTDodt206n01dXV5FIBAlDVLBsl6qwSa+OICGEc66UCofDTU1NnPNcLhcMBhGdYDDIGPv4+LAsSymFqfUnX03QzHzF/bq6urGxsWg0ilkUCATa29sbGxvf3t4uLy8dx5FSAkDZExn5rzaTYsnJ5XKxWKy7u3tkZCQUCn18fAghFhYWmpqatra27u/v8/k8AGgbERhCCJjQaj8AANr1+fkZDAaHhoYuLi7S6fT09HRfX9/19fXm5qaU0ufzFQoFzrmmCpGn0WjUxPPX08WyTwhZXl6em5t7eXkJhUIAcHd3Nz8/f3R0hAd0Q9W9pMSpyT/ygV0TACoqKiYmJiYnJxlju7u7qVTq5uYGxemgm53xD/wmoajG8zzLsjjnWJJ9Ph+ijsewpriuq7u3Nq68R5lz7QTdqJVSruuiW0jxr4K2qYSU2WfM7MQJ9mHUL4TAHMMn6zxESE1+/gFr/GXdOSmfKQAAAABJRU5ErkJggg==\"/></td></tr></table><table class=\"show_images\" style=\"border-spacing:0px;\"><tr><td style=\"padding:1px;\"><img width=\"200\" height=\"200\" style=\"image-rendering:pixelated; object-fit:cover;\" src=\"data:image/png;base64,iVBORw0KGgoAAAANSUhEUgAAABwAAAAcCAIAAAD9b0jDAAAEWElEQVR4nH1WzSt8Xxg/b2PuNS/krTuUwmY2U0qULOwmxUrKkixkQzR/xKRQFhIrSlFCovwByMprIXlJjJKUBjNj7j33nt/imd/jNOp7FrqdeZ7P+Tyf5/Ocg4bDYc/zCCGEEEopIUQppZSilFJKPc+jlCqlCCGMMfj4uzBGKcUYE57nAQRsYRAi4g4egBC49E2lFKOUAoV/xCE0/qTzwgDGGLBhOsGiA7EuPUAXCrEwBZbQk6FGnQshBKpGRq7rcs4hknNOCHEcBwlBitAp/FWNUso555y7rgu/ev8vKaXP5yugCIEVMMaE3jsopKALY8jUtm2llBBCCBEKhWpqaizL6uzsjMVil5eX8/PzLy8vJSUlkKKUEpCmawqMoFLAikajXV1dHR0dlmXV1NRQSk3TNE3T7/e3tbWdn59vbm56noechF4pOhQ+bNsOBALd3d2JRKKxsdHn8wWDwUwmQwjJZrPA5vv7WyllGAZas8BUbzEwhUIqKysHBwdHR0dra2tzuVw6nT49PbVtOxKJ1NfXA+jd3d3JyUkmkzEM41dWnaZuF9d1m5ube3t7gd3p6enExMTw8PD+/n5FRYUQ4uvr6/HxcXJy8v393TAMzjkyY3rVaAMhBGOsrq4uGo0GAoFUKjUzM7O9vZ3NZuPxeHV1NbR+bm7u+PhYSgkkwPxKKYZw0BwgCxG3t7cPDw+fn58bGxv39/emaY6Pj8diMejk3t7e+vq6UgpAIb3ASW83iA1ieZ53dXU1NjYWiUSenp6y2ezQ0FBfXx9jzHXd5+fn5eXl7+9vxhiMAFABWqJocsCtuHN2dnZzc+M4Tk9Pz8jISG1trW3btm2vrKwcHh4ahiGlZIwBG0wUKCUigm0ZY47jSCmllJZl9fX1WZaVyWQ45wcHB4uLizBmoCMOG+AK3ZtFdxrnnDHGGIvH452dnUIIz/NSqVQymfz8/DRNEwYEq8a/DPuDlw02EZg2NTUlEgnTNEG1tbW1i4sLIQQUAYXrVArd1+86/IAzIpHIzMxMQ0PDz8+P4zhbW1sLCwtQJuccG4scC7l4CWJzINRxnFAolEgk2tvbhRBlZWXn5+fz8/PpdLpIQRwZBBH6IaCRz+eDzYGBgf7+ftd1pZSvr6+zs7PX19eGYeRyOZ0HPhxoc4amLQwDY+DEeDw+PDzMOU+n07lcbnV1dWdnx/O8fD4Pp6IF4TLTB/L3OUHEfD7f0tKSSCQqKipKSkrC4fDu7u709LTf79d5oT2J9pAUmOo3qVKKc15VVTUwMBCNRjnnpaWll5eXU1NTmUwG5cYnB186vc8FUFQADq+qqmptbfX7/Zzzu7u7ZDKZSqVM04RbBvoDuEVD+PtG6ZaChPf396Ojo+rq6o+Pj6Wlpf39fSklygeTXjQm+n8IhBAaDAbRa5RSKSXn3DTN8vJyQsjb2xumAaIuIr4fiFtYoVDIdV0cJDSp4zjQ5UAgIKXUC0K3/KUMO/8BzwWqPwDdkvAAAAAASUVORK5CYII=\"/></td><td style=\"padding:1px;\"><img width=\"200\" height=\"200\" style=\"image-rendering:pixelated; object-fit:cover;\" src=\"data:image/png;base64,iVBORw0KGgoAAAANSUhEUgAAABwAAAAcCAIAAAD9b0jDAAAFEElEQVR4nF1Wz0tUXxS/v957M+OMjhiZPyIGJaGEQTHSIpAWIurKPyFw404oMQgiQhLchIIt2uhCpIW0c1ODRGWLQKk0QtDRwEkYm3Ga92beeH+1OH5v7zt3de9795z3OZ9zzuc8XFdXp5RCCGGMtdYIIYQQbAghsDHPMcZwhE1wGXOM8T8zpVTQBcYYnkgpwQD2nHPLsqo+r5Qy5gghUoUC7sGCo2VZUkrGGAAPhUJSSngLGwAOC44sGJ0JjRCCEOKcK6WEEEopzrkQIhwO+75/dnYG36CUAktAoAHHgu4MXoyxlJJSWl9fPzQ01Nvb297e3tLSUldXl8vl9vb25ubm1tfXtdaEEAAYDBTHYjHADNEBTCGE1rq/v//hw4ednZ1KKcaYEEJKCYQcHx8/ePDgzZs3GGPGmDE/BwtOg7FTSqWUV65cWVxcTCaTnudxzsvl8q9fv5RSjuM0Nzc7jvPx48d79+6dnp6GQqEq9v6Ff544QrTWjLHOzs5EIiGlTKfTqVTq/fv33759QwhdvXp1amqqt7c3kUg0Nja6rgsmZhFCWLC+wC/klFLKGMtms6urq69fv06n04QQznk0Go1EIgghz/PK5bJlWRhjIYQhV2tNwJ0hG8JXSv348WNzczOfzx8dHWWzWYyx4zgY44GBgY6OjlKp9OXLl2w2yzmXUhpCoWxYkAsob3jy8+fP58+f9/T0/P79Ox6Pa61PTk4GBgbGxsYqlUqxWFxeXvZ9P9gI4IdSiqPRqGkyk0SllJTScZz6+nrLsvL5fKFQSCaTS0tLTU1NjLH5+flnz56ZEIO9izEmwRdmQymllAohTk9PPc/L5/Pd3d1zc3MXL14Mh8Pv3r1bWFiAYgqWvfFLqjwG+YWkua47Ojr68uXLa9euxWKxjY2NJ0+e5HI5qGgg0ezhGywYO4gIHA2E27dvT0xMXL58mVL69evXR48epdPpcDgMl41WmCyd937wDEspBQwkEonJycnr168zxnZ3d58+ffr582fHcaCAwApKzSBVSrGgIBlegK+bN2/ev3+/p6eHc76/v//48eONjY2amhrTx8YXYwysznunimMIyrbtO3fuTExM3Lhxw7bt3d3d6enptbW1mpoaMLZt2/d9aGjOeXt7+8jIiO/7Kysrvu8z9H8lBb1oa2sbHx/v6uqSUm5ubs7MzKRSKdu2pZSWZZVKJagQrXVbW9vw8PDdu3eTyeTbt29fvXolpWRG4SmllmV5nhePx8fGxvr6+jDGh4eHqVRqZ2cHYxwKhZRSsVistbW1tbW1paXl1q1bfX19ly5dEkKcnJysrq5yzjHGuLa2NlhrnPPBwcEXL15Eo9FyuZzL5Tjntm3bti2EcF03FosBd5FIxHEcGDbb29uzs7OfPn2qVCqEEGZqCKo9EomMjIxEo1GttWVZFy5caGhoAH7+/PnT1NRk2zYkwHXdUqm0t7f34cOHtbW1ra0tMBFCsOAw0FpXKpVCoQDJheIHsGdnZ4VCQUqZzWaLxeLR0dHBwcH+/v7BwUEmk/E8D2QIgmCmnWB+aK1XVlbi8Xhzc3OxWNze3v7+/Xsmk8lkMq7rYow555B0kDtT1EaSzsdJUKFhzEFTQ1VblgXMmGqXUkopbdsGKEak/yl/1Yg2jUEIgc7RWgshIDqACdBAy+FysH3OBcUQai6Z8VclQuAL8FaJRtAPCcqHlBJQIIRAUs2INcTB2yoZ1f/94IDrv04R9sPGosTcAAAAAElFTkSuQmCC\"/></td><td style=\"padding:1px;\"><img width=\"200\" height=\"200\" style=\"image-rendering:pixelated; object-fit:cover;\" src=\"data:image/png;base64,iVBORw0KGgoAAAANSUhEUgAAABwAAAAcCAIAAAD9b0jDAAAEkUlEQVR4nGVWOy90XRQ++3bOzDlmGJOQMCgQEhSIqChEdKLxExSiUCj4D2qJKajfCL1CQygkGrcJhUwoEAkzLpmZc9mXr1jzrjmfdxeTs9dee+29nvU8aw9JpVJKKcuyCCHGGEqp1hqmlmUZYwghWmuYwkBPY4wxBi3gQwjhEAL2G2O01r8CobdlWWAEi5QS7b+2ULTi7XAa/6h7U4r7KaVgoZTiKjjXU8CbwzcM/MY0/12VUkKucTQoesSzwGUpJcAHuXPOwZ9zzhgDCzgrpQgh4Mmt2KifQ6kxBvY4jgNHcs6r1WqlUqGUwpJlWZzzMAzBAvWoB/1VPvN3hGEIrABXSmkul+vq6urs7JyYmMhkMtfX1/v7+y8vL0IIKSXnHFKklBLXdZEfSiljjOM4YRg2Nzen0+menp6BgYHp6enh4eFsNuv7PmPMcRwpJWPs6OhoY2Pj7e2NMUYphbiEEI680Vo3NzePjY1NTk6Oj4/39fWl02nbtsHB8zzOea1W45yXSqVkMplMJmdmZqampvb29oQQlFKAVWtdBx7m4+Pjm5ub3d3dWmvbtqMoEkJ8fn66rgs+jLEgCDzPA3wYY/39/S0tLb7vI08b5IeCtrW1dXR0SCktywqCgDFWqVQymUy5XH5/fy+VSp7ntbe3A408zyOEPD4+woWQp4QQHi/909PT1dXV0NAQpTSKos/Pz8vLy+Pj4/v7+5+fn1qtNj8/v7S0lEqlhBDGmHK5XCgUwjBEjcBoBFVKnZ+fr62tDQwMBEHw8PBQLBaVUslkUmstpazVav39/Y7jeJ5XrVYTicTr6+vLywswDHQF0TlqDiC7vb29u7tjjEkpbdsGSgVBYIzxPK+vry+VSjHGUqmUMeby8rJcLjuOA3VGQVOkJxwlhIDUsO4gBCFEJpNZXFxsamqCe7y/vx8fH0MsKSV2AGMMjfcLVCRjDPuQUkpK6fv+wsJCd3c36IoQcnNzc3t7G5cfxuFxIYEVl1HyWutsNru0tNTS0sI5t227VCodHBw8Pz8rpcBBCBHfSP/tddhboYCJRGJ2djaXy4GQkslkoVA4PDw0xgBWoCVsfRzTj/dAAAgGYyybza6urjY1NcGNvr6+/vz5U6lUOOdwDByPTZr/whTRAEAppa7rrq+v9/b2QotRSl1fXx8dHSmlbNuOPz/YlWgc01+dH0LPzc0tLi66rssYi6KoXC5vbW19f39Dc4qj10gUGRvvfpZlCSEYY6OjoysrK0KIKIo4562trScnJ2dnZ0EQRFGEugQOAALGGB5PGR8VmGaz2eXl5cHBQcdxLMuKoqhYLO7u7n59fbmuC/vhF+9ULxTmjomAtAghIyMj09PTwO1qtaq1zufzp6en8KhARBQoyr2BKdATHwkoent7O6U0nU5D7tvb2zs7OwAu0hkRiJekoSg8UGsNVb64uDg/P//4+Hh7e9vd3c3n82EYInvq+//m97/LwnMSBwGmnHPf923bzuVySqmPjw/f9x3HqVarjDEkSTxcoySe52GXjb/18Pz6vg/ESiQSjDHGGLxjJvYnI96SwP4f/O+x+ROLmHkAAAAASUVORK5CYII=\"/></td><td style=\"padding:1px;\"><img width=\"200\" height=\"200\" style=\"image-rendering:pixelated; object-fit:cover;\" src=\"data:image/png;base64,iVBORw0KGgoAAAANSUhEUgAAABwAAAAcCAIAAAD9b0jDAAAE8ElEQVR4nG1V3UsUXxg+X3NmxpndbVJ2V0ExNQikvVhKsb2pEEMQCi+CbrrrqvoXorrJe0H/g26DPm6DLqwg/EoQk6DWVaeIVVxm152Pc87v4rXjtP7OxXDmzJz3ed6P531xLpeTUiKEEEIYYyklxhghpJSCjd5jjJVSKLU6TvRvDE7PPvVP2jrg6a8YYyEEfNLwsIj6u9CZ1XHhLABj7H+pkPS7vgwLPuk7+jcpJaWUsVMvhRDaIkKIaQpSSkJI+j68QsQ1X0IION5qtQghQJYQQgjRF0/QNLV0vDUypTSOY8AWQhQKhcHBwWKxuLq6ur297bpuR3BYR3KBr8bEGFNKtdfDw8Ozs7M3b94cGhpyHOfjx4+PHz/e3d11XTdJEh03nMlkzpYR1JYG45zn8/l79+7dvn37woULjuPU63WEkGEYL168mJ+fV0oZhqEDeBrTtAvA1DCMvr6+kZGR6enp69evF4tFpVQQBFEU1et113UZY1NTU69fv/7x4wcwO3W/o27g6bru3bt379y5UyqVurq6lFJRFB0dHTUajb29vUajcf78+atXrw4MDPT391erVUqpdo6dVQXkt1gs3rp1q1wuY4x///798+fPz58/b21tff361ff9RqPx4MGDwcFBznmSJOTvAjmwtEbBIqQrDMP19fUwDH3ff/PmzadPn0zTbLVaCCHLssrl8pUrV3p6emq12t7eHiFESgmmpJQnidJGlVKMMUi6bdu5XA5jvLOzE4Zhd3d3NputVCrj4+OXLl3q7+9njC0uLi4sLMRxDP4BPwY7yJpeUsooihBCjuNMTk6Wy+WRkZHe3t58Pm+aZhzH7Xa72WwuLS29evUK3P8nUR0q1IkCFWYymdnZ2VKpZFlWo9E4Ojqq1+txHOdyOdu2t7a2arUa51wIAbRgw3Qo4zg2DEN3Pyg6SunS0tKHDx92d3fX1tZ83282m5cvX3727NnY2Jht24SQMAxBddpjppTinEdRxDmHskiSREtze3u7Wq0eHx8DhmEYCKHNzc04jpVSfX198BulNC3r047ged7o6Kht24wxgAWAZrMJYBjjdrutlHIcp1AoKKWazaaUknPOOYeaOWk6ULGO4zx58mRubu7GjRtCCCmlEIJzLqU0TTOKIkopRCkIgunpac/z4jje2Ng4Pj4GslD2YJcghMIwpJReu3Ytn8/rlnPu3DlQPRSmaZqQh0qlcv/+/d7e3vX19ffv31NKoZmmuzCDvLuu63ke55wQYllWEASHh4eALIRwXZcQUigUZmZmHj16NDQ0tLa29vz58/39fcuygKZhGGBdKYU9z0uSxLKsly9fjo2N1Wq1lZWV5eVl3/cPDw8JIT09Pd3d3ZVKpVQqeZ6XyWSWl5efPn365csXQIXIpJWJs9msECKKopmZmYcPH05MTLRaLdM0Dw4OXNdtt9tdXV3tdptS+ufPn+/fv7979+7t27cHBwe2bQshdIX+M5Cy2SyAJEkyMDAwOTk5Ojp68eLFIAgwxtVq1ff9X79+ffv2bX9/PwiCOI4ZY0IILZZ05z05zGazcAR1E4YhCAFjnCQJYwyKBupMSgkn6UmnBapN40wmo/UDG6hcGA/gGvQ0aGvgL9wHyet5ATV3UlK644GWoihKY8CwgxNNSk9/PSnSnZ4BeEdLBTrAGiinrwHl9PhM75VS/wFhSZSLys2ASwAAAABJRU5ErkJggg==\"/></td></tr></table>"
            ],
            "text/plain": [
              "<IPython.core.display.HTML object>"
            ]
          },
          "metadata": {},
          "output_type": "display_data"
        },
        {
          "data": {
            "text/html": [
              "<table class=\"show_images\" style=\"border-spacing:0px;\"><tr><td style=\"padding:1px;\"><img width=\"200\" height=\"200\" style=\"image-rendering:pixelated; object-fit:cover;\" src=\"data:image/png;base64,iVBORw0KGgoAAAANSUhEUgAAABwAAAAcCAIAAAD9b0jDAAAEXUlEQVR4nF1WT0vzThDe3WzSP6lJbRFFWmz7+geqXgVR/AIi4sGDB/Xgd/BDiB9BPIniTfEkFYSi3hT0IF5KpaKoGCq22jbZ3byH8Tfv/rqHNGl2Z56ZZ+aZUNu2wzAkhCilKKWU0jAM4UoICcOQMUb+v8IwhD2UUjxICGGMKaUIIRx+CCHwAnbjY5cPXGARzoJj9EQI4fpWpRTgUkrp1hELuoEF/xiG0QWLw48eGppGc4gLIVNKAV3Xwd9X6ByDggX+Oed6ohEUWgRbeA87GYCCa1cglFIpJSEEroZhIBZYnHMwwTk3DAOzzBGjUgqDRfYYY3BYCCGlNAwD4ARBIKW0LAtgwn54G4Yh1wlBNjA6xpiUUgihlEqn00opKWWn08lkMul0enBwsLe3N5/PB0Hw8PBwcXFRr9ellBy5BlCYF/AhhDAMw3XdYrE4Nzdn23atVjNNc2RkZGpqKpVKmaYZiUQsyzJN8+DgYHt7++XlheuGgHelFKQPbizLWlhYWF9fHxwc9H1fCOG6biqVikQiSikhBATueV6z2XRd1/M83lV9SAg8xuPxlZWVjY2NbDYrhAjD0LZt27aFEN/f3+12+/Pzs16v12q14+Pjy8vLj4+PRCLBMYNgS0qJXRuLxZaWllZXV//8+UMIaTQa1WrV9/1iscg5f35+Pjs7K5VKT09PLy8vPz8/tm0TQprNJsfu1qlnjNm2PTExsbi4mM1mOee+7398fBweHt7d3SWTyUgk8vz8XKlUvr+/obBisVin0zFNUynFoQwZY4AX2ykIgtnZ2fHxccuyOp1Oo9GglNbr9fv7+2azaZomkgnZR0H511EQOKQyCAKllOM4MzMzPT09SinP8xzHGRgYmJ6e7u/vJ4QIIfQGAesYMcPixwq1LItzXigUMpmMlPLm5qZUKr2+vsbj8ZmZmUQiAUaxO7FUADtjjOmtiQo2NDS0trYWjUbL5fLOzs7u7q7neUqpXC6Xy+UIIZFIBHCAdWyc3wTqSKHH+/v7l5eX5+fnKaUnJydXV1fv7+/VapUQ0mq1+vr6giCATke56JIrrucbkCaTydHRUSllpVLxPC+VShUKhXw+3+l0XNf1fd+2bQgLotY1EKxxVGx4xxhrNBpfX1+O4wwPD29ublJKLcvq6+vjnL+9vZXL5Xa7bZom0oAtDowRQjj6QeofHx/39/fHxsaKxSJjLJFIoGjt7e09PT1xzi3LglzhRNEFk6FEQoJM0zQM4/r6emtr6/z8HIrBcRxCyO3t7dHRkVIqHo9Dy0OB69Pl1240GtWnBdawEMKyrFwuVygUJicnW63W6elprVYDlRFCgDldNLAGaCwWwxeQGjgWhqHv+5xzxlir1QJPsBkrn2jjVmefIWXIJmQKaQU3YF1K6fs+6r8+WfUx9Tuj8F99GqMaGIYBwoonYYM+snTrDLWAaJ8IurKgZgMEzjlGo8/Uf9QjzK4xGf730QH3XW0Dj8gqVjq25V80kZ/NK5fXKgAAAABJRU5ErkJggg==\"/></td><td style=\"padding:1px;\"><img width=\"200\" height=\"200\" style=\"image-rendering:pixelated; object-fit:cover;\" src=\"data:image/png;base64,iVBORw0KGgoAAAANSUhEUgAAABwAAAAcCAIAAAD9b0jDAAAEfklEQVR4nGVWPUhcTRR9d97fzuyu/0oECYKKiKIiomJpkUaJJJCQwkawEDsNaCdaCFZiLVYqWChWWglaWYmFqBFSREUCmqAGd3V1972Zrzjr9eH3ioU3b+bMveeee+5SPB7XWluWZVkWEWmthRDGGCLCShAERGTbttY6uo4jWMEprTUREZEwxhhjsI93YLfWOgxDvoyIhBBCCHwFKDZzHLhMGGOEELZt49eyLNu2cROuwSKwOF4OEwHyYv4OYIdhCCD+jHWghGEohMhms0EQuK6rtf4/OqeotSYpJXMnxOsdjuMgdyFEEARaa6VUOp02xriui/vwlcvA6A6whRCO43AK4C4Wi1VUVNTV1bW2tn758kVrPTc3t7W1dX9/73kewmeWolVx8PKmmkBMJpPV1dW9vb2dnZ2lpaWu605NTSmlFhcXESAYA91csXwpcQM2oVxE9PT0lE6nb25utre3x8fHV1ZWrq+vy8rKOjo6ysvLM5kMR8faMC+PE9UQ6Ef1iejx8fHXr1/n5+cPDw9dXV1VVVWZTObPnz+u6xpjwjAkIt/3wQNAAO1woZlsXIAnlUrlcrnOzs7Pnz+7rruzs7O6unp3d+f7PtIKggAIOA6EvE5ZmAicFSOEkFKOj483NTUdHR3Nzs7+/PmTiGKxGCv3TTT5juL2QrxEFIYh9JTL5RobG7u7uzOZzMXFxfPzc2Vlpdb67u4OOuPCsmzznEYbjikGO/F4PJFIpNPp0tLSvr6+Dx8+pFKpq6urtbW1paWlv3//ggfE+wqilGKbwCqyRrxSysLCwp6envr6+oKCgubm5traWt/3iWhhYWF6ehpV4kLljQkdxaExL3m/ESIMQ6XUzc2N4zglJSXv37//9u3b4ODgjx8/BgYGLi8vlVLMQ953ECMXjmkF/dlsFl3reV4ikUilUicnJ5ubm0Tkui53dvjy5CXFVeKGQ0asXEA7jhMEgeM4lmWNjIwkk8nDw8NUKuV5HtfAtu0gCMCvYN9lNpEILoA8crmcZVlBEExOTvb19Z2dnS0tLeVyOWiAM0M0DhPKjUFECI3JRWV83//+/fvw8LDWen5+/vj4GEGBBPYqY4wlpYy9PEopvEoppZS+7yeTyXg8LqVsaGhYXl5+fHzMZrMzMzO+7yulQHQikfA8D/tx3FJKKaUAxKCe58VisYKCAnjVp0+f9vb2jDG3t7djY2O+7ycSCUgYZwGnlEIEJKWMism27TAMXdclong83tbWNjQ0BGf69+/f6Ojo+vo6dAYBYJZE5yYR5cUPRrgFCgsLa2trP3782N/f/+7dOyHE6enpxMTE/v4+ZgTgMGh5Sr6OPyll1Ldt2y4uLm5pafn69WtNTU1RUdHv3793d3c3NjYuLi6iw5lNMjqc873DHYV313WllBUVFe3t7ff39wcHB1dXV4gC1slCRqExqd6Yxts25YkopcxkMr7vW5b19PTkOA60zSOWrR5liEr1Nf2oq/KY5PPsQNG5FPW9qHuIN7bPv0g5CILoiI0iWi9/O+C8nCUR/Qf9DZ3U/lBj3wAAAABJRU5ErkJggg==\"/></td><td style=\"padding:1px;\"><img width=\"200\" height=\"200\" style=\"image-rendering:pixelated; object-fit:cover;\" src=\"data:image/png;base64,iVBORw0KGgoAAAANSUhEUgAAABwAAAAcCAIAAAD9b0jDAAAEhklEQVR4nGVWu0skTxDu17x0btwVPFhf+OAUFEVENNjARBSNDAzMRfwXLjWQ4xIzE4NDxH/gsgtkzMQHGsldIoIeuooPxNV1p3u6+xfUWs7562B2ph/VX1V99dXSXC5nrSWEEEKstZRSQgil1BhDKaWUwioswSdjDD7hCTvhCXYYIQQ2gS20zhjDT0opY4wxRv4d1lpjjLUWr3w3mjWXhWaMMcYQQgCFtVZrba1N0xRsofUsAmutgJ8PLsMk3s8555ynaQpgOecAPE1T8ElrnQX0fgOAyl4Ok7BPKQUbtNbVajVJknK57DhONhNwijEm7NtAQxh+mNFaK6U8z4uiKAzDIAiam5ubmprOz8/39vaCIJBSQtAxUOLDVeAOvhhjOjs75+fnh4aGgiAol8thGBYKBULI1tbW8fHx6+sr5zwbPUKIyNIIksM5hxdCSG9v7/fv3wcHBx8fH3d2do6Ojtra2ubm5qIoKpfLvu8nSWKMEUJordGOyPID0oLh7+7uXl1d7evrOzk52djY+Pnzp1JqZmZmcXHRWnt7ewvQHMeBRCF5340isSHR7e3t3759KxQKR0dHa2trBwcHUspKpZLP5ymlp6enpVKJMeY4TpqmQggsAYb8Amch3mmaRlH09evX4eFhxtj6+vr+/n6SJISQ9vb2hYUFzvnj42N/f39zc3MURdZapRRSsIaUvg3k0NTUVLFYVEqtra3Fccw511r7vj83N5fP55MkASYopZ6enoQQaA5e3isKOZQkyfT0NCHk79+/29vbxhgppe/7TU1NxWKxsbHRcZwwDO/u7s7Pz7XWmFhUg38KHKqwoaHh06dPnue5rtvR0QHJ9X3/y5cvnz9/DoLAWpskyeHhIQJEF4GFAjFnM1atVoMgyOfzS0tLs7OzlUqlrq6ut7e3WCw+PDxQSuM4vri4gPqBTABeCKPI1g+ApZT++PFDCDEyMjI6Oqq19jxPSlmtVkulUqVSub+///XrFxzUWoPIZfVToDhiUWqtd3d3S6XS5OTk+Ph4a2ur1vrk5OTq6mp2djYMwziOT09PXddFGUMLNb8bGhqyQgUD/OKcA7dhdWJiYnl52XGclZWVzc1N4INSCvODYNkHSgHp0jQF0VRKPTw8vLy8SCm7u7sLhYKU8uLiQkrpeZ7WWggBIFCS3ssUp6y1juMYY7TWkFDHcZRSQRCMjY2Vy+VqtXp9fQ0iArKNUoJBEAgb2YtJRNVhjHV1deVyOc756+trY2Oj67rYsrLSXiN71iJWAZIOLHqe19LSEkXR8/Mz53xgYKClpQU4hI0AjzOUTlRohIbzEFnOeRiG9fX1oLBJklQqFcYYSAkiAEAfpQ9ij70PSwVS9/T0FARBHMeXl5fYq7Eb1Wr0Q9fFOvt/rz87O7u5uXFdN47j4+Njz/McxwGjwG501xhT42k2zNlQ1NwRwhjT09PT19f358+f379/A/OxKWVTTwihuVwOlBWWOedYJFkmSCkZY67rWmuFEFJKXMrWUi23GDi8EHoDDtjn+z7gBam3mX807zL6JgL/AeXctGRnE23kAAAAAElFTkSuQmCC\"/></td><td style=\"padding:1px;\"><img width=\"200\" height=\"200\" style=\"image-rendering:pixelated; object-fit:cover;\" src=\"data:image/png;base64,iVBORw0KGgoAAAANSUhEUgAAABwAAAAcCAIAAAD9b0jDAAAFgUlEQVR4nF1Wz2sTTRienV+7aWKS3VVq24NWLbVVWryUlopK8WAFD6W0F/s/iEIsaPFUKahXQW/qQa8q7UUhhRrQgqBtc6iUioJNiIUmtJuNuzsz+x3efGNwD2F2MvO8v57nfddwXVcpZRhGHMcIIYxxHMdxHBuGgRCCBezAXxhjpRSsEUJwRt8ChOZ/cNkwDDCggfRNsIExllIihKSUAK2Uaj2JMUYIYW0NdjUcrJuHMFZKIYQopYQQWBNCwjAEt8AV7SJtdURjtXoKa0KIlLLRaEgpwzDMZrNBEDDGAE4jAAgFs3oLMoAx1jtgH6C7urouXbo0MTGxv7//6tWrjY2N3d1djDGlVEoJYRmGQQkhCCFdq9b0a6+llJzzoaGhXC43MjLSaDQSiUR/f//y8vKLFy+2trbgPCFECIExNmzb1qn8B0sb8zxvdHR0fn5+eHjY87yDgwOllGmaSqnV1dVcLlcqlTDGjLFmWBr0n8y2+n706NHnz58PDg6GYbi1tfX169d6vd7d3d3X19fW1vbs2bOFhQXTNDXhkOM4ruvatm3btuM48HrkyJFsNptOp1Op1MDAwNu3b33fr9Vq79+/n56ebm9vb2trGx8fX1pa8n1/fX19YGAgmUzatn348GHbtrF2Ckqk3QQCtbe3z8/Pj46OSimLxeL9+/c/ffokpTRNc21tLZ/PR1HU3d195coVpRQhBGNMCPlbWaAexKuUCoLg0KFDd+7cGR4exhivrq7evHmzWCwKISilcRzv7+8vLS2Vy+UgCM6fP5/JZIQQcRyHYdgkPyHEMAwhBCx83zdNc3Z2dnJyEmP85cuX2dnZ7e3tOI4bjQY4xTmv1Wp7e3uJRKKjoyObzWpRUCiOlh1CSAjR0dFx48aN69evI4QKhcKjR49+/vzJGAPCY4zDMJRSUkrT6bSUMpPJVCoVXSgK8TLGpJQgNcdxbt++ffXqVSnl8vLy3bt3q9UqpTQMQzgWhiEhxPf9/v7+VCoVRdGvX7+CIABjCCEKQEIIAE0mk7lcbnJyUkr58ePHubm5UqlECImiiHMO1ZNSxnFsmubly5c554yxQqHAOQeSQrn+tgxK6fT09Pj4uJTy27dvt27dKpVKIHBCCKUUEgU8P3v27NTUVCKRqFar+XwesgctAgshtKKOHz8+MzNDKY2i6MGDBzs7O5RSOI0xDoJAr5PJ5L179/r6+jjnL1++XFtbM02TMQaFwsAPKaUQ4tq1a52dnZZlvX79Op/Pc86hGhAR1FAI0dPT8+TJk5GRESnlu3fvnj59KqWEXAOXqO61jLGxsTHLsn7//r24uGiaJkBAmhKJRGdnZ29v78WLF8fGxk6cOPHnz5/Pnz8/fPiwWq0yxiDwJigISSnleZ7jOFEU7e7uep4Hpchms5lM5ty5c2fOnBkaGjp58qTjOEqpWq1WKBQWFhY2NjZA9VEUARRCiIKiKKW2bX///r2rq8t13ampqdOnT586daqnp+fYsWO2bafTacYY57zRaJTL5ZWVlcePH5fLZc65nlG6Ixuu68K7EGJiYmJubs5xnHq9TgjJZDKe50EP5pz7vr+zs/Pjx4+VlZU3b97s7e0BHyBQPRD/egqlWFxc7O3tnZmZsSwrlUr5vp9IJHzfr1Qq29vbm5ubHz58KBaLURQdHBxYlhXHMZBHD65me7JtW881INrg4OCFCxeiKEqlUvV6fX19fXNzs1KpgJQZY5CuIAg0wcHBvw3PdV14B/ZAi4LOAr2KEAL8RwiB8PWsj6JINzbYb8oEFAIWgiCglAI/4ji2LEs3MFAqMBogoANIKVtjb345OI6D/n/0h4lWjjapVdc6iuGB0dl6oPkpoH/1V4aOpXX6tw5t7QRwHq6Dp/8B8ij6ZuNzUQsAAAAASUVORK5CYII=\"/></td></tr></table><table class=\"show_images\" style=\"border-spacing:0px;\"><tr><td style=\"padding:1px;\"><img width=\"200\" height=\"200\" style=\"image-rendering:pixelated; object-fit:cover;\" src=\"data:image/png;base64,iVBORw0KGgoAAAANSUhEUgAAABwAAAAcCAIAAAD9b0jDAAAEeUlEQVR4nG1Wv0scTRieXzt7m93LXTjF5ES5I9FGTARJYSUEBAMpErAKwb8izYG1f4Eg1yeY0sYiRfxRSJqksBBsNKiIKRLvDKe3t7Mz8xWPeb3P75timd2Zed4fz/O+s7xYLDrnGGOMMSGE9x5zzjljzDknhMAcS/0bsIrj2IOnurPMOe+HwNJ/LTHGpJTee2st55w2YI/AeewABFkGBCKQUnLOpZSMsSAIMMFH7z2iuQ0OWDAIf/EFXgghrLXGmCzLsiwDrjEGrlhryRVKDudcYYbYKQNSSqWUlPL+/fu1Wi2O43a7fXJycnZ2FgSBUipNU/gLh2BbSgmflP87pJTWWqVUHMeLi4svXrx4/PhxkiTOOQTb6XTOz88/fPiwubl5eHjonFNKwQMgwi3GmCLW4LkxplwuLywsTE5OhmForU3TVAhxfX1dqVSGhoZGRkbq9Xqz2Tw6OsIGQgAi51z1swHjxpidnZ0oihBd+neEYai1fvLkydu3b7XWjUYjz3NjTBiGiBoxOed4sVjEO9Ahg1KpNDg4GEXR1dWV9/76+rrVanW73VqttrS0NDc3d3Z29vLlyz9//sBBEtaNTpFQvAgh8jznnF9cXLRaLWMMjN+7d885l2XZwcHB5eVlGIZgyTmntc7zvF/8zjnVL2n+d/R6PaWU1poxBt0gzGq1Wq/XYTvPc621MUZrba3FcQhJUfEgCqBrrTnnSinvfRAEyLW19unTpzMzM91u9+vXr4gjCII7Fey9V5RdEEUGGWPGGOgBqw8fPmw0GsaYVqu1vr5+dXWlte71ekII4h1nFYiTUiKbtEylAvbiOH7//v3o6KgQ4tOnT7u7u6gCUEQ7MRcgiuqBugkMAN17Pz8//+rVK631t2/f1tbW0jRFHlnfoM2CIKicCQ60CiEmJiYajUa5XP7169fKysrx8THcpBZDbN/UPkVK3qGWQRHnvFQqLS8vVyoVIcTHjx+3t7cLhUKWZUQsFEJ94FZS/fQhrd57nHz9+vXU1FQcx6urq81m0xiT57mUMk1TVAohIBuCmhMVK6UJzSVJknfv3mmtv3z5sra21ul0wBvEhFDgI4kUT0HdEHqCGehhbGysWq12Op319fWjoyO40+v1vPfdbtdaq7WOoohA4JPqzzHWAMcYKxQKw8PD1tooiqanpxlj4+Pj5XI5DMMHDx445x49enRycrKxsbG1tdVut3FKKXV7R1FOSXoQA+J98+bNwsLCTb9QCh+jKBoYGNjb2xsaGur1eqgd770CInEFlmDAGPP9+/eDg4Pnz58HQeC9z/M8yzLnXLvd7na7P3/+3N/f//z5848fP/6lqjiOKcfUwYjWLMuq1ers7OyzZ8+staenp4eHh79//z49Pc2yDIbRXIIgIDnyJElItHjCIKRH2oqiyBiTpmmhUEDsUGue59ZatJXbbpckCWWALhkqBHQsYwzYC4IArtERKaXWGhctMcGTJCE36Q8Fc0JHUPgC5cMMQd/pQf/zS0OapYu2XxgwjP5N0ibziO8fp+rIzeNk7EkAAAAASUVORK5CYII=\"/></td><td style=\"padding:1px;\"><img width=\"200\" height=\"200\" style=\"image-rendering:pixelated; object-fit:cover;\" src=\"data:image/png;base64,iVBORw0KGgoAAAANSUhEUgAAABwAAAAcCAIAAAD9b0jDAAAE1UlEQVR4nGVWP2gUTxSef7v3x7v1zhSaIgcxhUFBDKfXSEoLQSMKwS5FKsFCEAQ7sbeQVCIiliGFjZVYGMEEEUKQwygJd3IRoua4EN1zMzc7f37Fl4yrvymW2dmZN+9773vfW1qpVKy1hBBCiHPOTyil1lrGGCaEEEyEEGmaMsYYY1h0B4NSiuPCGJM1RA6GtZZzjmucc0qpIAg450opIYQ/4u/DK25iuIoQgncMzK21WmtrLaU0DEPnXBzHhBBjjDFGKYU9sEgphSlrrfD3ZLH4TdbaUql09uzZycnJiYmJ9fX1p0+fNpvNMAyFEFprIQRO+SchhEZRhAvhIAzhM2Msl8udOXPmypUr09PT+Xy+XC53u935+fn5+fmPHz9imzGGcw63EMx9+MDrnNtfZQxzwI/jeGlp6d27d6urq9bamZmZJ0+ezM7O9vt9zjlC7+PrnKNRFHm8PkB+IAj5fP7nz59Symq1Ojk5eePGjXq9vrOzc/v27Tdv3uRyOa01zDnnOOcsSyPAz0bdGEMpHQwGQohCoUAIWVxcvHfv3qdPn4aHhxuNhlJKa00PBufcWsu8R4yxLGERLw+tWCziPq3158+fe71eGIZSynK5DIhACTvMmwDV8czS0BMIh5VS4+PjY2Njm5ubHz58AAjPAQzmwXoOwEe4ibQib4SQJEkqlcr9+/dPnjzZbDbb7TZsSSlx1hjDvFNw+5+AZgmLiHPO7969W6/X4zh++/Ztr9fL5/NSyiAI9oEzZoxh2frx/PfUQzaFEM65o0ePPnv27ObNm0eOHHn//v3q6qoxZm9vD0HLlqxAvrJOEUJgBYvW2iAIrl+/fufOndHR0c3NzcePHz9//rzb7SIB2XLC8y9Bgf9a6zRNgyBQShUKhePHj9+6devChQtRFL1+/frhw4fLy8uFQgFyhUrNlpZzjh4+fDgbvj8QhKjVapcvX56ZmTl27Fin03n06NGrV6+63S6orpQqFovOucFgAHycc2AVvupBNMZYtVo9ffr01atXz58/X6vVfv36tbS09ODBg+Xl5Wq1CgGM4xjJUUrBO+QAgkvBXtjVWo+Pj1+7dq3RaIyMjGitv3z5sra2trCw8PXrV6WUlBKURBqyhoQQUkoEUGT1OJ/PT09PT01NvXz58sWLF81ms9Pp9Pt9MF9rzRgTQhSLReBL07RUKh06dKhWq+3t7a2trSVJQikVnoYIyrlz5yqVShiGrVZrfX1dShmG4fDwcJIkY2Njp06dOnHihJSy3W7HcQxV/fbt287Ozvfv3weDwX4+fN6ttf1+v9VqNRqNS5cuXbx4sdvtBkEwNDREKc3lctbaJElardbi4mK/3+90Or1eT0q5vb3tsYL8whcoAjQ3NxdFUb1eL5fLo6OjP3784JwnSbK9vd1ut1dWVjY2Ntrt9tbWVpIkAOflzbel/USBYhCeNE1HRkawXiqVkiTZ2tra3d1N0zSXy6HAwzCEFc65l74/bTWKIogmuAli/f79OwxDlJYxRggBbnh5RJlhxQsQUsc5p+Vy2ccUJQsmQvF8sHyvRr/LKo5vbr6sha9ZcvAzoZTyas0YS9PUxz0IAvxJ/FPsWTHal6v/1yhULqvW3kdYz2qQ78y+gQr/7lte1uusnmb/EPwnvzNr5z+Jf9ZbASjQkAAAAABJRU5ErkJggg==\"/></td><td style=\"padding:1px;\"><img width=\"200\" height=\"200\" style=\"image-rendering:pixelated; object-fit:cover;\" src=\"data:image/png;base64,iVBORw0KGgoAAAANSUhEUgAAABwAAAAcCAIAAAD9b0jDAAAEiklEQVR4nGVVO0sDSxSe5240iQnq+kB8gCiCiI0KinYqYmUjWmkp2Ar+Dwv/gaCgZRDUxjoIvgofV0JQSVDjA4wx2dmZucWJx73eKcJkdubMN+d833doU1OTMYb8d1hrKaUwp5Raa2GREMIYs9YaY2BD+CuuMK21tRY/4DfGGN7BGDPG4AqllDEG26y1OP+dwI4wQGOMtTYIgjAE+IXosFkIAahhhIMIjAIh4F1CCDjMOddal8tlQohSqlwuCyGstdFoVGuNKYIBRxhj4k86IHoQBPA5Eom0t7ePjo52dXXB3ZlMZnt7u1gs1tbWaq0BIEDGhAhjDOccH2Wt5ZwTQmpqaoaHhxcWFsbHx7XWjuPEYrGvr6+np6fPz8+dnR24g1L6By8hhDY2NsLDAaYxxnVdz/PW19enpqaam5uVUp+fn77vl8tlKaWU8urqanl5uVgsQnKwehhEwAyZIaUkhMzNzc3PzxNCrq+vb25u/vkZSqmlpaXJycn29vabmxt4NVYCiyYopVpreDIhRGvted7Y2NjHx8fR0dHm5mYmk5FS+r7/8vLS0dFBCPE8LxqNlkqlSCQSBAHgCOMVwAbIKVQ2kUjc3d2dnZ1tbW3lcjn4ZK1tbm5mjH19fZVKJdd1Y7EYMCec1ip5wuIxxgghKpXK0dHR4+NjPp93XRfeJaWEdHd2dhpjCoVCEASu63LOsRhIfoFCYowxxoIgeHh4yOfzsENrLYQIgoBS+v393d3dPTIyorV+e3sDJoXlgJllCBNuM8YEQaCU8n0f/mqtgyAolUqxWGxxcTGRSNze3uZyOcdxYA/qDVnEMCO4ii8CYiPYgYGB6elpY8zh4WGxWFRKocuAXjjnVTWjKWAF9c8ASnDOOefxeHx1dbW1tfX19XV3d7e+vp4Q4vs+IKCUQsSqLSAPwp4CAzwFQs/Ozo6NjUkpNzY23t/fq3wUQikFcQENMJdh+LAhhatprW1paVldXU0mk2dnZ8fHx+BPjuNAXDyOWvi1RTRTxhhcDlartV5cXOzp6fn+/t7f3394ePB9H30a7Q04W42OS0gRIIe11nEcKWUikejv74/H45zzk5MTSmk0GvV9XymltY5EIpRSoDO2A4GEALxKKZiDWTiO09vbOzg4WKlU0ul0S0vLyspKXV2dUqq+vl5KWSgULi4uzs/PC4VC1fdAl4xVmwoghRIB5Hg8PjMz09bWprXu7OxcW1vr6+sDjMVi8fr6+vHxsVAogI0BT34NhYSaErwCfHZoaGhiYoIQUi6Xk8lka2trpVLJZrOpVOr09PTy8vL5+RkcHTNACBGYCCQsMIMxBkr3PA+OWWvT6fTe3t7BwUGpVFJKVSoV5BNqR2styP96L0rAGPPx8fH6+so5z2azh4eHqVTq/v4eKu66rhACXgkTJC/1PO9P1ww3TqhVNBq11r6/vwtRLSyUEeSrtZZSQvRq925oaPgj01+1CQF6Bd8zxkgpIRUoIXRhpCqlVIS9C4WEJINejS0TXQMbOEo+nEMGPEd7r67+CBRuBhMA10DyYXfCs6iufwEYSuivkxyqLwAAAABJRU5ErkJggg==\"/></td><td style=\"padding:1px;\"><img width=\"200\" height=\"200\" style=\"image-rendering:pixelated; object-fit:cover;\" src=\"data:image/png;base64,iVBORw0KGgoAAAANSUhEUgAAABwAAAAcCAIAAAD9b0jDAAAFF0lEQVR4nF1WT0hUXxS+9777/jXDqJPphH9QUHCMBBe1sCAlDMKF6EIKUhl0J7hwa+6iTVFgtWkTKG3aVBZMq3aaFEOOCoK605ikp4S9mXnz5v75Lc50nH53IXeu5577nXO+851HGxoatNZaa0opIQQ3lFKtNZzAIWNMKQWHhmEIIQzDAGOlFKWUUgobDnaMsWq/6FRrDTe11qZpSilhUyqVGGP4MBrDhlWDUkrBT3wT0Ekp4THOuRDi5OSEEAKHQgiABbcIIYQQbhgGnCJScA1ApJSGYWitwzC0LKuurq62tta27YODA/DIGCP/LkopB3fgBZMI2BFyV1fX7du3k8lkbW1te3u7aZorKytLS0ubm5uO42BaMIdnqQRHSilMFpieP3/+3r17g4ODhUIhGo3GYjHOeX9//+Li4tjYWD6fByimaeq/i8MRLMaYlBJTA1WKRCKe562srDQ2Ngohstns58+fGWOjo6OPHj2SUi4vLzc0NGA9tNa0vr4ec4EPQCBQK9u2W1paOjo6ZmdnPc978eLFly9ftNbd3d3Pnz83DGN4eDifz1NKwzBksJCJSinkHVQWa/Xjx4/m5ua2trZv375tbGxYlsU5z2azb9++7ejoGBgYyOfzkAHwwBAaxg5MAtdADMuybt26pZRaX18PwzAIgnPnzsVisUwmUygUrly5YhgG+BFCEEIYEh6SgpSEtgGnV69evXTp0uHhYS6X01q7rlsoFKSUe3t7Jycnra2tjDHXdSmllmUppRjABBeQWaAqEquxsXFqasq27devX3ueRyn1fZ9zbpomdqPrur7vA50JIWc5xSpRSjnnjLFisWjbdn9/v9b6yZMnHz9+LJfLSinOeaFQKJVKrutGo1GttW3bhJBSqWSaJiGEY/MisaDoQRAkEomhoaGenp50Ov3mzZs/f/5AKSCsMAyTySQhZGdnB7ADFKUUw/RhcpH2IyMj4+Pjnuel0+liseg4DtyhlAohTNPs7e0tl8ue54HKgEporRn2IlBKSgk0uH79eiqVOjw8XF5e/vnzJ/a4Uso0TcZYMpm8efMm9AVms9Km1VqnlILytbS0PH78OB6PP3v2LJfLQchhGEK6pZTxeHxubu7y5cufPn3K5XKgXgATGp2h7sFyHCeVSiUSiUwmk81mpZScc4gaquE4zsTERF9f39ra2tOnT0HGGGPQ/hWVqtZ8IUR3d3dfX5+U8v3798ViEUwtywqCIAiCzs7OBw8eDAwMZLPZ+fl54DUs6B3GGK8eGIQQ27bb2touXrx4enq6tbXluq6UMgxDKaXrunfv3p2enm5qatrd3Z2fn9/b23McR0oJwgptTQjhyCf8G4lEmpqavn79enx8DMFaltXe3j4zM3Pt2rVYLPbhw4dXr15lMpmamprfv3+7rotCXFF+VGgolBDi6Ojo169fnZ2d9+/f39/fD4Kgt7f3xo0biUTi+/fvDx8+TKfTp6entm37vg9IkWoVab9w4QLyDv4Ri8UWFhYmJiaCIPA8LxKJOI7j+/67d++Wlpa2t7ctywI+CCGEEJxzbJnKiKuvr68eHsD8eDw+OTl5586d5uZm3/dXV1dfvny5u7vr+z4EWC6XOT8bRTii/0Fa3aNQaIAPugsBRqNRHP3QCzho4YEz5cePCSQAGKG4gKRDxpHU4L16TFTPOo4DGaeT1hqTBeeAFKODtkHv/wu/0vuV3V8U5O93A1rD/Ki+BvY4e6o/fggh/wGkxfGm9IkLSwAAAABJRU5ErkJggg==\"/></td></tr></table><table class=\"show_images\" style=\"border-spacing:0px;\"><tr><td style=\"padding:1px;\"><img width=\"200\" height=\"200\" style=\"image-rendering:pixelated; object-fit:cover;\" src=\"data:image/png;base64,iVBORw0KGgoAAAANSUhEUgAAABwAAAAcCAIAAAD9b0jDAAAEY0lEQVR4nGVVPU9bMRR9tq/fewFBlUAlQICgQ6UKBiZgQEDFAoIFiQX+BAviTzB16d6hP4AMiC4FiRGB+BASLAGBSFCUKCIh5Pm9Z7vDDbcu9RAljn18P845l/X09FhrvbdlreWcW2uttYwx/G6MoTOcc89ZjDH8C8/jDhhjvH+XMQaPImIYhkmSaK2FEIgupdRaa60ZYwiEIHjF8zzAm++eonPGGGOMlDKO4zRNW61WR0cH3kySBADwMIWMUECICME5x3CEEFrr0dHRjY2N2dnZMAxLpdLh4eHPnz/r9Xomk+GcIzpjTGtt3xbnnOVyOTdyjJcxppT6+vXr1tbWly9flFLVahUAstlsPp/f2dmpVCpCCEqO+oE/AcOm4K21WmsAWF9f397e/vDhw83NTT6fLxaLXV1dm5ubi4uLhULh+/fvvu8nSUJ3KSbP89qNwhewvgAwPj6+sbHh+/7u7u63b98KhQL+OzY2tra29vHjRyFEkiScc2wX1QHRAYtojBFC4E0ACMPw/v7+169fP378aLVaUkpjDAA8Pj4aY4IgwB08zxhDwlBw4JIUe6WUuri4qFQqxWKx0WgEQZAkSXd3N8IFQVCv15VSYRhSvgTyF9StCL4fRdHt7S1jDAAw9jRNwzCcnJx8fn6+vLz0PE9rTRzHdKlXnGSDh4QQbjpSSqVUmqZKqa6urk+fPhljbm9vMUwpJedcSokxkrr+USTJidiKfcB4p6en+/v7z8/P7+7u8BjJhJTS7hVF6hYFX0Jcznmapp2dnVNTU0mSnJ6eKqVc/RB/iJ3cxaJdIjNKCwCGhobm5uYeHx9///5tjEEJaa3xFvlOW0fum4SFR4UQaZoaYzKZzNLSUm9v7/Hx8d3dHVYD83DDFEJgDbnrUu8MRWudyWSstX19faurq9VqdXd3t9FokJT/j6NtIK5mcWmt2w9yHkURAMzPzw8PD19fX5+dnXV0dDDG0jR9Z5IuIwEJ5Hoz4WI6Q0NDKysrnPODg4NGo4HXgiAgP8WcEB198m+jEBdlh5tCCCHE8vLy4ODgw8PD1dUVSoDYppRqtVppmpJj+b7veR64GrXOklJGUTQzM7O4uCiE2N/fj6Iom81GUSSlxPRzuVwul+vt7S2Xy+VyOY5jHBBA/HKHDwAkSRKG4cjIyPDwcBiGCwsLExMTlUoFM8jlctbabDYLACcnJ/l8/vX1tVqtIhSQIilSt7PNZtNaq5QaGBjo7u7+/PkzIr68vMRxHARBuVyu1WrFYjGO439MGh8nWiA0GvDR0dHe3t7MzEytVlNKFQqFWq0mhGg2m1dXV6VS6enpqVQqNZtNJG+bsziiXXVSx1AwYRgCgJSyXq+71DHGxHEMAABA+eGUA9cNyceQg1JKHM7WWuyy7/vEHt/3AQCZYJ15bIwB10TcOYM3cWygugEgjmM0LQzTe3N+Qmwn+n9ziAY0q4mYAEDSIItyq9dGICVQQclscCEEfqKLE4o779wC/gEHyt96ord1/QAAAABJRU5ErkJggg==\"/></td><td style=\"padding:1px;\"><img width=\"200\" height=\"200\" style=\"image-rendering:pixelated; object-fit:cover;\" src=\"data:image/png;base64,iVBORw0KGgoAAAANSUhEUgAAABwAAAAcCAIAAAD9b0jDAAAEmklEQVR4nG1VO0szTRSemZ3NZtWoCYlREhW8QIKFq41VFCtBEETUSsTGxl/gH7CwULARBLWws0isBAsRBAW1sBIvAfEaCBhBDZK9zOUrThhX32+KZXd25lye8zzn4NbWVs45xhj5FsZYSimlhH0ppdpUO+pTbSKEhBAYYyKEgA+4CbY451JKQgj8ghdCiLqMMRZCwC1YYAcWAT+w1Am4DFY0TQMHYF3ZIoTAAXCAEOKcE0KklD/OlTld1yFq2OScc84ppRA+pfQPOOAenuCY+iGDE7Ztc84ZY7quh0Kh2tpa13U9z2OMOY5jmib4QL+XP7iff1WMCdF1vaGhIZPJzMzM9PT0mKbpum6hUDg8PNzd3S0UCpRSxpimaZCsChkyQAhRFSbGmDHmeV5zc/PS0tLw8LDruo+PjxjjmpqaaDQ6MzNDCFlZWYFMVXGURRUW9ZMGIUQpzWQyg4ODLy8vuVzu6OioVCrV19dPTk7Ozs6m02nTNMvlMpiAGv6hnRCiGqmqbDwej0Qi9/f3p6enuVyuUCgQQorF4vPzM+c8kUhEIpHv72/GmJ8hEHW19IRQeIPfmqaVSqVsNntwcPD+/m7bNpQ1FAqFw2EgAJjQNE3TNAiQMaa4BRBTAELTNCEEpZQQUi6XK5UKkEnXdcdx4vH42NhYKBR6fX19enpSHFIO/siHwG8lAeAw5xwhZBhGIBDo7u5eXFxsbW0tFosbGxtCCF3X4QBjDMj7R8Q/lIJd4CC8JJPJoaGhiYkJy7IQQhcXF6VSSXEIUoRyqyZQDS6RSPxpGQB5R0fH0tKSZVmhUKhSqYAi8vn8/v7+zs5OqVQyTdM0TcDt/yP1dwrAqK2trauryzAMIYRt2xBFf39/b29vKpVaWFj4+PioqalRelcZSylxIpHwh4kQAqk0NTXNzc2lUqmvr6+zs7N8Po8QGhgYGB8fj0aj29vba2trUEZ/M6wKAYz+yzVCSDAYpJRWKpVKpUIp9TzPdd3R0dHl5WUp5erq6tbWVl1dXTAYZIxBGX51KUVVBTznvFwuf35+uq5bFR+ltbW1Jycn5+fnzc3N8/PzfX194Aw4ALj9NGmlXwUChA+KCAQCgDUEns1m8/l8PB6fnp52XddPnipP/YPE3yMopQAuZM059zwP3Nze3t7c3Ni2nU6nk8kk2AXyw3Xqd+LvLCBEx3GA6oAJpdRxnIaGBtM0GxsbdV3XdV1NB1gIIeqnsTIKDsPhcDgcfn5+fnt78zzPNE2E0ODg4NTUlGVZGOO7u7tisQheAVDQJ/UnrhgHPrq6ukZGRhhjFxcXgUCgs7PTsqz29vaWlhYp5fHx8ebmpuu6SrXwxBhTvx6UzuAZCARisZhlWRMTE4ZhAKDBYPD9/X1vb299fR0aI/AJiPgrfeQbW2DRtu3Ly8tIJBKLxZLJJOf88fHx+vr66urq7Ozs4eHBcZxgMIh8o/tHBf9qX6Vv27bruoZhRKNRjLEafzClVT/1U6rauX9p1je/hBCGYYTDYSnl19dXsVhUIxaYqxji7xvVmaSqr4oOL5RSIYQqK/RDKaXneX/Oq5mq4vsPz0isnLEAD8YAAAAASUVORK5CYII=\"/></td><td style=\"padding:1px;\"><img width=\"200\" height=\"200\" style=\"image-rendering:pixelated; object-fit:cover;\" src=\"data:image/png;base64,iVBORw0KGgoAAAANSUhEUgAAABwAAAAcCAIAAAD9b0jDAAAFAklEQVR4nF1WPWsVTRSe753Z3ZtNSIwa4hUS4Ua4wcZKLAKWiWBEbUSwsLCw9RdYWWihAb86BRWtrDQoVilso4mg+Bkl6I1XY8Jd987dnX2LJ++8+zrVfOycec45z3nOUmNMURSEEMYYIaQsS0opIYRSWpZlWZaEECwxcc7hqLrDGHPOcc6xz7CFL2DCOeecw7JqFEtvq/oq9p1z2GH+I3+MSVEU3jSlFN6UZYlND9a7RQgRQmBHePz+PgbcxFBKAQVM40pRFIyxsiyVUkVR+Pe2kGL9l1+MsaIoMO90OlmW5XlelmWWZR4mrDjner1er9fzRoR/ECZ8aBB7IUSSJAMDA0KI79+/p2nKGLPWBkGQZZlzLo7joii01nme53kupeScU6VUNblAAS+klNPT06dOndqxY8fKysrbt2/b7fazZ8/ev3+/ubmplIrjeHx8fN++fWmazs/Pb2xsbMUrCAJYgV3EFzCbzebVq1cnJyezLLPWCiGyLFtfX19cXFxZWWm1WsPDw41GY2Rk5M2bN9evX19aWsJ1AX7BqGccojw6OpokCSwiarVabXBwcGJiYm1trdPpRFEkhCCErK6u/v79O8syJE2ALrCFCAghyrIUQnz+/PnJkyec86WlJUTjwIEDzWaTc75t27aBgYEgCJxzrVbr8ePH3759Q2455xQHtDJAVeec1hovW2s9H/r7+6enp8+ePbtz584gCFZXV69du3bv3r1ut8s5t9YyxgSlFOWFwTkHZGD/+fOnEAJzPFCr1fbu3dtoNAghi4uLFy5cePr0aRiGQghfwSQIAmOMMSb4d0gppZRBEGitwzCM41gpFYahUqrRaNy5cydNU2vt8vLyoUOHhBDGmDiOYUEpFQQBMcZgprX+ax5FEaU0iiJjDOe82WzevHkzTdONjY2XL1/Ozs7CS2NMGIZaayGElFIpJXxA/1IgxlitVtuzZw+Opqamjhw5MjExYa398uXLxYsXHz16BASoJdQOoieq+lStAmPMyZMnjx8/PjQ0JKVkjCFwvV5veXl5fn7exx2FXxUt5gXN74I99Xr92LFju3fvHhsb6+/vN8ZIKXG0f//+8+fP1+t1Qki3292SO8YgoZTS/5QU3PQ6MDw8PDQ0VKvVrLWc88HBwVar9eLFi1evXvX19R09evTw4cOMMc45zHkBo5SKqsrCEUJIFEVjY2NRFHW73c3NzbIs7969e+PGjXfv3m3fvv3cuXNTU1OTk5NJkvz48QMAUYdbRquh9Bo4Pj4+OzurlMrz3Dl3+fLl27dvdzoda+3Hjx/n5uY+ffqU5znnXGvd7XbhnxcjElSGUopzvmvXritXrvz69avdbq+trZ05cyZJEs55HMdaa611EASNRqNerydJAgr76yC4QBKBv9frRVF04sSJmZkZAH/48OGDBw+A13vHOf/69WuaplprcAj5QQdi6CKgBWTl4MGDp0+f7uvrY4y9fv360qVLf/78QdJ93HFTSpnnue8OngOEEOFFnnNOKZ2ZmRkZGSGEtNvtW7duffjwwfcVay2KAmwHQM450FQTs9XvIKnGGFCSUnr//v3nz5/HcSyEgGh6LiMtEEkvxD44lFJRrdFOp7OwsDA6OrqwsDA3N7e+vg4Bwx3A9N3Ni7rPu3+MSinxIG6GYQhPIeMIiye2/5nw7Pa9539/N1pr30WQBLRyL6/+ssdV7WlVW74V/QMcgbxz+gqLCwAAAABJRU5ErkJggg==\"/></td><td style=\"padding:1px;\"><img width=\"200\" height=\"200\" style=\"image-rendering:pixelated; object-fit:cover;\" src=\"data:image/png;base64,iVBORw0KGgoAAAANSUhEUgAAABwAAAAcCAIAAAD9b0jDAAAEVUlEQVR4nF1Vu0s7TRSd2ZndjW7i+gQfCCEGREULRQyibKN2qRS0sBGxSiPYWFlopQZbLaxsBP8ABcH0qSy0EN9YiBoVJCS7m+zMfsXNdzP8phiS2Zkz555z7x1q27YQghBCCKGUhmFICIGZMSaE0DQtDENKKfl/hGGIK/ADZvihaZoGiIiFgxASBIGmaVLKMAxhmxACv8I6nkVaQggORHArpVRKCTMgapqG9+FhpI+bkSylVFO3qtFpmsYY45zDCkAjCkQqpYQjjDFYhD0cgoLLkSAewHgNw2CMVSoVKaUQQtd1XdeB4D86hGHIAR6A4B4MMAgC0zTHx8fn5+fHxsZc1z0/Pz89Pf34+IDDKA56BTOHcCBAuJMxhi4tLCxsb293d3fDSjKZbGxsPD4+LhaLGAfyQCVr9wAu3gZMHcfZ2dlpb2+/ubk5OTl5fHzknDuOE4ZhtVoNw9A0TZQScWqgauBANgiCSCSyvLzMGLu8vFxfX9/c3Dw6OiKEtLS0+L4P8anWIaeaUUgQlTUMo6urS0p5dXW1v79/f3/v+/719fX39zfnvKWlpVqtwvV4CnyuaYocMW9gpVwun52dua77/PwshLBt27Isy7K+vr5c1wWL1FJEGwghHL1jjOFW13V/f3/z+TxYbJqmZVmzs7OWZd3d3X1+fgIvXdfVqkXKdVC1BCGfNE3jnDPGgiDo6OgYHR3Vdf329tayLKSmMgVCUsq6pigCIYRzTikFiznnra2tS0tLiUTi6enp4uLC932IrJ5DSr1QSrmatDiDoZADg4ODGxsbMzMzmqZ9fX1NTk7atp3P56WUhmGg74heSykY6CZayRhraGiYnJycmJiA9jMyMpLNZnd3dxcXF4Mg4JxD4YIO9a6EAkFFATqACiEA1HGc3t7eQqHQ0NCQSqX6+vpub2/T6bTv+57nmaZZrVb/rX38g6WF8vu+//Ly8vPzUygUPj8/pZTDw8MHBwdDQ0NDQ0P5fB5UghJAcet9RO2qMJumqet6Z2cnNMByuazr+sPDw9vbm2VZ8Xgc7FZP1ZJHfRWgR6j9JRaLzc3N9ff3e57X1tYGr0tzc3OxWCyVStAD8SxarWHqAn8ghTmQSCTS6bRt26VSyfM83/cdxxkYGCiXy8/Pz5xzrJpQebVqLqtA6L7rupTSSCSSTCabmpoIIfF4PJPJ9PT05HK5t7c3SGfo/OobwzFjsc5gQIcul8uGYaRSqenpac/zMpnM1NTU+/v74eHh39+faZpSSl3XQRaQTkpJY7GYqik+O0IIxhhjbG9vb3V1tVAomKZpGMbr6+vW1lYul0MFq9Wq2qcZYzQajaJ32KUAHbZGo9G1tbWVlRXTNK+urrLZ7Ovrq5SScy6EqFQquq4jqJSyDooZCoHgZ7ipWCyiCW1tbZ7n4X7IU7WZEkJoNBpFduqLgpnLGMMIIFKQHk1Xq75mlFpCahvHPgQ64DMOhuAr+Y9cwOM/2NTbbnU0nHUAAAAASUVORK5CYII=\"/></td></tr></table><table class=\"show_images\" style=\"border-spacing:0px;\"><tr><td style=\"padding:1px;\"><img width=\"200\" height=\"200\" style=\"image-rendering:pixelated; object-fit:cover;\" src=\"data:image/png;base64,iVBORw0KGgoAAAANSUhEUgAAABwAAAAcCAIAAAD9b0jDAAAEkElEQVR4nF1WO0g7TRDf2927JBdjNGLji6BGAkEwWEgaUVA70c7GRhAsBCGxtbXRP1qokMIugo9GtFEbRfDR+SgtBAsRfCXxEmJyl939ipHxPlMsk+zsPH4z85toNTU1SilCCCHkj6BpGpxKKU3TpJQg4JVbkFIyxoQQmqZRUEVDaA60KaXwC1rEK9SvVqvoFW4pPJNSgkP4Ch9N04QQlFK3GzCE+pqmcc5BAE1CCMWU8QEmKKWklAohIAR4gwpSSimlEAIiIIRA7oQQjkoIHyLFGHOjjKZRH3/nnEMEYI0iXiC4sa9WqwAIvHGnopRyHEfXdcdxoD6YOyGEg3ME0R0UWETThBDDMHw+Xzgcjkajvb29Pp/v7Ozs8PAQIIJgCSE/IfxBFjxJKaGyhmHU1dVFIpGOjo5EIhGPx+vr603TrFQqwWDw/Pz8/f1dKaXruhCCEMIRCDe4SimogGmasVhsfHy8u7s7HA6HQiHDMAzDyGazuq4zxpqammpqal5fX71eL0QqpeRYaAiWMYZ3fr9/ZGQklUp1dnYyxnRdtyzr6uqqVCq1tbWFQqHm5uZisZjL5QA9LAn/MzzYFkKISCSSTCbb29uFEIVCYW9v7+DgwHGcwcHBSCQSCATy+fzl5WWhUMDOg97gkLjbNGIaj8fD4bBS6uvrK51Ob25u5vP5ubm5iYmJcDhsWdb9/f3W1hb2ImSplKI4bWgdBEppoVD4+vpqaGg4PT3d3t4ulUoLCwupVCoWi31/f+dyuX///r28vICyu3M4TifagoallN7d3e3u7iYSiaenp9bW1unp6ampqcbGxnw+//z8vLGxcX19LaX0er0QiuM4P9RgmiZ4wEKBN8YYIUTXdYCvv79/cnKypaWlXC5blpXJZJaWlpBKEFOIj2KkECz0MArf398PDw+WZQ0NDfn9fsuylFJHR0dra2uVSuWHkCi1bdvNar9NilTEGANVQgjn3OfzjY2NdXV1BYNBj8dze3u7uLj4+flpGAZYEUIAUcETilC6Z8lNQlLKhoaGsbExxlilUikWiysrK7lczjAM27aBH3DK/zf7yCZgEWJnjDHGAoHA/Pw8QEkpXV9fv76+dhyHEOLxeGzbBjaBqqB1Drawy0BD0zTbtr1e7+zs7OjoaLVa5ZxfXl7u7++Xy2XOORANPIECcP47RxTN/04u54wxwzBGR0cnJycB2Ww2m8lknp6eOOfgEp7gjkFu+519pRTnHJxzzoUQPT09yWTS7/eXSiUp5c7OzvHxMYwvpAUzjbgBmiD/ND8kAnUXQrS3t8/MzESjUV3XdV0/OTlJp9Og4F4zuN+wWyFp6t4KQgghBGNsYGCgr68PCvL4+Li8vJzNZiED4GziWpHY41j93x2A+ycUCg0PD9fW1hJCPj4+VldXHx4eoDgAKIKALegmTwqVQeaH0bQs6+bm5v39vVgsXlxcnJ6eVioVoEQ4cUBw8BDWn9Pn82GkcDLGTNM0TZNzXigU3t7eDMPA7ebuc5x6N21SSjW/3w84IkkDvrZtwxKtra0FHKvVqvvvCXYSVgXz/g9zZKo2zqAlcAAAAABJRU5ErkJggg==\"/></td><td style=\"padding:1px;\"><img width=\"200\" height=\"200\" style=\"image-rendering:pixelated; object-fit:cover;\" src=\"data:image/png;base64,iVBORw0KGgoAAAANSUhEUgAAABwAAAAcCAIAAAD9b0jDAAAFMElEQVR4nF1Wz2sTTxSf37uSbUq2VRSjGH/Ug9BSaJTQg0jxVoWCd+8iHkrpHyAIgoJFUBBEqKiH3kopvRSpFgoWK4gXQ2qUWlpDJbtNsk12JzPzPbx+p7FzCC+7M+993mc+773Fvu9rrRFCxhiMMRgIITAIIfZV519CiFIKIYQxhlNaazAQQgQ8wrtD3mFru93GGCuljDEQj3OOMaaUUkrhoT0IrghA0FpbIBYmYwxjLIRQShFCIABCqF6vSykRQhCpMznwxqwXQAqQIbskScAmhEgpKaWu68KrZrMJNiGEUmp501oTQpjFDOfN/4sQ4jhONpu9evXqyMjIhQsX0um01rper29vb8/Nzb19+3Z3d1cIYTMDmMYYZtPHHcsYQykdGRm5ffv2lStXIEYURRjj3t7e48eP9/X1eZ737NkzSwsYwDLrvJZO1OfPn79z587Fixcxxq1Wq1Kp/Pjxo1arZTKZfD5PCLl27drr16+r1SpjrJNQjDEDXwcXR4hSSgjR3d195swZSmmpVFpeXn7//n2pVArDEAAWCoWjR4/CZsdxQF5AKEKIdWrNetdah2EopZRSfvnyZWZmplgsNpvNVquVTqfPnj0rhIiiCFRhZUspBW0Ryy54RwjBjkql8uHDh83NzZ2dnUql4jiO53mc85s3b2YymSiK1tbWgiBgjAFM4HS/NCBOp2vIolarvXnzZmFhoVwu+76PMd7b2xsaGrp3757W+u/fv7OzsyBb0LitKIwxs76sLCCmlPLTp0/FYtHzvGq1GgRBX1/f06dPM5lMo9F49+7d2tpaKpWSUgKPIHO4fWIfWWZhweswDKMoajQaAwMDU1NTuVwujuOPHz++evUqjmOoYMgakO7DOlTsVhxAE8a4Wq2Ojo6+fPlyYGAAIbSysvLo0aMwDBljcDPQGaAVHDQUiID+XbBVKTU8PDw5OXnq1Kmurq7V1dUHDx5sbm46jsM5hytSSgHeA3IzmQz4BSotL0BNNpt9/vx5Pp9vtVrfvn0bHx//+vVrKpXaR0SI1hqcSimFEOCU2Zq1PdCWlu/7jx8/7u/vRwh9//794cOH6+vrXV1dxpgkSSilUkqlFGPMGMM5dxyn3W5rrQ8qynYpwCuEGBsby+fzQojfv38/efJkaWmJMSaEAFDQwzDGnuddv359bGysVqu9ePGiXC4zmwigA+455/l8/u7du47jbG1t3b9/f3FxEYJJKev1OiGEc97T03Pp0qVbt24VCoUTJ07Mzc39+fOn2WwymzJCSAjRbDZ93z937tz4+LjjOFEULS8v//z5M51OHzt2LJVKHTlypKenJ5vN5nK5QqFw+vRpzjkhZHV1dXp6OggCpRTu7u62QwY67uDg4MTExOXLl6FPJ0niOA7ETpKEMQbjBOYKpXR3d3dxcXFqaqpUKlFKOefM6hQEgBC6cePG4OBgq9XSWruu6/s+Y4wxFoZhKpUC0pVSQRAEQbC0tDQ/P//58+c4jimlMHv+GSdSSs/z4N44567r1uv1crlsjIEO3W63wzDc2NgoFotbW1vb29sbGxtxHGOMXdeFK5FSMjtCYEDGcbywsHDy5MlcLvfr16/5+flKpRJF0c7Ozt7eXqPRSJLEtrt2uw11Ze8Z9L8vfpgf8BvHMZzhnEspGWOQrzFGCAFyhlqyardtH1wzaLT2WwFOgqpd17UtEmylFAjOeoFgB58RhOwPPjtdDw1BGO6wT0ppuwzYljFbOHacEEvHoS8ZIYQdWbb7Qk4w7q0QbVnbh/8BQpj5LsNZ55oAAAAASUVORK5CYII=\"/></td><td style=\"padding:1px;\"><img width=\"200\" height=\"200\" style=\"image-rendering:pixelated; object-fit:cover;\" src=\"data:image/png;base64,iVBORw0KGgoAAAANSUhEUgAAABwAAAAcCAIAAAD9b0jDAAAEsUlEQVR4nF1WvU8UTRyemZ3d2b1ZCri7eJBg0EISxQSQUJjQkZhIZ2HoNbHB2r9C/wQLO2NlaK5BohQmJBAwgUAI4SvBnHCnd7B3+zUzb/Gc475MsbczN/PM83t+X0ullMYYSiml1BhDCMGLneKJwRjTWlNKyf8HpdSuU0o5fgghSqkiIjZZXMYYIURrDRS7fmM/Y8wYw7BJKeU4DmMMmyw7y90+LZC1D6ccx3EcB/tZ0a4bEDgAgsYYpRRjDFwcxwFQURxrBzN/B6BxPw4DV2vNGOOcWxSsc86VUlZfrTVuopRyAIEIcBljUCNNU/xLCMF7u932fd8Yk+c5pBBCYIPjOJYpDcPQMsW1SZKAoD0vpcyyrFQqPXjwYGRkpFqtDgwMfPnyZXt7O8syznkxWiilVEppRfF9H7jtdnt4eHhwcPDhw4dTU1N37twZHR2tVqtJkkgpBwcH//z502q13r59++nTJyua9R4vurhWq42Pjz979mx0dFRrPTQ0VK1WgyDgnLuui2NCiHa7DehXr14dHx9/+/ZNCNEPJsaMMRw6QtDZ2dmlpaXJyck0TXu9Hm4SQsCOOI7hCs/ztNZxHNdqtXK57Ps+IYRznqYpyHILL6UcGxsbHx+P4zjLMoTR9fV1p9NptVpXV1eHh4e3b9+en5/XWqdpGgSBUqrX62mtOedaa9d1EXYcXjPGuK7bbDbPzs4GBga63W6j0VhbW9vZ2dnf3//582ee571e7/nz5zMzM77vg1ej0Wg0GjDUmksp5ZgLIX7//v3hw4f9/f0gCPb29i4uLpIkQbJlWQZNa7XarVu3OOfX19dSytPT05OTE855HMeIYojJKaVKKaWUMSbLsrW1NQRAt9sNw1Br7XkecH3fn56ehqVSyk6ns7Ky0mq1SqWS67rISYRq31GUUiiCCxGVxWoSBMHIyMijR49wfRzHR0dHGxsbcJqNJ0BxZBjY4R5jDOhgCqWEEC9evBBCRFGU53mpVNra2jo4OIAdxhhsBjq3uZznuS0QENoWC6XUvXv3FhYWPM/zPM/3/U6nU6/X0zQlhIAsOAKaWY7s7yiWONSRSqXy8uXLMAyzLEOJ29zcXF1ddRxHCGELvPU+K2Z9sVxBXOBOT0/Pzc2Vy2VKabfb/fXr1+fPn6MoQjhmWXaj2v4rcSCPVbgbm8IwfP36tZQyiiLOOWNsfX29Xq/bOgKhrGOMMcy62PoOwjuOg/r25MmTqakpxpjneUmSNJvN1dXVy8tLFEOrIxToh6qdW+9DWdd1Pc8bHh5eXFwMw5BSGsexlPL8/Pz79++QxVIpFqp+nBb7l73DGFOpVJ4+fToxMeF5HiEkz/MkSZaXl/f29nzfV0pprWGW7Rp99/6rrJQW2yrnvFwuP378OAiCZrOpta5UKh8/fnz//j0iCWpa46Bpv6eiiRaVxYpS6u7du/fv3yeEwGlfv3599+5dr9cTQiA7bAbapOq3yzzPi47Df1mWKaV2d3eXl5cvLi4YYz9+/Hjz5s3R0ZG12obKv9ZkQUqlko1/0LTQjuMg5aMoOjs7y/Mc9fhGvhWbfF/EMAwhdvGLwdaRKIrgaLj4RlsufptYiY0x/wFA1LhfS5ZXagAAAABJRU5ErkJggg==\"/></td><td style=\"padding:1px;\"><img width=\"200\" height=\"200\" style=\"image-rendering:pixelated; object-fit:cover;\" src=\"data:image/png;base64,iVBORw0KGgoAAAANSUhEUgAAABwAAAAcCAIAAAD9b0jDAAAFBElEQVR4nHVWPU8UXRS+XzPDMDO7GXeTVcO6GLHCj5CAIrpGbPAroSaxITZUhNKSn0CIhbGzIkEKagpWkw0JBGOwsVCblYAoq2adnRnunXvvW5z1Ms07xWT3zpxznvOc55wz2Pd9rTVCCCGEMVZKYYzhBGP8fyeEEGOltYYXMMYIIUIIUUpprdW/C37DqwihLMvAF9y11nkE5hB+a63BIUH/LngAocxfQog5xxjDI7DPI4C7AUFMaiYg5GvsjY1SSkppnAIuSqkBC1YYYwZwIGw+EbAxPJiohBDOeZ4NgwDoRgiRfGoQDeDkbfL0AV5CCCEky7I0TSmlgEBKCe8ww6MpFKXU1NckAW+fOXNmeHj42bNnw8PDSZJsbm6+evWq1Wq5riulPFWI53nGheE0XxCEEIQZGhqanZ198uTJpUuXoiiK45hSurq6uri4GEWRKQAhBPf39xtEealSSqWUtm17nnft2rV6vT49PV2tViHk9+/fLctyHEdrPTMzs729TSk1QmZ5iQFlwFdfX1+hUBgdHX348OG9e/dKpZJt21LKHz9+7O7uNpvNIAgeP3588eLFs2fPWpZlSJNSnjo11WCMlUqlBw8ezMzMXLlyhVL6+fPnr1+/Hh0d7e3tNRqNnz9//v37d2Fh4fz582maHh4eGtlxzimlzBAHd4gZhmGxWPzy5cuHDx+2trY+fvz4+/fvLMs45xjjc+fOPX36dHZ2tlgsNpvNg4MDQx0oAfu+D4UzqgSyGGNQccdxpJRpmsZxfOHChbGxsenp6cnJSSHE/v7+ixcv3rx5wzm3bRvq0ZNUvhG11kIIpVSWZbZtl0qler0+MTExMDDgeV6hUKhWq4VCQSn17du39fX1RqMhpbQsC9QNyFieUFAPkG1ZFkLIdd1arTY2NlatVimlrusyxtrtdqfT6XQ67969Axn0GumfLhlQCY6gSUxAKeXx8fHa2tre3l65XK5UKr7v//r1a3BwcHJyslgsZlmmtY7j2HEckCD4ZVBuKSWllFKaZRn0KwSP47jT6bRaLehOAHL9+vWpqSnHcVzXNa0BfsCcGYxhGJbL5aOjIyEE5xyS4pwzxgC4ZVmEECHE8fExjIg4jqWUjDHGGGi8N6tMfebn558/fz4wMMA511pzzoEKKWWWZYwx6Jk0Te/evRuGYRzH+/v7GGPbtk9OTszoUUoRpZQQQggxMTFx586d27dvd7td13X7+vrMANRaSym73S7n/P79+3Nzc47jbGxstNttxphSCpIwe4EA5iAIPM8rl8u3bt2q1WpRFHW7XYQQ5IUxjqKoUqnMz8+/fPny6tWrGxsbS0tL4MuMMSMkZtu2ECKKoq2trTAMx8fHl5eX375922g0Wq2W53m+79dqtRs3bkxNTV2+fDlJkuXl5ZWVlXa73dtIuR3Rmymu6wKng4ODc3Nzjx498jyvv7//z58/ADAIAsdxfN8/ODhoNpuvX79+//59kiSO45yOekLMpiGE4CAIoBqc83K5PDIyUq/Xb968GYZhpVJRSiVJ8unTp7W1tZ2dncPDQ4zxycmJmfZAoql7r1xmnhJCGGNQR0hKCBEEQRRFUAqMsWVZjLEkSWzbhlbO1+d0WXmeZxoUqgy6wxinaQrBKKWgEDO/gU3oovzHRK/3YSmh3HcDiBTc5ecL+DIpA4K8RwOZmfVpthNwL4QA+GAP2gJjWJFmLecHPDj9D2X7xdyVjciIAAAAAElFTkSuQmCC\"/></td></tr></table>"
            ],
            "text/plain": [
              "<IPython.core.display.HTML object>"
            ]
          },
          "metadata": {},
          "output_type": "display_data"
        },
        {
          "data": {
            "text/html": [
              "<table class=\"show_images\" style=\"border-spacing:0px;\"><tr><td style=\"padding:1px;\"><img width=\"200\" height=\"200\" style=\"image-rendering:pixelated; object-fit:cover;\" src=\"data:image/png;base64,iVBORw0KGgoAAAANSUhEUgAAABwAAAAcCAIAAAD9b0jDAAAEkUlEQVR4nGVWTU/UXBTu7T3tbTulzAewIaDBWcAgMe5cQGIgISTEnRjCyo1rE/0h/gLjf3DJjo3GDeJOHYRgSFhMcChT6Ezbe++7eHiPk8iiOTnc8/Gcj+eMqNVq1lqttTHGdV1rreu6juNAsNZKKauqchxHCIGvtZYfaK2hx2MIIggCx3HYxlorhDDGjCuhkVIaY2AJ15DvHAkB2VrrGmOEEDCDTVVVcM0pa60dx8FL5/8/KSW/wTNrLd640BpjPM9DCkSEGAyHSzEuAA00jPIORxiG8CWEQEZVVRER3I3jZct/K4MYUsq7MP/iMsbAu9aaE4Fm3DvLrusSke/7KJ2UUoRhCBsiQis5F3hkvGVZEhF3GRqtdb1eV0o5jnN7ezsajYwxhNIwUgwWW0optdb4LyqjlKqqyvM8IUSn09nY2Gi322ma9nq9L1++HB0dZVlGgMDBAQ0oIFhrm83m/fv3b29v0zSFvLy8vL6+3m63wzAsiiJN0yiK9vf3//z5c3Fx8bfRqB2GER611kqpRqOxt7f39OlTIpqamlJKRVFUr9ellESUpmmtVouiyFr78OHDVqt1enp612X0B19sUVmWrusqpV6/fv3ixYtmszkcDuM45mZWVZXnuRDi7OxMKXV+fv7x48dut2utJbyQUqJ8iAHURPTq1audnZ0kSRzH6fV6v379Oj09RZr9fj/P8x8/fnz69Oni4sIYkySJlNL3feJGj4+htdb3/a2trZcvX05MTCilut3u4eHhhw8fvn371mg0tNZZlmFgsizDeCRJgjoQDxDPM4S5ubm3b9+2Wq04jrMsS5JkYWHB87ybm5ubmxsMBifkeV5RFKPRqCzLqqqIt2LcIxE9e/ZscXFRKZVlWRAEjUZDSrmysvL169fBYEBE3F4pZVEUrNFaE3MdT3sQBPV63ff9k5OTmZmZ6+vrfr8/Pz/v+/7S0lKe51ge9BMmnudxP4QQIggCzClnWq/XHzx4sLKyUpZlv98/OTmpqurNmzfPnz8/Pj7e3Nzs9XpKKZ5CNmTaJWYXxrKxsbG7uyuEODw8/Pz5c7fbnZyc/P37d57nxpjZ2dk0TbFUSIV5mjeTmBewy7VabXt7e21tLc/zOI6NMQcHB77vdzqdRqNxeXk5PT1NRESklCqKglFiv9EP4uqgoUVRDAaD4XA4HA7b7fbc3Fyn0xkOhwsLC1dXV9fX12i053mYfIwz2BLwrbWEE4Q4RJTn+fv378uyXF1dbTabU1NTW1tbV1dXQRAMBoNWq3Xv3r0oinCdkCl2j/nbdV0B1mLGxWomSfL48eMnT548evQIbOC67sTExPfv39+9e/fz508hRFEUUkomRmf8yoVhCC08ogM4rhBmZmbiOJ6dnY3j+Ozs7Pj4uKoqAMcYQcZ4wY9QSnE0JAXvDI15K4qisixBzL7vCyGYIbldd0IYhlprxBm/KON3Hxw4Go1A0jgzfChxfpAKXP8lFPbIMVEj5I6kABlhuJSoFdYUmbq89f8yC68Z31TGMb6EWFNOQghB4z9dYMC/IXgR8eWLwIH5xLIGsf8D2i2wFlye9jcAAAAASUVORK5CYII=\"/></td><td style=\"padding:1px;\"><img width=\"200\" height=\"200\" style=\"image-rendering:pixelated; object-fit:cover;\" src=\"data:image/png;base64,iVBORw0KGgoAAAANSUhEUgAAABwAAAAcCAIAAAD9b0jDAAAEVUlEQVR4nF1WPUszQRDe3du9XC4nAUUNok1AiUUQwYAhEStbNZWViJDSThQEC8WfYBrRSgSxCzYWgliqRdAqCn5gYaGFGhUvuduPtxgdj3eLY7mbnXnmmZlnjyYSCWMMIYQQQimllBpjtNaUUnwyxsjvopTCE80YY7AhhBhjKKUMPMJT/y7wgr601mCNxrDAAD4hJkIIQ49RvMYYKSVYcM7p77IsK3oY3cFZpRR4YBgZTP8+MAZegiBwHEdKCfkaY8DGsiwgRykV5eTH6R9sxjjnCBM2yWQynU739fUppYIgAANjTBiGyE8UFqWUI8Aoa5ZlAVLP88bHxxcWFoQQtVptZ2fn5uZGCMEYU0oh11ESCCEcdxBWa42pKaVs287lcr29vW1tbQMDA11dXWtra8/Pz5CyUgpOWZYVhqExRghhjGE/TcAYhAWAEMMY093d/fHxsbi4uLS09PT0VCwWM5kMIURKGYvFLMuC0gVBAHsppdaaYcpIjWVZUBPbtl3XrdVqJycn1WrVtu1EIhGPx6WUrd8VBAGllHMerQ0HpNCbjDEIBZF83399fZVSdnZ25vP5ZDJ5f39/fn4upfQ8T0oJ2UCTYAsyxjichyDgGpAyxhzHcV13cHCwXC5nMhnG2NXVVRAErutSShuNhud5YBzt9B9OATkChDZUSimlPj8/h4eHJyYm+vv7CSH5fH59fX1oaMj3fc/zYPyQtL8hdl0XAGLdsWKEkFgsNjIyUi6Xs9ms1jqVSnHOv7+/9/b2Dg4O6vU6lh6o+CEkHo+TyELvSDwoDgTu6ekplUrT09OpVGpjY2NnZwdKBEj/pjHaQJD+z6gxBvtms+n7fhiGrVbr8fFxe3v76Oiovb29WCziRAGzKD0sqnJRdlAsoKu11tDYvu+/vLwQQt7e3sDMcRyttZQS82PYXEgzZoE8wN73fRjcQqEgpby9vYV439/fMGCYK0OBgVyiUwzaAVQIIaAf5+bmxsbGrq+vj4+PHcfB93j2r/lh8v7TZqwbZNfR0TE7O7uwsJBIJCqVyuPjoxACNT+q/xzdR6NBJJAugFkoFKampqampjjnKysr+/v7jLFms8k555xLKZVSQgigjuNtA+XGnjXGoHSWSqVyuZxOp9/f3zc3N3d3d23bhqgwncApNjiPDhlqq2VZQggpZSKRWF1dnZmZIYScnp5WKpWzszPHcVB20SNSp7WmjuNgobClbNu2bXtycnJ+fn50dPTh4aFSqezt7TUaDTgWi8WAwTAMUTRQ8KjrujgSMPjxeDybzS4vL+dyOSFEtVrd2tqq1+ta6zAMtdZwFWIxMVfUTB4tCzSHUsrzvLu7u8vLy8PDw4uLC2AjHo8DZaA1mBm2FIKjruviJY7KzxiDUjSbTVQs0Bq83aISoZTinEMkSimLzhJ4h/74+vpqtVpYPZBwMINrOaoY//12sOiM0t+/BzgQhiFcy+AOpR7nAjIDyAiTEPIP6d2flhEiv3gAAAAASUVORK5CYII=\"/></td><td style=\"padding:1px;\"><img width=\"200\" height=\"200\" style=\"image-rendering:pixelated; object-fit:cover;\" src=\"data:image/png;base64,iVBORw0KGgoAAAANSUhEUgAAABwAAAAcCAIAAAD9b0jDAAAEwUlEQVR4nGVWPU8bTRDevd29O9+dDThEJsQgxQVICCREkRDJKVJESkGBRBVBSbp06ZAQ/4GKhh+AEAgJ8dFAgRAIK1GqFIlcpIgtBZBt4Y87e29332LM6JJ3i5O9uzczzzPPzBzNZrPGGK21ZVnGGEIIIcQYQykljwv2KaXwgzGmlIL7lFKtdfKmZVk8jmO4rbWGLWMMvIw+wCI+4ZpSCixCQHAKpizLsiil8MToMCg4Qh9KKUJIHMdaa9u2wRbnHF+EgPr/EQI4Z4zBMXpmjAFqgI8RICwwAvvcPC5wC4aUUowxuBrHMedcShnHMQAKw7Db7TqO43leHMdCCLTQ5xSZ+r/b/g3OKaVSSs55LpebnZ1dWloaGxvb29vb2dmxbVspBYTAfa01B4BJEgkhlmVJKR3HiaLI87zZ2dk3b94UCgXbtl+/fp3P5xuNxtevXz3Pu7u7A7owpZxzDqAAF1AGizEWx/H09PSnT5/m5+cdxymVSo1Gw/d9KWUURT9//my1WlEUua6blIpSioM5DB6EwhgTQrx//35tbc33/cvLy5OTk9PT01evXr19+5ZSenp6enV1JYQADcRxjFIjhHCUCyZaax2G4cuXL9fX1z3P29zc3N/fr1arUso/f/5YlhWGoe/76XS60Wg4jiOlZIyBWv/VKSpRKZXJZFZXV589e3Z9fb27u1ur1YIg6PV6Sqlms+n7fqFQKBaLvu/3ej3MBxSCMcYChUKk4MC27ampqWKx2Gw2t7a27u/vCSGtVmtoaGhwcNDzPGNMNpt98eKFbdsgXqWUMYYxBsFZqHMwLYQghExPTw8MDNzf35dKJc55FEW2bafT6ZmZmVwuF0WR4ziXl5flchlyC7aQVgsLBlwBNalUSkrpuu78/DznHBS6sLDw4cMH13Vd1/3y5cvR0RGmF1AiaA4iSPYC27ajKKpUKoVCYXt7u1qtaq2Hh4efPn0aBEEYhvV6fWNjIwxD0AlGgzRykCTC11o/PDzc3NwopRYXF+fm5ubm5h4eHu7u7mq1GhTY0dHR79+/U6mUMQYqLY5jDJkQwkGkyf5EKS2Xy9+/f7+4uJicnMxkMrVa7devXysrKx8/foyi6Pz8vN1uO45j2zYAJX8vDhbhic200+kEQVCtViuVilJKSgk6S6VSt7e3t7e3vu9HUQQWIbdohFLKsdixzrAVCSGA/iAIlFITExOU0nq9Di0G6t113WQ59dtVspZQGdB4er2elBICF0IMDw93Op1ms9lsNqWUEBSAQOB9JSRrVkqptRZCpFIpIQTnHPU8Pj6eyWSMMfl8/vPnz8vLy8+fP4cwkzUJGuA4oOjjAhIBC5SKZVmjo6PQD4MgmJycFEIcHx+3223g4Z9c9alENcAlzjlWCOw8efKEMRYEge/7IyMjP378aLVajuPgZMWYCCF/dX6IGgJnjAFxMC06nU632+12u1rrb9++HRwctNttnAvJQU0p5dhDk+MT2MGi6PV6Z2dnm5ub796963a7h4eHtVrNdV0kB78T+kYGBweTB8lCABlgZzDGOI5jjKnX65hGLEXMNqWUZjKZpJPkXEGFkcfxC7JNfj0kPz4QvoUzC02gEpItEacO5xw6SLKpk8fpC+s/nX6qY+ma1o4AAAAASUVORK5CYII=\"/></td><td style=\"padding:1px;\"><img width=\"200\" height=\"200\" style=\"image-rendering:pixelated; object-fit:cover;\" src=\"data:image/png;base64,iVBORw0KGgoAAAANSUhEUgAAABwAAAAcCAIAAAD9b0jDAAAFj0lEQVR4nGVWy2sTXxS+986ZRzItSWmMto2GWltCY6wWRIS4CNqN+Nj2D/ABFhduxJ0BCy4EF+rClbj0gQjFhUJWKtVYWt8RKUSMqFSbqG1mknnce3+LE67B3yzCZOaec7/v3O98Z2hfXx8hhBAipZRSappGCBFCEEIopeo5Y0wtwxtKqZRS/QohKKUYwlQKXC2EwEUqUl2k62KM4cruPRQIpnZTWFRqzrnaQwFhjDHGOOcA8A8JdQNq2252uA0AcM5VGOecENJutxljlmWpQCGEWoBggRAShmE3/k5dGFNh+MowjGg0OjAw0Nvb++XLl5WVFQBotVqcc8MwVIiUElRFGGPd1VSQAQB33blz5+HDhycnJ7ds2RIEwfz8/P379xcXF+v1upRS4WWMAaVU0zTMiJc6UF3XwzD0fT8IgsnJyVOnTu3du1cIEYvF2u12oVDo6+sbHBx8+PBhrVaLRqOKEyAirBc+4pxrmkYpDcPQ8zzTNEdHR2dnZ/fs2eO6brvdbjQapmkCwNjYWCKRiEajN27c8DxPnRsoHSDA7nOjlFqWlc1mL1y4MD4+Tgj5+fPngwcPSqXSwMDAiRMnMplMLBY7evRouVxeWFgwDAMzAAoIM3bLSwjBOd+9e3exWBwfH/d9/+PHj8VicXFxsdVq2bY9PDwciURSqVQ6nc5kMktLSxjOOQfFGnMpCp7n7dq1q1gsZrPZIAjev39/6dKlhYWFMAw5567rrq2tra2tra+vW5Y1OjrKGPvbUf9vNUKI53n5fP7y5ctjY2NhGH769Gl2dvbx48dBEOi6jhxXV1dfvnzZbDYNw+jv749EIpxz7JdOm2IRNU0TQvi+v3nz5tOnT2/dulXX9VevXp09e3ZpaQmVH4ZhT0+PlPLt27elUqnZbHqeF4vFhBBhGDJ1qeZDuQ0NDc3MzExNTQkhyuXyuXPnyuWyEAIAMB0e9Ldv3xzHAQDbtldXV33fR0VTSgExInHf9+Px+MzMzKFDh378+PH79+/z589/+PDBsizUthBC1/VWq4VVymazqVRKCFGr1YIgIIRgcToWgI4HAAcPHpyamgKAer1+7dq1Z8+eGYaBKsYY13UBwDCMTCYzPT1tWdbKysr8/DxjDABQ3QyrjmofHh6enp7etGkTIeTmzZu3b9/esGGDpmlSStM0saboMkNDQ2fOnBkZGQmCoFQqVSoVXdeRa0f8yKXVau3fvz+Xy7Xb7YsXL966dYsxhqQopa7rYl8YhpHP548fP75jxw5d158/f3716lXXdZFrh7Hyjng8XigUAOD169ePHj3Co0SdYcXDMMzlckeOHCkUCslkUtf179+/X79+vdFoYDcrpXd633XdWCyWTqeDIHjx4oWmabZt+76P0kskEtu2bTt27Ni+ffuEEI7j/Pnzp1qtzs3NPXnyBE9Pma+UEpSqUqkUAPT29m7fvv3kyZOe5wFAMplMJpO2bY+MjAwODhJClpeX7969u7y8/PXr12q1ahiG53nIQ/l0x1AA4NevX7VabePGjRMTE7lczrIswzBs2w7DEAB0XSeEvHv37sqVK6VSSUrpOA7nPAiCnp4ex3GUmUopAevFGKvX63fu3JFSTkxMaJpmmqamab7vRyIRx3E+f/789OnTe/fuVSqVRqMhpUTxmqbpuq6u60p2lFKaSCQQM6aIxWL5fP7AgQP9/f3pdBoAKpXKmzdv5ubmqtWqaZqqHTEEJyBWU1koxbkvpTQMAwA8z/N9H52UELK+vo5Ftyyr2WxGIhH8q6wH+1LNEnzekRTn3PO8IAgAIBqNhmEohNA0DQBwFCMudJxuVf6TrgM2Ho93f3EwxjRNwzmsBj3yRbLqm+OvezLGOe+em6DGp/J/ZKQMGzOqt51vEMbUuEWw6hUh5D8Sk84cxivoMwAAAABJRU5ErkJggg==\"/></td></tr></table><table class=\"show_images\" style=\"border-spacing:0px;\"><tr><td style=\"padding:1px;\"><img width=\"200\" height=\"200\" style=\"image-rendering:pixelated; object-fit:cover;\" src=\"data:image/png;base64,iVBORw0KGgoAAAANSUhEUgAAABwAAAAcCAIAAAD9b0jDAAAEmElEQVR4nGVWv2sbTRDdn3d7Okm2kBIZVZLB2KBgAnKRKk0gQZDKBNK4NLhxkS6FcWcXbvVnuFJhgysHEhNIcJJChXEgJAokIWDZUqyTTne7e18x8vjwt4VYrXZm3sy8Nyvq+74xJkkSxpi1ltwsSimlNEmS/++TJKGUGmPgHKwopWgorLVwG64yxpIkgT1+EkIgcNo4uVmc8zt+RfoqBoCvEAMMGGOc8yiKwAvEgztwIY2JYViwhOCMMbTRWkOw0WjEOXccJ45jzjkYWmuttYwxxhh+FWnYhBC4zTm/d++elJIQks1mhRCTyWQymVxdXV1dXRljwDhJEsdxECmApZQKRMoYM8ZAms+fP3/16lW1WqWUhmEIRRgOh79+/frw4cP+/v75+bkQIo5jrbUQApqGvRFQFDgCY6XU4uLiwsJCPp8Pw9D3/cFgIKXknFer1Xq9/ujRo62trdPT01wuZ4yJ4zhNGM65AMzYjSRJjDHHx8eVSmV5efn6+vrrzeKcNxoNcLqxsfHz58/Ly0tKqeM4k8kEG2iMIUop13Vd11VKOY6jlJJS+r5fKpWKxaJSinOezWYZY1LKmZmZzc3Nbrd7dnb25MkTIYSUEkzcm6WUEmliA1Jg5b9//yCJXC4XBIHrupTSwWAwHA593x+PxxcXF57nUUqjKEIVQAGnHAI2IAGMMYQQAKK1Nsa4rhuGYTabffr06czMTK/X+/Pnj7UWPKbVyDlnyIYpbxmjlAohUFFwbzKZEEIeP37cbDaFEIeHh/1+f+qCMSTTbfehcUALYAJwK0mSOI4hKUrpysrK7u6u67rfv3//+PEjtEVrDTIFvFMWoUDhCGmBgpFSSilrtdr6+vr8/HwQBEdHR2/fvhVCoPDuZMZgUqS1jwuEYIzhnK+trb18+VIp1el0Wq0W0BMJjpgQ8q3MQb/TU8biOIaThw8fvnjxIpPJ/P37t91u//jxA+yhn9ZaiA1QrLUMVQ9yRiFYa4UQURRls9nV1dV8Ph8Ewfv379vtttYagoFTaD2WjiEVsH04gAGs67rlcrnZbGYymXfv3rVarV6v5zgOFB2rD6TEEc7ShEgvAO553rNnz8rlcr/f39vb63Q60zEshDFGShmGITrC6SWw9VAabBfs5+bmGo3GYDDY2dk5PT2FkimlPM+bnZ31fb/X6wVBAJdBKZxzcUedGBZY3Wg0Hjx40O/3GWNLS0ta6/v379dqtWazWa/XC4XCt2/fXr9+/fnzZ6jvNA+AmX6mcG5RSmdnZwuFQi6X297ejqLo8vKyUql4nuf7PhTUWjs3NweCBtURQgQmjqSDAFEUMcZ+//49Ho9LpRLYFItFrfVwODw5Ofny5QultNvtfvr0aTweCyFukXmeh11D1LAnhBQKhbW1tZWVlXw+D0BGo9GbN28ODg601hAbhjS2l1JKlVKY+J1nVUoZxzHOYKVUGIa5XI4QAm8BY0xr7TgOzqqpK3QKAwJJhxMLghNCwjB0XTfNFrCC0qXfpNt3H9qH4ytdX3iopZRCCIwK0O78uwErkZ6vOG5xjONrDr9C+TBNkH9aMnD+H3sPocs/Fr38AAAAAElFTkSuQmCC\"/></td><td style=\"padding:1px;\"><img width=\"200\" height=\"200\" style=\"image-rendering:pixelated; object-fit:cover;\" src=\"data:image/png;base64,iVBORw0KGgoAAAANSUhEUgAAABwAAAAcCAIAAAD9b0jDAAAEtUlEQVR4nF1Wv0scTxSfnZ29/eVelDs0WIhY+CsqpJF0CQQhRUglKawkjaCNWoikSGXhfxAkaZMiVYqkMorhwEiIB4LXBMkJOU80p4J6q7c7O/MtPudzv06xzO7OfN57n897b8YIgkAppbXWWhuGobVmjGFiGAZNGGP4RYNzniSJYRicc6VUehcHYno11hFQGlprLaXEd6WUaZr6ZpBVrbXAJ845Y0wpxTknywCSUmIzYyxJEs/zkiSBbaxPe4OnwAxmsY6ooO8dHR2PHj3KZrPlcnl3dzcMwziOhRBYb1lWFEWEq5QSFLtSCoGTTcxN0+zu7p6YmOjr6+vo6KhWq5ubm58+fdra2sLeOI6xHiCMMU5hEjom0AEGLi4ufv/+vba2VqlU8vn8ixcvVlZWpqamTNMUQoC9tDeG53lpHSARwcFT27Y9z+Ocd3Z2Pn36dGxsbGho6OTkZG5ubnV1NZPJkAbAEaQPBCX1IQtewzBsNBqc86Ojo+3t7Z2dneXl5ba2tv7+/m/fviF8EhNRclLNNE2ihrKCiIvjGJqcnJxUKhXXdff394UQ8CmO41sxKMvupDcRkiSJlFJrHcdxFEWGYYyOjvb29v7586dUKtXrddu2KSnhkKDcTmPBJnwnr8Hv0NDQy5cvhRBfv349ODiwLAu8aa3BAKdSwyAskk5KaRiGEMK2bcuy+vv7l5aW+vr6jo+P379/jyyM45hzDh7gmaB4sYIIRS2Ypgmr19fXT548mZubGxkZqVQqi4uL1WqVc44FQggw01SfuKD9ZCNJEsdxpJSu646Pj8/Pz7e3t1er1Tdv3nz//t00zTQiJAWuoOTCwD9Qc3V11dnZ+fjx4/Hx8YcPHwZBsLW19fHjx42NDeQMAoL6zVri3DAMw/M8UoNzDhLh/sDAwMLCwrNnz7TWZ2dnhULhw4cPP3/+DMPQtm3UO6ET6G1FIWS0NcdxHMd5/vz569eve3p6SqXSjx8/Pn/+XCwWr6+vsSxdQkII8KaUUkoJIQzf99PJpJTK5/OTk5PT09NSynfv3n358qVcLlMbRcimaUopETUUTpIELY0xxlzX9TyvpaXFcZxsNpvP51+9enV8fFyr1WZnZznnlmVls1nf94Mg8DxPCGFZFmMMr21tba7rBkHQ2trq3wwBa0TogwcPZmZmHMcpFoubm5v37t2LosjzvCAIcrnc/fv3BwcHe3t7Ly4uDg8P9/f3a7VauVw+PT1NkgTu/6+hwPPh4WHHcYQQPT09b9++DYLAtu16vR5FkeM4vu+jJ0VRtL6+/vfv31qtdn5+HoYhQJE8okntzSiVSr9+/ZJS+r6fy+UsywrDMJPJ+L5/fn5eKBSKxeLe3t7e3t6/f/8ajUaSJGg0QAS/huu6VKCWZTUajfb29q6uriiKjo6ObNtWStXrdRT05eUluhHUpyadLkWtteF5HmSFpoyxer2utUaYruvGcZzJZND6UODpZoYt1JKadQRQOr5xMKDqpZRoFvgSxzGSvFmLN520GXLqznDb+rAfjtATCSildByH2AdiukmS4807g+/76YOPLgB0oCLtMb/jFOKllkQ9pNk+qBVS/eGMunNdwJwQ6RZzB+E/Ok6tjFIbCYYAAAAASUVORK5CYII=\"/></td><td style=\"padding:1px;\"><img width=\"200\" height=\"200\" style=\"image-rendering:pixelated; object-fit:cover;\" src=\"data:image/png;base64,iVBORw0KGgoAAAANSUhEUgAAABwAAAAcCAIAAAD9b0jDAAAE2UlEQVR4nGVWz0tUXxS/v96b9xxjlJkMNEgwUoQWoRBtTAzBVbRoY0LQopVrF+F/0CZw46KCwJ3QylWiUdQmpiYsEAxK2igyyjgz13Heu+/e2+IzHOfL9y1m3o97Pvec8/l8znv88uXLzjnGmPdeCME5t9YKIYQQ1lrGmHOOcy6E8N5jGeecMYZf3MT5xWL8ARGgUkrOeZZlnHPOeS6Xk1JKKa213cuwJW7iYIzhkUIkYqy1SAonSDkIAs65cy6OYyFEkiTOOcoXKLh0zqEggdoBzRiTUqIQIQTKabVa3nvnXJZlzWYzTVPnnJQSC4BIhWdZxhhTwMYDKWWapkopWhSGoXNudHR0enq6VCpVq9V3797t7OwUCoUkSaSUyJGgO3dKpZKUEhURFmNMKdVqte7cufPs2bOxsbGenp56vZ7P5/f29hYWFrTWYAlRSJnoUbhAgcRDEATXr19/+vTp3NycUurXr1/fvn3TWk9OTo6Oji4sLKysrERRRJ3tRpdSKmst6O7u+szMzNLS0uDgoNb68+fPb9682dnZMcbMz88vLy/fvHkTiGEYGmPACh3OuYtMO9dKzc3NLS8vl0qlVqu1tbX1+vXr3d3d8/PzKIrK5fLp6emNGzfiOG40GqAFjBHb3nslhACbzrkgCK5du/bkyZOBgYHDw8Pnz5+/f/++3W5zzqMoyuVyp6en3vs4jsMwVEp577MsAwJw0RCFP2utUgrdPDo62t7efvHixe7ubhAE3nspZT6fPzs7895HUeScM8aQnSBqKt97f6EebPv379/V1dVqtVqr1ZRSWZYppcIwzLLMWjs0NDQwMLC/vx+GYaPRABnEVZZlkLkiy6Oz1to/f/4YY4wx3nukf35+LqUMgmB2djZN05OTE601HhljUCiZinOukDNag0UdV6gLDmGH/v7+u3fvWmsrlYrWure3N01TkhFNAM65oGkC+shgzjnnnLUWJERRNDU1NT4+7r3f3NxkjMFRqJLmFnBEt/FhcDSBcLHr1atXHz9+rJT68OHDz58/QT3qQAhZwHsvugcXcEE3zpFIsVhcXFy8fft2u91+9epVo9FIkgTdRGXUUxStKMfOdVcKJOwHDx7MzMwwxtbX1yuVipQyjmOSDUIAjaIFIMgMNFBos7GxsYcPHw4NDR0eHr58+RLx1Wq12WxyzvP5fH9/f6FQCIKAOqlItzQdgJvL5drtdk9Pz/3790dGRmq12vfv3ycnJx89eiSlPDs7K5VKxhitdaVS+f37d71eR1od8QMRTiXcNE2llBMTE9PT05cuXWo2m319ffPz8/fu3cPkrtfrzWbzy5cvHz9+rFarSZIgWe+9InGhp93CjON4ampqeHgYdrp165b3/vj4uFwub2xs7O/vHxwc1Go1aAuInfDutyOhw9HGGIxwrXUURQcHB58+fdrY2Pj69SteX4yxdrsNmxQKBa11p6c0CAANBpG1tfbt27eDg4NXrlz58ePH2tpauVyG2pIkwZtGKQXlaa3JCLxYLFKDCRcqkVImSdLb25vP54+OjtAWvHfhY5iNoDFCvfe8WCyy/x1QNVpJowijAOI1xmDj7hCStuieg/QAghVCSCnDMOwO6MhbCPpywWbkF2ut4P/9hqHJQkmlaUr7ZVmGKdMdQt6hEv8BHQ39n4pG+jUAAAAASUVORK5CYII=\"/></td><td style=\"padding:1px;\"><img width=\"200\" height=\"200\" style=\"image-rendering:pixelated; object-fit:cover;\" src=\"data:image/png;base64,iVBORw0KGgoAAAANSUhEUgAAABwAAAAcCAIAAAD9b0jDAAAFUUlEQVR4nGVWz2sTTRien7vZpCab1RIbT9uqWIVWiqC16kFQ9KRoT9VzK95FUIT+B15sPXjSg1q8qBdBKVgx+ANsToYWD0EEm9Qm6SZNN7s7O+Ph/Rz3+749zc7OvPPM8zzv+y7euXOnUkophRDCGCOE1J8HXimlMNYzQghCCIyllDDQr5RSIqWEQFJKHQtjTCmFnXEcK6XiOIa4UkrOucahHyEE7JVSMoiIECKE6Fl9DMaYEAKvMKCUxnFsmma324UZ8ueBUxFCTB8lpUx+0OGklEIISmmv15NSSilN00QImaYJx+ubwdkY438hhYhJBoUQGON0Oj01NXXy5MnR0VGEUL1er1arr1+/fvv2bRRFvu8DfIiLMWZJgBqjUgrWCSEOHTp09+7dY8eOKaVarVa73T5w4MDBgwcHBgaUUl++fPF9HzDBjZVSDMTV7xBU05rJZA4fPmzb9pMnT8rl8rdv3zjnQoizZ8+eOHFienp6aWnp/v37jLFOp0MIAT2x4zgaI6ihFVNKpdPp/fv3j46OlstljHG9Xm+329vb27lc7siRIzMzM4VCYXZ2dnFxkVIKBuCcE23MpEmFEOA43/c9z2s0GsPDw+fOnQNTG4bx69evFy9ePH/+fHh4+NKlS2EYcs5BQ6UUSdpeyw2Ug0rZbHZsbOzGjRunTp0SQkRRtLW1lU6nd+3a9erVq7W1tZGRkVQqJaW0LKvX62GMiXZo0h8IIc45IM3lcmNjY67rhmHoeV4cx5zzMAyllJubm9Vq1bZt27aFEEIIwzCklAQSCfIHBhAaGGCMua67d+9ez/Pev39fq9WEELCg2+1ubW21Wq0wDEFnxhiwxyAWzIJ8MAYP9Pf3Dw0N1Wq1SqWyuLjIOeec+74P6WtZVl9fX6fT6evr297ehpqglGLamHBrnciGYdi27bpuvV5/+vTpp0+fKpVKFEXAEmMsiqKRkZHBwcHPnz97nheGITgnjuO/aZqMm0ql9uzZUygUdu/evba2Vq1W19fXTdMElYUQnPNOpzMxMdHf3//u3bsgCAA7gGW6LAHeOI6llK7rXr58uVAoLC8vl0qlWq3W6/UYYwCQUhqGoeM4V69eXV1dLZVKvu+bpgkwpZQkySbG2DTNOI4nJiYmJyeLxeLq6ur3799BMaCbUgqeu3379tDQULlcbrVaGiZAJIAR1oETstns+fPni8Xix48fv379mnQbRM9kMpOTkxcvXgzDcGFhYWNjAyEUxzGopJRisCGpuOM4g4ODQRCUSqVOp5NKpQgh3W4XEsa27WvXrl24cME0zUePHlUqFeAaVIFKwnQ9B8NjjAuFguM4KysrP3/+tG07CAKllGVZnuedOXPm5s2bR48e/fHjx717916+fAklCmwOtqGUMl2MMcZRFBmG4TiOYRjr6+txHLfbbSjJlNJbt25duXLFdd3l5eU7d+4sLS1ZlqU7mNbmn8oPhEIKRFEUBAFj7Pjx49evX3/8+LFpmqdPn56eni4Wi41GY25u7sGDB81m0zAMaAeGYWj2gFycz+eBAZ2mhmE8fPhwfHwcIdRoNLLZbCaTYYx9+PBhfn7+zZs3vu9blqXzFeoONDS4N7ZtmxCi9eWct9vtffv2zc7Ojo+PDwwMRFG0srKysLDw7NmzZrMJVQZwQPn4f/HE+Xw+2UqVUowx3/d37NiRy+WCIGg2m5ubmwihXC5nWVYYhpA22oI60TUDOJ/PA1JgQPcvWCSlhMIBiKCzJlMg+TOhGyjRvxGaF91aYBL6hAZFKeWc63JBKU3WIwj4t9Hr0LABVv8HcrIz6p+MZK+EaL8BIkf7RfqUu9QAAAAASUVORK5CYII=\"/></td></tr></table><table class=\"show_images\" style=\"border-spacing:0px;\"><tr><td style=\"padding:1px;\"><img width=\"200\" height=\"200\" style=\"image-rendering:pixelated; object-fit:cover;\" src=\"data:image/png;base64,iVBORw0KGgoAAAANSUhEUgAAABwAAAAcCAIAAAD9b0jDAAAEqElEQVR4nGVVPUtcWxQ9X/fecWSccYjgNyZVxEpIGEMCFoZAOkGwECy1t5M0Sf5A/kEgVQqxEbSQlDIKlsFCiBotHBghZsw4ztzzcXeK5dvOe+8Uw+XMOWuvvfda+8hisUhEUkoiEkJIKbMsy7JMSimlVEoJIbz3SinvvTFGKZVlmdY6yzJcISKttRDCORdFEREZ+mcBDri4qZSSUoYQcrmcEEJrHcextTaEgH2lFO4KIbIsM8Zg00gpEQ3/ARQ71tokSeI4/vXrVxzHQHTO5XK5EAIgwMB7r7VWSoUQsiwzyJSImB2gwaK3t7dSqbx9+3Z6erpYLB4dHX38+PHHjx9EBGoMx7SklPegyBQLxdJaVyqV1dXV+fl5Irq9vW21Wi9fvnzz5s3p6akQIo5jICIAkgN9Y4zhIBxQKbW4uLi2tjYxMXFwcLC5uXl6ejo2Nvbu3bvZ2dnNzc1arWaMEV0LXQGIQRDs8olXr16tr6+XSqUPHz5sb29fXl5KKQcGBlZWViqVyuDg4NXVFcrlvWcspqzE/1a5XF5cXLy7u/v06dOXL19qtRr6fnNzc35+HkXR0NCQlNI5Byz0576axggh7ruPPmqt8cf379+3t7cPDg7a7TYqBSWkaRrH8aNHj5xzfX193ntImMUEdMMywgohpGn67du3RqPRarVwNMuyEIL3vlQqtVqtdrutlHLOAaJbLfg2bIkQgnNOKdVsNpvNpjEmTdMkSUBHa52m6fj4uLX28vIS7YVsQJNxpZSK3Ybc4VEUJIoi/Pb09CilpqamJiYmhBBnZ2cQIlsLgkGuRKTYP2x5eI6TklKmadrT0/P69Wvn3MXFRb1e11o75yB7nESJQNGw69EiHiVEBCKcx9zcnLV2Y2MjhADNd7uo++KDkRAQRbivtzFElMvlent7nz59OjMz8/v3762trSRJeKDwJIO2cF0xBBZSQEAigheJ6P3790S0tbV1dXUFj+bzeS4lcEMI9x3jCnJxwYKTIqKFhYXJyUnn3O7uLhElSeKcQ1RrrbUWCJylQjS2qTGG5yl2SqXS2tpaqVSqVqvHx8cYLlpra63WGsWFcR58xex4jHNnIO+lpaVyuXx9ff3169c/f/6ge7A8LOC9T5IEBoW8DLB5euMbkdM0ffz48fLycj6f39vbu7m5efLkCbCKxeLg4ODk5OTo6OjIyMjPnz/39vaq1Wqj0TBsjO6xD2N474vF4osXLwYGBuI4fvbs2efPnzudDjiWy2VoplAoOOeeP38+PDxcr9dPTk4ajYZhbzFZvGuYFENDQ0qpNE37+/vz+bzWutVqFQoFY8zJycnh4eHR0VGz2dRa1+v1s7OzdrsdQvjXoIXcuJXX19eHh4f7+/ujo6Pee3SZiGq12s7OTrVaRYkxHKIoAg8ppezr6+PEuePcMSllPp8vFAqdTsdam6Zpu93O5XJsUJiVPYYeGhZT93vAj4r3/u7uDhO+0+kUCgUhRBRF0BMQQQiTDKJ8UCg+kP5/nkKmDM1ba4UQ3ntkxg/lAy20pbugPADvR44x3nsIGzJE0XGRBwo4wdOKzYPT+JsPsR7wobpW99DoHmZE9BdxRPxUNL4RMgAAAABJRU5ErkJggg==\"/></td><td style=\"padding:1px;\"><img width=\"200\" height=\"200\" style=\"image-rendering:pixelated; object-fit:cover;\" src=\"data:image/png;base64,iVBORw0KGgoAAAANSUhEUgAAABwAAAAcCAIAAAD9b0jDAAAFBElEQVR4nF1WTWvUXBS+X8lNk06mtjD4VS1WpVrctBRtEXFVdDF+ILQigt1Jf0JB7N6lP0FFFBGKWKQ7sRsRRJFarCi22Bkt1hmZGTNN7peLM+8hvFmEJPfmnOec8zxPQnt6eqy1jDFCiHOOEEIpdc5RSuG5c845Bxe4SgiB/Ywxay2lFJbgzAgh+ALEgiiUUs457GOMwbVzDhFYazEuyR3WWgZrcOP+O/B9xJJlmbWWc47AERcWBJCdc7RYLHbCM5YvQWttjJFSwj7OuTEG0htjYBskgEzYPc65wFTwFLL5vg/LEMgYo7VO0zQIAiEEdAZDAwhjjBACdgpKKaZVSjHGGGNSyjAMR0ZGyuXy2NiYlHJ7e/vJkyePHz/e2tqKokhrnS8f0kACzjktFos4qCzLwjA8ePDg1atXz549e/ToUUijtQ7D0Dn38OHDO3fubG1tBUFgjMHuQ2iomDEmCCFaa8453Ftrx8fHr127xhj7+fPn6urq6urq9vb2vn37bty4cf78+ZcvXz5//rzdbksp84QB4DBMAW02xsCsKaXv379/9OhRq9VaXFxcX1+31iZJcurUqenp6UKhcOzYsY8fP3779g1ZhRODTlprBRQOg+KcW2s3Njbu3bv3/ft3pZTv+1mWdXd3Hzp0qKurS2vdbDabzaYQAmmEWkBdCKQRICeEtFqtdrsNPQEIw8PDN2/ejON4ZWXlxYsX9XpdCIHQkEwYnQFpkG6UUqUU8AMaPzQ0ND8/39/fX61W79+//+XLl3a7naYpUA1UgOHgEHluw6ChCdba/v7+c+fOzczMDA8PO+eq1WqpVOrt7U2SJAiCnZ0doCfUh5ztlA81olLhYnR0dG5ubnx8PI5jpZRzLgzDy5cvNxqNZ8+era+vSynTNOWcZ1nmeR4Gcc515IGcAOOIouj06dMTExO+77darWq1+uvXr+7u7r17987Ozg4MDMzPz//58wfwhmEIaKBdlNJOv4GhsOZ5njGmUqmsra1FUbSysrKwsPDhw4cDBw5MTk5euHBhcnKy0WjcvXu3Vqv5vq+1hiFD3yilAgWOYJVShJDl5eWvX7/+/ft3c3MTmvjjx493795Zay9evFgul9vt9u3bt3ft2mWM8TwPmtZRbbFYxPEhP9DEtNZBEGitCSGe5yVJcvjw4Vu3bpXL5c3NzevXr3/+/BnDIVtZXgx4DcSmlAZBAKYVRZFzrlAorK2tPX36tFKp7N69e2pqKkkSaCUKnRDC/qczzAmbQIhKqSzLCCFJkoRhuLGxUalUgiA4ceIEJAP/RZtnyF7UPjgTFIL+Bp7U1dWVZdnY2Nj+/fthpH19ffmPG1TZMem8gcOa53mMMWOMUsrzvJ2dHSnlkSNHpqamrly5smfPnmaz+fr161qtBnPHd621Iu8F6GNa6ziOe3t7QZFSyuPHj1+6dOnkyZOlUolSWqvVFhYWHjx4gHQUQkAHKKUCVYR25ZyTUsZxfObMmYmJiUKhMDg4KKUslUr1ev3Tp09v37599erV8vJyo9Gw1vq+nx9GR/vog3AG9221WqDuoaGhOI5rtdrS0tLS0tKbN29+//5dr9eVUjBMQJM3AdrT04MYQQUgB9iRpimlNE1TY0wURVmWcc7BZOELiP8ZyEJKKS0Wi6il/Bm/+J7nQbOUUmEYArd83weXQdrlyS8wRH5WedsGdM45CASlQOj8Pw8ic879A3KL+Ofe01fqAAAAAElFTkSuQmCC\"/></td><td style=\"padding:1px;\"><img width=\"200\" height=\"200\" style=\"image-rendering:pixelated; object-fit:cover;\" src=\"data:image/png;base64,iVBORw0KGgoAAAANSUhEUgAAABwAAAAcCAIAAAD9b0jDAAAE8UlEQVR4nF1Wv2sUTxSf2Xm7y+2PSy7hJHrneamjqbQJiCAkcKRJJ0gQSW3jf2BlilhZiI1KJEVCsIitKHaCIqQQk0YNBH/k1PPcXLy9ndmZb/G5jPt1imV3dva9z3vv8z5veRzHWmvHcRhjjDHcG2M454wxYwxjzHGcPM+NMUIInMEmzmiti4cZY44xxnEcvLCvGWO44ZwbY/I8Z4wJIbAphIBFY4zWGld4wgHHGFO0i6PWEL4hImC0tuzCJoIDWM758BkWYYsfL4AiIq21UopzjiTY5AghAGho6DghDlwV/diUKaWAlDGmlIIVpZQQopguKaXv+5xz13WH4YZhaMHCs01rv9/3PM913TAM8bHjOP1+fzAYeJ6ntSaiNE2RGXgCgqFRPBerBB8LCwvXr18fGRnpdrsHBwc/f/58+/btq1evDg4OgiAwxvi+D3TdbtemkUdRVKQFHBCRlPLkyZMrKyuzs7NCCNRNSpllWZIkQohOp5Nl2adPn3Z3d3u93rt377a3t6WUWmsq8gvhWyZKKT9+/Hh4eEhEWZYBOxHVarWjoyPXdTnn1Wq12Wy+efPmw4cPWZYppYiIg/wot72xxBwfH69UKmiNer3eaDSklJVKhYiq1er58+dLpdLe3t7q6urr169//PjBORdC8CiKLI1Bb5AGSdBae56XpiljLAzDLMuOjo7q9frFixeXlpbOnTv35cuXO3fuPHv2LE1TMI8xRkUOIQmWwKgYam2MkVJyzhuNxpUrVxYXF8+cOdPr9R49evT06VMQgzFGRMYYggkLFu9AafggInCLMRZF0c2bN69evVoqlfr9/vLy8urqqpTSdjAcE8SiyCTbC/AEpETUbDYXFxevXbvGOd/b21tZWVlbWwvDEAzFeSyypS8SAPDjOHZd1/f9RqMxPz8/MzPTbDaFEF+/fr1///7m5iaaAtxgjOV5jmYdhm+TAKRENDo6Ojs7Ozc312w2a7WaUqpSqXie1+129/f3O51OpVJpt9tBENjs/bUwVMDjTgVJhRBxHNdqtXK5PD09Hcfx2NhYEAR5nvd6vYmJidu3by8vL09NTRGRUqpoEbAcy38IJbJeLper1erk5GSWZZzzIAjev3//5MmTFy9efP78+fTp0zMzM0mSEFGxEuApFasE6UPbtFqty5cvj46O5nne7/e3trYePny4s7Nz6tSp+fn58fHxnZ0dIjo8PBRCCCHAAcRK7P8LVTp79uzCwsLExIRS6vv378+fP79169afP3+IqN1uv3z58tu3b0mS9Ho9tF9R3YfkByttxUZGRpaWliYnJ5VS7Xb7wYMH6+vrSZKUSiXGWJIk29vbu7u7xhhkpjiEhi1gBwvqUyqV5ubmWq2W7/udTufevXtra2tQkzzPof9a6zRNkySJ47hYYQvWsQMSni9cuHDjxg3Xdff39+/evbu5uTkYDBzHcV3XOV6oZ7lcxkQgIuwjD05x9nLOx8bGLl26VKvVBoPBxsYGovY8D72fZZkdnABe1EnLKsbYcGYZYzzPi6KoXq8zxra2th4/fpymaRAExSlvtabITavxVjN5FEW22X3fb7VaJ06cWF9f//XrVxiGeZ5LKYvTGJQE8/75T4BRx3H+Dj4ciuMYWut5HoadFdmiiv8z5W00wy6HRVBBa/3792/8PUAgivO1iAsWUWSEbIVNa/0ftZq/ot1Frp0AAAAASUVORK5CYII=\"/></td><td style=\"padding:1px;\"><img width=\"200\" height=\"200\" style=\"image-rendering:pixelated; object-fit:cover;\" src=\"data:image/png;base64,iVBORw0KGgoAAAANSUhEUgAAABwAAAAcCAIAAAD9b0jDAAAEh0lEQVR4nF1Wv0scXRR9P2dmHTMrhNUY2MZKEiyUEGHXwiYKplqsYmHAVmKTIpD8H6lTCTb6JwhaBCFIyIbERrKuKCqi2WzcGefNm/cVR2/m21csb2beu++ce889b/mjR4+cc845zrlzTgjh7oeU0lorhOCcW2s554wxznme55gLITDHY57nWCCKEbHBOccYY4zhDMYYQud5jl92P7AFC+gYzrnqW4FAgIY3nHMhhJRSSok3YEO7gK7IUhB4KSUxAigsEkJoraWU+GStBXDnHFD3Ubyjj2/WWqzAABAppdY6TdM/f/7keZ5lmed5zrksy/j9ILwUVFHu/4FHXpRCEQYHB6enp2u1WpZlGxsbJycn4FSM0hdXFd8iCqXfGFOtVhuNxsuXL8fGxi4uLn7+/Nlut4MgwFcqJgHHYXxkZISiIC5lc3x8/MOHD7Va7fLy8ujoaGJi4vLycnV19cuXL57nkdpAtKgWQbUjxSFlo6Oj7969q9frOzs7b968ef369ebm5tjY2PLycpqmnuchCSQmQsY5F/RMxJVSxpjnz58/e/bs8PDw7du329vb3W53Z2cnSZInT55UKhVjDBWAygBk1lrRVzhwefDgQRRFv3792traarfb5XIZevJ9PwzDKIqwn3RGPcY5l1KqviJikmXZ3t6eMWZ/f//hw4c4aWpqyhiTJEmapnmea62ttRS3SFdhBpFSYzDGzs7Ovn79en19zRiLoiiKosePH5dKpfPzc+DyPC9NUyoGjALIVFFDhJdz3ul0bm9vOeelUmlgYKBerw8NDbVarVarxTnHJ6AhfyDSdzZDysc6nPn37988z8vl8vz8/MrKSrVaVUrNzs4uLS0JIYwxWms0MTXhXVDqDSllUa3Aa4xBZeM4FkJYa6vV6tra2tra2tXVlXPOWos1ZH2MMV6pVIg7CRikUIEoiiYnJyuVyvHxMee80WgsLi5aaxuNxv7+vu/7Sqksy6SU1FcKyrDWKqXIpTBHF9zc3DSbzV6v9/v3b2vt9+/fR0ZG5ubmJicnm80mYyzLsrtGEuLORpRSEDyQFm1NCKGU8n0fThqGoda60+mcnZ1JKZMk0VpjO1RIoRWeITfCi1IaY3zfj6KIMZYkied5AwMDjLEwDBlj7XYb0MBJaw36zrm7joJXYkL2DghTU1PlcjmOY8/zlFKDg4MTExMnJydXV1fQQH4/QBF7BcEu3ihIfBRFL168GB8fz7Ks1+v1er2FhYVqtbq3t/fjxw/GGFRV9GLGmAJTUj45v9Y6z/M0TZ8+fTo6OnpwcNDtdhcXF1+9enV9fb2+vo5ExXEcBEHxNvzn/AiHbILI7e2t53lxHH/79m1+fv79+/eMsXq9fnp6+vHjx8+fP/u+j6r+S+U9V0WXO86h9sDnJEnW19cZYzMzM2EY7u7ufvr0aXd3F9aH8qIS/7uNhoeHIS7ops/84a1a6yAInHOdTgcOjePp+sF2yoDi9/84qH8xB3yS7c3NTRzHWutSqdRn6ihysSFFX31oBe0xxqCYQRBorSkcXkKCfX8v/gNIkMcxkNx30wAAAABJRU5ErkJggg==\"/></td></tr></table><table class=\"show_images\" style=\"border-spacing:0px;\"><tr><td style=\"padding:1px;\"><img width=\"200\" height=\"200\" style=\"image-rendering:pixelated; object-fit:cover;\" src=\"data:image/png;base64,iVBORw0KGgoAAAANSUhEUgAAABwAAAAcCAIAAAD9b0jDAAAEzUlEQVR4nF1VzUtUXxg+X/drRtOQKXKMChddECERIUYIJIgEt4L4N1h/QERFrmbnoo0LoXAj1qJFuBBcGC5EQWUWlrhowBLEGRw1x7n3no/f4rke76+zuMy855znvO/zvu/z0nw+b4wxxlBKydWCRQihtSaEKKU45/jNGGOMaa1xhhBCKcVdY4zWOt3GBsksrTWlVGuNy7AAUWutlFJKAcXexW/OOaWUUUpNZgGUc66Usqc554wxzjlwcYZS6jgOngEIjMYYln0Ngdg3wQmCghEWwIEWQohlyRgjpSSECEsi3gQpcBNwiAi4MMIDIYRlxrKcblla8c0+IES6yzmXUiJMHHAc5+LiAkmjlIIcKWUacRAENn1SSkuZzRhjDLR6nlcoFG7fvn3r1q3+/v5isbi/v//t27c/f/40m00hhE0ADYIAbCqlgKiUEkJQSuM4bm9v7+rqGh0dff78+b1793zfdxzn6Ogon88XCoU4jqvV6vT09Pfv36MoQnWmnGYzQwhxHAcPuK7b39//8uXLUqmEC47jgLhardZoNO7cudPV1RWGYbVaPTw8RCaUUiJbZfAUJBhj7t69+/bt28HBwVwu12g0crnc2dlZtVrt6ekpFou+72utf/z4UalUDg4OcAUIwtYTrHAZbvb19T148MB13TiOOec7Ozvr6+sPHz4Mw9DzvHq9HkXRly9ftre3pZS+78dxDDSBcrFFA3SUm+M4x8fHhJCzs7ONjY3d3V1K6bNnz4wx5+fnl5eXHz58WFpaarVaxphWq4VcEUKu69Y6i2IihOzv7y8sLFBKf//+LYQYGBgYGRm5f/++lDKKouXl5fn5+SRJkFjbHYQQYVsou9AqP3/+3Nvba2tr+/v379OnT0ulUhiGlNIkSU5PTz9+/Hh5eYkusPE5jqO1ZllCs+iwR1F0cnKilBoaGgrD0Pf9VquVJEm5XN7Z2RFCoOCRHyhG2vupCjBmuwCVoZSCZPT09IyNjXV0dJyfnwdBsLy8vLi4KITAAUqplDKrIczqk23TlGwhGGOtVosxNjEx0dvbG8exEGJra+vVq1dRFOFMVp9sdTILD2X7R3U6OzsfP348NTUFETg6Onr37l2tVsvn81prFAla2arH//TU6i7aCS0QhmG5XC4UCs1mU2s9MzOzuroqpVRKBUGAw/ZrtZXZ5FgpwZ7v+8Vi8fXr1wMDA6jBr1+/fv78GSn1PE9Kmeo8YzAmSQK3BLiAm0AED0EQvH//vlQq1ev1IAj29vZmZ2cbjYbneZzzKIowuHAd8gghvk6UDVxKKYRwXffFixfDw8Nw4fj4eGZmZm1tzXXdKIo450gjLiZJYgeaLVBmFdtxHNd1pZSPHj0aHx+/efOm7/vt7e2Li4tLS0s3btxA8yil7JTNJh1ucs6vEW3Gcrnc5ORkW1sb6F9bW/v06VOz2QQEPEqShDGGSZWdb6ku26GPlSRJd3f3kydPgiDo6OhYWVl58+bNr1+/XNeFa+gR/LVZsu0DqLRN7YgXQtRqtXq9zjlfXV0tl8uVSgV9ZQPH6LeT0WqFrR+R7Qd4fXp6Ojc3Nzg4uLm5WalUkFMhRBRFrutaurLj/p+Blg6+1O0r6UNha60vLi48z7Mo5Gr024LBk1Y5sfUf76LH3n0bSfYAAAAASUVORK5CYII=\"/></td><td style=\"padding:1px;\"><img width=\"200\" height=\"200\" style=\"image-rendering:pixelated; object-fit:cover;\" src=\"data:image/png;base64,iVBORw0KGgoAAAANSUhEUgAAABwAAAAcCAIAAAD9b0jDAAAFOUlEQVR4nF1WTWgUTRDt7qmemY2zYTVZDyIBFwV/TlGDAQ+CF5XgD4joJTcPgopnyUlBgsFLFAQPQsRDELKiF+MlqNGDgYiIYDAQWUh0NjGwZmed/+7+DrVfZbEPA0NPV79X9V7V8O7ubqWUMcayLM65McYYwxjjnGutOeecc8aYMUYIQbv/rH8OCjppjMnznELgNuc8z3OttdY6yzKttVKKc25ZFn6AT4RFd4jOqyzLwhB0rVLKsiyCyTl3XdeyLKWUECLPc/P/IhCMMYHhGGN4TAjBGMNUIAm8Ncuyrq6uPM/zPI/jGGkxxvAbSh3GATqGAAEAoyOcXbt2DQwMHD58+OjRoz09PZzzz58/f/jwYWpqan19Pcsy4g4AlArueR6Cwktow7Ks/fv3X7169dSpU1u3bjXGaK3DMGSMhWE4OTk5NjbWaDQA2rAoJ8YYwEwhcUwf5xwAXNc9ffr0uXPnpJRxHNdqtR8/fmitK5VKpVI5f/783Nzc9PQ0cupMIOd8k6wQIssyfGWM7d69e2hoiHP+58+farU6OTm5trYWhmF/f/+jR4/K5fKRI0devHhh2zYS7VQbmI6FeygXxti2bdu01s+fP793797q6qpt20mSlEolz/OklK7rIvE8z5VSUkqKK9oi6Ch6mqZpmq6srMzPz6+vr3/69CmOYyGE4zjlcnl4eBjDff36NUkSADDGSCkJLOe8rVOlFCqcMYaM4jh+/Pjx9PR0GIau6wJAs9m8du3aoUOHGo3Gt2/fXr165XleFEUkAPJRWwf/WBAA/v79+/79+4WFhVKplGUZANy+ffvixYuo0CdPniwvL7uu6zgOSgXl1VYRRkQBdHpUCBFF0a9fvxqNRp7n169fv3DhQqFQ6OnpqVarExMTxWIRAJRSSFQIgXHaNkXkJIhNtwnhuq7v+2fOnLly5UqpVHIc5/79+6Ojo0EQoKNQT1gM0qygopOpcENr7ThOkiRDQ0M3b94sFouc84mJibt37zabTQBwHIeY4cLMtrvUpmgBjDFkPgA4ceLErVu3PM9TSr19+3Z8fHx1dRXLjR0AkVLG2rA8z8PbqCMgKcdxjh8/PjIysmfPnlarNTc3Nzo6urCwgB7BQkdRhKKWUkopUY5aa6AmiJCxblrrwcHBO3fu7Ny50/f9ly9fPnjw4OfPn67rYmMVQqBI0zTt6+u7fPny3r17q9Xq7OxsEARAMKk4xphjx46Nj4/39fV9//794cOHMzMz9XodKUspESwASCkvXbo0PDx88ODBPM8XFxdnZmZs2wbq0NhQ0jTt7e29cePGjh07kiSp1+uWZe3bt89xnCAI0jTt6uoql8sHDhwYGBg4efKk53nd3d1BECwuLj579qzZbLZzSn0bQ589e/bp06da6yiKlpaWAGBjY8N1Xbq4WCz29vaSzWq12pcvX6ampt68eYPGAdIQKXRwcBCz5rpupVLBxi6lRCsTgiAIfN9//fr1u3fvfv/+vbS0lGWZlDIMQ8BWQra1LCtJkpWVle3bt9fr9Xq9jgUpFApCCKXUxsZGrVbzfX95eXl2dtb3fc55lmWFQoGGLqBbaTRqrT9+/KiUarVa8/Pza2trQRC0Wi0UbxzHURQBAI5INFKe51LKLMts227PDtQpLaVUoVCI41gptWXLljRNLcuKoshxHK01AOAYJ/0hJhp07S0Kh8kCgCRJMA9xHKMepJSds5OmPLU3YrnZ+mjhnm3b2N9o4iMpsjm94hGaz2RT0dnukItSCn9D6H+EQtOfAEHDI1QYXP8BK7n0k2rjb8kAAAAASUVORK5CYII=\"/></td><td style=\"padding:1px;\"><img width=\"200\" height=\"200\" style=\"image-rendering:pixelated; object-fit:cover;\" src=\"data:image/png;base64,iVBORw0KGgoAAAANSUhEUgAAABwAAAAcCAIAAAD9b0jDAAAEwklEQVR4nF1WTWsTXRS+d+69M5lMmjFpEKygJUahq6oUXRQqgsGNuNKFC3+Cv8Cf0a0LdeXSogh24ULELoqCRsmitBRaENOKpkmdmTv34108eY+hs2jv5znPfc45zwmfmZnx3nvvgyDw3jPGvPecc8YYY8w5xxijKY1xxjkXBAH+Ygvr0jkHW845WsV9rHPOp1fwCSFOILDWcs4nPjAi/7BOnmgRp2lqrcWuEAJPDIKAzkiCA6QAi+fQi+iNgMM5F0KEYWitxS3iCoclblpryRA8CyHovTiNC2EY5nlurS2KIo5jay29TymFsSQU04QCkbU2iiLvfVmWnPOiKLz31tqZmZk4joui+Pv3LxAYY5RShEwSweQQePM8B2VhGDabzUuXLt28eXNxcbHdbmutsyx79erV6uqqMeYEIM65xHw6LZRSzrnz58+32+1r164tLi5euHCh1WpJKYUQQghjjBDix48fS0tLm5ubfuqDNUkAgyBIkuTKlSsPHz68fv16pVLBIcRXSlmr1cqyxGO993NzcysrK/1+fzQaSSnLspRSTvIUALXWnPNut/v48eO5ubksy6IoOj4+FkIAeBzH4/F4OBwqpRCuSqXS6XTa7Xav13POSSkpfyYjIUQURZ1Op9FoOOeiKDLGpGk6Go3yPDfGfPv27cOHD/V6vdvtNhqNLMuq1Wqj0VBKwRDA/Ys+6CiK4v37951Op9PpMMYODw+3t7d3d3d///7d7/d3dnastUtLS5cvX07TNEkSY0ySJIeHh0qpLMuojp1zEmwiyv1+f3V19fTp09ba3d3dwWCApMnzvFqteu9//vyZJMnZs2d//frVaDQ2NjYODg5IEP7VPs2NMUdHR1+/fi3LMooirTUMMcaUUlrrOI7b7fbs7OzR0ZFSajwef/78+c+fP5VKRUo5XbsS/6y1UkqUByKDKpRScs7LsqzX63EcP3jwIEkSxlgYhsPh8OPHj7hLVT8paxCK2In/PxRcWZZU0Vrrbre7sLAghNBaD4fD7e3tXq9Xr9epcOgLEDUgJzXDFJAR3Pn5+Xv37p05cyZNU6VUWZZv377N85xCRBLBOQ9gmDycYF1KiTAuLy9fvHjRGJPnuVJqf3//5cuX4GdajicySHI5LVGkzWEYcs5brdatW7darZbWOgiC4+Pj58+fDwaDZrOptYZFUrWAkpRkn/iGVBdFIaW8ffv21atXR6NRGIZa616v9/r1a8YYdqGT1lrIq/deUrcg/KBYCCGlTNP0zp07jx49arVaWZYFQXBwcLC2tgYHJEBU+GgzAUCd6Ggkz3fv3r1//34cx4PBII5jxtj379/fvHmD5IMhAITKIMKSyoB4wQbnvFar3bhx49y5c7VaDVk1HA6fPHkyGAyQqqR1nHOkOfiUMIEQAyM2iqJoNpvz8/Po4UKIPM9fvHjx7t07ZBvaAYk02INcBch26kLGGLBcrVbTNI3jGNkqhPjy5cuzZ89wnjBOSAwmqYnmKKdTipIf0729vfX19eXlZc75p0+fnj59urW1ValUqCinI0GdjYO4Ey0a1ODTWjebTefcaDQaj8enTp3KsowUngJLvXbiqVqtUrunNAYQlDn8IyxRFDnnqN3TTwIqQoz/A67R0lIH5zjpAAAAAElFTkSuQmCC\"/></td><td style=\"padding:1px;\"><img width=\"200\" height=\"200\" style=\"image-rendering:pixelated; object-fit:cover;\" src=\"data:image/png;base64,iVBORw0KGgoAAAANSUhEUgAAABwAAAAcCAIAAAD9b0jDAAAFM0lEQVR4nGVWz2sTWxS+vzOZyRjHjIVWSRextmpc2IqorVDBRUVciS5EELrpqgtx4f/gX+DCjbgSxaUu7EKkiiBCtSq2RUipRdMEdeKkSebeufctTt7tvL5ZDMm5937nO+d859zBhULBGGOMQQhhjOG9ywK/jTEYY1gFOyFEaw2r8PTtWRM8u/ZlIeAYxhj2pGm6Cw4OEq211hr8/x/C/rVnCCEYYyEEoFsgrfUOU0qpRQHPu4DAYowB30qpNE2llGmaUkqVUlnKQJHAgV0BgltrIYQYY8C91hp+OI7jOI4QgjGG/30IIZRSBnDAIpsdwE3T1BjDGAOmCCFKqed5V69eHRsb+/r16+PHj9vtNmyw5BjAwdtmwLJjjIEFlvbs2XPgwIEbN26cOXMmiqKBgYHFxcXl5WXXdW1hCCHMJrGfDkIQQowxrXWapoDluq4QIgiCkZGR2dnZ48ePdzod13UxxhcuXFheXlZKUUohLIQQA16UUuAPcEopxpjjOAihIAiq1er4+Hi5XJ6YmBgeHu50OmmaBkHged6lS5eePHmyubkJqoA3gzCBNrDWWvu+H4bh4cOHp6amqtVqEAS+7+dyOcbY6urqxsbG/v37i8WiEGJ0dHR0dHR9fd11XaXUTk6tbgghhBAhxPj4+Pz8/MmTJznnjLE4jhuNxqdPn9bW1hYWFra2tqrV6rVr10qlkpSy3W5DTiml0BTMqgTkRikVQriumyRJt9ut1Wrv379fWlr6+PHjjx8/er1et9sdHBycnJw8depUPp9fW1v79u2brXY/h0ATSgyuer3eu3fvPn/+rJSKoghjTCl1XbdSqZTL5SNHjoRhODk5qbWO4/jRo0d//vyBksJxrTWzsYOkoUOazaaVZKVSOXv27OXLl48ePRqGIUKoVqvFcUwprdfrCwsLcNAi/qf6VvmUUnDLOQ+C4Pr161NTU77vf/jwodVqlUol3/eFEFLKxcXFzc1NOCKltH3V7wQoOmPM6jxNU8754OBgs9m8d+9erVbb2NiIomhoaOjWrVvnzp1rtVqrq6tWMLZN++FD2wB5kDRCSCnV6/WWlpZWVlba7baU0hjDOf/+/Xuj0VBKhWHIOYfyCiHSNMUYw5vBAngbGRnxPK9erzebTUjI9vZ2kiQQAedca71v3744jjHGcRw7jgPxAcGd0Qc6cBxnZmbmzp0758+f//nzp5QS7ACdJAnkBGM8NDQ0NjZGKW23281mkzHGOYfyQrsT6CIpJef85s2bp0+f5px3u13P86B/+gOCMfBRKpWuXLly4sQJY8zr16/fvHnT6/WklNkBkqZpv0cdxwnD0Pf9gwcPHjp0qNFodLtdrbXjOJAZY0ylUpmbm5ufnw+C4OXLl3fv3q3X65ABUIud8QwCjKLo6dOnt2/fnp6exhi/ePHi7du329vbe/fuNcaUy+WLFy9OT0+Xy2WE0P379x88eBBFEdQTMpMdntjzPISQ53mtVmt2dnZubi4Mw3w+v7W19evXL0ppsVgsFou5XO73798rKysPHz589uwZzA7GWJIkVvb2BsOFQgEhlMvloKDHjh2bmJiYmZkZHh4eGBgwxvz9+/fLly/Pnz9/9erV+vo6NAVQsy2TzSlCqA/KOZdS2umXJAnnPJfLdTodiBEhBNcRIUQpBVPZXuagfJgACCFmJ6lVAhAHecIwhO6AyR3HMec8Sy2L0P/UKBQKthPAlCQJgGa/HmCWw2y01yJU3Lb8zodFPp+3a7BVCJEkid2aDTB7S2ZR7BcNtNY/A2m2Pfa+GXYAAAAASUVORK5CYII=\"/></td></tr></table>"
            ],
            "text/plain": [
              "<IPython.core.display.HTML object>"
            ]
          },
          "metadata": {},
          "output_type": "display_data"
        },
        {
          "data": {
            "text/html": [
              "<table class=\"show_images\" style=\"border-spacing:0px;\"><tr><td style=\"padding:1px;\"><img width=\"200\" height=\"200\" style=\"image-rendering:pixelated; object-fit:cover;\" src=\"data:image/png;base64,iVBORw0KGgoAAAANSUhEUgAAABwAAAAcCAIAAAD9b0jDAAAEkElEQVR4nG1WvUscXxR9nzPuOusHLBtsXCQkIcENCEENCGEDaSSYMoWtpE2KkBT2VvkTbMRKS1tTKCmCXUQElVSSkLDsB8tmZmfezHuT4ujdIb/fFMvO+zj33HvPvXf42NhYnueMMSGEtVYphVfGmHNOCJHnOVY45/h1zuEA55xzTrvOObyKPM9pT0qJDWutc44McM6FEDCDleIt2LDWwqoQQrHbp0gEEP+lTOuAIxcJRAjhnPufQ7TNbx8gElOwAxaowC0pJfgqbOClCG2tZYwppay1sFokRRHEXSlllmVKKVBUcApcyCz+MMbSNKVw53meZRmxxiLnHFtklXMuYJO8G23c5p1zrrUGnJQSdBA7AA2HwyzLJiYmgOOcU5QfyiNFzfM8kIUZ3IGnYAcXFxYWHj161G63z87O+v2+MWaUfbKPJIARYjo7O7u0tPTgwQNjDNTW6/WyLLtz587Tp0/n5+c9z/v27dv29vbx8XEcxwpA/4SJgmCtrdfrHz58ePbsWRAEnudlWTYYDDjnU1NTk5OTURTBv1KpVK/XGWO+73Pf94viQBIBxxir1+tbW1tra2uwHcdxuVy21mZZNhwO//z5E4bh6enp0dHR5eVlr9e7uroSQvCxsTGSBcUe9To7O/vp06dmsxmGodY6z/Moik5PT1utVp7nnz9//v79++/fv1utltY6jmMppZTSGKOoKuC7tRbEa7Xa27dvX758eXFxsb+/32g0arXawcHB7u5uFEVCiCRJkFKlVJqmWmtrrbW2VCopqij4Dhn4vv/w4cMXL150Op0vX75EUVStVqenp5VSYRiGYaiUGh8fT9N0OBwyxqSUjDGtNec8SRJVLHMoGWF99epVtVqdmpp6/vz5ysrKvXv3kiRZXFysVCqosSRJSIskcyAo6jdQkrUWzfD6+jqKoiRJhsPhYDBot9txHFer1TRNjTFUS1SNUC6kqcgUBF8qlXzfr1Qqh4eH19fXYRh6nqe13tjYuHv3rrt9PM/DHxCiaoQ6Ry0ZQdFar6yslEqli4uLr1+/GmM6nU4QBO/evSuXy1RLOE9ewwxUKKUcdR0kCnWyurr65s2bRqPR6XTSNH3y5Em1Wq1UKkEQ1Gq1crmM2qWyhigpCKOYAtcYc3x8nOf52tra5ubm/fv3f/78uby8rJQyxnS7Xd/3oyiCjFDKaJtoBUBTxSyh0V1dXYVhGATBx48f379/H0VRmqaVSiUMwzzPu90uegKKBVhAAIhzbiR+lK1zLk3THz9+7Ozs/Pr1a319/fHjx1prYwxj7Pz83BgDZ+EvdTJKl7V2xB/RQdNkjA0Gg729vZOTk2az+fr167m5ufPz85OTEyml53k4k6YpkS1OQ+77Pk1d6q0wgwsTExMzMzO1Wi3LslarxTnvdDr9fh+q+meu3IQVoDBC/dQ5h9JC+IwxQRBwzpVSiGa326WhTV5SwhXNMoj/ZlUp4KJfJEkSxzHphqYLzhRnx00MwYsKvzjioRiM3xtVC4FZIKXUWqPXESIQOOecPnuK1miaFr9wqJnBNit8MAghwB2O/gUpxtBybWuq6gAAAABJRU5ErkJggg==\"/></td><td style=\"padding:1px;\"><img width=\"200\" height=\"200\" style=\"image-rendering:pixelated; object-fit:cover;\" src=\"data:image/png;base64,iVBORw0KGgoAAAANSUhEUgAAABwAAAAcCAIAAAD9b0jDAAAEsElEQVR4nGVVvUtbbxR+v+9NclUsUiSCldTBVoIOrYuT4KAEimRTwaHtP9BOzt10K0U6d2mEgA4uDqW0XQSJFQRN6RBoi4s6aNNr4v143w5PfseUX4bw3vfjnPOc5znn8N7eXuectVYIwTlP01RKyRiz1jLGsIMjbAoh0jRVSmEf14QQjLE0TTnnnHOFFWPMOeecw5lzTghBzsgBLsAT59xaS28ZY1JKHCnYptAoqFu3SsE6Pp1z+Ic/55yU0lpLMXHOFbnCje5w4ODm5oYxhjtBEFhr4zg2xsRxjAsUZhzHCFYhYOymaUpIpZTOuSiKOOfGmGw263les9kMwzBNU601TrXWeJ4kCZ4wxgRQUKaRAaCz1vq+PzQ0tLi4WKlUarXa+/fvS6USLmutfd9XSuE56IXRDnygAKewG0WR53mjo6Nra2vFYjFN0z9//kxOTpbL5Vqt1mw2CQfRJaWEgw6zaZpSEpApIcTdu3cXFhYePnz48ePH9fX109NTzrnnea1Wq91u47KUUmuN2GHdOaegO0CGmJRSYPPq6urLly/Hx8e7u7vj4+MvX740xuzs7MRxDEzWWlAPPgCfc65gHiHjTAiRJInW2lp7eHjoeR7n/MmTJ7lcrlqtfv78OUkSIYTneWEYIol4S2tBvAMCPBtjEHUYhhcXFzMzMysrK+12u1arnZ+fJ0lijGk2m57nQYtADQuMMUWyp3xHUaSU0lpjkc/ny+UynM3NzQ0ODn79+vXTp0/WWs/zIJJuzXDOeRAE3dVNSu6IQ6mpqak3b97cv3//8vKSMdZqtaSUW1tb1Wq1VqshOmQMFjqSUkpBumQXRGEzk8mcnJycn5+3Wi2t9Z07d/r7+8vl8oMHD549e/b792/G2M3NDVjp1HEulyOpdjcIhBDHcbFYnJiYiKLo+/fvP378iOP46dOnKysrY2Njr169Wl9fR2apxP+RFO/6ocwQ6a9fv05PT8/Oznzfh6Irlcr8/PzIyMj09LTWGlKJ45jajaKYkW+4gic4CMMQVWiMcc612+1Hjx4NDQ01m812u22Mub6+pv6J4BRJjNKM7kAtEUeZTObq6ipN0+Xl5dXV1YGBgZOTk2q1GoahMQbc3jbMIAion1JacSaEoOrSWl9fXz9+/Pjdu3cjIyNHR0erq6sHBwdAHUURmiG44T09PZRmvAdYWIdRNLrFxcUXL1709fXt7++vra19+/at1WoBENUoyFDEGqYTPqMo8n3fWhuGoe/7hULh+fPnpVKpr6/vw4cPr1+/3tvbI9mgW3diBFdBEMBQd+cXQvi+39vbOzs7u7S0NDY2NjAw8PPnz83NzY2NjbOzM6UUnoAD1DTo6cAnfoA3l8sVCgW0peHhYc55o9HY2tra3t4+OjpCmSHdSZJQO6fx06l9Kk2tdU9PT6FQmJmZWV5ezufz9Xr97du3e3t7jUbD8zykGzAxu2hWd+ufB0GAMGkqGGPu3buXy+UuLi7q9XoURdlslrRFeZdSRlEEJaHPkWb+YR9VhHmJcNDbMSbhFbBwv1vI3V1J0TS2//2klKhIYET6/m+RFhT4LTGQJ012vCcsAAuXVIvUHKhYOpNZCCj9L2N0tOMITqjUAAAAAElFTkSuQmCC\"/></td><td style=\"padding:1px;\"><img width=\"200\" height=\"200\" style=\"image-rendering:pixelated; object-fit:cover;\" src=\"data:image/png;base64,iVBORw0KGgoAAAANSUhEUgAAABwAAAAcCAIAAAD9b0jDAAAEpElEQVR4nF1WPUscURR9XzM767416qIQEgQVUZJNtFiwUUOSIpguENBC0ij+BRtL2/yB/AWFNEkXErSQCIqNdoKihMAa3biT1fl676U4k5vBqWbeu+9+nHvuecOr1aq1lnPOGGOMCSGcc845fFprhRBYtNY654QQnHMcwSkyphXhnKM9znnRAh6dc8YYxJNSwkYIgRjFDPBurRXksegOvpRSWKQVeMSiEIJSgQ1Vo8iUCqczaZoiNSklXvIzSmVZxhiTUlprCSjEEIQXwhIu+EQw+JJSIgYdM8Zgi2BF+BxTYK+UggX1ARZSSt/3p6enHzx4wBgrlUr1en12drZSqRhjlFJCCKUUUsmbCSCstegG9uAOi77vv3nzZmlp6dmzZ0KIRqOxvr6+vLzc19eXJAnaiCSIEjmmqK4IbhzHvu8PDw+/e/ducnJSaz0yMjI3Nzc/P//48eOtra0wDEulEgAhd8BBEQeBFGMsjmOlVBAEo6Oja2trw8PD379/39nZOTo66u7u5pzXarV2ux0EQZZlURQZY1A4YHTOKQKRKCWlNMY8ffp0fX29Xq+/f/9+c3Pz6uoqDMNyudzT03N5eam1DoLg9+/fcG2MwfG8jcAOjQKgSimt9erq6vj4+M7OzsbGRrPZBLh9fX0PHz5kjA0ODr569SpN0ziOOedweneiigy11i4sLDQajTAMP3z4cHJyglJub2/r9Xp/fz+q6XQ6yKbISPT8v1POued5Usru7u7Xr19rrQ8ODg4PD3t7e3EmCIL5+Xkppdb64uLi8+fPnueRbhTHT1Eo4G2M6e3t7erqMsZ0Op0kSaIoyrJMCPH8+fPx8fHr62vO+cePH9vtNkBL05RYhXIV+/dgLjnnP378aLVacRyPjo6+fPny+Pj40aNHs7OzMzMz9+/fj6Lo4uJib28PzMdZ3/ezLPs/PlprQAaLJEmSJHny5MnCwsLc3NzAwIBzzvf9ZrN5dXU1NDRULpePjo7evn2bpmmapqBNznmlMC+8Wq2SHAghPM9DDK31xMTE1NTU2NjY6enply9fpqenV1ZWgiD49OnT4uKi1lpKmWUZDagQAkCpOyqLlJ1zl5eX29vbu7u7wCQMw7GxMaD87ds33/eVUkopDHeapnjPZQRBSJ+MMUBdCBEEwc3NDSL19/fXarVardZsNvf39z3P8zwviiL+76HGMMZElmXEqqKYCyFubm5IZLu6uhqNhrX258+fv379staGYUgJoVaSoXyoUAWNGqkvyIyUa7UaY+z09LRcLmutPc9LkgSqCnsaH0V5kQIQ6jmTlQIBaMx7enp832+1WqBKPkX/mM45F0W1J6EiMqdpSjyLoqhSqYyMjLx48aLT6YRhGMcx5QTa5uQnEcyyjK5PbIMfaZpiq9VqXV9fDw4OVqvVMAyTJKHRpGzy/EhEAA220U3P88Dccrkspdzd3f3z58/Z2dnXr18Rr1QqkUckkVOzUqmgdiBCN92dq1sIce/evYGBgXa7fX5+Do9FxQN5cOnySqUCX0S04pDQCrjtnLu9vdVakz1NDUkU55zjt4cCFrfpOqObGYmjpuKlj6mBGWPsL3cg3vWscYHIAAAAAElFTkSuQmCC\"/></td><td style=\"padding:1px;\"><img width=\"200\" height=\"200\" style=\"image-rendering:pixelated; object-fit:cover;\" src=\"data:image/png;base64,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\"/></td></tr></table><table class=\"show_images\" style=\"border-spacing:0px;\"><tr><td style=\"padding:1px;\"><img width=\"200\" height=\"200\" style=\"image-rendering:pixelated; object-fit:cover;\" src=\"data:image/png;base64,iVBORw0KGgoAAAANSUhEUgAAABwAAAAcCAIAAAD9b0jDAAAEzklEQVR4nF1Wz08UTRDtn7vOOghC1kVZVyCrRrwYDpJ4McYYb+qFhESN4SZX47/A2f/Bk94hUeHEXQhBCZyEBBbdyDgs7jDTMz39Hd5YmXx9mPTudFW/qnr1avjIyIhzjnMuhGCMOecYY9gIIfI8pz95aWVZhk2e55xzKWWWZUIIWAnOObzkeQ4X5Y1zzlorhNBac86dc1JKay2s3L9lrZVSkh/BGJNSAibMhCgu45wrpbTWzrk0TWGWJAkusNYyxnCYcOAmhdDwRCx5nsPeGCOESNM0jmMp5fnz5621nufhvJQSx7AHoAIK7oEv2jPGlFK1Wu3mzZsvXryYnJyM43hjY2N5efn79+/GmEqlAnQEAjkpPNTrdeccPFKOhBDNZnN2dnZ2dnZiYiJJkizLarVaGIZbW1sfPnxYWloSQlhrlVJ5nhtjAAV+FapBHpHNarX6+vXr+fl559zR0VGn0wnD0Pf9Vqs1Pj7+6NGjtbW1P3/+IF7gRfjAp8oAiSUXL14cHx8/ODj49OnT58+ft7e38zy/dOnS3bt3FxYW7t+/f+fOndXVVcAkqgCptVaVfxOBer3eu3fvDg8Pu90uY6xSqRhjfv/+/ePHj3a7vbCwcPv27ZWVFSllkiRKKcIEAihifjkJp6enm5ubWZahsmdnZ845rbUxRmvd7/dRqyiKqtUqSEp0ZIwpIhdRmu6QUjrnlFI4miTJ0NDQjRs3Tk5O9vb2lCpsUYZyfgWRFqRDWhlj1IhZlhlj0IjtdrvdbgdB8OvXryiKwDzkkWLlnAvyghamooF61lqANcaMjo6+fft2aGio0+l0Oh1jzMDAQJqm5X4tuFRuc1Za1to8z/HEevz48dTUVBAE79+/Pz099TwvjmMYIkpklnMuCgn4J0iUUDQ+Kc7ly5efPXt24cKF9fX19fV1FJ1ahnJYOC0LFf7FCWpZpZSU8tWrV/fu3ev1eh8/fgzD0BiTZRkSCi+IqaCUEEJKmaYpSowXSCgY6px7+fLl/Pw85/zr168bGxtQNQIIj0THQrrKGOknIjDGPHny5M2bN4ODg9++fVtcXAyCAARK05QIDwGkiglrrTHmf5pCgfi+Pzc3d+XKlf39/cXFxb29Pc/zsizr9/taa4Jc6IhSqJVCmNQCJA1aa2vt2NjYxMTE8fHx6urqzs5OpVKhy0BPGiRkWOgpNX65gsYYSCpj7OzsbHh4uFKpQEZ93x8YGGi1WlEUcc4PDg7CMAQL4UcRpYjwFA7nvNvthmE4Ojp67dq1hw8f7uzs3Lp1q1ar+b4/MzPTbDY7nc6XL19WVlYODw8xJqSUCq2GVCIQVBOQj4+P19bWHjx40Gg0nj59+vz582632+/3hRCtVsvzvKtXrzYajUaj0e/3gyAoYh0ZGaEpRhMY77Is833/+vXr09PTrVZrcnJyeHj458+fu7u7u7u7WutGo3F0dLS1tRUEQa/XK9RECF6v15GOMrdAAK11FEXOub9//1ar1cHBwWazeXJyEsdxFEVIutYaTYxwC2T1ep1gIo9oZ5Icxlgcx2mapmlarVYxViG1UBPP89I0LXetovGJRQwlVoCMvu8nSYKviiRJMJ9J2MoerbWKyMVKc5/yWw7t3Llz7N/nEB3DLKCvI7DqP4kB3Na21rYzAAAAAElFTkSuQmCC\"/></td><td style=\"padding:1px;\"><img width=\"200\" height=\"200\" style=\"image-rendering:pixelated; object-fit:cover;\" src=\"data:image/png;base64,iVBORw0KGgoAAAANSUhEUgAAABwAAAAcCAIAAAD9b0jDAAAE4UlEQVR4nG1WO2gUXRSe+5id2XFmk0BUgiKrImweFsHYmCYYfAVbO0trUUgTsQ5KehshXYo0ETSCEBCxiLDElElW1kfjRt1d2efszty55/7FWU+G8E+RnLl37rnnfOc731mWy+UAwLIsy7I455ZlGWO01pxzxhiuAwDZjDGttRACbdwyxhhjhBDGGMYYBwBcwsP4ih7RO74CgJSSMYbetdZkYyi4aIwBgKPv8BKKSCnF/z1oW5YVRRHGaFlWHMeZTIZ8URwAINEdAHDO0S+GTB/1+/1cLlcoFK5evTo0NPTt27ft7e1qtSqlTJIkjQChJDFxIQT5xWsp8Fwud+7cucePHy8sLLiuW6vVdnd319fXi8Xi9+/fM5kM5kHZCCGY7/sYLEGD3jEvKaXv+zMzMwsLC2fOnDl16tT58+cZY1EUvX//fnFxMY7jfr/POccqYQ1ZEASYAhEAbQwTaeB5nuM4AHDp0qWbN2/euHHj7NmzjLFHjx69efPGtu04juksx3+YKeKAf8mjEIJz3u/3u91uHMd7e3uvX79++fJls9n0PO/KlStCiDAMsZ5aa0xUUrnxAvRO1MOb8SQAnDhxYn9/H0vvuu7Q0JDWOpPJHKM2JyiJccQwIkYURbZtZzKZfr/ved709HQ+n6/Vajs7O51OhzHmOI6UkqAbpJ/2QsEKIZCVUkpjjFLK87xbt249fPiQc95qtT58+IANGYYhnh18TwgS0RhjBDlSDZMwxly/fn1xcfH06dN///5dXl4ul8tSSsdxjDFJkkgp0QNHIAgRRAe7EPtKa93pdKIoun379tLS0ujoqNZ6a2vr1atXAOC6rlLKcRykFDqRyEdEkwLEKkVR5LqubdszMzP379+fm5vLZrOu666urj579gzxNcbYth1FEeaOkcp0a2LuAJAkSTabxa0LFy48efJkamoqCIJms/nixYuVlZUwDB3H4ZwnSUKNROSRVO40jXzfN8ZMTEzMz88/ePBgZGQES//x48e1tbU4jj3Pi6IoLRSI6VHvp7XSGJPNZicnJ+/duzc7O3v58mXO+ZcvX37+/FmpVN6+fVuv123bDsOQMYY0GkQnjygvMV8pJVF1fHz86dOn165d45zXarXPnz8/f/680WiEYdhut9vtttY6m80qpUg0AEAIgR1ojJGkV+j9zp07S0tLk5OTYRgeHh5ub29vbm5WKpUwDJVSmKMQAisupSSekHoAAAuCAMsthLBte2trq1AoNJvNVqvV6XSKxaLjOFrrcrn8+/fv0dHR4eHhVqv19evXHz9+VKvVVqsFAKT5WLQBpgCglBobGwuCIEkSy7J83x8ZGbl48aKUUimF3IqiqNfrlUqlg4ODd+/eHR4eok4jrCTKkjFGG41GY2Nj4+7duygZ3W63Xq9Xq9V8Pu84TpIktVrt06dPpVLp169ff/78wTDTHgeDwPf9IyHgfHh4+OTJk7Zt1+v1brcLAHEct9ttZGIul+v1emEYYnfS9KVhMdDiIAhwSSmFcovKgkUQQiRJ4jgOjjw02L8HHdEoPRIKXKJxgobrukKIIAgsy7Jtm3pcKYV8xMNJkmCJ0mPNsizm+z5152AYcJ7uE6T3sd8TmCmN6/TD06CQSNOMQhCO5ZFu6/9VdACQOFsofrqD9IVQo9f0vKHdo9wZ+w/JqeOUPjyjbQAAAABJRU5ErkJggg==\"/></td><td style=\"padding:1px;\"><img width=\"200\" height=\"200\" style=\"image-rendering:pixelated; object-fit:cover;\" src=\"data:image/png;base64,iVBORw0KGgoAAAANSUhEUgAAABwAAAAcCAIAAAD9b0jDAAAE40lEQVR4nF1Wu2sUXxi9z3nsZnZZMD4ISRGFkEaRgBIMbiOxsrBRFKKFlZDKxjb+DdoHTJHSQkECFgYSfBRGFIUQyIasLGGL1UBm9u7c16848Wb9pVhm7sw93/nOPeeb0CzLvPfee8aYc45S6pxjjBFC8ItFQoj33lpLKWWMhRXvPSGEUuq9xy8hhA0/wKvhDWutc845RwjRWqMY5xxPnXPYOFwY9QRQCCFgEUAJIUKIUExKKaW01oZ6WA+3/zBFKcAFCNxqrdGy915rPRgMsOKck1IG1qAZdhFCBOCh6bBSxhjnXL1eHxsbazab4+PjSql2u93pdDY3N/v9PrpGQyAOsowxMUwT0IQQKSUhZHp6+tGjR/Pz89baSqXCGCvLstfrvXjxYnV1NU1TQkiQOAhNCKG1Wi2soiDnPMuyxcXFhYWFsbGxHz9+fP78mVLaaDQYY5cvXz48PLx161ar1apWq4wx2AaEACWstZzzoD1oLi4uPnnyZHt7e3l5+cuXL51Op9vtHh4exnG8tLR08+bNqampXq+XJElRFIwxa23wgPdeAMgYY4yhlAoh7t69+/jx4/39/WfPnr1//z7P8yRJrLUgcnBwIKU8deqUUgqGAxvnHOcc1yKo6ZxLkmR6evrp06d//vxZWlp68+YNYwzGghmMMRMTE2matlqtJEm01iEgQOCca60FbhhjURQRQsbHx8uyfP369fr6Ok72RH5KsyybnZ09Ojra398HFuiDY3C3CIbH4729vefPn29sbCilqtWqMSbkQmt9/fr106dPr6+vG2OklEKIfr8fx3HIAvQVw4aw1rZarb29Pe99WZYAklLimhBy+/btsiy3trZ6vV4URXEcc86NMeCIKHvvj0GByzkvikJKGWZKkiRlWWLzxMTE3Nyc9/7Tp08wSZ7n8CkMG0URmDFshkCwV5hVcAVjTClFCLl///6ZM2c2NjY2NzejKPLeQz3kFacNuZj7+xeihbyGMWGtzbKsUqk0m82iKFZWViileZ4jx8je/2YgQ6mQ0TDx0BHWB4PB7OzsxYsXu93u9+/fGWPIIQZNGAJ4mVIqwoABeXSEW3TAGKvX6wsLC977ra0t7z3UMMZkWYbIQLSTgQLax3Pw7/DHY8S3LMsbN240m01r7dHR0dTUVJ7nRVEIIZRSo6OjUkql1GAwUEpBLhHMhQucDMTlnHPOL1269ODBAynl2tpap9OZn5+/du3a5ORkvV5XSsVxvLOz8+7du69fv2qtcfQiCAxdEAHgnj179urVq3fu3JmZmWm32z9//kyS5MqVKxcuXKjValEU/f79e3t7uyiKX79+KaVOzDMyMhKwIDYy12g0Hj58eO/evdHR0TRNy7K01iqlzp07p7U+ODh4+fLlx48fd3d3u91uURRpmmIUMMYE4HAmOG6tNee8LMskSRqNRhzH3vtareacq1Qq3759e/v27atXr9rtNkTEMYThf8I0eC0MWu/95OTk3Nzc+fPnK5WKMWZ3d/fDhw87Ozt5nsPwlFLIOtwoIeQfUJxPEBdBpJQmSTIYDKIo6vf71WrVORc6PY4QY9575JsQQvFJCGM//FeRpmkoXpalEAKTSWsNn4UPeAA9aXRkZGQ4YYHy8DcmBCZELuzHSjDisf+HGw8zMRxdqBTSHMQJNDHehq35HycR99kyUJAEAAAAAElFTkSuQmCC\"/></td><td style=\"padding:1px;\"><img width=\"200\" height=\"200\" style=\"image-rendering:pixelated; object-fit:cover;\" src=\"data:image/png;base64,iVBORw0KGgoAAAANSUhEUgAAABwAAAAcCAIAAAD9b0jDAAAFP0lEQVR4nF1WPWzTXBR9f/Z77k+cJgFMWlSBipAgAzBQ8SNQJopEGUAsKHRAysLAwsQAzIxMjEV0QcDABlKZYKFBICREqQBFCS2qQpsIaO0k9vv5htvvYdVDZMt+9557z7nnBo+NjRljEELwC5cxBmOstSaEbHtLCNFaM8a01vZjYwwhBB4xxlvv7BmMsb2Be4yxMYZSSik1xmzLZCNqre0HzB5Lp0UIKaXgEQ4kSeK6LkKIMRbHMZRCCIEEEMEmYAghAJsOTQhRSkFFlFLP8wghlFKl1O/fvwE1Y0wpZYxhjEE4WzSz0CCt1toYo5SC2h3H8Tzv4MGDN27cOHLkiJSyVqvNz89//fp1aWkJYyyl3FYTIYQBfqWU1hoqAuwYY0opQohzvnv37m/fvm1ubh49enRycrJUKiVJUqvVHj16VKvVBgYGkiRxHOcfyUEQWEIsY5YN13Wz2WypVOr1emtra9Vq9fDhwxsbGzt27Mjn879+/bp79+6TJ0+CIACWACwuFou2p1ZStv1CCBv6+PHj5XJ5cXHxzZs3lNIrV65cuHChXq/PzMw0Gg3f95MkAWIYHLZBlVKUUkCqte73+5Bj7969lUolDMNnz54tLy/Hcfzu3btcLjc5OXnixIkfP350u13OuZQSIUTSak+TBowBy4SQqampXbt2PX/+vNVqaa09z4vjeG5ubmVlJZfLcc6NMf1+H0hjdhgAHUDWWiulhBBDQ0NBEJw6der06dP1ev3Tp08IISEEyLbdbmOMGWOe5yVJAhGllMyOB8YYtAl4McZxHPu+f/bs2enp6WazOTs722w2QZuUUillq9VaWlryfT8MQ845pTRJEga6hUoJIXbeIT9MztDQ0KtXr16+fPnly5cwDEFnwEkYhgihQqGQyWSiKAJPkFIyG2hb0F6vNzw8vG/fvoWFhY8fPy4vL3ue5zhOHMfwca/XGxwcHB8fX1lZabfbrutyzuM41loTxpgQwkaE5iZJwjkPgqBQKKyurq6trUG7jTGO4wDYkZGRPXv2ZLPZjY0NIYTneb1eD2yIxHG8pYMU0iRJdu7cef78eWNMo9GwOoNGU0phQCuVSj6fn5ubQwjFcQw62TIaOz9Syq2mMFatVi9evLi6uvrnzx8QlhVZFEVKqWvXrpXL5adPn3748AHUApcxhtkmWloRQgcOHLh8+XKz2VxfX3ddF/I5jgO9zuVyN2/enJ6efv/+/YMHD/r9PvQEPAQhRCilhBAwG9d1pZSc80uXLnme9/bt21arBV/DjHS73dHR0Vu3bsF03b9//+fPn77vU0ph9racP223QNTg4GCpVIqiqF6vr6+vc86VUplMRms9NTV1/fr1iYmJzc3N27dvLywsCCGgv2DBW0GtGeP/r3w+HwRBu90eGxvLZrNRFPm+XygUKpXKuXPnxsfH5+fn79y5s7i4ODw8DATYeQFYzFYH+qeUdjqdTqczMTFRLpeLxeL379+FEMeOHdu/f7+UcnZ29t69e51OZ2BgAKBBoLTS8ejoKJhT2v+vXr1arVZHRkbiOOacY4x93280Go8fP3748OHfv38BBGjLLgvYYMYYXCwWLXJwe2NMJpM5efLkmTNnDh065DhOt9t9/fr1ixcvPn/+DAMO5wEm7C7rIYSQf0HTq1RKaXPYdcY5F0KEYaiUAq+DoYBC7cgRQphVfnqVCiFgzIF6INcYE0URxthxHKWU4zjpJZr+k8Csz8MGtT2C191u13oPYLcDAsMNfqa1hj5sGR6gSzs0yNbmh8vSAvfpt1JKqNou9v8AcNYAbY+R4ZkAAAAASUVORK5CYII=\"/></td></tr></table><table class=\"show_images\" style=\"border-spacing:0px;\"><tr><td style=\"padding:1px;\"><img width=\"200\" height=\"200\" style=\"image-rendering:pixelated; object-fit:cover;\" src=\"data:image/png;base64,iVBORw0KGgoAAAANSUhEUgAAABwAAAAcCAIAAAD9b0jDAAAEsklEQVR4nF1Wv09UTRSduTPvPWB3gQhSGDUQQyJC3EhCKITSGApIKCgwMbGwM1hSWPAfWFGhPXHBEApbLQwV0WJXCjpBLJaF8MDAvp8z8xVnve7HFg923uTcc+8999yV3d3dzjnnnFIqz3MhhFJKCCGllFIaYzzPazabnuc553DOT2st7ltrnXM4VEqREEIIQUQM5Jyz1hpjECNJEsB1dnZqrTkqo+AtIxhjqP0SESmltNZKKUDneV4sFj3Py/P85OTk6uoqz3O8ugZkreUktBDCGINoSDZNUyml1pqIpqenZ2dny+Wy53kXFxcfP36sVCphGPb29uZ5DjimjK8tUBwJIXzfN8ZorZH+7OzsixcvBgcHPc8jort3746Ojg4PD6+srKRpihQZTkqJMFJKWSqVGNc5Z4zB1cePH6+urg4MDKyvr3/9+vX8/HxmZmZhYSEIgpcvX25vb/f398dxzD1gBOecJiLkjifqOzQ0tLi42NXV9f79+7W1tXq9nuf59+/ff//+/ebNm+fPn29tbUVRBMGwEoiIiKy1hJKDLP39OOf29/eXl5ffvn1br9eDIHDOJUny+fPnJEn6+vp6enpwCCqM0GoUEXGxiQjPk5OTSqVyenqqtTbGGGN831dKFQoFIcT5+bkxJo5jz/PQGdBkSWj84YpwT6MogkiJKEkSKHx4eDjLsqOjIyFEoVCA5qSUkCBoOucIwwBEa61SChVghYG7Usr3/cnJyY6OjlqtFkVREAQQDMrFtKSUrYlC3wGE+NZarTWXzBjz8OHDp0+fHh4e7uzs+L7P9LkrXAT61zIiYww44gmh8IzNzc0NDAz8+PHj4OAAo5FlGf5pJ6sxy/gO2eMEiFmWIYBzrlQqzczMhGG4ubmJ0UA8TC0kj97keU4sBfD1PA9Vds6huaj1kydP7t27V6vV9vb2Ojs7EYnNCermj4bpoe9EhMgwFyGE53la62KxuLS0dHl5ub6+3mg0lFIYXDQWxNmShBCESgMaKaO+uASdzs3NlcvlRqPx7du3jo4OwHES3CiwkVIS5w59IBcpZZqmoP/gwYPXr183m83d3d3j42M2ESJK0xTQGJB/nLgQsCjcyLKMnX9+fv7OnTtpmn748OHy8hJCRlpoju/73d3dXV1dcF4hhL6m0/ZFIoS4cePG+Ph4nufVavX09LRUKiVJEgRBGIZa68HBwUePHpXLZSHE/v5+tVo9Ojoion8uhdJwfEALIRqNBhGNjIy8evWqUqmcnZ3dvHlzZGRkamrq/v37hUIhjuNPnz79+vXr58+fLYSenh44AuAwvPBA+MjExMTy8vLExEQcx/V6XWtdKBRu374NqR4fH29sbLx7965er8dx3CoLFgNnzU1L05SnZWxs7NmzZ/Pz8xDfnz9/Dg4OqtXqly9farXaxcVFHMeYaSxdWSwWcZUHgymznwdBEARBb2/vrVu3oigKwzAMw2azaa2NoghziClvMcXehx7bcXEJs5xlWRAE1tokSaBTuAmnyFMAfsSn7R7O48HrF76JXc2+xQaErPlXyP8WVLsM8OEFI6WEv2Ai8BZue835hRDUvmPbf/BwAFAGKU6TlwVOWob/F/c/VhK9nNelxYYAAAAASUVORK5CYII=\"/></td><td style=\"padding:1px;\"><img width=\"200\" height=\"200\" style=\"image-rendering:pixelated; object-fit:cover;\" src=\"data:image/png;base64,iVBORw0KGgoAAAANSUhEUgAAABwAAAAcCAIAAAD9b0jDAAAE8klEQVR4nFVWv2sU0Ra+v+bOzGZmR5LsmhiNKSw2SbWIkMYINjY2YmORMqXE0kbwf1AE/wBBEEyhTQRTCCKBFGIliQhqQoKbLGw24zJ7Z+69r/j2nbdvioW5c853v3POd85ZPj097b1njEkpGWPee+ecEMI5572XUtIJG3u895xzxhh+vfcAwatijMHBWuucU0qNo8AUh9ZaIQRucs4RFh58Aq4YP+Wckw8snHNSSmvtuL9zjmjibqUU5xzujDEFCyEEBeicc86FYei911obY6SUyAMoV1UFCJAVQlhrpZQA5ZwrIog8WmsZYxMTE/1+Xwhxfn6epik+GWPiONZaI2OwhC/oA9F7P8op59xam2XZ5OTk/Pz8pUuXrl27dv369StXriRJ0u12d3d3X7169enTJ2ttmqZlWYIpcBEr5ZSj+kjC0tLS+vr66urqzMwMhemcC4KgVqv9+/fv2bNnT58+zbKMCJI8xi/gjUYD/kqpq1evrq2t1ev1s7OzqqoYY41Go9Pp9Pt9rfWjR48Gg8Hdu3cPDg6QdyoUhEG14lNTU6CDo3q9zhgzxlhry7KcnJzsdDp5nl++fHl7e7ter29sbHz8+BFlqaoKHAkBylEkRmQ6z3Pv/WAwSJJECFEUhRCiVquladrr9SASeKJZkErqF1RvJCOlFKxxbRRFxhjOea/Xq9VqUsrbt2+3Wi1jzP7+vjHGOUe1EkIoNSo40EegVBNQxmfG2IULF+I4Xltbe/DgQRAEv3//Pjo6iqIIvWetRR+CIDWOGm9e3AF5cc7b7Xa73Z6fn2+1WvV6/ejo6ODgIE3TTqeD4mitkR8qyUhVkBRoEnHOudb6+fPni4uL375963a7SZK0Wq1+v7+zs7O5ufn169cgCC5evEigpPyRTkll1GqMsSRJvnz5MjMzc35+/uvXL855s9l0zmVZtr+///Lly62trcFgAMqUulHHo45SSqXU/7WaUru7u71eL47jLMv+/v375s2bra2t4+PjqampJ0+ePH78OM9zoBDIKNBGo0FMaTQIIYwxCwsLaZpqrU9PT3u9HpJw8+bNe/fu3blzh3O+sbHx/v37MAzBtCxLKEwRbRp0nHNjjBDi58+fjLEoiqy1QRAkSeKc+/z5848fPxYXFxcWFm7duvXhwwdrbRzHRVFAl1VVCRIwcgqVUERUNLTyxMTEcDj88+fP8fEx53xlZQVsBoMBNIPJOxrS48MR4WPuhmHIGCuKApP/5OSEMTY3N4eTZrOZJElRFFArhgtjTJGM8E5DmhJN1t77LMustTdu3Gi320KIw8PDOI4hAESJsaJovZDn+GrBjAiCwFpbVVUYhuvr6/fv3282m4eHh69fv0YetNawAa4CF2SE9DS+Y8IwnJ2dXV1dXV5eXllZmZubY4zt7e29ePFie3sbC4aGP2qg/tdb/x1fsEMBsyxbXl5++PDh0tJSEARCiLOzs3fv3r19+/b79+95ntdqNWiDIhZCqHFE5IXWOu6IoihN06Io9vb2Njc3d3Z2ut1up9NRSmGmALEsyyAIRrOJxE+4tOIxEqWUs7OzQoiTk5PT09MkSeBZlqWUUms9HA6dc1iIo0U7PT1N1VdKVVUVBAHnvCxL6jFrbRRFuAx7W0qZ5zkJGZ+01kopY4yiMEnwzjksKPigT4bDIboFNtg3MEZr0H8Oa+1/AA2b7+0k7U8JAAAAAElFTkSuQmCC\"/></td><td style=\"padding:1px;\"><img width=\"200\" height=\"200\" style=\"image-rendering:pixelated; object-fit:cover;\" src=\"data:image/png;base64,iVBORw0KGgoAAAANSUhEUgAAABwAAAAcCAIAAAD9b0jDAAAFE0lEQVR4nGVWP2gUTxuemZ2d3dvbTbwgueCphBwEmyOgmCtFPNBa1ErQziZgYWdrKRIQxMJCwU5MQItUdkJKEwhRSNCAMUaiJrm/+3dmfsVz3/vd9/22uN3bmXn/PM/zvu/yKIqMMdZazjljjHNujOGc468xRgiBVWuttVYIwRjDTq013gshiqLgnDuOwxgTZA5ntNZ4NsYwxhzH4ZyTXbix1hZF8X+hCCGEEHg5vMEQY0wIAbu4jDHYgF8pJTkgHxQTrDPGBDlB5NZapRSWRw9LKaWUjLGiKIQQnHPkC3+cc6w6jiPgFuEgNCklOUc6cFkURZ7ncRzDH+fcdd1/ZznEnTbhIc9zYwwYAA6DwcAY4/s+YwyG8jynaHzfRxxJkgBorbUkc5QI8YOXlUql2Wxeu3YtCIL9/f2dnZ2tra0syzjn5XK5Wq3u7+9vb2+3221kzDmXdFhrTQwia8B97ty5u3fvXrlypVwudzqdOI6zLGOMHRwclMtlz/M2NjZevXq1vr7ebrdhTZL6iChjjJRSa22t9TyvVqudOnUqjmMppbU2DMMwDLMsm56e7na7WuvZ2dm5ublv3751Oh2ttVJKgmKSkbUWuTPGPM/zPO/Lly/v3r2bnZ0dGxuL47jf7zcajZmZGa11qVRK0/THjx/r6+t//vwB28YYHgQBYtZaA3JiDNpCCQHBLMu63e7Nmzfv379fq9XCMNzd3X38+PHKykqapsYY6GxIFNFNSoYD5JHnOWPs+PiYcx5Fkeu6Z86cAcQvX75cWlpKksT3fWRpjBmmP1onsOK6LrgixH3fL4ri4sWLCwsLk5OT3W53ZWXlzZs3/X6/VCpBZ+CZR1E0yjvFa4xxXRfPoMjzvEaj8ejRo/n5+Xa7/eHDhwcPHhweHoJYyk9rPQQRGgAOFJrjOOPj4/V6vV6vR1FUq9WuXr3aaDSOj4/39vZWV1c7nQ4lRywZY4YFS+2A+pjruhMTE7dv375z506lUun1ehMTE77vdzqdo6MjY0wQBEqpLMt830+SBFkO65Ua5WjLcRynVCpVq9X5+flKpTIYDE6fPu153t7e3vb29u/fv2dmZprNJjbHcew4jpQSSuecS8qdLKIDJUkSRVFRFEdHRydPnkzT9OPHj8vLy/1+v9VqnT9//u/fv0IIwE0yBwiSeiiCxaWUqlar9+7da7VaSqmvX7++ePFieXn54OCgXq/Pzc1tbm6urq6i3UDOxhjQYK3l5XKZZgMV/tTU1PPnz1utltZ6MBg8e/ZscXFRKRXHsVLqwoULlUplY2Pj+/fveZ5jiuA4wBzq1BijlErT1HVdKeXDhw8vXboEt+/fv3/69Gm322WMjY2NWWs/ffrkeV6WZTSyIHv7n0vSIIPchBDXr1+/deuW7/u9Xm9ra+vJkyf9ft9xHNd1kyShltbr9SBPyh3xScBMjW58fPzy5csLCwta68PDQ2vt27dvd3d3Pc/TWqMQQGae5ziLzo0xAwdaa4lawvL09PSNGzempqYggLW1taWlpV6vVyqVaBqjIVAnA5qj7YIxJnBTSgkhzp4922w2Jycnfd/f2dlZXFz8+fOnUkpKOdpohBAE6NCKEGgl/5UU6f/Xr1+fP38+ceLE5ubm69ev19bWUDOgePRTA8OKJi4USSXLgyCgyZGmaRiG6HJCiCAIiqJwHCfP81F+ARc0NBoTSYqHYUgDFpOSRv/oLMAxREqjW2uNrP9nPgvxD4iP/LdLQZqZAAAAAElFTkSuQmCC\"/></td><td style=\"padding:1px;\"><img width=\"200\" height=\"200\" style=\"image-rendering:pixelated; object-fit:cover;\" src=\"data:image/png;base64,iVBORw0KGgoAAAANSUhEUgAAABwAAAAcCAIAAAD9b0jDAAAE40lEQVR4nF1WzWoUTRStv67+maE1jp0JxkSjuHAgQ4SAK4MEBFFEAgq6cCEovkLeIJCtLyCiLt3ErYssRAR3Cs5gJEoyBGXMaGJP90x1VX+Lk9wMXy+aprr63nPPvedU8/HxceccO7yEEGVZlmUppbTWcs4550VRKKWwzhjDnTbggTHGOccrgRe0ZK0ty1IIgQR4kFJyzoUQo/fy8KII2Mw5F5xz5xyhwKq1tigKa61zDiGUUowxz/M451pr7EfWsiydc0II4GWMCX54YYeUEjmxCCDOueFwOBgMBoOBUso5FwQBQWOMOeeIQ865II7wMJrfGON5XqVSCcNwbGzsxIkTUspOp0MUEelCCJSLBAoFIoOUEi+wO4qiJEnm5uYWFhauXr2aJEmr1VpdXV1bW0MChACBVBnnnJ88eZK6RFQAcq1We/LkyeXLl8+fP9/r9Tjn09PT6+vrjx49yrLM8zzqBGCiRGvtUSvRHyml1rpWq01NTd26devu3bthGK6uri4tLS0vL3///n12dvbMmTPWWnB9xKMQxKxCKtQ+OTmZJEm1Wj179uzExMTCwoJS6unTp2/evPn796+1dm9vb2Zmpl6vf/nyBVHQCcwy0aiQpCgKIUS32+12u77vt1qtubm506dPf/369fXr11EUVavVoig2NjaSJAmCoFKp5HmOylA4eANYRQNfluVwOBRCDAYDrfWHDx/6/X4cx2EYYgw9z6vX69VqVUoZBAE253mulAJGKSU6pkhzJCFjDIr69u0bMhdFobW+ePHipUuXtra2fvz48fv3b+ec53lhGKJRiAhOFBEB7qWUUsrhcGiMsdYaY4wxWuvJycnHjx/Hcby1tbWxsVGpVIwxqI/kJKUsikJKqcAIWcYo8WmaAk6j0bh9+/aVK1e2t7c/fvxojOn1ep7nxXHc7/dhKIiLIArzBF6QiuQAQoIguHHjxr1795RSx48fv3Pnju/7L1682NzcdM5Za7XWQI1QjDE1alnGGM65UsoYA4583x8fH280Gru7u58/f5ZS1uv1hw8fNhqNlZWVzc3NY8eOZVkGE8CEHTUKvMBGSdeoK03TZ8+epWnabreDIEiS5P79+w8ePNjf319ZWel0OlEUYSLJDI+mAVEgfBKctbbX671//z7LMs75z58/t7e39/f3m81ms9mcnp7e2dmBUeB+IFYEpVRQMQohy6A0Wmsp5Z8/f/79+8cYy/OcHI7crixLgeGnIwGkwI8xnhAFxktrnWXZ1NTUzMwM5zzPc9/34a1oNb5VQATBwCMAyjl36tQpIUSapsBFLn7z5s04jtvtdrfbBd7/+cBByaCP3A8kZFnWbDbn5+d93y+KIgiCNE2XlpauX7/e7/fX1tb29vZoTvA5alVUMgLhQWs9GAzyPI+iaHFxcWxsDCq6du3a4uLihQsXXr16tb6+nmVZGIaQNYwJ7TroPhkgIaXz59y5c7Ozs2EYTkxMRFHU6/Vevnz5/PnzX79+YaK11qOtP0CKEBQd5aCBnU6n3W7Pz89XKpVPnz69ffv23bt3rVZrZ2cniiLP82AR1P2DowXHCSUBUswDBBbHsTFmd3dXa80YC4IAUgZARKRvD7pSq9Wo0tFxw/fD4ZCkQaob/VUYDUe/NoLkBS2RajGGdO7T+TP6jwSijibpkMP/AGC17EXKGevsAAAAAElFTkSuQmCC\"/></td></tr></table><table class=\"show_images\" style=\"border-spacing:0px;\"><tr><td style=\"padding:1px;\"><img width=\"200\" height=\"200\" style=\"image-rendering:pixelated; object-fit:cover;\" src=\"data:image/png;base64,iVBORw0KGgoAAAANSUhEUgAAABwAAAAcCAIAAAD9b0jDAAAEzElEQVR4nGVWzWtTTxSdz7x5ecEGtVLaotYqIkaw4ErtPyAuLNm0K6FCu+rKvXvXLiwBFy7aZXVRQfxAsAqC6KJYaBWkYo20TZu0SUjex8z7LU68Pvm9RXgzb+bMmXPvPTfc9/00TVnm4Zw754QQ2XnM0DBN0zRNaYZzjsWcc8aYsNbijb5ln+wnvGNeSimlxBBHYq+1Nk1T7vu+c44oZAmCCBhhg1IKoECh84QQAMFeATpCCPqWZeScAxw2J0nCOQed7BWBCASQEFjH/zwAIh2xVAghpRRCxHEMHlprxhi4EwlAqywEaWetlVJmoxHHsXMOk0ScXhhj1lqsFEKorJp0INglSYJhkiRa626329fXd/HixVwut7u763leu91uNps7OzudTiefz1PEFIUFO0kKUMjn8ydPnvQ879SpU6VSaXx8fHBwMAxDrbXWWkr58+fP+fn5paUlpAR4KNwIUiIC0M45FwTB1atXZ2dnL1y4wDk3xhSLRZBqtVpaayFEsVi8du3a8+fPoyiCaIwxlc0PimYURWmanj17dm5u7vLly1JK51ytVvv48ePg4ODAwIBSSkrped729ra11jkXRZHWOkkSIYTKIiJpEJwwDEdGRs6cOaOUarfbHz58ePr06f7+/vT09PDwcKFQCMNwa2trbW3t/fv3YRgaY7rdLpJBZHMoSRLw55xLKavVarPZtNbm8/nl5eVXr15JKS9dumSMaTQa9Xp9ZWXlwYMHb9++BUelVK9YEPdsGjnnnHNa693d3dXV1f7+/vX19VarNTQ0dOfOndOnT0dRVCgUNjY27t279+nTp0ajgYSLogh5qYgpigEljDPq9XqlUqlWq9++favX6+Pj46VSqd1uM8aq1erdu3f39vaSJPF9H5VGIVGQlpyJMQYFUEKrq6tfv349evRoqVSamJgYGRnpdDqc80ql8v379yAIKM64HG6pEFnAIedRG7hOp9Ox1gZBUC6Xx8bGGo2Gc+7379+PHz/WWsdxDB3xQrUuSETiS4I453zf55zPzMzcuHFDShmGYbvdfvjw4eHhISoNxyulenBC9DTVWpMpkNNIKYE+NTVVLpfDMMzlckqplZWVZ8+eeZ6nlIK/kG9Q7TPP84wxxhjP8zzP833fGBMEASDK5fKXL19ardbOzs7BwcHS0tK5c+cYY4VCwfx5shuB1os+JVaSJGR6J06cmJubKxQKaZpqrTc3NyuVyq9fv4IgIF5YiRKnmlTZ5oPEgvac88nJydHRUaVUkiRxHD969Ojdu3dwLzDINjGySsaYoN5CnghNr1+/Pj09DYhms/nmzZvl5WV4AvbDrcnu4AA9ZgDtRU31PLu/v//27dvHjx8/cuRIsVj88ePHwsLC1tbWX3NTCkAk1z8tC2VOOSyl9H3/1q1bY2NjUso4jpvN5pMnT16+fAnWgCNcGkI3JE/PpKkdCiFGR0dv3rx57NixKIriOH7x4sXi4mK322WM5fN5NBXwRe0hT6mfp2mqqBFR5ltra7UabOLz58/379+v1Wqe50kpYZpUOdlmhcrELzfG0MXBN5fLXbly5fz585ubm69fv8YNwC6Xy0EoiqqUEtBg2usjxhiaIp+O4xhXs9b29fWFYZi93f//F/3zn0eI/wAHud8A+OArdwAAAABJRU5ErkJggg==\"/></td><td style=\"padding:1px;\"><img width=\"200\" height=\"200\" style=\"image-rendering:pixelated; object-fit:cover;\" src=\"data:image/png;base64,iVBORw0KGgoAAAANSUhEUgAAABwAAAAcCAIAAAD9b0jDAAAFkElEQVR4nF1Wu2sUXxSe+5rHnZlddxFfkUCikY3gCwujhawYrNTOQishaJFS9A9II4jaCBaCdpJCAlqouBiDCBZCFILiihYhG03WLKu4yc7OzH1ZnPxu5DfFMPfOPed+5zvnfPeiMAyNMVprjDHGWGttjCGEKKUcx0EIIYSMMfCGGSGE53lgBZNgorWGBRi+MMaO42itwRiGCCFCCKVUSqm1llIqpZRSruvaDda9YAwbw4NhH3Bt/QohwF5KiRCCv8YY13UppWAJe4BfgAxDpRQKw9DaOI5DKdVaU0rBKWPM8zwwy7IsyzLf95VSwJVSyjIDwa07saRQSmE3x3GEEJTSQqHAGOvv7+/r6zt8+DDnvFKpOI7TbDanpqamp6eB3DzPLRQIlNpNALzWmnMOTk+dOrVnz56RkZHBwcE4jrXWeZ4HQSClPHjwYKfT+fDhQ57nWmtCCPAOTFKACQOEEKVUCEEIOXDgwPj4+MDAQLlcTpIEIbS4uDg9PU0pPXbsmOd5w8PDs7OzhJAwDKWUGGPgF2O8gZQQIoSAH4yxI0eOxHHsum6r1dJaP3369N69ez9//iyVSmmajo6O5nnuum6appbADSaBbyDedV2bEynl5s2bhRCfP39+8ODBy5cvO52OUgrI+fTpU7vd7na7UGGQdIBpjMFQZeALSAESVlZWEELtdvvRo0fPnj3rdruU0iiKTpw4UalU6vV6o9GQUkZRBC0DIcJDbU1A9cEsIWR2dvbu3buMsZmZGahcKeXFixfPnz8fhuHS0lKz2aSUZllmW2DjIwgCGCilCCG26IwxW7dupZS22+0kSaSUJ0+evHHjxsDAwMzMzLVr1xYWFggh/zY3IHMch0L4/zao5XttbS1NU9/3e71etVq9fft2f3//8vLy+/fvG40G0OW6rhDCph48UMAItMIstCA4RQj9/v37+PHjN2/e3Llzp1Lq+fPnk5OTlFLGGHQUYLJRGmOwxQwYpZRSSs/zCCFZllFKjx49OjExsXv3bkLI1NTUrVu3vn//Dg1NKV1P9z96hDF2OOdRFHHOwzDknHueF0VRFEVhGJZKpcHBwcePH2dZ1ul0arXa9u3bXdf1PK9QKMAazjkhxHVd13XL5XIQBL7vU4jaIgcF4Jw7jrNly5ZLly6NjIwYY75+/XrlypUkSTjn0JqU0jRNoQU2bdpUrVaTJHnz5o0QwuGcc86DIAiCAJAyxrZt2zY2Nvb69eulpaUkSV68eLF3716EkO/7cRwXi8UwDEG9wjDcsWPHnTt3Go3GkydPhoeH4zim/6tQ0LpKpXL58uWhoSHO+ZcvX+7fv//jxw/GGKXUcZwsy4BTjHFfX9/Y2NiFCxeKxeLHjx8XFhaEENSKICGEELK6ulqpVK5evbpv3z5jDGjo2bNnDx06NDc31+v10jRdXFw0xpRKpdHR0TNnzuzatYtS+urVq4cPH6ZpGscxAvpsbcZxfP369XPnzoE45nnOGCsUCmmaLi8vt1ot0IooisrlchzHSZJgjN+9ezcxMVGv10EzKaQI4lJK+b6/f/9+KWWe51CAoHsY41KpVCwWGWOQ61arNT8/3+v1arXa5OTkt2/fjDHFYlEIQW21E0Kg4LvdLmMsy7K5ublarZZl2dDQEChet9tdXV1dW1tbWVmZn59vNpvNZhMCCsOw1+vleW6MQZxzKwRCiDzPT58+Xa1W6/X627dvf/36BWmBwrbwoU1ABrXWjDHbk3meb3AKZz3G2Pf9P3/+eJ7num6WZRhj+AWNCBrqeR6UKhyR9nxdP5Y45yANED4hxJ7VUBKQK/ALy5RSkEYpJdwK4G2MYYw5joOCILDiahULUryuuP9hAbBQJ/aeYK8wMAmYKHiBKfsNPMBS8G5V0bYJyJ296th5Y8xfhuwAhA6AkxMAAAAASUVORK5CYII=\"/></td><td style=\"padding:1px;\"><img width=\"200\" height=\"200\" style=\"image-rendering:pixelated; object-fit:cover;\" src=\"data:image/png;base64,iVBORw0KGgoAAAANSUhEUgAAABwAAAAcCAIAAAD9b0jDAAAE1UlEQVR4nE1Wy2oUQRStZ3d1J5rMZBGTOIooMZigEEIcBiQLf0DEgCtB8BP8BH/DpS6ELGLWLgQJiUk2A4Iuggx5Gpgx0066p6u7qlycWHYvhunuqlvn3nvOuU3jOLbWkspFKXXOEUIYY/iDh9Za/8o5xznHLbYzxnwEhqV4TSnFBkopIvql2GmtxUPOubUWe7EFt/jP8BRRaOWy1jLGjDGAhocePqWUc+4T4pxXM2POOb/NvwCcar6cc8YYgLt/lxDCnwrsl/hwLPJyzhljPIr/J/8rRRRFxhhjTBAEWIn8nHNlWf4HRCkty9J3A3iLosCvlBIAsTPP8/HxcaVUlmVlWRZFgbiolS8xDcNQCFGWJeriXyAWcFFKJyYm5ufnX7x48eDBA6XU58+f3759u7e3FwSBb5SvlfCBnHNSyrIshRCDwWBkZERKOTk5qZR6/Pjxw4cPl5eXp6eny7KM43h6evrGjRtv3rzZ3d1FBCml776ocjMIgnq93mq17ty5I6UcGxu7ffv24uJiHMdBEKDicRyXZWmMabVaq6ure3t7WusrV65kWebZKXwTrl271mw2V1dX7927d/XqVcZYGIac8+FwiMIlSeKcS9O0VqsFQfDr169Wq3X9+vVOp6O1BjGstZxzQSlVSk1OTjabzZcvX7ZareFwyDnPsgxVDsPw9PR0Z2dHa318fLy0tNRsNoUQURThFw1E+kIIQoiw1uZ5nqbp/v7+t2/farVakiTtdvvw8DBJklqtdn5+vrW1dXx8nCTJ7Oxso9FIkiSOYzDv5OTEtyQIAhBJgFndbjfP848fP3758uXg4KDT6SRJkmUZaEApDYIgy7Lfv3/Pzc1NTU1prf/8+fPjxw+YABoDhllrBXhqrTXGbG5uhmF4cXFBCNFaSymNMYyx4XCY5znnvNlsNhoNkDTP83a73e/3IScvQsaYgHKhK611nufIIooirTVqFIYhY2xkZOTZs2f1ej3Pc0JImqa7u7sgE4jojYlBoJ7AnHPIuSgKbxlo3fLy8szMjDGm3++XZfn9+/efP38qpRhjQggo5VL7XgaeZVU5ICJjbGxs7Pnz5zMzM1mWjY6Opmm6tbXV6XQApSgK7zKMsctGeWvwpyE0YwyNfvLkyaNHj6IoiqKo1+udnZ2tr68TQoQQUsqiKIbDIWrlnGPetNFE30rGmJQSJ8/Nzb169Wpqaqper0sp4zj+8OFDt9sNw9Bae3FxwRhTSkFplFJBCEGLfWW9aVprlVKU0tevXzcaDa01pXQwGOzv729sbEBpeZ4LIbIs8zZkjGFIAaH9SADDCCFJkqysrKysrEAz5+fnvV7v/fv3R0dHkKxSytPT53ppKL7pgGyMgdXfvHnz6dOnwI5jtre319fXgdpHxHqfqKhOxOocRaD79+/fvXsXR/b7/cFg8O7du9PT01qthuagz5glfuL+91P/wpd4dHQUctJaK6X6/f7a2lq73YbLYUB54VQt9NL6qkgx0KF3SJ4Q0uv1Pn369PXr1zRN4UzAUdWIT5pGUeRnfZWhmE63bt1aWFhYWFg4Ozvb3t4+OjrqdruYMVWCVwcUIYTiCwXQkDiSwmqttf+AIITAYmCd1U+Vat0u5z7CYyel1AvDWgunwGrwQUpZpTMi+nYB7F/TkO3k/t2KsQAAAABJRU5ErkJggg==\"/></td><td style=\"padding:1px;\"><img width=\"200\" height=\"200\" style=\"image-rendering:pixelated; object-fit:cover;\" src=\"data:image/png;base64,iVBORw0KGgoAAAANSUhEUgAAABwAAAAcCAIAAAD9b0jDAAAFTklEQVR4nFVWzWsTTxiemZ2d3U2yJiUfVpF2RUqNpFQrFtpcSi1SwYNaT15610vxXxE8KXj0KL2KUhU8FKq1Ulor1g9SlBRj87XpZmZnf4enDv3tIczuvPPM8z7zvO+EptNppRRjjFJKKY3jGOM4jgkhhBBKaZIklFJCCGMM4+MBSZIkSWJZFl611gyIWHA8iFIKCINCCAEQPmKWc07+PdgeUAxw/X5fa20itNZaa9u2OedJkgDOoOOL1lopBRTEY4phf601opEFpVQIwTnXWkspOeeWZWGN1rrf74OR4zigHMcxAsCdAwuPZVlgpLXGwLZt3/cJIVEUdTodIQQhREoJRlJKrTVyNRJrrbnRESmYV8uylFKU0kwmg1Dbtimlo6Ojo6OjFy5c6Ha7a2trr169AjukzxhTSnEAQVZzLIa47/uTk5Pb29u9Xq9UKk1OTt69e3diYiKbzQoharXanTt3tre3caogyyEWDKCUMkfJOZdSUkpTqdTly5cJISMjI7dv356ZmfF9n3PearWklCMjI5cuXdrZ2TGGAzSHusYilFJ8gRqc83K5PD09HQRBqVSCuPv7++12Gwzm5uY2Nja2trYsywIOIYRDEUopzIGsgWvbdrFYHBoaOnfunJSy3W7//Pnz48ePv379OnPmzNzcnOd5w8PD+XweuQohYDUONWEpUyfYSQgRBMHfv3/DMFxfX3/27Nnq6mqr1arX60EQFAqFa9euNRqNer3uui7W4oQ5CENH5IsJbLO5ufnkyZN8Pr+ysvLt27coioQQruuWy2Xf93/8+LG+vr63txeGYTqd/p+lICWqHnvgt9frbW1t7e/vnzp1ijGWyWSGh4crlcqVK1dmZ2ez2ezKysry8nKz2fQ8D8tRONyY9HjlgiZjTEqZy+Vu3LgxPz8/ODhoWRacK4T49OnTy5cv9/b2UOKUUmRJKeWGGk4Gkht027YHBgYGBwdPnz6dz+e73W6SJP1+37KskydPFotF13VTqRSlFLhHShpBoyiybRtVCMdhg8+fPz9+/HhtbS1Jkt+/f9fr9YmJiaWlpSAI0ul0u902AhrzcFNOQMSDAoUOBwcHYRjWarUwDA8PD4UQOzs7U1NThULB8zzOuQmGXEmSMKRMCCmVSuVyeWBgwHVdRKAQQOTPnz+QKAzDQqEwNDQE2zabTRyJUsp0Xqa19jwvl8vdu3fv+vXrQog4joUQODfHcVBFruuCpuM4N2/eHBsbi6JodXUVWUI69JQ4jhnnPAzDmZmZhYWF8fHxZrPZ6XS01o7jWJYVRRF6ZRRFSqkgCO7fv7+wsEApff369ZcvX3q9XhzHUso4jk1X5VJKpdTs7GyxWLx48WK1Wn3z5g06pm3bUkrXdeM4tm17aWnp6tWrY2NjjuO8ePHi4cOHrVbLdV3YxpQMIYRDu42NjWq1msvlHjx4UK1W3759+/79e6VUsVjM5/Pj4+OLi4vT09Na61qt9vz586dPn379+jWVSvX7fdd1kbixDfV9P47jUql069at+fn58+fPw3cHBwdCCCnliRMnstmsbdu7u7vv3r179OjR5uZmt9t1HAd9xxCEwRlj1PM8kM/lcpVKZWpqqlKpnD17Np1OCyEYY41G48OHD8vLy9+/f9/d3cUFhUYXxzE6HDgaG9BMJmN6CuYcx0HN+b7faDQ6nQ64WJZlWRZj7PDwEMVurkvTLo7+P6RSKbQWyAEzcs77/b7jOODFGDM5KqXM2LSL4zfbUZkaLNSGudPxi8MFKdOKTBsCtPly1PnRC9i/B7vhrocaQDc9GOvNRXm86iilSOI/nErahCgxWr8AAAAASUVORK5CYII=\"/></td></tr></table>"
            ],
            "text/plain": [
              "<IPython.core.display.HTML object>"
            ]
          },
          "metadata": {},
          "output_type": "display_data"
        },
        {
          "data": {
            "text/html": [
              "<table class=\"show_images\" style=\"border-spacing:0px;\"><tr><td style=\"padding:1px;\"><img width=\"200\" height=\"200\" style=\"image-rendering:pixelated; object-fit:cover;\" src=\"data:image/png;base64,iVBORw0KGgoAAAANSUhEUgAAABwAAAAcCAIAAAD9b0jDAAAE1UlEQVR4nF1WT0sbTxiemZ3dnXE3sRoJRGIpvQgFG0QQ8S5WchK8lN77AXrpod+iX6D3Qg+FXkKI0JuIUCjS5qAHS4VEUWubZLM7/36HJ50uvxyWZDPzvs/7vM/7zFApJaXUWssYI4Q456y1hBBKqXOO/P045yillFL89P/iCyLgSQjhhBBjjA9EKUX0/8VCsiAIrLXY75wLgkBrTQgJggDr8YUhVhAEQIE9QFF++iKcc5xzQkgYhs45xhil1BhD/36stQzh/U4swkvGGFAjFhKHYYiVWmvUxxjjnGONMWZWPv5TSoVhaIxhjOHpKyqKokyoMYZz7juBxWWKWZlNhMAGpZTWejqdGmOCIECBxhjPsu+Mc64oCl8WIYSBKcYY6gVwz68QAimllGCmHAu1a63BMppMKaVCCGCZIWcM1PiGMsbCMJyfn7fW/vr1S2utlOKca62jKOKcR1FEKU3TdDKZjMfjPM85hOKp8f1FmVEUVSqVFy9e7O3tdbvdXq83mUzCMJxOp2maJknSbrcfP34cx/HPnz+73W6326WUcpSM5F5eIAQJ1tfX2+32o0eP1tbWGo3GgwcParVatVqt1+uLi4tJklBK0cnl5eWvX78OBgOOGgENQcuzEMfx/v7+9vb29fX1+vr6wsJCmqbj8TiO4+l06py7v7///v17v9+/v7//8ePHnz9/siybofPigKpQYBRFrVZre3s7y7KFhYXBYNDpdK6urr59+zYYDIbDoVLKGHN5eSmE4JxXKhW84c453x90PAgCpVSSJPPz87u7u5TSJEmUUufn5x8/fjw9Pc2ybDQaobfgPQiCLMug3yiKmJ8iqMo5p7WGEjY2Nlqt1u3tbafTOTs7azabOzs7WuuiKKSU4C0MQ7APtRhjjDG8bBZ+xp1zURStrKwIIU5PT5VSQognT54sLy8fHR19+vQJiBDCT40fzn+GBCtBckop5/z8/Pz4+Pjk5OTDhw9v377t9XqVSmVra8t7FUjz7gd/sNbO9IhB9Jxaa/M8//Lly93d3c3NzXg8rlar/X6/3W6vrq5KKTHB0ExRFF6FmBoOsr2DOOeklLVardlsPnz48PPnz8PhkBBSr9cbjcZoNNJaa60nkwl6jX6gyfhJCOFgBCYCN4uiaGNj4/Xr1/V6/f37991uN8/znZ2dg4MDxtjl5WWz2by4uAACdBUO4A2eAyPAonyt9dLSUhAE9Xr95cuXrVZrNBo9ffqUMXZxcVGpVIQQ3png/GUvttYSKaWUMkmSJEmEEHEcM8YWFxefPXvW6/W01jc3N5PJRCn1+/fv4XD47t27Wq2GLWmaCiGg/DiOhRBSSiEElVKiOfARIOWcz83NpWn65s2btbW11dVVxlie54eHh69evRoMBlJKmBnsqnwgWmtpmqZaa2+9UAJk7JxrNBqbm5vPnz8nhBweHnY6nX6/DxvUWvs59KKEAOjc3BxScc4hEedcnueAwBirVqsrKyu3t7d3d3fGmKIoCCFxHMOtlVLlQ/cfUpxi3sm9yPAmiqIsyzDEYRgCDowD52DZiGfRhRD+EoBXvihsxlyA7vKNAYc+thdFgQX/Dj4k98yWpxbAZ8PHOZDicETWoij8dPprx6z7nmZ/e/BNU0qV4ftLDgzTXxv8XDnn/gNnH7fa0IiY/QAAAABJRU5ErkJggg==\"/></td><td style=\"padding:1px;\"><img width=\"200\" height=\"200\" style=\"image-rendering:pixelated; object-fit:cover;\" src=\"data:image/png;base64,iVBORw0KGgoAAAANSUhEUgAAABwAAAAcCAIAAAD9b0jDAAAEyElEQVR4nE1Wv2sUQRSeH29mZ3fP6F0sNHBYRZQQERGJXsDOQrC91lhYJf+ARRAstRKLgCBCKjtRsVCLQCBFLIQ0+XGV2iR3gUTD5bzd+bEWXxxviuVm982b9773vu8dT9O0qqqqqoQQnPMQAufce48tfjDGqqqSUnrvpZTYRhtsGWNCiBNX8BL38E5EsGaMcc6rqiIixphSCi5CCDgCMzzDvyXiPXgiWO+99z6EAFPOubUWgbN/i4jgNzoVQuCNQHaMMSkl5xxRY0kpcZKIQgjOOc45EeE9rkEScA2b/44RAjCCaVVVzjnnXFmWWZZprYGjtdY5J6VEEDADIMBHSkkIHgsh4zaAaK1ttVp37tzp9Xrfvn3b399vNBpbW1uDwcB7nyQJEXnvEalzDqcIQSmlQghKKedcrDgRXbt27fHjx61WSwjR6/WEEL9//15bW3vx4sXOzg5SAVYoHdIlKWVMoSgKBItcpJQHBwfr6+tbW1vHx8ezs7MTExOnT58+PDwkIqUUAC3LEhjGwlJ0AYBG22AwGHS73aWlJc75uXPnJicnG43Gx48f3717t7m5KaUsyzIiO9peNNoKuDB2ImPs6OgohDAxMfH06dMLFy5sbGy8efNmb28PUEaywCMIUlWViN2AD+BMLKtzLs/zhw8ftlqt4XDY6XSstXt7e7FbtNawj3QQQhCCQtVgZ62VUqK9lFKTk5P1ev379+/dbvfq1ashhH6/v7m5aYwBoDiOViMi59zJSbjGEx5RukajMT4+PhwOV1dXu93uqVOn5ubmlpaWrl+/bq1FidD8o3TixpiYL4L13gMy732e51NTU0KInZ2dNE2np6fn5+evXLmysbGxsLDw48ePJEmQu1IqcowlSZIkSZZlxhitdZZlaGkiSpIkz/Px8fEsy6SUWZZlWXbjxo3Pnz/v7+8/f/5ca12r1ZIk0VqnaZrnuTEmTVMRkwWg4DU8CiHKsjw+PgblGWNa606n8/79e2NMs9kcGxtzziml8jwHCKg+RbJDAZxzABeFqtfrkCsUAQS5dOmSUqrX6x0dHSH94XCIYpychUZA7mLHQY+FEPV6HZ+MMZzzfr//4MGDdru9u7v74cMHsB41QLXBQxHpFFUKRs65NE2npqaazSYwcc7dv39/cXExz/MvX76sr68TkTEG6FlrI3EEH1kICuKSJMnZs2fv3r1769YtY0xRFHNzc48ePSKiV69ePXny5M+fP4yxoihQD7TNSdfDPXIHKFGuoBFnzpxpt9v37t2bmZlhjC0vLz979mx3d7dWq4UQyrKMmolc/0tfvAoN7L0fGxu7ffv25cuXb968qbW+ePFip9NZXFz89OlTURRKqaIowCWEgnjhihAOpkhEAMC3223wcjAYvH79+uXLl1+/ftVaw6MxBmmVZYlejDFRFL2oCEQ0HA6ttZ1Op9lsbm9vr6ysvH379ufPn1mWlWXZ7/fjjEKwAAEz2DnHjTFxamMkYP44586fP//r1y8MFeiF1lprba2NWmet1VoDPXR3VVUczAECo1NPSjkYDBARpl6UrljD2IioO4buiUCP/g+AjqBWaZoKIWq1GmMMzIljApYAbbQe0CaKuYO2Ua6iYEeC4iWa/L/ICwFqspH1F+8J+KnsX8n7AAAAAElFTkSuQmCC\"/></td><td style=\"padding:1px;\"><img width=\"200\" height=\"200\" style=\"image-rendering:pixelated; object-fit:cover;\" src=\"data:image/png;base64,iVBORw0KGgoAAAANSUhEUgAAABwAAAAcCAIAAAD9b0jDAAAFFElEQVR4nF1Wu28TTRzc571iOzYhxkRYIIIchaAkEEWBBimIig6RioqCko4mfwodLenpUQooghSBQCJEkAIUWQ42BIPvsbePr5iwsT4Xp7vV7uzs/OY3a3rmzBmtNSGEc26tpZRaaxljeDrn/AghxDnnnBNC+DkYoZQ65/wIAyIhxBhD/v2stRjxiH4BRjyKc86vwgillBFCTt4Ywyg+CSH+6ZxTSvn1xhjsRykVQgghQAgI1loGUtjH88Js55ynzzkPggDrgyBwzv39+xe4njIQKKWCcz5O3r9DO8YYcI0xZVkaY2q12vr6utb61atXeZ4TQqSUlFKUhDEmhBBgxznHeq11kiTAxTGdc2EYYpqUMo7jhw8fzs7OUkpfvnwJ7ijdKTmQstZqrTnnU1NTjUZjamoqiiLGWK1WazQaSZJQSqWUzrnFxcXp6elarba2thaGIeecc26M8bUlhJwUChW31l6/fv3x48eTk5M40dLS0ubm5srKShzHZVnW6/WFhYXp6ek8z3/+/AndsRBlHK82k1Jiw1u3bq2urhZF8efPH0rpo0eP7t+/X6lUrLVFUSilVldXm80mY2x3dzfLsnF74viUUlGWpZQS1lNKdbtdSunc3Byl9O7duxsbG+/evfv+/bvW2jk3OTnZ6XQIIXmef/nyBVoLIaSUSilQJoQIeAKChmH49evXoihu3rw5Pz+/sbGxt7f34sWLT58+YUKn0zl//nySJD9+/Dg+PgahNE1BEwYghAjfBoA+ODgYDAaLi4uXLl2SUm5tbW1tbSmlCCFJknQ6nSAIjo6O+v1+URTGmCiKyrKMoqgoilNNKaWonTFGSjkcDnu93o0bN4qi+Pz58/Pnz4fDIUpfrVZnZmaCIEiSZGdnJ8syVKLVallrvTtPCoV2RKHSNIU6SZLs7u5qraMoIoRUq9W1tbW5ubk0Tfv9/tHRUaPRkFISQobDoVIKosNIAtbJ8xw2lFICqNFoLC8vP3369OrVq5VKhTGWJMnExESWZb9//+73+zgcIaQoCiz0nSoopWVZQlPYYHt7u91uLy0tXblyZX5+vl6vHx8fF0WBlnPOvX///uPHj4yxLMuAi1PipSxLAb201r4R3759u7+/X6/Xz507RymtVCqtVuvs2bPXrl27c+fOaDTqdruDwSCKojiO/xeSWmvGmIC5kC6c8yzLGGO9Xq/b7X779s05hyNba588ebK+vh4EQZqmtVptMBj4HPG9f5LuPq98NmutpZTIN+dcnudInNFohDmXL182xsRxDGuP5xxwmM9trbXXHpltrc3zPM9zrXWz2VxZWcmyDIZvt9vYzBgD0PFrQvhAAQvQ9MRBJ47jixcvLiwsMMZQ65mZmSzLDg4OIN34fcEYE+gwfx9AHXQ0pmZZFobhgwcPms2m1vrNmzevX7+Oogj50Ov1EN5ARFsyCBoEAU7BOZdSwnTebe12e3Z2FgnLOb93797y8vKFCxcIIWVZwvaniQfO/sLAp/eDcw47HR4e7u3tpWnKOb99+/bExIRSamdn5/DwUClF//18+p0ECuSHyxg7ubfjOC6KglI6Go2ePXvmnGu1Wh8+fNjf39/e3v716xelVGsthIDNYS/nHK3ValDaKzueWxAa2cM5HwwG6JlKpcI5h0QgMV5eWq1WPcT4nxHOudYaRE6mUhoEgVIK/WqtRSWUUkg4f1cz73wvri8iPH9qacaMMWEY+l0BjdCDARAO/wFyoe5QpslgMAAAAABJRU5ErkJggg==\"/></td><td style=\"padding:1px;\"><img width=\"200\" height=\"200\" style=\"image-rendering:pixelated; object-fit:cover;\" src=\"data:image/png;base64,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\"/></td></tr></table><table class=\"show_images\" style=\"border-spacing:0px;\"><tr><td style=\"padding:1px;\"><img width=\"200\" height=\"200\" style=\"image-rendering:pixelated; object-fit:cover;\" src=\"data:image/png;base64,iVBORw0KGgoAAAANSUhEUgAAABwAAAAcCAIAAAD9b0jDAAAEzUlEQVR4nF1Wv2sUTxSfeTOzu/fLy10OQQXlREkREqLENJZKICmCiJ2Nna2F4N9gLTaWcn9CKjs14VKEEOEaUUQEiacYuWTvdndmZ8bicxnv+93i2N2bee/zPu/zPrO80+lYa733QggistYKIbz3WusoiowxSinnnLWWiBhj1loppfeec84YY4w55xhjROSc45x778kYgxXGGGst51wIwTlXSkkppZSMMaTEfiLCej9z4S+8JyLpvZdSEhGerbVa64sXL56ennLOnXNlWWJBnueMMaQsy3IK6mwjHqeoUSwYQO3GmDRNpZRpmk4mE865lBJsYFtRFMCrlELhAIuaGGO82WyCrFlaoyhqNBq1Wu3k5CRJkmq1+vv37x8/fiRJEsfxZDJRSmF/FEVFUYTCwcaUNcDGDed8ZWXlzp07a2tr3W43iqKjoyPG2Nu3b79+/ToYDL58+fLnzx9gNMbEcay1DoUyxvjc3BxjjHOObhLRuXPnnjx58vjxY+99nufgK03ToiiklJ8+fer3+y9fvhyNRpVKBTjKsgTXaMNUHBAK/rbWvnnzZjweTyaToigmk4kxRgixtLR048aN5eXlbrd7dHT0+vVrxhjCBbWhXN5qtWZphpI453meu7OrVqvlea6UarVaz549u3fv3mAw2NraiqKoLMsgMgiOcy6NMUQEmERUliWUi3Kgc601Y0xKORqN8jxPkqRer0PRsxERAb+EO/QK0sNSQJZSFkURRdF4PF5YWFhdXXXOff78ORQXBgddmuoU4SBYBELryrIEa8Db6XTu379/9erV8Xjc6/W89xCTcw4KM8ZMYQohKpXKVLRnUwGk1lprrVJKKUVEq6urW1tb9Xr98PCw3+/HcYxlWmtjTBg27z0550BimDwQBDE757IsI6LLly8/evRofn6+KIoXL14cHx8HQwCywIb3XgIj3s56D8gNtCwsLNy6dcta2+v1dnd3G41GcCz0AyCmG4Py//P2bOCQQAixvLwspdzf33/16lXoL+JCAygLDimRJKgMv4wx2CjuO53O+vp6tVrt9XrD4RBpjDGgK/geRMoYk0AadAsxwFiBt9lsPnz4sNVqDQaDd+/ewaJmnQmB4FhTtQayUTjCIY0Qwlq7tLR09+7dJEn6/T5jDFJBxCRJsB46gQQ55/+3QkgSj4C/uLjYbreHw+He3t5oNMKACyEw0PPz80TUaDSCADjnMrgsoAU2QporV67UarWfP3+madputyHyCxcutNvtzc3NS5cuffjwYXt7+9evX2BPay1DRNgzehWoCB3odDpPnz4dDodFUcRx3Gq1rl+/Xq/XGWMPHjzodrvPnz/PsgwMyH8HC1EwaVze+yzL3r9/f/v27WvXrp0/f35xcbEoChQO0/Pe7+zsHBwc4MiZ7pybmwNYItJaQ3SIiHOFiNbW1jY2Nm7evAnb/v79+/7+/sePH799+wYHyLLs5OQkjuPpTLbbbaD7N2RShkk1xiRJMhqNlFL1er1araZpmqZppVLJsqzZbMIqiUgppbWGecpZB0P3g9zCN0CSJEAE3TSbTVR6enqKI3bWj4QQMhyEcLmwInxxBEPDUJRlqbW21lYqlXA0IWXo+RRp+DYJExI6FjwtAAdFs1IxxgAy8P0FJGz4+e6Qn0wAAAAASUVORK5CYII=\"/></td><td style=\"padding:1px;\"><img width=\"200\" height=\"200\" style=\"image-rendering:pixelated; object-fit:cover;\" src=\"data:image/png;base64,iVBORw0KGgoAAAANSUhEUgAAABwAAAAcCAIAAAD9b0jDAAAFDklEQVR4nF1Wv28TPRi2fbbvrpcoRVFFiaoi8auiVJEQCMFAxYDEhMQQwcBAxV/AP8CO2Jhg60AH1qqCgZCFDZAKgUpQhFggEqENB1F7OZ/P9jc8+UxEpsud/bzv+7zP+9g0SRJrLaXUWssYI4RQSgkhxhhCiHOOEIL3jDFrrbU2CAL/yTnHGDPGCCGstc45Simz1hJCsNSvm/zLOeecM8acc9hjjMEnSinicc79xr+geDW5wRgTBAGy29vbK8sSoEABIlCMMWVZWmujKBrjRFGEdQjia5dSlmWJfJMkieM4z3MsGI1GRVEYY/AXVftqjDHcI4I1gII7KaWU8sCBA8vLyzdv3jTGvHv37tWrV9++fev1enmeIwyKAzqlNAgCDvqARQgpyxLQzrmyLAkhP378yLKsVqsdOXJkcXHx+PHj79+/L4piZ2dne3t7c3MTjSrLklLKOXfOcUCAO7DpU9ZaU0qFEL1e7/nz59Vqtdls1uv1er1+9OhRQkin03nz5g1jbLJESilHUs450Mc5BxXoCb5ub29//PhRKTUzMyOECMPw4cOHhw8f7vV6UsrhcIgWAZEQwn1DwaPvFd6AhD9//kgp9/b2EKNer8/OztZqNcgjDEMhBLiC2Md69pKaZCAIAmut1toYo7VOkiTLMq31tWvX5ubmlFLtdns4HGIWkA34/atq1P5PKznnUsqiKECcEOL06dMrKytKqe/fv3c6nTAMi6IArk+OQ8BCCDz4ScWzUgoPoOLMmTP3799vNBppmt69e3cwGCAwhOUnmPsEfe1AwTrOuRCiKIpjx45dunTp1q1bi4uLSqm1tbWNjY2pqSnUi8I9AodIPR2QgS/EWjs9PX316tVWq9VoNCqVSp7n7Xb7wYMHUAtYgk6DIMBePrYAxhBESolKGWNRFF24cOHOnTsXL140xiilnHPr6+uPHj3a2dmJ45hSqpQCuqfVOTd2F5SAOEqpKIoqlcr169fPnTs3Pz+fpun+/v6nT5+63e7q6qrWulqt/v792xsg51xrjWZaa/nkyEMDcMaTJ0/euHHj/Pnzo9Go3W53u92nT5/++vUrTdNKpYIZkVKCMWMMQMaZeuWjY865MAybzebt27fPnj3rnOv1equrq2/fvtVaD4dDpdTs7Oz09PRgMMjzPAzDSVMfZ+rVTgjRWodhePny5ZWVlStXrnz58uXFixdPnjx5+fJlFEVxHDvnms3m8vKylDJN093dXXAdBIExBmqhlHJ/foCa+fn5Vqu1sLCwu7u7tbX14cOHfr9/4sQJ59zMzMzS0lKr1Tp16tTa2trBgwcZY2VZ9vt9wGFSKaU0SRIwwhgrimJhYeHx48dzc3MwY7A8Go0IIY1GI0mS0WjU6XTu3bu3tbXlnMvzPI5jay08E0xyDCV0K6Xs9/vPnj1bWloqy7LRaFSr1TAM4zjOsmxzc/Pr16+vX7/+/Plzt9tFr4QQWmshhBACEiKE0CRJ/ImIEqampjjnWZYZYw4dOsQ5r9VqWZZxzgeDQb/fD4IAiDjHkJD3U+fc2D0xuYQQSDVNUyFEnuc/f/6EX/gTCSx5SXoP9eVSSrmfJTCCzZgWCLBSqWitwQAcK4oiCMhfGIDr9c6ttd7ty7IEA/5oYYzt7+8DyLuBt0oMqL9q4PjBM/MBCSFFURBChBBQHDzUX0nyPPej6SfQH9S4UhBCaBzHYATCmuTIGyv9//dPvf6lnyVE+g+/Eh+XUONxHwAAAABJRU5ErkJggg==\"/></td><td style=\"padding:1px;\"><img width=\"200\" height=\"200\" style=\"image-rendering:pixelated; object-fit:cover;\" src=\"data:image/png;base64,iVBORw0KGgoAAAANSUhEUgAAABwAAAAcCAIAAAD9b0jDAAAE0klEQVR4nE1WzWsUTxDtru6e3Z5JQpKFDSErfgTESFCUEBAlNwUFQbwF9CDozb/Kg4iSQyDBg4KSoyJICPlQiEoSIixuGLOZzUx//Q5vf+32YWl2uqtevXpV1TzLMsZYCIExxhgjIsaY954xxjnHnyEEzjnn3HsvhHDODX6Nh0MIQgjvPQ1ewAdrLft/cc6JCJ5gJZ4nosF9tMs5J5yDExjCJgJxzkkpiUgIoZTC/UGL3nsiGrROMQQgl1JyzqWUESbijUGAKITsvbfWwm4MjogkfCZJ4pwDRkBjjFlrjTFKqbNnz2qtjTFHR0d///5ljPV6PaUU3IPiGJb3nqdpGj3Ap1JKCDExMXHhwoWrV6/evXt3cnJyeHjYOdftdj98+PDmzZtv3751Oh1E5r1HPojIex9CkNGi994Yk2XZyMjI4uLiw4cPp6en0zTVWp+cnJRl6ZxrNpvz8/OHh4eXLl0KIWxubm5vb+d5DlqNMfAhQVYIgYiklEqpe/fuPX/+vNls7u/v7+zsbGxsvH379ufPn3met1qt0dFRpVRRFEqpbrdbFIUQQggBC31OYTGSPTY2du3aNaXU6urq0tLS+vr6r1+/otpOT0+zLCOidrsNMRhjYpKJCImR/xRLRER5nn/8+PH4+HhpaWlzc7MsyyRJlFLW2l6vxxibmJio1WrHx8chBPxGbWE55zg8g2BjTJIkWuuqqpRSVVVBCdZaKWVZlpOTk3Nzc2VZrq2tIT9JkpyenjLGwCYCohBCTB8y2Ov1rLXdbjfKFslMkqTVat2+fVtrPTw8zDkXQhhjIkDUkfeeYj2EECA9SBp7YwwSyBhrNBrPnj27f//+mTNnnHO9Xg+h4Azs9MsUhEadIlJ4Bt24kyTJnTt3bt68yTn/8eNHURRDQ0P1ep0xBsZhsS9QRAdNQBYhhFqtFt0QkVLq4sWLjx8/npqayvP84OAAJ8uyFELgDOygrPvsxlJzziVJApWALzA1OzvbaDScc9vb23t7e977PM+11rEtQKR9ZLgWBQHp4RtjzBiDJjAzM9NqtYjo69evYDPLMtgSQiC+iLefXIi2nzsiIYS1VgghpRRCZFk2Pz9PRL9//15fX3fOWWshOyklkoO7YKDPbkw0MIITcO29v379+vnz56WU7Xa7KIrx8XE0tnPnzs3OzjabTfiuqgoOZKwH+ATGWGD1ej3LskePHmmtd3d3X758OTY29uTJkwcPHtTr9ZOTk9evXy8vL5dlCTdgViL22PdATZRIVVVPnz5dWFg4Ojr69OlTp9O5cePG4uKiEKLT6bx///7du3ftdhu8x9kjY35jq0fxgIepqalbt25VVSWlvHLlyvT09OXLl/f29lZXV1+9evX9+3fOudZ6UKpEJAcLNLKJhfkxMjKSpikandZ6ZWXlxYsXnz9/BmOYDhEm1CIBDVmL9Rvdcs4PDw/Hx8cPDg62tra+fPmytra2u7ubZRlmROzNqMahoSHvPY9zP3aAOMWklEVRtFqtqqoajUa73f7z54+1NkkSgKjVas45pCQqzFrL0zQdnLSokL7ciKqqgmAx0bTWaE44hkYRKyVOeBm1GfFiE58hSinGWJqmsAtoiCO+HgYfMs65f+Nk8AGCVhYzFnvHYC0CLOwOArLW/gd0aL4N7P1C/wAAAABJRU5ErkJggg==\"/></td><td style=\"padding:1px;\"><img width=\"200\" height=\"200\" style=\"image-rendering:pixelated; object-fit:cover;\" src=\"data:image/png;base64,iVBORw0KGgoAAAANSUhEUgAAABwAAAAcCAIAAAD9b0jDAAAFZ0lEQVR4nE1WzWvUXhR9eR/JJJOZtlDEIG3VqrTUglKRShe6UKzUVXfqoiv/At2LS3fipigi+AeIIgi1XRZs/ShDlVoYXfiBFgemzjhpMknex29x5vfoLIZkknfvuefec+44lUqFECKlZIxRSgkhuKWUaq3xTQihlBpjHMehlEop7S+EEGMMY0wpheNaa6qUss+01lJKx3E45wjhOA5jjP//cRynKArHcQgheGovgABZuTHGGEMpFUIopRzHkVJyzrXWeBUptdYIqrUulUqEEERXSgkh8BTHAZkiQ1EUCEQIsbUwxkDFyMhIFEWu69p3LGlSSpTrOA6+OQoHHMYYzgA7agmC4MaNG9PT01mWNZtNSmmz2VxdXa3X651OB+ktOhx3giBAUZxzYEQ2YCmXy4ODgw8fPhwfH9/a2oqiKEmSvr6+T58+vX379uPHjxsbG3med7tdz/PyPGeMGWM40OGmB55zpRRolVKmaZqmqZQyjuPFxcUPHz5wzg8cOHDy5Mn5+fkjR468e/fu69evSimE6jUKfQA0MK21Vkrh9u/fv58/f56cnEzTdGlpaWdnJ8/z/v7+Wq02MzNz7NixU6dO/fz5s9PpoA1SSoqTlFLGmMVrm26MEUK4rjswMJBlWbvdNsa4rvvv37/fv3+vra0FQTA9PQ0OjTGcc4rYFmyPZsdBdFDMOR8ZGYnj+MuXL8iXJAna8OvXryiKjh492m63KaWu6xZFQQihCAG8nHPGGLokhEDaarV64sQJxlgcx0mSEEIqlQq48zxvaGioWq1qrSuVCmMMM0tRKSAgDzBKKaGuK1euHDp0qFarbWxs4IUkSVzXFUL4vo8oSqm9vT0ooidT2yVjDCZOCIHr4eHha9euxXH8+vXrzc3NoiiKoqCU5nlOCCmVSlEUtVotxpjv+51OB+xxyBzTjpzWOHzfX1hYiKKoVqu9fPnSGFOpVLIsg/Uopc6dO+f7/ps3b5IkkVK6rouKqTUC8ACBU0o551NTU9evX0/TdHFx8fv371LKPM9d10VNYRiOj48bY759+yaEYIzleQ7Gel6HeYKb4Iznebdu3RJCPH78eGVlJQgCqK4oCqVUt9u9ePHi3NxcvV5fWloCQBgNiu6ZIGzRop6ampqcnHz//v2rV6+AwnIipZyZmZmfnx8YGHjx4kUcx7CVOI7RZGpbv9+iKpXK7OxsEARra2t//vwBWbDnTqdz4cKFu3fvjo2Nra+vP336NMsyeLbv+3A/ji5bLTHGwjAcHR2NoqjZbDqO43ne/hZdvnz59u3b5XJ5eXn5wYMHu7u7QRBA0zhOCOF2i6C6NE0HBwdnZ2f7+/tXVlZ2d3dHR0ehzqtXr166dOnMmTOtVuvZs2f3799vNBrVahXjZf1Xa82tmSJutVo9fPjw3Nxco9HY3Nxst9vVajVN07Nnz968eXNsbGx1dfXJkyfr6+s7OzvAiH2TZZl1Va6Ugp/jo5Q6ePCgEGJiYkIIkSRJu91utVqnT58eHh5+/vz5vXv3tre3Yd5SyqIo7O6xjsytp4AOSmmSJEVRhGE4MTHh+34Yhj9+/Miy7M6dO8vLy/V6PQgCYwyGDzJFoQhNKXV837e7k3Pe6XSOHz9+/vz5hYWFvr4+z/MajcbW1tajR4+2t7e73W4YhnZgsCKLonBdd//edsrlMsBiQrHL2u320NAQJLS3t+d5HoRnjEFblFKlUgn6EUIgImBqrR38mUBmz/MwHEVRWI27rgsDRnV5nsNxcI2Bw3haO6ZKKSnl/i2PJpZKJVit1rrb7RJCwBK0n+c5XpNSYniQuLfogiAAZsus3dJ26VtF4wJVo7E2kP1fRAj5D4GDLuT8yC1jAAAAAElFTkSuQmCC\"/></td></tr></table><table class=\"show_images\" style=\"border-spacing:0px;\"><tr><td style=\"padding:1px;\"><img width=\"200\" height=\"200\" style=\"image-rendering:pixelated; object-fit:cover;\" src=\"data:image/png;base64,iVBORw0KGgoAAAANSUhEUgAAABwAAAAcCAIAAAD9b0jDAAAExElEQVR4nE1Wu24TQRSd151ZPxPjoBjkyBERCZIrKgoQkaADan6A/+BfaFA6ilQRLQ0VBSISSCiRZSCRDWtE7PU8dofimMFbWLPjuc9z7pnl169fL8uyqirOuRCCMRb/PYwxpVRZlmmHc66U8t6nw0KIqqpwWAhRlqUQQoQQYFBVVVmWcIEYjLFkzzlvNptEJKUUQhARzsQY11PhnFdVJVIQKSUO4RUn4LcoCmRtrS3LEvuccyxgkqyklArvcBFjVEohZa21974sSyllr9d7+PDhs2fPrLUvX76cTCZaa1hVVZWqTvEU8sffUkqEYoxVVUVE+/v7Dx48uHXrlpRyZ2dnOBy+efPm7du3gAEekwkRhRCEEKtMOefwGGMMIRBRu93e2tp68uRJv9//8OHDu3fvbt++/eLFi8FggDwSVs45tM5aS0Tee0VE7N+DyMaYbrd77969Xq83Ho9fv349n8/H47G1dnd3t9frZVkmpbTWwrVSijFWFAV6orVeNaIsS8aYMQa/3W53OBx+/vz56OhoNpstl8t6vX7z5s2trS1UGkIwxqQ+xhjr9Tqgq6pKGWOyLGOMXV1dee+997PZTGv96tWrb9++cc7n87kxBhm12210MISwXC4RAPkCNyGE915Za4uiSCyJMRKRtTbP80SvxETvPRH9+fOnVqtlWWatXR8WrbVzjjEm1kOBz8gCp7MsU0rFGBuNxnQ65ZxvbGwQEQiHQUiEdc4BPZVoHELg/x7nHGrBZlVVSqmDg4Narfblyxet9XK5TOOEY1JKpRTg+d8OGMcYkxRgHWN0zgkhbty4EWMcj8fee5hIKTEpOGmttdbGGFd0gxdUChFBAFRnjKnX6wcHBz9+/Pj69et8PrfWYmqhL8kchQqICMgvpWw0GggDKbHWaq1jjHfu3Hn8+PHx8fHp6enm5qZSarFYxBiBFREBIiIiIoXy4RcEQl8QudPpOOdCCI8ePer3+0dHR957DAhKwbwAmBAChmrlFJmHELBI5OWcX11dbW9vHx4ejkajjx8/KqWEEM65qqowLBABcHaFfoII5ac0QaO9vT3vfafT2dvbOzk5EUI0Gg2l1HQ61VqDG8gXWEHkVgkCxzSvKERrfffu3aIoZrOZlPLXr19EJITI8xwJZlkG/tVqtcViAdsYowDc61KtlNJaCyFardZgMBgMBqPR6OTkJM/zVqs1mUyklMYYpAYRaLfbUsp6vV6W5f+erkgrBNLEwHz//v3y8vLi4qLf73c6nefPn3POj4+P8zxvNpvGGGNMv9/f2dm5vLx8//79eDw2xnjvVRp5KSV0Hikwxlqt1s+fP0MI+/v7w+Gw2Wzev3//8PAwz/OLi4tarXZ2djadTj99+nR+fm6t/T+T165dQ+2ACwsims/nRLS7uzscDp8+fdrtdoG+c04pdXZ2NplM8jz//ft3URTohnMOVOObm5vrHvEQUbpWG43G9vb2aDQCnXGPEhEKSoKPpq02u90uCAynaCvKB8lwuywWizTpWmv0CghDnNbvV5EuErAhTT2gA8+stVC5dKFh3tFHYwy8J6gVSJo0BVOQ5BUF4tqADfQ4jWbKIzVE4FsjfZ5AVtI3C5iQVBwsxu22/m2Cf5MJY+wvW6rpNFQvLi0AAAAASUVORK5CYII=\"/></td><td style=\"padding:1px;\"><img width=\"200\" height=\"200\" style=\"image-rendering:pixelated; object-fit:cover;\" src=\"data:image/png;base64,iVBORw0KGgoAAAANSUhEUgAAABwAAAAcCAIAAAD9b0jDAAAFBklEQVR4nF1VTWsUSxStW1VdPdM9zvRkJuooSDCQqKuACcZsjEFchGwiCLqKiP6H4H8QsnLjIm50ZRYRVMgiqxAEvyALQfwgaBIVzWQycUh/VdVbnHn1htebmenpuvfcc849TZVKJc9zKaW11hjDOTfGaK2llERkjLHWcs5xnzEmhMADuGOtFUJorYmIiBhjjDGJQtZaIrLWaq2NMUII9u9FRP97ADfRDIWEEESETtZabq1ljBljAERKiT8YY5xzIYTneQBirZVSMsbQgDGW57lrY4z5bzI87eCgG7DkeU5ESZIAuJRSa10oFNC4tz0q4uKcSzeL1hqHOeco53leEASNRmNzc5MxlqapECLPcyEEmEV7h0AIAU4kPgAWg6RpqpTq7+8/d+7cnTt3JicnW63Wu3fv1tbWVlZWdnZ28Bja9zIDTowxVCqV8Df4IiKl1MjIyMzMzPT09KlTp/78+VOr1YQQzWbz9evXDx48ePnyZalU0lrDJFprx3IX35EjR8CFECIMQyIaHBwcGxsrlUpKqampqb29vVevXimlbty4EQTB0tLSvXv3MCxE66UV37tI8cNaG4bhyZMnC4XC1tZWEARpmh4cHBhjwjB88uTJ6Ojo2tra9evX0zQNwzBNU6BzhkUzCcoB3lrb6XQ2NzezLGOMdTqd/f39IAjyPO/v7x8YGEjT9M2bN0mSSCmzLIOHeo9DGAl7Qj5sDshSSjHGyuWy7/t9fX03b96s1+vNZvPFixee56GW53nYQ1R3uyAxOBzuWjnDG2Nqtdrs7Ozc3FySJI8fP/7y5QuWAu0xO7yFdc/znDtnOPXRkIh83z99+vSVK1cmJiaiKGq3279//xZCQIYsyxw0yCWlxIpL2B4dUMsYk2VZGIZnzpy5e/fu8PBwX1+fMaZSqVy9ejWKordv366vr6dpCgMppZIkwYhdz6IDVqA3AaADMuzTp09SyhMnToyPj58/f35nZ+fhw4dPnz5tt9tKKaDDQcxK5XLZadV1GRERSSmjKIqiKM/zTqfTaDSmp6dHRkbGx8cLhcKPHz8ePXq0sLCANHCx0jWsM78L017bwhW+7xcKhYODg2q1OjMzc/v27cHBwe3t7fn5+fX1dRdp1to8zxljHCkAQl1EwsmoCG8dHh5yzvf391dXV5eWlrC7t27dchHsdCMijkxECQeTc45t8X0fEKy1nucppX79+rW8vPz58+dyuQxXYP0553EcdxOgNxZd9LnXBsDCwnEcHx4eFovFZrP54cOHVqsVx/GxY8cgLAbv6uF0d0wzxpCtnudxzovFIp5OksQYE8fxxMTExYsXoyja2NjATWOMUgoDEZGEXjjmVg20pmlarVYrlYrW+ufPn5zzgYGBy5cvz83NnT179tu3b8+ePdva2nL7CvNrrbuwUQuDG2OklEIIePPChQvb29uNRmNoaGhqaurSpUu1Wu39+/f3799//vw5dEZWJEnSPe70cS8SB/b48ePXrl2bnJxE9Xq9/vfvXyHEysrK4uLi6uoqToGlOI5BIxFJ+Jz1XCA3juPd3d1Wq8U5P3r0aBRF379///jx48bGxvLy8tevX+FC3/eTJIEGzo4UBIGT2+UYfoKZer3ebrebzWaxWIT5fN+HJaAEogPPd6MPDsXgMIejGJ7f29vLsqxarWKIOI5dVrjXO5DiOxFJlEPAOMOCcs/zkMcuXxw/7j2KU04MCPUP/rTCVJaNdCUAAAAASUVORK5CYII=\"/></td><td style=\"padding:1px;\"><img width=\"200\" height=\"200\" style=\"image-rendering:pixelated; object-fit:cover;\" src=\"data:image/png;base64,iVBORw0KGgoAAAANSUhEUgAAABwAAAAcCAIAAAD9b0jDAAAFcklEQVR4nF1VS2tTXRQ959xz7u1NzANNoRDbSCuNSgn4pD7BDtR2LjhxIjjoRPwP4kwc+QNEBwoORBCKKOnASUtAKoVITUuxam3eaZo293HOuQ5Wv2P5Mrrk3r332mutvTdNJBJaa8YYIURrTSklhBBC8KC1jqIoiiLLshhjYRhGUUQp5Zzjf3yJQLxijDGEaa1NarzQWiM7IpGRc84YQ0bGGKXUsizkOoiDUUpNEbxQSiEjygCjUsqyLCmlwSilVEqR/37Au4/AdIFcWmtkIYQg/iAcFMZbQEZ5wOKc40uGZg8iRU10J4RAVXwjpQQPqLTPIGMmCv9wQxmqoWt0FIYhyNVa27Ydi8WCIPB937Is5EU9znm/34/H4yaQm74AB9WUUpRS13UzmcyxY8cGBgaCIEin0zdu3KhWq+VyuVKpbG1t1Wo1IYTWOpVK9ft9dBNFETdMW5YFQsGmEOLo0aOFQuHMmTNDQ0O5XG50dNR1Xd/3f/78yRir1+ucc8/zlFLtdnt5eXlhYWFjY6Pb7XLjG/CltVZKOY6jtc7n81NTU+Pj46dOnaKUOo4ThuHy8rJt22fPns3n82tra41GY2lp6devX2tra+vr661WixBCDx06BMdorSELKFZKnT59enJyMpFIrK6uxmIxznmn01lZWZmenj5//nyj0djZ2fn06dPv3787nU6r1fI8D2pzmEkpBQOBTVC8srJi23ahUPj+/Xu32+Wc1+t1rXWxWNRaX7t2rdlsHjlypFqt7u7uep4Hq+0LBUIxVwflYoxtbW1RSlutVqvVchwnnU4XCoVcLnfz5s2hoaFkMlmtVldXV4MgwLBJKQkh/H/TGYYh5OKcj4+PDw4Obm5uttttSmk2m52dnb106VKtVut2u6VSaW5ubnFxUUrpOA66hAH+qQ+HwtK2bSeTyXg8HovF4MFms8kYu3z5ciaTWVhYKBaLxWKxWq0KITjnUkqzXKIoYvCQ8S2ewzCs1+uNRuPixYv379/PZrNjY2O3b99Op9Nfvnz58OHDu3fv9vb2bNvGIJlAbAMOzPAwRIeCURRtbm5ubGzcvXt3Zmbm27dvJ06cEEL8+fOnVCp1Oh3XdS3Lsm3b933OOWaMUiql5ACslIJElmVhIVFKt7e3l5aWrl+/fuXKleHhYc/zOOdTU1OO47x+/bpUKvm+7/s+pRR5CSFYY/uSCSFQx/M8IcTu7m4sFmOMXb16dXh4uNvt9vv9SqXieV4ul5uZmTl37tybN2+ePXvGGOv1ekIIs22VUhx+Al7UwURRSu/du3fnzp1kMlkul9+/f7+4uNhsNg8fPvzgwYOJiYlMJqOUAnycBjDJGKNABCuA0CAIhBDT09NPnz61LGt+fv7z589zc3Pb29sAkkqlJiYmjh8//vHjx1qt5vu+bdtSSrOnORg05wE1L1y48OjRo2w2++TJk7dv31ar1UajgR3c7/d7vd7Xr18bjUYsFgNSqG/2Mjds4qhxzkdHRx8/fnzy5MkXL168fPlyfX3d3IJ+v+84DiGk2WwGQTAwMGCERUZA3p93rbXjOIlEYmRk5OHDh7lc7vnz569evfrx4wfWguM42JhKKWjieV4QBNADixxVCSFcCCGEsCwrlUpB2Vu3bkkp5+fny+VyPB7f2dkJggCJQE4QBOgMdAkhoAq+AQgOIPl8fnJyslAo7O3ttdvtwcFBLFAYG+MQRRFyQRD4X0oZhqFJbVkWTSQSmC0hxNjY2MjICEZYSlmpVGq1GixtvIGxRnO9Xs8Y3hxqxhh1Xdcg11oHQeC6rud5rus6joNVa5YFNFFK2bZNCMEONeb5d/fNcTe3GzGYNHPWgQiy4JrhrJpwc94JIX8BxcH3vnsRh9IAAAAASUVORK5CYII=\"/></td><td style=\"padding:1px;\"><img width=\"200\" height=\"200\" style=\"image-rendering:pixelated; object-fit:cover;\" src=\"data:image/png;base64,iVBORw0KGgoAAAANSUhEUgAAABwAAAAcCAIAAAD9b0jDAAAEjElEQVR4nGVWTUsbXRSe+zlOJokEjYtYgiQBEWsRK6ELQbvqwlWLbty5abvJtn/BjeAfcFN/gKtSKC4CBUGiLY0IFQ2ihaYfhJqFhszcOzPv4knPG97XxTDeuec55zznOeeEpdPpJEmcv39CiCiK8M45dxwH/zLGkiThnMdxHMexEIIxFkUR7gCBMQZDGccxToUQgIB9kiR4BzoO4zjmnHPOAYdDXCDcJEk4Y4wxJqV0HCeOY/gHHPwJITjn1lrAUaR4ARayIVwJUNgDAuiccyklPJNXJISvyIYuwNPAdpgORAQ3dCiECMOQc26MYYyBTUqLcw4s4oFzLqkaCAG3EXWSJFrr6enpWq2Wz+cvLi62t7f//PkzMjISBAHxCPcwR8gSWQzfIDeMsSdPnmxtbU1PT0spFxYWXNd98+aNtdZ13fv7e0qZchoUCvBEDWPMWovSF4vFWq1WLBbPzs4uLy+jKJqZmXn69Gm/3+/3+0oppRTVA2FZax3HGfCNMIkXxlgmk3nx4sX8/Pzt7e3FxcXh4WGn08nn80tLSwjKdV1oi8yJcUmKhezh2VrreV6hUIiiqF6v1+t1xli5XC4UCpVKxRgDWilAgCLMf0EpCzwZY8aYd+/enZycNJvNm5ubbDb77Nmzcrn869evVCqFTEFXFEVSShQG6cphrVHb4NlsNo+Pj40xvV5PKTUxMSGEOD4+RlykSrIiqcnhJhv4kdJaGwTB3d1dv9+PomhkZGR2dvbBgwdBELRaLcdxgiAg3pClUgqxCyEkOg/QpASlFPHreV4ul9vc3PQ8r9vt/v79G0pClSg/9DHC4pT4cPxgALrRWler1cePH3ueNz4+vri4mE6njTED9XCOig9XjJMr+EH8eEGbKaV837+6ukLKL1++fPXqVaVSwQVq1uFisHQ6TbzQ0IMB8ZtKpSqVSrVaXV9fn5ubu76+3t/f//jxY7vd7nQ6wKKCCyGY7/uDt7+I+CyEsNYaY6SUYRhqrXu93uzs7OvXrx8+fNjr9d6/f99oNM7PzzHAwjCEJJIk4VR9GslAN8ZgoOAphPA87/v371+/fvV9v1QqTU1NTU5OxnEMEvDk/xm6YGB4gsGz1pox5rqu1npsbGx5eTmbzUopv3379vnzZ6UUAsL8xQiWKEsQBK7r0rhF1gh5dHQUsrXWbmxszMzMRFF0dHT04cOHbrcLhaKzcT8MQ06Di2YwtR0+ZbPZXC53d3e3srKytrZWKpUajcbu7u6PHz+stUiRRkm/35cwFkLQkqDeBwPGmFwu5zjO8+fPV1dX8/n86enp3t7ely9fIDhSKy1EY8xgSGutjTHD2xj+U6nUo0eP1tfXs9lsOp1utVo7OzufPn0CImkcVYX5IFKcDm9wVDNJEqWU67rlcrnb7R4cHLx9+/b8/JzWojGGJgbiHWziTCYDqRtjtNa00KlrwzBMksT3/dHR0Z8/f7qui3PcRAvREgKZnBqUcx6GIa1SmkBaa611GIbtdtv3fegRi+//dMGHRBZQKw0Fcuu6rjFGKQV/aBva/sM/OGgIOI7zD4lu2U2keQnoAAAAAElFTkSuQmCC\"/></td></tr></table><table class=\"show_images\" style=\"border-spacing:0px;\"><tr><td style=\"padding:1px;\"><img width=\"200\" height=\"200\" style=\"image-rendering:pixelated; object-fit:cover;\" src=\"data:image/png;base64,iVBORw0KGgoAAAANSUhEUgAAABwAAAAcCAIAAAD9b0jDAAAE6ElEQVR4nFVWu2tUTRyd972bu7tRNiw3jQtJUAshiljY2BgIokQQbCwSglgErAT1P7CVdIJYKTY2YhFRSBWMQZuQJUoKm4hRRDdkTdyd91ecOMl3i+U+Zn6Pc87vzNJarRZCiDEyxgghjDFKaTx0UUpDCHgfQqCUEkIIITFGznmMMYSAjXhJCBGUUjwTQpxzaT8hBCEopZxzSqlzDlEIIUiMBWk9PsUYmbU2lSml5JwjBGNMSskYQ71Ihk+cc0KIEIL8u1IyLGapX3RBKfXeG2O899ZalMA5R8QQArJmWSalNMZYaznnzjlsxHqWYMrzPITgnEOqhMB+R4wBX6211to59/fv35GRkWq16r3HV865955zzoQQMUbEUkqhwcQD51wIEUIwxvT7fe99guL06dOXLl26cOHCwMBASoluhLUW3EEDh3nArzFGKdVsNsuyjDF2u13v/fj4+PT09PDw8Pv37zudTrvd9t4nfIVSCt055xhjQggABAS895VK5dixY/fv3z937hwhZGVlhXN+5syZoaGhfr9vrd3d3e31ejFGIYT3PoQg0AvYRzbvvRCCc26MybKsLMu7d+9euXIlz3NrbbPZHB4eLsuSEKK1Xlpa+vbtW1EUAAfNCUgaAFNKjTHQijEmz/MjR45cvXr18uXLQoitra0vX750u92RkZEQwvb29rNnzxYWFmKMUspE5oH4AT84gURwPzExMTMzo7VeXV19+fLlzs7O8ePHx8bG8jz//Pnz/Py81jrP86R88MEwSHgFcWBynHNDQ0PXrl1rNBobGxsPHz58+/at9/7ixYuNRqPb7T5+/PjPnz9KKe99UiimQKRxSnSzf1eWZRsbG865p0+fvnv3rtVq3bp169SpU865Dx8+fPz4sSgKSBuIHYinVqslOFBmSiilrNfrzWbz69evjLHbt2/Pzs4iyvXr19fW1iilkLlSSmud2hdAE3OF3wNlCPH9+/ffv39nWTY1NTU5OVkURa/XW1xcXFtb24ePMWgZktrXZeo9cYdxwERyzouiOHHixM2bN8uy/PXrl9Z6cXGx1+vV63UgBiZSmQeY4nNy0mQxeZ4XRXHnzp2yLGu1mlKq3W6/efMGQKE6KBI3lUrFey+SoSAbJAVPMsY452ZnZ8+ePQtDev369fz8/Pb2tlIKRaTGMXsw0v+ZNFwyORMENDMzI6VUSv348eP58+fr6+uo6LCBomrnHDBlMUZrLbjy3oN9773Wul6v37t3L89zznmv11teXl5fX2eMVatVkJ6mEf60t7eHyhiqQ71CCPgI6p2bm2u1Wtj58+fPpaWlra0toGmtTUxIKdOpkw4FgdIgo2S0J0+enJ6eds7t7u7u7Oy8evWq3W7DaNAWggohtNYAEIZnrd03upQKoGRZduPGjUajoZRyzj158uTRo0f9fh8u7pxTSuEgQcmgGjgwsJxoQX6tdbVaHR0d7XQ61trl5eUXL16gHBxcjDFjDBSaGE6GwhIuODycc8aYoigGBwfr9Xqr1ep0Og8ePNjc3KxUKnt7e4fnMnk5mDg8YLQoCjygeCklgDt//vzY2NjCwsKnT59wdkIxAwMDWA/NJNNIbsI53w+KytPhLqXUWvf7/RDC0aNH0Sam9vDggVj8z0hTzhij1Wo1RUzqA8S4R19prtETvBGml47oFOQ/sZkH/9+OYI4AAAAASUVORK5CYII=\"/></td><td style=\"padding:1px;\"><img width=\"200\" height=\"200\" style=\"image-rendering:pixelated; object-fit:cover;\" src=\"data:image/png;base64,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\"/></td><td style=\"padding:1px;\"><img width=\"200\" height=\"200\" style=\"image-rendering:pixelated; object-fit:cover;\" src=\"data:image/png;base64,iVBORw0KGgoAAAANSUhEUgAAABwAAAAcCAIAAAD9b0jDAAAFOklEQVR4nF1Wy04UWxvdt7pSXdBNrFaMIVEQBxpNGJgQGRJl4As41IGP4MQX8FEcmRgJmGikgw6UEVGi0QSEiE1s6Qtd1ZfatzNY/Ps/OT2oUM3e6/v2Wutbu2mSJNZaQghjTGvNOddaCyGMMYQQay3+i+8ZY9ZaxphSilJKCHFPY4y1lnNOKWV4sdbiD6w2xmitKaWAwFK3H+h4dYjGGMYYIURrzSilnHMUEUJghVKKMVaWJdrEHuBaa4UQOA1QUNXzPPq/D0NlnBfHxyJsttZSSrGZUqqUAi0OHaSBKDwppQKlcHZso5QKIaSU+BKI1lqtte/76FoIgdOg5L8rKaUYVjsp0KlSCmxEUQS6pZSgCFiMsTAMUZJS6nkeNERDAnCOHTANlTjnRVEEQRDHcRzHWZZFUXR0dHRycsIYy/M8DMPRaBQEgdYataGKcFxIKaMoqlarly9f1lqnaRqGYRAElUrlxo0bCwsLw+Gw1WptbW11u90wDKvV6u/fv9+9e6e1NsbAIeBBOC6MMVevXn327Nnc3BwhpNfrxXEcRRE0TJKEc57n+fz8/Onp6cWLF7MsazabRVFsbW2BOmdqAa9prScnJx8+fHjt2rU4jk9PT2dnZx39vu/neV6r1dI0vXnzZqvV8jyvLMsoilZXV5vN5sHBgdOWMSacw4MgEEIIIfI8j6Lo169fMzMzg8Gg2+3CFZ7nKaXArzEmiqKiKM6fPz87O9tut//8+QMEa+3/3T4cDj99+rS4uJimaRRFaZru7+93Op03b958/vy5LMtKpbK8vLyyspIkCXYJIV68eEEIWVpaarVa29vb4/HY8zyhlBJCQMHnz59vbGxcunQpy7KTkxNjzHg8brfbvV5PSpmmqRBiZWWFcx5FESHk27dvR0dHRVEsLy9TSgHCGBOcc4ygEGI8HjebzU6nA2+XZUkphW845/V6/dGjR9PT00EQtNttKeXa2trOzs7U1NTu7q7necYYPBn0cjEBvgeDAaaQc47Zr9frjx8/vnXrFiGk1WqFYdhsNjc3N40xnU7n+/fvw+EQiPA7QwpgKGEGRIabTkrp4uLi0tJSv9/HvJVl+fLly36/jyaKomi325VKBZ5lDgu4nHMXqXhi5LIsm56e9jxPSlmr1fb29hqNRp7nGGjP8w4PD8fjMY7FXKAB0U2bS1hr7czMzNzcnFLK9/0kSRhjGxsbOzs7xpggCKy1RVEMBoPj42OAMDem+EAxJAiggyCo1+vXr18HnJSy1+utr6+XZUkIGY1GLh4ZY77vW2sZ2jwLV8YQNvCD7/tg4+7duwsLC4glQsjm5uaPHz/CMIQdCSFSSqyEHuzf2Q6VsBRTZK2dn5+/f/9+kiTD4bBWqx0cHLx//344HKJrJ4PbdcYpVIKOLvCVUjj4gwcPrly5As8eHh42Go3t7e2JiQljTBiGCCetNdJAKaWUOkspR0JZllLKOI6npqbOnTv39OnTe/fuUUonJiZ6vR4hpNFo/Pz5kzGWJAlohT3g/LMId4igg3MOQev1+pMnT+7cudPv9z3P29/fHwwGa2trHz58gIfKsnT3EDTA+Gitz662/0h/4cKF1dXV27dvx3FcrVZfvXq1vr6e5/nu7u7fv3+hGHId4oBfJ5RwvwDc7U8pHY1GrVbr69evWZa9ffv29evXe3t7xphut4tZxLxhfqAKoKC5cNK7m0splef5x48fi6I4Pj7+8uULTloUxeTkZFmWLoNcm+5XAV5pkiSu2n/CRUpJCInjGAntvOHmAk24CwJOl1L+Axh4KKx9/WGjAAAAAElFTkSuQmCC\"/></td><td style=\"padding:1px;\"><img width=\"200\" height=\"200\" style=\"image-rendering:pixelated; object-fit:cover;\" src=\"data:image/png;base64,iVBORw0KGgoAAAANSUhEUgAAABwAAAAcCAIAAAD9b0jDAAAFQ0lEQVR4nE1WPW/TUBT1e34f/orTtEDSUlpoAaVIICEEQYy0S8SAGBBMbPwBmPgp/AUWJIRYAgtCYqB8DBSpqipHtBkIqtKEOnb8bD+GEz3Fk+Ncn3vveeeeaxKGoda6LEtKKSGEEFKWJSGkKArbtvM8tyyLUloUBQIopVpry7LKsrRtW2uttSaE4Mk0Ms/zsiwRBwhzgyDbti3LwvtIRggx92VZlmVZFIXJRClllFLLsrTWiEYc7jnnZVkiVGvNGMPDPM9RtekJlQLKsiyK13ChfVQnhEBarTWlVEqptc7zXClVFAX6Y4yBhKIoGGMoTmtNPM8zrKEvxphpBzlQjmVZUspKpcIYi+M4yzLXdYuiSNPU9A5Qhlq01rPNIodhE4Vwzi9durS2tnbhwoUgCAaDQaPR+PXr1/b29uHhYZZlIJoQwoBI6ZQHMIVGUCPyUUrb7faDBw+klBsbG0VRCCHG43G1Wv327RuKNUQzACEJagTfOO48z33fX15evn79+qNHjy5evIiHSZLYtl2tVmu1WpqmQgillCGBoVNQDnSjB8ZYGIabm5vtdvvKlSue50kpHcc5Pj7udrtCCMbY+/fvkyQZjUb4CRkwwOMcjIyBGwRBs9m8d+/ezZs3tdZSSsbYaDT6/Plzp9NxHGdubm53d9e27UqlYoSotWZGRhAHusB/WZbFcbyzs7O4uBiG4fHxcb/f//79++7ubhRFi4uLQRCcPXu22+2CQ8iGEEKCIDACmJ1IrbUQwvM8zvmpU6fCMLRtO4qiPM8555ubmxsbG1LKTqfz6dOnPM8h3mmleZ4zxmapNIOhlIrjGOVHUaSU4pwvLCy0Wq3Hjx+fOXPm69evOzs7JycnjDGlFBBxGAw/IExoE+InhMzPz6+urlqWNRwOwzAMw7DRaFy+fPncuXNlWfb7/SiKMEuMMWMdU51CQJg8c1CO41y7du3p06eQ5NHR0cHBwd+/fyE+x3Hevn0rhACWUspQRwGhlEqShHOeZZmxCaWU67oLCwvLy8tpmu7v73/48OHNmzecc87579+/oyhKkgSkwRxs26aUMhw96rIsy/d98AgSOp3OwcGB4zj9fr/X6xVFEQQB51xK2e124zjmnANhMpkYl2CUUnhPrVZbXV0timJ/fx+DrJRSSv348YMQkuf5ZDIRQly9erVer5dl2e12jZ8Bcep7lLI0TYMgqFarDx8+vH//fq/Xe/HiRZIkQggp5Wg0cl13PB7bti2lrFard+/ebTabRVFgZYBQjIzZAsx13clkwjlvtVorKyu1Wq1er4OBwWAghDg5OaGUOo7TbDa3traePHmCZHEcJ0nied5kMjFrBouA5XmutU7TtNfrra+vR1F0586d4XDY6/Xm5uaklJZlnT9/fm1tbWtrq9VqQTq9Xu/jx4/gBzKHlWA+SRiG8KR2u/3s2TN48JcvX/78+RPHsed56+vrS0tLQRCcPn06jmNK6atXr969e/fz589///7hSI2BgAfi+z50V6/Xnz9/fuPGjfn5+UqlkmUZ7FkIAd0MBoM4jl++fPn69WvHccy6xexgXaJq4vs+3DBN06WlpVu3bt2+fXtlZaXRaDDGsizb29vb29sbjUaHh4fb29tHR0fQr1LK87zZRQL/1FoT13WhWErpeDxmjCE/+gqCQCk1HA5d15VSYo+ORiOEgUBr5ppuFN/3MfhCCBgg3izLEtsY5EgpJ5PJrHEg6+yuNp45/SoRQszmpJRi05kDBS6kwxgznzMGCy9OFx0qRVqz/c23haHfrFjOOXgElvHi2UX3H3Qk7fzv+W15AAAAAElFTkSuQmCC\"/></td></tr></table>"
            ],
            "text/plain": [
              "<IPython.core.display.HTML object>"
            ]
          },
          "metadata": {},
          "output_type": "display_data"
        },
        {
          "data": {
            "text/html": [
              "<table class=\"show_images\" style=\"border-spacing:0px;\"><tr><td style=\"padding:1px;\"><img width=\"200\" height=\"200\" style=\"image-rendering:pixelated; object-fit:cover;\" src=\"data:image/png;base64,iVBORw0KGgoAAAANSUhEUgAAABwAAAAcCAIAAAD9b0jDAAAFLElEQVR4nE1WS2sUTRStV1d3z/REu6FJog4KMYsYxSdIJEMWEjduxE32/hiX+QGu3Qi6kLgwoAgu3IkggkyUBKImMWbiJJnu6Uc9vsUZ65tZFNXdNfeee+659xaNoshaa60lhCilfN+31mqtOed4SSk1xlhrhRB4QwjRWjPGKKX4Sv798MjwjTHmvjHGhBDYWGs555xzQoiziA1jjDGmtTbGUEqttc4UU0rB4alTp6SUQghYsdbWdU0IKcsS/hhjDpEQAqAopdgLIfBICGGcc8/zpJRxHF+4cEFrjUPWWkop5xxRe56ntXYY67o2xiilOOdKKWutUup/l4QQznmz2Zyfn0+SJMuyX79+eZ4Hi1jrutZaw5xDDZaqqgIIEAootNFo4FUcx4SQP3/+GGOklDg0flQpNZ6cRqOR57nnecgbkjnyDSzGmMFgMBwOwQaSi4yDSmQM1hljnPM8z5VSZVlCNiB0YmJCSikIIcYYz/PKssRpGAWDxpggCMqyLMsSDhCZEGI4HOJYu91WSlVVNRgMwK8AePwfKKqqQshCCKVUXdezs7MzMzMXL15kjG1sbERRtLu7a4wpyzLP86WlpcXFRcbY2traixcvgiAQTivQ5ohpSj3PA4lpmt6/f39lZcVa22w2t7e3e71eURRTU1PtdltKqbVutVp5nm9tbT19+lQpJUCWMQY8whDyI4SIoqjT6Tx69OjMmTP7+/tBEHQ6nf39/ZOTk+npaaVUo9GAj5cvXz579gylKJAQQojv+1prMABCPM+7evXqwsJCGIa7u7urq6t5nq+srNy6dSuKooODg4mJifX19Y8fP66vr3/9+hWpN8YI2HYCdORKKRcWFi5fvjw3N5em6ebmZrfb3dvbm52dvXTpkrW22+2+evXq9evX/X6/qiqkiBDieZ5wugMJAMgYm5mZuXPnzs2bN+M4Pjk5SZJkeXl5Y2Njbm6u3++/f//++fPn379/7/V6VVVJKZEMKSV0IhA12ERdJkkSBMHe3l5RFHVdIxsPHjzI83wwGKyurr558+bw8PD4+LjZbEIknudxzkcF1mg0xsPXWvu+b4wxxvi+PzU1dfv27bt37y4vL4OZDx8+PH78+Nu3b9BcnueuRqD3uq5HzcYYU9d1EARCiLquKaVlWVZVVVXV379/v3z5cnR09PDhwzRNf/78ubOzA2gIfLz1IVejhuTq3ff9MAw55/1+P0kS2D08PJycnPR9//Pnz5ubm71eT0oppeScF0WBZIx3awEP1lopZRRF8/PznU7H9/2yLLMs63a7YRhev379xo0bxpg4jouimJ6eRtTAhRViGnUvyMj3fUppGIZLS0v37t1L0/To6EhrfXBw0Gq1giAAWVtbW1BPWZaccydH6NrtRw0Fh3Z2dj59+nTt2rU0TZMkYYydO3eu1WodHx9TSn/8+PH27du1tbUsy9Dn4Qmzw0VMCKGNRgMPEBoh5OzZs+fPn19cXIzj+MqVK79//26321mWvXv37smTJ0VRoKU5zWCCARxopZim6L4gXmt9+vTpLMuazabv+5OTk9baoii2t7ex8TwPGqKU1nWNkF231VrTVquFuYQV+EFIGIbD4RDn0MZ838dccnMBJYRA0Ym01sw1eRQV2m2e5266oZyCIHBZhpuqqrTWeZ6PxjJj0AOlVAC2M43LxPgs45yj24dh6K4dGE0oATAwnitW1zXOYUUsTiVgzQ308QsLgDu6XPiUUoZpjP9gJmPyOCvuJuIuI8DojP5P5T8a/wPqSAv8QiEwXgAAAABJRU5ErkJggg==\"/></td><td style=\"padding:1px;\"><img width=\"200\" height=\"200\" style=\"image-rendering:pixelated; object-fit:cover;\" src=\"data:image/png;base64,iVBORw0KGgoAAAANSUhEUgAAABwAAAAcCAIAAAD9b0jDAAAFXElEQVR4nE1WPW8TSxTdmZ3ZWXu9tomcLEZRUEQKiImoUgSBImiiCCGEqGiRKGgRSHQU0FFAQwu/gIJ0CCGokUCkAIQMSAFMIETrKLb3Y3Y+XnF4895Ws7N37tx7zrn3LonjmDFmjDHGeJ7neR6l1FqrtfZ9HzvWWkIIpdQYY61VSgVB4HkeIUQpRQjB2lrr+74xhhJC4M73fUopdvEKa2MMIQRrSinOV1Xl+761llJKKXUGSinP86hSSgjBGNNawwUiJYRorWGktUaYxpggCCilsMf1WOAIkmPNZlMIYa0NgqAoCvvvgzs455xzBJvnOedcKYWErLXGGMaYC9/FxNrt9tTUlOd5aZpqrcuydNbILgzD+fn5gwcPjkajr1+//v792/d9zrmUkjEG9HAHQNNas9FotLu7m6ZpFEWIH3FxzquqklJ2Op25ubmLFy8uLy9vb2/fuXPn7du3k8mEMaaUQtbwqLXGNWw4HFJKoyhCdPjAGIuiSCnFGFtZWVldXZ2dnTXGdDqdJEmqqnL0QhVwKoTwPI8xxoQQDiYYAfVDhw7FcUwpXV9fT5Lkw4cPe3t7YRhmWcYYy7IMUFJKq6qCAMqyJIQwpID4gTGI5pz7vt/tdnd2dp49e9bv93d3d3u93oULF7a3t4uigIYQI7ToZK6UYmANAMMOppzzz58/9/v9ZrPped6BAwemp6fzPD98+PDW1tZwOPyrc0qBrJOEtZahYKBHF2yr1crzfDKZ/PnzR0q5uLi4srIyNzcXRVG3252eniaEjEajWq2mtYb+4AFhMTgCOgiWcz4ajcIwzPO82WyeO3fu2rVr8/Pz37598zxvdnZ2ZmZma2vrxYsX4/HYAYrgAALDFqrFlXwYhmVZttvttbW1S5cuDYfD58+fR1GUJMmxY8fOnz9flqWU8tGjR3EcCyHyPIcAoFmGF/h1FyilFhYWlpeXy7J88ODBu3fvdnZ2kiQpy7LX6928efP48eNxHLdaLSQuhICowQcDj0AaglBKTU1NCSHev3+/ublZVRWIyvM8DMOPHz9ubm6ura0lSTIejznnKGgo9G/6eP9/c1JKDQaDoiiMMWVZCiHSNBVCFEUhpbTWtlotKeWnT58ajUZRFOBdKeXYpwDY1VlZlugjk8kkiiIhBCD2fb/RaPi+f+TIkZMnT/769Ws8HmutwzCs1WrGmKqqwDMhhLr0jTFCCCe3er2epmlRFGmaEkLCMKSUdrvdGzduJEmSZVmWZRCQlJIQEgSB6xvUNXbP86qqQsdcWFhARVproyiq1Wpg49atW+vr64yxN2/efP/+HfVTVRVwBzFa67/9DTpFl+p2u6dOnfrx48dgMIiiqCiKqqq63e7Vq1fPnj2bZdnGxsbt27ellOhkvu8HQQC/II0hBdf2rbWDwWBxcfHy5ctBEGxsbGRZ1uv17t69e+bMmZ8/fz558uTevXuAHpgqpdAxwJXneaTRaHDOXTFQSvf395eWlh4/ftzpdFA2q6urS0tL/X7//v37T58+HQ6HGAeccwcapTQIAmOM1pq0221XCZg2tVotz/PTp09fv3796NGj9Xp9Mpl8+fLl4cOHL1++zPO80WiUZRkEQVmWGBD/8Y751mw2XdeCkvFtf39/ZmbmypUrJ06c6Pf7r169ev36tWuVIKBer9fr9b29PaWUlDIMQymlMYbEcexmvVtAIn8tCMmyDKqI41hKiYYEAUEVMHY9hOBnAlMMEoFUIQnUFX4dXOvknONupRRutdbiOKTJQD1+HdxchCnOgA3MenR4rTWOuGL/fzkZY0ij0cANbii6x41yV9SuUjBFsAOgIUds/gM/uwBUQinqAgAAAABJRU5ErkJggg==\"/></td><td style=\"padding:1px;\"><img width=\"200\" height=\"200\" style=\"image-rendering:pixelated; object-fit:cover;\" src=\"data:image/png;base64,iVBORw0KGgoAAAANSUhEUgAAABwAAAAcCAIAAAD9b0jDAAAFU0lEQVR4nF1VO28TTRSd5669fq0dy04ihNJEIKxYSASJgqC0SDRQhYIG3NBQ0FBQ8ROQKOmQEB1FBKKAAiFqhMIjECSIwGBkbBw73lnv7M58xYEh+rZYrWZnztx7z7nn0mq1aq01xkgpsyxjjAkhkiSx1jLGjDHWWkopIYQxRgghhFhrCSHGGKxYa7GCPdZaZozBD621tTZJktlshn94KKWUUiGEMcYYk2XZQVxjDK7E+w+0O8Y5J4RIKZMkSdMUQJxzKSVjTGsthKCUSimxnzHGGOOcA9ddQwhh9O/DGEvTlBCSy+UYY0CnlKIUOJamKW7yPI9zjvBRBNQN1zBjDLC01lJK/AYEpdQYAxScxAYhhKsjvhEWLjDGCGRNKUXK1lqXESGEc845z7KMUjqbzYIgKJVK1Wp1Op0qpeI4TtPURQoQQogAorUWueTzec45pVQpFQRBkiRKqUajsba2dvny5eXlZa11t9v99OnT06dPnz175niDhP5AIQvETwjZ39+XUpZKJTCztLR05syZS5cutVotrfXOzs7jx48Hg4GU8vPnz7PZTGuNhKAEyIaGYQjqwQMoqlQqnPPV1dXr168fO3Zsa2vr4cOHm5ub/X6/VCoRQur1er/f931/NBpNp1NHcpZlhUJBoIgoszEmSRLOealUarVaFy9ebLfbL1++vHnz5vv374fDYRiGbn+r1Tpx4sT9+/cP6hp1Y8haa51lmbXW87y9vb3FxcWNjY3Tp09vbW3duHFje3s7SZJGo0EIGQwGc3NzFy5cuH379srKSi6Xy7LMGKO1dqIW1lqsEkJ83weVjUZjfX19OBzeunXr9evXYRgqpabTKaU0DMNOp9PpdKIo+vHjR7fbNcZ4ngdiPM/zPE+4nkNFII61tTUQNZ1Ol5aWxuPxwsLC3t5eqVS6cuVKp9MJguD58+d37txBgEmSeJ6XJAkE8E9S7O9DCCkWi5TSLMtOnjw5Pz8vpfR9fzwet9vtjY0NpdTm5ua1a9cQBODSNEUTEkKEMQYNg/Izxvr9frfbFUIEQbC6urqwsLC+vn7o0CFjTBiGURRtb28/ePAgjmP0MZxBSgnxGGOEayG0jbW2UCjcvXt3NBqdPXu21WpVq1Up5WQyQU7VavXLly8fP3601gZBwBibzWZOPK6P/+kfahVC7O7u3rt3DzJ49epVLpfjnFer1atXrxaLReDCd5B+mqYH+1u43nI97vt+kiSj0ejJkyfNZvPDhw+c8+FwaIw5d+5cs9n89u1boVCIoiiXywkhECk4QDWEU75z5TiOOedKqf39fSQxnU7L5XKWZfl83vf9ubm58Xhcq9Uc3YjJmYAAPBL/n0v9/PkTdIHcer1OCImiaGdnp16vw9WcN8ZxfNCaGShzEynLMughCAIppVJKCOH7fhiG8/PzhJA4jpvNJiwZ+yEDZ6wMloUHdDHGgIubUCytdb1eN8YopX7//n306NFarZamablchpic9aVp+idGx9LBkekGF6W0UqmsrKwcPnz4169fWuvz588vLy8TQpRSbtzijfZnMEQpJWgBdfgghOTzecyfcrmslHr79m273T5+/PiRI0eUUuDKRQpjYs5Q3FBy+mCMxXGstUbPBEGwu7vb6/VOnTpVqVS+fv0KtVtr8/m8q2mWZQIpo6BIAR6I3vA8D/wOBoNHjx59//4dxtzr9V68eFEsFnEKDQp6/7TpQZdykxKqBmiSJMVi8c2bN+/evVtcXOz1epPJZDKZzGYz3/ddTTH3KRjAqhu2GDtCCDe3tda5XC6KIt/3oygyxtRqtfF4nM/nUU0MTTfr/gMAX/ZmEVR0tAAAAABJRU5ErkJggg==\"/></td><td style=\"padding:1px;\"><img width=\"200\" height=\"200\" style=\"image-rendering:pixelated; object-fit:cover;\" src=\"data:image/png;base64,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\"/></td></tr></table><table class=\"show_images\" style=\"border-spacing:0px;\"><tr><td style=\"padding:1px;\"><img width=\"200\" height=\"200\" style=\"image-rendering:pixelated; object-fit:cover;\" src=\"data:image/png;base64,iVBORw0KGgoAAAANSUhEUgAAABwAAAAcCAIAAAD9b0jDAAAE6ElEQVR4nF1Vy2oUTRitW99iMMOkSRw1iW6CucCIBEKQBASXYtYK5hFc+Qy+gfgK4sptSIhZJSAyhBCQYBrSm2Sc6Rlv0zNTXV1VLs78xfDPounp6j51vvOd7xSN45gQorWmlFJKtdacc0KItZZS6m4458YYYwwhhDFWliVW8QljjFLqPmFaayFEEATACoKAMYZlIYQxRgiBJa21tVYIgU+AgifYiVLKGCOE0DiOAe/IEkJA0Bjj+z5jjHM+GAxcBYyxoiiwMaXUGAMeQLTWMsBprfFfCOGWUSxuPM/TWud57vs+ISQMQ84555wxFgQBCrLW4n0BUTzPA8S4QK6uO3fuTE5OCiGKojg/P7fWep4npQRBay3nHIWOdMMboKaUstaCy9TU1MLCwvb29tbW1szMDFh0Op1Pnz69f/++1+tFUVQUhTEGS+ONGnFWSqEzjDHf9+/evbu9vf38+fO5uTlKaafTSdM0DMP79+/v7OxcX19//PixKArOOQoFooMW0AtVoPwwDFdXV58+fVqpVJRSh4eHu7u7jUajWq3u7Oxsbm6+fPny+/fvp6enQMSHTgpjjED7oKAxRmudZVmv18uyjFL69evXd+/etdttKeXV1dXe3l4YhvV6fWNj4/j42AntWjrqNkDRE0KI7/ta67Ozsw8fPjDGsizL8/zmzZtKqV6vlyQJRmBubs73fecnUCaEQBCBaXG143p9fb23tzc/P7+2tra0tJQkSb/fx/XBgwe1Wi3P86mpKa01PDCOSAgREAUbep6nlIK3tdbNZvPi4sIYkySJtfbXr1/37t2bnp7u9/u/f/8eDAaMMQwYcAFNCBGMMWMM/e8HP8Pw1tokSf78+SOljKJICPHq1as4jn/8+HF5eZllWRzHkAtR4NKDObdjH8aYUgoidDqdPM8htJTy0aNHjx8/9jzv/Px8OBzGcQya8A/nHK1m+IEpbtx4YOQ9z4NVq9XqmzdvFhYWer3eyclJmqa3bt0aDocozjUDxhIwgbNUWZbAhTpSypWVlWfPntXr9eXl5TzPG43Gly9fFhcXz87OwjCEmVxigalwaeYQMWCwRBRF9Xp9c3OzVqvBlfv7+4PBoNVqgZebxvH8ZZRSYI0nmDFGSomOSykrlQqenJ6eFkWBh1JKeBZwcBFEG/kU5keAEkImJyfLslRKTUxMRFE0HA6DIJBS3r59u91uN5tNKSUiFYmnlMKNI8dQO8TGzlhDHrbb7VarlaZpWZatVmtxcRGpho6DHcqHIIwxURSFEKIsS/jJmRQVeJ43PT3daDT6/f6LFy8qlcr6+nqWZWmafvv27efPnwjWIAjcTKLuUY7gaAvDUErJOYc3hRBHR0eUUinl8vJyvV6fmJh48uQJ5urg4ODz589pmlJK+/0+iBtjRocHmGNMIblSyhjTbDYbjQaetNvt169fr66ucs5nZ2eDIKjVan///r24uPjf0TuyFETB4CNegU4p7Xa7lNLhcNjtdt++fTs/Pz8zM/Pw4cOtra2iKLrdrhACFnTHEq1Wq/C58wSmy8U2hLbW4kCFJW7cuFGr1TzPS5IE3gI0XDQCHc9p9L0sS0TZeA8RRYBGvVEUQUprLd4khIyyGVxwj+iFCDiyIL9zjNYadna2cWE0ihFXOGSFpQghGDOMAJLNLWFsMKAOEVOOd/4BBBlE3o0xaAIAAAAASUVORK5CYII=\"/></td><td style=\"padding:1px;\"><img width=\"200\" height=\"200\" style=\"image-rendering:pixelated; object-fit:cover;\" src=\"data:image/png;base64,iVBORw0KGgoAAAANSUhEUgAAABwAAAAcCAIAAAD9b0jDAAAFZklEQVR4nF1WS2tTXRQ9z/tsEq+JVAwaBR+FIuIgoIKPiQgiTh0ZdGCnTgShU6c60R/gQBB/gCNRxIIUnRQfINWKjSZWklYSvTdpzrnnnG+w+l36fR2Um+Tuvddea+91Dq1UKnmeE0IIIYwxYwylFB+dc4wxSqnWmnPOObfWGmOMMUIIvG+tJYRwzpGEc+6co2EYUkoR4JzjnGutEcAYI9v+PM/TWjvnpJQor5SilDrnnHPFA2OMxnGMgtt/ppQyxvI8p5SGYVir1RhjaZoyxgaDwWg0CsPQOUcIAVK0ghattcI5t/0r/EcZIYTv++fPn5+dndVaJ0mSZdnCwsLS0pIxhhACrpxzQgiAkFJaa2kcx/+DhreFEJzzer3+8OFDSunq6urRo0drtVqv13v58uWdO3dAbp7ngPyfGkAKQaSUeZ5DE+hjrW232x8+fHj37l29Xj9z5sypU6cuXLhACLl3716/3y+VSqPRCCT4vm+MsdbSIAgopdZaKSUUU0pBTSllpVJpNptLS0v9fj9N00ajcfPmzcuXL0dRdP/+/bt375bLZbSV5zl61VrTUqmELJBbSgmKrbWbm5uEkKmpKUqpUkpKqZSq1WqtVuvWrVsfP368cuXK79+/wzAcj8fgECQwY0wURcCotZ5MJoSQyWSitQb28XhsjME8xXHc7/efPXtmrd2/f3+SJFprMAYGMJeMcz4ejzc3N4UQ1tpCq2IRKKWoked5lmVKqUqlAgScc0IIQpxzxRKJyWTi+z7nHA/WWuhmjOGcoxJ0M8Y45yqVyrFjx4QQSqnBYJAkyWQyUUphyABCIB6bYIyRUhbT6pzDqwDled6+fftmZ2dnZmZ83//06ROAFwMDray1oshSYHHOgRopJZJGUUQIOX369IkTJ4IgOHTo0Gg06na7Gxsbvu9DQ8w1Ymkcx9Zaxhg++74P0UajEdKNx+MDBw7cuHGj2WxCVcaY1npubu7r16/oD914nrfFKcCDRzgFyIWUURQdP378+vXrly5dCoLg27dvO3bsGI1Gjx49Gg6HaZqiCcDUWkMDUUyDEGK7pwRBsGvXrvn5+YsXLwZBsLa2Zox5/PhxmqYHDx58//59FEWwzWIhQSulVBQp4CClUmkymQghdu/efe3atatXrzrnVldXX7169eLFi+Xl5cFgEMfx379/syyDvECDcFiqgF6YMsZYFEWNRiPLsmazWSqVnj9//ubNm8XFxR8/fmALer0evHU8HjPGOOc7d+5kjGVZBn8hhAjnnOd5zrkwDLMsS5Lk9u3bWutOp/P06dNut7uyshKGYbVaXV9fz/MctiSljKIIIyiEmJmZef36NWMMnsKAsRjMTqezuLh45MiRVqt17ty5LMviOK5Wq7VarVqtwiGFELB9znmpVNq7d++ePXvK5TK0oZRSLD7YCYIgTdNyuTw3N9dqtdI03djYWFhY+PLly/fv39M0bbfb2y1NCOF5Xrlcrtfrw+FweXkZlQTSWWuttZBIKfXkyZNGo3Hy5MnDhw875z5//tzr9QaDAYQGcXmeCyGGw+HPnz///PlTr9enp6e73e7W0QbhsOlBEBhj+v3+gwcP2u329PT0r1+/Op3O2tqaUgq1GWM48sAbpbTf76+srDDGPM9TStEgCCAUZgDZ4Y9Jkpw9e3Z9ff3t27dgHMcBhNpyuX+PJq217/tCiCzL6NTUFNYfByqG2fM8+DkOzizLoHUQBEiKacd2ogY4AeMME1t4IuiHNRBCpJTOOUwiKiESMwMcnucVBG5Zn1IKvcO+irACO0y6uA/gofgVISChuH9s3UHg4cWg4ZIC+NgTHApFapBT3HlQAKkopf8A9egZmaSloOAAAAAASUVORK5CYII=\"/></td><td style=\"padding:1px;\"><img width=\"200\" height=\"200\" style=\"image-rendering:pixelated; object-fit:cover;\" src=\"data:image/png;base64,iVBORw0KGgoAAAANSUhEUgAAABwAAAAcCAIAAAD9b0jDAAAFhUlEQVR4nE1WS2sTXx8+tzmZWzIaMSIWrcUUvIBYCFIxulJxJShuBFFXfgLBndBPIi6EWl0pSt24KCi4UKgurCCKqIWmadMkk5kzcy7v4ul/eGeVOWd+53d5Lie00WhQSq21nPOiKDjnhBDnHCFECEEIIYQYYxhjjDFKKb5xzllrseucY4whhDFmjGHWWuccpdQYQymllHqeRylFJAKklNZanIItxP//QwjBOuecOeeMMUjIOaeUlmVZFSKEsNZqrZVSVflKqbIsOefWWnSJjxlju/mQ3ForhEAYViil5L/H930hBOc8z/M4juM4Rh+MMa2153kotqpPoDo0hVHgB+Y4GAyazebMzEySJJzzgwcPnjlzZnFx8evXr+iJc6615pxXAFhrBaUUBZZlCbgopUKIKIo6nc6DBw+OHTs2Go3W19d3dnbCMJyenvZ9f2FhIU1TKWVRFNbaOI5RY1mWxhiBiqy1Usosy5xzQogkSa5fv/7w4cMkSd69ezcajTY2NprN5r9//zzPO3LkyL59+3q9nhDC9/2yLPM8R40YqwC4RVForQkhUkop5dmzZ+/du6eUevTo0dLSUpZlcRw3m03G2MmTJ69duxaGYZIkeZ475zzPA7DWWs/zjDEME9RaG2OwnSTJlStXDhw48OTJk8ePH29vbxdFURRFv9//8+fP/v37wzDM8xxt0f8eMGEXKMZYWZaEEM/zCCFKqWazqZRaXl5eXFwcjUZAoNfreZ7n+/7c3Fwcx5PJpCxL8BcDRAJQUwyHQyklyOGci6JISrm2traxsZFlWRAEhJCiKIIgAGOOHz/OOe/1ekVROOd83zfGVGXidBFFUSU4Y0yWZWtra9++fUMMkmNSOzs73W63Xq+PRqNz5869ffuWc16pqNLbLmPBZGOMc65erxtjlFKcc6WUlJIQEgRBURSnT59eWFiQUn769Gl+fn52dhbtQ3WgKojEjDE4DmkHg4FSClqMokhrXZYlpTQMw7t37544ceLVq1fPnz+fm5u7fPkyY6woislk4pwDMACKIQ9YBko554qiAD7QTJ7nrVbrzp07aZouLS19/vy53+9fvXq1VqtRSn3fh16gI84501oLIQA9bIlzDgcrioJSqrXOsuzmzZtJkqysrHz8+LHVak1NTTUajenpac45nAFwoX1RkasiBJrCjIwxYRjGcXzjxo2tra3hcBgEQZIkL168oJSur6/DhSvzhXsIyKAaB2wYDINL+r5/+/bto0eP9vv95eVlnDUcDuM4zrIMJNnFhzFUJqCwihkwFGAKW7p48WK32/379++zZ89WV1fTNIUiGWOHDx/+8eNHlmWosSgKQCJwECDGXLAihIjjeGZm5tKlS2EYvn79+uXLl4PBoNVqHTp06Pz5851OZzAYwAadc+Px2PO8XW5BMNbaKIqUUkEQTCaTMAwZY+12+/79+51O59evX/V6/datWxcuXGg0GlJK3/eVUv1+/8uXL+Px+Pv373me12q1Xe1DA3Cw0WgE2YVhOBgMrLVpmhJCZmdnT5065fs+Y2wymeR5nqbphw8fVldX37x5s7m5aa2t1WogEiGERlFUyUspFcfxeDzGQKWU7XZ7fn6+2+3CwPbu3btnz56VlZWnT5/+/v1ba52maWXzsDohBK3X64AI0kL7UH0QBDDvOI63t7fb7fbU1FSSJO/fv//58yfozDn3PE8p5Xme1hro0ziOQaAgCAAX9hhjtVoNWgCsUsowDLe2tqSUm5ubjUYDuYE7SImLgyZJAj7iHRvVFQY3I4RkWdZoNLCCGnEdwVMwa5gZjJThci7LEqaA110cxa6L1+t1VI3IyWRSiRAzhfPCAQQ8VGstpaz+VWACsF5kBQGVUlivCqyEU91RWuv/AdDWAwHl+BudAAAAAElFTkSuQmCC\"/></td><td style=\"padding:1px;\"><img width=\"200\" height=\"200\" style=\"image-rendering:pixelated; object-fit:cover;\" src=\"data:image/png;base64,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\"/></td></tr></table><table class=\"show_images\" style=\"border-spacing:0px;\"><tr><td style=\"padding:1px;\"><img width=\"200\" height=\"200\" style=\"image-rendering:pixelated; object-fit:cover;\" src=\"data:image/png;base64,iVBORw0KGgoAAAANSUhEUgAAABwAAAAcCAIAAAD9b0jDAAAFPElEQVR4nE1WPW8TTRjcr/u+iw87EuAICBAQQsgCgWShRDTuoKWBnh9AxX9A1BQ0FIgqFR0KQlDGEFIAVgpQSOCiBCFjktj3tbu3bzHWvdnqvOvdnWeembmjcRwTQowxjDGlFCEEP23bllLatl2WJaW0LEvGmG3bxpiqqjjn2KK15pzXf8B2GkURIYRSyhjDhqqqCCGMMUoppRSruMkYo7WmlHLOOedlWSqlhBCEECFEVVW4hhljcHxVVVprQojrupxzANdaK6U4547j2LZNKcWDUkopRSkVQuBurTXmRT1VL9T3o/D5+fmFhYXFxcV2u72xsfHmzZvDw8MsyxhjUkrGmBAC2KWUSikwQH3fZ4yhdkII51wIkabp2bNnb968efv27Tt37uzs7GB1MBg8efLk69evqFQpZVlWnudxHKOg4XDoOI7gnNfNCYJAStlsNnu93qNHj06dOuV53ubm5rNnz/b29m7dujWZTBzHUUq5rotTjDFKqb9//xJCoiiamZnJskwIIaSUILsoCsYY53xpaSnP8+Xl5dXVVc55v9+fmZlJkiSO4x8/frium6Ypuud5nu/7VVXhnGljoygCoVVV2bad5/nc3NzJkyf//fsXhmGSJGVZep5348YN3/e3t7fH4/HGxgaoBFeUUuCFBqSUAooxxgghQNxwOByNRtCW1trzPM75mTNnms2mZVlJkkRRpLXWWtfNwaHQEyFE4IlSWhSF4zh4gDiKojh27Njx48cdx2m1Wr1er9Vqffv27fHjxx8+fECjIRLIFirmnDPYA7VD9pZlFUWBmcPDw0ajceXKlcFg8OrVq93d3W63e/fuXcdxfN9Hu7TWjDHLslCrZVlTRqCBWnGAQAgJw/DEiRPz8/PPnz9fXV21bfvcuXOdTufSpUuDwaC2otZaCAHsSikBL4GXqXQphfcZY3me7+/v//nzR2vd6XTm5uYYY7u7u9vb25TSPM8BlhAipUQIWJY1NSwEUN8ppczzHAQFQdDtdjudTpIkYRg+ffp0eXl5NBrByvh/LR4YUhzNi6qqABPwHccxxsAO58+f//79+7t379bW1vb29oAL+sfIsixN03a7PR6PGdhEAuEsJAVjLMsyQsjW1tb6+noQBNeuXTt9+vTv378tywqCgDHm+34dRq7rUkr39/eNMQwwMcDD/3wLUZallDKO49nZWc75ysoK5ImWgk30FmxOgxUywkAmaq1RO2PMcZzJZDIej9fX1x88ePD27dvxeIzcAQjP8+I4DsOQEBLHcVEUxphpMAMjQh45ADZc1+12u81m8+XLl58+fQqCQGsdBAHs7ziOlDIMw0ajAbqmgQ2RHm0RKoKkFxcX7927NxwOX79+bYypt2mtW63WhQsXhsMhDOp5Xp3ook5SUIlshTKQI71eb2tr6+HDh4D28+fPZrO5tLTUbrffv3//4sWLzc3NPM9hVoTsVPzAi1zgnIPyoig+fvx49erVy5cv379/P4qig4ODZrP569ev2dnZL1++9Pv9JEkODg7Qt8lk4nneNPnr+Kp9BTELIaCBXq938eLF69evx3G8s7Pz+fNn13XX1tb6/T7ePSBXCAHx0kajAY6AtH6twnPGmDRNsyyzbRuZD7+FYTgajbAX/cChQoiiKGgYhnWjwGndLlyDUWPJsgzz6BhcD5ejyqqqppXWTceJcHQdw2VZIn2LokDOpmkKjEf9jd4YYwTQYbZ+S+PzBNc4jlMURQ3H8zx4qf7OsCxLKVXnJ6V0Si0A1qiBq7bg0XDAkmVZ0JCUsqartsx/h6PXQ6aoVG0AAAAASUVORK5CYII=\"/></td><td style=\"padding:1px;\"><img width=\"200\" height=\"200\" style=\"image-rendering:pixelated; object-fit:cover;\" src=\"data:image/png;base64,iVBORw0KGgoAAAANSUhEUgAAABwAAAAcCAIAAAD9b0jDAAAFaElEQVR4nF1WzWsTTRyenZmd3ewmtGtqTCOItVAoKvhRKCIVKnjQg4eSq3jxDxA8evIv0JOe1LOCB48qEkoOSvEiWiUpJJKSJrE2aT43u7Oz+x6eMsq7l2xmd35fz8eskclk4jgmhMRxbBiGYRiUUsMw9CJjDPeEEKxTSpMkSZKEMRaGIec8SRJKaRzHeEqjKMIbhBDcYzOl1LIsxhg2EEKw+d98SinDMJIk0QWZpkmRUymFPYwxRFRKIYFt25zzOI4ty8L+KIoIIchkGIYuE+8rpeI4PgqUJEkYhqhLSokocRxnMpkTJ07Ytl2v1w8PD3UtKJMxhoJwoXfGGMdPGIZCCN1dOp0uFAq+7+dyudXV1fPnz1er1WfPnmFbFEVo0TAM1PG/6RuO4+hUGoFisVgsFn3fbzab165dy2azlNJyufzw4cN2u53NZgeDgVKKcx5FEeoVQkgpMX0jlUohp1IqSRLTNBcWFh4/fnzlypUwDFutVrvdnp2ddRzHsqznz58/ffo0jmONBKVUzwFYEUI4xoSO0Fo+n5+bm/N9/+PHj5ubm41Gw/O8YrF49erVW7dubW5ufvv2DfT4tz+Ew7g5ukCSJEk8z8vn851O58uXLy9evKhWq9PpVEpZrVafPHly5syZXC6nAZFSJkliWZbmIsjDTdPUdANiW1tbv3792tnZkVIqpWzbJoTMz89Pp1Ol1GQyiaLItm3GWBRFhmH4vo+ygEccx1xKCa4RQsCy/f39/f19IQQqOnfu3PHjx9fX1y9evFir1Wq1GiEEmODCcDEBXFwIgUoZY5xzpZRSyjRNgHb9+vW1tTXO+erqqm3br1692tnZmZmZ0apBYmyBZAzD4FJKjdp0OrUsi1IqpUylUnfu3Ll7964QolKpuK7b7XYZY4uLi8PhkFI6GAyQ+2/XnB/x1LZtTU9CiGmanPNsNnvz5s379+9bltVqtTqdjuM4CwsLjUaj1+uVSqU3b96Mx2MhxGQygV6B1VH7OjwGBP2trKzcu3fPcRzG2KlTpzjne3t73W7X87xCoeB5XrPZ/Pz583g8hpVgxIA6SRIO6oLPmndBEEwmk+Fw2Gg03r9//+HDh3a7nU6nl5eXNzY2Ll++/OjRo9evX798+bLf7+sIUBAh5IhSmsOMMUrp9vb2gwcPRqNRo9GYTqdCCNu2a7Vaq9UKw7BQKCwtLa2vr3/69KlUKoEn8CpMgGsD/tdsms3m79+/gyAghNi2PRwO4zjGNEql0unTp2/fvi2EWFtb29rawhbty4wxiqDAET4Nhvm+r0+BdDr9Vy2cv3v37u3bt0op13Xz+TzAAG2OBgg2YAIwG61iaBHJYEJSyiAIOp1OpVL5/v377u6ulBLSQjjOOSGEIz+KDYIgDEP81fJQSgVBIITgnAshCCGu61qWJaWs1+vdblefTnBCpRRFj6gCzeIsAJpQSyqVwv1kMllcXFxZWVleXq5UKuPx2PM8FAQtwaoN13URAhqF+1mWlUqlhBB//vxxHMd13Ww2e+nSpY2Njfn5eaWU7/vo98ePH+VyuVwu93q9v9an29dxhRAzMzMXLly4cePG2bNn+/3+7OxsoVCYm5sLwzCfz+/u7vq+//Pnz3Q6fXBwcHh4SAgJgsC2bRCAo2Ck1SfVaDTqdrsnT55cWlqybTsIgsFg0Gw2v379ur29Xa/X9/b2er3ecDg8ODgAUBgdADcymQwOXrhUGIZYoZTmcrljx44h02g06vf7zWYTPgkVwadTqRTgxTql9Gim2mxM0wSNgiBwHAfqzmQyIAbICIvTJx1KMU0TcQghhuu6WlT6/EJcfAnobyE8Ap3//ewwTRPRsaiU+g/xkRs8R7lrBAAAAABJRU5ErkJggg==\"/></td><td style=\"padding:1px;\"><img width=\"200\" height=\"200\" style=\"image-rendering:pixelated; object-fit:cover;\" src=\"data:image/png;base64,iVBORw0KGgoAAAANSUhEUgAAABwAAAAcCAIAAAD9b0jDAAAFk0lEQVR4nF1WS2/TTBSd8Yw9fjQJalPaNJuAUiqgAgkU2CFV4iGBEAKx4gfwL9jxI9IdQuzoAsGqS14lERISCg00BFCJopRA0sS1k3heZnHzmerLasbx3Ln33HPONZ6ZmYnjOI5jjLFhGLBACCmlKKVxHBuGIYSwLItzbhgGQghek1ISQhBCGGNYY4zhOMUYwwbOK6UQQgghQsjhw8mVCCGtdRzHlmXBWmsNl8EppdQ0NQihlEoujONYKYUxZoxprW3bllLi/36QYBKOUgr/aq0xxhQhBPdDLpAFPMQYK6XS6bRlWWEY2rYthIAMphkZhhACIRRFEeRBKYWbpslCCISQaZoQXQihlHJdN51Ou64bRVFSB6WUECKEME0TIWTbNuDLOZdSTiMKIcbjMbxNKbUsy3EcjDHn3HXdCxcurKysQKYAHKBpWVaSkG3bkCwhhBJC4OT8/Hyj0bBtW2sNFQHQp0+fvnPnThAEjx492t3dnUwm+Xx+cXFxNBp1Oh3Oea/Xo5SGYRjHMWNMKUWhG57nnTlzRkq5v78PBTLGJpOJEMJxnIWFhatXr5ZKpXfv3jHGisViJpMhhHS73Xq9XqvVWq1Wt9v9/v17GIaGYVClFGPM9/1OpzMzM/P7928gB+CdSqXm5uZgu7KyMj8/r5SanZ09ODiApmWz2Vu3br148eLZs2ffvn0D/lHTNDHG4/G4Uqm4rss5xxhTShPqOY4ThmG9Xv/582e9Xj937tzJkycdx+n3+5zzTqeTy+WCIPB9fzgcAm1owjXP8yilk8nEsiyllJTStm3f9/f29qrVaq1WazabQRBsbW3dvXv3+vXr6XQ6CIJer1epVF6/fv3lyxcggxCCgiSAX1EUgU6ABtDTZrNZq9U+ffoEZ7LZ7NmzZx3H+fPnz+7ubrlcbjQanHOEEGMMVEAJIVJKEDusoelQO6AMYAFQN27cWF5ellJKKR8/fryzszMajRzH0VoDzQkhRmIHQDrTNMEEgLyc8263C+JBCJVKpbW1tU6nI4SoVquvXr3q9/uWZRFCEuuZYuo4jpQy0T5gihCSUh4/fjyfz/u+TwhZWFi4fft2oVCI4/jg4OD9+/eDweDo0aO+7/9P6FNMgfBJOMi0WCxevHjxypUrx44da7fb9Xp9cXHRtu1Op9Nut+M4zufzk8kk0UviMhRCJM4IaKTT6Vwud/PmzdnZ2W63u7S0dOLECSB8FEWZTAYcdjwe9/t9AA3igJSmQQFWoAFAWSwWV1dXt7e3XdeVUv748SOVSvV6vZ2dnY8fPzYajUqlsr+/D9oBXiamTEEt4B2MscQuv379WqvVlFKlUml5efnt27dbW1vb29utVqvVaimloigCPoAZJoVqralS6rCfR1EEHnrq1Knz588XCoWlpaXhcPj06dMPHz6EYRgEAZgkqA68NYqiw6OIwiDCGDuOQwgBSt27d+/y5curq6tCiCiKXr58Wa1WB4PBaDSCtoA0OOfg1rCFtP7NKHiklMrlcvfv37927Vo2mwXCb25ubmxs9Pt9IQSlFMoEP6aUAoWT7k8dOdE+NPHBgwdra2uUUsbYYDB48+ZNuVz+/PlzEASu68I7MBSSyQg4hGEIbklhD3aNECoUCpcuXQJ5DIfD58+fl8vlZrNpmiZMBFCE1hoiwnQIwxBUbhiG53lRFP0b0ZRS0zRhKkgpHz58uLm5+evXr8TDDn8eaK1d1xVCgA05jgND6MiRI3t7eziTyQAcnPM4jp88eTI3N7e+vr6xsWFZlud5YDfAZUATEEw6A/9qrT3Ps207DEPsOI5lWVDReDwuFotxHLfbbSEEY4xzbllWFEWMMWgUGI1SCo4AgFprzjkwhzGGU6lU0ispJThjKpUCi0k+ESC1w9RBCMHFWuvpFKEUKv4LbKIl66gtsicAAAAASUVORK5CYII=\"/></td><td style=\"padding:1px;\"><img width=\"200\" height=\"200\" style=\"image-rendering:pixelated; object-fit:cover;\" src=\"data:image/png;base64,iVBORw0KGgoAAAANSUhEUgAAABwAAAAcCAIAAAD9b0jDAAAFCUlEQVR4nE1WTUsVURg+3zNevel1xkv4UYQitBBCAiFJiBaBECHt3QkuW7WvpW2iP9EiaJO0sU0RBJG5sMhEVLgXbshV/Jw7c+Z8tHhuJ2cxzMw55z3P+7zP+5yh9XrdOUcpJYR47xlj3ntjDKVUCGGMIYQQQjjn3nvMwWtZlliFJUII7721llLKCCEIyjkn/y5KKWOMcy7+XYhFCMEy3IUQlFLnnPfee18UBeYwa62UkhBSFAXGsIdzTmvNObfWOuewkxBCKcU5V0oxxvCdMSalRBxrrfeeIbYxBhGBAvD7+vqcc845xhghRClFKY2iSAgRssYQliA5Qgjz/y4Q5JyTUoKNPM+ttf39/cYYxpgQQmt9cnJyenrKGAvznXOcc2MMQnvvBQaMMdgEZGNPKeXo6Oj4+PjCwsLt27c5581m8/Xr12/fvkVlQsWMMYAC1ALUSCk558idcw6abt68+fTp09nZWeByzt24cWN4ePjg4ODjx49gQ2sthABF1lohhLWWXU4cJULunPN79+7duXMHeTSbzYuLi8PDwziOx8fHK5WK1hqAyrJEPVEbBpqBkTHGGIMwgXdvb+/r169v3rx59OjR/Pz8ysqKcy6Kona7rbWOogjQKKXGmEAu51xQSqFB5C6lhO7Oz893dnbW1ta+fPmyubl5enq6u7uLNRcXF0qpPM9RAKUUIkJ83UIhaJAnY0xrTQhpt9sfPnxoNptSyiRJlFJa63a7vb+/n2UZJAWY0GWIIIIMQ59AwM65VqslhMiyjBBy5cqVer2+sbHx7t27vb29PM855z09PUFMyB33LiOIi50hSTznea6UKsuyWq3WarVPnz5tb28zxmq1mrUWGAEL1e4iRX1Q4vCM1AghQog0Te/fv3/37t2pqakfP37EcdxqtQ4PD6WU4NR7D7UCh/eepmkK2NBEsJXgWw8fPnzy5Em9XodIjDHv379/9uyZ1lpKqbUGV6FoxhgW/Aq4wENZloyxsiyHhobSND07OyOEHB8fO+eGhoYePHiwvLycZZm11lpblmUQeNd6kiRBssg65A74SZJMTEyMjY0dHR1prUdGRpaXl0dHR7MsW1hYaDQaUkq0KTqq2/uABja990opAEfvdzqd79+/b21tGWNOTk6yLGs0Gi9evJicnBwbG9va2qpWq6GXgpGLoHw8BD3hNc9zbIAckyT5+fPnt2/frl+/Xq/XISa4F8wTttIFCHTBdAMhSqmenh4hBFRJKY3j+Nq1a51Op91uZ1kGL6eUwunRWgK6DZ0LxQXuq9XqwMCAc+7q1atHR0dnZ2czMzMTExNFUTQajVqtRghBZ+PgAAMM2eF4QHFw6nHO4zhO0zSO48ePH09PT3c6nUqlsrS0xBjb2Nj4/fs35gf9//cmvKM34BFBBs65g4ODgYGBubm52dnZarW6uLh469atvr6+lZWVKIqKokAxQCDnXGttrRWQOow2iiK4CY4wVPzXr1/Dw8OTk5PPnz+fmppijL169Wp7e9taG8cxMgsS/O+i0ASltCgKnKBggFLa29t7fn7+8uXLP3/+zMzM9Pb2rq6urq2tHR8fw0lBWtdGRfdwommaojLhcIcMYHRIQmudJMn8/PzIyMj6+vrnz5+LorhsIogV/g1okiRAjr4O80A8FEYIieN4cHDQWttqtfI8h8gul+hyQ9IkSeAuUPj/FCgN+sWPEEYrlUroEUwO5hR+n/4CQwMZdJanHXkAAAAASUVORK5CYII=\"/></td></tr></table><table class=\"show_images\" style=\"border-spacing:0px;\"><tr><td style=\"padding:1px;\"><img width=\"200\" height=\"200\" style=\"image-rendering:pixelated; object-fit:cover;\" src=\"data:image/png;base64,iVBORw0KGgoAAAANSUhEUgAAABwAAAAcCAIAAAD9b0jDAAAE1klEQVR4nF1WPWgUXRR9v/PmbTaJy66G1cJGEUVEiBAIa2c0YGVjYRGwsrSytrcVUYJFiiAo2AgiIqQwCVuJGjABjYWQENddVmLE3X3zfr7irNflm2KYefPevfece+69w2u1WkoppcQ5T38vIQS9cs4ZY0KIGCMWsZJSYoxprYuiyLIsxsgYizHGGFWMMYSglIoxCiEYYzgphMA9xiilZH8v7IE/rbX3viiKEIIQAqEwxgRjTCk16p9zThZhCI6xSJ6EEL1eL6VkjJFS4ngIIaX07xhWpZQAgujIAV6llLCLUKSUcBBC4JxzzrXWnPMhFrLFOcczfGIrziMcfNJaxxjHxsZgyFpbFAXn3DmXUhKjqAkCPXvvEZ33PoQQQoBp55y1VmsthBgMBt57uAGtijgi01LKoigQNeDQp7GxsV6vNzU1de7cOWutlLLdbr9///7Xr19EdEpJUWiIKMZIDMKttdYYU6lUGo3GqVOnqtXq6dOny+Wyc65SqXz8+PHhw4fr6+t//vxBsCmlf3mHkkbF4b2fmJi4ePHi1atXL1y4kGWZUiqEcOzYsV6vt7e3l1I6evTo9PT0ysqK1proUrAYY/TeI148AOzMzMzCwsL58+eBptPpOOcAdnt7O8/zzc3N3d1daJ68KmgbGeecIxUIPIRQq9Wmp6cnJye73e7Lly+/f/9eLpevXLlSr9fb7fbz58+3trZ2d3edc3meO+cgQQWFE8dAgcx47799+9btdlut1v3799vtdqlUWlhYsNYeHBx8/fp1dXX106dP5XI5yzLvPe4xRgWkME1qhRsp5ZcvX5aXlzc3N9fW1hqNxqVLl06cOKG13t/fX1lZeffu3ZEjR7z3cEO88Wq1SuU8WleQSIxxcnLy4OCgUqncuXNndnYWInvw4MHi4mKpVMJm5xzYRDQKklZKgUfUjPcekkop/fz5UwgxOzs7NzcHgG/evHn9+nWWZdSJRtMrhFDIOKmVuhFesXVqaury5ctKqaIotra2Hj169OPHD9IyAFFicBcATlQKIbz3xhhjTJZlnPMbN240Go0Qwvj4+IsXLzY2NpxzdBBdAv0BhfOvjcItZKG1xtaU0vz8/PXr1733zrmlpaVXr14ZY4QQaCvOOdIiDsKfoBSFEPI855wbY7B49uzZu3fvHj58uF6vN5vNp0+f7uzsgCV0YWqSKNB+vz/klLoLIsWEYIwdP3789u3bpVJpMBh0Op3l5eVWqzU+Po6UUmZijM65UqnU7/eNMcOKwiaY1lprraWU1tpbt241Gg10+GfPnjWbTep4yCTaIBru6ARRIA6yQEOBj7m5uWvXrjnn9vf33759+/jxY9AihCAZoQfFGImKoapGhwQNnHq9fvPmTSFEnuf9fn9xcbHVammtsywrl8tUKShKKnQKS4x2aJRplmXz8/Pgrtvt3rt37/Pnz8TP79+/geZ/Iwtnh4OLxifJvlarnTx50hhjrW02mx8+fMiyLM9z4AV9KDmKhmY7/A1/EXCFEJxznU6n0+lMTExsb28/efJkZ2cH0EIIGPGIa3SwU2UPZ121WiXsoGMwGJw5c6Zer+/t7W1sbDDGrLXW2l6vB9/AS7OSGKBhzA8dOoRs0l9JURTYhP8ZY4z3nqY/Bgb0RF0YPIAEIcR/B3bUjuX92O8AAAAASUVORK5CYII=\"/></td><td style=\"padding:1px;\"><img width=\"200\" height=\"200\" style=\"image-rendering:pixelated; object-fit:cover;\" src=\"data:image/png;base64,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\"/></td><td style=\"padding:1px;\"><img width=\"200\" height=\"200\" style=\"image-rendering:pixelated; object-fit:cover;\" src=\"data:image/png;base64,iVBORw0KGgoAAAANSUhEUgAAABwAAAAcCAIAAAD9b0jDAAAFfElEQVR4nF1WvWsUXxR9X/M9s7uTkMTsLmhExDQKsYwEC4uAgiCIjb1gYyN22vg/WKi9YKOFndkmpDFgiEEDojGIGNmNu5v9npn33rxfceIovykGZubde88999x7h05NTbmua4zxPG88HjPG0jRVSlFKGWOUUimlMYYxZowhhDDGCCF5nnPO8zzP85wxprXGYUIIpVREUTQ9PU0IsSzr8PBQKTUajQghhBAchRdKqTEmz3Py54I7hNFawyPnXGtNp6amjDHj8Zhz7jgOPmutLcuSUnLO4VdrDbxaa0KIEAIBEAnH8EgIoXEc45xlWUopzjlw4SVjDMZ4XySrtRZCGGNwkjHGOVdKwZYZY2zbxjljDCIXieORMaaUAgohBKX0XxdgX0oJBowxAvEtywIu5KiUAhYEKBLP89xxHMQrsBtjtNau6yqlAJ8BP3KEOymlZVlCCCGEZVmO4ziOs7i4ePv27adPny4uLgohtNaj0QgUua5LKVVKZVmmlFJK0SiKOOeWZSEjpZRt267rnjt3rlKp1Gq1+fn5mZmZLMuEEMvLy58+fXr16tW3b9/a7bZSqtPpAHiWZQWztFwugxHGWLlcPn369LVr11ZWVsIw9DyvVCqFYdjr9YIg2N/fj+OYMfbr16/Dw0NCSKPRWFtba7VaWZYZY6SUUJuAFCzLQi43b95cXV31fZ8x9vv37263yzmfmZlpt9uWZX3//v3UqVNzc3P1el1KefHixVqt9uTJk16v5zhOUT0GpiGaWq12+fLl6enpUqlkWRalNE3Ter1erVbDMDw4ONje3t7a2vry5Qsy8Dzv1q1bly5d8jwPhHLOOecC0kV94zjudDrlcrnX67158ybPc0rpxsbG0tKSlPLDhw/NZtP3/SiKWq3W7OzseDxut9tnz55NksQYgwJSSgXnHNLJsuzg4GBjY+PFixe7u7tbW1uO44CZhYWFM2fOSCkvXLhw/vz5arUaBMFgMMiyzHGc9+/fK6WCIECRlVIC8gbyHz9+PHv2TErZarUYY7Ztj0ajMAw3Nzc/fvwYBMH8/HypVJJSuq7b7Xabzebr1693dnYwGTjn0L8ghEC0EGyn01FKQadAmuc5NMs5D8MwCAJjzNHR0Wg02tnZaTQa3W7XdV0hRJIkx60BqRcNY1mW7/uIMZlMQCvkXa/Xr169Ct2kadpoNF6+fPnz58/hcGiMGY1GQhz3J4OYQLMQAvpHERGGc54kCaV0dXW1Wq3WarW5ublWq7W7u7u9vZ2mKXJHo0OwwrbtYtZiJqHfCSG2bQshcJ+dnV1ZWSmVSkDU6/UajcZwOPQ8LwxDpIu0tNbHdcekAWR4BOV5ng+Hw1KpdOXKleXl5clkQikdDAZ7e3v9fh8mUsoCB1AL6CDLMillMSLRbZTSLMts275x48adO3fSNIVxp9NZX19PksS27WLgo4OASRQzEZMGMx/7B/W5fv36gwcP0PUgt9FovH37VinFGEMlkiTBJCSEOI4jwC7SP14Gf0Q3mUyWlpbu3bsXx7FSynXdNE339/efP3/e7/dBN7AXJseb7d8FSSm1bRuuoda7d+/WajWoOkmSZrN5//79z58/a62VUtAGvoKB441bTJPCdbE2Tpw4sbCwkCQJIaTf73/9+vXRo0ebm5u+79u2HUVRwRiQos7How8RKKXwWGxwmMVxfHR0NBwOHz58uL6+HkVRmqaO42BZFIuv2EaEkL+b9lgNQuBDpVKRUr579y6O48Fg8Pjx47W1tSiKtNa+72dZNplMUFKIqVAhY4xWKpUCIDymaYoVSwgplUonT57c29vrdDqEEN/3J5NJEATQJspb1OOvFqMoAsz//TTgDmPGmOd5//7koDJI3Py5CnX+B33uBHNUsQsqAAAAAElFTkSuQmCC\"/></td><td style=\"padding:1px;\"><img width=\"200\" height=\"200\" style=\"image-rendering:pixelated; object-fit:cover;\" src=\"data:image/png;base64,iVBORw0KGgoAAAANSUhEUgAAABwAAAAcCAIAAAD9b0jDAAAFeElEQVR4nE1W22oTURSdOZeZOckkoQ1iajSFarEoqEVQ6YMKCiJECvoHfoH/4D/os5/gJ9QHHxQfvND2IU0vNiRlok0n6VzObXxYYTAPYebMOfuy9tprH7fRaDiOY4whhFhrXdclhGiti6IghLiua4yhlDr//YqisNYWRcEYM8ZgZ3nccRxmjHFdF/scx6GUGmM451JKPJdfXdctj8GN67qMMTgoigKfEBZxHIcQglUcU0o5joNnzjmCwm7GGKXU8zyYKBOCHbif+4Hzoii01kopSinnHBllWVb6o5RaaxljaZoWReF5HiFESlnCgn+GcDzPwzuSxVbP87CCNJVSMF0URb1e73Q6SqmjoyMhhLUW6AEugozyPEeMWHUchzFWugGCSIUxRgh58ODB+/fv3759u7CwYIwpN2PnvFCc8zzPS5+EENQKgFprtdZaa86553mc883NzZs3b/q+X6/XT09Pz8/PK5WK1hrWGGOsKArgiEDyPOecZ1mmtUaYAFcIgXjv3r375MmT0WjU6/Ww3/d913W11nNM54YZq9VqZ2dn1tpardZsNoUQhJCDgwNCiOd5y8vLrVbr7OwsiqL79+9Xq9USX8YY5zxJEkqpUooQwiqVCigSx/H5+Xm1Wm00GisrKxsbG8+fP69UKv1+H4U+PT398uWLMeb27duVSmU8Hh8eHiqlhBCoKgiulGJxHMMn8DLGjEajOI6ttZ1O5+rVq4yxKIq2t7e/f/8+mUw6nc6FCxeCILDWTiaTLMuklMaY/wGcYwrslFKwrrU+PDz88OGD1no4HOZ5Hsex7/u3bt26d+9eEARRFG1tbX3+/Pn379+gI6UU5DPGMGOMEEJrDW67riuEWFtbi+N4d3d3MpnEcdxoNGq12vr6erfbffXqVRiG4/H4xo0b/X7fWquUQqGyLAPhGGNMSon6ol+zLJtOp1JKKWWtVut0Onfu3Ol2u+vr681mkzG2t7fHOa9Wq+12u9/v+74PPqGvrLVzw1mWAVmllJRyMBg4jqO1brfbjx492tzcvHjxYp7nvV5vPB5//fr12bNnq6ur169f397eTtOUEEIpBZhaawYpKfs9yzLOOWAVQnDOf/78mSTJ379/gcbx8fHKysqLFy8opZcuXUrT1HXd2WyGKkEJ5w0KPWWMBUGANpdSaq3//PnDOf/06RMEgTEmhGCM+b4/Go0IIYuLi0mSJEmCHkXNCdqOcx4EwcLCQhAE7Xa70WhorQkh4AqyK1vw8uXLYRgaY/b396MostZ6nuf7PsTUcRyCrqCUbmxsdLvdVqvFGJvNZhAB8AF64XkedHZ1dZUxVq/Xf/z44fs+5NxxHCkl1I85jqOUCoLgzZs3zWbz27dvu7u7juMIIUoNNcZ4ngd9uXLlSrfbDcPw3bt3URQJIfI8z/Mcwc4bF3q6vLzcbrd93w+CIMsyyHgpteUUWVxcfPjw4dLS0mw229nZiaIoCAJIHxiJpOcdlSRJv99/+vTp69evX758OZvNBoOBtfbg4EAI0Wq1hBA7OzvT6dQYc3Jy8uvXr62tLaglOK61xsix1jIgcnJy8vHjx6WlpcePHwOdOI4xLdD4vV5vMBgMh8Ojo6Pj4+O9vb0oioAycAefMFbdMAwh0pC4tbW1a9euVavV2Wy2v7+f53mapmmaDodDKWWapmEY1uv1PM+TJEGzgyflBCyKwg3DEEsYZ67rpmlaq9UAuZTS9/2iKIA17gNhGEK/cSUApuVwnFcfL1prnEfI0+mUUhqGIVgClLABzYJnGP3/YsAYm1cZcwn0xljmnEN4jDHGGK01pVRrLaUEc+FeKYUHjNLyJkBKMoLD5bDD4blEMgbrOAapROMWRZGmKRIH8/4By5U1iTFy9MEAAAAASUVORK5CYII=\"/></td></tr></table>"
            ],
            "text/plain": [
              "<IPython.core.display.HTML object>"
            ]
          },
          "metadata": {},
          "output_type": "display_data"
        }
      ],
      "source": [
        "clean_test_images, _ = next(iter(test_loader))\n",
        "clean_test_images = clean_test_images[:16]\n",
        "\n",
        "clean_test_display = [img.permute(1, 2, 0).cpu() / 2. + 0.5 for img in clean_test_images]\n",
        "\n",
        "mediapy.show_images(\n",
        "        clean_test_display,\n",
        "        columns=4,  # Show 4 images per row\n",
        "        height=200  # Height of each image\n",
        "    )\n",
        "\n",
        "sigmas = [0.0, 0.2, 0.4, 0.5, 0.6, 0.8, 1.0]\n",
        "\n",
        "for sigma in sigmas:\n",
        "  epsilon = torch.randn_like(clean_test_images)\n",
        "\n",
        "  noisy_test_images = clean_test_images + (epsilon * sigma)\n",
        "  noisy_test_images = noisy_test_images.cuda()\n",
        "\n",
        "  outputs = unet(noisy_test_images)\n",
        "\n",
        "  output_display = [img.permute(1, 2, 0).cpu().detach().numpy() / 2. + 0.5 for img in outputs]\n",
        "\n",
        "  mediapy.show_images(\n",
        "        output_display,\n",
        "        columns=4,  # Show 4 images per row\n",
        "        height=200  # Height of each image\n",
        "    )"
      ]
    },
    {
      "cell_type": "code",
      "execution_count": null,
      "metadata": {
        "id": "fkchbyYkzAvV"
      },
      "outputs": [],
      "source": [
        "class FCBlock(nn.Module):\n",
        "    def __init__(self, in_channels: int, out_channels: int):\n",
        "      super().__init__()\n",
        "      self.lin1 = nn.Linear(in_channels, out_channels)\n",
        "      self.activation = nn.GELU()\n",
        "      self.lin2 = nn.Linear(out_channels, out_channels)\n",
        "\n",
        "    def forward(self, x: torch.Tensor) -> torch.Tensor:\n",
        "      x = self.lin1(x)\n",
        "      x = self.activation(x)\n",
        "      x = self.lin2(x)\n",
        "      return x\n",
        "\n",
        "class TimeConditionalUNet(nn.Module):\n",
        "    def __init__(\n",
        "        self,\n",
        "        in_channels: int,\n",
        "        num_classes: int,\n",
        "        num_hiddens: int,\n",
        "    ):\n",
        "      super().__init__()\n",
        "      self.conv1 = ConvBlock(in_channels, num_hiddens)\n",
        "      self.down1 = DownBlock(num_hiddens, num_hiddens)\n",
        "      self.down2 = DownBlock(num_hiddens, 2 * num_hiddens)\n",
        "      self.flatten = Flatten()\n",
        "      self.unflatten = Unflatten(2 * num_hiddens)\n",
        "      self.up1 = UpBlock(4 * num_hiddens, num_hiddens)\n",
        "      self.up2 = UpBlock(2 * num_hiddens, num_hiddens)\n",
        "      self.conv2 = ConvBlock(2 * num_hiddens, num_hiddens)\n",
        "      self.conv3 = nn.Conv2d(num_hiddens, in_channels, 3, 1, 1)\n",
        "      self.concat = Concat()\n",
        "      self.fc1 = FCBlock(1, 2 * num_hiddens)\n",
        "      self.fc2 = FCBlock(1, num_hiddens)\n",
        "\n",
        "    def forward(\n",
        "        self,\n",
        "        x: torch.Tensor,\n",
        "        t: torch.Tensor,\n",
        "    ) -> torch.Tensor:\n",
        "        \"\"\"\n",
        "        Args:\n",
        "            x: (N, C, H, W) input tensor.\n",
        "            t: (N,) normalized time tensor.\n",
        "\n",
        "        Returns:\n",
        "            (N, C, H, W) output tensor.\n",
        "        \"\"\"\n",
        "        assert x.shape[-2:] == (28, 28), \"Expect input shape to be (28, 28).\"\n",
        "\n",
        "        x = self.conv1(x)\n",
        "        a = x.clone()\n",
        "        x = self.down1(x)\n",
        "        b = x.clone()\n",
        "        x = self.down2(x)\n",
        "        c = x.clone()\n",
        "        x = self.flatten(x)\n",
        "        x = self.unflatten(x)\n",
        "        t1 = self.fc1(t.unsqueeze(-1))\n",
        "        t1 = einops.rearrange(t1, \"b c -> b c 1 1\")\n",
        "        x += t1\n",
        "        x = self.concat(x, c)\n",
        "        x = self.up1(x)\n",
        "        t2 = self.fc2(t.unsqueeze(-1))\n",
        "        t2 = einops.rearrange(t2, \"b c -> b c 1 1\")\n",
        "        x += t2\n",
        "        x = self.concat(x, b)\n",
        "        x = self.up2(x)\n",
        "        x = self.concat(x, a)\n",
        "        x = self.conv2(x)\n",
        "        x = self.conv3(x)\n",
        "        return x"
      ]
    },
    {
      "cell_type": "code",
      "execution_count": null,
      "metadata": {
        "id": "yIvMw63T6JkE"
      },
      "outputs": [],
      "source": [
        "def ddpm_schedule(beta1: float, beta2: float, num_ts: int) -> dict:\n",
        "    \"\"\"Constants for DDPM training and sampling.\n",
        "\n",
        "    Arguments:\n",
        "        beta1: float, starting beta value.\n",
        "        beta2: float, ending beta value.\n",
        "        num_ts: int, number of timesteps.\n",
        "\n",
        "    Returns:\n",
        "        dict with keys:\n",
        "            betas: linear schedule of betas from beta1 to beta2.\n",
        "            alphas: 1 - betas.\n",
        "            alpha_bars: cumulative product of alphas.\n",
        "    \"\"\"\n",
        "    assert beta1 < beta2 < 1.0, \"Expect beta1 < beta2 < 1.0.\"\n",
        "\n",
        "    retval = {}\n",
        "\n",
        "    betas = [ beta1 + (((beta2 - beta1) / num_ts) * t) for t in range(num_ts) ]\n",
        "    retval[\"betas\"] = betas\n",
        "\n",
        "    alphas = [1 - beta for beta in betas]\n",
        "    retval[\"alphas\"] = alphas\n",
        "\n",
        "    alpha_bars = []\n",
        "    current_prod = 1\n",
        "\n",
        "    for i in range(len(alphas)):\n",
        "      current_prod *= alphas[i]\n",
        "      alpha_bars.append(current_prod)\n",
        "\n",
        "    retval[\"alpha_bars\"] = alpha_bars\n",
        "\n",
        "    return retval"
      ]
    },
    {
      "cell_type": "code",
      "execution_count": null,
      "metadata": {
        "id": "dZzEK68LSk7a"
      },
      "outputs": [],
      "source": [
        "time_cond_train_loader = DataLoader(train_dataset, batch_size=128, shuffle=True)\n",
        "time_cond_test_loader = DataLoader(test_dataset, batch_size=128, shuffle=True)"
      ]
    },
    {
      "cell_type": "code",
      "execution_count": null,
      "metadata": {
        "id": "ZdkT2wxJS5oh"
      },
      "outputs": [],
      "source": [
        "unet = TimeConditionalUNet(1, 0, 64)\n",
        "unet = unet.cuda()\n",
        "criterion = nn.MSELoss() # CrossEntropyLoss(), L1loss()\n",
        "optimizer = torch.optim.Adam(unet.parameters(), lr=0.001)"
      ]
    },
    {
      "cell_type": "code",
      "execution_count": null,
      "metadata": {
        "colab": {
          "base_uri": "https://localhost:8080/"
        },
        "id": "PcZLicVXPau7",
        "outputId": "bd4390e5-1234-402f-8083-d33902f803b9"
      },
      "outputs": [
        {
          "name": "stderr",
          "output_type": "stream",
          "text": [
            "  5%|▍         | 22/469 [00:02<00:47,  9.47it/s]"
          ]
        },
        {
          "name": "stdout",
          "output_type": "stream",
          "text": [
            "[1,    20] loss: 0.060\n"
          ]
        },
        {
          "name": "stderr",
          "output_type": "stream",
          "text": [
            "  9%|▉         | 42/469 [00:04<00:44,  9.69it/s]"
          ]
        },
        {
          "name": "stdout",
          "output_type": "stream",
          "text": [
            "[1,    40] loss: 0.055\n"
          ]
        },
        {
          "name": "stderr",
          "output_type": "stream",
          "text": [
            " 13%|█▎        | 62/469 [00:06<00:42,  9.67it/s]"
          ]
        },
        {
          "name": "stdout",
          "output_type": "stream",
          "text": [
            "[1,    60] loss: 0.046\n"
          ]
        },
        {
          "name": "stderr",
          "output_type": "stream",
          "text": [
            " 17%|█▋        | 80/469 [00:07<00:45,  8.60it/s]"
          ]
        },
        {
          "name": "stdout",
          "output_type": "stream",
          "text": [
            "[1,    80] loss: 0.083\n"
          ]
        },
        {
          "name": "stderr",
          "output_type": "stream",
          "text": [
            " 22%|██▏       | 101/469 [00:10<00:42,  8.65it/s]"
          ]
        },
        {
          "name": "stdout",
          "output_type": "stream",
          "text": [
            "[1,   100] loss: 0.061\n"
          ]
        },
        {
          "name": "stderr",
          "output_type": "stream",
          "text": [
            " 26%|██▌       | 121/469 [00:12<00:38,  9.14it/s]"
          ]
        },
        {
          "name": "stdout",
          "output_type": "stream",
          "text": [
            "[1,   120] loss: 0.071\n"
          ]
        },
        {
          "name": "stderr",
          "output_type": "stream",
          "text": [
            " 30%|███       | 141/469 [00:13<00:36,  9.08it/s]"
          ]
        },
        {
          "name": "stdout",
          "output_type": "stream",
          "text": [
            "[1,   140] loss: 0.040\n"
          ]
        },
        {
          "name": "stderr",
          "output_type": "stream",
          "text": [
            " 34%|███▍      | 161/469 [00:15<00:34,  9.04it/s]"
          ]
        },
        {
          "name": "stdout",
          "output_type": "stream",
          "text": [
            "[1,   160] loss: 0.040\n"
          ]
        },
        {
          "name": "stderr",
          "output_type": "stream",
          "text": [
            " 39%|███▊      | 181/469 [00:17<00:31,  9.14it/s]"
          ]
        },
        {
          "name": "stdout",
          "output_type": "stream",
          "text": [
            "[1,   180] loss: 0.043\n"
          ]
        },
        {
          "name": "stderr",
          "output_type": "stream",
          "text": [
            " 43%|████▎     | 202/469 [00:19<00:28,  9.27it/s]"
          ]
        },
        {
          "name": "stdout",
          "output_type": "stream",
          "text": [
            "[1,   200] loss: 0.043\n"
          ]
        },
        {
          "name": "stderr",
          "output_type": "stream",
          "text": [
            " 47%|████▋     | 221/469 [00:21<00:28,  8.57it/s]"
          ]
        },
        {
          "name": "stdout",
          "output_type": "stream",
          "text": [
            "[1,   220] loss: 0.051\n"
          ]
        },
        {
          "name": "stderr",
          "output_type": "stream",
          "text": [
            " 52%|█████▏    | 242/469 [00:24<00:23,  9.62it/s]"
          ]
        },
        {
          "name": "stdout",
          "output_type": "stream",
          "text": [
            "[1,   240] loss: 0.026\n"
          ]
        },
        {
          "name": "stderr",
          "output_type": "stream",
          "text": [
            " 56%|█████▌    | 262/469 [00:25<00:21,  9.55it/s]"
          ]
        },
        {
          "name": "stdout",
          "output_type": "stream",
          "text": [
            "[1,   260] loss: 0.039\n"
          ]
        },
        {
          "name": "stderr",
          "output_type": "stream",
          "text": [
            " 60%|██████    | 282/469 [00:27<00:19,  9.51it/s]"
          ]
        },
        {
          "name": "stdout",
          "output_type": "stream",
          "text": [
            "[1,   280] loss: 0.030\n"
          ]
        },
        {
          "name": "stderr",
          "output_type": "stream",
          "text": [
            " 64%|██████▍   | 302/469 [00:29<00:17,  9.57it/s]"
          ]
        },
        {
          "name": "stdout",
          "output_type": "stream",
          "text": [
            "[1,   300] loss: 0.063\n"
          ]
        },
        {
          "name": "stderr",
          "output_type": "stream",
          "text": [
            " 69%|██████▊   | 322/469 [00:31<00:15,  9.50it/s]"
          ]
        },
        {
          "name": "stdout",
          "output_type": "stream",
          "text": [
            "[1,   320] loss: 0.066\n"
          ]
        },
        {
          "name": "stderr",
          "output_type": "stream",
          "text": [
            " 73%|███████▎  | 341/469 [00:33<00:14,  8.63it/s]"
          ]
        },
        {
          "name": "stdout",
          "output_type": "stream",
          "text": [
            "[1,   340] loss: 0.070\n"
          ]
        },
        {
          "name": "stderr",
          "output_type": "stream",
          "text": [
            " 77%|███████▋  | 362/469 [00:35<00:11,  9.64it/s]"
          ]
        },
        {
          "name": "stdout",
          "output_type": "stream",
          "text": [
            "[1,   360] loss: 0.054\n"
          ]
        },
        {
          "name": "stderr",
          "output_type": "stream",
          "text": [
            " 81%|████████▏ | 382/469 [00:37<00:08,  9.76it/s]"
          ]
        },
        {
          "name": "stdout",
          "output_type": "stream",
          "text": [
            "[1,   380] loss: 0.048\n"
          ]
        },
        {
          "name": "stderr",
          "output_type": "stream",
          "text": [
            " 85%|████████▌ | 400/469 [00:39<00:07,  9.28it/s]"
          ]
        },
        {
          "name": "stdout",
          "output_type": "stream",
          "text": [
            "[1,   400] loss: 0.058\n"
          ]
        },
        {
          "name": "stderr",
          "output_type": "stream",
          "text": [
            " 90%|████████▉ | 422/469 [00:41<00:04,  9.73it/s]"
          ]
        },
        {
          "name": "stdout",
          "output_type": "stream",
          "text": [
            "[1,   420] loss: 0.039\n"
          ]
        },
        {
          "name": "stderr",
          "output_type": "stream",
          "text": [
            " 94%|█████████▍| 442/469 [00:43<00:02,  9.80it/s]"
          ]
        },
        {
          "name": "stdout",
          "output_type": "stream",
          "text": [
            "[1,   440] loss: 0.048\n"
          ]
        },
        {
          "name": "stderr",
          "output_type": "stream",
          "text": [
            " 98%|█████████▊| 460/469 [00:45<00:01,  8.66it/s]"
          ]
        },
        {
          "name": "stdout",
          "output_type": "stream",
          "text": [
            "[1,   460] loss: 0.037\n"
          ]
        },
        {
          "name": "stderr",
          "output_type": "stream",
          "text": [
            "100%|██████████| 469/469 [00:46<00:00, 10.13it/s]\n",
            "  5%|▍         | 22/469 [00:02<00:45,  9.74it/s]"
          ]
        },
        {
          "name": "stdout",
          "output_type": "stream",
          "text": [
            "[2,    20] loss: 0.033\n"
          ]
        },
        {
          "name": "stderr",
          "output_type": "stream",
          "text": [
            "  9%|▉         | 42/469 [00:04<00:43,  9.74it/s]"
          ]
        },
        {
          "name": "stdout",
          "output_type": "stream",
          "text": [
            "[2,    40] loss: 0.049\n"
          ]
        },
        {
          "name": "stderr",
          "output_type": "stream",
          "text": [
            " 13%|█▎        | 62/469 [00:05<00:41,  9.77it/s]"
          ]
        },
        {
          "name": "stdout",
          "output_type": "stream",
          "text": [
            "[2,    60] loss: 0.037\n"
          ]
        },
        {
          "name": "stderr",
          "output_type": "stream",
          "text": [
            " 17%|█▋        | 82/469 [00:07<00:39,  9.77it/s]"
          ]
        },
        {
          "name": "stdout",
          "output_type": "stream",
          "text": [
            "[2,    80] loss: 0.038\n"
          ]
        },
        {
          "name": "stderr",
          "output_type": "stream",
          "text": [
            " 22%|██▏       | 102/469 [00:09<00:38,  9.65it/s]"
          ]
        },
        {
          "name": "stdout",
          "output_type": "stream",
          "text": [
            "[2,   100] loss: 0.053\n"
          ]
        },
        {
          "name": "stderr",
          "output_type": "stream",
          "text": [
            " 26%|██▌       | 120/469 [00:11<00:41,  8.45it/s]"
          ]
        },
        {
          "name": "stdout",
          "output_type": "stream",
          "text": [
            "[2,   120] loss: 0.047\n"
          ]
        },
        {
          "name": "stderr",
          "output_type": "stream",
          "text": [
            " 30%|███       | 142/469 [00:13<00:33,  9.69it/s]"
          ]
        },
        {
          "name": "stdout",
          "output_type": "stream",
          "text": [
            "[2,   140] loss: 0.039\n"
          ]
        },
        {
          "name": "stderr",
          "output_type": "stream",
          "text": [
            " 35%|███▍      | 162/469 [00:15<00:31,  9.60it/s]"
          ]
        },
        {
          "name": "stdout",
          "output_type": "stream",
          "text": [
            "[2,   160] loss: 0.039\n"
          ]
        },
        {
          "name": "stderr",
          "output_type": "stream",
          "text": [
            " 39%|███▉      | 182/469 [00:17<00:29,  9.69it/s]"
          ]
        },
        {
          "name": "stdout",
          "output_type": "stream",
          "text": [
            "[2,   180] loss: 0.038\n"
          ]
        },
        {
          "name": "stderr",
          "output_type": "stream",
          "text": [
            " 43%|████▎     | 202/469 [00:19<00:27,  9.78it/s]"
          ]
        },
        {
          "name": "stdout",
          "output_type": "stream",
          "text": [
            "[2,   200] loss: 0.033\n"
          ]
        },
        {
          "name": "stderr",
          "output_type": "stream",
          "text": [
            " 47%|████▋     | 222/469 [00:21<00:25,  9.83it/s]"
          ]
        },
        {
          "name": "stdout",
          "output_type": "stream",
          "text": [
            "[2,   220] loss: 0.035\n"
          ]
        },
        {
          "name": "stderr",
          "output_type": "stream",
          "text": [
            " 52%|█████▏    | 242/469 [00:23<00:24,  9.23it/s]"
          ]
        },
        {
          "name": "stdout",
          "output_type": "stream",
          "text": [
            "[2,   240] loss: 0.029\n"
          ]
        },
        {
          "name": "stderr",
          "output_type": "stream",
          "text": [
            " 56%|█████▌    | 262/469 [00:25<00:21,  9.45it/s]"
          ]
        },
        {
          "name": "stdout",
          "output_type": "stream",
          "text": [
            "[2,   260] loss: 0.043\n"
          ]
        },
        {
          "name": "stderr",
          "output_type": "stream",
          "text": [
            " 60%|█████▉    | 280/469 [00:27<00:20,  9.22it/s]"
          ]
        },
        {
          "name": "stdout",
          "output_type": "stream",
          "text": [
            "[2,   280] loss: 0.032\n"
          ]
        },
        {
          "name": "stderr",
          "output_type": "stream",
          "text": [
            " 64%|██████▍   | 302/469 [00:29<00:17,  9.66it/s]"
          ]
        },
        {
          "name": "stdout",
          "output_type": "stream",
          "text": [
            "[2,   300] loss: 0.043\n"
          ]
        },
        {
          "name": "stderr",
          "output_type": "stream",
          "text": [
            " 69%|██████▊   | 322/469 [00:31<00:15,  9.69it/s]"
          ]
        },
        {
          "name": "stdout",
          "output_type": "stream",
          "text": [
            "[2,   320] loss: 0.040\n"
          ]
        },
        {
          "name": "stderr",
          "output_type": "stream",
          "text": [
            " 73%|███████▎  | 342/469 [00:33<00:13,  9.75it/s]"
          ]
        },
        {
          "name": "stdout",
          "output_type": "stream",
          "text": [
            "[2,   340] loss: 0.023\n"
          ]
        },
        {
          "name": "stderr",
          "output_type": "stream",
          "text": [
            " 77%|███████▋  | 360/469 [00:35<00:12,  8.69it/s]"
          ]
        },
        {
          "name": "stdout",
          "output_type": "stream",
          "text": [
            "[2,   360] loss: 0.037\n"
          ]
        },
        {
          "name": "stderr",
          "output_type": "stream",
          "text": [
            " 81%|████████  | 380/469 [00:37<00:10,  8.33it/s]"
          ]
        },
        {
          "name": "stdout",
          "output_type": "stream",
          "text": [
            "[2,   380] loss: 0.036\n"
          ]
        },
        {
          "name": "stderr",
          "output_type": "stream",
          "text": [
            " 86%|████████▌ | 401/469 [00:39<00:07,  9.18it/s]"
          ]
        },
        {
          "name": "stdout",
          "output_type": "stream",
          "text": [
            "[2,   400] loss: 0.030\n"
          ]
        },
        {
          "name": "stderr",
          "output_type": "stream",
          "text": [
            " 90%|████████▉ | 421/469 [00:41<00:05,  9.26it/s]"
          ]
        },
        {
          "name": "stdout",
          "output_type": "stream",
          "text": [
            "[2,   420] loss: 0.045\n"
          ]
        },
        {
          "name": "stderr",
          "output_type": "stream",
          "text": [
            " 94%|█████████▍| 441/469 [00:43<00:03,  9.24it/s]"
          ]
        },
        {
          "name": "stdout",
          "output_type": "stream",
          "text": [
            "[2,   440] loss: 0.032\n"
          ]
        },
        {
          "name": "stderr",
          "output_type": "stream",
          "text": [
            " 98%|█████████▊| 461/469 [00:44<00:00,  9.18it/s]"
          ]
        },
        {
          "name": "stdout",
          "output_type": "stream",
          "text": [
            "[2,   460] loss: 0.079\n"
          ]
        },
        {
          "name": "stderr",
          "output_type": "stream",
          "text": [
            "100%|██████████| 469/469 [00:45<00:00, 10.27it/s]\n",
            "  5%|▍         | 22/469 [00:02<00:49,  9.05it/s]"
          ]
        },
        {
          "name": "stdout",
          "output_type": "stream",
          "text": [
            "[3,    20] loss: 0.055\n"
          ]
        },
        {
          "name": "stderr",
          "output_type": "stream",
          "text": [
            "  9%|▊         | 41/469 [00:04<00:48,  8.74it/s]"
          ]
        },
        {
          "name": "stdout",
          "output_type": "stream",
          "text": [
            "[3,    40] loss: 0.034\n"
          ]
        },
        {
          "name": "stderr",
          "output_type": "stream",
          "text": [
            " 13%|█▎        | 61/469 [00:06<00:44,  9.13it/s]"
          ]
        },
        {
          "name": "stdout",
          "output_type": "stream",
          "text": [
            "[3,    60] loss: 0.034\n"
          ]
        },
        {
          "name": "stderr",
          "output_type": "stream",
          "text": [
            " 17%|█▋        | 81/469 [00:08<00:42,  9.14it/s]"
          ]
        },
        {
          "name": "stdout",
          "output_type": "stream",
          "text": [
            "[3,    80] loss: 0.030\n"
          ]
        },
        {
          "name": "stderr",
          "output_type": "stream",
          "text": [
            " 22%|██▏       | 101/469 [00:09<00:40,  9.10it/s]"
          ]
        },
        {
          "name": "stdout",
          "output_type": "stream",
          "text": [
            "[3,   100] loss: 0.040\n"
          ]
        },
        {
          "name": "stderr",
          "output_type": "stream",
          "text": [
            " 26%|██▌       | 121/469 [00:11<00:37,  9.19it/s]"
          ]
        },
        {
          "name": "stdout",
          "output_type": "stream",
          "text": [
            "[3,   120] loss: 0.028\n"
          ]
        },
        {
          "name": "stderr",
          "output_type": "stream",
          "text": [
            " 30%|██▉       | 139/469 [00:13<00:30, 10.95it/s]"
          ]
        },
        {
          "name": "stdout",
          "output_type": "stream",
          "text": [
            "[3,   140] loss: 0.036\n"
          ]
        },
        {
          "name": "stderr",
          "output_type": "stream",
          "text": [
            " 34%|███▍      | 160/469 [00:15<00:37,  8.27it/s]"
          ]
        },
        {
          "name": "stdout",
          "output_type": "stream",
          "text": [
            "[3,   160] loss: 0.051\n"
          ]
        },
        {
          "name": "stderr",
          "output_type": "stream",
          "text": [
            " 39%|███▉      | 182/469 [00:18<00:29,  9.64it/s]"
          ]
        },
        {
          "name": "stdout",
          "output_type": "stream",
          "text": [
            "[3,   180] loss: 0.042\n"
          ]
        },
        {
          "name": "stderr",
          "output_type": "stream",
          "text": [
            " 43%|████▎     | 202/469 [00:19<00:27,  9.60it/s]"
          ]
        },
        {
          "name": "stdout",
          "output_type": "stream",
          "text": [
            "[3,   200] loss: 0.036\n"
          ]
        },
        {
          "name": "stderr",
          "output_type": "stream",
          "text": [
            " 47%|████▋     | 222/469 [00:21<00:25,  9.77it/s]"
          ]
        },
        {
          "name": "stdout",
          "output_type": "stream",
          "text": [
            "[3,   220] loss: 0.048\n"
          ]
        },
        {
          "name": "stderr",
          "output_type": "stream",
          "text": [
            " 52%|█████▏    | 242/469 [00:23<00:23,  9.75it/s]"
          ]
        },
        {
          "name": "stdout",
          "output_type": "stream",
          "text": [
            "[3,   240] loss: 0.054\n"
          ]
        },
        {
          "name": "stderr",
          "output_type": "stream",
          "text": [
            " 56%|█████▌    | 262/469 [00:25<00:21,  9.65it/s]"
          ]
        },
        {
          "name": "stdout",
          "output_type": "stream",
          "text": [
            "[3,   260] loss: 0.063\n"
          ]
        },
        {
          "name": "stderr",
          "output_type": "stream",
          "text": [
            " 60%|█████▉    | 280/469 [00:27<00:22,  8.23it/s]"
          ]
        },
        {
          "name": "stdout",
          "output_type": "stream",
          "text": [
            "[3,   280] loss: 0.028\n"
          ]
        },
        {
          "name": "stderr",
          "output_type": "stream",
          "text": [
            " 64%|██████▍   | 301/469 [00:29<00:18,  9.05it/s]"
          ]
        },
        {
          "name": "stdout",
          "output_type": "stream",
          "text": [
            "[3,   300] loss: 0.057\n"
          ]
        },
        {
          "name": "stderr",
          "output_type": "stream",
          "text": [
            " 68%|██████▊   | 321/469 [00:31<00:16,  9.15it/s]"
          ]
        },
        {
          "name": "stdout",
          "output_type": "stream",
          "text": [
            "[3,   320] loss: 0.029\n"
          ]
        },
        {
          "name": "stderr",
          "output_type": "stream",
          "text": [
            " 73%|███████▎  | 341/469 [00:33<00:14,  9.12it/s]"
          ]
        },
        {
          "name": "stdout",
          "output_type": "stream",
          "text": [
            "[3,   340] loss: 0.035\n"
          ]
        },
        {
          "name": "stderr",
          "output_type": "stream",
          "text": [
            " 77%|███████▋  | 361/469 [00:35<00:11,  9.04it/s]"
          ]
        },
        {
          "name": "stdout",
          "output_type": "stream",
          "text": [
            "[3,   360] loss: 0.054\n"
          ]
        },
        {
          "name": "stderr",
          "output_type": "stream",
          "text": [
            " 81%|████████  | 379/469 [00:37<00:08, 10.80it/s]"
          ]
        },
        {
          "name": "stdout",
          "output_type": "stream",
          "text": [
            "[3,   380] loss: 0.029\n"
          ]
        },
        {
          "name": "stderr",
          "output_type": "stream",
          "text": [
            " 85%|████████▌ | 399/469 [00:39<00:06, 10.41it/s]"
          ]
        },
        {
          "name": "stdout",
          "output_type": "stream",
          "text": [
            "[3,   400] loss: 0.043\n"
          ]
        },
        {
          "name": "stderr",
          "output_type": "stream",
          "text": [
            " 90%|████████▉ | 421/469 [00:41<00:05,  8.78it/s]"
          ]
        },
        {
          "name": "stdout",
          "output_type": "stream",
          "text": [
            "[3,   420] loss: 0.048\n"
          ]
        },
        {
          "name": "stderr",
          "output_type": "stream",
          "text": [
            " 94%|█████████▍| 441/469 [00:43<00:03,  8.98it/s]"
          ]
        },
        {
          "name": "stdout",
          "output_type": "stream",
          "text": [
            "[3,   440] loss: 0.028\n"
          ]
        },
        {
          "name": "stderr",
          "output_type": "stream",
          "text": [
            " 98%|█████████▊| 461/469 [00:45<00:01,  7.21it/s]"
          ]
        },
        {
          "name": "stdout",
          "output_type": "stream",
          "text": [
            "[3,   460] loss: 0.025\n"
          ]
        },
        {
          "name": "stderr",
          "output_type": "stream",
          "text": [
            "100%|██████████| 469/469 [00:46<00:00, 10.02it/s]\n",
            "  5%|▍         | 22/469 [00:02<00:52,  8.54it/s]"
          ]
        },
        {
          "name": "stdout",
          "output_type": "stream",
          "text": [
            "[4,    20] loss: 0.032\n"
          ]
        },
        {
          "name": "stderr",
          "output_type": "stream",
          "text": [
            "  9%|▊         | 40/469 [00:04<00:50,  8.52it/s]"
          ]
        },
        {
          "name": "stdout",
          "output_type": "stream",
          "text": [
            "[4,    40] loss: 0.035\n"
          ]
        },
        {
          "name": "stderr",
          "output_type": "stream",
          "text": [
            " 13%|█▎        | 60/469 [00:06<00:45,  9.03it/s]"
          ]
        },
        {
          "name": "stdout",
          "output_type": "stream",
          "text": [
            "[4,    60] loss: 0.028\n"
          ]
        },
        {
          "name": "stderr",
          "output_type": "stream",
          "text": [
            " 17%|█▋        | 82/469 [00:08<00:39,  9.70it/s]"
          ]
        },
        {
          "name": "stdout",
          "output_type": "stream",
          "text": [
            "[4,    80] loss: 0.046\n"
          ]
        },
        {
          "name": "stderr",
          "output_type": "stream",
          "text": [
            " 22%|██▏       | 102/469 [00:10<00:37,  9.75it/s]"
          ]
        },
        {
          "name": "stdout",
          "output_type": "stream",
          "text": [
            "[4,   100] loss: 0.052\n"
          ]
        },
        {
          "name": "stderr",
          "output_type": "stream",
          "text": [
            " 26%|██▌       | 120/469 [00:12<00:38,  9.10it/s]"
          ]
        },
        {
          "name": "stdout",
          "output_type": "stream",
          "text": [
            "[4,   120] loss: 0.032\n"
          ]
        },
        {
          "name": "stderr",
          "output_type": "stream",
          "text": [
            " 30%|███       | 142/469 [00:14<00:34,  9.56it/s]"
          ]
        },
        {
          "name": "stdout",
          "output_type": "stream",
          "text": [
            "[4,   140] loss: 0.036\n"
          ]
        },
        {
          "name": "stderr",
          "output_type": "stream",
          "text": [
            " 34%|███▍      | 160/469 [00:16<00:36,  8.41it/s]"
          ]
        },
        {
          "name": "stdout",
          "output_type": "stream",
          "text": [
            "[4,   160] loss: 0.042\n"
          ]
        },
        {
          "name": "stderr",
          "output_type": "stream",
          "text": [
            " 39%|███▊      | 181/469 [00:18<00:33,  8.53it/s]"
          ]
        },
        {
          "name": "stdout",
          "output_type": "stream",
          "text": [
            "[4,   180] loss: 0.050\n"
          ]
        },
        {
          "name": "stderr",
          "output_type": "stream",
          "text": [
            " 43%|████▎     | 201/469 [00:20<00:29,  9.09it/s]"
          ]
        },
        {
          "name": "stdout",
          "output_type": "stream",
          "text": [
            "[4,   200] loss: 0.055\n"
          ]
        },
        {
          "name": "stderr",
          "output_type": "stream",
          "text": [
            " 47%|████▋     | 221/469 [00:22<00:27,  9.05it/s]"
          ]
        },
        {
          "name": "stdout",
          "output_type": "stream",
          "text": [
            "[4,   220] loss: 0.038\n"
          ]
        },
        {
          "name": "stderr",
          "output_type": "stream",
          "text": [
            " 51%|█████▏    | 241/469 [00:24<00:25,  8.95it/s]"
          ]
        },
        {
          "name": "stdout",
          "output_type": "stream",
          "text": [
            "[4,   240] loss: 0.030\n"
          ]
        },
        {
          "name": "stderr",
          "output_type": "stream",
          "text": [
            " 56%|█████▌    | 261/469 [00:26<00:23,  8.96it/s]"
          ]
        },
        {
          "name": "stdout",
          "output_type": "stream",
          "text": [
            "[4,   260] loss: 0.070\n"
          ]
        },
        {
          "name": "stderr",
          "output_type": "stream",
          "text": [
            " 60%|██████    | 282/469 [00:28<00:20,  9.15it/s]"
          ]
        },
        {
          "name": "stdout",
          "output_type": "stream",
          "text": [
            "[4,   280] loss: 0.033\n"
          ]
        },
        {
          "name": "stderr",
          "output_type": "stream",
          "text": [
            " 64%|██████▍   | 301/469 [00:30<00:20,  8.25it/s]"
          ]
        },
        {
          "name": "stdout",
          "output_type": "stream",
          "text": [
            "[4,   300] loss: 0.038\n"
          ]
        },
        {
          "name": "stderr",
          "output_type": "stream",
          "text": [
            " 68%|██████▊   | 319/469 [00:31<00:13, 10.80it/s]"
          ]
        },
        {
          "name": "stdout",
          "output_type": "stream",
          "text": [
            "[4,   320] loss: 0.033\n"
          ]
        },
        {
          "name": "stderr",
          "output_type": "stream",
          "text": [
            " 73%|███████▎  | 341/469 [00:34<00:14,  8.90it/s]"
          ]
        },
        {
          "name": "stdout",
          "output_type": "stream",
          "text": [
            "[4,   340] loss: 0.040\n"
          ]
        },
        {
          "name": "stderr",
          "output_type": "stream",
          "text": [
            " 77%|███████▋  | 361/469 [00:36<00:11,  9.03it/s]"
          ]
        },
        {
          "name": "stdout",
          "output_type": "stream",
          "text": [
            "[4,   360] loss: 0.029\n"
          ]
        },
        {
          "name": "stderr",
          "output_type": "stream",
          "text": [
            " 81%|████████  | 381/469 [00:38<00:09,  8.84it/s]"
          ]
        },
        {
          "name": "stdout",
          "output_type": "stream",
          "text": [
            "[4,   380] loss: 0.030\n"
          ]
        },
        {
          "name": "stderr",
          "output_type": "stream",
          "text": [
            " 86%|████████▌ | 401/469 [00:40<00:07,  9.03it/s]"
          ]
        },
        {
          "name": "stdout",
          "output_type": "stream",
          "text": [
            "[4,   400] loss: 0.041\n"
          ]
        },
        {
          "name": "stderr",
          "output_type": "stream",
          "text": [
            " 89%|████████▉ | 419/469 [00:41<00:04, 10.31it/s]"
          ]
        },
        {
          "name": "stdout",
          "output_type": "stream",
          "text": [
            "[4,   420] loss: 0.039\n"
          ]
        },
        {
          "name": "stderr",
          "output_type": "stream",
          "text": [
            " 94%|█████████▍| 442/469 [00:44<00:02,  9.46it/s]"
          ]
        },
        {
          "name": "stdout",
          "output_type": "stream",
          "text": [
            "[4,   440] loss: 0.034\n"
          ]
        },
        {
          "name": "stderr",
          "output_type": "stream",
          "text": [
            " 99%|█████████▊| 462/469 [00:46<00:00,  9.46it/s]"
          ]
        },
        {
          "name": "stdout",
          "output_type": "stream",
          "text": [
            "[4,   460] loss: 0.032\n"
          ]
        },
        {
          "name": "stderr",
          "output_type": "stream",
          "text": [
            "100%|██████████| 469/469 [00:46<00:00,  9.99it/s]\n",
            "  5%|▍         | 22/469 [00:02<00:47,  9.49it/s]"
          ]
        },
        {
          "name": "stdout",
          "output_type": "stream",
          "text": [
            "[5,    20] loss: 0.027\n"
          ]
        },
        {
          "name": "stderr",
          "output_type": "stream",
          "text": [
            "  9%|▊         | 41/469 [00:04<00:47,  9.00it/s]"
          ]
        },
        {
          "name": "stdout",
          "output_type": "stream",
          "text": [
            "[5,    40] loss: 0.042\n"
          ]
        },
        {
          "name": "stderr",
          "output_type": "stream",
          "text": [
            " 13%|█▎        | 61/469 [00:05<00:46,  8.70it/s]"
          ]
        },
        {
          "name": "stdout",
          "output_type": "stream",
          "text": [
            "[5,    60] loss: 0.049\n"
          ]
        },
        {
          "name": "stderr",
          "output_type": "stream",
          "text": [
            " 17%|█▋        | 81/469 [00:08<00:48,  8.02it/s]"
          ]
        },
        {
          "name": "stdout",
          "output_type": "stream",
          "text": [
            "[5,    80] loss: 0.031\n"
          ]
        },
        {
          "name": "stderr",
          "output_type": "stream",
          "text": [
            " 22%|██▏       | 101/469 [00:10<00:40,  9.04it/s]"
          ]
        },
        {
          "name": "stdout",
          "output_type": "stream",
          "text": [
            "[5,   100] loss: 0.029\n"
          ]
        },
        {
          "name": "stderr",
          "output_type": "stream",
          "text": [
            " 26%|██▌       | 121/469 [00:12<00:39,  8.91it/s]"
          ]
        },
        {
          "name": "stdout",
          "output_type": "stream",
          "text": [
            "[5,   120] loss: 0.028\n"
          ]
        },
        {
          "name": "stderr",
          "output_type": "stream",
          "text": [
            " 30%|███       | 141/469 [00:14<00:36,  8.98it/s]"
          ]
        },
        {
          "name": "stdout",
          "output_type": "stream",
          "text": [
            "[5,   140] loss: 0.025\n"
          ]
        },
        {
          "name": "stderr",
          "output_type": "stream",
          "text": [
            " 34%|███▍      | 161/469 [00:15<00:34,  9.01it/s]"
          ]
        },
        {
          "name": "stdout",
          "output_type": "stream",
          "text": [
            "[5,   160] loss: 0.040\n"
          ]
        },
        {
          "name": "stderr",
          "output_type": "stream",
          "text": [
            " 39%|███▊      | 181/469 [00:17<00:31,  9.05it/s]"
          ]
        },
        {
          "name": "stdout",
          "output_type": "stream",
          "text": [
            "[5,   180] loss: 0.028\n"
          ]
        },
        {
          "name": "stderr",
          "output_type": "stream",
          "text": [
            " 42%|████▏     | 199/469 [00:19<00:26, 10.31it/s]"
          ]
        },
        {
          "name": "stdout",
          "output_type": "stream",
          "text": [
            "[5,   200] loss: 0.033\n"
          ]
        },
        {
          "name": "stderr",
          "output_type": "stream",
          "text": [
            " 47%|████▋     | 221/469 [00:22<00:27,  9.03it/s]"
          ]
        },
        {
          "name": "stdout",
          "output_type": "stream",
          "text": [
            "[5,   220] loss: 0.019\n"
          ]
        },
        {
          "name": "stderr",
          "output_type": "stream",
          "text": [
            " 51%|█████▏    | 241/469 [00:23<00:24,  9.16it/s]"
          ]
        },
        {
          "name": "stdout",
          "output_type": "stream",
          "text": [
            "[5,   240] loss: 0.042\n"
          ]
        },
        {
          "name": "stderr",
          "output_type": "stream",
          "text": [
            " 56%|█████▌    | 261/469 [00:25<00:23,  9.04it/s]"
          ]
        },
        {
          "name": "stdout",
          "output_type": "stream",
          "text": [
            "[5,   260] loss: 0.021\n"
          ]
        },
        {
          "name": "stderr",
          "output_type": "stream",
          "text": [
            " 60%|█████▉    | 281/469 [00:28<00:24,  7.57it/s]"
          ]
        },
        {
          "name": "stdout",
          "output_type": "stream",
          "text": [
            "[5,   280] loss: 0.036\n"
          ]
        },
        {
          "name": "stderr",
          "output_type": "stream",
          "text": [
            " 64%|██████▍   | 301/469 [00:30<00:18,  8.98it/s]"
          ]
        },
        {
          "name": "stdout",
          "output_type": "stream",
          "text": [
            "[5,   300] loss: 0.031\n"
          ]
        },
        {
          "name": "stderr",
          "output_type": "stream",
          "text": [
            " 68%|██████▊   | 319/469 [00:31<00:14, 10.35it/s]"
          ]
        },
        {
          "name": "stdout",
          "output_type": "stream",
          "text": [
            "[5,   320] loss: 0.028\n"
          ]
        },
        {
          "name": "stderr",
          "output_type": "stream",
          "text": [
            " 73%|███████▎  | 341/469 [00:34<00:14,  9.03it/s]"
          ]
        },
        {
          "name": "stdout",
          "output_type": "stream",
          "text": [
            "[5,   340] loss: 0.032\n"
          ]
        },
        {
          "name": "stderr",
          "output_type": "stream",
          "text": [
            " 77%|███████▋  | 361/469 [00:36<00:12,  8.97it/s]"
          ]
        },
        {
          "name": "stdout",
          "output_type": "stream",
          "text": [
            "[5,   360] loss: 0.030\n"
          ]
        },
        {
          "name": "stderr",
          "output_type": "stream",
          "text": [
            " 81%|████████  | 381/469 [00:38<00:09,  9.07it/s]"
          ]
        },
        {
          "name": "stdout",
          "output_type": "stream",
          "text": [
            "[5,   380] loss: 0.026\n"
          ]
        },
        {
          "name": "stderr",
          "output_type": "stream",
          "text": [
            " 86%|████████▌ | 401/469 [00:40<00:07,  8.85it/s]"
          ]
        },
        {
          "name": "stdout",
          "output_type": "stream",
          "text": [
            "[5,   400] loss: 0.017\n"
          ]
        },
        {
          "name": "stderr",
          "output_type": "stream",
          "text": [
            " 90%|████████▉ | 421/469 [00:42<00:05,  9.14it/s]"
          ]
        },
        {
          "name": "stdout",
          "output_type": "stream",
          "text": [
            "[5,   420] loss: 0.036\n"
          ]
        },
        {
          "name": "stderr",
          "output_type": "stream",
          "text": [
            " 94%|█████████▎| 439/469 [00:43<00:02, 10.29it/s]"
          ]
        },
        {
          "name": "stdout",
          "output_type": "stream",
          "text": [
            "[5,   440] loss: 0.031\n"
          ]
        },
        {
          "name": "stderr",
          "output_type": "stream",
          "text": [
            " 98%|█████████▊| 461/469 [00:46<00:00,  8.97it/s]"
          ]
        },
        {
          "name": "stdout",
          "output_type": "stream",
          "text": [
            "[5,   460] loss: 0.046\n"
          ]
        },
        {
          "name": "stderr",
          "output_type": "stream",
          "text": [
            "100%|██████████| 469/469 [00:47<00:00,  9.97it/s]\n",
            "  5%|▍         | 22/469 [00:02<00:46,  9.53it/s]"
          ]
        },
        {
          "name": "stdout",
          "output_type": "stream",
          "text": [
            "[6,    20] loss: 0.027\n"
          ]
        },
        {
          "name": "stderr",
          "output_type": "stream",
          "text": [
            "  9%|▉         | 42/469 [00:04<00:44,  9.50it/s]"
          ]
        },
        {
          "name": "stdout",
          "output_type": "stream",
          "text": [
            "[6,    40] loss: 0.041\n"
          ]
        },
        {
          "name": "stderr",
          "output_type": "stream",
          "text": [
            " 13%|█▎        | 62/469 [00:06<00:42,  9.54it/s]"
          ]
        },
        {
          "name": "stdout",
          "output_type": "stream",
          "text": [
            "[6,    60] loss: 0.026\n"
          ]
        },
        {
          "name": "stderr",
          "output_type": "stream",
          "text": [
            " 17%|█▋        | 82/469 [00:08<00:40,  9.61it/s]"
          ]
        },
        {
          "name": "stdout",
          "output_type": "stream",
          "text": [
            "[6,    80] loss: 0.024\n"
          ]
        },
        {
          "name": "stderr",
          "output_type": "stream",
          "text": [
            " 21%|██▏       | 100/469 [00:09<00:45,  8.15it/s]"
          ]
        },
        {
          "name": "stdout",
          "output_type": "stream",
          "text": [
            "[6,   100] loss: 0.024\n"
          ]
        },
        {
          "name": "stderr",
          "output_type": "stream",
          "text": [
            " 26%|██▌       | 122/469 [00:12<00:36,  9.50it/s]"
          ]
        },
        {
          "name": "stdout",
          "output_type": "stream",
          "text": [
            "[6,   120] loss: 0.028\n"
          ]
        },
        {
          "name": "stderr",
          "output_type": "stream",
          "text": [
            " 30%|███       | 142/469 [00:14<00:34,  9.57it/s]"
          ]
        },
        {
          "name": "stdout",
          "output_type": "stream",
          "text": [
            "[6,   140] loss: 0.031\n"
          ]
        },
        {
          "name": "stderr",
          "output_type": "stream",
          "text": [
            " 35%|███▍      | 162/469 [00:15<00:31,  9.61it/s]"
          ]
        },
        {
          "name": "stdout",
          "output_type": "stream",
          "text": [
            "[6,   160] loss: 0.034\n"
          ]
        },
        {
          "name": "stderr",
          "output_type": "stream",
          "text": [
            " 39%|███▉      | 182/469 [00:17<00:30,  9.57it/s]"
          ]
        },
        {
          "name": "stdout",
          "output_type": "stream",
          "text": [
            "[6,   180] loss: 0.029\n"
          ]
        },
        {
          "name": "stderr",
          "output_type": "stream",
          "text": [
            " 43%|████▎     | 202/469 [00:19<00:27,  9.58it/s]"
          ]
        },
        {
          "name": "stdout",
          "output_type": "stream",
          "text": [
            "[6,   200] loss: 0.032\n"
          ]
        },
        {
          "name": "stderr",
          "output_type": "stream",
          "text": [
            " 47%|████▋     | 220/469 [00:21<00:30,  8.16it/s]"
          ]
        },
        {
          "name": "stdout",
          "output_type": "stream",
          "text": [
            "[6,   220] loss: 0.032\n"
          ]
        },
        {
          "name": "stderr",
          "output_type": "stream",
          "text": [
            " 52%|█████▏    | 242/469 [00:23<00:23,  9.54it/s]"
          ]
        },
        {
          "name": "stdout",
          "output_type": "stream",
          "text": [
            "[6,   240] loss: 0.023\n"
          ]
        },
        {
          "name": "stderr",
          "output_type": "stream",
          "text": [
            " 56%|█████▌    | 262/469 [00:25<00:21,  9.53it/s]"
          ]
        },
        {
          "name": "stdout",
          "output_type": "stream",
          "text": [
            "[6,   260] loss: 0.021\n"
          ]
        },
        {
          "name": "stderr",
          "output_type": "stream",
          "text": [
            " 60%|██████    | 282/469 [00:27<00:19,  9.54it/s]"
          ]
        },
        {
          "name": "stdout",
          "output_type": "stream",
          "text": [
            "[6,   280] loss: 0.030\n"
          ]
        },
        {
          "name": "stderr",
          "output_type": "stream",
          "text": [
            " 64%|██████▍   | 302/469 [00:29<00:17,  9.52it/s]"
          ]
        },
        {
          "name": "stdout",
          "output_type": "stream",
          "text": [
            "[6,   300] loss: 0.027\n"
          ]
        },
        {
          "name": "stderr",
          "output_type": "stream",
          "text": [
            " 69%|██████▊   | 322/469 [00:31<00:15,  9.62it/s]"
          ]
        },
        {
          "name": "stdout",
          "output_type": "stream",
          "text": [
            "[6,   320] loss: 0.044\n"
          ]
        },
        {
          "name": "stderr",
          "output_type": "stream",
          "text": [
            " 72%|███████▏  | 340/469 [00:33<00:15,  8.29it/s]"
          ]
        },
        {
          "name": "stdout",
          "output_type": "stream",
          "text": [
            "[6,   340] loss: 0.026\n"
          ]
        },
        {
          "name": "stderr",
          "output_type": "stream",
          "text": [
            " 77%|███████▋  | 362/469 [00:35<00:11,  9.45it/s]"
          ]
        },
        {
          "name": "stdout",
          "output_type": "stream",
          "text": [
            "[6,   360] loss: 0.025\n"
          ]
        },
        {
          "name": "stderr",
          "output_type": "stream",
          "text": [
            " 81%|████████▏ | 382/469 [00:37<00:09,  9.65it/s]"
          ]
        },
        {
          "name": "stdout",
          "output_type": "stream",
          "text": [
            "[6,   380] loss: 0.038\n"
          ]
        },
        {
          "name": "stderr",
          "output_type": "stream",
          "text": [
            " 86%|████████▌ | 402/469 [00:39<00:07,  9.55it/s]"
          ]
        },
        {
          "name": "stdout",
          "output_type": "stream",
          "text": [
            "[6,   400] loss: 0.053\n"
          ]
        },
        {
          "name": "stderr",
          "output_type": "stream",
          "text": [
            " 90%|████████▉ | 422/469 [00:41<00:04,  9.49it/s]"
          ]
        },
        {
          "name": "stdout",
          "output_type": "stream",
          "text": [
            "[6,   420] loss: 0.029\n"
          ]
        },
        {
          "name": "stderr",
          "output_type": "stream",
          "text": [
            " 94%|█████████▍| 442/469 [00:43<00:02,  9.59it/s]"
          ]
        },
        {
          "name": "stdout",
          "output_type": "stream",
          "text": [
            "[6,   440] loss: 0.033\n"
          ]
        },
        {
          "name": "stderr",
          "output_type": "stream",
          "text": [
            " 98%|█████████▊| 460/469 [00:45<00:01,  8.47it/s]"
          ]
        },
        {
          "name": "stdout",
          "output_type": "stream",
          "text": [
            "[6,   460] loss: 0.038\n"
          ]
        },
        {
          "name": "stderr",
          "output_type": "stream",
          "text": [
            "100%|██████████| 469/469 [00:46<00:00, 10.10it/s]\n",
            "  5%|▍         | 22/469 [00:02<00:47,  9.50it/s]"
          ]
        },
        {
          "name": "stdout",
          "output_type": "stream",
          "text": [
            "[7,    20] loss: 0.067\n"
          ]
        },
        {
          "name": "stderr",
          "output_type": "stream",
          "text": [
            "  9%|▉         | 42/469 [00:04<00:44,  9.52it/s]"
          ]
        },
        {
          "name": "stdout",
          "output_type": "stream",
          "text": [
            "[7,    40] loss: 0.037\n"
          ]
        },
        {
          "name": "stderr",
          "output_type": "stream",
          "text": [
            " 13%|█▎        | 62/469 [00:06<00:42,  9.54it/s]"
          ]
        },
        {
          "name": "stdout",
          "output_type": "stream",
          "text": [
            "[7,    60] loss: 0.033\n"
          ]
        },
        {
          "name": "stderr",
          "output_type": "stream",
          "text": [
            " 17%|█▋        | 82/469 [00:08<00:40,  9.44it/s]"
          ]
        },
        {
          "name": "stdout",
          "output_type": "stream",
          "text": [
            "[7,    80] loss: 0.024\n"
          ]
        },
        {
          "name": "stderr",
          "output_type": "stream",
          "text": [
            " 22%|██▏       | 102/469 [00:10<00:38,  9.53it/s]"
          ]
        },
        {
          "name": "stdout",
          "output_type": "stream",
          "text": [
            "[7,   100] loss: 0.026\n"
          ]
        },
        {
          "name": "stderr",
          "output_type": "stream",
          "text": [
            " 26%|██▌       | 120/469 [00:11<00:41,  8.42it/s]"
          ]
        },
        {
          "name": "stdout",
          "output_type": "stream",
          "text": [
            "[7,   120] loss: 0.058\n"
          ]
        },
        {
          "name": "stderr",
          "output_type": "stream",
          "text": [
            " 30%|███       | 141/469 [00:14<00:36,  8.87it/s]"
          ]
        },
        {
          "name": "stdout",
          "output_type": "stream",
          "text": [
            "[7,   140] loss: 0.038\n"
          ]
        },
        {
          "name": "stderr",
          "output_type": "stream",
          "text": [
            " 34%|███▍      | 161/469 [00:16<00:34,  9.00it/s]"
          ]
        },
        {
          "name": "stdout",
          "output_type": "stream",
          "text": [
            "[7,   160] loss: 0.027\n"
          ]
        },
        {
          "name": "stderr",
          "output_type": "stream",
          "text": [
            " 39%|███▊      | 181/469 [00:17<00:31,  9.11it/s]"
          ]
        },
        {
          "name": "stdout",
          "output_type": "stream",
          "text": [
            "[7,   180] loss: 0.027\n"
          ]
        },
        {
          "name": "stderr",
          "output_type": "stream",
          "text": [
            " 43%|████▎     | 201/469 [00:19<00:29,  8.98it/s]"
          ]
        },
        {
          "name": "stdout",
          "output_type": "stream",
          "text": [
            "[7,   200] loss: 0.025\n"
          ]
        },
        {
          "name": "stderr",
          "output_type": "stream",
          "text": [
            " 47%|████▋     | 221/469 [00:21<00:27,  8.98it/s]"
          ]
        },
        {
          "name": "stdout",
          "output_type": "stream",
          "text": [
            "[7,   220] loss: 0.026\n"
          ]
        },
        {
          "name": "stderr",
          "output_type": "stream",
          "text": [
            " 51%|█████     | 239/469 [00:23<00:22, 10.06it/s]"
          ]
        },
        {
          "name": "stdout",
          "output_type": "stream",
          "text": [
            "[7,   240] loss: 0.042\n"
          ]
        },
        {
          "name": "stderr",
          "output_type": "stream",
          "text": [
            " 56%|█████▌    | 262/469 [00:26<00:22,  9.27it/s]"
          ]
        },
        {
          "name": "stdout",
          "output_type": "stream",
          "text": [
            "[7,   260] loss: 0.023\n"
          ]
        },
        {
          "name": "stderr",
          "output_type": "stream",
          "text": [
            " 60%|██████    | 282/469 [00:28<00:19,  9.51it/s]"
          ]
        },
        {
          "name": "stdout",
          "output_type": "stream",
          "text": [
            "[7,   280] loss: 0.036\n"
          ]
        },
        {
          "name": "stderr",
          "output_type": "stream",
          "text": [
            " 64%|██████▍   | 302/469 [00:30<00:17,  9.55it/s]"
          ]
        },
        {
          "name": "stdout",
          "output_type": "stream",
          "text": [
            "[7,   300] loss: 0.025\n"
          ]
        },
        {
          "name": "stderr",
          "output_type": "stream",
          "text": [
            " 68%|██████▊   | 320/469 [00:31<00:16,  8.91it/s]"
          ]
        },
        {
          "name": "stdout",
          "output_type": "stream",
          "text": [
            "[7,   320] loss: 0.024\n"
          ]
        },
        {
          "name": "stderr",
          "output_type": "stream",
          "text": [
            " 73%|███████▎  | 342/469 [00:33<00:13,  9.51it/s]"
          ]
        },
        {
          "name": "stdout",
          "output_type": "stream",
          "text": [
            "[7,   340] loss: 0.048\n"
          ]
        },
        {
          "name": "stderr",
          "output_type": "stream",
          "text": [
            " 77%|███████▋  | 360/469 [00:35<00:12,  8.44it/s]"
          ]
        },
        {
          "name": "stdout",
          "output_type": "stream",
          "text": [
            "[7,   360] loss: 0.047\n"
          ]
        },
        {
          "name": "stderr",
          "output_type": "stream",
          "text": [
            " 81%|████████▏ | 382/469 [00:38<00:09,  9.24it/s]"
          ]
        },
        {
          "name": "stdout",
          "output_type": "stream",
          "text": [
            "[7,   380] loss: 0.024\n"
          ]
        },
        {
          "name": "stderr",
          "output_type": "stream",
          "text": [
            " 86%|████████▌ | 402/469 [00:39<00:07,  9.51it/s]"
          ]
        },
        {
          "name": "stdout",
          "output_type": "stream",
          "text": [
            "[7,   400] loss: 0.048\n"
          ]
        },
        {
          "name": "stderr",
          "output_type": "stream",
          "text": [
            " 90%|████████▉ | 422/469 [00:41<00:04,  9.50it/s]"
          ]
        },
        {
          "name": "stdout",
          "output_type": "stream",
          "text": [
            "[7,   420] loss: 0.026\n"
          ]
        },
        {
          "name": "stderr",
          "output_type": "stream",
          "text": [
            " 94%|█████████▍| 442/469 [00:43<00:02,  9.49it/s]"
          ]
        },
        {
          "name": "stdout",
          "output_type": "stream",
          "text": [
            "[7,   440] loss: 0.025\n"
          ]
        },
        {
          "name": "stderr",
          "output_type": "stream",
          "text": [
            " 99%|█████████▊| 462/469 [00:45<00:00,  9.53it/s]"
          ]
        },
        {
          "name": "stdout",
          "output_type": "stream",
          "text": [
            "[7,   460] loss: 0.029\n"
          ]
        },
        {
          "name": "stderr",
          "output_type": "stream",
          "text": [
            "100%|██████████| 469/469 [00:46<00:00, 10.09it/s]\n",
            "  4%|▍         | 20/469 [00:02<00:54,  8.28it/s]"
          ]
        },
        {
          "name": "stdout",
          "output_type": "stream",
          "text": [
            "[8,    20] loss: 0.028\n"
          ]
        },
        {
          "name": "stderr",
          "output_type": "stream",
          "text": [
            "  9%|▉         | 42/469 [00:04<00:45,  9.41it/s]"
          ]
        },
        {
          "name": "stdout",
          "output_type": "stream",
          "text": [
            "[8,    40] loss: 0.035\n"
          ]
        },
        {
          "name": "stderr",
          "output_type": "stream",
          "text": [
            " 13%|█▎        | 62/469 [00:06<00:42,  9.56it/s]"
          ]
        },
        {
          "name": "stdout",
          "output_type": "stream",
          "text": [
            "[8,    60] loss: 0.052\n"
          ]
        },
        {
          "name": "stderr",
          "output_type": "stream",
          "text": [
            " 17%|█▋        | 82/469 [00:08<00:41,  9.42it/s]"
          ]
        },
        {
          "name": "stdout",
          "output_type": "stream",
          "text": [
            "[8,    80] loss: 0.037\n"
          ]
        },
        {
          "name": "stderr",
          "output_type": "stream",
          "text": [
            " 22%|██▏       | 102/469 [00:10<00:39,  9.39it/s]"
          ]
        },
        {
          "name": "stdout",
          "output_type": "stream",
          "text": [
            "[8,   100] loss: 0.050\n"
          ]
        },
        {
          "name": "stderr",
          "output_type": "stream",
          "text": [
            " 26%|██▌       | 122/469 [00:12<00:38,  9.12it/s]"
          ]
        },
        {
          "name": "stdout",
          "output_type": "stream",
          "text": [
            "[8,   120] loss: 0.028\n"
          ]
        },
        {
          "name": "stderr",
          "output_type": "stream",
          "text": [
            " 30%|███       | 141/469 [00:14<00:39,  8.33it/s]"
          ]
        },
        {
          "name": "stdout",
          "output_type": "stream",
          "text": [
            "[8,   140] loss: 0.038\n"
          ]
        },
        {
          "name": "stderr",
          "output_type": "stream",
          "text": [
            " 35%|███▍      | 162/469 [00:16<00:33,  9.14it/s]"
          ]
        },
        {
          "name": "stdout",
          "output_type": "stream",
          "text": [
            "[8,   160] loss: 0.032\n"
          ]
        },
        {
          "name": "stderr",
          "output_type": "stream",
          "text": [
            " 39%|███▉      | 182/469 [00:18<00:30,  9.53it/s]"
          ]
        },
        {
          "name": "stdout",
          "output_type": "stream",
          "text": [
            "[8,   180] loss: 0.029\n"
          ]
        },
        {
          "name": "stderr",
          "output_type": "stream",
          "text": [
            " 43%|████▎     | 202/469 [00:20<00:28,  9.53it/s]"
          ]
        },
        {
          "name": "stdout",
          "output_type": "stream",
          "text": [
            "[8,   200] loss: 0.020\n"
          ]
        },
        {
          "name": "stderr",
          "output_type": "stream",
          "text": [
            " 47%|████▋     | 222/469 [00:22<00:25,  9.55it/s]"
          ]
        },
        {
          "name": "stdout",
          "output_type": "stream",
          "text": [
            "[8,   220] loss: 0.023\n"
          ]
        },
        {
          "name": "stderr",
          "output_type": "stream",
          "text": [
            " 52%|█████▏    | 242/469 [00:24<00:23,  9.53it/s]"
          ]
        },
        {
          "name": "stdout",
          "output_type": "stream",
          "text": [
            "[8,   240] loss: 0.025\n"
          ]
        },
        {
          "name": "stderr",
          "output_type": "stream",
          "text": [
            " 55%|█████▌    | 260/469 [00:25<00:24,  8.41it/s]"
          ]
        },
        {
          "name": "stdout",
          "output_type": "stream",
          "text": [
            "[8,   260] loss: 0.022\n"
          ]
        },
        {
          "name": "stderr",
          "output_type": "stream",
          "text": [
            " 60%|██████    | 282/469 [00:28<00:20,  8.95it/s]"
          ]
        },
        {
          "name": "stdout",
          "output_type": "stream",
          "text": [
            "[8,   280] loss: 0.032\n"
          ]
        },
        {
          "name": "stderr",
          "output_type": "stream",
          "text": [
            " 64%|██████▍   | 300/469 [00:29<00:18,  9.03it/s]"
          ]
        },
        {
          "name": "stdout",
          "output_type": "stream",
          "text": [
            "[8,   300] loss: 0.045\n"
          ]
        },
        {
          "name": "stderr",
          "output_type": "stream",
          "text": [
            " 68%|██████▊   | 321/469 [00:32<00:16,  9.07it/s]"
          ]
        },
        {
          "name": "stdout",
          "output_type": "stream",
          "text": [
            "[8,   320] loss: 0.027\n"
          ]
        },
        {
          "name": "stderr",
          "output_type": "stream",
          "text": [
            " 73%|███████▎  | 341/469 [00:34<00:14,  9.05it/s]"
          ]
        },
        {
          "name": "stdout",
          "output_type": "stream",
          "text": [
            "[8,   340] loss: 0.042\n"
          ]
        },
        {
          "name": "stderr",
          "output_type": "stream",
          "text": [
            " 77%|███████▋  | 361/469 [00:35<00:11,  9.10it/s]"
          ]
        },
        {
          "name": "stdout",
          "output_type": "stream",
          "text": [
            "[8,   360] loss: 0.039\n"
          ]
        },
        {
          "name": "stderr",
          "output_type": "stream",
          "text": [
            " 81%|████████▏ | 382/469 [00:37<00:09,  9.23it/s]"
          ]
        },
        {
          "name": "stdout",
          "output_type": "stream",
          "text": [
            "[8,   380] loss: 0.029\n"
          ]
        },
        {
          "name": "stderr",
          "output_type": "stream",
          "text": [
            " 85%|████████▌ | 399/469 [00:39<00:06, 10.20it/s]"
          ]
        },
        {
          "name": "stdout",
          "output_type": "stream",
          "text": [
            "[8,   400] loss: 0.027\n"
          ]
        },
        {
          "name": "stderr",
          "output_type": "stream",
          "text": [
            " 90%|████████▉ | 422/469 [00:42<00:04,  9.56it/s]"
          ]
        },
        {
          "name": "stdout",
          "output_type": "stream",
          "text": [
            "[8,   420] loss: 0.034\n"
          ]
        },
        {
          "name": "stderr",
          "output_type": "stream",
          "text": [
            " 94%|█████████▍| 442/469 [00:43<00:02,  9.62it/s]"
          ]
        },
        {
          "name": "stdout",
          "output_type": "stream",
          "text": [
            "[8,   440] loss: 0.023\n"
          ]
        },
        {
          "name": "stderr",
          "output_type": "stream",
          "text": [
            " 99%|█████████▊| 462/469 [00:45<00:00,  9.57it/s]"
          ]
        },
        {
          "name": "stdout",
          "output_type": "stream",
          "text": [
            "[8,   460] loss: 0.020\n"
          ]
        },
        {
          "name": "stderr",
          "output_type": "stream",
          "text": [
            "100%|██████████| 469/469 [00:46<00:00, 10.07it/s]\n",
            "  5%|▍         | 22/469 [00:02<00:46,  9.64it/s]"
          ]
        },
        {
          "name": "stdout",
          "output_type": "stream",
          "text": [
            "[9,    20] loss: 0.020\n"
          ]
        },
        {
          "name": "stderr",
          "output_type": "stream",
          "text": [
            "  9%|▉         | 42/469 [00:04<00:47,  9.04it/s]"
          ]
        },
        {
          "name": "stdout",
          "output_type": "stream",
          "text": [
            "[9,    40] loss: 0.028\n"
          ]
        },
        {
          "name": "stderr",
          "output_type": "stream",
          "text": [
            " 13%|█▎        | 62/469 [00:06<00:44,  9.11it/s]"
          ]
        },
        {
          "name": "stdout",
          "output_type": "stream",
          "text": [
            "[9,    60] loss: 0.032\n"
          ]
        },
        {
          "name": "stderr",
          "output_type": "stream",
          "text": [
            " 17%|█▋        | 82/469 [00:08<00:40,  9.64it/s]"
          ]
        },
        {
          "name": "stdout",
          "output_type": "stream",
          "text": [
            "[9,    80] loss: 0.030\n"
          ]
        },
        {
          "name": "stderr",
          "output_type": "stream",
          "text": [
            " 21%|██▏       | 100/469 [00:09<00:41,  8.97it/s]"
          ]
        },
        {
          "name": "stdout",
          "output_type": "stream",
          "text": [
            "[9,   100] loss: 0.030\n"
          ]
        },
        {
          "name": "stderr",
          "output_type": "stream",
          "text": [
            " 26%|██▌       | 122/469 [00:12<00:36,  9.46it/s]"
          ]
        },
        {
          "name": "stdout",
          "output_type": "stream",
          "text": [
            "[9,   120] loss: 0.025\n"
          ]
        },
        {
          "name": "stderr",
          "output_type": "stream",
          "text": [
            " 30%|██▉       | 140/469 [00:13<00:36,  9.08it/s]"
          ]
        },
        {
          "name": "stdout",
          "output_type": "stream",
          "text": [
            "[9,   140] loss: 0.022\n"
          ]
        },
        {
          "name": "stderr",
          "output_type": "stream",
          "text": [
            " 35%|███▍      | 162/469 [00:15<00:32,  9.57it/s]"
          ]
        },
        {
          "name": "stdout",
          "output_type": "stream",
          "text": [
            "[9,   160] loss: 0.020\n"
          ]
        },
        {
          "name": "stderr",
          "output_type": "stream",
          "text": [
            " 38%|███▊      | 180/469 [00:17<00:35,  8.13it/s]"
          ]
        },
        {
          "name": "stdout",
          "output_type": "stream",
          "text": [
            "[9,   180] loss: 0.041\n"
          ]
        },
        {
          "name": "stderr",
          "output_type": "stream",
          "text": [
            " 43%|████▎     | 201/469 [00:19<00:29,  9.09it/s]"
          ]
        },
        {
          "name": "stdout",
          "output_type": "stream",
          "text": [
            "[9,   200] loss: 0.022\n"
          ]
        },
        {
          "name": "stderr",
          "output_type": "stream",
          "text": [
            " 47%|████▋     | 221/469 [00:21<00:27,  9.08it/s]"
          ]
        },
        {
          "name": "stdout",
          "output_type": "stream",
          "text": [
            "[9,   220] loss: 0.029\n"
          ]
        },
        {
          "name": "stderr",
          "output_type": "stream",
          "text": [
            " 51%|█████▏    | 241/469 [00:23<00:25,  9.01it/s]"
          ]
        },
        {
          "name": "stdout",
          "output_type": "stream",
          "text": [
            "[9,   240] loss: 0.034\n"
          ]
        },
        {
          "name": "stderr",
          "output_type": "stream",
          "text": [
            " 56%|█████▌    | 261/469 [00:25<00:23,  9.01it/s]"
          ]
        },
        {
          "name": "stdout",
          "output_type": "stream",
          "text": [
            "[9,   260] loss: 0.023\n"
          ]
        },
        {
          "name": "stderr",
          "output_type": "stream",
          "text": [
            " 59%|█████▉    | 279/469 [00:27<00:17, 10.89it/s]"
          ]
        },
        {
          "name": "stdout",
          "output_type": "stream",
          "text": [
            "[9,   280] loss: 0.038\n"
          ]
        },
        {
          "name": "stderr",
          "output_type": "stream",
          "text": [
            " 64%|██████▍   | 302/469 [00:29<00:19,  8.39it/s]"
          ]
        },
        {
          "name": "stdout",
          "output_type": "stream",
          "text": [
            "[9,   300] loss: 0.032\n"
          ]
        },
        {
          "name": "stderr",
          "output_type": "stream",
          "text": [
            " 68%|██████▊   | 321/469 [00:31<00:16,  8.94it/s]"
          ]
        },
        {
          "name": "stdout",
          "output_type": "stream",
          "text": [
            "[9,   320] loss: 0.025\n"
          ]
        },
        {
          "name": "stderr",
          "output_type": "stream",
          "text": [
            " 73%|███████▎  | 341/469 [00:33<00:14,  9.04it/s]"
          ]
        },
        {
          "name": "stdout",
          "output_type": "stream",
          "text": [
            "[9,   340] loss: 0.020\n"
          ]
        },
        {
          "name": "stderr",
          "output_type": "stream",
          "text": [
            " 77%|███████▋  | 361/469 [00:35<00:12,  8.87it/s]"
          ]
        },
        {
          "name": "stdout",
          "output_type": "stream",
          "text": [
            "[9,   360] loss: 0.024\n"
          ]
        },
        {
          "name": "stderr",
          "output_type": "stream",
          "text": [
            " 81%|████████  | 381/469 [00:37<00:09,  8.94it/s]"
          ]
        },
        {
          "name": "stdout",
          "output_type": "stream",
          "text": [
            "[9,   380] loss: 0.037\n"
          ]
        },
        {
          "name": "stderr",
          "output_type": "stream",
          "text": [
            " 86%|████████▌ | 401/469 [00:39<00:07,  8.98it/s]"
          ]
        },
        {
          "name": "stdout",
          "output_type": "stream",
          "text": [
            "[9,   400] loss: 0.026\n"
          ]
        },
        {
          "name": "stderr",
          "output_type": "stream",
          "text": [
            " 90%|████████▉ | 421/469 [00:41<00:05,  8.19it/s]"
          ]
        },
        {
          "name": "stdout",
          "output_type": "stream",
          "text": [
            "[9,   420] loss: 0.048\n"
          ]
        },
        {
          "name": "stderr",
          "output_type": "stream",
          "text": [
            " 94%|█████████▍| 441/469 [00:43<00:03,  8.89it/s]"
          ]
        },
        {
          "name": "stdout",
          "output_type": "stream",
          "text": [
            "[9,   440] loss: 0.021\n"
          ]
        },
        {
          "name": "stderr",
          "output_type": "stream",
          "text": [
            " 99%|█████████▊| 462/469 [00:45<00:00,  9.16it/s]"
          ]
        },
        {
          "name": "stdout",
          "output_type": "stream",
          "text": [
            "[9,   460] loss: 0.023\n"
          ]
        },
        {
          "name": "stderr",
          "output_type": "stream",
          "text": [
            "100%|██████████| 469/469 [00:46<00:00, 10.08it/s]\n",
            "  5%|▍         | 22/469 [00:02<00:47,  9.46it/s]"
          ]
        },
        {
          "name": "stdout",
          "output_type": "stream",
          "text": [
            "[10,    20] loss: 0.028\n"
          ]
        },
        {
          "name": "stderr",
          "output_type": "stream",
          "text": [
            "  9%|▉         | 42/469 [00:04<00:44,  9.56it/s]"
          ]
        },
        {
          "name": "stdout",
          "output_type": "stream",
          "text": [
            "[10,    40] loss: 0.027\n"
          ]
        },
        {
          "name": "stderr",
          "output_type": "stream",
          "text": [
            " 13%|█▎        | 62/469 [00:06<00:42,  9.64it/s]"
          ]
        },
        {
          "name": "stdout",
          "output_type": "stream",
          "text": [
            "[10,    60] loss: 0.022\n"
          ]
        },
        {
          "name": "stderr",
          "output_type": "stream",
          "text": [
            " 17%|█▋        | 80/469 [00:07<00:47,  8.11it/s]"
          ]
        },
        {
          "name": "stdout",
          "output_type": "stream",
          "text": [
            "[10,    80] loss: 0.026\n"
          ]
        },
        {
          "name": "stderr",
          "output_type": "stream",
          "text": [
            " 22%|██▏       | 102/469 [00:10<00:40,  9.15it/s]"
          ]
        },
        {
          "name": "stdout",
          "output_type": "stream",
          "text": [
            "[10,   100] loss: 0.027\n"
          ]
        },
        {
          "name": "stderr",
          "output_type": "stream",
          "text": [
            " 26%|██▌       | 122/469 [00:12<00:36,  9.42it/s]"
          ]
        },
        {
          "name": "stdout",
          "output_type": "stream",
          "text": [
            "[10,   120] loss: 0.024\n"
          ]
        },
        {
          "name": "stderr",
          "output_type": "stream",
          "text": [
            " 30%|███       | 141/469 [00:14<00:36,  8.92it/s]"
          ]
        },
        {
          "name": "stdout",
          "output_type": "stream",
          "text": [
            "[10,   140] loss: 0.026\n"
          ]
        },
        {
          "name": "stderr",
          "output_type": "stream",
          "text": [
            " 34%|███▍      | 161/469 [00:15<00:34,  8.99it/s]"
          ]
        },
        {
          "name": "stdout",
          "output_type": "stream",
          "text": [
            "[10,   160] loss: 0.030\n"
          ]
        },
        {
          "name": "stderr",
          "output_type": "stream",
          "text": [
            " 39%|███▊      | 181/469 [00:17<00:32,  8.92it/s]"
          ]
        },
        {
          "name": "stdout",
          "output_type": "stream",
          "text": [
            "[10,   180] loss: 0.039\n"
          ]
        },
        {
          "name": "stderr",
          "output_type": "stream",
          "text": [
            " 43%|████▎     | 201/469 [00:20<00:32,  8.19it/s]"
          ]
        },
        {
          "name": "stdout",
          "output_type": "stream",
          "text": [
            "[10,   200] loss: 0.026\n"
          ]
        },
        {
          "name": "stderr",
          "output_type": "stream",
          "text": [
            " 47%|████▋     | 222/469 [00:22<00:26,  9.41it/s]"
          ]
        },
        {
          "name": "stdout",
          "output_type": "stream",
          "text": [
            "[10,   220] loss: 0.022\n"
          ]
        },
        {
          "name": "stderr",
          "output_type": "stream",
          "text": [
            " 52%|█████▏    | 242/469 [00:24<00:24,  9.40it/s]"
          ]
        },
        {
          "name": "stdout",
          "output_type": "stream",
          "text": [
            "[10,   240] loss: 0.045\n"
          ]
        },
        {
          "name": "stderr",
          "output_type": "stream",
          "text": [
            " 56%|█████▌    | 262/469 [00:26<00:21,  9.44it/s]"
          ]
        },
        {
          "name": "stdout",
          "output_type": "stream",
          "text": [
            "[10,   260] loss: 0.039\n"
          ]
        },
        {
          "name": "stderr",
          "output_type": "stream",
          "text": [
            " 60%|██████    | 282/469 [00:28<00:19,  9.58it/s]"
          ]
        },
        {
          "name": "stdout",
          "output_type": "stream",
          "text": [
            "[10,   280] loss: 0.024\n"
          ]
        },
        {
          "name": "stderr",
          "output_type": "stream",
          "text": [
            " 64%|██████▍   | 302/469 [00:30<00:17,  9.55it/s]"
          ]
        },
        {
          "name": "stdout",
          "output_type": "stream",
          "text": [
            "[10,   300] loss: 0.024\n"
          ]
        },
        {
          "name": "stderr",
          "output_type": "stream",
          "text": [
            " 68%|██████▊   | 320/469 [00:31<00:17,  8.33it/s]"
          ]
        },
        {
          "name": "stdout",
          "output_type": "stream",
          "text": [
            "[10,   320] loss: 0.024\n"
          ]
        },
        {
          "name": "stderr",
          "output_type": "stream",
          "text": [
            " 73%|███████▎  | 341/469 [00:34<00:14,  8.83it/s]"
          ]
        },
        {
          "name": "stdout",
          "output_type": "stream",
          "text": [
            "[10,   340] loss: 0.015\n"
          ]
        },
        {
          "name": "stderr",
          "output_type": "stream",
          "text": [
            " 77%|███████▋  | 361/469 [00:36<00:12,  8.98it/s]"
          ]
        },
        {
          "name": "stdout",
          "output_type": "stream",
          "text": [
            "[10,   360] loss: 0.026\n"
          ]
        },
        {
          "name": "stderr",
          "output_type": "stream",
          "text": [
            " 81%|████████  | 381/469 [00:38<00:09,  8.94it/s]"
          ]
        },
        {
          "name": "stdout",
          "output_type": "stream",
          "text": [
            "[10,   380] loss: 0.029\n"
          ]
        },
        {
          "name": "stderr",
          "output_type": "stream",
          "text": [
            " 86%|████████▌ | 401/469 [00:39<00:07,  9.06it/s]"
          ]
        },
        {
          "name": "stdout",
          "output_type": "stream",
          "text": [
            "[10,   400] loss: 0.030\n"
          ]
        },
        {
          "name": "stderr",
          "output_type": "stream",
          "text": [
            " 90%|████████▉ | 421/469 [00:41<00:05,  8.99it/s]"
          ]
        },
        {
          "name": "stdout",
          "output_type": "stream",
          "text": [
            "[10,   420] loss: 0.021\n"
          ]
        },
        {
          "name": "stderr",
          "output_type": "stream",
          "text": [
            " 94%|█████████▍| 441/469 [00:43<00:03,  8.32it/s]"
          ]
        },
        {
          "name": "stdout",
          "output_type": "stream",
          "text": [
            "[10,   440] loss: 0.033\n"
          ]
        },
        {
          "name": "stderr",
          "output_type": "stream",
          "text": [
            " 99%|█████████▊| 462/469 [00:46<00:00,  8.81it/s]"
          ]
        },
        {
          "name": "stdout",
          "output_type": "stream",
          "text": [
            "[10,   460] loss: 0.028\n"
          ]
        },
        {
          "name": "stderr",
          "output_type": "stream",
          "text": [
            "100%|██████████| 469/469 [00:46<00:00, 10.02it/s]\n",
            "  5%|▍         | 22/469 [00:02<00:47,  9.47it/s]"
          ]
        },
        {
          "name": "stdout",
          "output_type": "stream",
          "text": [
            "[11,    20] loss: 0.034\n"
          ]
        },
        {
          "name": "stderr",
          "output_type": "stream",
          "text": [
            "  9%|▉         | 42/469 [00:04<00:44,  9.49it/s]"
          ]
        },
        {
          "name": "stdout",
          "output_type": "stream",
          "text": [
            "[11,    40] loss: 0.016\n"
          ]
        },
        {
          "name": "stderr",
          "output_type": "stream",
          "text": [
            " 13%|█▎        | 62/469 [00:06<00:42,  9.56it/s]"
          ]
        },
        {
          "name": "stdout",
          "output_type": "stream",
          "text": [
            "[11,    60] loss: 0.021\n"
          ]
        },
        {
          "name": "stderr",
          "output_type": "stream",
          "text": [
            " 17%|█▋        | 82/469 [00:08<00:40,  9.53it/s]"
          ]
        },
        {
          "name": "stdout",
          "output_type": "stream",
          "text": [
            "[11,    80] loss: 0.025\n"
          ]
        },
        {
          "name": "stderr",
          "output_type": "stream",
          "text": [
            " 21%|██▏       | 100/469 [00:09<00:44,  8.34it/s]"
          ]
        },
        {
          "name": "stdout",
          "output_type": "stream",
          "text": [
            "[11,   100] loss: 0.044\n"
          ]
        },
        {
          "name": "stderr",
          "output_type": "stream",
          "text": [
            " 26%|██▌       | 121/469 [00:12<00:39,  8.90it/s]"
          ]
        },
        {
          "name": "stdout",
          "output_type": "stream",
          "text": [
            "[11,   120] loss: 0.025\n"
          ]
        },
        {
          "name": "stderr",
          "output_type": "stream",
          "text": [
            " 30%|███       | 141/469 [00:14<00:36,  9.05it/s]"
          ]
        },
        {
          "name": "stdout",
          "output_type": "stream",
          "text": [
            "[11,   140] loss: 0.037\n"
          ]
        },
        {
          "name": "stderr",
          "output_type": "stream",
          "text": [
            " 34%|███▍      | 161/469 [00:15<00:33,  9.07it/s]"
          ]
        },
        {
          "name": "stdout",
          "output_type": "stream",
          "text": [
            "[11,   160] loss: 0.028\n"
          ]
        },
        {
          "name": "stderr",
          "output_type": "stream",
          "text": [
            " 39%|███▊      | 181/469 [00:17<00:31,  9.12it/s]"
          ]
        },
        {
          "name": "stdout",
          "output_type": "stream",
          "text": [
            "[11,   180] loss: 0.057\n"
          ]
        },
        {
          "name": "stderr",
          "output_type": "stream",
          "text": [
            " 43%|████▎     | 201/469 [00:19<00:29,  9.05it/s]"
          ]
        },
        {
          "name": "stdout",
          "output_type": "stream",
          "text": [
            "[11,   200] loss: 0.041\n"
          ]
        },
        {
          "name": "stderr",
          "output_type": "stream",
          "text": [
            " 47%|████▋     | 219/469 [00:21<00:23, 10.46it/s]"
          ]
        },
        {
          "name": "stdout",
          "output_type": "stream",
          "text": [
            "[11,   220] loss: 0.028\n"
          ]
        },
        {
          "name": "stderr",
          "output_type": "stream",
          "text": [
            " 51%|█████▏    | 241/469 [00:23<00:25,  8.81it/s]"
          ]
        },
        {
          "name": "stdout",
          "output_type": "stream",
          "text": [
            "[11,   240] loss: 0.023\n"
          ]
        },
        {
          "name": "stderr",
          "output_type": "stream",
          "text": [
            " 56%|█████▌    | 261/469 [00:25<00:23,  8.90it/s]"
          ]
        },
        {
          "name": "stdout",
          "output_type": "stream",
          "text": [
            "[11,   260] loss: 0.028\n"
          ]
        },
        {
          "name": "stderr",
          "output_type": "stream",
          "text": [
            " 60%|█████▉    | 281/469 [00:27<00:20,  9.01it/s]"
          ]
        },
        {
          "name": "stdout",
          "output_type": "stream",
          "text": [
            "[11,   280] loss: 0.045\n"
          ]
        },
        {
          "name": "stderr",
          "output_type": "stream",
          "text": [
            " 64%|██████▍   | 299/469 [00:29<00:15, 10.89it/s]"
          ]
        },
        {
          "name": "stdout",
          "output_type": "stream",
          "text": [
            "[11,   300] loss: 0.028\n"
          ]
        },
        {
          "name": "stderr",
          "output_type": "stream",
          "text": [
            " 68%|██████▊   | 321/469 [00:31<00:16,  9.03it/s]"
          ]
        },
        {
          "name": "stdout",
          "output_type": "stream",
          "text": [
            "[11,   320] loss: 0.021\n"
          ]
        },
        {
          "name": "stderr",
          "output_type": "stream",
          "text": [
            " 72%|███████▏  | 339/469 [00:33<00:12, 10.45it/s]"
          ]
        },
        {
          "name": "stdout",
          "output_type": "stream",
          "text": [
            "[11,   340] loss: 0.027\n"
          ]
        },
        {
          "name": "stderr",
          "output_type": "stream",
          "text": [
            " 77%|███████▋  | 360/469 [00:35<00:13,  7.89it/s]"
          ]
        },
        {
          "name": "stdout",
          "output_type": "stream",
          "text": [
            "[11,   360] loss: 0.018\n"
          ]
        },
        {
          "name": "stderr",
          "output_type": "stream",
          "text": [
            " 81%|████████▏ | 382/469 [00:37<00:09,  9.51it/s]"
          ]
        },
        {
          "name": "stdout",
          "output_type": "stream",
          "text": [
            "[11,   380] loss: 0.017\n"
          ]
        },
        {
          "name": "stderr",
          "output_type": "stream",
          "text": [
            " 86%|████████▌ | 401/469 [00:39<00:07,  8.96it/s]"
          ]
        },
        {
          "name": "stdout",
          "output_type": "stream",
          "text": [
            "[11,   400] loss: 0.025\n"
          ]
        },
        {
          "name": "stderr",
          "output_type": "stream",
          "text": [
            " 90%|████████▉ | 421/469 [00:41<00:05,  8.94it/s]"
          ]
        },
        {
          "name": "stdout",
          "output_type": "stream",
          "text": [
            "[11,   420] loss: 0.034\n"
          ]
        },
        {
          "name": "stderr",
          "output_type": "stream",
          "text": [
            " 94%|█████████▍| 441/469 [00:43<00:03,  9.04it/s]"
          ]
        },
        {
          "name": "stdout",
          "output_type": "stream",
          "text": [
            "[11,   440] loss: 0.023\n"
          ]
        },
        {
          "name": "stderr",
          "output_type": "stream",
          "text": [
            " 98%|█████████▊| 459/469 [00:45<00:00, 10.75it/s]"
          ]
        },
        {
          "name": "stdout",
          "output_type": "stream",
          "text": [
            "[11,   460] loss: 0.041\n"
          ]
        },
        {
          "name": "stderr",
          "output_type": "stream",
          "text": [
            "100%|██████████| 469/469 [00:46<00:00, 10.08it/s]\n",
            "  5%|▍         | 22/469 [00:02<00:47,  9.45it/s]"
          ]
        },
        {
          "name": "stdout",
          "output_type": "stream",
          "text": [
            "[12,    20] loss: 0.040\n"
          ]
        },
        {
          "name": "stderr",
          "output_type": "stream",
          "text": [
            "  9%|▉         | 42/469 [00:04<00:44,  9.58it/s]"
          ]
        },
        {
          "name": "stdout",
          "output_type": "stream",
          "text": [
            "[12,    40] loss: 0.030\n"
          ]
        },
        {
          "name": "stderr",
          "output_type": "stream",
          "text": [
            " 13%|█▎        | 62/469 [00:06<00:42,  9.54it/s]"
          ]
        },
        {
          "name": "stdout",
          "output_type": "stream",
          "text": [
            "[12,    60] loss: 0.028\n"
          ]
        },
        {
          "name": "stderr",
          "output_type": "stream",
          "text": [
            " 17%|█▋        | 82/469 [00:08<00:40,  9.50it/s]"
          ]
        },
        {
          "name": "stdout",
          "output_type": "stream",
          "text": [
            "[12,    80] loss: 0.021\n"
          ]
        },
        {
          "name": "stderr",
          "output_type": "stream",
          "text": [
            " 22%|██▏       | 102/469 [00:10<00:39,  9.34it/s]"
          ]
        },
        {
          "name": "stdout",
          "output_type": "stream",
          "text": [
            "[12,   100] loss: 0.029\n"
          ]
        },
        {
          "name": "stderr",
          "output_type": "stream",
          "text": [
            " 25%|██▌       | 119/469 [00:11<00:33, 10.44it/s]"
          ]
        },
        {
          "name": "stdout",
          "output_type": "stream",
          "text": [
            "[12,   120] loss: 0.035\n"
          ]
        },
        {
          "name": "stderr",
          "output_type": "stream",
          "text": [
            " 30%|███       | 141/469 [00:14<00:37,  8.70it/s]"
          ]
        },
        {
          "name": "stdout",
          "output_type": "stream",
          "text": [
            "[12,   140] loss: 0.026\n"
          ]
        },
        {
          "name": "stderr",
          "output_type": "stream",
          "text": [
            " 34%|███▍      | 161/469 [00:16<00:34,  9.01it/s]"
          ]
        },
        {
          "name": "stdout",
          "output_type": "stream",
          "text": [
            "[12,   160] loss: 0.023\n"
          ]
        },
        {
          "name": "stderr",
          "output_type": "stream",
          "text": [
            " 39%|███▊      | 181/469 [00:18<00:31,  9.10it/s]"
          ]
        },
        {
          "name": "stdout",
          "output_type": "stream",
          "text": [
            "[12,   180] loss: 0.022\n"
          ]
        },
        {
          "name": "stderr",
          "output_type": "stream",
          "text": [
            " 43%|████▎     | 201/469 [00:19<00:29,  9.18it/s]"
          ]
        },
        {
          "name": "stdout",
          "output_type": "stream",
          "text": [
            "[12,   200] loss: 0.027\n"
          ]
        },
        {
          "name": "stderr",
          "output_type": "stream",
          "text": [
            " 47%|████▋     | 221/469 [00:21<00:27,  9.08it/s]"
          ]
        },
        {
          "name": "stdout",
          "output_type": "stream",
          "text": [
            "[12,   220] loss: 0.026\n"
          ]
        },
        {
          "name": "stderr",
          "output_type": "stream",
          "text": [
            " 51%|█████     | 239/469 [00:23<00:21, 10.47it/s]"
          ]
        },
        {
          "name": "stdout",
          "output_type": "stream",
          "text": [
            "[12,   240] loss: 0.025\n"
          ]
        },
        {
          "name": "stderr",
          "output_type": "stream",
          "text": [
            " 56%|█████▌    | 262/469 [00:26<00:22,  9.26it/s]"
          ]
        },
        {
          "name": "stdout",
          "output_type": "stream",
          "text": [
            "[12,   260] loss: 0.029\n"
          ]
        },
        {
          "name": "stderr",
          "output_type": "stream",
          "text": [
            " 60%|█████▉    | 280/469 [00:27<00:20,  9.05it/s]"
          ]
        },
        {
          "name": "stdout",
          "output_type": "stream",
          "text": [
            "[12,   280] loss: 0.028\n"
          ]
        },
        {
          "name": "stderr",
          "output_type": "stream",
          "text": [
            " 64%|██████▍   | 302/469 [00:29<00:17,  9.54it/s]"
          ]
        },
        {
          "name": "stdout",
          "output_type": "stream",
          "text": [
            "[12,   300] loss: 0.021\n"
          ]
        },
        {
          "name": "stderr",
          "output_type": "stream",
          "text": [
            " 69%|██████▊   | 322/469 [00:31<00:15,  9.63it/s]"
          ]
        },
        {
          "name": "stdout",
          "output_type": "stream",
          "text": [
            "[12,   320] loss: 0.024\n"
          ]
        },
        {
          "name": "stderr",
          "output_type": "stream",
          "text": [
            " 73%|███████▎  | 342/469 [00:33<00:13,  9.54it/s]"
          ]
        },
        {
          "name": "stdout",
          "output_type": "stream",
          "text": [
            "[12,   340] loss: 0.033\n"
          ]
        },
        {
          "name": "stderr",
          "output_type": "stream",
          "text": [
            " 77%|███████▋  | 361/469 [00:35<00:11,  9.21it/s]"
          ]
        },
        {
          "name": "stdout",
          "output_type": "stream",
          "text": [
            "[12,   360] loss: 0.035\n"
          ]
        },
        {
          "name": "stderr",
          "output_type": "stream",
          "text": [
            " 81%|████████  | 379/469 [00:37<00:08, 10.34it/s]"
          ]
        },
        {
          "name": "stdout",
          "output_type": "stream",
          "text": [
            "[12,   380] loss: 0.026\n"
          ]
        },
        {
          "name": "stderr",
          "output_type": "stream",
          "text": [
            " 86%|████████▌ | 401/469 [00:39<00:07,  9.03it/s]"
          ]
        },
        {
          "name": "stdout",
          "output_type": "stream",
          "text": [
            "[12,   400] loss: 0.026\n"
          ]
        },
        {
          "name": "stderr",
          "output_type": "stream",
          "text": [
            " 90%|████████▉ | 421/469 [00:41<00:05,  9.14it/s]"
          ]
        },
        {
          "name": "stdout",
          "output_type": "stream",
          "text": [
            "[12,   420] loss: 0.033\n"
          ]
        },
        {
          "name": "stderr",
          "output_type": "stream",
          "text": [
            " 94%|█████████▍| 441/469 [00:43<00:03,  9.13it/s]"
          ]
        },
        {
          "name": "stdout",
          "output_type": "stream",
          "text": [
            "[12,   440] loss: 0.035\n"
          ]
        },
        {
          "name": "stderr",
          "output_type": "stream",
          "text": [
            " 98%|█████████▊| 461/469 [00:45<00:00,  9.19it/s]"
          ]
        },
        {
          "name": "stdout",
          "output_type": "stream",
          "text": [
            "[12,   460] loss: 0.027\n"
          ]
        },
        {
          "name": "stderr",
          "output_type": "stream",
          "text": [
            "100%|██████████| 469/469 [00:46<00:00, 10.11it/s]\n",
            "  4%|▍         | 21/469 [00:02<00:51,  8.64it/s]"
          ]
        },
        {
          "name": "stdout",
          "output_type": "stream",
          "text": [
            "[13,    20] loss: 0.042\n"
          ]
        },
        {
          "name": "stderr",
          "output_type": "stream",
          "text": [
            "  9%|▉         | 42/469 [00:04<00:45,  9.34it/s]"
          ]
        },
        {
          "name": "stdout",
          "output_type": "stream",
          "text": [
            "[13,    40] loss: 0.042\n"
          ]
        },
        {
          "name": "stderr",
          "output_type": "stream",
          "text": [
            " 13%|█▎        | 62/469 [00:06<00:42,  9.56it/s]"
          ]
        },
        {
          "name": "stdout",
          "output_type": "stream",
          "text": [
            "[13,    60] loss: 0.034\n"
          ]
        },
        {
          "name": "stderr",
          "output_type": "stream",
          "text": [
            " 17%|█▋        | 82/469 [00:08<00:40,  9.63it/s]"
          ]
        },
        {
          "name": "stdout",
          "output_type": "stream",
          "text": [
            "[13,    80] loss: 0.030\n"
          ]
        },
        {
          "name": "stderr",
          "output_type": "stream",
          "text": [
            " 22%|██▏       | 102/469 [00:10<00:38,  9.64it/s]"
          ]
        },
        {
          "name": "stdout",
          "output_type": "stream",
          "text": [
            "[13,   100] loss: 0.031\n"
          ]
        },
        {
          "name": "stderr",
          "output_type": "stream",
          "text": [
            " 26%|██▌       | 120/469 [00:11<00:37,  9.21it/s]"
          ]
        },
        {
          "name": "stdout",
          "output_type": "stream",
          "text": [
            "[13,   120] loss: 0.020\n"
          ]
        },
        {
          "name": "stderr",
          "output_type": "stream",
          "text": [
            " 30%|███       | 141/469 [00:13<00:36,  8.98it/s]"
          ]
        },
        {
          "name": "stdout",
          "output_type": "stream",
          "text": [
            "[13,   140] loss: 0.027\n"
          ]
        },
        {
          "name": "stderr",
          "output_type": "stream",
          "text": [
            " 34%|███▍      | 161/469 [00:15<00:37,  8.18it/s]"
          ]
        },
        {
          "name": "stdout",
          "output_type": "stream",
          "text": [
            "[13,   160] loss: 0.026\n"
          ]
        },
        {
          "name": "stderr",
          "output_type": "stream",
          "text": [
            " 39%|███▊      | 181/469 [00:17<00:31,  9.19it/s]"
          ]
        },
        {
          "name": "stdout",
          "output_type": "stream",
          "text": [
            "[13,   180] loss: 0.017\n"
          ]
        },
        {
          "name": "stderr",
          "output_type": "stream",
          "text": [
            " 43%|████▎     | 201/469 [00:19<00:28,  9.26it/s]"
          ]
        },
        {
          "name": "stdout",
          "output_type": "stream",
          "text": [
            "[13,   200] loss: 0.031\n"
          ]
        },
        {
          "name": "stderr",
          "output_type": "stream",
          "text": [
            " 47%|████▋     | 221/469 [00:21<00:26,  9.25it/s]"
          ]
        },
        {
          "name": "stdout",
          "output_type": "stream",
          "text": [
            "[13,   220] loss: 0.040\n"
          ]
        },
        {
          "name": "stderr",
          "output_type": "stream",
          "text": [
            " 51%|█████▏    | 241/469 [00:23<00:24,  9.23it/s]"
          ]
        },
        {
          "name": "stdout",
          "output_type": "stream",
          "text": [
            "[13,   240] loss: 0.023\n"
          ]
        },
        {
          "name": "stderr",
          "output_type": "stream",
          "text": [
            " 56%|█████▌    | 261/469 [00:25<00:22,  9.18it/s]"
          ]
        },
        {
          "name": "stdout",
          "output_type": "stream",
          "text": [
            "[13,   260] loss: 0.023\n"
          ]
        },
        {
          "name": "stderr",
          "output_type": "stream",
          "text": [
            " 60%|█████▉    | 281/469 [00:27<00:22,  8.36it/s]"
          ]
        },
        {
          "name": "stdout",
          "output_type": "stream",
          "text": [
            "[13,   280] loss: 0.030\n"
          ]
        },
        {
          "name": "stderr",
          "output_type": "stream",
          "text": [
            " 64%|██████▍   | 301/469 [00:29<00:18,  9.11it/s]"
          ]
        },
        {
          "name": "stdout",
          "output_type": "stream",
          "text": [
            "[13,   300] loss: 0.031\n"
          ]
        },
        {
          "name": "stderr",
          "output_type": "stream",
          "text": [
            " 68%|██████▊   | 321/469 [00:31<00:16,  9.10it/s]"
          ]
        },
        {
          "name": "stdout",
          "output_type": "stream",
          "text": [
            "[13,   320] loss: 0.019\n"
          ]
        },
        {
          "name": "stderr",
          "output_type": "stream",
          "text": [
            " 73%|███████▎  | 341/469 [00:33<00:13,  9.21it/s]"
          ]
        },
        {
          "name": "stdout",
          "output_type": "stream",
          "text": [
            "[13,   340] loss: 0.037\n"
          ]
        },
        {
          "name": "stderr",
          "output_type": "stream",
          "text": [
            " 77%|███████▋  | 361/469 [00:35<00:11,  9.15it/s]"
          ]
        },
        {
          "name": "stdout",
          "output_type": "stream",
          "text": [
            "[13,   360] loss: 0.032\n"
          ]
        },
        {
          "name": "stderr",
          "output_type": "stream",
          "text": [
            " 81%|████████  | 381/469 [00:37<00:09,  9.13it/s]"
          ]
        },
        {
          "name": "stdout",
          "output_type": "stream",
          "text": [
            "[13,   380] loss: 0.036\n"
          ]
        },
        {
          "name": "stderr",
          "output_type": "stream",
          "text": [
            " 85%|████████▌ | 399/469 [00:39<00:06, 10.54it/s]"
          ]
        },
        {
          "name": "stdout",
          "output_type": "stream",
          "text": [
            "[13,   400] loss: 0.025\n"
          ]
        },
        {
          "name": "stderr",
          "output_type": "stream",
          "text": [
            " 90%|████████▉ | 422/469 [00:41<00:04,  9.46it/s]"
          ]
        },
        {
          "name": "stdout",
          "output_type": "stream",
          "text": [
            "[13,   420] loss: 0.026\n"
          ]
        },
        {
          "name": "stderr",
          "output_type": "stream",
          "text": [
            " 94%|█████████▍| 442/469 [00:43<00:02,  9.54it/s]"
          ]
        },
        {
          "name": "stdout",
          "output_type": "stream",
          "text": [
            "[13,   440] loss: 0.048\n"
          ]
        },
        {
          "name": "stderr",
          "output_type": "stream",
          "text": [
            " 99%|█████████▊| 462/469 [00:45<00:00,  9.74it/s]"
          ]
        },
        {
          "name": "stdout",
          "output_type": "stream",
          "text": [
            "[13,   460] loss: 0.032\n"
          ]
        },
        {
          "name": "stderr",
          "output_type": "stream",
          "text": [
            "100%|██████████| 469/469 [00:46<00:00, 10.18it/s]\n",
            "  5%|▍         | 22/469 [00:02<00:46,  9.67it/s]"
          ]
        },
        {
          "name": "stdout",
          "output_type": "stream",
          "text": [
            "[14,    20] loss: 0.042\n"
          ]
        },
        {
          "name": "stderr",
          "output_type": "stream",
          "text": [
            "  9%|▉         | 42/469 [00:04<00:44,  9.64it/s]"
          ]
        },
        {
          "name": "stdout",
          "output_type": "stream",
          "text": [
            "[14,    40] loss: 0.030\n"
          ]
        },
        {
          "name": "stderr",
          "output_type": "stream",
          "text": [
            " 13%|█▎        | 62/469 [00:06<00:45,  8.92it/s]"
          ]
        },
        {
          "name": "stdout",
          "output_type": "stream",
          "text": [
            "[14,    60] loss: 0.036\n"
          ]
        },
        {
          "name": "stderr",
          "output_type": "stream",
          "text": [
            " 17%|█▋        | 82/469 [00:08<00:40,  9.64it/s]"
          ]
        },
        {
          "name": "stdout",
          "output_type": "stream",
          "text": [
            "[14,    80] loss: 0.025\n"
          ]
        },
        {
          "name": "stderr",
          "output_type": "stream",
          "text": [
            " 22%|██▏       | 102/469 [00:10<00:38,  9.65it/s]"
          ]
        },
        {
          "name": "stdout",
          "output_type": "stream",
          "text": [
            "[14,   100] loss: 0.024\n"
          ]
        },
        {
          "name": "stderr",
          "output_type": "stream",
          "text": [
            " 26%|██▌       | 122/469 [00:12<00:35,  9.66it/s]"
          ]
        },
        {
          "name": "stdout",
          "output_type": "stream",
          "text": [
            "[14,   120] loss: 0.029\n"
          ]
        },
        {
          "name": "stderr",
          "output_type": "stream",
          "text": [
            " 30%|███       | 142/469 [00:13<00:33,  9.63it/s]"
          ]
        },
        {
          "name": "stdout",
          "output_type": "stream",
          "text": [
            "[14,   140] loss: 0.022\n"
          ]
        },
        {
          "name": "stderr",
          "output_type": "stream",
          "text": [
            " 35%|███▍      | 162/469 [00:15<00:31,  9.69it/s]"
          ]
        },
        {
          "name": "stdout",
          "output_type": "stream",
          "text": [
            "[14,   160] loss: 0.029\n"
          ]
        },
        {
          "name": "stderr",
          "output_type": "stream",
          "text": [
            " 38%|███▊      | 180/469 [00:17<00:33,  8.55it/s]"
          ]
        },
        {
          "name": "stdout",
          "output_type": "stream",
          "text": [
            "[14,   180] loss: 0.024\n"
          ]
        },
        {
          "name": "stderr",
          "output_type": "stream",
          "text": [
            " 43%|████▎     | 201/469 [00:19<00:29,  8.99it/s]"
          ]
        },
        {
          "name": "stdout",
          "output_type": "stream",
          "text": [
            "[14,   200] loss: 0.035\n"
          ]
        },
        {
          "name": "stderr",
          "output_type": "stream",
          "text": [
            " 47%|████▋     | 221/469 [00:21<00:26,  9.20it/s]"
          ]
        },
        {
          "name": "stdout",
          "output_type": "stream",
          "text": [
            "[14,   220] loss: 0.025\n"
          ]
        },
        {
          "name": "stderr",
          "output_type": "stream",
          "text": [
            " 51%|█████▏    | 241/469 [00:23<00:25,  9.11it/s]"
          ]
        },
        {
          "name": "stdout",
          "output_type": "stream",
          "text": [
            "[14,   240] loss: 0.023\n"
          ]
        },
        {
          "name": "stderr",
          "output_type": "stream",
          "text": [
            " 56%|█████▌    | 261/469 [00:25<00:22,  9.16it/s]"
          ]
        },
        {
          "name": "stdout",
          "output_type": "stream",
          "text": [
            "[14,   260] loss: 0.025\n"
          ]
        },
        {
          "name": "stderr",
          "output_type": "stream",
          "text": [
            " 60%|█████▉    | 281/469 [00:27<00:20,  9.17it/s]"
          ]
        },
        {
          "name": "stdout",
          "output_type": "stream",
          "text": [
            "[14,   280] loss: 0.035\n"
          ]
        },
        {
          "name": "stderr",
          "output_type": "stream",
          "text": [
            " 64%|██████▍   | 299/469 [00:29<00:16, 10.59it/s]"
          ]
        },
        {
          "name": "stdout",
          "output_type": "stream",
          "text": [
            "[14,   300] loss: 0.028\n"
          ]
        },
        {
          "name": "stderr",
          "output_type": "stream",
          "text": [
            " 68%|██████▊   | 321/469 [00:31<00:16,  8.73it/s]"
          ]
        },
        {
          "name": "stdout",
          "output_type": "stream",
          "text": [
            "[14,   320] loss: 0.033\n"
          ]
        },
        {
          "name": "stderr",
          "output_type": "stream",
          "text": [
            " 73%|███████▎  | 341/469 [00:33<00:13,  9.15it/s]"
          ]
        },
        {
          "name": "stdout",
          "output_type": "stream",
          "text": [
            "[14,   340] loss: 0.032\n"
          ]
        },
        {
          "name": "stderr",
          "output_type": "stream",
          "text": [
            " 77%|███████▋  | 362/469 [00:35<00:11,  9.61it/s]"
          ]
        },
        {
          "name": "stdout",
          "output_type": "stream",
          "text": [
            "[14,   360] loss: 0.025\n"
          ]
        },
        {
          "name": "stderr",
          "output_type": "stream",
          "text": [
            " 81%|████████▏ | 382/469 [00:37<00:08,  9.71it/s]"
          ]
        },
        {
          "name": "stdout",
          "output_type": "stream",
          "text": [
            "[14,   380] loss: 0.028\n"
          ]
        },
        {
          "name": "stderr",
          "output_type": "stream",
          "text": [
            " 86%|████████▌ | 402/469 [00:39<00:06,  9.66it/s]"
          ]
        },
        {
          "name": "stdout",
          "output_type": "stream",
          "text": [
            "[14,   400] loss: 0.022\n"
          ]
        },
        {
          "name": "stderr",
          "output_type": "stream",
          "text": [
            " 90%|████████▉ | 422/469 [00:41<00:04,  9.44it/s]"
          ]
        },
        {
          "name": "stdout",
          "output_type": "stream",
          "text": [
            "[14,   420] loss: 0.031\n"
          ]
        },
        {
          "name": "stderr",
          "output_type": "stream",
          "text": [
            " 94%|█████████▍| 440/469 [00:43<00:03,  8.18it/s]"
          ]
        },
        {
          "name": "stdout",
          "output_type": "stream",
          "text": [
            "[14,   440] loss: 0.033\n"
          ]
        },
        {
          "name": "stderr",
          "output_type": "stream",
          "text": [
            " 98%|█████████▊| 461/469 [00:45<00:00,  9.14it/s]"
          ]
        },
        {
          "name": "stdout",
          "output_type": "stream",
          "text": [
            "[14,   460] loss: 0.015\n"
          ]
        },
        {
          "name": "stderr",
          "output_type": "stream",
          "text": [
            "100%|██████████| 469/469 [00:46<00:00, 10.16it/s]\n",
            "  5%|▍         | 22/469 [00:02<00:46,  9.58it/s]"
          ]
        },
        {
          "name": "stdout",
          "output_type": "stream",
          "text": [
            "[15,    20] loss: 0.032\n"
          ]
        },
        {
          "name": "stderr",
          "output_type": "stream",
          "text": [
            "  9%|▉         | 42/469 [00:04<00:44,  9.67it/s]"
          ]
        },
        {
          "name": "stdout",
          "output_type": "stream",
          "text": [
            "[15,    40] loss: 0.021\n"
          ]
        },
        {
          "name": "stderr",
          "output_type": "stream",
          "text": [
            " 13%|█▎        | 62/469 [00:06<00:41,  9.70it/s]"
          ]
        },
        {
          "name": "stdout",
          "output_type": "stream",
          "text": [
            "[15,    60] loss: 0.032\n"
          ]
        },
        {
          "name": "stderr",
          "output_type": "stream",
          "text": [
            " 17%|█▋        | 82/469 [00:08<00:42,  9.15it/s]"
          ]
        },
        {
          "name": "stdout",
          "output_type": "stream",
          "text": [
            "[15,    80] loss: 0.033\n"
          ]
        },
        {
          "name": "stderr",
          "output_type": "stream",
          "text": [
            " 22%|██▏       | 102/469 [00:10<00:39,  9.22it/s]"
          ]
        },
        {
          "name": "stdout",
          "output_type": "stream",
          "text": [
            "[15,   100] loss: 0.023\n"
          ]
        },
        {
          "name": "stderr",
          "output_type": "stream",
          "text": [
            " 26%|██▌       | 122/469 [00:12<00:35,  9.69it/s]"
          ]
        },
        {
          "name": "stdout",
          "output_type": "stream",
          "text": [
            "[15,   120] loss: 0.023\n"
          ]
        },
        {
          "name": "stderr",
          "output_type": "stream",
          "text": [
            " 30%|███       | 142/469 [00:13<00:33,  9.65it/s]"
          ]
        },
        {
          "name": "stdout",
          "output_type": "stream",
          "text": [
            "[15,   140] loss: 0.025\n"
          ]
        },
        {
          "name": "stderr",
          "output_type": "stream",
          "text": [
            " 35%|███▍      | 162/469 [00:15<00:31,  9.60it/s]"
          ]
        },
        {
          "name": "stdout",
          "output_type": "stream",
          "text": [
            "[15,   160] loss: 0.021\n"
          ]
        },
        {
          "name": "stderr",
          "output_type": "stream",
          "text": [
            " 39%|███▉      | 182/469 [00:17<00:29,  9.67it/s]"
          ]
        },
        {
          "name": "stdout",
          "output_type": "stream",
          "text": [
            "[15,   180] loss: 0.018\n"
          ]
        },
        {
          "name": "stderr",
          "output_type": "stream",
          "text": [
            " 43%|████▎     | 202/469 [00:19<00:28,  9.32it/s]"
          ]
        },
        {
          "name": "stdout",
          "output_type": "stream",
          "text": [
            "[15,   200] loss: 0.027\n"
          ]
        },
        {
          "name": "stderr",
          "output_type": "stream",
          "text": [
            " 47%|████▋     | 221/469 [00:21<00:31,  7.93it/s]"
          ]
        },
        {
          "name": "stdout",
          "output_type": "stream",
          "text": [
            "[15,   220] loss: 0.031\n"
          ]
        },
        {
          "name": "stderr",
          "output_type": "stream",
          "text": [
            " 51%|█████▏    | 241/469 [00:23<00:25,  9.10it/s]"
          ]
        },
        {
          "name": "stdout",
          "output_type": "stream",
          "text": [
            "[15,   240] loss: 0.020\n"
          ]
        },
        {
          "name": "stderr",
          "output_type": "stream",
          "text": [
            " 56%|█████▌    | 261/469 [00:25<00:22,  9.19it/s]"
          ]
        },
        {
          "name": "stdout",
          "output_type": "stream",
          "text": [
            "[15,   260] loss: 0.026\n"
          ]
        },
        {
          "name": "stderr",
          "output_type": "stream",
          "text": [
            " 60%|█████▉    | 281/469 [00:27<00:20,  9.16it/s]"
          ]
        },
        {
          "name": "stdout",
          "output_type": "stream",
          "text": [
            "[15,   280] loss: 0.030\n"
          ]
        },
        {
          "name": "stderr",
          "output_type": "stream",
          "text": [
            " 64%|██████▍   | 301/469 [00:29<00:18,  9.24it/s]"
          ]
        },
        {
          "name": "stdout",
          "output_type": "stream",
          "text": [
            "[15,   300] loss: 0.023\n"
          ]
        },
        {
          "name": "stderr",
          "output_type": "stream",
          "text": [
            " 68%|██████▊   | 321/469 [00:31<00:16,  9.14it/s]"
          ]
        },
        {
          "name": "stdout",
          "output_type": "stream",
          "text": [
            "[15,   320] loss: 0.024\n"
          ]
        },
        {
          "name": "stderr",
          "output_type": "stream",
          "text": [
            " 72%|███████▏  | 339/469 [00:33<00:12, 10.29it/s]"
          ]
        },
        {
          "name": "stdout",
          "output_type": "stream",
          "text": [
            "[15,   340] loss: 0.042\n"
          ]
        },
        {
          "name": "stderr",
          "output_type": "stream",
          "text": [
            " 77%|███████▋  | 362/469 [00:35<00:11,  9.61it/s]"
          ]
        },
        {
          "name": "stdout",
          "output_type": "stream",
          "text": [
            "[15,   360] loss: 0.032\n"
          ]
        },
        {
          "name": "stderr",
          "output_type": "stream",
          "text": [
            " 81%|████████▏ | 382/469 [00:37<00:08,  9.67it/s]"
          ]
        },
        {
          "name": "stdout",
          "output_type": "stream",
          "text": [
            "[15,   380] loss: 0.028\n"
          ]
        },
        {
          "name": "stderr",
          "output_type": "stream",
          "text": [
            " 86%|████████▌ | 402/469 [00:39<00:06,  9.72it/s]"
          ]
        },
        {
          "name": "stdout",
          "output_type": "stream",
          "text": [
            "[15,   400] loss: 0.027\n"
          ]
        },
        {
          "name": "stderr",
          "output_type": "stream",
          "text": [
            " 90%|████████▉ | 420/469 [00:41<00:05,  9.22it/s]"
          ]
        },
        {
          "name": "stdout",
          "output_type": "stream",
          "text": [
            "[15,   420] loss: 0.041\n"
          ]
        },
        {
          "name": "stderr",
          "output_type": "stream",
          "text": [
            " 94%|█████████▍| 442/469 [00:43<00:02,  9.58it/s]"
          ]
        },
        {
          "name": "stdout",
          "output_type": "stream",
          "text": [
            "[15,   440] loss: 0.027\n"
          ]
        },
        {
          "name": "stderr",
          "output_type": "stream",
          "text": [
            " 98%|█████████▊| 460/469 [00:45<00:01,  8.47it/s]"
          ]
        },
        {
          "name": "stdout",
          "output_type": "stream",
          "text": [
            "[15,   460] loss: 0.017\n"
          ]
        },
        {
          "name": "stderr",
          "output_type": "stream",
          "text": [
            "100%|██████████| 469/469 [00:46<00:00, 10.15it/s]\n",
            "  5%|▍         | 22/469 [00:02<00:46,  9.65it/s]"
          ]
        },
        {
          "name": "stdout",
          "output_type": "stream",
          "text": [
            "[16,    20] loss: 0.024\n"
          ]
        },
        {
          "name": "stderr",
          "output_type": "stream",
          "text": [
            "  9%|▉         | 42/469 [00:04<00:44,  9.63it/s]"
          ]
        },
        {
          "name": "stdout",
          "output_type": "stream",
          "text": [
            "[16,    40] loss: 0.026\n"
          ]
        },
        {
          "name": "stderr",
          "output_type": "stream",
          "text": [
            " 13%|█▎        | 62/469 [00:06<00:41,  9.70it/s]"
          ]
        },
        {
          "name": "stdout",
          "output_type": "stream",
          "text": [
            "[16,    60] loss: 0.031\n"
          ]
        },
        {
          "name": "stderr",
          "output_type": "stream",
          "text": [
            " 17%|█▋        | 82/469 [00:07<00:40,  9.59it/s]"
          ]
        },
        {
          "name": "stdout",
          "output_type": "stream",
          "text": [
            "[16,    80] loss: 0.022\n"
          ]
        },
        {
          "name": "stderr",
          "output_type": "stream",
          "text": [
            " 21%|██▏       | 100/469 [00:09<00:40,  9.09it/s]"
          ]
        },
        {
          "name": "stdout",
          "output_type": "stream",
          "text": [
            "[16,   100] loss: 0.021\n"
          ]
        },
        {
          "name": "stderr",
          "output_type": "stream",
          "text": [
            " 26%|██▌       | 122/469 [00:12<00:39,  8.71it/s]"
          ]
        },
        {
          "name": "stdout",
          "output_type": "stream",
          "text": [
            "[16,   120] loss: 0.025\n"
          ]
        },
        {
          "name": "stderr",
          "output_type": "stream",
          "text": [
            " 30%|███       | 142/469 [00:13<00:34,  9.61it/s]"
          ]
        },
        {
          "name": "stdout",
          "output_type": "stream",
          "text": [
            "[16,   140] loss: 0.033\n"
          ]
        },
        {
          "name": "stderr",
          "output_type": "stream",
          "text": [
            " 35%|███▍      | 162/469 [00:15<00:31,  9.61it/s]"
          ]
        },
        {
          "name": "stdout",
          "output_type": "stream",
          "text": [
            "[16,   160] loss: 0.034\n"
          ]
        },
        {
          "name": "stderr",
          "output_type": "stream",
          "text": [
            " 39%|███▉      | 182/469 [00:17<00:29,  9.66it/s]"
          ]
        },
        {
          "name": "stdout",
          "output_type": "stream",
          "text": [
            "[16,   180] loss: 0.032\n"
          ]
        },
        {
          "name": "stderr",
          "output_type": "stream",
          "text": [
            " 43%|████▎     | 202/469 [00:19<00:27,  9.68it/s]"
          ]
        },
        {
          "name": "stdout",
          "output_type": "stream",
          "text": [
            "[16,   200] loss: 0.021\n"
          ]
        },
        {
          "name": "stderr",
          "output_type": "stream",
          "text": [
            " 47%|████▋     | 222/469 [00:21<00:25,  9.62it/s]"
          ]
        },
        {
          "name": "stdout",
          "output_type": "stream",
          "text": [
            "[16,   220] loss: 0.021\n"
          ]
        },
        {
          "name": "stderr",
          "output_type": "stream",
          "text": [
            " 51%|█████     | 240/469 [00:23<00:27,  8.38it/s]"
          ]
        },
        {
          "name": "stdout",
          "output_type": "stream",
          "text": [
            "[16,   240] loss: 0.033\n"
          ]
        },
        {
          "name": "stderr",
          "output_type": "stream",
          "text": [
            " 56%|█████▌    | 261/469 [00:25<00:23,  9.03it/s]"
          ]
        },
        {
          "name": "stdout",
          "output_type": "stream",
          "text": [
            "[16,   260] loss: 0.043\n"
          ]
        },
        {
          "name": "stderr",
          "output_type": "stream",
          "text": [
            " 60%|█████▉    | 281/469 [00:27<00:20,  9.16it/s]"
          ]
        },
        {
          "name": "stdout",
          "output_type": "stream",
          "text": [
            "[16,   280] loss: 0.027\n"
          ]
        },
        {
          "name": "stderr",
          "output_type": "stream",
          "text": [
            " 64%|██████▍   | 301/469 [00:29<00:18,  9.21it/s]"
          ]
        },
        {
          "name": "stdout",
          "output_type": "stream",
          "text": [
            "[16,   300] loss: 0.023\n"
          ]
        },
        {
          "name": "stderr",
          "output_type": "stream",
          "text": [
            " 68%|██████▊   | 321/469 [00:31<00:16,  9.18it/s]"
          ]
        },
        {
          "name": "stdout",
          "output_type": "stream",
          "text": [
            "[16,   320] loss: 0.018\n"
          ]
        },
        {
          "name": "stderr",
          "output_type": "stream",
          "text": [
            " 73%|███████▎  | 341/469 [00:33<00:13,  9.18it/s]"
          ]
        },
        {
          "name": "stdout",
          "output_type": "stream",
          "text": [
            "[16,   340] loss: 0.023\n"
          ]
        },
        {
          "name": "stderr",
          "output_type": "stream",
          "text": [
            " 77%|███████▋  | 359/469 [00:35<00:10, 10.40it/s]"
          ]
        },
        {
          "name": "stdout",
          "output_type": "stream",
          "text": [
            "[16,   360] loss: 0.021\n"
          ]
        },
        {
          "name": "stderr",
          "output_type": "stream",
          "text": [
            " 81%|████████  | 381/469 [00:37<00:10,  8.78it/s]"
          ]
        },
        {
          "name": "stdout",
          "output_type": "stream",
          "text": [
            "[16,   380] loss: 0.019\n"
          ]
        },
        {
          "name": "stderr",
          "output_type": "stream",
          "text": [
            " 86%|████████▌ | 401/469 [00:39<00:07,  9.15it/s]"
          ]
        },
        {
          "name": "stdout",
          "output_type": "stream",
          "text": [
            "[16,   400] loss: 0.025\n"
          ]
        },
        {
          "name": "stderr",
          "output_type": "stream",
          "text": [
            " 90%|████████▉ | 421/469 [00:41<00:05,  8.90it/s]"
          ]
        },
        {
          "name": "stdout",
          "output_type": "stream",
          "text": [
            "[16,   420] loss: 0.019\n"
          ]
        },
        {
          "name": "stderr",
          "output_type": "stream",
          "text": [
            " 94%|█████████▍| 441/469 [00:43<00:03,  9.07it/s]"
          ]
        },
        {
          "name": "stdout",
          "output_type": "stream",
          "text": [
            "[16,   440] loss: 0.025\n"
          ]
        },
        {
          "name": "stderr",
          "output_type": "stream",
          "text": [
            " 99%|█████████▊| 462/469 [00:45<00:00,  9.21it/s]"
          ]
        },
        {
          "name": "stdout",
          "output_type": "stream",
          "text": [
            "[16,   460] loss: 0.025\n"
          ]
        },
        {
          "name": "stderr",
          "output_type": "stream",
          "text": [
            "100%|██████████| 469/469 [00:46<00:00, 10.18it/s]\n",
            "  4%|▍         | 20/469 [00:02<00:52,  8.51it/s]"
          ]
        },
        {
          "name": "stdout",
          "output_type": "stream",
          "text": [
            "[17,    20] loss: 0.027\n"
          ]
        },
        {
          "name": "stderr",
          "output_type": "stream",
          "text": [
            "  9%|▉         | 42/469 [00:04<00:45,  9.40it/s]"
          ]
        },
        {
          "name": "stdout",
          "output_type": "stream",
          "text": [
            "[17,    40] loss: 0.021\n"
          ]
        },
        {
          "name": "stderr",
          "output_type": "stream",
          "text": [
            " 13%|█▎        | 62/469 [00:06<00:42,  9.68it/s]"
          ]
        },
        {
          "name": "stdout",
          "output_type": "stream",
          "text": [
            "[17,    60] loss: 0.022\n"
          ]
        },
        {
          "name": "stderr",
          "output_type": "stream",
          "text": [
            " 17%|█▋        | 82/469 [00:08<00:40,  9.61it/s]"
          ]
        },
        {
          "name": "stdout",
          "output_type": "stream",
          "text": [
            "[17,    80] loss: 0.025\n"
          ]
        },
        {
          "name": "stderr",
          "output_type": "stream",
          "text": [
            " 22%|██▏       | 102/469 [00:10<00:37,  9.68it/s]"
          ]
        },
        {
          "name": "stdout",
          "output_type": "stream",
          "text": [
            "[17,   100] loss: 0.036\n"
          ]
        },
        {
          "name": "stderr",
          "output_type": "stream",
          "text": [
            " 26%|██▌       | 122/469 [00:12<00:36,  9.59it/s]"
          ]
        },
        {
          "name": "stdout",
          "output_type": "stream",
          "text": [
            "[17,   120] loss: 0.027\n"
          ]
        },
        {
          "name": "stderr",
          "output_type": "stream",
          "text": [
            " 30%|██▉       | 140/469 [00:13<00:39,  8.28it/s]"
          ]
        },
        {
          "name": "stdout",
          "output_type": "stream",
          "text": [
            "[17,   140] loss: 0.027\n"
          ]
        },
        {
          "name": "stderr",
          "output_type": "stream",
          "text": [
            " 35%|███▍      | 162/469 [00:16<00:32,  9.42it/s]"
          ]
        },
        {
          "name": "stdout",
          "output_type": "stream",
          "text": [
            "[17,   160] loss: 0.033\n"
          ]
        },
        {
          "name": "stderr",
          "output_type": "stream",
          "text": [
            " 39%|███▉      | 182/469 [00:18<00:30,  9.57it/s]"
          ]
        },
        {
          "name": "stdout",
          "output_type": "stream",
          "text": [
            "[17,   180] loss: 0.024\n"
          ]
        },
        {
          "name": "stderr",
          "output_type": "stream",
          "text": [
            " 43%|████▎     | 200/469 [00:19<00:29,  9.10it/s]"
          ]
        },
        {
          "name": "stdout",
          "output_type": "stream",
          "text": [
            "[17,   200] loss: 0.025\n"
          ]
        },
        {
          "name": "stderr",
          "output_type": "stream",
          "text": [
            " 47%|████▋     | 222/469 [00:21<00:25,  9.52it/s]"
          ]
        },
        {
          "name": "stdout",
          "output_type": "stream",
          "text": [
            "[17,   220] loss: 0.028\n"
          ]
        },
        {
          "name": "stderr",
          "output_type": "stream",
          "text": [
            " 52%|█████▏    | 242/469 [00:23<00:23,  9.65it/s]"
          ]
        },
        {
          "name": "stdout",
          "output_type": "stream",
          "text": [
            "[17,   240] loss: 0.029\n"
          ]
        },
        {
          "name": "stderr",
          "output_type": "stream",
          "text": [
            " 55%|█████▌    | 260/469 [00:25<00:24,  8.52it/s]"
          ]
        },
        {
          "name": "stdout",
          "output_type": "stream",
          "text": [
            "[17,   260] loss: 0.019\n"
          ]
        },
        {
          "name": "stderr",
          "output_type": "stream",
          "text": [
            " 59%|█████▉    | 279/469 [00:27<00:18, 10.23it/s]"
          ]
        },
        {
          "name": "stdout",
          "output_type": "stream",
          "text": [
            "[17,   280] loss: 0.020\n"
          ]
        },
        {
          "name": "stderr",
          "output_type": "stream",
          "text": [
            " 64%|██████▍   | 301/469 [00:29<00:18,  9.14it/s]"
          ]
        },
        {
          "name": "stdout",
          "output_type": "stream",
          "text": [
            "[17,   300] loss: 0.029\n"
          ]
        },
        {
          "name": "stderr",
          "output_type": "stream",
          "text": [
            " 68%|██████▊   | 321/469 [00:31<00:16,  9.17it/s]"
          ]
        },
        {
          "name": "stdout",
          "output_type": "stream",
          "text": [
            "[17,   320] loss: 0.029\n"
          ]
        },
        {
          "name": "stderr",
          "output_type": "stream",
          "text": [
            " 73%|███████▎  | 341/469 [00:33<00:14,  9.11it/s]"
          ]
        },
        {
          "name": "stdout",
          "output_type": "stream",
          "text": [
            "[17,   340] loss: 0.027\n"
          ]
        },
        {
          "name": "stderr",
          "output_type": "stream",
          "text": [
            " 77%|███████▋  | 361/469 [00:35<00:11,  9.15it/s]"
          ]
        },
        {
          "name": "stdout",
          "output_type": "stream",
          "text": [
            "[17,   360] loss: 0.027\n"
          ]
        },
        {
          "name": "stderr",
          "output_type": "stream",
          "text": [
            " 81%|████████  | 381/469 [00:37<00:09,  9.06it/s]"
          ]
        },
        {
          "name": "stdout",
          "output_type": "stream",
          "text": [
            "[17,   380] loss: 0.028\n"
          ]
        },
        {
          "name": "stderr",
          "output_type": "stream",
          "text": [
            " 85%|████████▌ | 399/469 [00:39<00:06, 10.30it/s]"
          ]
        },
        {
          "name": "stdout",
          "output_type": "stream",
          "text": [
            "[17,   400] loss: 0.030\n"
          ]
        },
        {
          "name": "stderr",
          "output_type": "stream",
          "text": [
            " 90%|████████▉ | 421/469 [00:41<00:05,  9.15it/s]"
          ]
        },
        {
          "name": "stdout",
          "output_type": "stream",
          "text": [
            "[17,   420] loss: 0.018\n"
          ]
        },
        {
          "name": "stderr",
          "output_type": "stream",
          "text": [
            " 94%|█████████▍| 441/469 [00:43<00:03,  9.17it/s]"
          ]
        },
        {
          "name": "stdout",
          "output_type": "stream",
          "text": [
            "[17,   440] loss: 0.020\n"
          ]
        },
        {
          "name": "stderr",
          "output_type": "stream",
          "text": [
            " 98%|█████████▊| 461/469 [00:45<00:00,  9.09it/s]"
          ]
        },
        {
          "name": "stdout",
          "output_type": "stream",
          "text": [
            "[17,   460] loss: 0.038\n"
          ]
        },
        {
          "name": "stderr",
          "output_type": "stream",
          "text": [
            "100%|██████████| 469/469 [00:46<00:00, 10.13it/s]\n",
            "  5%|▍         | 22/469 [00:02<00:46,  9.64it/s]"
          ]
        },
        {
          "name": "stdout",
          "output_type": "stream",
          "text": [
            "[18,    20] loss: 0.036\n"
          ]
        },
        {
          "name": "stderr",
          "output_type": "stream",
          "text": [
            "  9%|▊         | 40/469 [00:03<00:49,  8.73it/s]"
          ]
        },
        {
          "name": "stdout",
          "output_type": "stream",
          "text": [
            "[18,    40] loss: 0.032\n"
          ]
        },
        {
          "name": "stderr",
          "output_type": "stream",
          "text": [
            " 13%|█▎        | 62/469 [00:06<00:45,  8.92it/s]"
          ]
        },
        {
          "name": "stdout",
          "output_type": "stream",
          "text": [
            "[18,    60] loss: 0.028\n"
          ]
        },
        {
          "name": "stderr",
          "output_type": "stream",
          "text": [
            " 17%|█▋        | 82/469 [00:08<00:40,  9.59it/s]"
          ]
        },
        {
          "name": "stdout",
          "output_type": "stream",
          "text": [
            "[18,    80] loss: 0.029\n"
          ]
        },
        {
          "name": "stderr",
          "output_type": "stream",
          "text": [
            " 22%|██▏       | 102/469 [00:10<00:38,  9.61it/s]"
          ]
        },
        {
          "name": "stdout",
          "output_type": "stream",
          "text": [
            "[18,   100] loss: 0.042\n"
          ]
        },
        {
          "name": "stderr",
          "output_type": "stream",
          "text": [
            " 26%|██▌       | 122/469 [00:12<00:36,  9.63it/s]"
          ]
        },
        {
          "name": "stdout",
          "output_type": "stream",
          "text": [
            "[18,   120] loss: 0.039\n"
          ]
        },
        {
          "name": "stderr",
          "output_type": "stream",
          "text": [
            " 30%|███       | 142/469 [00:13<00:34,  9.53it/s]"
          ]
        },
        {
          "name": "stdout",
          "output_type": "stream",
          "text": [
            "[18,   140] loss: 0.031\n"
          ]
        },
        {
          "name": "stderr",
          "output_type": "stream",
          "text": [
            " 35%|███▍      | 162/469 [00:15<00:32,  9.57it/s]"
          ]
        },
        {
          "name": "stdout",
          "output_type": "stream",
          "text": [
            "[18,   160] loss: 0.039\n"
          ]
        },
        {
          "name": "stderr",
          "output_type": "stream",
          "text": [
            " 38%|███▊      | 180/469 [00:17<00:35,  8.25it/s]"
          ]
        },
        {
          "name": "stdout",
          "output_type": "stream",
          "text": [
            "[18,   180] loss: 0.021\n"
          ]
        },
        {
          "name": "stderr",
          "output_type": "stream",
          "text": [
            " 43%|████▎     | 202/469 [00:19<00:27,  9.66it/s]"
          ]
        },
        {
          "name": "stdout",
          "output_type": "stream",
          "text": [
            "[18,   200] loss: 0.019\n"
          ]
        },
        {
          "name": "stderr",
          "output_type": "stream",
          "text": [
            " 47%|████▋     | 222/469 [00:21<00:25,  9.64it/s]"
          ]
        },
        {
          "name": "stdout",
          "output_type": "stream",
          "text": [
            "[18,   220] loss: 0.032\n"
          ]
        },
        {
          "name": "stderr",
          "output_type": "stream",
          "text": [
            " 52%|█████▏    | 242/469 [00:23<00:23,  9.69it/s]"
          ]
        },
        {
          "name": "stdout",
          "output_type": "stream",
          "text": [
            "[18,   240] loss: 0.037\n"
          ]
        },
        {
          "name": "stderr",
          "output_type": "stream",
          "text": [
            " 56%|█████▌    | 262/469 [00:25<00:21,  9.54it/s]"
          ]
        },
        {
          "name": "stdout",
          "output_type": "stream",
          "text": [
            "[18,   260] loss: 0.024\n"
          ]
        },
        {
          "name": "stderr",
          "output_type": "stream",
          "text": [
            " 60%|██████    | 282/469 [00:27<00:19,  9.55it/s]"
          ]
        },
        {
          "name": "stdout",
          "output_type": "stream",
          "text": [
            "[18,   280] loss: 0.035\n"
          ]
        },
        {
          "name": "stderr",
          "output_type": "stream",
          "text": [
            " 64%|██████▍   | 301/469 [00:29<00:19,  8.73it/s]"
          ]
        },
        {
          "name": "stdout",
          "output_type": "stream",
          "text": [
            "[18,   300] loss: 0.029\n"
          ]
        },
        {
          "name": "stderr",
          "output_type": "stream",
          "text": [
            " 69%|██████▊   | 322/469 [00:31<00:15,  9.56it/s]"
          ]
        },
        {
          "name": "stdout",
          "output_type": "stream",
          "text": [
            "[18,   320] loss: 0.019\n"
          ]
        },
        {
          "name": "stderr",
          "output_type": "stream",
          "text": [
            " 73%|███████▎  | 342/469 [00:33<00:13,  9.62it/s]"
          ]
        },
        {
          "name": "stdout",
          "output_type": "stream",
          "text": [
            "[18,   340] loss: 0.024\n"
          ]
        },
        {
          "name": "stderr",
          "output_type": "stream",
          "text": [
            " 77%|███████▋  | 362/469 [00:35<00:11,  9.56it/s]"
          ]
        },
        {
          "name": "stdout",
          "output_type": "stream",
          "text": [
            "[18,   360] loss: 0.032\n"
          ]
        },
        {
          "name": "stderr",
          "output_type": "stream",
          "text": [
            " 81%|████████▏ | 382/469 [00:37<00:09,  9.52it/s]"
          ]
        },
        {
          "name": "stdout",
          "output_type": "stream",
          "text": [
            "[18,   380] loss: 0.021\n"
          ]
        },
        {
          "name": "stderr",
          "output_type": "stream",
          "text": [
            " 86%|████████▌ | 402/469 [00:39<00:07,  9.54it/s]"
          ]
        },
        {
          "name": "stdout",
          "output_type": "stream",
          "text": [
            "[18,   400] loss: 0.020\n"
          ]
        },
        {
          "name": "stderr",
          "output_type": "stream",
          "text": [
            " 90%|████████▉ | 420/469 [00:41<00:05,  8.39it/s]"
          ]
        },
        {
          "name": "stdout",
          "output_type": "stream",
          "text": [
            "[18,   420] loss: 0.031\n"
          ]
        },
        {
          "name": "stderr",
          "output_type": "stream",
          "text": [
            " 94%|█████████▍| 440/469 [00:43<00:03,  8.70it/s]"
          ]
        },
        {
          "name": "stdout",
          "output_type": "stream",
          "text": [
            "[18,   440] loss: 0.038\n"
          ]
        },
        {
          "name": "stderr",
          "output_type": "stream",
          "text": [
            " 98%|█████████▊| 461/469 [00:45<00:00,  9.12it/s]"
          ]
        },
        {
          "name": "stdout",
          "output_type": "stream",
          "text": [
            "[18,   460] loss: 0.029\n"
          ]
        },
        {
          "name": "stderr",
          "output_type": "stream",
          "text": [
            "100%|██████████| 469/469 [00:46<00:00, 10.12it/s]\n",
            "  5%|▍         | 22/469 [00:02<00:46,  9.65it/s]"
          ]
        },
        {
          "name": "stdout",
          "output_type": "stream",
          "text": [
            "[19,    20] loss: 0.022\n"
          ]
        },
        {
          "name": "stderr",
          "output_type": "stream",
          "text": [
            "  9%|▉         | 42/469 [00:04<00:44,  9.54it/s]"
          ]
        },
        {
          "name": "stdout",
          "output_type": "stream",
          "text": [
            "[19,    40] loss: 0.025\n"
          ]
        },
        {
          "name": "stderr",
          "output_type": "stream",
          "text": [
            " 13%|█▎        | 61/469 [00:05<00:44,  9.17it/s]"
          ]
        },
        {
          "name": "stdout",
          "output_type": "stream",
          "text": [
            "[19,    60] loss: 0.016\n"
          ]
        },
        {
          "name": "stderr",
          "output_type": "stream",
          "text": [
            " 17%|█▋        | 81/469 [00:08<00:46,  8.36it/s]"
          ]
        },
        {
          "name": "stdout",
          "output_type": "stream",
          "text": [
            "[19,    80] loss: 0.023\n"
          ]
        },
        {
          "name": "stderr",
          "output_type": "stream",
          "text": [
            " 22%|██▏       | 101/469 [00:10<00:40,  9.06it/s]"
          ]
        },
        {
          "name": "stdout",
          "output_type": "stream",
          "text": [
            "[19,   100] loss: 0.028\n"
          ]
        },
        {
          "name": "stderr",
          "output_type": "stream",
          "text": [
            " 26%|██▌       | 121/469 [00:11<00:37,  9.18it/s]"
          ]
        },
        {
          "name": "stdout",
          "output_type": "stream",
          "text": [
            "[19,   120] loss: 0.033\n"
          ]
        },
        {
          "name": "stderr",
          "output_type": "stream",
          "text": [
            " 30%|███       | 141/469 [00:13<00:36,  9.06it/s]"
          ]
        },
        {
          "name": "stdout",
          "output_type": "stream",
          "text": [
            "[19,   140] loss: 0.029\n"
          ]
        },
        {
          "name": "stderr",
          "output_type": "stream",
          "text": [
            " 34%|███▍      | 161/469 [00:15<00:33,  9.08it/s]"
          ]
        },
        {
          "name": "stdout",
          "output_type": "stream",
          "text": [
            "[19,   160] loss: 0.028\n"
          ]
        },
        {
          "name": "stderr",
          "output_type": "stream",
          "text": [
            " 39%|███▊      | 181/469 [00:17<00:31,  9.10it/s]"
          ]
        },
        {
          "name": "stdout",
          "output_type": "stream",
          "text": [
            "[19,   180] loss: 0.037\n"
          ]
        },
        {
          "name": "stderr",
          "output_type": "stream",
          "text": [
            " 43%|████▎     | 202/469 [00:19<00:30,  8.69it/s]"
          ]
        },
        {
          "name": "stdout",
          "output_type": "stream",
          "text": [
            "[19,   200] loss: 0.018\n"
          ]
        },
        {
          "name": "stderr",
          "output_type": "stream",
          "text": [
            " 47%|████▋     | 222/469 [00:22<00:26,  9.45it/s]"
          ]
        },
        {
          "name": "stdout",
          "output_type": "stream",
          "text": [
            "[19,   220] loss: 0.038\n"
          ]
        },
        {
          "name": "stderr",
          "output_type": "stream",
          "text": [
            " 52%|█████▏    | 242/469 [00:23<00:23,  9.67it/s]"
          ]
        },
        {
          "name": "stdout",
          "output_type": "stream",
          "text": [
            "[19,   240] loss: 0.036\n"
          ]
        },
        {
          "name": "stderr",
          "output_type": "stream",
          "text": [
            " 56%|█████▌    | 262/469 [00:25<00:21,  9.68it/s]"
          ]
        },
        {
          "name": "stdout",
          "output_type": "stream",
          "text": [
            "[19,   260] loss: 0.024\n"
          ]
        },
        {
          "name": "stderr",
          "output_type": "stream",
          "text": [
            " 60%|██████    | 282/469 [00:27<00:19,  9.63it/s]"
          ]
        },
        {
          "name": "stdout",
          "output_type": "stream",
          "text": [
            "[19,   280] loss: 0.017\n"
          ]
        },
        {
          "name": "stderr",
          "output_type": "stream",
          "text": [
            " 64%|██████▍   | 302/469 [00:29<00:17,  9.69it/s]"
          ]
        },
        {
          "name": "stdout",
          "output_type": "stream",
          "text": [
            "[19,   300] loss: 0.024\n"
          ]
        },
        {
          "name": "stderr",
          "output_type": "stream",
          "text": [
            " 69%|██████▊   | 322/469 [00:31<00:16,  9.07it/s]"
          ]
        },
        {
          "name": "stdout",
          "output_type": "stream",
          "text": [
            "[19,   320] loss: 0.027\n"
          ]
        },
        {
          "name": "stderr",
          "output_type": "stream",
          "text": [
            " 73%|███████▎  | 342/469 [00:33<00:14,  8.87it/s]"
          ]
        },
        {
          "name": "stdout",
          "output_type": "stream",
          "text": [
            "[19,   340] loss: 0.024\n"
          ]
        },
        {
          "name": "stderr",
          "output_type": "stream",
          "text": [
            " 77%|███████▋  | 362/469 [00:35<00:11,  9.62it/s]"
          ]
        },
        {
          "name": "stdout",
          "output_type": "stream",
          "text": [
            "[19,   360] loss: 0.034\n"
          ]
        },
        {
          "name": "stderr",
          "output_type": "stream",
          "text": [
            " 81%|████████▏ | 382/469 [00:37<00:09,  9.64it/s]"
          ]
        },
        {
          "name": "stdout",
          "output_type": "stream",
          "text": [
            "[19,   380] loss: 0.015\n"
          ]
        },
        {
          "name": "stderr",
          "output_type": "stream",
          "text": [
            " 86%|████████▌ | 402/469 [00:39<00:06,  9.64it/s]"
          ]
        },
        {
          "name": "stdout",
          "output_type": "stream",
          "text": [
            "[19,   400] loss: 0.021\n"
          ]
        },
        {
          "name": "stderr",
          "output_type": "stream",
          "text": [
            " 90%|████████▉ | 422/469 [00:41<00:04,  9.62it/s]"
          ]
        },
        {
          "name": "stdout",
          "output_type": "stream",
          "text": [
            "[19,   420] loss: 0.019\n"
          ]
        },
        {
          "name": "stderr",
          "output_type": "stream",
          "text": [
            " 94%|█████████▍| 442/469 [00:43<00:02,  9.54it/s]"
          ]
        },
        {
          "name": "stdout",
          "output_type": "stream",
          "text": [
            "[19,   440] loss: 0.026\n"
          ]
        },
        {
          "name": "stderr",
          "output_type": "stream",
          "text": [
            " 98%|█████████▊| 459/469 [00:45<00:00, 10.11it/s]"
          ]
        },
        {
          "name": "stdout",
          "output_type": "stream",
          "text": [
            "[19,   460] loss: 0.020\n"
          ]
        },
        {
          "name": "stderr",
          "output_type": "stream",
          "text": [
            "100%|██████████| 469/469 [00:46<00:00, 10.12it/s]\n",
            "  5%|▍         | 22/469 [00:02<00:46,  9.66it/s]"
          ]
        },
        {
          "name": "stdout",
          "output_type": "stream",
          "text": [
            "[20,    20] loss: 0.033\n"
          ]
        },
        {
          "name": "stderr",
          "output_type": "stream",
          "text": [
            "  9%|▉         | 42/469 [00:04<00:44,  9.69it/s]"
          ]
        },
        {
          "name": "stdout",
          "output_type": "stream",
          "text": [
            "[20,    40] loss: 0.013\n"
          ]
        },
        {
          "name": "stderr",
          "output_type": "stream",
          "text": [
            " 13%|█▎        | 62/469 [00:06<00:42,  9.54it/s]"
          ]
        },
        {
          "name": "stdout",
          "output_type": "stream",
          "text": [
            "[20,    60] loss: 0.035\n"
          ]
        },
        {
          "name": "stderr",
          "output_type": "stream",
          "text": [
            " 17%|█▋        | 82/469 [00:07<00:40,  9.61it/s]"
          ]
        },
        {
          "name": "stdout",
          "output_type": "stream",
          "text": [
            "[20,    80] loss: 0.024\n"
          ]
        },
        {
          "name": "stderr",
          "output_type": "stream",
          "text": [
            " 21%|██▏       | 100/469 [00:09<00:43,  8.54it/s]"
          ]
        },
        {
          "name": "stdout",
          "output_type": "stream",
          "text": [
            "[20,   100] loss: 0.024\n"
          ]
        },
        {
          "name": "stderr",
          "output_type": "stream",
          "text": [
            " 26%|██▌       | 122/469 [00:12<00:38,  8.91it/s]"
          ]
        },
        {
          "name": "stdout",
          "output_type": "stream",
          "text": [
            "[20,   120] loss: 0.031\n"
          ]
        },
        {
          "name": "stderr",
          "output_type": "stream",
          "text": [
            " 30%|███       | 142/469 [00:13<00:34,  9.60it/s]"
          ]
        },
        {
          "name": "stdout",
          "output_type": "stream",
          "text": [
            "[20,   140] loss: 0.037\n"
          ]
        },
        {
          "name": "stderr",
          "output_type": "stream",
          "text": [
            " 35%|███▍      | 162/469 [00:15<00:31,  9.61it/s]"
          ]
        },
        {
          "name": "stdout",
          "output_type": "stream",
          "text": [
            "[20,   160] loss: 0.027\n"
          ]
        },
        {
          "name": "stderr",
          "output_type": "stream",
          "text": [
            " 39%|███▉      | 182/469 [00:17<00:29,  9.60it/s]"
          ]
        },
        {
          "name": "stdout",
          "output_type": "stream",
          "text": [
            "[20,   180] loss: 0.026\n"
          ]
        },
        {
          "name": "stderr",
          "output_type": "stream",
          "text": [
            " 43%|████▎     | 202/469 [00:19<00:27,  9.55it/s]"
          ]
        },
        {
          "name": "stdout",
          "output_type": "stream",
          "text": [
            "[20,   200] loss: 0.020\n"
          ]
        },
        {
          "name": "stderr",
          "output_type": "stream",
          "text": [
            " 47%|████▋     | 222/469 [00:21<00:25,  9.50it/s]"
          ]
        },
        {
          "name": "stdout",
          "output_type": "stream",
          "text": [
            "[20,   220] loss: 0.026\n"
          ]
        },
        {
          "name": "stderr",
          "output_type": "stream",
          "text": [
            " 51%|█████     | 239/469 [00:23<00:22, 10.25it/s]"
          ]
        },
        {
          "name": "stdout",
          "output_type": "stream",
          "text": [
            "[20,   240] loss: 0.024\n"
          ]
        },
        {
          "name": "stderr",
          "output_type": "stream",
          "text": [
            " 56%|█████▌    | 261/469 [00:25<00:22,  9.14it/s]"
          ]
        },
        {
          "name": "stdout",
          "output_type": "stream",
          "text": [
            "[20,   260] loss: 0.034\n"
          ]
        },
        {
          "name": "stderr",
          "output_type": "stream",
          "text": [
            " 60%|█████▉    | 281/469 [00:27<00:20,  9.10it/s]"
          ]
        },
        {
          "name": "stdout",
          "output_type": "stream",
          "text": [
            "[20,   280] loss: 0.026\n"
          ]
        },
        {
          "name": "stderr",
          "output_type": "stream",
          "text": [
            " 64%|██████▍   | 301/469 [00:29<00:18,  9.01it/s]"
          ]
        },
        {
          "name": "stdout",
          "output_type": "stream",
          "text": [
            "[20,   300] loss: 0.022\n"
          ]
        },
        {
          "name": "stderr",
          "output_type": "stream",
          "text": [
            " 68%|██████▊   | 321/469 [00:31<00:16,  9.06it/s]"
          ]
        },
        {
          "name": "stdout",
          "output_type": "stream",
          "text": [
            "[20,   320] loss: 0.026\n"
          ]
        },
        {
          "name": "stderr",
          "output_type": "stream",
          "text": [
            " 73%|███████▎  | 341/469 [00:33<00:14,  9.12it/s]"
          ]
        },
        {
          "name": "stdout",
          "output_type": "stream",
          "text": [
            "[20,   340] loss: 0.026\n"
          ]
        },
        {
          "name": "stderr",
          "output_type": "stream",
          "text": [
            " 77%|███████▋  | 359/469 [00:35<00:10, 10.16it/s]"
          ]
        },
        {
          "name": "stdout",
          "output_type": "stream",
          "text": [
            "[20,   360] loss: 0.017\n"
          ]
        },
        {
          "name": "stderr",
          "output_type": "stream",
          "text": [
            " 81%|████████▏ | 382/469 [00:37<00:09,  9.53it/s]"
          ]
        },
        {
          "name": "stdout",
          "output_type": "stream",
          "text": [
            "[20,   380] loss: 0.029\n"
          ]
        },
        {
          "name": "stderr",
          "output_type": "stream",
          "text": [
            " 86%|████████▌ | 402/469 [00:39<00:06,  9.64it/s]"
          ]
        },
        {
          "name": "stdout",
          "output_type": "stream",
          "text": [
            "[20,   400] loss: 0.032\n"
          ]
        },
        {
          "name": "stderr",
          "output_type": "stream",
          "text": [
            " 90%|████████▉ | 422/469 [00:41<00:04,  9.47it/s]"
          ]
        },
        {
          "name": "stdout",
          "output_type": "stream",
          "text": [
            "[20,   420] loss: 0.019\n"
          ]
        },
        {
          "name": "stderr",
          "output_type": "stream",
          "text": [
            " 94%|█████████▍| 442/469 [00:43<00:02,  9.59it/s]"
          ]
        },
        {
          "name": "stdout",
          "output_type": "stream",
          "text": [
            "[20,   440] loss: 0.029\n"
          ]
        },
        {
          "name": "stderr",
          "output_type": "stream",
          "text": [
            " 99%|█████████▊| 462/469 [00:45<00:00,  9.52it/s]"
          ]
        },
        {
          "name": "stdout",
          "output_type": "stream",
          "text": [
            "[20,   460] loss: 0.035\n"
          ]
        },
        {
          "name": "stderr",
          "output_type": "stream",
          "text": [
            "100%|██████████| 469/469 [00:46<00:00, 10.14it/s]"
          ]
        },
        {
          "name": "stdout",
          "output_type": "stream",
          "text": [
            "finished training\n"
          ]
        },
        {
          "name": "stderr",
          "output_type": "stream",
          "text": [
            "\n"
          ]
        }
      ],
      "source": [
        "schedule = ddpm_schedule(0.0001, 0.02, 300)\n",
        "num_epochs = 20\n",
        "losses = []\n",
        "steps = []\n",
        "step_counter = 0\n",
        "\n",
        "scheduler = torch.optim.lr_scheduler.ExponentialLR(optimizer, 0.1 ** (1.0 / num_epochs))\n",
        "\n",
        "for epoch in range(num_epochs):\n",
        "  running_loss = 0\n",
        "\n",
        "  progress_bar = tqdm.tqdm(time_cond_train_loader)\n",
        "\n",
        "  for i, data in enumerate(progress_bar):\n",
        "    clean_images, _ = data # labels not used here\n",
        "\n",
        "    clean_images = clean_images.cuda()\n",
        "\n",
        "    epsilon = torch.randn_like(clean_images)\n",
        "    t = random.randint(0, 300 - 1)\n",
        "\n",
        "    alpha_bar = schedule[\"alpha_bars\"][t]\n",
        "    x_t = (math.sqrt(alpha_bar) * clean_images) + (math.sqrt(1 - alpha_bar) * epsilon)\n",
        "    x_t = x_t.cuda()\n",
        "\n",
        "    optimizer.zero_grad()\n",
        "    t = t / 300.0\n",
        "    batch_size = clean_images.shape[0]\n",
        "    t_tensor = torch.tensor([t] * batch_size, dtype=torch.float32)\n",
        "    t_tensor = t_tensor.cuda()\n",
        "\n",
        "    outputs = unet(x_t, t_tensor)\n",
        "\n",
        "    loss = criterion(outputs, epsilon)\n",
        "    loss.backward()\n",
        "    optimizer.step()\n",
        "\n",
        "    item = loss.item()\n",
        "    running_loss += item\n",
        "    losses.append(item)\n",
        "\n",
        "    steps.append(step_counter)\n",
        "    step_counter += 1\n",
        "\n",
        "    if i % 20 == 19:    # print every 20 minibatches\n",
        "        print('[%d, %5d] loss: %.3f' % (epoch + 1, i + 1, running_loss / 20))\n",
        "        running_loss = 0.0\n",
        "        gc.collect()\n",
        "\n",
        "  scheduler.step()\n",
        "\n",
        "print(\"finished training\")"
      ]
    },
    {
      "cell_type": "code",
      "execution_count": null,
      "metadata": {
        "colab": {
          "base_uri": "https://localhost:8080/",
          "height": 564
        },
        "id": "rBRxpoxe-65Z",
        "outputId": "2deed708-e9e6-4ba5-f65e-c99da1d28405"
      },
      "outputs": [
        {
          "data": {
            "image/png": "[encoded data removed]",
            "text/plain": [
              "<Figure size 1000x600 with 1 Axes>"
            ]
          },
          "metadata": {},
          "output_type": "display_data"
        }
      ],
      "source": [
        "plt.figure(figsize=(10, 6))\n",
        "plt.plot(steps, losses, label='Minibatch Loss', alpha=0.8)\n",
        "plt.xlabel('Step')\n",
        "plt.ylabel('Loss')\n",
        "plt.yscale('log')\n",
        "plt.title('Minibatch Loss vs. Step')\n",
        "plt.legend()\n",
        "plt.grid(True)\n",
        "plt.show()"
      ]
    },
    {
      "cell_type": "code",
      "execution_count": null,
      "metadata": {
        "colab": {
          "base_uri": "https://localhost:8080/",
          "height": 1000
        },
        "id": "gmCn16B32vV8",
        "outputId": "74a4e09f-9616-4d89-c6fd-c12ce2b34823"
      },
      "outputs": [
        {
          "data": {
            "text/html": [
              "<table class=\"show_images\" style=\"border-spacing:0px;\"><tr><td style=\"padding:1px;\"><img width=\"200\" height=\"200\" style=\"image-rendering:pixelated; object-fit:cover;\" src=\"data:image/png;base64,iVBORw0KGgoAAAANSUhEUgAAABwAAAAcCAIAAAD9b0jDAAAF1klEQVR4nE1WvWsUTRif75ndvbus5O4I2gl6CIKCUYtYCXbBJo2KAQkkFnqVggkiBrSx8A+w04Bgp1ikEUELURARC0E0BoQ0Ine5vbu9ndmdj7d4NLxbHNzu7Mzz+3h+z+I4jimlxphGo1GWpVLKe18UhXOOEMI5L8sSIRRCCCFQSjnntVotz/OyLCmlGGPnHMaYEIIxttZGUUSstc65JEnyPBdCeO+99/V6PYoipVQIAWMMv3t3BoMB3CnL0nsvhHDOIYSklLCYIISUUmVZpmkaQvDej8fjqqoYY3mehxCSJKGUUkoJIVprKB9qxxhzzr33hJAQwmQywRhrrQnnnFKqlBoOh1VVGWOUUs45SiljTAhRFAXnXAiRZRnGeA+plJIxBnVYa/G/SymFEUJpmgIKYwwhRCkFnDLGgDJgCiFECCmKAjBSShFCeZ7HcQxwtdbW2hACiePYe19VVQgBTp5MJmVZWmu997Ozs3fv3n3z5k2v19vZ2Xnx4sXa2hrUOD8///bt23a7PT09zTmvqqqqKqUUxpgppSaTCRSltQY2APu1a9cuX748MzPT7/e/fPnivY+iaDKZAN5Tp04dPHiw2+2ur683Go08z4G3NE0Z0AfUOOdCCHEcO+fm5uZu3Ljhvf/+/fvS0tK3b9845yCIUurAgQPz8/PGmHfv3gkhdnd3oygC54xGIwJ+pJR676FAhBDGuF6v53mutX7w4MGPHz+AULBRCOHRo0fT09Pj8fjXr19lWYINjDGc83q9TvaM7b3nnIcQqqrCGH/69CnLMq318ePHQX1jDGMsSZK1tbWjR4+ORqOLFy9ub29TSpvNJkhflmVRFMR7zxgjhECNjDGl1Gg0+v37987OTrPZ7Ha7hw4dqtVqaZo651ZWVi5cuDAcDq9fv/7z509CCFjCey+lVEoJIUiaptZaKB7ghxCg5K2traIo8jyHp8aYI0eOLC8vR1G0ubn5/v17rTVAhK3hrzEGSykJIdCgsBcsstZ2Op2XL19KKQeDwdmzZ1dWVhYXF5VSr169un37dpZlRVEwxowxSZJorZVSlFLnHE7TFLiglO51sdYavH3p0qV79+4RQqBxQcOrV69ubm5KKUEP2AjWIISSJCF7NlJKWWurqtprEufcxsbGzZs3ocHhKSFkOByCnRljQB10rRAihDAajQhCCF6AsEAIxXFsjAFmKaXPnz9fXV2FQEEIIYQePnw4MzPjnPPeT01Naa0xxsPhMM9z771S6q+ZrbXQSND4wPJerLRaLYTQhw8f7t+/PxgMWq1Wt9sNIQBRYGdQGAKPgaUAVwjBOQeNW6vVAMTJkyevXLkSx/Hy8jIk761bt06fPt1qtXq9XlVV+/btgzoAIihPsiwD6SeTCXCUJAlwjRCam5uTUj5+/Nh7b4zZ2NjAGHc6nTiO95zUaDRCCBAdQggCqDHGRVFIKa21hBDvPXRIu90+f/58lmXr6+vAXb/f397e9t4fPny4qiohBGNsd3fXOcc5B0cTeLnRaMCKEALsyzmPomhhYaHT6fR6PUrp1NRUCKHZbCqljDGvX7+GnNRaSynjOGaMTSaTqqqI1hp0lFJ67wG4tTbLMkrp4uIixnhtbU1r3e/3CSGrq6vtdvvjx49RFMEUQAgZY8bjcVmWsDsB94KHgFNrbVEUYNU8z4uiOHPmjNZaCHHu3LmFhQVr7devXyF3pJRJkkBKgUSUUpwkSQiB/LsgsYCgEMKzZ89mZ2dDCH/+/Akh7N+/P4Tw+fPnpaWlwWBQVRUoLoSAMcU5t9bier0OxQKbIQQppXMOsu7EiRN37tw5duwYOGFra+vJkydPnz6FLoB58f9xyRjjnON2u12WZZ7nwCmMzyRJgCk4DOwF8wd8A36EufR3I4xhpXOOeO/LsgReIP8hFqFYhJAQAuiHLxcYq5AMQgh4xTkHrVWv1xFCuNVqjcdjhBCcDwoyxgAL6AYpDvU652CIWWuBAVhGKYWUwhj/B2gKSw/nyx6RAAAAAElFTkSuQmCC\"/></td><td style=\"padding:1px;\"><img width=\"200\" height=\"200\" style=\"image-rendering:pixelated; object-fit:cover;\" src=\"data:image/png;base64,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\"/></td><td style=\"padding:1px;\"><img width=\"200\" height=\"200\" style=\"image-rendering:pixelated; object-fit:cover;\" src=\"data:image/png;base64,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\"/></td><td style=\"padding:1px;\"><img width=\"200\" height=\"200\" style=\"image-rendering:pixelated; object-fit:cover;\" src=\"data:image/png;base64,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\"/></td></tr></table><table class=\"show_images\" style=\"border-spacing:0px;\"><tr><td style=\"padding:1px;\"><img width=\"200\" height=\"200\" style=\"image-rendering:pixelated; object-fit:cover;\" src=\"data:image/png;base64,iVBORw0KGgoAAAANSUhEUgAAABwAAAAcCAIAAAD9b0jDAAAF8UlEQVR4nD1Wv2tUzxed3+/32zUas6CkFVyLYB0RJIXaiq1lRNlKJGjhXyBaWaURLCxUgo0KW6QSi3RGRTBGCOoGgxs2u2/evPn15lvcz9fXDnPvfeece87gTqeTpqkxhjHWtm3TNEII51yWZWma7u3tRVHEOS+KwhjjnEuSRClFKcUYE0KaprHWcs6NMZ1OR0qptca9Xs85xxiz1jrnKKWMMeecEMJ7jzFWSoUQOOdRFFFKkySRUlJKrbXeezgKIUBLuMiklGVZVlXlvS/L0nvfNE1ZlpPJxHsfRRHGmFIqhDDGUEoRQiEE5xxCCI5CCEmStG2bJIlzrm1bkue59z7LMiFE0zRwhxBSFEWSJGmawm9CCe+9lFIppbVGCCGE2ra11k6n07Ztj46OoAeDttbaEAJjrKoqjPFkMnHOdTqd+fn5169fLy4u7u7uvnv3bn9//+7duwB3CGE6nb59+/b+/ftJkoQQMMYAF56bm/PeCyEIIYSQtm0xxgghKeVgMLhz504cxxhjxpj3Hk7rugY08jyvqur8+fNwhBCC4Ujbtt57KGeMOTo6Qggxxubn52/evFkUBSGEUmqMASZDCEIIIUQURYSQOI7LsrTWArH/wZXnOefcew8A5XneNI0xZjabNU2jlPLe13WtlBJCpGmqtd7Z2fmnqqqqEELGGKUUIWQ2mznnCJT4N6xzjhCitTbGDAaD379/CyEopZ8/f37x4sW9e/cuXLhw48aNra0toPTPnz+j0SiEoLUGurrdLj5x4gTG2BgDRHnvGWOUUqgOdI3HY4xxHMeAb7/ff/bsWZ7n1trV1dXhcAgQc87/A1MphTEWQgAbURTB4JxzrTVMLYTIsiyO48PDw1OnTj18+BA4efPmzfv374G6tm1BzoQQwhhDCE2nU845Qsh7TymllEopYYuUUm3bVlXVtu25c+fW19f7/T7Q8vTpU4ASlurw8NAYk2UZK4qirus4jrXWsCFpmlprGWOEEDgKIVBKT58+/erVq7IsR6NRp9P58uXLx48fQwigdFhIY4wxhjRNE0KIogghxDknhAC4sEiwRUKIxcXFtbW1OI7hPzY3N2/fvi2lTJKEMVYURZZl3vtOp+Ocw0VR/NM2LDtCKEkSECCU7vf7165du3jxIqXUe7+7u3vr1q2dnR3oClswm82iKPLej8djnOc5cFrXdVmWCKE0TZeWlgaDwdLS0ng8FkLMzc3BBrdtyxi7fv361tYWxphzzhjTWidJorWmlBJCvPesKAowt06no7WeTCbPnz9fWVkBKhYWFkIISqkoiuI4bppme3sb3AQcEiwKLBGQJYTgPM/BKLXWRVGMx+O/f//CghFCjDGwiyEEa61SKs/zHz9+vHz5siiKlZWVoihOnjy5sbGxtrYGrhpFEY6iqNvtaq0B1rNnz25sbEAbaFvXNfwNIUQIAVyDxe3t7Vlrt7e3Hz16NBqNQOPHjx9n3W4XBARmPhqNrLVpmkZRNBwOMcZXr179+fNnlmUgDOcc59xau7+/v7q6Oh6PlVJN02CMwaEPDg5wHMeQLWmawp49efLkypUr3nulVBzHgB1UVEp9+vRpYWFhc3Pz8ePHBwcHURQlSVLXNcbYWgvI4mPHjgHMVVUlSWKtXV5eXl9fz7KMUlrXtZQyjuO2bR88eDAcDieTSbfbnU6nsH6cczA5IQT4LEKIWWsRQk3TcM5Bld++ffvw4cPy8jIIKM/zo6Ojy5cvj0YjEM10OgUCwNjqujbGgOwAQ7ywsABOCpODSuq6zvP80qVLZ86c+f79+9evX3/9+gUeSinlnAMyGOMQAlSfzWZpmkLO416vB0lAKYVrIGBK6WQygSyCTMzzHGIOghJmjOMYsiRNU7jOGCMhBIgQpRT4LnSTUvZ6PcYY3Oecw/MAnBDsHCpC5EkpwUxDCAQhVBSFcw4iHkwMY1yWJXiNlBKUgBDSWkOYw332/w+8jRCS57mUEnPOwdKBZWMMmLwxpqoqeBVAHMVxXNf1P1illPAKCiFAyoIYEEL/A97lZl69kuhZAAAAAElFTkSuQmCC\"/></td><td style=\"padding:1px;\"><img width=\"200\" height=\"200\" style=\"image-rendering:pixelated; object-fit:cover;\" src=\"data:image/png;base64,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\"/></td><td style=\"padding:1px;\"><img width=\"200\" height=\"200\" style=\"image-rendering:pixelated; object-fit:cover;\" src=\"data:image/png;base64,iVBORw0KGgoAAAANSUhEUgAAABwAAAAcCAIAAAD9b0jDAAAFhklEQVR4nEVWu24UPRT2dTy3ncnuhghBkQakhCJCokSUKIgiBU8R0fMMIKq0eQPoUxAkqAGJIhJCCBoKIAi0u8qMdzz2eOy/+FD+LbZYHdvnfLezVCmllIoxbmxsaK2zLIsxrtfrJEnGcRyGgTEmpSSECCGGYXDO5Xkupey6riiKpmkIIYQQSul8Pl8ulyEEppQihOD8MAzr9XocxyzLKKVCCLxBKfXee+/xUt/36/VaStn3PSEkhJCmaV3Xf//+VUp1XceKoogxollKKed8GAa8QSltmiZJEkppWZb4Mc/zcRwppX3fD8MghCCEcM67rlNKjeNYliXTWqNZVIQQ0E6M0TlXVZVzznvftq2UMoQwjqMQIsbovUeP4ziGEDjnnHPnXJIkLE1TrTXadM5JKdfrNaU0xhhjFEJwzqWUaC2EQAjJ85xzLoTI87xt2zRNnXNaa+/9OI5FUYg8z4GLcw6lSZIAe+ecc44QkmXZOI7o1FoLrBhjIQRKKcYC+pPJZLFY0CzL8jxPkkRrjQrw470fhoFzjuuyLJNSCiGWy2Xf96DRey+EEELgYAjh33sbGxsglxCSpilutNYSQpIkUUrVdX14ePjmzZsPHz48evTIGANyAI4QwjnHGIsxjuNorTXGCK11mqYxxiRJjDFlWUKMQgil1LVr1168eLG9vf3r16/Dw8PXr19774EDpGKtBaag13vPGGOEkLZtnXMxxmEYrLXe+6IoKKVbW1snJyfXr19/9uzZ7du3T09PjTFVVVFKt7e3d3Z2xnFUSkEM4zhyzmEiYYyp6xrjXKrVORdCeP78+ZUrV/b399+/f18UBeccyEgpDw4O7t279/jx44uLC5gihBBjDCF470VVVYQQay1UrZQCRTdu3Lh///7Lly/Pzs4YY8656XTa9z1jbD6fP3z4cHd3F8xAJ5TSrutijE3TsL7vOecwjHMO3865g4MD59zx8XGWZQ8ePDg6Onr16tXe3h7nvKqqW7duHR0dLZdLY8zFxYUxhjGWpulkMhFCiLIsjTExRugRglVK/f79O4RwfHw8nU6n0ykh5OTk5OfPn865yWQyn8/fvXuXpilmZ4x1XUcIAYDCOYe7OOdAE15++/bt+fn5fD631j558uTs7Oz79+9t23LOv3z5slgsvn79iiPDMMQY8zy31mqt8zwXMAZgds6laVoURQjhz58/d+/eRakxBtZGL9vb26enp6vVCiMrpZBboGscR9G27aUrUKS1Zoyt12ullLU2hAC1Q7nr9doYs7e3B53CC/gopZBwrK7rPM+REYwxBBpaBkzW2svYxpmrV6+en58z9k/mgE5KqbUGH//rP03Tvu+RDkigoijats2yLE3TJEl2dnYYY5TST58+PX36lFIKhtFN13VZliE8aVVVZVlqrQkhsDBmGYbBew+/VlWltd7d3d3a2vr48aO19rIV0C2l5Jwj+qSUzFrbtm3TNFA4cIFrlVJlWRJCVquVEOLz58937ty5efOm9x6xBINhRLSMHPgnVbxTlqX3HixfhgWyEnMMw1BVFaIaZq/rGtqAQeFUhrzCI23bYq8hbxDJVVUha7qu29/f7/teCFEURZqmWJRAKUkSyE4IwZRSxphhGJRSk8mEc45ViM1MKQ0hMMY455PJZDab/fjxI8uyyxyBcgghTdP0fY8oYGCWENL3PdKQUopwAWOXOT+dTr99+1ZVFUSGXYnVLaXEog0hDMNAy7JEnTEmSRK4FvsKDSJ+CCF1XccYtdawg5QSK0QIgZDD+sBkDEgDlDRNCSGz2SyEgL8h3vvNzU2l1Gq1stYWRYHJsIRCCJAnlnbXdV3XUUoptIZMg/Q454vFYnNzs2kaZLsxBozjlqZpZrMZBCuEwJL33iPv/wPOZ06ZX9UV+AAAAABJRU5ErkJggg==\"/></td><td style=\"padding:1px;\"><img width=\"200\" height=\"200\" style=\"image-rendering:pixelated; object-fit:cover;\" src=\"data:image/png;base64,iVBORw0KGgoAAAANSUhEUgAAABwAAAAcCAIAAAD9b0jDAAAFfUlEQVR4nD1WO2sVXRQ97zOv+zImQgiIioIgQsBUioKViqlS+wsEG7ET7FJIxELEQrCwsBaxESUWliIBIYWCQdGLFjdG5t55nOd8xfq4TZjcOfvsvddea+2hWZZlWda2LSGEMRZj1Fo75zjnbdsqpfCQZVld11mWhRAIIbPZrCiKEEKMUQjhvVdKNU2T57m1lvb7fe89TlNKKaW4Bc8hBGut1toYk6YpY8x7zzk3xnDOkySJMTrnuq4TQsQY8ZYxxoQQeNE0DcIYY13XoQqUP4+nlHZdlyRJkiRlWXrvCSGEkBCC9x5RbDabcc67rqvrOsZorUXaruuklJxzzjkhhHOOHAjDecZYv99v2xZdaq2FEFmW0SRJOOeoDi+stVJK4FDXdZqmIQTgFWNsmoYQQilljGmtu67rus5775xjjCVJ0nUdLYpCCIFCCCHGGLTsnFNKoRwhBLpGyW3bohRCSNM0UkrnnJQS+AwGA6q1xq/OuSzLrLXD4RClIVnTNFprTKzf7wshhBD7+/uU0hgjIIoxzvExxtA0TZVSWuuqqpIkQTBOWGt7vV7XdSGEc+fODQaDhYWFCxcuHD58eDweG2OMMc+ePfv79y8YCaCzLBNorW1bIUSSJKurq8ePH9/Y2BiNRkVRZFnWNM2RI0cQAJ4wxqy1Sqnd3d39/f2trS3GWJ7nzrmiKJxzArP23kspX7x4cerUKYBFKd3d3V1eXs7z/OXLl+PxeHl5OYTw+vVrY8ze3t7Pnz/X19cvXbp05syZvb09Sinyaa0FpgE+37179+zZsz9+/Pj9+/fXr1/nzAc9gIPWGiy+evXq5ubmysrKp0+fvnz5Aj78j6kQYnFxcTabYe6cc2CqtS7LMk1TSqn3XgihlCKEWGsxoufPn58/f35ra+vJkydJklhrhRBSyhACnQ90NpshTGvdti0IBHCapgkhQOxSSqXU48ePV1dXd3Z2bty4kSQJkoHpIQQG+Oq6llI2TeO9h7QgEmiXc97r9SCNNE0fPnx4+fLl8Xh8+/ZtDMBaC/6HEIQQDDYBhaFHyIkxBt/K8xz9eu+997du3bpy5cr29vbGxsZkMiGEoK2u67TWhJAYIwshhBCccwcHB0KIuq7ruvbehxAwEOcccGjb9uLFi9evX//27dv9+/eNMdB+nudQuTGGUopSmHNubhb9fl8phUOQoFIKojxx4sTm5ubi4uKrV6++f/+OfsuyhPXgJK6iw+EQFKOUQlEAmxDivYdUer2e935nZ2dhYeHt27c3b96E0SmlYOT//v0bDAYYSZZlDAYBNlhrATaug3Hg9Nra2nA4/PPnz6NHj9q2BdbGGKUU+iOEpGkKq2TGmKIoYoxVVXVdBzQgsKIoQNKVlZV79+5577e2tj5+/FjXdQihLEsYUAgB+FhrsywzxjBrLXwIV3DO8zwHS2ALhJA7d+6cPn368+fP7969o5T2er3pdJokCWZICKmqCuDGGLMsYzFGxlhZlkgI55dS9vt9VHTy5Mlr167FGJ8+fTqZTLAmRqMRbAxrRkqJ3kESBmJia5ZlGWM8ODg4dOgQVhshZH19PU3TBw8evHnzBibpnLPWgmdwA5g/zhNCaJqmeZ5XVQWB4y+Yj2Tv379fWlo6evSo1rqu6yRJKKUwmrZtsYyxtTDnPM+FlHI6neZ5Dp6DWGAV53xpaenYsWMfPnyIMaJN6Ar7Kk3Tpmnm8lNKUUqbpmHOOWSDuRVFgV6wc9bW1iaTya9fvzAWIYTWGs/YMd77Xq9XVRWoje0tsEiyLMO3CT4jpJRVVSmlZrNZmqbb29uI11rPjQNKx5CRCZbGOaeEEPxvjBkMBljiQojRaNQ0DXqcTqfYo/N7598v848lkAcb8D9VklVX2K7xfwAAAABJRU5ErkJggg==\"/></td></tr></table><table class=\"show_images\" style=\"border-spacing:0px;\"><tr><td style=\"padding:1px;\"><img width=\"200\" height=\"200\" style=\"image-rendering:pixelated; object-fit:cover;\" src=\"data:image/png;base64,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\"/></td><td style=\"padding:1px;\"><img width=\"200\" height=\"200\" style=\"image-rendering:pixelated; object-fit:cover;\" src=\"data:image/png;base64,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\"/></td><td style=\"padding:1px;\"><img width=\"200\" height=\"200\" style=\"image-rendering:pixelated; object-fit:cover;\" src=\"data:image/png;base64,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\"/></td><td style=\"padding:1px;\"><img width=\"200\" height=\"200\" style=\"image-rendering:pixelated; object-fit:cover;\" src=\"data:image/png;base64,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\"/></td></tr></table><table class=\"show_images\" style=\"border-spacing:0px;\"><tr><td style=\"padding:1px;\"><img width=\"200\" height=\"200\" style=\"image-rendering:pixelated; object-fit:cover;\" src=\"data:image/png;base64,iVBORw0KGgoAAAANSUhEUgAAABwAAAAcCAIAAAD9b0jDAAAFZElEQVR4nD2Vu4sUTRTFq6rr1Y/pdZzFXXA1EGQCYTPxT9BgjTUSDAw2VTAwEjEyEwwEQWEDwcxAEzHYQEw2EyNBDASZZHednpl+VN2q+oLjNx0N0111X+f+Dp9MJkSUZVlZlsfHx1pr55z3fjKZNE1TFEVKiXPunBuPx/P5PKUkhIgxSilTSlmWxRjX/zjnQgi8KAprbUqJiJRSOB9jtNZyzkMIIQSttVIqhOC9DyEIIbz3RVHEGFNKjLEQgrVWCEFERMQ3NjZSSsYYpZT3frlcZlmmlGKMIQXGmBACSSGeMabv+5SSlJIxhu+7rgshKKXquhaccxxumoZzrrWuqopzzjlHFuvbEQClIAkhBL5s21YppbX23s9mM8E5z/Occ14UxTAMy+XSey+lFELUdT0MQ9/3nPO+7xljKaXxePz8+fOjo6PXr19vbW1hAGVZIs2UUlmWvK5rBGnbFqnFGJVS1trT01PEizH2fV9V1cWLF1++fLm7uxtC6Pv+58+fe3t7y+WSc55lWZ7nq9WqLEvhvWeMdV2XUsrzXEqJ4axWKylllmWccyHEeDy+du3ax48fd3d3iQiBp9NpnudaayISQqybKzD6GGMIAa0piiLP85RSVVUhBIyiqqpnz55Za2OMnHMpJdpy69YtrXVd12gRKpBI0xgDreBM0zRCiGEYYoyQ17t37y5dutS2Lf45PDwsy/L379+vXr1yzgkhrLXee/yQSqksy4ZhMMZgskgN5WRZxhi7fPnylStXIKOU0tHR0d27d4moqioiCiEYY9q2lVISUV3Xwnvf9z0S5JxDoXVdSynbtoX67t+/3/e9lLIsS+fcw4cPvfcppdlsBvFUVZXneQihqqrFYiGICCsRY1ytVtgNCEVrba199OjR9evXlVJN0/z48WN/f//Pnz9ElFLa2NhAN1arFRFhTTc3N7nWejQaCSFCCCcnJ2fPngUKpJRN09y8efPt27dExDk3xty4cePbt28ppXUrrLVEVBRF27Z5nmM8whiTZRkRDcOwvb2NcWGLjTHnz59v25aIvPer1WqxWDRNg9VYk0Vr3TSNUgrz6LpOcM6HYUCzF4vFet8ZY1rrz58/ryVxfHx87tw5IUTXdUopY4wxJsY4DIP//8HHwloL9SI1aAtAstZOp1PnXNM0RLS9vf3mzZvHjx9vbm7GGJ1z0BxjDIjSWgNdYr2U0BP0v965vb099f+D3O/du3fhwoX5fI7xgmFEhF0gIq21cM6dnJzEGL33uB2vhRDOua2trbIsjTGMMWMMEZ2enmImZVmCs7j3zJkz3nuMVIBGjLHxeJxlGQrBHO7cuXP16tXFYgHKdV0XY3zy5MmvX7+wbxBWlmV1XeNtCCGlxBHBWguySSmllMMwTKfTw8PDYRicc3meZ1k2n88fPHjw6dMnAAVVl2W5XC6NMc45pVTbttZagTVAU9B1aOj27duLxQILQ0Tfv3/f39//8OFD0zTL5ZIxBvtZLBZ5nuMsqGaMEXCRlBJqdM4VRVFV1c7OzhoFo9Ho4ODgy5cvQog8z+GGxpiu62B/WmvG2Hw+L4qCiP7ZiZTSGJNSAkmFELPZbO0/BwcH79+/b9t27R8ID9TDXYhoNBqhUIHWYkmklN57QOvFixez2awoiq9fvz59+hQKhwWA61prKf9BLsYIRxmGQWvNOeeTyQQcAb7wApTEgiORtQ8SEXQNkgELABPQznd2drz3f//+LcsS5cN4kTIuGoZhjVe8hV90XQeRDsMA8gJMvKoqyBjLi1vAvTX94GA4Bq9VSqEg9ARiAqrzPOdlWQIwMP21ocIg0S8EA4Bh/QAQ6gUB0ASlVIzxP42XQnoRbv9GAAAAAElFTkSuQmCC\"/></td><td style=\"padding:1px;\"><img width=\"200\" height=\"200\" style=\"image-rendering:pixelated; object-fit:cover;\" src=\"data:image/png;base64,iVBORw0KGgoAAAANSUhEUgAAABwAAAAcCAIAAAD9b0jDAAAE3UlEQVR4nE1VO44USRDNjPxWVnVNtwFDgwFCghPgjLC5AKfgRHjcAkxOgAH2eEgIA4aZnlZXVv5zjcf2blmp+kXE+wXf7/c3Nzfb7VZKWUrpvYcQjDFa6+Px6JzjnOecnXMxRs45Y4xz3nvHIecshNBaHw6HUoq1loj45eXluq6tNSFE751zzjknolKKEKK1NgxDSqm1ttlscs4hhNaatRYvoMCyLEqpYRiIyHvPGWPOuXEcSymc81pr710ppZRKKTHGaq2ogWLW2hACEaGY934YhpxzjFEppbVWStF+v0ePpZRSSmtNKcU5DyHUWkMIm80G/fbeiai1RkScc+8951xKqZSy1gIoIqq1EnA8P1ZKrevKOTfGSCmttYfDQSlVa5VSCiFyzkSklGKMretqjCmlAMCLi4tlWVJKUgiBHs/vobUYI2NMCGGMWdeViKSUnPNSChibpgmtMcYYY8aYlJKUsvfO9/s95xy/wAVOGWP4UWvtPE3vHeQQkdaaMQY0t9stY+xwOFhrY4wE1FNKGDyEgDGttVLKnLPWWkq52+2+ffv26tUraAhwA0EhhPf+5uYGorTWUowxhNB7TykNwwDdQEy4c/7s8ePHb9++BfS9d/y3tYZm8Uf0RyklIjLGCCFijGCplII2c86ttdbafr/vvV9dXXHOW2vgGhBdXFwQ0TiOGE4IQcMwQIw552marLW1VmgbjKHxu7u7Wuvt7W2tNaWUUjLG1FpjjCgcQhBCnE4nrTWBYqgE3rDWppTg19YaYyyl9OLFi1LK9fU1cEwp5ZyllM65lNI0Tcuy5JzHcYwxElCrtbbWIAgcMIhzDsVevnyplJrnGRqw1gL01hpawSfrukopZYwRXgYCWuucs/ceE7TWjDGttS9fvjDGXr9+/ejRo58/f6JNGBoo996998CEhBBKqf+II/LeW2u32+00TUQUYxRCXF9ff/36dbfbPXnyBLEA18LN+t8LXiApZQgBdDHGSinOOYAAocBpjLHPnz+P4/js2bMQAvQPfJ1zIYRzJWstSSmNMcfjcV3X+r8LqYMEaa3N8/zhw4dlWXa73TAMwK2UMk3Tuq4ojNCptcpa6zAMnHMhhJRSa72uK0JrXVc86r3nnJ8+fSqEwB3IbhiGP3/+KKUQXcfjUUo5jiOdTifvvdYapjqdTiEExlhrDUmK2UMI379/l1Jut1tIkoiWZZnnGe+EEOZ5hhwJ6CI7zskER4E63Om9393d3d7evnnzZhgGIcSyLFA70haiRB8kpUwpLcsCHBDSuG+tRSzBP865X79+PX/+/OHDh4wxrfXpdGKMSSnv7++NMTnnv0JCyvXesRWAJg7YaIhUUPHx40fn3OXl5TAM1lpjDAR+Du9aaymFkHJIQ845eCAiqEprvSyL9x5dfPr0KaX0+/dv7/39/b0QAvgKIRAg2DGECs45TASuYUHO+bIs5/oxxnfv3uWcf/z4AWGAd2gTIauUGseRgC6iCNVijFgYpRRsXWwOVH3//j0OcMc8zwhApATY5w8ePAghQAOoDyMRkRACGw1OxQpAecQNAgz5kFIqpfxd6VAlohOTAn60Ns+zEGK32znnoDkwppSCpBhj0zRhiSHPhBAciZ1zLqVgUyEia62QCyZFrCGcEOExxs1mA66wOI7HI1D+B9dPIsdXrfO1AAAAAElFTkSuQmCC\"/></td><td style=\"padding:1px;\"><img width=\"200\" height=\"200\" style=\"image-rendering:pixelated; object-fit:cover;\" src=\"data:image/png;base64,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\"/></td><td style=\"padding:1px;\"><img width=\"200\" height=\"200\" style=\"image-rendering:pixelated; object-fit:cover;\" src=\"data:image/png;base64,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\"/></td></tr></table><table class=\"show_images\" style=\"border-spacing:0px;\"><tr><td style=\"padding:1px;\"><img width=\"200\" height=\"200\" style=\"image-rendering:pixelated; object-fit:cover;\" src=\"data:image/png;base64,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\"/></td><td style=\"padding:1px;\"><img width=\"200\" height=\"200\" style=\"image-rendering:pixelated; object-fit:cover;\" src=\"data:image/png;base64,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\"/></td><td style=\"padding:1px;\"><img width=\"200\" height=\"200\" style=\"image-rendering:pixelated; object-fit:cover;\" src=\"data:image/png;base64,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\"/></td><td style=\"padding:1px;\"><img width=\"200\" height=\"200\" style=\"image-rendering:pixelated; object-fit:cover;\" src=\"data:image/png;base64,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\"/></td></tr></table><table class=\"show_images\" style=\"border-spacing:0px;\"><tr><td style=\"padding:1px;\"><img width=\"200\" height=\"200\" style=\"image-rendering:pixelated; object-fit:cover;\" src=\"data:image/png;base64,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\"/></td><td style=\"padding:1px;\"><img width=\"200\" height=\"200\" style=\"image-rendering:pixelated; object-fit:cover;\" src=\"data:image/png;base64,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\"/></td><td style=\"padding:1px;\"><img width=\"200\" height=\"200\" style=\"image-rendering:pixelated; object-fit:cover;\" src=\"data:image/png;base64,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\"/></td><td style=\"padding:1px;\"><img width=\"200\" height=\"200\" style=\"image-rendering:pixelated; object-fit:cover;\" src=\"data:image/png;base64,iVBORw0KGgoAAAANSUhEUgAAABwAAAAcCAIAAAD9b0jDAAAGIUlEQVR4nD1WS2jUQBiemcwjr93YplqsFutFa3EFQalS8CSC9qJ4EMoePAp6LJ4EETyIFAQVwaJnTyIIFbx5UcSLUKQoYqUIWuu2ZZNsMsm8PPziJWSzk/n/+f7vETw8PMw5z7IsDMOmafI8Hx0dNcaUZel5nud5CCFCSJ7nCCGMsRDCOVeWZRzHnHMppRAiyzJKqXMuDENrLRZChGGotWaM1XVNKa3rmjGGEHLOaa1933fOGWMIIYwxYwy8jxCSUhpjhBCEEKgUBEFd18Q5NxgMOOdKqTiOYVHTNBhjhBBCqCgKY0xVVQihsiyllEqpqqqqqoJ61lqEUFVVnPOmaSilOIoiIYQxRimFMSaE/L8hhGCMof0wDKuqiuNYSumc831/e3u71WpZa+u6hlbgfHVdk6ZpnHPOOUKI7/sYY601rKCUGmPiOKaUSikBmVevXn3+/PnmzZsYY2ttWZZQXmtd1zVATBhjcFjnHDxijMF90zSEEGut1lprfezYsTdv3nQ6HSHE7Ozs2NhY0zSe54VhiBAC0GEf4pyr69paC61JKQkhUkrAyzkHJY0xV69enZiYKIoCIdRqtaanpxFCnucBIJRSzjkhBHYnjDFrred5hBD4T2utlAJkgFh37949deqU53kjIyNN02xtbY2MjECxMAzDMPR9v6qqf7j5vm+M0Vpba5VSlFKlFGNMCGGtDYLg0KFD9+/f37t3LyHkx48fy8vL8/PzR44cWVlZMcYAEQeDQRzH0Kbv+7Sua4wxpbRpGiFEnucwMaWU53l79uy5devWvn37pJTW2idPnty7d8859/v373a7/Z/CSZJYa40xwEICmrHWCiHquh4eHkYIKaV835+dnV1aWjp+/DhQSkp55syZS5cujY6OBkFgjImiCGZorQUWgmRwkiTGGIyx53mDwSCKIkC60+k8fPhwbGwM9GOthXeqqgrD8OfPn2/fvr1z587a2loURZ7nwcmEEEEQkH6/75zjnDPG4jh2zmGMOefdbnd8fNz3/bIsl5aWiqLAGGOMh4aGEEJpmna73StXroBwtdbQSpZleZ5TIQTGGJQHg+acX758+fz589ba9fX1ixcv9nq9ycnJiYmJmZmZCxcuAOGLopiamgLfMMYA/4IgoJSiKIqiKEqSJIqiNE2jKLp27drW1tbGxsaXL18OHDgwNDTUbrdbrVa73d69e/fRo0cXFxd7vd729va3b98YY77vx3EshEjTFODGaZoqpWBQnPOpqanbt29PTk5+//59dnY2yzI4F+ccemGMJUny6dMnhNDGxsbhw4ettUBS8EbP8wiIAcRLCHn06NHBgwellE+fPgUcCSEgKhAuqGhrawveAm4ihDjnoJqiKAjGuKoqrTVCKEmS8fFxhNDLly+fPXvmeR7G2Pf9KIpA5mAif/78ef78+ebm5traGnAjy7IkSYDg7XabgKFRSvM873Q6Usp+v7+wsCCEALMAGsIMrbXW2p07d46OjjLGPn78CPKjlGZZVlUVmByF48PWaZoyxl68eNHv9/v9PiFECAEGyBirqso5d/bs2W63e+LEiZWVlRs3boDng+SVUsBZCpC1Wq26rtfX1xFCnU4HXN1aC4kC15MnT3a73XPnzvm+v7y8fP36dc/zsiwTQkRRBC1DLlCYXZ7nvu8DLqdPn15YWFhcXNy/f//q6ur09PTc3BwhZHJyEqDo9Xrz8/Nfv351zu3atassy8FgAKKq6zqKIjw8PKy1hjOGYfj48eOZmRkpZbvdrusaIQSeEMfx5ubmr1+/3r179+DBg16vB6qFlATaAeiEEJymaVmWYO9BECRJMj8/Pzc3B8GltS7L8sOHD+/fv3/9+vXq6ipYImScMSZN0zzPIVybpoECOIoiWARhAFHzL74xxhgPBgNKKfBJKQX8B9vlnFdVxRiDHv97MYFpQJpmWQZOKKUEQyKE7NixA+oxxjjnQDVjTBAEMI8gCDzPS5JEKaWU+tcpaAuWYoyzLGu1Wv/7gkB2ziml4NsCrkVRUErhJ0IIBMk5xxgTrXXTNNbaLMsYY0VRAF7wzQKxDjgAiIPBAFgYBAEhpK5riN6yLOFrwzn3F70tQkIg8ciYAAAAAElFTkSuQmCC\"/></td></tr></table><table class=\"show_images\" style=\"border-spacing:0px;\"><tr><td style=\"padding:1px;\"><img width=\"200\" height=\"200\" style=\"image-rendering:pixelated; object-fit:cover;\" src=\"data:image/png;base64,iVBORw0KGgoAAAANSUhEUgAAABwAAAAcCAIAAAD9b0jDAAAFU0lEQVR4nE2Vu4oVTRSF636qq7rPyBkUREaEUUREVDAy1MBYH8NHMBBjMfMBDEcwN5pEEEwUVDQQAwXNxtFz66571R8skT/v3rUv31qLnjlzZhzHYRi89zlnznnO2RhzdHRkrWWMSSlLKVLKnPM4jkqpUgqllHM+m81ijK217XY7m80opZRSQgg1xmitc85CCEJIzrnrOu8957zrummapJQhBCllSolSWkqptbbWrLWUUu89SnPOW2td19Va6alTp2qtKSXGGGOMECKEaK2llEII1lrOeQhhmiZjDB7AZxiLMWatTSmllJRS+FIYY1pr6/W6tcY5n6YphJBzJoSUUrz3UsrW2mw2K6WUUggh6Le11lobxxHd5JwZY0IIpRSbpmm1WqWUpJRYGTqVUi4Wi1qr976UknPWWnvvW2svXrx4//799evXSynGGDxDCJmmKaWktWatNSzUOSeldM7FGLXWWusYIx4QQhhjUFcIce3atXPnzt27d6/ve6WU9x49McYopTFGyjlfLBYpJeccIcRai0Faa7VWSqnWmhCCU1BKL168+OrVqzdv3ty9exdzYK3b7TbnvFgsnHNsZ2cnxiil1FrP53MhBO5LCPn/KqdpqrX2ff/06VNK6du3b6dpYozhyVqrtdYYgxuwEALnfLvd4uIpJSFECEEIMQxDjHGz2TDGdnd3CSGXLl26cuXKnz9/Xr58qZTCHJzzcRzHcWytaa1DCAIMdV0npZymiVIK3GKMtVatNTaVc97d3X38+DHn/PPnz9++fTPGpJTW6/V8Ps85T9Nkrf3bac45xuicm6YJp4AwsNDlcokbeu8vX758/vz5nPPh4eFyuVytVjj6OI611mEYjo+PcXZmjIHmnHMYXEqJirVWpRToq7U+ePBACPHx48eDg4Ocs7UWtNZaSymbzQYKzjmL1hqlVEqplMIqUBdf41A55/39/b29vZzzp0+fVqtVrRWKms/nIYTWmlIKbc7ncwaAnXOUUsYYOE0pcc5jjKjY9/3Dhw8Xi8U4jk+ePPHeCyG2220pBbNDqejPOcdyzkdHR8MwpJRijLPZzBiDZzE7pXRvb+/s2bO11kePHn3//l0pBSejlA7DwBjbbDaAR2tda2XABfpTSnHOASkuvlwupZRXr169ceNGzvnnz5+cc8iMc+69H8cRwA7DACfLOQtYC8qv12trLVYDu5RSEkLu378fYzw4OHj37h22zDnnnKMva20IgVIaQiCEdF3HtNZSSlyGc15KAWEQEtq8cOFCjPH169fjOIYQUkqEEBgovHg+n7fWTpw4YYyptQrnnLU2xkgpNcaAYbwBpGEiX79+PTw8HMex7/tSCmPs9+/fQBhWjQrwb8YY8953XQfKIE1IK8bY9/2dO3dqrR8+fICN1VoBJkAUQiB1lFIQrgDVhBDnHIAopUCaWJO19tatW865X79+1VrBmZQSjkUIQXbBg2CVSikB8SCgoFxCyGq1ghxu3759+vRpa+2zZ8/g36UUpRQYwjRwOLQFc/kblkhN4InphmFore3v70spv3z58uPHD/hDSmmaJgAABLuuCyEAasid5ZxTStvt1nuPNaeUdnZ2EFM3b96UUj5//jzn/M/rCCF4HtaDntByCGE+n9NhGKy16A6ej9NhuaAK80JviBnnXN/3m83mHwyIWATd30Mh34ERIWQYBgwYQoAVUUqVUl3X/YujWutisQA5+BHNzmYzBtYIIVprhKiUElkGn4bS+75HLsBAUQVo/4spcBpjpHBlJJ0QYr1eK6WwOEATY8Ro6A75cXx8fPLkSWyptVZKARhd143j+B/zOX9x72jXIwAAAABJRU5ErkJggg==\"/></td><td style=\"padding:1px;\"><img width=\"200\" height=\"200\" style=\"image-rendering:pixelated; object-fit:cover;\" src=\"data:image/png;base64,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\"/></td><td style=\"padding:1px;\"><img width=\"200\" height=\"200\" style=\"image-rendering:pixelated; object-fit:cover;\" src=\"data:image/png;base64,iVBORw0KGgoAAAANSUhEUgAAABwAAAAcCAIAAAD9b0jDAAAFa0lEQVR4nE1Wu4rXTBuf82Ry+J93ZWV1y7exkS1EERtvwVsQC21sROz0EqwU9gIEL8FKW0HUwkrQQsHCPyHJJpNkTm/x+77lTZlMnnme32mGMsaKopBSUko55+M4aq37vo8x5nmeUqKUxhgppSmlaZo45zFGY4xSqm3boig45845732WZc65uq7Zdrv1/3+maQohpJQYY5xzQgjnXEo5jiNq5XnOGNNae+/HcZRSxhi7rkspDcPQdZ1zbrVa0SzLlFKUUiEEpZRS6r1PKYUQGGNCCCmlc45S6pxDp1JKQoj3HtWFEH3fSymllMMwVFXF1uv1NE193xNCrLX4k1LKGEsppZTQLyEkpXRwcIDqKaUY4zAMlNJpmsqyRGdaa2stLctSCKGUappGCJHn+TRNUsp5nrMsSynN8ww0YoxAnBDCGDPGoBWMJaUUQoQQKKVMKeW9n+c5pcQ5n+eZc45tx3GMMRJCYowhBEJIlmVYGUKo6xpYARyQqZTinDNCCCFkHMflcgkSQwioRQhxznHOtdYoSimFTqSU1lrGGGNMSqmUKopiHMe2ba21LMYopTTGpJRAy7Nnz758+dI0Tdu2L168uHz5shDi6Ojo6Ojo3r17b9++ff78+WazARmoCLVBGFmW0YODgxijcy7GyDm/cePGq1evdrtd27ZYzTn/+fPndruNMVZVJYTIsuzJkydnZ2doAjpxzm2327quGWO0qiopJecccqmq6uHDh58+fbLWXrly5fHjx4eHh9M0CSFSSm3bGmMYY+/fv79///6FqKWUUEvTNEVR0N1uxxib59k5VxQFiAIVnHNjzKVLl+7evUsIWSwWdV0/ePBgvV6/fPny9evXkNr5+bnWOsaIibXWIoTgnAMPfd9zzrEnRmOM/fnz5+zszDnHGDs9Pc3zvCiKjx8/ppTAKvhMKTnnlstlSonB8imlLMvgK+89XADnNU3jvTfGGGP++ecfIcQwDD9+/IAk67rWWs/zrLUGsiklhjHRHec8hDBNU57nMKJzDnQRQuZ59t7v9/u+76218zyHEMqyhJEwuHOOEMK01sMwwPgppXEcQbEQwlqbZRljjFI6z/M8z9evXz88PGzb9u/fv/iE3wGCEAISEiGE1WqFgNFaU0qttUqpEMJut0M+McYQHLdu3arr+tGjR6AUCXDRjfdeKUUIYW3bNk2DctiZEAKRIYecc3meU0pv3769WCz2+/23b9/+G1dSyuVyWZYlY2yaphij2Gw22ATOSykZY8DVYrHAOPv93hjz9OnToii+f/8OWLz3iAUkOmwNnlnf9/M849VqtVJKDcMAuq213nuoVQix2WwYYx8+fIA2YHyt9WKxMMaEELTWQgjOuZimqaqqlNJ/N4QkgGYIQQhxenp6dHTUdd3nz5+rqgJ1WZZN04Q80lojiFNKDB+UUshAxliWZUhGJCmEcefOnRDCZrPZ7/fzPMM/wzAgj5BbSMiU0v/M03VdURTYACug3Bgj4ufmzZuU0l+/fllrMSMkVZYleuq6zhjjnJNSCsg1z/NxHCH18/Nzzjmk6pzr+15rfXJyEkLouq6uayAzjiPqAiIEtta66zpmjOGcN02DSZHKCJ48z5VS6/X65OSkKArv/e/fvymlOLWwxloLDVwcM4vFQsD1yG2cSIgcyAvhdHx8TAgpiuLNmze4DIClYRhwKKChC49QmJcxppSCl1AL9rDWxhiPj4/fvXvHOb927RomxSUDVwJYw1p7wQRdrVYXteD35XKJrpVSADTGWJbl1atXv379aoyRUjZNg+MzxogfcU+hlA7DQAkhZVlCJcvlEsmENLuQy8X1whiDNACyeDMMAwwG+3Vd9y8wbCO3BZSiwgAAAABJRU5ErkJggg==\"/></td><td style=\"padding:1px;\"><img width=\"200\" height=\"200\" style=\"image-rendering:pixelated; object-fit:cover;\" src=\"data:image/png;base64,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\"/></td></tr></table><table class=\"show_images\" style=\"border-spacing:0px;\"><tr><td style=\"padding:1px;\"><img width=\"200\" height=\"200\" style=\"image-rendering:pixelated; object-fit:cover;\" src=\"data:image/png;base64,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\"/></td><td style=\"padding:1px;\"><img width=\"200\" height=\"200\" style=\"image-rendering:pixelated; object-fit:cover;\" src=\"data:image/png;base64,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\"/></td><td style=\"padding:1px;\"><img width=\"200\" height=\"200\" style=\"image-rendering:pixelated; object-fit:cover;\" src=\"data:image/png;base64,iVBORw0KGgoAAAANSUhEUgAAABwAAAAcCAIAAAD9b0jDAAAFeUlEQVR4nD1WO2sUXRg+98vMbNZkMRDwggiBD1QQQdFKxCZgKhXEwl7xH0jAWkjwFwhJu4KNlaBgYWMpihGxkFSyS8jsXM+cc2a+4gnpZpc573nf5/YOzbKs73ullPc+y7Ku60IIIQQhhJTSe6+UEkJ477uuy7Ls8PAwyzJrbVmWIQTO+TAMUkpjTJ7nzjljzPHJuq6TJCmKQggRQnDOoW4IwVrrnJNSDsPgvT916hRjbD6fM8aEEEopQkjbtsMw4FlKybqu894vLy9773Et59xam6YpY6zv+xgj6iqluq4ry7Ku6/F4TCmNMRJCuq6jlCqlyrLUWg/DwIwxmF1rrbVGd5TSrusWi8XFixevXbtGCME/ly9f5pxTStFBjNF7j34Xi0Wapt77EAKLMTLGhmHo+945F2OUUgohYoxKqb9//zZNg7kuXbr09u3b79+/b2xs4JSUkhDivSeEZFk2DIMQYhgG1vd9VVWU0r7vMREetNZJksQY//z5E2OklP78+XNra2s8Hu/s7Ny7d48xBq6cc5TSoigIIcMwZFnGvPdJkjjntNaEkL7vCSEAoeu6JEkWi0VRFLhvb2/v2bNnxpjNzU0p5Wg0wpTgmVIqpQwhMCGEEGI8HscYOefGmKWlpbZtwcwxRoyh/SzL9vf3KaXj8dg5l6YpWuOcc85BGiGEcc4hAJwBCYQQrXWMEVeiffzc3t6mlH78+NE5l+d5kiRN04ASIQRjLEkSBnmD8fl8DuUzxiilx6gzxhjz3l+/fn06nV69ejWE8O/fP8bYaDQCjZi6rmtKqXNOKKWcc0mSDMNgrW3blhCSJAnAQssrKytv3rz577//OOeHh4evX79+9+4dCPDeG2Occ9ZaQkjTNFJKVte1UgqWCCHAYDHGpmmAycOHD/f3969cuaKU+vTp0+bm5t7eHkCs6xqy5Zw3TSOEWFlZObYpPANE4DPgG0JYW1tbX19///79t2/fPnz48OPHj2EYMPJJOVijbVulVJ7nWms6Go2yLCvLEm/A8l3XQckAoes6zvna2tr9+/d3d3e11rPZDIJvmkZrjRdAF+ecofO+740x1tq+74dhgGVBKCHEWkspXV9f39raevDgwXw+hzWapkEtSinQA8oCAmKMOeeQJnAXdAoxoZdz586FEI6OjpxzjDEIJoQAPp1znHOl1LFgkJiEEMyOurgJdcuylFLeuXNHKZUkibUWMgIyOGit5Zz3fc8YY1pr3AkxnngJXRRFUVVVlmVFUdy6dSvP8y9fvsA56MAYA1UBhGNM67oWQgAUzvnp06cvXLjAOUcUEEKMMW3bbmxsWGun0+nv379jjJixbVvketd1MUZg2nUd01obY8BPCOHMmTOfP3/e3d09f/58Xdeg6ObNm9vb2yGEnZ0daB7hrbVeWloyxlBKjTGIIc65yPOcc962LQL/6Ojo4ODgxo0b0+n0yZMnZ8+effz48e3bt733r169ms1maZoCxBOWkKq4zFpb1zVN01RKiXA0xsQY19fXHz169Pz5c+cc2P/169fLly+/fv0KHyNroE0QgCVGCEFndHV1ta5rJBsGgZ6ePn364sWLtm0PDg7u3r2LcsMwJEnStm1d11prCAiMY1+UZdm2LV1dXS3LMk3TqqrQApw3mUyklLPZrCgKKSXaYYxBN4gIKSUMUlUVBuecM8Yolh22P7aj1rppmpMQQmtSyjzPJ5NJVVWQBIbrus5aW1UVvhPQFl1eXoZCkaGAnLHj1Y3zEBCkjpFPdhw+RCAsxHkIgWEj4YzWuq5rKSXEOx6PT2Ifmx04wpRwVN/3UB7CCAKlk8kEXwlt2/Z9r7UuyzJJkqqqkG+QHjBFfAAZSD3LsjzPcR8mk1L+D6XkHJY/XGOeAAAAAElFTkSuQmCC\"/></td><td style=\"padding:1px;\"><img width=\"200\" height=\"200\" style=\"image-rendering:pixelated; object-fit:cover;\" src=\"data:image/png;base64,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\"/></td></tr></table><table class=\"show_images\" style=\"border-spacing:0px;\"><tr><td style=\"padding:1px;\"><img width=\"200\" height=\"200\" style=\"image-rendering:pixelated; object-fit:cover;\" src=\"data:image/png;base64,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\"/></td><td style=\"padding:1px;\"><img width=\"200\" height=\"200\" style=\"image-rendering:pixelated; object-fit:cover;\" src=\"data:image/png;base64,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\"/></td><td style=\"padding:1px;\"><img width=\"200\" height=\"200\" style=\"image-rendering:pixelated; object-fit:cover;\" src=\"data:image/png;base64,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\"/></td><td style=\"padding:1px;\"><img width=\"200\" height=\"200\" style=\"image-rendering:pixelated; object-fit:cover;\" src=\"data:image/png;base64,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\"/></td></tr></table><table class=\"show_images\" style=\"border-spacing:0px;\"><tr><td style=\"padding:1px;\"><img width=\"200\" height=\"200\" style=\"image-rendering:pixelated; object-fit:cover;\" src=\"data:image/png;base64,iVBORw0KGgoAAAANSUhEUgAAABwAAAAcCAIAAAD9b0jDAAAF1UlEQVR4nD2Wv2sUXxfG7+97Z2fujJs1EEFSGkMMiorYpYmFIIhYaCNJZ2FlYwoRBP+BbxALwVKJtaA2Kay0EhILA0oKC+NCBDezk7sz9+dbnJftlr07c859zud5zmKtNWMsxjiZTIQQ1lqtNSGkbVut9WQyiTH2er26rhFCCCGMMSHEOccYQwh575VSIYSiKLquM8YQQnBVVXAwmUxCCAghKWVKSQgxmUwopRjjEAKl1FrLOWeMNU1z8uRJOOWcG2Mopc45qCGlxHmeI4Tati3LEmOcUvLee+8ppYQQIUQIIaXUti0hBCGklGrbljGGMXbOwc/gQ4yRMaaUYpxzQoiUklLaNI2U0nvf6/WstUKIrutCCNCplDKEIKU0xrRtSylVSjHGUkrQJkIopZRSItNGvPf9ft9aizH23gshjDEYY855v99fWFhYW1vb2dk5ODjY3Nw8f/58v98/derUaDQyxoQQmqZBCBFCrLVYa805b9uWc55SwhhTSmFoIYQYIyEky7L79+/fvXu3KIoYI+f86OhoOBymlJ4+fbqzs0MIIYTAUxhj4r03xiCEYozOOWMMiB1jhAIY4xjj3NzczMxMnucwxqIoFhYWLly4sLW1dfnyZUIIY6woihCCc44IIcqypJQCWJxz771zznufUgJuEEIrKyuHh4cIIUoppRREM8ZUVTU7Owvj8t5jjKWUrG3bEALGGGCaAuSc67rOWgsjevHixcePH5umWVlZads2pfTo0aMzZ87Udf3169eu64Bu731ZlpgxVpbleDzmnCOEpgzB25VSWZY1TRNjjDEKIVJK1tqVlZUnT570+/2qqpaWluDIOQecMSBOax1CAOKmmhJCYozj8bhpmn6/33Vd27Znz569ffv2+vo65/z4+Pj79+/Ta0FhSikTQhwfH1dVBX7AGAPeQgjGmPf+9OnTly5dWl9f//Lly+Li4uLiIhxBvY2NDSAHhGrbVimF8zwHgOErACulFEJYXl5eXV29c+eO1hrcbK1FCIHow+FwbW1tOBwCJ977EAJjzBjDuq4DOcAhxpg8z+HuN27cuHnz5mAwACSstSklKeXR0dHv379v3boFhCCEOOcxRpgE55xJKaFn55yUUillrQUelFL9fn9/f//Hjx91XRdFcXBwcPHixXPnzs3Pzy8tLe3u7k4HC6gxxrIs+3+gQKZxzuFhCJQ8z3u9njEGHCGEyPN8eXn5+fPnQojHjx9/+PDh379/RVE45yD9rLW9Xo8B4TFGEEtKSQgBvCeTyXg8hvrQftM0165dm9JmrS3LErQCiiBTGLQNXoLsAQamjgAHCyHqun79+vXVq1eFEJTS/f19YG5qvBBClmUhBALJhhBijMEtwPIwLkhCGNG9e/euXLmCECqK4v3793t7ezFG7z28Ed4O/iR5nqeUsixzzimlMMZ5ni8sLFhrGWMhBEj769evP3z4MMsypdT29vazZ8+MMbAgrLXgJYgkBA1qrYUQRVHMzMysrq5+/vz558+fr169Kstybm7uwYMH796929vb+/Xr158/f16+fDk/P6+11loXRXHixImiKAaDgRBCSgnZhEFTpRRQ9enTJ601hPzR0RFjbMqZtXZ3d3dzc3N3dxdUggFqraepJqXsuo6UZQl7yTknhPjvv/9gkVFKy7KETUkIqev6zZs3Gxsb3759I4SklCDklVKj0Qgh5JwD/hBCWEpZVVVd17CzUkpbW1tLS0vOuaIo2rZ9+/bt4eHh9vb2wcEBbGwYOuxBuMrfv39hvEop7z2uqiqEAMvOew81IYxB+ykYnHNYGG3bzszMpJS6roP7glkQQl3XZVlGAC6IL2ACtsVkMgHCsiyDSMQY93o9yPbRaASbzhhjrS2KAhoH5IkxBgrmee6911orpQghnHOtNXjBWiulhBuAeWZnZ8HZ4EaAHTZY13UYdITJgJecc2VZOufquq6qyjkH/3xCCHVdZ1kG2SiEAK0gqIBo7/1gMPgfcp0yzEkTlCwAAAAASUVORK5CYII=\"/></td><td style=\"padding:1px;\"><img width=\"200\" height=\"200\" style=\"image-rendering:pixelated; object-fit:cover;\" src=\"data:image/png;base64,iVBORw0KGgoAAAANSUhEUgAAABwAAAAcCAIAAAD9b0jDAAAF9ElEQVR4nD1WO2sVTRie687uzt7OCTlaeA0JxAt2aRQknYqmUFQQf4BIKiG/wFZMkUYrf4AKWoi2CmpjoSBaeSEiQZIcPXs5u7OzszNf8fLlVGeXnZn3fd7nMjgIgiAI6roOggBj3Pe97/tN02CMrbVRFI3H4zAMpZRaa+dcFEVt204mE4RQEATGGM550zSMMYSQ7/vWWiKlhAetNca46zqMMSFEKcUY01oLIcqyhB2rqlJK/fv3z1oLRTjnuq7LsqzrOmtt0zSEEFLXdd/3zjkp5XQ6ZYxNp1NKaZIkxhhjDCEkSRJYEIYhQsg5F4YhpRRjrJQyxrRta61FCFlrp9MpllJKKZVSlNK+7z3P67pOKUUIwRgbY8IwdM5RSruu6/seuoHGPc/jnMN755zneWVZcs4JQqiua/gUIWSMsdaGYeh5HqXU933GmHNucXHxwYMHnz9/LopiZ2fn/fv3CwsLCKGqqowxUkrnHOwbBAFhjAVBIITgnBNCoFhCCEBGCBmNRrdu3Xr48OHNmzeHwyH0NDc3d+XKFRgmpbQoijAMrbUYY6019n0fRgbta60ppYAXxvjw4cOPHj1aXFyEoUEtdV0757TWZ86c2d3dBdwZY8YYWEXCMOz7XimltTbGMMagXq11EASrq6vz8/OUUq31hw8f/vz58+TJk7W1tTzPi6K4cOGCUspayzm31gLizjkUx3Ecx1EUpWkqpUySBP4nSXL58mWlVNM0u7u7k8lkZWXlyJEjaZpGUbS2tlbX9cePH4MgyLJMCDEajdI0jeN4dnaWQSNCCKUU8FlrzTlPkuTatWvOua9fv96/f//169dVVTnnlFJCiNOnTyOEDh06RP//NU0DQiiKgkHLQgjgf9u2nudprbe3t1++fHnv3r2qqsbjcdM0nuchhLIs+/v37+bmJhAGoIzjOM9zmNVgMGBxHGutgU+ApjGm6zpK6bNnzyilhBCgV9/30MfJkyfPnTvneV5RFL7vg3zSNGWMTSaTrutYXdeEkOl0ihCamZmBw0GsoJ+maRBCjDFr7b59+4wxc3Nzw+Gw7/s8z621hBDnnDFGaz0ajcbjMSOEdF2XpimUyRjbGyWImDHWNM3s7Ozv37+PHz++urrKGCuKYjAY3LlzR2ttrXXOAQe2t7cxxkwpJaWEQiaTSZZlIGc4jBCytLS0vLx89uzZAwcO/Pr1i3O+sLAghMjz/MePH23bQhGc877vrbVSShYEwXQ6TdOUcx4EAQyEUsoYu3jx4vnz52/cuGGMUUphjPfv319VlRBCa80YO3jwYFmWlFKEUN/3AHpZlkwpFccxEAvahwXHjh3b2NjwPK9tW0II57yqKs/zYNx1XSdJcvTo0S9fviiloA6Q/3A4JFJKGH3XdVJKzjljbH5+fmNjAzyt7/uu68qyhLnBIxyztLQE21FKwTAxxmVZEuccIcQY0/c9bAFkSJIEMDHGQBCA9sHVoijSWl+9ehVsjDHmeR6YKSGEtG2LEIIDwWYIIdevX5+ZmWnbFqAkhIA3r6+vr6ysnDhx4tWrV0qpd+/elWXZtm3btqCdKIqSJGEwkzzPoygCyIH5SZIA9hA+W1tb6+vrT58+xRhzzm/fvj0cDsFG9yQzGAy01k3TMCEExpgxBgJ1zgkhfv78ubW1FUURxrhpmm/fvt29e/fNmzegApjJZDLZ2dkhhFhrfd9HCIHtN03DqqqK4xiCbC+yPn369P3791OnTrVt++LFi+fPn799+xYhtKdaABq245xDdoD1hWGIOedSSniGXCKE5Hm+vLx86dKlPM8fP368ubnpnAPrgsSGSQDnm6YBQMFxnHM4yzKEEMa4bdu97AMPh2VZlhVFAedBFELARVGklOKcg6fAqYwxpRT2fT8Mw7quIVTAE6EEY4wQAghojIFABZTgVCBM13VCCEjctm0ZY0QIAbcSiP69qIEqqqqCiAe2w47OuTiOp9OptZYxlmUZOPRkMgEFYyEE5D4gIKU0xoBvFkUB3IB7Btx8wNSVUlEUgd3BxQDeA9z/AXCUR9AcMwk+AAAAAElFTkSuQmCC\"/></td><td style=\"padding:1px;\"><img width=\"200\" height=\"200\" style=\"image-rendering:pixelated; object-fit:cover;\" src=\"data:image/png;base64,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\"/></td><td style=\"padding:1px;\"><img width=\"200\" height=\"200\" style=\"image-rendering:pixelated; object-fit:cover;\" src=\"data:image/png;base64,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\"/></td></tr></table><table class=\"show_images\" style=\"border-spacing:0px;\"><tr><td style=\"padding:1px;\"><img width=\"200\" height=\"200\" style=\"image-rendering:pixelated; object-fit:cover;\" src=\"data:image/png;base64,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\"/></td><td style=\"padding:1px;\"><img width=\"200\" height=\"200\" style=\"image-rendering:pixelated; object-fit:cover;\" src=\"data:image/png;base64,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\"/></td><td style=\"padding:1px;\"><img width=\"200\" height=\"200\" style=\"image-rendering:pixelated; object-fit:cover;\" src=\"data:image/png;base64,iVBORw0KGgoAAAANSUhEUgAAABwAAAAcCAIAAAD9b0jDAAAFYklEQVR4nD1WvYoUTRStqq7frumZkdlgEdHIRHAx2EDR1MAXEDTwBcw2NJB9AkUQXAwVTEwUjGUFwcxFRAxNRJNxYbp7uuunq+oLzsdmRXfdqnvPPefcovP5nDHWdd1isZBSjuMohPDe13UdYwwhKKUopc45znlKqaoqa633PqWUUuKcCyG22y1jbBzH1Wo1jiPjnFdVRSlljDnnGGPDMEgp+76PMRJCQgjOOaVUSolSmlLq+76UUkohhCil1uu1lDKlhM05Z5ZzjjEyxmKMMcZSStM0pRTkW1WV1rqu62macKJSSgiBvGazmXNutVqllBhji8UC+6kxBjHTNFVVVVUVdsQYjTGlFMaY914IQSktpXjvtdbjOE7TxBgzxkzTVEoBUJxzpRRTSo3jSCmVUjrnCCFAA/E551IKpXQcxxACSsZ+rbW1NucshGiaRmtNKc05U0pZCKFpGjTBWgtQhmHgnBNCgKNSSkqJAGvt0dHRnz9/Tk5OzvaM44gLcs5d17GmaWKMbdtaa7XWqEgIIYTgnJdSqqoKIaDYlNKFCxfu3r2bc67r+saNG0AMcGmtvfeMMb5er621Sqm+7znnlNLNZqO1BsT4XlWVlJIQcnp6+v79e8ZYzvnLly/fvn1zzgF37GeMKaU4sKCUohDGGOd8mqblctm27TiOOWfE5Jzv3bu3u7s7jqPW2hizXq/BYvRgu92iPpZSyjl773EuCAtWInHGGKU0xsg5v3r1Knjmvf/58ydCpmkihMQYwZC+76kxJqVU13UIAYuu64QQs9mMEOK9d84ZYxhjFy9e/Pz5M+d8GIZ37949fPhQa51znqZJCLFcLjebjZSyqiq2WCzAHiEECAvmtm3bti3KLKWM43h4eAhFHB8fP3nyRAgRY0QpVVX9+/cPXGzblvV9j0YBTaCec7bW1nW93W6dczHGmzdvXr9+PedMCHn16tWPHz9AlZSSEAI9yDn3fS+l5FJKIUQIAfBrraFapI+/V65cefr06blz57que/bs2fHx8c7ODlCGdkspfd/jmhgjBw0hJEillGKtha3knI0xjx8/vnz5ckrpzZs3L168QFc55977aZpms1nO+Sw2xsj+pyvnsJy6rquqwhp9f/Dgwf7+PiFks9m8ffuWEAIWj+OolLLWjuPYtm3TNMB3Pp8zrTW0iD5ClNM0bbdbuNzt27dXqxVj7OXLl9+/f4e6KKVA/My6uq6LMeacU0psvV4bY9AZmDRwgZzu37+/v78PV/z69Ss0g9q3262UMoSAxNHknHMIgRljvPfDMIQQQOwQAuccurx27Zq1tu/758+fn5ycIBjGZoyBq8HMAJoQom1bdnYbKoJ4jDGU0t3d3Vu3bpVSfv369fr1677vkUjOGfNiuVzCTDnnjDFwpq5r5pzTWhNCmqYBB8Dquq4PDg729vZyzh8+fPj9+zcUmVKCdwzD4JybzWZCCLCFUgozY6AuMIIolVLe+/Pnz9+5c6eqqmmaPn78CFEA07quhRAwbEqpEALDDZnO53M6n8+BCLRBCJFSdl336dOnvb09771S6tKlS0jBe19KGYZhsVgMwwCLQgXID5JjOWf845xDy6enp1rrpmm6riulHB0dDcOAmUwIYYzt7OyUUgACOFTXtVIKjRqGgeGsaZqGYbDWAvWU0qNHj/7+/XtwcHB4eCillFKCuVrrrusIIavVKucspYTdAB/4BoXLQeYYCdM0aa2dcxA15xzBIC/nHAJF4mdJoIgYo5SSndUOKzw7HfO1rmsgTikNIWAgw3kxnUIIkAMcC2sKM8aTwlqLO2EFZ3YZQkAn8chxzuFE2DPeP2gXpdQY8x+rdhrX7trRawAAAABJRU5ErkJggg==\"/></td><td style=\"padding:1px;\"><img width=\"200\" height=\"200\" style=\"image-rendering:pixelated; object-fit:cover;\" src=\"data:image/png;base64,iVBORw0KGgoAAAANSUhEUgAAABwAAAAcCAIAAAD9b0jDAAAGFklEQVR4nD2Wu2tUTxTH53ln7ns32fWBoJ2SJlEIYizsIgT/AEmXQkgnEQS1EEEQ1EKIEk2hnQmksAiIYiUiCoKxCYgYUhibLCaYx97HzNyZ+RXHX7ZaLrvnnDnf7/czF4dhSCklhCCEmqaB74yxsiwZY845zjkhpCzLLMuqqmq321VVOecIIYQQzjn8saoqxhjnvKoq3G63Mcbe+7quGWNBEDDG+v1+HMfGGK11mqZVVUVRtL+/zxhrmoZzflDLGCOltNYihKAuYwynaeq9j+PYOae1JoRorfM8L4qirmtCCKWUc940jXOOMSaEMMYEQVBVFUIIYxwEwf7+fhzH3nuEEEIIHz16tN/vY4wppWVZJkmCMUYIKaUYY8YYzjnGGM4lhHDOGWPw/x9jjLWWEGKtlVL+W2Bd13meG2MQQkKIsiyhIswI00VRhBAyxjjnsiwjhMATQoj3PggCQgjs0HtPKSWMsd3d3SiKoKGUEiEEOiCEGGN1XZdlGUXRvXv31tbWXr9+/fv379XV1SdPnsRxHEURpRSUgKKEEAZ7qaqKc14UxeDg4O7urhCCMUYp7XQ6t27dunjxYpZlzjnYw87OTp7n29vbRVFgjLXW4BCMcZ7n1lq2s7MDUhBChBBN0xBCgiC4c+fO6dOnz549q5QyxqysrHz//t1aOzQ0NDw8PDMz8+XLl6ZphBAgnZSy3+8HQWCtZXDGpmlAOLDF+Pj41NQUpXR1dfXBgwerq6uU0snJyVarNTQ09Pnz5/fv3+/t7SGE+v1+GIZBEBhjhBB1XUspURRFMPbhw4fTNG21WgMDA/Pz89772dnZgYGBJEk6nc7Dhw9//fr19+/f2dnZKIq63W6e53meSynzPM+ybHBwMAzDdrvd7XZZGIZJkpRl2TQNGFtrfe3atfX19fn5ebChc25kZCSOYyHEp0+fQJayLCmljDGMsVKqaRqwgVIKc84ZYyA6LFRrDQtJ09Q512q1RkdHX7x4Ya29evXq8vKyUkoIoZSilII3wZGgTVmWrNvtFkURBAF0ttZCrZmZmcnJyaIo0jQ9fvx40zSvXr1aXFyE8+7v78O81lqwHSGkaRqMsbUWB0EAWQb3YowZY5cvX757964QArYBgUEIffv27efPn3Nzc+vr65xz771SChSXUtZ1DfHBSZIAHSB2WmsA1cLCwvnz57XWvV4vyzIhhJSScw5VNjY2bty48fXr16qqvPfOOSEExMc5h4MgyLIMEAULUko555IkEUJsb2+3222t9aFDhyYmJk6ePDkwMHDu3Lk0TXd3d69cubKysvIPdxjDBhhjuNPpQNK11lEUNU2jtQ6CAHSTUjrngABgD0rp+Pj47du3T5w48ejRo8ePH8NaAQLGGMYYqaoKViaEAFxB6tM0BUpZa+M4huqQn1OnTjVNE0VRkiTGGMAb1P0Hbwi+McZ7L4RACEkptdbwUEppjPnz5w840Xvf6XSGh4dHRkZ6vd7bt29brVYQBGEYWmuNMWVZbm1tMWttnud1XTvnwjA0xhhjgGxhGFZVFcex1tp7L6UcGxtbWFiI4xhj/OzZsx8/flhrgcXGmDAMwS0sCIKiKKSUVVVRSrXW4GQwCgCbMdbtdu/fvz86Oso539raevPmzdOnT7XWSZJYa4GNCKG6rjHG/4BSFEUURYCy69evb25uvnv3bmdnR0p55syZ6enpS5cuHVxHc3Nzi4uL0Ntaq5SC2a21ICnDGMOpQaIjR47cvHmz1+sdO3bsw4cPU1NTFy5c6HQ6m5ubSZIsLy+/fPny48ePYDiMsXPOe1+WpRDCew+hx5zzg1AppaIompubm5iYgEQopaD/0tLS8+fPNzY2AMnOObgKm6ZJkgSsBpOFYYjhpnPOSSmVUpzzwcHB6enpsbGxtbW1six7vd7S0tLm5ubBBkFoYBLcoIA3hBAEEmdZhjGGkEGWOeeUUoTQ3t4epTSKInAuvFgopQDncFiAv1IKYwy4SpIEQ6gPOkPUoDOYAXgIoQZeQBu4qWAO+GWr1dJaK6X+OQbeRyCLMN3BLV/XNbDSe88YI4RA8GBjML7WGoSy1hZF8R/QZ/XDIMXcZgAAAABJRU5ErkJggg==\"/></td></tr></table><table class=\"show_images\" style=\"border-spacing:0px;\"><tr><td style=\"padding:1px;\"><img width=\"200\" height=\"200\" style=\"image-rendering:pixelated; object-fit:cover;\" src=\"data:image/png;base64,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\"/></td><td style=\"padding:1px;\"><img width=\"200\" height=\"200\" style=\"image-rendering:pixelated; object-fit:cover;\" src=\"data:image/png;base64,iVBORw0KGgoAAAANSUhEUgAAABwAAAAcCAIAAAD9b0jDAAAFA0lEQVR4nD1WOa4TSxStuarL3W2MbJAIEC9ESCBBzAIIiAlgDQQkLIGdILEDNoGQSBEv4jlAekJ22zUPPzh8O7DcrbpVp+4Zruk8z5RSzjmlVCnlvRdChBAYY8YY5xyl1FrrnOOcCyE456WUlJJSinN+Op2GYZjn+Xw+SylDCEIIut1uSylKqZRSKcUY03snhLTWeu+MsdaaEIIxFkLgnONRa30+n40xtVYhRK01hKCUUkqVUkTOufeec/beT9N0Op2UUkAdY6SUttZKKa01SqkQghBSa3XOhRAopaUUSqkxRinFGIsxttZY7721lnNGwTAMtVYpZa21lKK1FkKgJ5xzQghjLKVEKR2GQSlljCGEhBAIITiglMJijJxzzvkwDDHGnLOUklLK/v+klIwx0zTtdrta6/F4nOeZEIL71Vq994wxzrmUMsYopRTDMFBKCSFAcTwed7tdaw1IY4zGmLdv37558+bBgwcvX74ErlIK5zyltN1utdbH4xFv/gERQqSU0GxK6TiOp9MJPZ2mqZTinHv27NmLFy++fv16e3vrnMNVjDHW2vP5jMXWWuiBMcZqrcYY773WGr+llMBYayWEjOP4+PHjUsrV1ZWUEgIAXs55rRV89N5TSiEE7/2/rmOjWmtrDZqFqvB7nudSyvPnzx89ejQMAyEE93POWWtzzqWUnHNrbRgGIQQDfYSQnLNSCtKB1HHMvXv3xnHUWq/X69evX5dSSim999VqVUr5+/cvvNN7l1JiGaOUeu+xae99GAYcGGMchqH3fn19/enTp5SSlPLq6qqUguIQwnq9Xq/Xlx1jjMuyOOeEcw5OgG2WZVFKaa0hBilla+3bt29KqWVZ9vt9zjmE0HtXSp3PZ8YYtDVNk5RyHMfj8ci01qWUEIJz7mJQfKeUaq1a6+vr6y9fvvTev3//Po5jaw1EQ1VgPKXUWluWRUrJYowwEsyAdd576BTtDyH8/PlznudXr17Bx7333vuyLNZakHk6nYQQaLeY5xmyAGM5Z601XAh3IZAOhwO6CfMgAe7evQt3aK1hfGtt753hTEKI9x7BBat575EgWI1wwZuU0rIsyBrG2EUP0zT13imlzDlHCHHOof5CPR4v+YSy9XpNKe29G2NAeq31koeIrhgjQyAB9mq1AhDcCMHDOddaP3nypNZ6//59xhi8BwkiIdHNS2Yy51ytFTt675VS4ziiQGsNAYDi1hoi7RJgFwTe+5wzXNBaYxCNUgqCTSnt93vYCWWYGT9+/EAO1FqRCb13qApIIQnGGKWUrVYrwCml4L4YMJTSlBI08O7du48fPzLGoFYEKGPsfD4LIRC+4ziCyWmaWGvNWosowb6EkJQSYyznjLn2/v37hw8fllJubm6ABRYQQkDIlFLAcs7t93tmrb29veWcbzYbtBlaIYSAog8fPjx9+hR+/fXrV+99s9mACUhqmiattfd+GAZrLYPZN5sN0htD2HtvjIGdKKWfP3/+8+dPrfX379+Hw8Faezqd0HEE5rIsMcZxHGH0O3fu0O12uyzLer2GNyB1TAFIFUrY7XY3NzfAe5lI3vsY4zzPqMLcp5RSrTV0BypxEZShxRgHl5xVSsGsAAsCwJ61VmstpaSbzQZnrlYrhItSCgfiJMQNRhOYgYYgeFAPr0OzrTWBeMf8QoYeDgdjDC6BNEEHaq0xRhgXRiKEaK1jjL13/DUCe/8B6clCFvFOlw4AAAAASUVORK5CYII=\"/></td><td style=\"padding:1px;\"><img width=\"200\" height=\"200\" style=\"image-rendering:pixelated; object-fit:cover;\" src=\"data:image/png;base64,iVBORw0KGgoAAAANSUhEUgAAABwAAAAcCAIAAAD9b0jDAAAFPklEQVR4nD1Vu4oUTRSuOnXt28yu4grrumL4oy9gYiAY+AKCz2EmmBobaS5sKj6BkZiICiKYiWCyC+uM0/e6df3BJ9PBwPRMd53vevjR0ZGUchiGGGNZlt5755xSapqmo6OjYRiklPM8CyGKoiCiYRi01s45IgohNE3TdV1VVX3fG2M455xz2fe9UirnrJSKMRpjlmXhnBdFMY4jEVlr53nGWzjny7Isy5Jz1lrHGL33nPNxHHFkCEEIwTnnQojVauWcK4pCSonHQgg5Z2tt27aMMa21MWYcR2stERHRPM/eeyGEMYYxNk2T976uayKi9Xq9Wq1ijEKInHMIYZqmZVmAJedcVRXnXGuttWaMee+XZem6LqWktcZcjDGlVFmWjDEpJTHGnHPW2rIsU0pEpJQahqHv+5SScy6E8Pjx448fP3748OHJkyer1WocR621UkprHUJwzjHG8DoppXOOYoxgp+97rfU8z/g5hAAqjDF37tw5PT29efPm69evb926JYSo6xrMlmXJOSeinLNzLucshKBlWVJKoC+EwDkPIWit1+s1Y8wYk3N+8+aN1jrnzBi7ceOGEMI5tyxLjBFjCiFAOmMshEBElFJKKfV9D99orZdlmaYp54zPq1ev/vnzB+qN4+i9h08wBBF57yGmlPL69euklGKMEdFqtfLewyI5Z2MMiAshfP/+fRgGTPT7928hhPc+pRRCACzO+TzPsM12u5Xg1BjjnBNCpJRAJR7A15TS4eFhjHFZlsvLS3igLEtrbc45pbQsC0TLOQ/DIBljgGmMISL4uaqqlBJsCBzIwmaz2e12jLG6rjebjbW2rmtkBK8morIsqes6Y4yUchzHtm0558457z3YFEIopY6Pj6dpWq/Xt2/fPj09lVLCT7A251xKCU5BkTw4OAgh7IWOMTZN07attdZa2/c95/z4+Liqqmma4DkpJUKRc5ZSCiHAGCYIIRDGcc6hNay1YLAoClh6HMeTk5MYI7Lw8OFD5xyKI+c8jiMy6pzrug7H/OMCELz38zzHGGEdFM96vb68vOz7HpXx4MEDzjnCCmQoDWNMWZY5591uR5ACV1EUMUalFERXSgkhcMDh4SFjbLvdnp2dASkcorW21o7juI940zRERMiy9x5hwPkxRmiac7579y4s/Pbt2/fv35dlibpYlgWZ1loTESZIKRFjrKoq59xqtUopMcZABZTFHTwWYzw4OOCcV1WllGrb1hiDSlNKgb1/1hzHUUppjNk3MSwdY0SnEdG9e/cwuPdea/3q1avz83MUNkq9bVvAJ6KqqiSqDEjRCLjQAGjYoigQtkePHn39+vX+/ftfvnz577//fv78iQbZQyzLcrfbSTT2arXSWo/jCM/CxkSEkFxcXGCua9euvXjx4vPnz0+fPv316xc0qKoKaYRziqLgRVEURQEpYVKUUNM0fd9LKZum+fHjhzEGy+rdu3fPnz8/Pz+31qIEhBBYHFVVDcMAEgiaAAgWQVEUOeemabC1vn37llLabDYXFxfPnj3bbDZIc84ZninLsmma7XbLOTfG8LquUbHee7QG1s40TVAMC+rs7OzTp08vX7703iM2wzAURbEXs+s6yKCU4uv1GmxitSHamBc1vEfAObfWdl2336D4P3YaOBRCCCH4lStXcs5E5JyrqgomJyK0BowFlhBorC8QipWBfZdSappmnue2bQlLZp7nlBI6BWyAhP3uQgHXdR1jxPra2x6wUMT/mgSqwduIHfAiJEAN2yulvPfwgLUW4UHepmlSShHR379/T05O/gfzqDihr40wPgAAAABJRU5ErkJggg==\"/></td><td style=\"padding:1px;\"><img width=\"200\" height=\"200\" style=\"image-rendering:pixelated; object-fit:cover;\" src=\"data:image/png;base64,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\"/></td></tr></table><table class=\"show_images\" style=\"border-spacing:0px;\"><tr><td style=\"padding:1px;\"><img width=\"200\" height=\"200\" style=\"image-rendering:pixelated; object-fit:cover;\" src=\"data:image/png;base64,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\"/></td><td style=\"padding:1px;\"><img width=\"200\" height=\"200\" style=\"image-rendering:pixelated; object-fit:cover;\" src=\"data:image/png;base64,iVBORw0KGgoAAAANSUhEUgAAABwAAAAcCAIAAAD9b0jDAAAFV0lEQVR4nE1Wu2tUSxye95wzeza7myIgmE7ETjsthIAPJJWIjWIlWFhbLGqvIFhZaCXBzn8gEixsrBRLUbD2QYhx2XXOY963+O4NN1UYJnO+3/f6hU6n05wzIYRzXkoppVBKcRJCkFJWVdV1XVVVKSVCSEqpruuUUowRl733dV0754wxbdtqrRmltJTCOQ8hUEpDCKUUY0zOWUpJKSWECCFyzpxzzjljLITQdZ3Wuu97xpgxpu97QNFaE0IYQBFC8IQxJqVkrY0xKqW01ovFIqWktc45D8NQSiGEGGOstVVVEUKcc3Vdl/9+JpMJo5Rqrbuuk1L2fe+9p5SmlGazmffee6+1ruu67/uqqowxhJCcc865qirGmLVWa51SopTGGFNK+/v7dH19PYTAGFNKEUJijCA3hMA5xxw4zDkLIUIISikpJWOsruvVapVzBsVCiKqqQggMmKWUbdtCGe99jJEx5r1PKYFrpZQQIqVUVRWldDqdzufz9+/f//79+9q1a4QQSik+6ZyjxpjJZOKcw1wYhBDCGCulCCGGYYDoSqmcs/f+woULN2/evHTpEmOMELK/v7+1tQUBgUkQQhaLBZjGgHjUOeeca5oGAMfjMQhZW1ubz+cnT54cjUYgHWhAyDAMzjkG5KWUlBIUADSl1GQygRNBBaX0zJkzb968OXHiRF3XIQTwc+/ePSnlMAzgVGvNjDGQGw/BDN57IYQQAigYY1VVbW1tPXv2bHNzs65rxhjnvK7rt2/ffvny5cjLbdsaY1jXdU3T4FH4lHOutbbWOudSSoyxlNLGxsbz58+PHTsGoRljbdu+e/fuxYsXzjnQ3bbt+vp6KUUopbqu45wbY/DLMAxKKWNMjBESbWxszOdzWD3GqLVeLpdSytu3b0NSMEYptdYSQljf95xzOL+qqr7vU0qYBfFNKW1vb1+9ejXGOAwDIt80zdevX8fjMeccZkJMY4w5Z2aMcc5hInhCSgk4gMY5t9b2fY87kO7jx483btzAfedcCIEQAgsrpRiSAPCEEMxurQ0hWGtLKVVVXb58GWOiun7+/Pn48WMkmHPeNA1mTSmVUvq+Z8ioEAINhIqTUhJC6rrmnF+8ePHUqVPILtjY2dn59OmTEAKWcs5prSHAeDwej8cM0ndddyQ0ygJZOH/+/JMnT6bTKeKPsfb29qSUIQSQWEqx1uJ7OBT/BksICB1jlFIiBUqpW7dura2tIRHolNevX3///l0IgUmFECDaOcc5b9tWKcWO/Iik45JSSin19OnTs2fPAsJqtaKUfvv2bWdnB58vpSDcQgg03NHKEKPRCAp47xHhYRi893fu3Lly5Qom4JzPZjNr7d7e3p8/fzD1aDQahiGlBN7quo4xGmMYYwJsSimBkXOulDp9+vTDhw8hBci11u7u7r569QrCosy01qhX+Dfn/K+l/l/MaFXG2PXr1+EwTGStXa1WL1++bNsWHphMJuh5tDLnHC2MZSOUUkeWBt5z587dvXt3uVweHh6i20MI9+/f//HjB2MM7SOlLKXgDwGQcw4v55yZtRZjKqUODg5yzsePH18ulznn2WwGtz148ODDhw/OubZtnXN4EVxjyyqlvPd93zvnSimirmvEPMY4mUxCCLu7uyGE7e3tzc3Nz58/P3r06NevX1VVNU2DFd/3PRY9djAOjTEokMViQY0xTdMsl8vxeIwaR49BATCI9vLeI2mEEK01gnTk8aO1yDlnyDsw4hTLq6oqmOzg4AClhUXAGIsxAiz+e0AuCCF///4FIOa9Z4wdHh4SQqy10AFpgfoIQtd1R72HC13XobpQowg3XvgHv5JsV4XWoxgAAAAASUVORK5CYII=\"/></td><td style=\"padding:1px;\"><img width=\"200\" height=\"200\" style=\"image-rendering:pixelated; object-fit:cover;\" src=\"data:image/png;base64,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\"/></td><td style=\"padding:1px;\"><img width=\"200\" height=\"200\" style=\"image-rendering:pixelated; object-fit:cover;\" src=\"data:image/png;base64,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\"/></td></tr></table><table class=\"show_images\" style=\"border-spacing:0px;\"><tr><td style=\"padding:1px;\"><img width=\"200\" height=\"200\" style=\"image-rendering:pixelated; object-fit:cover;\" src=\"data:image/png;base64,iVBORw0KGgoAAAANSUhEUgAAABwAAAAcCAIAAAD9b0jDAAAFnklEQVR4nD1WPWsUQRie79mZvcudd6emOCGVlVhEES0Ef4AiEUuJViLYWdkqFtZ21mJKtdFGULBRaxHsTBBjlNyZ7N7uzvdYvDFbHHewe/O87/O1eDQaMcYIIZzztm1TSgihEIIQghASYxRCdF0nhIgxxhiVUl3XSSmttYQQxljTNEqpnHOMkXOecyYhBOdcjNFam3MmhHjvEUIxxpRSjBGezDlLKSmlXdellPz/ixAyGAxCCIAAQBDGGKUU7mjbljHW6/UopVJKjHEIIcbonCOEGGMwxoyxoiicc3BGXdfOOe99jFFrjTGWUuJ+v6+U8t7nnCmllNKmaRBCRVHARISQsiyttSEEhBDn3FpLKbXWFkWBMSaEwGRFUdR1TSk9QOqcc87lnKuqYoxhjL33QoiyLDHG1tq2bXPOIYSu63LOKSUhBECBvQFYeJbBXoQQlNKcs1IKflpr4XzGmPeecw6ghBApJcaYtRZjDIDgHu89pVRrzYBWGNw5F0KQUtZ1XZblZDK5efPm+fPnt7a2YoxSSuccpfTEiRPW2pTS+vo6xlgIsVgshBAYY5iGIYQYYyEEYwznHCHUtm1ZljnntbW127dvM8bOnj3LGGOMwT0xxpxzXdecc+89xlhr3bYtxhjWSgghi8UCWIK5er2etdY5d/36daUUxvjPnz9d1/38+TPnPJ/PMcZd1zVNs7+/X9d1CKGqqq7rCCFVVWmtmXNOax1C4JwbY4QQzjmlVAghpeSce/z48fPnz+fzOSHk5MmTOzs74/G43+/D4N77siwPKdJaN02DV1ZW6roGukAuUkqEUFVV7969Gw6Hp06dmkwmbdsWReG9B8sJIRBCMBw8BdQBw2w2mymlKKVt28JOgQ1K6ebmJjBe1/Xx48e7rnPOTadTcODv37+11saYGOP+/v5gMOCcp5T6/T5eXl723ocQKKUwwmKxKIqCc/7169fv379vb29XVfXr169Lly4dO3ZsPB7//fv38uXL29vbwHtRFFVVLS0tGWPAbAfjg81zzodecs7t7OwQQiilhJC2bQE+Qmh3d/ft27cPHz6s6zrGCHxAOMxmMykl2dra0lojhMqyLMsSFGOMIYR8+vQJdLe3twem5JwTQsbj8bVr1waDQYwRIg0ixlo7GAwYY1hKubS0BOI6RBpCKMtSKbW6unrhwoXZbPby5cvJZHLr1q2rV6+ORiNYLhgshABqTSnBg3gwGIBHQwg5Z1B4/n/BvPCFMeace/Lkyfr6+ubm5rlz54wxUkoISVgOrJHFGLuuA5VARIH6AC+lFIIKdpJSWllZsda+ePHiMH8hEiGDOOdSSgIoMMbOOZBeCAFAQRoRQuATY3zjxo0zZ85Ya/f29iil4BRwMATjQfgWRQFZoJSCcyDGQd6wBFjZdDq9d+9ezplzvru7C40ACVkUhZSy1+sd1IkxBpBCQcEIbdt67/v9PqxJa33kyJG1tbXpdMo5f/369cbGBsjusDVijLA6jDEB40MNABuEkKWlJRikbdvxeBxjXF1dffDggdbae//q1SshhNYazCKE4JwDMoBImqaBQcCp1lr4OxDvmzdvrly5sry8/OjRI+99XdcfPnx4//49pdQYY4yBbVZVFf9fWms8HA5hBGgIkL0QQkp5+vTpZ8+eCSEYYyklpdTnz5/v37//7ds3oNs5B/UFYQqlWxQFgXwCcp1zo9EIKKqq6sePHx8/fgQZUEpns9mdO3e+fPlijAFRQ2N3XXfYsiAbPB6PIbjA43CGlBJuPXr06MWLF+/evcsYe/r06cbGBsYYOhVeKRBCKaWUEnTJQRdMJhOgvmma4XAItkMIgegOy8Na2+v1YowYY9ANQghIN8aUZQl/DUyQpmm6rmOMKaUQQsaY+XwOrzTAGxgmhBBCOCweyFCwJhQiLAQq9h9I2muPBFeq9QAAAABJRU5ErkJggg==\"/></td><td style=\"padding:1px;\"><img width=\"200\" height=\"200\" style=\"image-rendering:pixelated; object-fit:cover;\" src=\"data:image/png;base64,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\"/></td><td style=\"padding:1px;\"><img width=\"200\" height=\"200\" style=\"image-rendering:pixelated; object-fit:cover;\" src=\"data:image/png;base64,iVBORw0KGgoAAAANSUhEUgAAABwAAAAcCAIAAAD9b0jDAAAFmElEQVR4nD2Wq29UXRTFz/vecx8zpU1TMISQUIktCYYgCAaBxIGAPwCFg5CQStDoBglYAuJrqMAQJg1ixFCCGSoo03ncx3l/YpGaSe7Mufvsvfbavz1UKZXnOWNMCOGcM8YIIWKMRVH0fV9VVdM0zjkhhPdeSplSYowRQrz3ZVkSQtq2zfPce885DyE0TcPwQ4yx6zrnXFmW1to8z/u+F0IQQvAYQkgpcc699yEEIQRjrG1b5xwuCCGcnp6GEM6dO8eQl5QyyzLO+Wq1IoTgaIwxxljXddu2IQQpJSGEc04pJYQwxiilzrk8z6WUSilc2bYta5oGh7z3lFJK6WAw8N4jaAghhEAIGQwGSimtNWMspYT7vPdKKe/9crmMMVZVpZRKKTFCiDHGWptlmVJKSgl1cAFjzBgjpbTWppSapiGE5HmOPOq6hsRVVSEP773WmlFK67omhHRdZ4xhjOFyJOicgzjGGFxvjAkhGGNwzFobQogxKqUopUKIrusYUjDGaK3Psi6KApKllFD1kydPfvz4cXh4eP369TO5z/R1zmmtoWSWZYxzjhJSSiklrTVicc5hncFg8OzZs8ePH0spq6ra3t7u+x4Sd10nhKCUxhhhLCklpVRwzlEdpGzbVikFiQkhZVm+efNme3tba/3379/hcPjff/+FENq27bpuMBiEEKCYMQbOc84xSmnTNFmWQZqiKKy1lFJMxMOHD69evSqlvHv37q9fv6bT6cnJSVVV9+/ff/v27YULFyilZVlKKTEs8IDgnHddl1IqimKxWKSUKKVFUbRtu7a2duvWLa317u7ueDwejUZfv35ljG1ubj548ODo6Gg8Hmut5/M5ISTLMsaYc45zzlJKeZ5rrVer1fr6ekoJTsB0bW1t/f79+/Xr13meb21tffz40Vq7t7c3HA7fv39fVdVwOBRCoHxKqZSScy4w1865LMvm87kQQgiRZdlyuey67ujoqCzL6XQ6m82eP3+utX716tXly5cnk8nnz5/hsLOBhP+stf9CLBYLrbXW2jlHKUV/+75XSl28ePHDhw/7+/vHx8ePHj3a2dk5Pj5+9+6dUirLMhhWCNG2LSFECNH3PR0Oh9AxpSSESCn1fU8p1VrHGG/evLm3t4fW/fnz5/z58yml0Wh0584day2YklKq6xqPUso8zwUhBOGstdClqqrlcmmMSSl9+fKl6zqQoigKoOjFixewNr5USjVNA4+vVqu+7+n6+jpMWtc13gfWYFVjzJUrV27cuIECd3d3f/78ee3aNc4557zve6219x4DSSk1xmRZJpbLZVmWAFKWZV3XgaEhBEzhZDI5PDwkhDx9+tQ5N51OAR3YKMYIloM7SimlFB0MBoSQEMJZaOcc6nLOQW5CSFVVBwcHm5ubt2/f/v79OxQD+sABay1oW1XVP6AUReG9d84BJUopZFoUBUbu3r17w+Hw4OBgPB6nlLIsE0JorbERpJRaa+TX970AAb33KSXv/Xw+x6oBTNH3jY2NnZ0dIcRoNGKMQU1gHx1D65GylJKVZckYA+FBM0IIHAbJrLXe+7W1taZpXr58iWsQiBCCZCmlIQTYvm3bf7kgELACk6EDZ4jZ2NiYTCanp6fwMlaWUgqex7toidZalGUJuMYYge6+7znnZVm2bYtPtFEIgUmfzWZYNuinEAI+xQK31rLlcgnyYxgYY3Bc13VoQoyxLMu6rr99+2at7bpuOByCthhouBDrhDG2Wq0YNnNd1845NB1iwyuLxSLGeOnSpf39/U+fPsUYMRohhKqq8jyv6xpkwhITQtR1TRGOEIIplFLCqjHGLMtQZtu22GAwSVmWZ3tQa911HRoLa1trGeccfwjm8zk2ClYjwIrqpJSz2WyxWHjvm6aZzWbz+Rx7/+Tk5Mwzxpi+740x/wN7b109paS+TwAAAABJRU5ErkJggg==\"/></td><td style=\"padding:1px;\"><img width=\"200\" height=\"200\" style=\"image-rendering:pixelated; object-fit:cover;\" src=\"data:image/png;base64,iVBORw0KGgoAAAANSUhEUgAAABwAAAAcCAIAAAD9b0jDAAAFNklEQVR4nD1Wu4oUTRSu+6WrnZ4dl3UCMx9gUw00MNFUE2EzMwXXyGdYMDDyHUxETURMNTBRMBNEEMxcWdntnb7W1eD7/+mgmekuqs75bqfparVKKVlrp2milHLOGWMnJyfOuZSSMaaUEmOklFprh2HQWrdtK4TQWmutvfdt29Z17b0XQhhjvPd0vV53XSelFELM8xxjNMYopdq25ZxLKb331tq2bQkhdV1LKWOMpRTsknNmjAkhSikpJRzDTk9PUUtKabPZKKXmeUaNSqmUEiFknmd0ME1T13XDMOCttbaUgu3wkFJKCGHGGGNMSqltW0CB6lBOjFFrnXOuqgqlEUJw8DRNhJBSCh4KIYZh6Pvee08Xi4UQglI6z7NSKsYohBBCnJ+fK6W895RSPEEVOWesIYSklEBDCIExxjlPKa1WK8Y5996P48g5n+fZe++9TynVdZ1zDiFwzrXWnPNxHKdpklJKKSmlIQTvfVVVnPMYIyFkHEdKad/3bBgGKSVeaK2ttTHGnHPOeZ7n3d1dY8y2KEDhvb906dLBwcHVq1dRkFIq5+ycm6ZJKSWcc1i3s7MzDAMhBLVrrauqGscxxuicM8YMw1BKOT8/r+v68ePH9+/fb9t2f38fspFSMsZijPM8s3Ect1LgnAshVqsVIQR/QToh5PT0FMgaY65fv37v3r0QwosXL4ZhGMexlILO0ArVWpdSmqbBadCHEIIx5r0HuSmlUgoIoZR++/ZtvV4fHh6+evUqpQRrgCXGWM6ZWWsXiwVQv3DhwjiOi8UCgPR9D06gAfB+dHR0+fLlN2/evHz5kjGGw7Z34EvrujbGhBBAEY6CntB+3/dVVZVSKKUXL1788uVLSunmzZu/fv3CpiklNF7+v8TWZH3fE0JCCM45pRRjbMs4IQTnPX/+nDH26NGjnz9/cs63cWGMAfpd1ymlBN5tt4O2IA6tdd/3jDFKqTHmzp07N27c+P79++vXr621nHN4AawqpaSUzjlKKQshbHXLOd/b20P7UkoYX2tNKb1y5crTp0///v378OFDVDAMA7wfQtjZ2QH7OedpmlgIYZoma62Ucpqm379/T9OEpXA0fl+7dq3runfv3v348SPnrJRCUOWcIUdEDKV0uVxS51yMsaoq+JcQYoxB7kG2Mca7d+8eHh5+/vz56Ojo5OQEy2ATgACplVKklOM4slJKXdfoFAnEGHPObZeu1+uDg4Omad6/f398fIxYgYaQElsJw9DWWgawjTHI6XEc0biUEnG3XC739/c/ffr08eNHsKy1hn6NMchpIYRzbrPZaK1DCAzcxRillNgdJUCDQoimaZxzx8fHMDSgxFtQjy4553Vdt20rpWRIJjQyzzOlFMEBYRJCbt26dXZ29uzZs6ZpqqoCPsCKUkopresa4vHeLxYLrbVAnpdSENIpJaUU/A71PXjw4MmTJygTfJZS4AgIBtBTSlEWY0wgfYUQnHNKKQYRJALUrbVfv34FvtM0VVUVY4T95nnGGkyXlBLnfBgGRgjZ29srpWAahxAQUSEELGWM3b59u+s65xwaEkJUVYV7VVXzPC+Xy1IKvFBVlRiGgTHGGDs7O9NaI/cwnEMITdP8+fPn7du3KSW0jyDHfMUMttYCkxACBo9gjG02m93d3ZQS9K+UQu5qrcdx/PDhQ0op54zjKaUYfPCxEALdYEzhGGqMwUSBMoQQsCDYx6TDwAAbmGDACnmIq+/7lBKy+D/4wFLbtlprfNtgU1SNxgEr+MVXQdd1QojlcokvCfTnvf8HCnxNvb5cXwoAAAAASUVORK5CYII=\"/></td></tr></table><table class=\"show_images\" style=\"border-spacing:0px;\"><tr><td style=\"padding:1px;\"><img width=\"200\" height=\"200\" style=\"image-rendering:pixelated; object-fit:cover;\" src=\"data:image/png;base64,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\"/></td><td style=\"padding:1px;\"><img width=\"200\" height=\"200\" style=\"image-rendering:pixelated; object-fit:cover;\" src=\"data:image/png;base64,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\"/></td><td style=\"padding:1px;\"><img width=\"200\" height=\"200\" style=\"image-rendering:pixelated; object-fit:cover;\" src=\"data:image/png;base64,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\"/></td><td style=\"padding:1px;\"><img width=\"200\" height=\"200\" style=\"image-rendering:pixelated; object-fit:cover;\" src=\"data:image/png;base64,iVBORw0KGgoAAAANSUhEUgAAABwAAAAcCAIAAAD9b0jDAAAFQklEQVR4nD1WuYoUXRS++1bVXW7DgBM5YKKBY2JgIihiNGCiieBb+ACCgk8gGpkYmIpMKiaCIMYTKLgMiAjOdHdV13LXP/h+OuuuvufWOd92miqllFLWWu+91nocRyGE954xxhgzxnjvU0ohhKqqQgiUUkJIzplz7r1XSmmt+75PKeWcGWNKKTabzWKM6/Uah5qmYYyhMoQwDEPO2RijtcaTGKOUklLa930pZTabLRaLGCM+M8ZijAwvl1KmlBhjfd+jIOeMJ0KIaZqklIQQSqm1dpomQgjnPOfctq0xRgihtfbeCyH6vqdVVUkpY4ycc/SIYTEL59wYQwjx3lNKSylKKc75arXCT9577z0hRCmF/oQQgnNeSkE9OnXOoVljDOecUso5jzEKIUoppZScM6XUGNO2bUrJWltKIYRYa1NKMUaRUpJSeu83708pUUqVUlLKaZpyzsMwMMa89ygWQlhrx3HMOUspUQJwSilN07AYY855NpuVUuq6VkpRSlE/TRNwQEHOWQhBKUUJegSgQDPGCM5ZKSWEgLZxmnOulAJL1tqcs7X26dOnX79+vXHjBmYE4iAdk3HO8W6lFIsxbm1tcc6ttbh0tVqVUqqqopSGEG7fvn1wcHD37l3n3MuXL69duyalLKXg9lKKlNIYE2NkjEkptdZCStn3PVADg1prgAW4Hz58eOnSJfQbQtjZ2QFRhJC6rruuA+MAjVI6jiMzxkzT5JyTUm5Oo8dxHAE8vnrv+77/8OHDbDaz1vZ9H0JQSkHIpRR4L6UkQBwhZJom6JkxlnOG6Lz3jx8/vn//fgjhwYMHnz9//vXrV865ruv5fH58fAxiobyqqkopMUYGfYQQQAv0obWGl4QQh4eHjx49Ojg4GMex6zopJTAdx1FrLaVcLpegbhxHgCmstev1GnKB07XWMUa0cPPmzaZpPn36dO/evaZpdnd3q6pKKa1WKxwYxxHKAbdt21ZVRbe2tnCXlFIIkVLC7VLKvb2958+fnz9/Xkr5+/fvc+fOKaX29/e/fPkCQ2NYznkIYeMLrTUDoEKIcRwREwCBUnp4eFhKEUJ8//79zZs3p06dopSuVis4YhM3yBpoC7DQ06dPw/hd1znncs6LxWLj+pTSrVu3jo6Olsvlq1evLl68uLu765yLMQJ6kA4xAEnnHDXG1HWNvOi6zlqL3DTGAHjobLFY/Pz589u3b/v7+0IIpVQpZRiGEAJK8AT+ZMhHxhh+Tilxzjnnfd8rpRhjpRRK6fb2dtM0b9++RTEOOOcQUUqprus2lzAYjhCC/YH8d86BsRgj8NrZ2SGE7O3tee9jjJtRMJb3HiLVWg/D8H+wQwDwcinl+PhYSgndIATu3LnDGHvx4oUxRkoJsyFhjTGY2nvfdZ1SihFCjDGIHM45fMU5B3Bt23Zdd3JycvXq1aOjoz9//iAQ4AvsR3gPwYY1xYZhGIZBa41DEF1d15uQTyltb29fv379x48fMA9CnVJa13Vd15skdc6t12ulFENTMUbEgdaacz6OI7QtpWSMXblyRQjx7t27nDOy0RgTQiCELJdLiC+E8O/fP2PMer2mxhhjDDoihIAfLDuEixDi9evXHz9+fPbsGecc3oeFMPXJyYkQoq5rhD3nnDnnIAD8LQDqmz8QpZTLly9fuHDh/fv3sAbyjDGWUqqqar1ez+dzkIF9NU0Tg5hwDp83bAohcs5Pnjw5c+bMfD6fpglzbK5AjykliBoOdM7Rs2fPQgdIgBACljY6BafwHzhp2xYbG1vk79+/zjkob7FYVFU1TdN/MKs8GhzhlHwAAAAASUVORK5CYII=\"/></td></tr></table><table class=\"show_images\" style=\"border-spacing:0px;\"><tr><td style=\"padding:1px;\"><img width=\"200\" height=\"200\" style=\"image-rendering:pixelated; object-fit:cover;\" src=\"data:image/png;base64,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\"/></td><td style=\"padding:1px;\"><img width=\"200\" height=\"200\" style=\"image-rendering:pixelated; object-fit:cover;\" src=\"data:image/png;base64,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\"/></td><td style=\"padding:1px;\"><img width=\"200\" height=\"200\" style=\"image-rendering:pixelated; object-fit:cover;\" src=\"data:image/png;base64,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\"/></td><td style=\"padding:1px;\"><img width=\"200\" height=\"200\" style=\"image-rendering:pixelated; object-fit:cover;\" src=\"data:image/png;base64,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\"/></td></tr></table><table class=\"show_images\" style=\"border-spacing:0px;\"><tr><td style=\"padding:1px;\"><img width=\"200\" height=\"200\" style=\"image-rendering:pixelated; object-fit:cover;\" src=\"data:image/png;base64,iVBORw0KGgoAAAANSUhEUgAAABwAAAAcCAIAAAD9b0jDAAAE+ElEQVR4nD1VO47UQBTsz+uPPzuzs7OCBInNgQwJJDICIk7ABcg4BjcgJOUGiAOQbYgACZESsdrFY0/b7j9BwTryjO1+9epV1eNt2zLGmqaJMdZaa61939dap2ninNdaz87O5nnOOXvv27YtpTDGtNbruu52O+dc3/fOuZRSrdVaO88z32w2tVYiyjk3TeO9DyEYY2KMpRRjTM5Za11KkVJyzr33QggcLYTAvRBiWRYpJWNsu92SMcZ7zxhLKXnva63GGGARQqSUlFLzPKeUmqZBKznnWmspBf1xzlED/4QQOGPszp07pRTnnJSSiNZ1VUrVWvGzlIJza61N0xCREGJdV3QQY4wxAiNANE1D+/1+XVe8ba1Fg6enp8Mw1FqXZQFqxhgRMcbmeRZChBBKKcuyaK2ttYyxnLNSyhgzz7PANI7HYynFey+llFLO88w5xz2wSymFEA8fPvz48eOrV6+klG3btm2rtU4pSSlxKKgXOWewCaTruhpjwBHnXAghpQQVbdu+ePHiwYMHFxcXSinGWIwRr6WUgCmEkHOmGONutwPfzjn0gpadc5vNhjEGpBcXF2/evCGiz58/Y9ZQRQgB/KzrWmsVQoiccyllnudlWYgopYRnQOecizG2bTvP88uXL1NKnz59+v79u7VWCKG1Xpbl5ORESmmMqbWCYsE5Px6PRGSMAXh8gJlCQNM0PX/+/OnTpznn9+/fX19fg5mbm5u2bQ+HQ0oJ4FBeQArx/wWd5pyJiIiUUiEEIvr58+ezZ8+GYfjy5Qu44pxba0MIjDEMyhgzTZOUUnRdt9lsjDGYNdRba53nuZRCRE3TSCmVUuu6fvjwYRgG7z00Ax8yxpZl4ZyjvNZaxBgPh4MQomkaPD4ej5zzrutQfxxHIcSjR49ijJeXlzFGiAS87/f73W4HB8PlWmuKMULVNzc3mCYsoLXGcfv9fhzH169fD8Pw48cPIgLXsElKiXN+axBAISGEUso5B0dC5Iwx55zWGhBOT0/v378/DMPv37+llN77ruu01l3XOee8933fI4Bu80WAdQgAuVBrhRI45zHGx48fd103TRPMjgw6HA7wCOgGXiKKMVJKKYQAAWDouIewvPfLsmCm7969A2VQOOpBodM0WWuttaUUzjmllCBjWBhzv+2Cc55zvnfvnpTy8vJSSonPoCQUQHjHGJdlgQQFTK2UEkIYY2D2W7xEtN1uIbu2bW8xQqTe+5wzWMZIQLeAvUII1lqoTGvtvbfWnpychBCUUr9+/fr69euyLLVWeFxrjU2BE621eGSMcc4JmJ0xhmrzPEPqiBykzDRNd+/eRbOAD1947733aBk74l+2QWgw3DRNiCj0iMq11q7riOj8/BzaQG5iUNA457zveyQ/FpeADqy1SikEDwIQvVtrm6YZx/H6+lprTUTOOSEEdieizxgDp2y323/noinEYAgBqyXnfHZ2FmP03o/j2LbtkydPxnGE5oloWRakhJRymiaEBvogDJpzvq6rEAKUw2DjOCJlhmEgouPxiPWJzWGtRftEBGFha0gpCesf74ENSB27s5RSSvnz58/bt2+/ffuGaSil+P8L7oQKEUAcwYGdceuoWus/DQuhlEL+ox62A3y53++vrq42m81t6OH0Ugo/Pz8fx7Hv+1JKSgmjRO6GEJCwGAI+QOGu666urrquuz1OKYWtYYz5C2fmEhIciyl1AAAAAElFTkSuQmCC\"/></td><td style=\"padding:1px;\"><img width=\"200\" height=\"200\" style=\"image-rendering:pixelated; object-fit:cover;\" src=\"data:image/png;base64,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\"/></td><td style=\"padding:1px;\"><img width=\"200\" height=\"200\" style=\"image-rendering:pixelated; object-fit:cover;\" src=\"data:image/png;base64,iVBORw0KGgoAAAANSUhEUgAAABwAAAAcCAIAAAD9b0jDAAAGKElEQVR4nD1WO2jVXhg/7yTnJm1uUmkr+Cz4AqU4iApVB518DOIiTkodBHGxgyAFFwcdFKcuKoiKm2MVnIQOToJQsLrYQuvQ1nvb1JzknJOT8x++P26Be3PO93t+wTt27CjLEiGEEGKMEUL+/v0bhqG1tm1bSmmn09nY2HDOhWHove90OlprrbVzjhAShqHWOkkS55wxBmOcJAnudDre+yzLiqLQWkspEUJaa0opIYRSWpZlGIZhGCqlGGNaa+99FEVN00gpi6IIgoAxRind3NwUQnDOsZQyCAKEUF3X8KC1FkJgjNu2RQjB6XVdc8699xhjjDHnHADBxVVVOefyPFdKtW1LGGPGGLjKe48QapqGc04IYYzBEYAAbqrrWmtd17UQYmNjo23bXq8HP2mtGWMIIRIEQRRFSimEUBRFjLE4juu69t43TUMIaZoGpuacnzp16v37958+fdq1a1dRFEmScM6BmTiOm6ZpmqYoCjw8PFzXNUDAGMdxXBQF59xaK6UETjDGY2NjMzMzBw8ebNvWOVfX9eXLl79//44QKsuSMRYEgbUWSCegCXAHUnLOhRADAwNCiDiO27YNgmBqaurIkSMY462trX6/H8fxo0ePdu7ciTEOgkAIAbAwxp1Oh4AIxhjvvbUWYwzecs6VZbm1tYUQmpycvHTpknPux48fZ86cOX78eL/fHx8fv3v3rvcetIIX67pmjKFutyulTNN0dHS02+0mSTI0NDQwMCCljOM4juObN2+urq72er3nz58fPXq02+1mWTYxMfHnzx+lVJ7nAwMDaZqGYbht2zYpZZIkDLADF/BsjEEISSmbppmampqcnKSUfvnyZWZmZnl5uW1bjPHKysrq6ur+/fujKNJaAwMQFgKTG2PqusYYw3He+7Zt67o+ceLE7du3h4eHtdYPHz6cn5/nnIP5er3e79+/lVJ1XVtrgcC6rkEbVhRFHMeEEOcc8I0xttZ6748dO8YYm5ube/v27cLCQpqmYIwoisqydM5576WUlFKYCcxjrWUAU2sNJHjvnXNxHB8+fPjq1avGmJ8/f75+/ZpSCmbinDvnmqbZs2eP955SqrW21gohGGNN0xhjiNa6LMskSQYHB+FcxljbttevX9++fbtz7sWLF51OB8jhnANMyJ73HqapqgogQvaY9z4IAucc1BLGWEo5NjZ2/vx5IcS9e/fm5+ehw8IwFEIopbz3xhilVFVVSZJYa5MkCcMQusJaS5xzaZrCtUIIaID79+8jhBYXF2dnZ0E3Y4zWuigKsGSe5wcOHLDWrqysWGsppZxzAIoQIlEU9ft951wQBN77Xq8npdy3bx8h5OXLlxsbG5RSIQSkBXzDGLtz587y8vKbN28YY0IIUOJfLEnTNEEQEEKgn6BNhoaGvn79+urVq8HBwSAIoH0559B+4+PjFy9ezPN8ZWUlDEOgEmSsqqqqKoIQIoRorTc3N6EuoV8A1NramjEmCAIpJQTaOXfr1q1Dhw61bTs3N1cURVmWWZaBjDAyM8ZEUQTQCCHQeLBXrLVBEABesOTw8PCNGzcmJiaMMQ8ePFhcXGSMSSl7vV4URVVVQRRRlmVxHGdZJqXM87zb7e7evbvX6y0tLT19+nR0dHRkZCRN07Nnz3779m19fX19fX11dXV6ehpKI45jsGOe50KIPM855ziKIpACYwxFRSl98uTJlStXvPe/fv368OHD3r17T58+DRldX19/9+7ds2fPYPE555RSwCw4sm1bDO0N/WqMIYRIKbMsm56ePnny5MjICPQ5BPHx48efP39eWlqC9Qd6wChSSq31/zWYpiksNVAZjFZVFWPs2rVrFy5cOHfu3Pz8/MePH2dnZxcWFmC5tm2bpmm/35dSgpJQFxAiHEUR/IlzjjFeW1uDcoSlxhgDTWEizjn0G1i9LEt4q21bpRTsZ+89AU4hYYyxwcFBjLFSqtPpZFkGGGEvgLgIIaUUxBQgA+osyyilSqmmaUhZlrCFmqaBTxXIK8aYEBJFURzH3W4XtgXcIYRwzkVRBHkLggA+WBBCnPOqqjAoA5RXVUUpBdtWVZWmqTHGOfevGBlj0DsgLHQopRSsrZSKoogQ8h8GcgK9TyS9AgAAAABJRU5ErkJggg==\"/></td><td style=\"padding:1px;\"><img width=\"200\" height=\"200\" style=\"image-rendering:pixelated; object-fit:cover;\" src=\"data:image/png;base64,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\"/></td></tr></table><table class=\"show_images\" style=\"border-spacing:0px;\"><tr><td style=\"padding:1px;\"><img width=\"200\" height=\"200\" style=\"image-rendering:pixelated; object-fit:cover;\" src=\"data:image/png;base64,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\"/></td><td style=\"padding:1px;\"><img width=\"200\" height=\"200\" style=\"image-rendering:pixelated; object-fit:cover;\" src=\"data:image/png;base64,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\"/></td><td style=\"padding:1px;\"><img width=\"200\" height=\"200\" style=\"image-rendering:pixelated; object-fit:cover;\" src=\"data:image/png;base64,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\"/></td><td style=\"padding:1px;\"><img width=\"200\" height=\"200\" style=\"image-rendering:pixelated; object-fit:cover;\" src=\"data:image/png;base64,iVBORw0KGgoAAAANSUhEUgAAABwAAAAcCAIAAAD9b0jDAAAF20lEQVR4nE1Wu2sUTxyf9+7OPu723E0KUYgo4UAQUohoK9gEKwUbixSCBANa6X8gdoJNVIRUgooWgTQGtQyCqGgTSNAUwcIzJLm928fMzozF9/c7vOoee9/H5zWDO52O1tpaGwSBMYZSqpQyxjDGCCFaa9/3CSFt2xJCjDFBELRtyzkfj8eEEIyxUopzLoRomkYIoZQiUIhzDiUwxhhj3/cppZTSIAiUUvA91Krr2hjjnMMYO+cIIUIIjDGMpZRijBFrLaUUZomiSGsNEzHGiqJwziGEoKLnecYYa6219uDggHMeBIG1tmka55zWuixLhBBjjAghhBAwl1KqrmuEkLVWax2GYdM0hJC6rhljbdv+29JaOx6PEUJt28KujDHnXFmWpK5rALEsy/F47Ps+YwxGhk6EECkldGqapq5rzjnGGHDgnLf/vxBCACbhnDvnACZAxzkHtZxzWZZNTU0ppWBMxliSJBsbGzs7OysrKxcuXKCUpmkKDYwxUsqqqgilVGvNOaeUGmOgIUIIYFpZWTl9+rQxBggUQoRhePv27fX19fn5+cePH1trh8OhlFIpBasQQhhoBZj1PA8hBMALIZxznPM8z4UQWmtY6Pfv34PB4OfPn5cuXQLqoihyzvV6vaZptNZBEBDoDwv+y3Vd11evXu33+2/fvrXWRlHkeZ61Fijq9/vdbnd9fb0oCkppXdd1XcMfu90ugf5AH+zOGAMETp48+enTp8FggBBSSjnn4jjGGIdh+OTJk7ZtV1dXYfEgCIBwhNDe3h4B3TrnQMlgD8B0dnZ2ZmYmTVNKKfwK2rp582aapt++ffvw4cPEERP913VNAFpQA8bY8zyllBAiCIK1tbUkSb5//3758mWQFCFkYWHh7t27u7u7CwsLsCLADfZzziVJgpIk8Twvy7Isy+I4TpIkz/MoiqSUx48fX11dPTw8/PXr1507d44dO7a8vHx4eFjX9eLiou/7URRFURTHca/XC8MwTdMgCKanp3GSJL7vF0UBkwohQNtlWQZBgDG+du3agwcPMMbj8bjT6RBClpaWXr9+XVUVqBBjzBgzxkxwJwihg4MD3/eB96qqrLUgZsZYVVXv3r3jnEspKaVN01hrP378OBqNQHNQVyklpQQyhBCkbds0TX3f73Q6GONut1uWJYA7HA7n5uaWl5eVUqPR6OHDh2tra9CAcw4+niinLEtgQmtNKKVVVRVFUVUVGAF41FrPzs4+ffp0bm5ua2trfn7+0aNHZVm2bXvu3DmIK6Ae6oIbQSesbdskSUAr4EUppXPOWvvs2bNTp05tb29fv359a2srDMPp6enxePzjxw8IJAitMAwhVauqwhgTQgjnfH9/H8YEz0DFEydOnDlzZmNj48qVK7u7u1EUQT4QQgaDAaXUWgueLsvSGANBDv4mxhghRBRFsA58xBifP39+MBjcu3dvZ2cHXIsxnpmZsdZ++fIFY9w0DWMsTVN4gxDyff+/PIXkh4QG80KgbG9va603Nzfh/AnD8NatW0ePHt3c3HTO7e3tQYmiKOI4VkpRShFCMC/hnHPOq6qSUgJG4HRIoF6v53meEOLs2bNLS0tCiDdv3gCOTdPAiTRJDIgkQggBdIwxRVEAAm3bMsb+/PmT5/ni4qLneRcvXrx//7619v379y9evABkwXUQPW3blmVJKQ3DEGOMwjCM41hK2el0oigihHie1+v1Op3Oq1evnHOfP3/e398viuL58+d5nsPDvu93u90sy/I8P3LkSBiGUsosy6SUaZriPM+bpgEosyyDfBmNRr7v9/v9GzdugAa+fv368uVLiIymaSB3MMbD4RAuBkEQQEhTSnEYhr7vgyY8z2OMjUYjUIbWGvQwNTVVVRVIDbxkjPE8b5LF4Fe4DGitmTEG0hNiBU5ToBIhJKW01lZVBcdtkiRwOkzSEtoghOCUBVNgQkiSJFprmBTkBTcG0DZjDFRBCCnLMo5juCaBebTWcRzXdS2EgAcYY38BAApNDPk+ofQAAAAASUVORK5CYII=\"/></td></tr></table><table class=\"show_images\" style=\"border-spacing:0px;\"><tr><td style=\"padding:1px;\"><img width=\"200\" height=\"200\" style=\"image-rendering:pixelated; object-fit:cover;\" src=\"data:image/png;base64,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\"/></td><td style=\"padding:1px;\"><img width=\"200\" height=\"200\" style=\"image-rendering:pixelated; object-fit:cover;\" src=\"data:image/png;base64,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\"/></td><td style=\"padding:1px;\"><img width=\"200\" height=\"200\" style=\"image-rendering:pixelated; object-fit:cover;\" src=\"data:image/png;base64,iVBORw0KGgoAAAANSUhEUgAAABwAAAAcCAIAAAD9b0jDAAAFI0lEQVR4nE2WOa4TSx/Fa67qyQM2SBAQIBGQIj0JyJCIWAW7IGQDrIEAkZARsQBCJEAiYZKI0UVc+97urq65XnB4/j5HttyuqnP+v3PKdBiGq1evjuN4eXnZdd00TVrrUoqUUimVc44xKqUOh0PTNFJKSmlKKcYohNBahxBKKZRSa62UUgixXq9p3/dCiGVZpJTDMDjnaq0ppZwz51xrPY6jMabWqrWOMYYQGGO1VqXUsiyMMcYY55wQMs9z27bjOIpaqxACRzs/PzfGEEIYY1LKnHNKiXOOjzHGGKPWmjFGCMFhlVLee6VUjHEYhlrrdrtlxhjnXNu2tdau65xzSikpJec8pUQpLaWUUqy12J5SKqXE0lprSmkIIaVkjIkxEkKstSyEgCdijJTS084ppaZpnHMxRs4559w5RwgRQjjnrLXOuVLK8XiUUnZdZ609WcHgdCkFW53cCSHknJumEUL8888/X79+ffr0aYxxnmdCCGRhY/gWY8w555xrrXSz2ZRShBDjOK7X65xzKYVzXmu11uLbz58/b7dbQsiTJ0/evn07juN+v7fWxhg3m433nhDCOc85M8ZSSsw5B/vW6/Xl5eU0TZRScNP3vfc+pfT8+fNv375prZ89e0YIWa1W8AoYlFJqrTg+qKB932utQQPn/Hg8cs632+3xeFytVt57xhgceP36tVJqt9uFEHa73Z8/fzBPkINJ1FoppaxpmouLi1KK9/78/Byjn6ZJKTVNk7WWUjpN07t3775//84Ye/z4Mef8cDgYY4BzrRXAAm1CCEsptW3bdR2ldLVaAR0QDkJTSlrrO3fuYIm7d+9yzpVSIQRKKSEEw6y1tm1rrU0pMe99zllKCaq6rtNa/7WGUq01hvb79+8bN24gb5xz+d/LGIP5UEpjjIiJyDlj9BgfAG7bdpomY8w0TVeuXJnnWSl17do1SumnT59ijCkljCWlJISQUtZaGWNt23rvhZQSQEAUJIM4BBGG3Lx5ExR/+PCBcw5CCCFg2Tl3ih+l9H8phs1SSmttKYX894K6+/fvc87fvHnz69evlBKi2TQNpRRJY4wZY/6agL6CHSGEeZ632y36iRDiveec73a7e/fuee9fvnwJo4UQ6DZCiHNOCNE0jfceCDKoxhI5Z/QAenOeZyGEMeb27duPHj0SQhBCoBoOIP5aayQI/GitBWoJ4/LeSykPhwPaqG1btO+DBw+WZSml/Pz5E2Cd0pxSAjnLsuDhvu8Z4oXYnd6A4Rgj1nr48CEh5P3796eBIGZ932PCjDHsIYTgnDMUODoGZgNMEIqu2e/3xpiPHz+enZ0ZY8CQ1hpbQiildBzHnPPFxQVDv0Ip53yaphACluOcD8NQShnHESQi2ghhjBFLp5QQ/2EYvPe73U5gPhAOObXWaZpwX4GVYRjOzs6uX78OE/+fwlJK0zQgv9a63+//AoCA41FCCM5eazXGIBq3bt1q2/bHjx/DMIQQ8AznfJ7nWqtzDhdwznme53EcBRBRSmFi+E2MsZQCtrquI4QcDodXr16hIXHx5Zz7vldKzfOMuwOmGWOEtXa9XtdaD4eD1hrjUkoppSB/vV6/ePHiy5cv0HWqD4THWouiwCW02WwYYxR/GmKMiASuVVxQOH5KCRmBQAy9bVtICSHghq+1AthSCjPGQCaCD7aVUug0TADhCSHgZ8Mw4GioQViBsOI9BXRt2y7LYow5Ho84BdoEGrEZpbRpmnEc8VdFaw3tJyRyzuiKfwG9MBgNH/LMRAAAAABJRU5ErkJggg==\"/></td><td style=\"padding:1px;\"><img width=\"200\" height=\"200\" style=\"image-rendering:pixelated; object-fit:cover;\" src=\"data:image/png;base64,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\"/></td></tr></table><table class=\"show_images\" style=\"border-spacing:0px;\"><tr><td style=\"padding:1px;\"><img width=\"200\" height=\"200\" style=\"image-rendering:pixelated; object-fit:cover;\" src=\"data:image/png;base64,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\"/></td><td style=\"padding:1px;\"><img width=\"200\" height=\"200\" style=\"image-rendering:pixelated; object-fit:cover;\" src=\"data:image/png;base64,iVBORw0KGgoAAAANSUhEUgAAABwAAAAcCAIAAAD9b0jDAAAFN0lEQVR4nD1Wu4oUTRite1dX987s7uB1F10WwUAMNDIQRSbYQDAQjH0OMyNfRDATFRF8gF9E1FgQA1dETcaZdnq6uu5/cGCznq7q+s53zvlODd3Z2VFKKaWGYfDe55y11owx5xyec86UUkKI1jqEIIRwzpVScs5CiJzzmTNnhmEYhiHGKIQghNBz58455yilnHMhBKUUO9q2JYRQSmOMpRQhRFVV1tqUEue8qqq+70spUkp8GGMkhDDGcs6s6zpKKaVUCCGEGMeREFLXtXOOECKEYIw1TWOtxRIqpZSEECklKWUIIcZ40lAIgWFNaz0MAzYxxmKMUkrvvbVWSplSqqqqlOK9L6WgrZyzlFJKKYQAgc65vu+VUtQYQwhRSnHOSymMsc1m07ZtCIEQ0rat9x64gKKqKkDD0VLKGKO1dmtraxgGrfU4jgwFjTExxqqqUBmgOOcppRhjjBF9oP33798/ffoUukEPKSVqhBBSSkxKWUpZrVY4opQyn8/fvHlz584dpRToL6U455RSQgjv/cuXL2/fvr29vY2lnDMayjmXUiaTiWiahnPunNNae+8JIU+ePKmq6uPHj+D3pOthGKSUbdvO53PvvVIK7ENDzjlArNdr9ufPn67rnHP4hjF2cHCwu7u7v79PCME3nHPOufcePGxtbRljHj16JITQWjdNA9Jgbc4529nZkVLCECmlw8PDUsrz589//PgByuCEUgokDSFgUqAYzq3rupSilKKUTqdTBvdqrWOMKaUbN27knJ89eway6rrGEqW0lBJjvHjxIiHEGLO3t0cIGccx5/z3798Tnw3DwGDGGCPoOzo6ijGeOnWKUuqcg3MhEaW0ruujo6Pz58+vVisIDT1QG00wzDjwwxYYuAcPHuBoOHEcR/gJNbz3dV0vl0sscc4ppfgJLwp0Z4zBl69fv7527dr9+/dv3br19evXT58+HR4eXr58eW9vr+u6cRzrugYVu7u70+l0tVoBGRgfx9EYQ0+fPh1CCCHAE5zz379/n3jeWlvXtfe+aRrIgjGllH779m0+n2PqOefWWqQHIUT0fT+bzfq+R8aEEO7du3fz5s0rV66cPXt2a2vr58+fL168ODg4AO937969cOEC5/zt27fwLyEEBg8hGGO6rhOMMWQdmF0ul+/evfvw4QMG3Dk3mUyQCdDh6tWrly5dIoS8evWKUrper+F5hEBKqWkagY6MMVLKYRiEEPA5kokQknMGBEQyyDk+Pl4sFjAsHHpSWErJMPI5Z+893jrn4FxCiHPOWuucY4xh2/7+vhDi8+fPi8UCXDPGMGyUUsaYtZZprXFnlFLGcUSYY15xnbRt27attTbnPJvNrl+/jg3jOAIEiIKRYS/WdV0ppZQCppFDpRQ8AyDnHIi6ruu6LucMrUEREnqz2aAzKSUD5u3tbWNMzhlmHoYBZtRaIy6ttdjw69cv7/1yudxsNvBczrlpGq01wOacGUbIWotUhiBt2wL7YrGglK5Wq5SSc857f3x8jFAHCbjN4EhgmkwmDMEBKlEHTsYFh4zAe8jy/fv35XL58OHDx48fW2sRjMg5IcR0Ov337x9DcEBBWDWEAK/hOLiPEFJVlff+y5cvbduu1+v//vuvlMI5R+4JIfq+DyGUUighZDabwVicc9zDSCxc7ri+kLaAgxqU0qqqIHff94jXEMJ0OmWTyQTgIRHmF1tTSpDrJMIJIZxzxphSyhijlOr7HoprrXGNxxipMQYjjKsNx8UYMZScc/xDgfRIP5gPB43jCAEwLPDW/0/rQ2WTDnWtAAAAAElFTkSuQmCC\"/></td><td style=\"padding:1px;\"><img width=\"200\" height=\"200\" style=\"image-rendering:pixelated; object-fit:cover;\" src=\"data:image/png;base64,iVBORw0KGgoAAAANSUhEUgAAABwAAAAcCAIAAAD9b0jDAAAFh0lEQVR4nD2Wv2oVXRTFz/8zZ2ZyJ+YmIkZDPgtREcRCRH0AsRLtfYC0Ij5ASlt9BMEgVmIhphHRWhRMZSERDEJukpu5d+bM+fsVS9JNMefM3mv/1tpDjTFSSkII55wxllJyzhVF4ZzLOYcQlFI5Z621c84YQwjJOccYOedKqcPDQ8758vLy0dERpXQ2mxVFway1bdsSQlJKfd+nlIqiSClJKTnnnHMpZUpJa621ttbGGLuuw5vDMBBCpJTz+RxllWXpvadCiKZpUkohhBCClNJaa4wJIQghUkqUUkppztkYMwyDECLnjAfOeQjBe6+UstamlKqqIoQwQgjK1lqPx2Ol1MLCQowR98YYpZSMMYhDKW3bNoTAGIsxUkpRICFEa900TQgh50xXVlb6vsdJxljf96PR6PDwkFJqjOn7PucshCCEOOdQHWp3zmmth2GQUsYYGWNVVaE/5pyLMaaUcKyqqq7rhBBaa7SGW2KMqCXG6JyTUhpjOOfWWmut1hoTZoz9/fuXtW0rpRRCUEpTSiklIQTENcYYY3LOlNKiKLz3AANat207DENd10KI4+NjSinnPOc8Go3YeDzGSe99zjml5L2/cuXKaDTinI/HY0IIY8wY0zRN3/d1XTPGhmEoioIxBkiKouCcz2YzjIFKKU+dOgVRIFBK6fPnz+vr6wcHByEESqmUsmka7z04ffHixfPnz/f393POjDFCCKQ4PDxcWlqaTqd0dXUVxWNKSikhxNWrVzc2NtbW1paXlwkhnz59Wl9fr6rq0qVLVVVRSre3t58+ffrnzx9gIISIMSqlYAp6/vz5yWQCyAkh3nvw75yDZ6y1ILFt23Pnzt2+ffvVq1eTyeTdu3ePHz/G+yeWgSfZ/v4+sPfeM8bQY84ZHwDSTdNUVWWMcc59+/ZtZ2dnNBrt7u7iOszZWptzns/nKSWqtV5cXJzP50Aa9QJb4GKMiTECbyHE9evXX758SQi5fPmycw7Mxhi997AypZSVZQlvSCmVUpxz730I4aSKpmmQIMMw9H3/8OFDrfWbN29OfAXjonHYnY7HY2stpRS20Vp777338ElKqSzLruuA4bVr17a2tiaTyc2bN8uybNvWGNN1HYgehsFaSwhhk8lEa13XdYwRlM3nc8ynaRpCSNd1ZVkyxpRSGxsbWuvNzc2yLGG/nHNVVYyx6XQKWzLGRF3X1tqu6wghGLqUchiGxcXFYRgQIjlnpdSjR4/u3bt3cHCws7Njra3rum1bhFFZlicWYIwxGIMxJoTw3hdFAdz29vZwqff+6Ojo4sWLm5ubIYTt7e1fv35RSiGR976uawyj67qcc85ZQIWiKIZhMMZA6RhjVVXOOaVUVVXe+7t37zrnvn///uzZM0II0jrGiIPWWiEEyPmHVF3XIQTOOYwxDIPW+vj4eGlpCV9aXV19/fq1Meb+/fs/f/6EeTBeAA/FoJIQgjHGgHpKqes6731ZliGEsizBc9/3T548WVtb29ra+v37NyQGoWDRWovtgvXlvf8nJe5VSmGOOWc0yDm/cOHCmTNnDg4O3r9/P51OoTuCBpmNMaBM4PivTKQynANgkc0ppTt37ty6devt27dfv37FYLuu++dxxqBVWZbIXEjMvPfo/YSMhYUFOBVGOn369Gw2+/Lli7UWUQ0jIZKxSruuww7vuq6qKgYgCCFQxDmHHDgp/MaNGz9+/Pjw4cOJESHlye1oDmU1TcM5Z+gU059Op6gRKz7nXNf1f//9t7e31/d93/dwJDgBwpxzLKi+76H1MAwMCYLoRXdKKWxKrfXKysrZs2c/fvyIpSaEmM1m+HOBQRHEWmuogd8Div2D7SSEAPCEEPQVQnjw4MHOzs7u7i4QRrOwCTyN3MNy1lp3Xfc/+P5CYnqElbAAAAAASUVORK5CYII=\"/></td><td style=\"padding:1px;\"><img width=\"200\" height=\"200\" style=\"image-rendering:pixelated; object-fit:cover;\" src=\"data:image/png;base64,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\"/></td></tr></table><table class=\"show_images\" style=\"border-spacing:0px;\"><tr><td style=\"padding:1px;\"><img width=\"200\" height=\"200\" style=\"image-rendering:pixelated; object-fit:cover;\" src=\"data:image/png;base64,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\"/></td><td style=\"padding:1px;\"><img width=\"200\" height=\"200\" style=\"image-rendering:pixelated; object-fit:cover;\" src=\"data:image/png;base64,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\"/></td><td style=\"padding:1px;\"><img width=\"200\" height=\"200\" style=\"image-rendering:pixelated; object-fit:cover;\" src=\"data:image/png;base64,iVBORw0KGgoAAAANSUhEUgAAABwAAAAcCAIAAAD9b0jDAAAFmElEQVR4nD1Wu2sUXxs+97mcmd3ZkDYIErFSEDGCBCFiKQjW/gNWqWxstLSxMQj+A6KVCqJ90EIQBCuxCwEjaljN7MycOXNuv+L5Prfa3XnnPfM+t3eolDLLMu99WZaU0nEctdaEkBjjMAyc8xCCEEJKSQhJKeFSjJFzPo5jXdfDMNR1HWMcx9F7P5vN6Hw+R68QQlVVKSVKKaWUEGKMybKMMcYYs9ZKKadpCiFIKVNKeZ5ba2OMjDEhBKXUOaeUMsaIcRwppXVdE0KGYVBKUUqnaZJSSinzPO/7Ho045865qqpijJTSGKOU0lrLGAsh4GfXdYwxRilFXUopy7KUEuecEIKp27aNMSqlGGPee3yZpsk5J4To+15K6b333mutnXNN01B0xLApJQzFGEspWWtxDCEEs6PMe49izjluoZR67wG61jqEwEIIIYTZbCaEwIAhhGEYUkpSyrZtrbWccyEEY0wpxTmPMeZ5jo7jOE7TJITAMc65lBJtmkZKaYzBRHmeAwpKqbWWUlqWpXOuKIpxHNHIe48hsiyz1nrvKaV5ng/DgHoBjAkhaAfgIADGWNu2nPPNzc3Lly/v7OxcuHDh0aNHfd8vFovd3d1Tp059+fLl7t27nz9/9t4Dt+VySQkh8/ncORdjxIzQbAiBENI0zblz554+faqUgh6890VRAFnMfnR0tLW1xTmfz+fDMDDGRNM04BSzWGsJIadPn759+/bZs2fPnDmztrbGOYc2ofy2badpqqoKf85mMxR0XSeEyLJMnJycaK3rukY7zjnnfHd398aNGyklrXXf9977EAKQMcZwzrMsG8exKIo8zz98+ADECCFlWXZdx9bX11NKfd/jQeDLZ8+eoSKEAGRijEVRgGLoLIRgjPn9+/fbt2//UTIMgxCC1nUNroUQ8BkecH9/X2uNHDg6Ojo+Pn7z5s358+evX7+OSWezWYzxypUrP3/+TCnBzeM4MsYE5hJChBAgNM65MWZra2t9fb0oisPDQ1ju1q1bN2/e/Pv3Lwg5PDx89erVwcFBlmWcc+iMUto0jcjzHFQCr7quKaVd10GkXdcVRWGMuXr16oMHD4QQkG1Zlr9+/Xr58qXWOqUUQoARqqoKIbC+77Ms01qjy3K5tNYqpcqyBLkppfl8/vDhQ2QdIQTTfPv27cePH3AzPAofrVYrUVWVtRbZBUD/ITuOY9M0IYSNjY35fJ5lGaUUDm7b9s6dOyEEay0yDHoYhkFrzZxzlFJjjDFmmqY8z8F4URRSyr7vnXM7OztwHYASQrx7966qKpAupYRlEIllWTJCCB5+sVhANHVdQ5jjOCqlNjY2tre319bWEHFFUXz//n1vb+/4+Jhznuc5ohJh9r+QNsZAT4gr5xyuIc2899vb2xcvXiSEMMZijH3fP3ny5ODgAEBZa5umWa1WhBAcHEKgTdMQQvq+x7ZRSuHYGKPWerFYvH//XimllILl7t279/z5c+99VVV//vzRWhtjUkoxxrIsMQ1brVbYVl3XYUlwzhljUsqqqvb29sqyxFKRUn769Gl/fz+EUNd13/egd21tDVbExEIIsVgsMJTWGhdSSsaYqqouXbp07dq1lNI0TYyxYRhev34N/wzDAO/2fd+2bZ7nlNK+74uiEEIwiBHtkFJoYYzZ3NwErd77cRw/fvz44sWLYRgAHOjl//+sViswkec5G8cRGoR5IU8hBLbIcrlE0MUYHz9+DFjLsoRzwJ4QAgDCWtZa5pw7OTn5t+ZSSmVZppSKovj69au1Nsuyruvu379/dHSU5zkkiLKyLEEphKGUijFO00S11kqpaZqUUiEEpLVzDisT7wPTNAFE8BNCyLJMSgm1oPhfimdZRouiYIz94xdZixuw+p1zWDBQbghBKaW1btsWrxFKKWQCMpcx9h/nQk5EsQnqgQAAAABJRU5ErkJggg==\"/></td><td style=\"padding:1px;\"><img width=\"200\" height=\"200\" style=\"image-rendering:pixelated; object-fit:cover;\" src=\"data:image/png;base64,iVBORw0KGgoAAAANSUhEUgAAABwAAAAcCAIAAAD9b0jDAAAFgElEQVR4nD1Wu2sVTxid92Nn98ZXtPCBtlpqoZ2FtmlEgmhKCbcKaCEIFjb5D0TE3trCJtr4B9gIgqYSISjozePm7nN2Hr/i/LgpLmF35tv5zjnfOUMppWVZaq3Hccw5SylDCEKIcRwJITFGIUSMEQvatuWcc85DCNZaQoi1dhgGIcR8PnfOee9jjFRrbYxhjHHOsQfrGGOUUu+9955znlIyxqSUOOc553EcjTFt25ZlmVJijOWcGWPe+9XVVaa1FkI0TZNSqqqqbdu2bQkh4ziO4zgMQ0pJa+2cQ0U8L8uyaRprbdu2XdeN40gpJYR47w8ODgTnPMZICMk5Hx0dnT17tus6POGcM8Zw5JSSlHIcR845pXQcxxgjINJa4+yMsbIsCSHUOWeMwTq0xhjr+x7YUUpDCDhs3/fW2hACIQQthxAYY03TaK1DCN57YwwqsBBC13U4bAihaRrU7fueENL3vdZ6iSw+EGOklGK/MYZzXlXVyZMnOeeEEOa9V0pprbuuG4YhxlhVFaXUWiul9N6XZbkUxoMHD3Z2dnZ3d3d2dra2tnLOMUal1DAM+B+EUyGEcw6EOOe6rhNCLFnGr7V2c3NzfX394sWLOEHOeXd39+bNmyklpRS4pZQqpcZxZGVZ5pxxupwzKuacsQLaunLlypMnTy5dutT3/evXrw8PD6HHsiwZYymlEydOoDkhxDAMglIKoVRVFWO01lJKhRB//vwpy1IpRQiZz+fPnz//+/fv169fy7K8f//+ysrK3t7ewcEBIUQp1TRNURTee0KIc45aa5VSUCjnfBgGyI0QYoyBJAAC4Nvc3Hz27Fnbtmtraz9+/CiKYjabnTp1arFYQPJKKWaM6fse4p/P52DZWlsURc55qXlo4MKFCxsbG//+/dva2vr+/XuMse9759zR0REo8t43TcPqup5MJlJKyBujGULIOXvv67qGqlD66dOnly9fXiwWHz58wBNgCpFhZIQQrKoqSBLYLylSSjHGnHPYwBi7fv36w4cPU0qfP3/uuo5zjm4YY4QQjL/AX9u2kIiUkjGG0QasUsqu65RSUsoY4+3btwkhP3/+3N7erqoqhHB8fPy/2hnDwTH0DIVARc55OXAxRmyglMYYp9PpdDrtuu7NmzdgXAgBW2jbFoqGIYQQmHMOUAIUxlhRFLAC9Ni27Y0bNx4/fkwp/fXr17t377quCyEMw2CMEULAOqSUSqm+7xljYj6fM8ZijMYYsKm1Lopif38fsFhrp9Pp+fPni6LY3t7Gh6WUQoi6rjH1MEnGmNaaAWPOOcwfnx3Hsa5rrfUwDCGE9fX1tbU1pdTbt2/fv3+PZgHLZDJJKdV1DX9BrxRZAkBTSn3fl2WJ3q21i8Xi3r17r169Ukr9/v377t27s9kshMA5B8lQC84OPrquW1lZYcYYQghgwrtxHFNK4Orq1atIrY2Njf39fUqpcw5At20LbyWEQOZt28IzxVKxUkr0BUlTSq9du7axscE5//Tp07dv3/DWe08p1VqjHCw4hACfjDE651hd1yklJAwiM4SglAohvHjx4ty5c1++fHn06BGcTEq5FLVzDp7kvQcfWmtr7eHh4f9c5ZybpqnrGvkcQlhdXb1165b3/uXLl8sQhjGGEGKMWMw5V0ot8wrbBZQkhCiKAqqez+ec8/39/aOjo+Pj4729PWstpgX6g79MJpO6rq21KaVhGBBfk8lksVhQ+BAQKIqiruuiKFJK1to7d+7EGD9+/CilbJoGMwa6q6pijM1mszNnzsznc2OMtdZ7n1IqioJOJhNKKWoh0GGpuBnApJFRQgiEq3Ourmu8WtKLfMO1hcIakMPGGFTEYEBnp0+fxo1BSmmtRfriJgBzgB6Qz8ir/wBqsEiAaDeAjAAAAABJRU5ErkJggg==\"/></td></tr></table><table class=\"show_images\" style=\"border-spacing:0px;\"><tr><td style=\"padding:1px;\"><img width=\"200\" height=\"200\" style=\"image-rendering:pixelated; object-fit:cover;\" src=\"data:image/png;base64,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\"/></td><td style=\"padding:1px;\"><img width=\"200\" height=\"200\" style=\"image-rendering:pixelated; object-fit:cover;\" src=\"data:image/png;base64,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\"/></td><td style=\"padding:1px;\"><img width=\"200\" height=\"200\" style=\"image-rendering:pixelated; object-fit:cover;\" src=\"data:image/png;base64,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\"/></td><td style=\"padding:1px;\"><img width=\"200\" height=\"200\" style=\"image-rendering:pixelated; object-fit:cover;\" src=\"data:image/png;base64,iVBORw0KGgoAAAANSUhEUgAAABwAAAAcCAIAAAD9b0jDAAAFcklEQVR4nD2WK4wUTxfF6139mundycwGNrwcgSAIJDiCwa3C4ZAbJAGFRSCwKDSErEGuIEERgtkECIQgcGzAwMxObz+qquvxF+f7dsRk0tPVVffc3zm36fnz56213ntCyDiOSqmUUkrJWru1tXV8fJxS4pzjBillCMFaWxRFjDGEoJQKIWCJUsp7TyllTdNwzlNK3nshBCGEcy6EKMvSWiuEsNbGGJumoZT2fS+E2NjY6PueMZZSGscxpUQIUUpZa40x3numlHLOCSFSSiGEvu+dc5xz59w4jiEEKSXnvK5rHHa9XjvnpJSUUsYYjhZCIITEGP933TkXY8SDpJRCCMaYMYYxhut1XV+/fv3x48fv37///fv3zs5OjJEQgqqzLPPej+PYti1+U0oFISSlRCklhOAIMcau67IsSyldvXr1xYsX8/l8Op0655xzRVHg+CEESqn3fhiGqqqklM65LMuapmHee845RIGmMca6rlNKQog/f/4sFos8z/u+//79+507dz5//kwp5ZxrrcdxZIzVdW2MiTF677uu29jYEEqpGGNKqes6rXWMEWKHELIs+/Xr18HBwcWLF9u2ffLkybdv3/BXSsk5N5vN0ECtNaVUSgkAmDFGCCGllFJCKZxXa00Iqeu6LEut9f7+/tevX3EdGHnvwWKMEepTSgEWm06nIQQ8yzmHNXmeo/vT6XSxWNR1ba1dLpcpJRxHKTWZTJxzYCalxBhTSrVtK4Rg1lpAiu+2bbHzbDbL83w2m507d45Seu3atTzPjTHwRdd1jLGiKLTWaKmU0ns/nU6XyyVDQznnMUYhRF3XMBUqyvOcECKEuHXr1oMHD8AAY0xrba0dhgElZ1lmreWcG2OKomCwINoFmWOMlFJjDBQchqHv+xDC7u7u7du3KaWgCiDDdc45GAeOYCGE1WrlvQdoxpgQgnNuvV5LKX/8+LG3t7darUIInPN79+5dunRptVphsZQyyzIAG2PknI/jaIyhp06dQkYIIYQQfd+XZem911qjxXme7+zsPHr06PTp08D+5cuXz549Ozw8rOt6GAYAG2MsisIYU9c1AwRKKegA1dH6rusA2Zs3b37+/IluWGvv3r378OFDQoi1Fp5WSkkpu64TQiyXSwYmYCokANJhGIYsyxhjyB5w471fr9eTyWR3d3dra4sQApLg7xDCOI5FUbCu6+AwoIpkrKpKa621xhrO+c2bNymllNLJZHJ8fHxwcHB0dKS1RoKgSkRB3/esqiowD4z8/z/oL8xHCDk8PGSMMcbatqWUbm9vo/Wcc/gKGYLWCWutUsoYI6UchmE2m63X6xgjSNzf31dKZVl29uxZQogxZnt7u23bvb09BN1JYm1ubsJOlFJxdHR05swZpdS/f/82NzebpgFn3vsLFy4opa5cuWKMgTsAedM0Hz58AM6MMTzdOXdSIq2qCv4ryxLboqd93y8Wi+l0ev/+/Rs3bly+fBm1v3v37vnz51++fIEaUAm7KqUgF53P57h7Op1CafAAU2HlYrH4+PFjVVV///59+vTp69evkSBCiKZpiqLI8xyoppQmkwkLIRhjsizD5FJKYaLBMGVZYhZ8+vQpxvjq1au3b9+exPkwDPP5XGvdti0hBOO2aRq6ubkJ3LBPVVXDMEBvNBRIg2WkeN/3EBfXQb5zDpNYa01nsxnGPVQfxxG2w04hBGQrIAX/WmvMD5yOUgr48zwfhsF7L6SUGN95nsNXGIXwAhbg7aFtW4wNhDq4zvMcLwloBqW0qioxjiPG8jiOODJmH+cc8MNjMcayLMdx5JyjJkopHIhxD9Khgzix7UnTUTuiALmVZdkwDJzzkydqrVEBAh+JhxKFEP8BM3eC6tzhuAgAAAAASUVORK5CYII=\"/></td></tr></table><table class=\"show_images\" style=\"border-spacing:0px;\"><tr><td style=\"padding:1px;\"><img width=\"200\" height=\"200\" style=\"image-rendering:pixelated; object-fit:cover;\" src=\"data:image/png;base64,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\"/></td><td style=\"padding:1px;\"><img width=\"200\" height=\"200\" style=\"image-rendering:pixelated; object-fit:cover;\" src=\"data:image/png;base64,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\"/></td><td style=\"padding:1px;\"><img width=\"200\" height=\"200\" style=\"image-rendering:pixelated; object-fit:cover;\" src=\"data:image/png;base64,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\"/></td><td style=\"padding:1px;\"><img width=\"200\" height=\"200\" style=\"image-rendering:pixelated; object-fit:cover;\" src=\"data:image/png;base64,iVBORw0KGgoAAAANSUhEUgAAABwAAAAcCAIAAAD9b0jDAAAFhklEQVR4nD1WO2/UTBSd93hsr3ejhWURAUFBQYSoQEKKAh0NHfRUCFHQUFHkL1DTICgClGlTRtCvYH9ARANShBBsvPFzPI+vOB9xZdnjuWfOPedc09FoNJ/Pq6pq2zbLsrquhRAhBEopIYRzzhir63o6nVprvfd40nUd55wQ4pwLITDGQghCCMYYIUTMZrMY4zAMlNKu65IkIYTkef7r1y9Kad/3WmvsizJd11FKh2Hg/y5KKaVUKeWcw3NWluWfP3+EEJzzoihijM65pmkYY5RSYwwQdV0HONbaGCNWaq0559ZaQgjuOefOOToajYQQSinvPaU0hND3vVKq73vGWIwxSRKttbU2hIA1SqmqqvI8J4TEGHECYAwhaK2ZMWY0GoEpxphSinOulAIPlFIUV0pRSqWUQogY48bGRtM04A3McM611kII5xydTqeEEEA7IwisE0KqqlJKoQNAik1jjCEEQoiU0jknhPDe44ZSyqy1RVGg0ZRSvAghDMPAGMuyLEkScIIvKaUxxq7rsHXf9wARQlBKDcNgraWbm5uEEKBIkqRpGkIIngAs5AUgWZYVRXH37t3Hjx9zzj99+nR4eAgExpiTk5MsyyildDabgZG+7wkhZ3C2trYuXbo0n8/n8/n29naMcXt7uyzLoiistZDger1++vTpYrFAYcYYYNGLFy+GELquk1JqrZ1zzrnXr1/v7OzMZjPOuZQSdBNCkiSB4LTW3nvG2O/fv2/duqW1BsvYWsQYvfdQuLWWUnrv3r2HDx9OJpMQAoiz1uZ5LqVs2/bo6OjDhw9Xr1598uRJCCFN0yRJhmHQWiul2rbVWou+75MkgballDHG+/fvN01T13WSJEmSVFW1XC699zHG8Xj87du3vb2927dvP3/+vCzLV69eOee01pTSsizBgHDOxRiVUowx7/0wDHt7ewcHB0dHRzdv3lwulyGEqqpms9l6vd7c3Dw+Pk6S5NmzZ865PM9//vw5Ho9PT0+7rjPGQBh0Pp/D8oyxpmlgNeCC2tu2hSMYY7DNnTt39vf3vfer1WpraytN07qutdY4aNd1TAghpUQ3nHMQHexAKW2aBtxDNyjz5s2brutCCLu7u1LKYRiEEJANY0wIwSCjtm0ZY4gPWAB7GWNg7RgjXHvlypWNjQ0p5XK5/PLlC5TTti2+QsfEMAxKqbN8DCHAVNZaJBDkQghJ0/Tt27dFUSANXrx4UZal9340GllrkT6UUmutIISUZSmlBJwkSbz3IQSQ6L2HzmKM165d29nZQb3FYnF8fBxjlFLWdT0ej9u2dc4httlZ3DrnOOdYgbJN0xhjpJTGGOfcjx8/3r17h40ODw/PgoYQcnp6aq1FThNChPdeKQXpQud///4FzLMQqKoqy7KTk5MQQtu2VVV9/PixbVsEttYa7uScZ1lGCGEhBNRpmgZ+gFmHYRiPxwgEY0wI4fLly48ePRJC7O/vozByZBgGROIwDIQQay3TWp87d45SOplM2L9rMpkYY+q6zrKMc962rTFmd3d3NBphzCHC0zSFyJqmQQHEMT1//jyowfyA1hC9CA54oSiKxWIB1964cQNrvPeINMAE9V3XMXigaZrJZILXQgicOs9zdCzG+PLlyzzPKaVfv35Fr6AKjKz1em2MgVTSNGVZlkFATdNYa/u+b9sWhvPewzCMsQcPHvR9772/fv16mqYQOfIfg7JpGu892GdVVWGwVFUFgtI0DSFIKUMIdV0bY7Is+/79O6Lo/fv3mHQxxrNxC+N47xFvAqxXVWWMgRFR2Vp7Nu+UUtPplDH2+fPng4MDKSVjrG3bNE0JIfhDACHARy9cuEAI6fs+xjiZTKAtKeVqtQLLMPVqtSqKArHyvxj/dbXrOqQPHC+l/A95Qwr4Q/APbwAAAABJRU5ErkJggg==\"/></td></tr></table><table class=\"show_images\" style=\"border-spacing:0px;\"><tr><td style=\"padding:1px;\"><img width=\"200\" height=\"200\" style=\"image-rendering:pixelated; object-fit:cover;\" src=\"data:image/png;base64,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\"/></td><td style=\"padding:1px;\"><img width=\"200\" height=\"200\" style=\"image-rendering:pixelated; object-fit:cover;\" src=\"data:image/png;base64,iVBORw0KGgoAAAANSUhEUgAAABwAAAAcCAIAAAD9b0jDAAAFxUlEQVR4nD1WO2sUURS+z7lzZ2Z3HUNMFAVB0NLCxipgb6V2Bn9ASv0DFoFYCv4BBYvF2kIwvlBS+IigICiYkERRDGZ3Mq/7vhZHthkY9t4953znewwWQpRl2XVdjJExppRK07Tv+8FggDHuug4hFGPEGGOMEUJSyq7rOOfT6VRKSQgRQjjnQghwRkqJjxw54r0XQmitEULwG0KIMQavlFKlFMaYcx5jRAgRQjDGjLGu644ePVpVVdd1lNLBYND3PUKIxRittZRSQgghxFrrvccYhxBmNSilaZpijGOMIQTnnPfee2+MmUwmjLGiKAghbdtmWYYxJnVdCyGUUowxay2AIIRgjOV5TimFGsYYjDEciDFKKb33CwsLzjnGWNM0dV1LKeu6bpqGQBd5nh8eHgJ2UkprLcZ4MpkghNI0RQgBCNZaxhjG2Dknpdzf38+yrK7rwWAAs5ZlmaYpQQgppaqqEkJkWcY5b5qGEOK9T5IEY+y9RwgZY6BB5xznXCnlnKOUwhOqUkr7vo8xkrm5OUJIkiRwIoTAGPPea60552VZwuBCiBCCEMJ775wbjUZKKc45lPTehxBg1TFGPBqNvPcAqPd+OBwqpRBCJ0+efPHixatXr+7fv2+MOXXq1OXLl+fm5iilZVnu7e19/vx5Y2Pj2bNn3nvOObClbds8z3FRFNB5CIEQAv0SQi5duvTgwQPotygKpZQxBoaNMVJKjTE/fvz4+PHj06dP19fXm6YZjUbWWqUUA+oAN733QGxCSIzRGEMpZYxtbW0558bjMaV0cXHxzZs3Ozs7y8vLr1+/vnLlytraGuf8/fv3P3/+jDEmScIAL4xxVVV5nmdZBv81NzcHzP/y5cutW7c2Nzc55zPQnXObm5uU0pcvXyZJsr29DSSDzhhgYa0FVgKruq7r+74oij9//ty5c+ft27dQzFqbpimghDFu29Z7TwhBCIHeGGOcc+KcA21pra21Wmu4A6ucn58/f/58kiRwfzgccs6NMVrrGKMQAvgEXAa9NU1DvPd5nhtjQKPwlFJub2///v3bWnv16tXBYMA5nym16zrgHBgCpRS0r7UWQhRFgTHG8/Pz3vumaaSUGGOlFKVUCLG2tra8vNy27cOHD799+7a0tLS0tKS1btt2fX19dXW1bdsQQpIkxhhAD2SCKaXD4TCEEEIAxsUYwS+uX79+9+7dJEmA2DAE8MQ59+nTp5WVld3d3Rijcy7P877vy7KsqoowxgB1ay0wlBACe3/8+PHKysqvX7+cc2ma7u7ufv/+/fnz55xzKeW5c+eUUkVRCCHgCue8qipCCM7zHPrHGBNCoCMhhLUWdnrixImLFy8eHBx8+PBhf39fCLG4uDgej8+ePXv79u179+6BFMuyBMo751iSJMBYwD5N0xij1rosy7ZtkyTZ2dn5+/dvVVXQ4LFjx65duwa6BD4NBgOtNXSTZZnWmtV1jTGG8ABjBTOcTCaccyHEdDpt2/bMmTPHjx/nnI/HY611lmVfv37d2NiALBgMBrAVECQTQgDSMUalVFmWTdOA2xtjLly4sLq62nXd/Pz8wsKCMQayZ29vb2VlZWtrCzYOSjPGSCn7vsdSSnBlSJ66rmHMJEm6rkvT9ObNmzdu3IBQe/fu3ZMnT4wxjx49AiGB80ImgQqstVgIAbCCJNI0DSHked40DWgGcuL06dP7+/vT6XTmWDAf2DaoAMIYIYSllHmeA5TAQTjRtm1RFAcHB1AS0gK4ZYzhnGut8zz/73WMgQpCCEopPBwOGWOMsb7vIcJGoxFwK4QAHgFDzLxDCHF4eAg9gpaAlLMIwBjjsiwhLyGvGGOzQ3meg3mDrUFoz6bp+77ve0KIlBICETyEAEOrqoIcF0JAQWNMkiRAbCgQQqjrGgpUVQWGCUYDheG7BiFEjDFt21JK/38HEALpNsscSMqu66CDtm0h8vq+p5SCGyilgKeTyURr/Q8ioURT3LfLfgAAAABJRU5ErkJggg==\"/></td><td style=\"padding:1px;\"><img width=\"200\" height=\"200\" style=\"image-rendering:pixelated; object-fit:cover;\" src=\"data:image/png;base64,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\"/></td><td style=\"padding:1px;\"><img width=\"200\" height=\"200\" style=\"image-rendering:pixelated; object-fit:cover;\" src=\"data:image/png;base64,iVBORw0KGgoAAAANSUhEUgAAABwAAAAcCAIAAAD9b0jDAAAFPElEQVR4nE1Vu24TTRid687OXhLZlpuQFgFSiGgSKt6AlgfgAah4BwpqeiRoeQEoo6SjQEKKFAmooAEcZ+29zH3+4gTrn8Ky17Pf5XznO4cuFgvnXIxRSqm1NsaklIwxWuumabz3OecQgrW2bduc8zRNuDkMAyHEObdcLruuc86VZUkIEUIIY0xd113XlWXpnNNae+8554yxzWaTc6aUNk0TQuCcp5QIIYSQrutQR1VV4zhKKRljOWdCSM6Zaq2rqrLW5pyFECmllJIQQgiBJ9M0cc6naaqqKsaolJqmKaVUFAWlFD3FGHPOOWcpZQiBIaJSijHGGEONhJCUUt/3IQSlFOdcSplzZox574UQWmtUnXN2znHOhRCU0hhj27ZMCME5994jKKWUUsoYCyHMZrPw72it8S+AizGGEAghSikAggpSSsMwMGNMURSAPMZIKVVKUUoJIcYYwIQc4zjiGiACDlrruq7Ra1EUMcbNZkP39/eFEM45QkgIoa7rGKO1Fm+iLsYYYimlAF9KSUpZFAW+03/HOXfbb4zROaeUappmmiYhBJ63bUsplVLWdS2lVEphPiGEsiwRRQhhrQ0hOOecc0IIpZSQUjrn9vf3c85v3rxZLpfL5fLo6Ojq6urbt28Y+sHBAVCjlHrv79+/H0J4//7969evUX5KCRyIMRJC6Gw2A5+fPHny9u3bqqqQMISAfBg6IYRSyjkviqLve6315eXl06dPp2milILO2J2cM+OcA8fz8/Pnz59/+fJlPp9LKaWUwzCA4WhNa10UxTiOQogY4507d05OTm7ZTikhxHvftm2MUWDKVVWFEC4uLp49e/bq1avT01Ol1Hw+995//fp1s9n8/Pnz6urq4cOHjx8/BhrjOHZdh4YQFAzhnNO6rquqQjbvvbUWW7FDKoRAKQ0hAK+PHz/evXtXKbVarY6PjxljMcbdAMFIVtc12APSaK1BC0iDtZYQAoaBHvfu3aOUbjabcRzBCs45aBBj9N5LKVnXdd57bEhKKee8t7fHOYey5Jz7vk8pYbInJyfQBErp2dkZdhQCBFJ772+pmnMuiqJtW7w8DINSCm9Ch5xzkI/j42Nszs3NzcXFBQBRSoHajLHZbCaEYGVZIu5ufzjnxhghhJQypTSOY9M0zjlr7enp6fX1NQjz+fNnaCjKnKZpmqZxHEMIt5XiOOdAOs553/cohHPunMP08HO73RJCHj16BLiwxFrrtm2hvGy1WjVNo7WGSoJuSinQXikFyQD5+743xoQQ/v79+/v3b+gsWDUMgzEGQInFYhFC6Pu+qqqiKLbbLT6FEEjQ9z1gOTw8PDo6atuWc/7ixYvz83NwEQccMMYQQlgIAY5ird1utzlna21ZllVV1XXtnJvP58DBWnt4eBhjZIwJIZqmgewjNzSoKIqUkoAHQEn/P6v1et00DWKhigcPHmDWXdednZ3t1BoXgG9RFGVZCuTs+x6opZQ455vNBvlhn0Dm8vISBgdrWa/XZVlC0XfrH2OcpolhmsYYKSVwZIw1TVNVFb4XRWGtvbm5+fPnz48fP3LOi8UCl7EREFZsPcjArq+vwaq+7+FXzrntdssYQ0ewIBg1AF2tVsMwaK2FEJvNBmUxdutM3nt2cHBgjMGeGGOmacJiABBrLeQVOjCfz7uu+/XrF9i+3W4hm3t7ezsDds6x9XqNwcGcISi74YChOxP+9OlTjPHdu3dYtl1n0KeqqmBitK5roAYawAF3ph1CwJRg1Cmlly9ffvjw4fv375DRaZqwIJgw53wcx/8A3dtEgQiOu68AAAAASUVORK5CYII=\"/></td></tr></table><table class=\"show_images\" style=\"border-spacing:0px;\"><tr><td style=\"padding:1px;\"><img width=\"200\" height=\"200\" style=\"image-rendering:pixelated; object-fit:cover;\" src=\"data:image/png;base64,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\"/></td><td style=\"padding:1px;\"><img width=\"200\" height=\"200\" style=\"image-rendering:pixelated; object-fit:cover;\" src=\"data:image/png;base64,iVBORw0KGgoAAAANSUhEUgAAABwAAAAcCAIAAAD9b0jDAAAFFUlEQVR4nD1WO47UQBTs/8+fxYvQCgJASByAiGAvsBEhARI3ISCDjICAAxBzhNkbICHIEBISAQEgZuyZsfvrJigxDkYznnZ3vXpV9UyHYei67s+fP4yxdV0ppYSQnLNzjhDCOV/XNeestV6WxRizruu6roSQWquUMueccxZC4FnOuVKKMcbGcTTGhBCklNbaYRiapuGc11pzzli63W4ZY8uyrOsaY6SUGmP2+z2lFDiapmGMpZRKKdRa65yTUhJC9vu9lDKE0Pc9vnPOc87W2u122zRNKYVzjlKwLyFECDGOo5SSUiqE4JzTvu+BnDHGGOOcU0pjjNjdWptSijECeEqp7/t5nimlWusQghACgBhjhJBlWZRSjHOOu4DgvV/XtWmaE1OllLZtnXMvX7789evXs2fPsHvOudZaSjkej977GOM8z23bEkIYpVRKWWsNIeScCSHTNP3+/ZsQ0rZtKSXGSAjpuu7p06fW2qurq1OL0EalFKW01qqUCiHEGFmMMedsjDHGCCEYY+b/NU1TrdU5BwjW2hjjZrNBZcaYUgoA0f/Xsixaa8Y5jzHWWpdlSSnVWoUQp5/zPJdSlFLPnz8XQuz3+x8/fhhjwMBJJNZa1Cql9N7TW7duhRBAM7qEvqWU0LcYY9u219fXd+/eVUo9fPhwu90KIXLOjLEYo9YaQp7n2RhDKWXeezQE65ZlgYyAt9ZqjOGc37t3zzn38+fP7XYrpSyloKtaa6BhjEkp0UAGvruuizEuy1JKWdcV7sJnjNF7P45jSmlZFkIIEAAE1nPOwdLxeKSUipQSbJBSklJqrcEASIA2Hj9+jCOnaeq6bhxHQkjf9ygfsICacy6EYBcXF1AG+o4WQR+cc+dczvnJkyc3btxo2/bVq1chBLhov9/DVygIsXB+fr4sC1v/XzAZ2IQMa62HwyGEMM9z0zTzPH/+/Bn2hVQhfimllBI2ORwOSil2PB6xl1JqWRYppRAC1KADSqlHjx5571Em2ISVGWOlFNAKTEDD1nWd59k5F2NMKRFCUkrOOaUURH7z5s0vX75QSj99+rTb7WBwSmnOGcqBFWutWutSihCCHY9HcAStlVK01qAMSHe7Xd/3Mcbz8/NhGKBK7z2lFJnbti2UtNvtKKXjODJjjLU2hKCUqrXCXd57ay2UGEL49u1bzvn+/fuvX79+8OCBcw6dgZdyzlJKxpjWmjHmnGOlFGstVAZfnXIsxqiU0lp///4dIr+8vHz37t3V1VXf9zlntLHWiunAGAMtTEqJSqFq6KPWihWMscPh8OHDh+vra+8951xr/f79+48fP965c6frOgQuEqOUEkLouo5hBmAvQohS6jSgKKXTNEkpnXMvXrz4+vWrEOL27dulFGPMxcXFsiwQzCkr2raNMTLOubXWew/zIkBDCIh9HFtK+fv372azoZS2bbvf7znnwzAgH3a7HSrA46UUenZ2hpNxpvfeOee9b9vWe980DUyMYN1sNmdnZ1LKN2/evH371hgzzzO6hDAUQmit6TAMwAKOIcNhGPAFasfkSSkhjWqtmD0xxhhj13Wob11X9FMgQzG+sQUhBMkGyKe5xhjDqWj3aZCcJivnfJ5npZQAwaWUE6fQU0ppXVcoBpatteI+XI8EgTXHcbTWzvPc9/00TbRpGhCHh5FmJ/gw1UlhIYSTfxAl8CHeBE5vMSznjEUIWiQIAhBFwdqICLxwnMhFjuBfxtg0TUKIGOM/2481+7v7Q2IAAAAASUVORK5CYII=\"/></td><td style=\"padding:1px;\"><img width=\"200\" height=\"200\" style=\"image-rendering:pixelated; object-fit:cover;\" src=\"data:image/png;base64,iVBORw0KGgoAAAANSUhEUgAAABwAAAAcCAIAAAD9b0jDAAAF3ElEQVR4nD2WO2gUQRjH572zs3t7d5sjBLWQKy0ExSJYiFilUUHRJo1ELQTtBLtUaa2sJZ2NhQg2HhiDkkqwsbJQ8EGIJuft7d6+ZnZmLD5It+zNzuP3/b/fHB6NRsYYhBDnHGPcNE0YhlprjLExZmlpKcuyMAyttWVZpmkqpZxOp0EQHB4enjp1KssyxhjGmBDivV8sFkIInCSJ954xRil1zhVFkaapc67rurIsgyBACAkhqqoKw1ApZYxxzmmtGWPWWmutcy4IAkIIQqjrOkopgW+891prhJCUsiiKpmkIIUmSCCGEEAihKIryPC+KQkq5sbGxv7//+/fvJEmklEqpJEmcc0opzjlCiDDG4CkMQ4wxpVQp1ev1CCFd12GMtdZwCKUUpTTP81+/fhljyrI8ffp0XdcIoaOjI0DXNA1CiCCEsizTWtd17ZyDLTdNU5altRbgcs4BESzQ7/cZY1mW1XUdxzGs570HaHEcE0KIUiqKIiml9x4hZK2llDLGhBCMMedc27bH78fj8cOHDwkhBwcHf//+1Vpba2EYISRNUyEE6boOIdS2bVVVTdOsrKxwzrXW3vsgCIIgiOPYGEMpDYJAa33z5s0oiiaTyfr6elmWWmvYIGPMGDOdTvf39wnGGFAuLS2dOXPmz58/QgiYwhjjvS+KwnsPz+Px+MaNG4SQ169f53me57nWGjYBkQrDkFLKIKGLxaIoiul0KqXEGHvvIUZZlsVxjBDCGJ84ceLx48eDwaDX6+V5jjGO47jrOuBe1zWgHw6HBGNcVVUQBJTSXq93TLCua+/98YxwmuvXr1trEUJFURwzgURCQpxz8/mcFEVhrTXGtG0LQyGbEOa2bbuuE0J0XTefzxFCs9mMUnr+/HnOOcSZEEIplVISQhhjSZLgXq+HEBoOh2VZwsGhMRBCjDHvvfeeECKlHA6Hg8EgSZLnz58XRXHx4kUAeoyrbVuMMYSBSSnLsoSgIYS890CAUgrsF4sFQujHjx8HBwec81evXn3//r2qqiiKYBZrbdM0xhhoEAKngAallBZF4ZyTUkKAmqYBZRhjGGNpmj548GBtbW0ymVRVZYyBucIwhGM1TcM5Z3meh2HIOc/z3BiTpqm1lhCCMe66jnNe1zXEZTQabW9vr66ufvnypd/vD4dDUBqldLFYQKeVZVnXNR6NRoSQtm2FEMAIOnV5eRlyppSCir98+fLChQuz2ez+/ft7e3sIoSRJQEOwPKCo6xoDBaBLCOn1eo8ePVpfX19ZWdnd3Z1MJkKIS5cunTt3jhDy7du3jY2Nnz9/QoaAuzEG1DebzTDGQRAwIQSUD9z85MmTu3fvdl3nnLty5crq6irkSWsNRwHWUEOtdZIknHPYKaUUJsVxHDPGwjCsqmo8Hn/48AEhBBzg/Xw+D8OwbVtI29HR0bNnz7a3t8H2URSBf6WUsCTGGIM6hRBAYG9vL03TOI611uDDjx8/vnjxQil169aty5cvw8i3b99ubW39+/evKAqYSGsdx3HTNBhjBorL8zyKImOMtRYq8/79+6dPn379+rUsyziO27bd2dlZW1vb2toaDofXrl2TUlprP3/+HIbh2bNnB4PB7du3ITM4jmOlFCEEzLi5ubmzs7O8vPzmzRtjDMYYzKaUatvWOTcaja5evbq5uamUcs5Bxbuu293dvXfvHoDGSimQDcAG+TvnoLiQUPAe2ABqnabpyZMn79y58+7duzzPP336NJ/PAVocx1hK2e/327YlhMC92DRNEARd18E1BY0LogJ9SCnn8zm8BHN67621QgjnXF3XOI5jSmnXdUmS1HVtrQ3DEHQHcoONQ55gIs65MYZzDvczSA9yCbMT6Gson3OOMQYotNagQZAFbB+u66qqyrKsqgoOUdc1fAVbppQS7z2gJIQcM0UIHV8ncN8RQrIsWywW0CZRFMGfCTAI6A1+9d5jxphSqqoqKeWx7iDGgAm0AKODIADtJklyeHjovYdgAVyAzhj7DzvBUARULDr3AAAAAElFTkSuQmCC\"/></td><td style=\"padding:1px;\"><img width=\"200\" height=\"200\" style=\"image-rendering:pixelated; object-fit:cover;\" src=\"data:image/png;base64,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\"/></td></tr></table><table class=\"show_images\" style=\"border-spacing:0px;\"><tr><td style=\"padding:1px;\"><img width=\"200\" height=\"200\" style=\"image-rendering:pixelated; object-fit:cover;\" src=\"data:image/png;base64,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\"/></td><td style=\"padding:1px;\"><img width=\"200\" height=\"200\" style=\"image-rendering:pixelated; object-fit:cover;\" src=\"data:image/png;base64,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\"/></td><td style=\"padding:1px;\"><img width=\"200\" height=\"200\" style=\"image-rendering:pixelated; object-fit:cover;\" src=\"data:image/png;base64,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\"/></td><td style=\"padding:1px;\"><img width=\"200\" height=\"200\" style=\"image-rendering:pixelated; object-fit:cover;\" src=\"data:image/png;base64,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\"/></td></tr></table><table class=\"show_images\" style=\"border-spacing:0px;\"><tr><td style=\"padding:1px;\"><img width=\"200\" height=\"200\" style=\"image-rendering:pixelated; object-fit:cover;\" src=\"data:image/png;base64,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\"/></td><td style=\"padding:1px;\"><img width=\"200\" height=\"200\" style=\"image-rendering:pixelated; object-fit:cover;\" src=\"data:image/png;base64,iVBORw0KGgoAAAANSUhEUgAAABwAAAAcCAIAAAD9b0jDAAAFnElEQVR4nE1WO2sUXxS/5z7nztzZ3Ty1sgmIRIsgRLAXBS2inR/ASrDQj6BfQiSd2IqFNgZTBmInQixENlaKUZPd2dmZ+/4XR5Z/N+zeueec3+sMKKWqqgohMMYYYymlGGMIAQAIIcvLyycnJ1rrGGNKqaqq2WzGOc85z+dzpRRjLOcMAJRSSmmMkXNOCSGUUs55CKHrOgAQQpRlKaXMOTdNMxqNrLXe+7qu27ZVSmmtGWOUUikl51wpRQhZ/DKbzahSqu/7GCOWtdYSQmKMjDEhBKUUGzHGnJ2dOee89zHGnDNjbD6fE0JCCDFG731KaT6fD4dDGkLQWocQ8OXBYDCbzWKMfd9zzvu+DyFIKfu+N8ZorQkhKSUAYIwtDpdlCQApJSlljBGMMUII773W2jlHKRVCWGtjjAiL974oihCC954Qgv9SSo0xzrmUEkKMMAJAjJFi/5RSay0SheNLKbEpY0yMMcZICMHD1tr/F3bOEUIQma7rtNZQ1zXWIYRwzlNKOWeEDDHhnCPF1lqcWmvtvQeApmm01jlnIURKSQiByqFKKWQQhaWUcs5prYUQUkocom1bzjk2jiWxiaWlpRBCURQIVEoJn6lzrigKAMCHrusGg0HOGS+6d+/eixcvdnZ27t69u76+rrWWUhZFcfv27f39/b29Pc45AMznc1Rk3/eAdCPROL6UMqU0nU5XVlYePnz4+PFjHDDn/O3bt6OjI2vtnTt3hsNh0zSMsUuXLs1mM2RJStl1HWMMpJR1XaM8OedVVU0mk/X19b29vXPnzuHsjx49ev78uVIKJ6OUKqVu3br16dMnxAdpjDEKIQCAGmPatiWEAICU0nvPOX/27Nn58+eRlq9fv25sbLx9+xZlj+Y5Pj4+ODjw3qMcOecxxqqqvPchBI5uiTECQNd1hBCt9Zs3b3Z2dtDRV65cuXz5MqU0hPDhw4ebN28CwPHx8XA47PseLdP3vda6aZqiKAghFLXivWeMcc6xJtpjf39/e3v71atX4/H45cuX165de/Dgwc+fP0MIu7u70+mUEOK9R9kBQF3XmEr89PS0KIqqqtq2RWXEGK9evUop/fjx43g8fvLkidYaAFC2dV1///793bt3mCP/LEQpol+WJeecr6ysLFzBOS+KIud8//59pdTnz5/R14QQVIj3vu97BG7hS6016pdS2nXd8vIyR2VhApycnAyHQ6XU4eEhAHz58gUAzs7O6rrWWrdtiy//+PGjLEvnHAAgmVgJU20ymYAxxntflmXOeaEPIQSmF3LVNA1a6OLFi69fv7bWbm9vF0WB92KuM8YWAqCU0qqqMLEHgwHanFLKGDs9PbXWtm1rjDHG5JzX1tbW1ta895jCmA+L2OecW2tTShTDOITQNM3fv39TSpgXKaXV1dWUUkqp73vnnDHm+vXrlNLxeNy2bVEU2Noi2zASrbUUwSrLEtEMITjnyrIUQnDOjTGMMUy8nPPW1lYI4c+fP0opNAJSIqWklCKGdV3Tvu8xDdH+SimlFBLSNE1KCbvGAUejkTHm6OgopeScQ8t67xepCADeexiNRmVZdl2HbkOuKKUpJVyxmHic8/X19cPDQ/TYr1+/cLUIIXLO0+nUGJNSQvHTnPNsNsMlmnPGkMeyGM8xRozXzc1NSunv378JIVVVcc6dczFG5xx6CfdNzpliYltrQwhCiKIocFmFENBdo9EId+qNGzfatn369OlkMmGMOecGg8ECVox5XMwcR0YZI4koAAxdFM1sNltdXd3a2tJav3//HlWJ6wQF0Pc90gAA/zrFYVHe1lr8RMDNjPIqiuLChQubm5sHBwdd15Vl2TQNXoEn0Ut93wshqqri+D2D/AIAqj2lZK0dDAaTyURKCQAbGxuj0Wh3d3c+n6Mvq6rCjYtBhV0vLS1Za/8DPyAe8aXWrV0AAAAASUVORK5CYII=\"/></td><td style=\"padding:1px;\"><img width=\"200\" height=\"200\" style=\"image-rendering:pixelated; object-fit:cover;\" src=\"data:image/png;base64,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\"/></td><td style=\"padding:1px;\"><img width=\"200\" height=\"200\" style=\"image-rendering:pixelated; object-fit:cover;\" src=\"data:image/png;base64,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\"/></td></tr></table><table class=\"show_images\" style=\"border-spacing:0px;\"><tr><td style=\"padding:1px;\"><img width=\"200\" height=\"200\" style=\"image-rendering:pixelated; object-fit:cover;\" src=\"data:image/png;base64,iVBORw0KGgoAAAANSUhEUgAAABwAAAAcCAIAAAD9b0jDAAAF1klEQVR4nE1WPWgUURd9d96beTM7u7PZmL9CjBZiI4IYsbCxEBRLC0FBRFG0EMVCCQj+YSVpxJ9GRI0WIrGIClYGsZKojVoEtEpjEjFks5udef9fcT7yfc0ys+/Nfefee865jzZt2rSyshJCqNVq1toQAmPMGNNsNhcXF9M05ZzneV5Vlfc+juMQQhRFSinOeQhBa12v140xxhjOORHFcUxFUaRpqrVOksQYI6W01iZJEkLw3jPGOOfWWs55r9dL09QYwxgTQiilpJQhhLIsESuKIsYYYywiIkTRWsdx3Ol08AFjTGuttfber0d0zjHGiAjnRVFUVVVfXx9QG2MAJcrz3DmHKCGEVqvFGLPWVlXFOXfOhRCstf9DEUXW2na7HcdxVVVZlnW73RACEdVqNSKSUlIcxxs2bFBKoVghBCEEfr33VVWlaSqE6Ha7RMQYQ1m990RUVVWSJNbaOI611lmW/TeVoig451JKpVQcx4wx51wURYODgxcuXFhaWrp06dLLly/3798/MjKCpV6v1+12lVL//v07derUysoK0i/LMo7jpaUlGhoa8t6jRt77EAK6MTU1tXPnzj9//iwuLo6Ojvb39wsh1tbWtNZ9fX1aayLKsmxiYuLu3btVVRVFobV2zmmthVIqSRLOufc+iiLvPdbevn37+vXrN2/eZFl27ty5mZmZX79+4eMQwq5du27dutVqtRYXF4UQnHNQyjnXaDSov78flEJDpJTGGGAXQhCREEJrLYRAJ51z169fP3r0aL1ev3PnzqNHj7TW1lohRBzHSimlVMQ5X11dRWdQda01Gq2UAr3SNEUGeZ4fP3785MmTzWbz/fv3z58/R1rgmbXWGNNoNIRzLs9zvIOA9XodSJEOKBxC2Lp1682bN/ft28c5Hx8f//DhQ1mWSikwP4SwLh+BxuV53uv1wN71QDgD5L127drhw4dXV1c/fvw4Nzf36tWrtbU1znmtVkME7Izj2HsviAjKBV2EEEIIVP3y5csnTpz48uXL3r17hRDfv3+/ffv2p0+fgItzDgUbYyANiMoYQ1LKPM/xb7fbbTQaaEuaprOzs/39/Sjx79+/Hz9+/OLFCyllFEWcc/Aa3ISmpZSgUFQUBRFBLVmWERF01Wg0pqamFhYWwN/NmzdfunRpenp6YGAghAAFWmuJCFKUUjrn4jg2xlCj0QA94RcgHTwwSZLh4eGDBw+eOXNmeHi4qioke//+/cnJybIsOedAXVUVkBljiqKgoigYY7VaDS0GH621ULeUUmtdFMWhQ4e2bdt29uxZa22n03nw4MG9e/dgfSgdHADpU1EUsGccsra2Bg4nSQJiZVlWVVWz2ayqSgjx9OnT3bt3Ly8vX716dXp6OoQAKHmeYz8RRXAwKAfHwvS89yAWTH5hYcEY0+v1JiYm2u12URSnT5+GgYFYRLS+WazrJ01TpRQ4//+2jw1RFJVlCThCiFqtNjw83Ov18jwH2G63K6UkorIsBcRer9e11r1er9lsKqWiKErTFFaAb0CPjRs33rhxI03Tdrs9Pj4upSzLEiYLT4nj2DkXQbnQqBDi/PnzY2NjxphOp4NY6CljbGBg4NixY6Ojo6jst2/fMKw450mSwNSRPrVaLbwT0Z49ex4+fEhEz549m5+f//nz5/z8fLPZ3LJly/bt248cObJjx46/f/9+/vz5ypUrKysrELe1FmDxYK0VxhiM0hDC0NBQX18fEV28eNE5J6Vst9uccxiY1vrHjx9PnjyZnJzE/EAUIQRYhQchhIASMMrfvXs3MjJy4MCBsbExIlJKNZtNzvnc3NzMzMzs7OzXr1/LsvTeg3mQ6fqtAK7GGCMhRFEUmOzOuVarhYWqqowxZVnWajXcMOAj6Emn0yEi51yaplEUraOGjdDg4CDcAWyHMGA5uAlAteugMBmxM8uy5eVlDHlUAGyNOOcouVIK2scFAjMSPPXet9ttKAe6UkpprbvdLvoD9wB/nHP/AQ2FaRpkofxhAAAAAElFTkSuQmCC\"/></td><td style=\"padding:1px;\"><img width=\"200\" height=\"200\" style=\"image-rendering:pixelated; object-fit:cover;\" src=\"data:image/png;base64,iVBORw0KGgoAAAANSUhEUgAAABwAAAAcCAIAAAD9b0jDAAAGG0lEQVR4nD2WO2gUURSG72vuzJ3HzuxuNhKCrMVaGImYQtTCShAFO7VKShEELQRfhTY+Kiu1SiXYiK3dmiIEJUZTplmjoGJYSdxkn7Mzc+fOvRZH0u7O3HvOf/7/O4NrtVoYhn///rUsi3Pe7XaDIEiSpFQqpWlaFAXnPEmSoigwxpRSrXWWZbZtY4wty5JSSilt29ZaM8YYYwghIqX8+fMnIYRSmqYpIcS2baVUkiSWZVFKd3d3HcfxfZ8xhjH2PK9SqWCMXdfN89y27XK5TCmllBJCiqKglGLP8xzHMcakaSqEkFJCCZTSPM8ZY3meQ41SSq01IQQhpLXWWgsh0jRljKVpGgSBlBIqw9VqVSllWRbGOM9zYwwhxBijlOKc53mOEGKMua4bxzH8ZYzBGMNNGGO4ACqN43hycpIhhDDGUkpjzP7lGGOEkDGGc04pLYrCtu3Hjx+vr697nvfr168syzY2NpRScRwrpRhjWZYJIeI47nQ62PM8y7KKoiCEEEIcxxmPx6A3pVQphRBqNBqLi4tHjhxRSmmtpZS+7+/t7S0sLGxsbIAyRVEIIbrdbrlcxmEYWpYFdWVZ5rruaDSyLAuaguEsLy83Gg1CiNbaGDMajVzXZYxJKW/evPn+/ft+v+95HgiSZRmxLAuO01o7jpMkiTFm30CMsWfPntXrdYwxqMkY8zyPECKlVEo9ffr01q1bvu8rpYqiSNPUtm1SFAX0SClFCDmO4zgOqG6MuXr16uXLl8GARVEYY1ZXV9fW1rTWnHOMcRRFly5dmpmZYYyBixhjyPf9iYmJWq1Wq9Vc13Ucp1KphGFYLpebzWav1+t0Ot1ud319/fnz51NTU0IIKP/Pnz9bW1uDwaDf77948YJzLoSo1WpRFKEwDA8cOOC6bqlUmpiY8H2/Wq0GQfDmzZterwdqLC8vnzhxIgiCMAyjKCqXy5OTk7Ozs1++fOl2u8PhcG9v7+jRo0EQVKvVarVKsixLkoRzDkoLIcbj8fnz50+dOoUxzrKs2+0+fPhwc3NTSsk5B7myLPv9+/erV69arZaUEq4viqIoCq0145zDWKWU4IFr167du3evXC6DeZeWlr59+wZCg/NgaI7jvH37dnp6empqKoqi4XAI7h6PxwxcBlYFt9+9e9fzPEixbdtra2tJkgghCCEQsKIoHMfpdrtCiGPHjk1PTzPGkiRxXRcCxqSUQgittVIqz3Ol1O7uru/78MtwOPzw4QNwAPjEOVdKGWPCMKzX62fOnBmPx3EcB0EQxzEYlED7tm0HQUAIuXDhAgQXormysvL9+3dIAeiOEALQKaUePXpEKbUsy7Is13VBH4wxG4/Hvu8D6Djn7Xa7Xq8DWfI8f/fuHTyapilCiBAC6FFK2bZ98uRJKC2KojiOoXdjDIE4Am4JIXNzc8BWy7KUUjs7OzBDxhjAzRhjWda5c+d+/PhBKR0MBoSQpaUlYwxCCKpmlUoFMgqIPXToEIwIYMoY01q7rgvFAozzPL99+zYgjVLaarXm5+e11kBkYwxLkgQaBDJtbW3BeoB62+02GEgp5bouxP/GjRsHDx7M85wQsrOzMz8/D7KAPTDGBFgAWvi+//Hjx5WVlX28X7x48fTp0wBpuP7KlSvXr18PgoAxNhqN7ty5s729DQ8nSQJUw+VyGSwCuwxjPDc3d//+/dnZWcYY1NhsNpvNJud8YWFhZmYGUEIIefDgwevXrznnMFUwiTEGR1HkOE6apjANEPHs2bNPnjw5fPjwYDAABiql2u12o9GQUm5ubnY6ncXFxU+fPoEI0DVwejgcYtu2S6VSHMeUUlhKnPMsyzzPO378+MuXL6MoQgh9/vx5e3v769evcRy3Wq3V1VVKqRBCKfUfzITApmKMYdd10zSNoghWTZ7nQogsy/YNAJDd36wIIUgOrMswDKEb27Yh7mmaEoRQEASQaMg+6JBlGWgNhSilIMfAU8DCPv9d1x0MBv/jBOGDXIL88DLn3LZtUEprDd8pSikhRL/fB5WBWGB4OFdrPRqNEEKk1+vBWUCT/Y8DWEQgP9gQPjhg6QLlKKVxHOd5DklLkiTPc0rpP6bjM2744uqxAAAAAElFTkSuQmCC\"/></td><td style=\"padding:1px;\"><img width=\"200\" height=\"200\" style=\"image-rendering:pixelated; object-fit:cover;\" src=\"data:image/png;base64,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\"/></td><td style=\"padding:1px;\"><img width=\"200\" height=\"200\" style=\"image-rendering:pixelated; object-fit:cover;\" src=\"data:image/png;base64,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\"/></td></tr></table><table class=\"show_images\" style=\"border-spacing:0px;\"><tr><td style=\"padding:1px;\"><img width=\"200\" height=\"200\" style=\"image-rendering:pixelated; object-fit:cover;\" src=\"data:image/png;base64,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\"/></td><td style=\"padding:1px;\"><img width=\"200\" height=\"200\" style=\"image-rendering:pixelated; object-fit:cover;\" src=\"data:image/png;base64,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\"/></td><td style=\"padding:1px;\"><img width=\"200\" height=\"200\" style=\"image-rendering:pixelated; object-fit:cover;\" src=\"data:image/png;base64,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\"/></td><td style=\"padding:1px;\"><img width=\"200\" height=\"200\" style=\"image-rendering:pixelated; object-fit:cover;\" src=\"data:image/png;base64,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\"/></td></tr></table><table class=\"show_images\" style=\"border-spacing:0px;\"><tr><td style=\"padding:1px;\"><img width=\"200\" height=\"200\" style=\"image-rendering:pixelated; object-fit:cover;\" src=\"data:image/png;base64,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\"/></td><td style=\"padding:1px;\"><img width=\"200\" height=\"200\" style=\"image-rendering:pixelated; object-fit:cover;\" src=\"data:image/png;base64,iVBORw0KGgoAAAANSUhEUgAAABwAAAAcCAIAAAD9b0jDAAAE4klEQVR4nD2WPY7UTBCGu6v/2+NvdqUFsSCRIG5ACAcgIeU4nISECCHuwQFYESGBSCBgdsdej93//QUvmmRkye6uqreeemu4EOLhw4chBM55zlkpZYzZtk1r3VrLOQsh1nW9vLwspdRaiUhrXWtdlsU511pjjCml7u7upJSMMe+93O/30zQppay1nPNt2zjntdbe+7ZtRERExphlWYio9845H4YhhCCE6L2XUqSUKSUiEkIYY1pr1FqTUk7TxDlPKTHGQghEtK7rbrdDcCJyzvXejTG999vbW1SAMK01IYS1VkrJOW+tEeeciMZxjDEiKSEEsjgcDrVW51zOeds2KeU8zzHG3W43jiOqOX9ca1VKtdastf9Caa2FEN57fCSl7L1rrRljOWcoc3V19e3bt0+fPi3Lsq6rlFJrjeLQjOPxOM9zrZWOx6MQorVWSimlpJRyztM0SSmJSCm1rivevnv3br/fX19fP3v2DK+2beu9997x7L13zkkpSSklhGCM1VoZY7vdTmuNd0qpUopSqtb65MmT169fa63//Pnz/fv3WmtrLYTgvY8xCiGg5rZtQggyxpxOJymlECKltG0bbt+2LYSAfDnnh8Phy5cvQoibmxuttTGGMWat7b1LKVtrRFRKubi46L0TzoDTc9YppXEclVI551KK1npZlt+/f8cYU0qgDfCBh1orHkIIIQSCxsi01rqua+8dJBpjaq2c81LKOI6vXr2apunz5885Z6DGOb+7u0splVJyztDXe0/OOeAGnp1zQogYI+c8xqi1llKWUlpr4zimlH79+oXpYIwty6K1Vkr13q21wzAQ0TzPkjEG/s+DBMmAGuptrSmlrq+vP378WErBXHHOnXPQTUqJs2CRIPPpdDqPNhHd398zxmKMxhgM+/Pnz1trT58+dc455/777z9rLRFZa40xUICIYoy9d6q1YuAgghBinmeAgtz3+7219sWLF9u25ZxB+7quQJUxBk6hxjiOWmsiIui1riucSSmFgDFGxlgpBQcwaYARPUEbULu11nuP7kshRAghpTQMg9a6lIJyYozDMLTWlmWx1t7c3JRSMH6IDa1hUUop/AJYgnBaa9DXe1/XFT7inKu1eu9ba2/evBFCPHjwYL/fw6Kcc9ZaMAe8aq0xRqXUP9zOzDPGACzKhLjwwxDC4XA4Ho9IBW6LkWGMwVbOcpMQAtMJ4vAdoLm/v0exjx8/rrV++PABqwF9R09wKfLtvTPGqLUGaaSUOedaK6oopSzLgtVCRC9fvowxfv36tdY6TRMOa62HYUCJUsoYIzSVaK73Hikjxjn+GelHjx79/fsX+njvERvOzTm31gIegCjhN0gHq4Zzjuk8+/nbt2/Hcfz586fWmnOOoby9vcXiA/lYJ5hPSikhSM756upqGAYY6LqugLTWenFxgYJwKZYKFg/q895DOsbY6XSS4AleBcNnjKEoKIXvfvz48f79+2majDHjOOI6tAG19t5zzsMwOOf45eVlrXUYhnme0X0MK0zWGIP/A+gMaMN1wAh7F2593qz/Xs/zjOCgDMOKocw5AxdY1263O/vv2UAx1gizLAvhdWvNGBNj9N4DzNYatjcejDEhhPPgg2L09kwIOmytpXme8Y8FdgUwe+/H4xFzhXTg9oAG6zaEgCNYSsgJi+d/v14/U3eznCQAAAAASUVORK5CYII=\"/></td><td style=\"padding:1px;\"><img width=\"200\" height=\"200\" style=\"image-rendering:pixelated; object-fit:cover;\" src=\"data:image/png;base64,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\"/></td><td style=\"padding:1px;\"><img width=\"200\" height=\"200\" style=\"image-rendering:pixelated; object-fit:cover;\" src=\"data:image/png;base64,iVBORw0KGgoAAAANSUhEUgAAABwAAAAcCAIAAAD9b0jDAAAFN0lEQVR4nE2WPY/TTBSF53s8dmxnA7tIrESBKEALoqCm5x9QUlFQ0/Iv+DV0CCFR0yAKhChWQogFJY7Hnu95i4NWb4oosmzPveee89xQxpjWmjGWUiKEDMMQQogx9n2/LAshhBAihNBaK6UOh4OUMoQgpdzv90KIrutijCmlk5OTw+FAKY0x0u12W0rhnHvvhRClFMYY7j4ej7VWSinnPOeMA5RSzjkhRM6ZUppzxm8pZSml1lprZbXWEAJqIYTUWhlj3vv9fk8IiTFSSimlhBBKaUopxqi1ppQ657z3xpiUEqV0mqZ1XQkh3ntWSum6bl3XEAJKrrW2bYt34XxCCGpxzjnn1nW11g7DwDlPKXHOceputxNCjOPIhBDTNCmlaq24gzFWSoEUSilCCFR+9+7d27dvz8/Pm6ah//tA9O12a61NKaWU2DRNxhhoIYSIMeacSymYm/eeMWaMef78+b179549e5ZzPh6PSinMpJQSQkgphRAYYznnlBLTWi/LknPGw1rr6wmklKDvPM+np6ebzabruidPnpRSSinTNME2QghKadM0uM45/9dprTXnvN/vvfecc4jVNA1jDHd//vx5XddhGC4uLjjncBghxFoLY4QQoFLXdSyEAN8opXa7HdwDlWHAeZ43m83Dhw8ppaWUp0+faq2995vNBjaotc7zjF77vv/z54/ouo4QIqXE86irbdta67qulNK2bVNKkFtrfefOnVqrlHKe5xjjOI7ee0gcQsCr/kmbc44xQmnGGGPMOQdvYmh///5ljM3zfPv27UePHoUQEJb9fh9C6Lou5xxCQBYYYww2qrXC/MMw4ICmaZRSOeezs7P79+/j7J8/f/769cs5p7W+dvQ0TehjWRbvPRNCSCnhNbx9XVchBEKJsC3LcnFxgdR/+fLlx48ffd/HGIUQMBNogCK01gyXrou/tt51lqSU4zg+ePCAUtp13fv376WU3nsppVLKWmuMgRMQhHmeGRqnlPZ9j9F77yml1lopJWBhrW3bFs77/v075o6euq6Dq1JK67o655qmYbVW5P1wOKSU2rYFBhEY8AKu9N5rrS8vL0sp3nvnnJRSSnnjxg3ku2ma7XYbQmCEEK0153wYBogAQOAbWQBHcs5N05yfn6MzIYRzDhlVSnHOSynWWs45w0zhpHEcpZQxRgAQeU0p3b17F0D49u1b27boMaVkjOGcL8vCOSeEcM4hNNNaA50Aa0oJTYUQYJftdvv48eNxHDnnQogXL17UWmF4iKi1Rsb2+721ttYqcs6glPceDVprt9st5/z379/GGGPM4XBYliWE0Pf9q1evQHi0HGMEbZum0VpLKZdlYbVWrTWQDji1beu9DyFsNhtjTNu2L1++tNYqpd68eXN1daWU6vu+aRospVornG+tBRUFYww0QUfAF+aAxXV2djaO48nJibX2w4cPUkpKKbbebrcDoo7Ho/cezokxMmwRANA5h9accykl7z0h5PLy8uvXr4SQ169fX15eYnrYjOu6wtrDMEA9eFZgO+K9m80G9kR2U0qllKurq1rrp0+fPn78CH1QweFwuHnz5rqujDFoVWvt+z6lRIUQfd8D0jAW/AH2xBitteDeMAxQFnl1zmFQeASVgQB0t9ullMCbaZqwe4UQeBiTxd0xRqVUCMEY45wzxoQQwEasEwChbVsGgnDOQwggOf4DhBCUUsYYSunp6SljDGMEYowx2J0oE2GBDsfjkRJCbt26hRrBMc65MUZKick652qtuDLPMzwE54HfcCSmgj7+A2UfZmISUg9KAAAAAElFTkSuQmCC\"/></td></tr></table><table class=\"show_images\" style=\"border-spacing:0px;\"><tr><td style=\"padding:1px;\"><img width=\"200\" height=\"200\" style=\"image-rendering:pixelated; object-fit:cover;\" src=\"data:image/png;base64,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\"/></td><td style=\"padding:1px;\"><img width=\"200\" height=\"200\" style=\"image-rendering:pixelated; object-fit:cover;\" src=\"data:image/png;base64,iVBORw0KGgoAAAANSUhEUgAAABwAAAAcCAIAAAD9b0jDAAAFi0lEQVR4nE2VO28UPxvFbY8v47nsboiUFIFIhAIqEBT0INHQ8TGQkCLxDaBF4iJaCjoKIqCFig4EVVKRggYFAVKUzc7sjsf3tzh/Re82s7Jm7Oc5/p3z0LZtCSGEkKIoGGOU0r7vq6rCotb69PSUUiqldM5RSsdxPH/+/GKxSClZa/FJWZbOOaWUc85ay3LOlNKccwghxmitLcsy55xScs4Nw1AURUqJc04IyTkXRdH3PSGEc762tpZSEkLM5/OmaWKMQgiGn/eeMVYUBSHEex9CyDkLITjnnPOUkpRysVgwxqSUhJAQgrXWWuu911qHEJqm6fs+5+ycc86xnDNejTGiTc55XdchBCEEpZRSyhhTSjHGxnGs6zrGiPKdc+M4OudQE/rgnHOlVNd1RVFgFcJBByGEEEJKGWPEjm3bxhiVUsvlUkqJI5um8d5TSoui8N5LKVnf93VdQ5oYI3ThnJdlWVVVzjnGmHPOOU+n03EcQwjOuaIoKKUppZwz5LbWUko554wxprWuqqqqKiiFVxljOzs7bdvu7OzMZjNCSEqp7/sz9ZVS4zhCH2ttzllrDR1SSvQMKULIZDK5d+/egwcPNjY2lFKc82EYcs5HR0e/fv16//799+/f//79e3p6KoRIKaGtqqqcc/iPdTqZTPBx0zRfvny5cOFCSsl7zzkHbdDEe1+W5TAMe3t7P378ePPmjdZ6uVxCRxQIHfq+p1JKYFGW5eHhodYa0GBfIHEG1mq1gr5d17169erZs2dt26aUgAougBDCcKGMMSHEbDaDoCj/jKQYo9YawhFCcOM3b948d+6cMQYqxxiHYRBCEEI4dkwpjeN4dHQ0nU4ZY58/fzbGxBj39vb29/dv3Ljx6NGjra2t1WoFqDnnxpgQgpRyHMecM2MMdFNKaVVVwJsQsr29fefOnfX19f39/U+fPllrY4x1XcMgu7u7u7u7EApCv3jx4smTJ03TOOdAbkqJEMKBJ3z5+/fv169fG2NyzkqpqqoAmXPOGPPu3bv79+8TQlarFZRBW0iWsiw559ZazjnDA2ERY3TOaa2llEVRjOMIO1FKkUBaayzCYNevXzfG9H2PrMJWKSWmlBqGQWtdFAW8hEyBg1NK8J9S6urVq//+/ZtOp9baoiiaphmGgRAihAAqhBDnnPeetm2LQuDXEAJjrOu6tm2ttXVdj+MIZQ8ODgghoKVt2/l8fu3atePjY7jcGIMoKMuSA13vPTLFGHMWaGBeCKGUunTpEiGkruthGOq6ns/nh4eHJycn6Np7jw5wPQxlI3KOj48ZY1VVQQcASCmFiZVS0B3WWFtbc87hnimlwzAopaSUxhhGCJnNZjgBMQG8jTGwP/L44ODg+fPny+VyHMfVaqW1/vr1a1VVZVmWZUkphQgQl2G8VFXlvQePxpjlcrm+vu69t9b+hx7nT58+ffny5dbWltZ6sVgA8LNJ0XVdzhkpzI6Pj621wzC0bVuWJcpcW1vr+x59wYKw77dv35bLJed8Op1ub28LIXBqXddIBijGptMpwqLrOqWU1noymSyXS/gd3LVtm3MmhBwcHPz8+RPpdfHixcuXL4PQlBLgQ1AwZAznfDKZoDqELucc0JVlCTYg2ePHj/u+DyHUdf3x48eHDx9ubGxwzqWUdV3Xdc05p5ubm13Xee+R1sMwYOgbY6SUCDrIj0lOKd3c3Hz79u2VK1fm83lVVYeHh3fv3sXgkFJKKVkIoW1bxljOebFYgCTnXNM0QAcjBxMFrpvP57dv375169aHDx/+/PmzWCxgH+w4juN/yS+EWK1WsKMxBnPw/+0Pg0gph2FASnnvCSFlWYYQ8CFjDIZk1tq+72GMEALS4WwXLIYQ4DHnnJQSZgP2mFRd152cnCDMnHP/Ay4iR8B+XquEAAAAAElFTkSuQmCC\"/></td><td style=\"padding:1px;\"><img width=\"200\" height=\"200\" style=\"image-rendering:pixelated; object-fit:cover;\" src=\"data:image/png;base64,iVBORw0KGgoAAAANSUhEUgAAABwAAAAcCAIAAAD9b0jDAAAFgUlEQVR4nE1Wu2tUTxue+5zrZhOFKBYBFYkSMKCdYGVnJZLCyjqlgpVC/gJXiJ34I6AWWtlaqbVpgiKKf4CioNnds+fMOXP9igeWb6tlZ+aded/ntrQsS+89IaQoirZtV1ZWjDH4cRiGuq7//ftXlqVzjlLKORdCGGMopXmeW2uzLJvP51VV9X2fUpJSMsZESklr7b3nnBNCYozDMKSUYowxxvl8zhhLKTnn8jxvmmY0Gllri6JomibG2Pd9nufDMFhrhRBN03jvKaVUSqm15pwbY7IsQ+kYI74QQkIIQgghBOc8hIDrnXO4r21bdLa6ujqbzaSUtCgKSikhJKWEY8MwaK0JIYwx55wxJs9zSqlzTilFKe37nlKqtUbFLMs4513XhRAopaurqzTPc7yFMYZ9WOOce+9DCEopay3KYQh4uLXWe6+Uwt3Y6b03xjBCSF3XUkpspZRaazGKtbU1VC+KIqU0DAOAqqrKGMM5Tyn1fR9jdM4JIVB6PB7TLMsYY5gsWiaELN/IOR+NRru7u1tbW0KIM2fObGxsDMPw48ePW7duEUKOj49jjEIIpVQIgRCitaZFUTDGOOeMsRijMWYJSFEUly5devPmTVmWQIYQAvJRSvf29vb393HQWiuljDEyxoQQLMuyEIK1Fl1IKauqYoxJKZVSL168qKoKE8iyTClV13XXdUKIjY2NkydPSik550opwBVCcM6Joii6rsuyDNQNIQzDAGK9fv16fX0dqz9//szz3DkXY8zzfD6ff/nyZTqdEkIopaAg0BZCsNlsBjKCA5hs13WLxQLKGY/He3t7169fn0wmINOvX792dnaeP38uhEAtQgjIr7Xuuo557xljIYSU0lJI3nshxNbWlnPu0aNHk8nEWnv27Nn19fUsy+7cufPp0yc8mVKqlMIR5xwEJpxzdV23bSulhAr6vtdaK6V+//5d1/Xu7m5RFHVd3759O6VkjHn16tVkMvnvv/+apimKwjkHoBhjWZYNw8DgBWVZ9n0fQvDej8djXPv27du+79fW1h48eLCzswPQnXOnTp3a3t7mnEP7UGBVVUKIYRiklKzv+yzLZrPZeDyGopayef/+/fHxMUhz+vRpSDnLsqZpDg8PCSGcc7iXlHKxWPR9zznXWouyLGOMUsq2bbXWKysrf//+VUqllI6Ojq5du3bhwoXNzc179+6BQHC1qqqgFEopYwzMh0M2TSNAXRgPpRRrlFJ02rbt169fj46OLl68ePfuXVw2nU4/f/6MZmERfd9jeoyxsizZMAywkhgjcISEF4sF+sV8QW9rbdu2T58+PTw8jDGC9rDtqqpSSsBZWGvrujbGpJS6rrPWokHQhRAihDh37tz29raUEvft7+8LIaSUWZYtFgtKaVmWsHbvfYxRQCdwthjjeDwGgtZaYwxjrK7rZ8+eXb58GUN/+fIlVimlbduGELTWwzCgLRgpw44QQggBF8AfAWVZlpubm+fPn08plWX57du3x48fw8CwDewGAXCcEMJwGOZkjIFkwSqY040bN06cOAEYDw4OllZvjEFAoGKMsWkaQM289xgiOGyMcc4tI0ApdeXKlel0muf5x48f3717Z62dTqdQ4LItzBrqYPgAEGRyURScczjhdDq9efPm1atXtdbfv39/8uTJnz9/CCGj0QjI1HWNCrBHFGFL9iIjoZBlXo5Go7W1NYTaw4cPP3z4gMhBOtR13TQNzLBt22V8CCHo6urqYrFAcvR9r5TSWqMvjPjg4GA2m92/fx+G670HtlJKmAiCvm3bqqrgxbSqKtACI2+apqoqpRQSreu6PM/hhEg6YK2UQiYDIqhg+Q5a1/USSoxpNpvBgfBPADpGa/9vuEVRLGWqtYbDaa0ppf8DesUfOWmILwkAAAAASUVORK5CYII=\"/></td><td style=\"padding:1px;\"><img width=\"200\" height=\"200\" style=\"image-rendering:pixelated; object-fit:cover;\" src=\"data:image/png;base64,iVBORw0KGgoAAAANSUhEUgAAABwAAAAcCAIAAAD9b0jDAAAGCklEQVR4nD2WvWtUTRTG5/vO3Hs32d24iRoIIULEhMCqWIhIwMJCGxtBm5DeWMtLUAvBwkILC5sgon+CRAIWQhBJJxjQIlgYEKJGNpv7OR935i2OpLvs7j1z5pzn+T2LW61WkiRaa0IIY0xrLaX03iOEEEJaa8YYpZQQEkIoikIp1TRNmqbW2rIsGWOEEO99t9vNsswY473HnU4nTVNjDMbYWhtFUZZlUkpjDCGEEKK1VkrBGSGEOI6HwyEUEkI0TdM0DfThvaeUUkoJxjjPc4RQXdfee+ccxjiEwDmPogghhDGmlBpjmqahlFprlVIjIyMhBGMMYwxj7L231nrv67pGCBGEEBxoreWcV1XFGBNCYIwJIU3TMMastePj43CwlLIsS7g4QohSyjn33ocQCCEYY8457vV67XZ7MBhgjJ1zTdM456Io4pwbY4QQVVVhjBFCjDGlVFVVIQSEkHMObgMTgHLGmBAC7nQ60FQIoWkaOE1KqbWGdU1NTdV1fffu3UuXLu3v71+4cGF3d/fKlSvWWpgsrNFayxgzxrRaLQLlnHMhBMZYCKGuaxgipbTf73/69OnDhw9LS0vT09NKqdXV1dHR0cuXL2OMoZsoimBiQgjOeVmWTAhBKa3rGrYfQpBSHh4eCiE6nc7r16+NMTCfhw8fvn37Vkp5+vTpmzdvfv36dX9/nzHGGMvznFLqnBNCeO+Zc+7w8BAU2m63CSFFUcB1VlZWrLXOuZ8/fz5+/HhjYwMhdO/evcXFxYWFhbm5uRs3bhwcHMAcYaswaFJVFULIWjsyMmKMgTkQQtrt9vnz50dHR3d3d1+8eLG1tcUY6/f7V69enZ6ezvN8YWHh1KlToGWQXQgBY1yWJYvjGCFUVRUoA5ZICLl48eLMzAwh5MGDB5ubm957KSXn/MuXL0+fPu12u9vb23me93q9Hz9+pGmqtXbOSSmllDiOY6XUkWistdZaSunHjx+PHz++vr7+6NGjsiwPDg445/Pz83/+/Pn16xdCSEo5Pj7+33//3blzByyXZZkQwlpLkiQBPWKMYSgAAdBznueDwUBrnaYp53xnZ2c4HMLSwT9TU1Ozs7Mg1bGxMfiK1HUdQqiqynufZZlSilI6Nzc3OTmJEPr8+XNd18YYY0xRFGAqQghsua7rsbGxpmnKsjzyqFKKSCnTNAU1cM7h7q1WCwgyHA4ZY1LKqqo6nQ5CiHN+ZOuxsTEpZa/XU0pZa8Ev1loCXBBChBCiKAJ7tNtt773Went7WwhRlmUcx865uq6rqnLOUUrjOM7zvKqqmZkZ0IyUMo5jjDEBzIAAjp5Bp1mW/f371zk3MjICrxljOOeAEkJIr9ebnJzs9/ve+6ZphsMhAIhkWRbHMfQCqwcY13V98uTJ69evx3EMENFat1otsPKRSIwxOzs7hBClVKvV+ldUCFEURZIkUIhSWhTF1tbW+/fvCSH3799fXFwE0AFeCSHOOSAvbOnbt29RFFlrYZ95nhPnXJqmQghCSLfbBZHXdf3s2bOXL1+eOHFiaWnp2LFjwDB4E3QzMTGxurrKOb927Vqe59Bj0zScc8IYA1URQvI8xxiDWff29p4/f17X9blz5169ejU3NwevgUGklLdv356dna3r+t27d91uN0mSPM855xhjPDExAb8eDAaU0iRJIO8455zzlZWVlZUV7z1jbG1tbW1tbX5+vtfrnT17dnl5+fv376urq+vr6yCpVqtVFIWUEsOVoyjCGGutQVKAQaXU6Ojo8vLy0tKSUkoplWUZ5B1jzDl369atzc1NgL/3Hl4MIeA0TZVSZVn2ej0oCvkBfKSUeu/PnDnz5MmThYUFrfX+/v7e3t6bN282NjYopXmeQy1CCOQzYwyPj48754CJQgg4IEkSQCJAAJKDUgqDcs7BV/AJtMI5P0IHAWRFUQQRUFWVEAKCAB6klEopKAqFoigCoECbSZIchdu/NE3TFPoCL1FKQYwQ/aBHcEQcx1pryFf4nwKpB2xumkYp9Y/84B8IzrIsj6aJEGqa5vfv30c9gkehxOHhIbAK9AeOqqqqKAqt9f91SzHMVAl2zgAAAABJRU5ErkJggg==\"/></td></tr></table><table class=\"show_images\" style=\"border-spacing:0px;\"><tr><td style=\"padding:1px;\"><img width=\"200\" height=\"200\" style=\"image-rendering:pixelated; object-fit:cover;\" src=\"data:image/png;base64,iVBORw0KGgoAAAANSUhEUgAAABwAAAAcCAIAAAD9b0jDAAAFe0lEQVR4nE1WPW/UShT13BmPx5/r3Y2UIBAdosk/iCgoETWioqdGSkFLRwEdLUUoEKIFiQYJChqEoEKCJkJCSlCisFmv7ZmxxzOvOO9Fz8Vq7R3PPXfOx10WRZFSSimltS7LcpomxpjWuigKrbX3vixLIcRqtYqiqCgK51zbtkVRTNOUJIlzzhjjvRdCxHHc9z0RMc75crkMIUzTJKVcrVZKKawwxggh+r6PoihN077vOefTNEVRJITgnK/X67qugYOIvPeoxLIsCyFwzkMIzjnGGN7BF6XUOI5SSuxojOGcox7nPEmSKIq89/9HyjknpRTnnDEmpSQiIlJKJUmCss65xWIxDIMQwnsPOChjrdVaAybga62dc0TEiqIAEOfccrlEs8DedV2apsCSJMk0TXjunMM5oDBjLM9za621lnMupaRhGJqmCSFkWXZ+fs45JyKtdZqmzrk4jouiGIYhjmNg9N5rrfEljuMoiuI4BqVSyiRJxnFkIJdzPgyDlLLrOvRurd3a2trd3X306FFVVScnJz9//rx8+fJisSjL8s6dOycnJ13XhRAgCWwaRVHbtpEQoq7rqqpQZz6fz2azra2tLMv29/dDCE3TrNfrtm37vjfG9H2/2WwePnyY53lZlqihlMJtXdeLxYKICGIqyzLLMiIax1FrnWXZ3bt3Dw8Pnz59+v79+yiKoigax3GaJiL6/Pmzcy5JEiISQiilvPfGmCiKOOciTVOtNfRhjAkhQHTb29vXr19/8ODBy5cvb9y4cevWrYtfP378+O3bt7qu//79yzmHBLMsm6ZpHMcQgtBa53k+jmP03wVHzWYz59y1a9e01t+/f2+aRikF9o6OjrB+Npv9K0wixljf91LKcRxJSjkMA+fcex9CAJaqqnZ2dv78+XPv3r2vX7/ev3+/KArOubW2aZrbt28nSaK1NsakaUpEkH1ZliGE+XzOYEqIBqKTUjLGGGM3b958/vx5lmWHh4c7OztxHA/DMAzDZrPZ3d1ljMVxHELAu3EcM8ZCCN57wglWVQVVSimFEM45a+27d+8eP35src3z/OjoqGmapmnKsjw7OwshKKXgQLwFFWqtl8slhRBwAowxWB6mBKhnz569efNGKXXlyhXG2DiOaOgiWdCZ1hpQkiTZbDYkpXTOjePIGDPGQPlaa6UUmtrf33/x4gUR5Xl+9epVxth8Psd2IQRrbQghjmN4dBgGrTXhqTEGi9brtbUWBbz3bduenp6+ffv206dPWZb1fb9arc7Pzy+SJY5jnBvSi4g455Smqfe+rmvcJ0mS5zmioCgKIUSSJF++fPn161fXdbD5bDYLIQghrLXDMBARPsdxhCqoaRpkF7IHDqmqijG22WyKomjblnP++/fvPM+NMVLK5XK5vb2NVESGQQZJkoQQ0jSluq4hTyTmOI5d1znnQGDf95gcp6en0LaUErb23m82mziOL8aEtRZpLZByRNT3vVIK+T9NkxACGgAnx8fHYANMrtdrbIcFRJSmKWOs6zoiIoCKoijLsmEYuq7DIJmmCcGOBoUQsLa1Nk3TJ0+eQOewCSgNIUAkhFnS9z2yABmI2IYwgfrDhw8/fvyAm51ze3t7sAl4b9s2TVO0H0Ig8INLCIGJNpvNsBeow9h4/fr12dlZlmVInDzPkc2QM4DXdW2MISEE/ItGQghd1+Ech2EY/7uEEAcHBwcHB8fHx0RkjFmtVsBhrb2gC8pliDgIGCMBJ9g0DfTYdR2elGW5Xq+llHt7e5cuXXr16hVC5OLPBwisqootFoumabIsA5wL0nF8CASkOMancw55jNBCo33f41igQialhNUQOaCeMda2bVVVF7wbY2A5rTXGtZQS3se+F2kQQvgHk9xCOWYZJYAAAAAASUVORK5CYII=\"/></td><td style=\"padding:1px;\"><img width=\"200\" height=\"200\" style=\"image-rendering:pixelated; object-fit:cover;\" src=\"data:image/png;base64,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\"/></td><td style=\"padding:1px;\"><img width=\"200\" height=\"200\" style=\"image-rendering:pixelated; object-fit:cover;\" src=\"data:image/png;base64,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\"/></td><td style=\"padding:1px;\"><img width=\"200\" height=\"200\" style=\"image-rendering:pixelated; object-fit:cover;\" src=\"data:image/png;base64,iVBORw0KGgoAAAANSUhEUgAAABwAAAAcCAIAAAD9b0jDAAAGH0lEQVR4nD1WvWsUTRjfmdmdj/28vcsldmoQCwWJiGIRwSBYSFTSxEJMYRFQ/Au0i0VAC60ECUKwi9iopZGoQVSE6yxsjljIgTni5e72az523uLhzTU3LLPzzPN7fh+LfN+P4zjLMoRQEAR///5tNptKKWNMVVW+7zuOo5TinBtjyrLknHueJ6WsqopznmWZtTYMQ2ttXdeEECmlSwgpioIxNhgMtNa+7+d57jiO4zgIIdd1i6JACB28o5Sy1iqlKKWO4zDGMMZaa8aYMaaua2stttYWRVGWJaUUY1wUBZyIMWaM5XmutXZdF2NsraWUUkrruqaUWmuttcYYrTWltCzLoihc12WMIfiDGwkhMMaEkKqqjDGe53meV1VVXddwTef/H2OsqipYSymFELCASqjVakEFjLHjOK7rSikBRGjT9/29vb0wDL98+RKGoed529vb6+vrv3//7vV6UkroqSgKz/MQQpRSJIQA4AFjSinnfDweH2y9fPny4uLi3Nxcu90ej8dhGMJwOOebm5vPnj379u0bpbSqKkop9IeSJKnr2nEcYwznHNbQEcxkY2Njbm6uKApK6YMHD5RSS0tLJ06cgM46nc7i4mJZllprhJDWOggCrLWOoqiua4QQIYQxhhACPhFCMMZbW1u7u7vv3r27cOHCixcv1tfXL126tLS0VJalUooQYq0tyxLOBUwdz/MIIcDWdrudpikgwBhL0xQYkySJEEIIwTlPkuTo0aMfP35USu3u7r59+zYIglarRSltNBphGAZBgNM0DYIAOATsgRE5jgPkbzabxhjXdQkhnufdvn17e3v7/PnzWZb1+/0PHz7Ai5zzPM8ppVEUOUmSNJtNSikhpNFoBEHQbreDIPB93/O8OI6jKGo0GgghIcStW7e63e5gMNjf3x8Oh9evX/d9P0mSKIqgOUppkiTI8zzOudZaCAHUA5iMMUBYSunCwkIURceOHbtx40az2RwMBp1O586dO/1+33Xduq5hM6VUSuk4jnvo0KG9vT1jDMyaEEIIGY1GnPN79+612+3p6ekrV65Ya6WURVFsbW2trKz8+fNnOBwihDzP01obY8IwlFLCtN1///4BuQghgKm1NkmSmZmZlZUVmK9SCjhHCDl58mQURSBusBghBGNsNBqBgoqiQEmSEEKyLGOMwblSytnZ2VevXnHOQRHQYF3XjUZDKaWUunbt2tevX8Mw1FpDYTCzqakprbVLCNnf3wfaG2MQQoyxixcvBkGglNJab29vv379GiT08OFD13UppcvLyz9+/KjrGmPcarWMMXmeCyEAE4cQMjExAXMXQrTb7SiKCCFra2udTufx48eHDx+Gh+Cky8vLINP5+fkkSSYnJ4UQSZL4vh8EAbAYCSEOOAgqOuAAxhh6F0KALYC/rK6uzs/PP3ny5Pnz58Ph0Pd9EChjTEoZhiGGcYMuXdcFf/E8D2M8Ho/BiWGmUIlzHoZhkiQLCwunT58Ow7CqqrIsjTHW2iiKqqrCcEGA+e7du51OZ2ZmBiEkpUzTVEppjAG9YYzTNH369Ons7KyUcnd3t9vtSil934+iKIqioiiAlw5CyPd9wOX9+/fD4XBzc3N6ejpNU9d1kyRJ03RqaurIkSP379//9OlTnuc/f/68efMmCAlsIU1TzjmA3mg0XKjguq7Wemdn5+zZs2fOnNnY2Ijj+NevX8ePH5+cnEzTFPLGcZw3b968fPny8+fP4A8QSsYYSBoweCeO44mJCbjR1atXv3//XhRFlmWj0eigncFgkOf56urquXPn4jiO4zhNU3AGSmmz2fR9H0xdCNFoNBAYAWRZnue+76+trZ06dWpqaqrX6+3s7HS73UePHvV6Pc45RLQxBmQNRgNrpRT4AKUUUUoh74AWVVVZawEN13WDIMjzHBQBcYQQghyEHIMhe55X1/WBxDGQFCFUVZVSClwWCMQYG4/HQghrLbgGaOwg5bMsi+MYIVSWpbUWAmY0GiFoQWsNB0E6FUUBXxUYY6hEKQV/AHOA4IEQKsuyrmuo2mq1HMdBYRiChK21CCEoAIOG3QCFUiqKoizLDgCBFznn/X4fPiZAI4SQ/wBNCe6egH4deAAAAABJRU5ErkJggg==\"/></td></tr></table>"
            ],
            "text/plain": [
              "<IPython.core.display.HTML object>"
            ]
          },
          "metadata": {},
          "output_type": "display_data"
        }
      ],
      "source": [
        "clean_test_images, _ = next(iter(time_cond_test_loader))\n",
        "# clean_test_images = clean_test_images[:16]\n",
        "batch_size = clean_test_images.shape[0]\n",
        "\n",
        "# clean_test_display = [img.permute(1, 2, 0).cpu() / 2. + 0.5 for img in clean_test_images]\n",
        "\n",
        "# mediapy.show_images(\n",
        "#         clean_test_display,\n",
        "#         columns=4,  # Show 4 images per row\n",
        "#         height=200  # Height of each image\n",
        "#     )\n",
        "\n",
        "num_ts = 300\n",
        "\n",
        "x_T = torch.randn_like(clean_test_images) # x_T is pure noise\n",
        "\n",
        "z = torch.zeros_like(clean_test_images).cuda()\n",
        "x_t = x_T.cuda()\n",
        "t_tensor = torch.empty(batch_size, dtype=torch.float32, device='cuda')\n",
        "\n",
        "with torch.no_grad():\n",
        "  for t in range(num_ts - 1, 0, -1): # goes from 299 to 1 inclusive\n",
        "    gc.collect()\n",
        "\n",
        "    if t > 1:\n",
        "      z.normal_()\n",
        "    else:\n",
        "      z.zero_()\n",
        "\n",
        "    t_normalized = t / 300.0\n",
        "    t_tensor.fill_(t_normalized)\n",
        "\n",
        "    pred_noise = unet(x_t, t_tensor)\n",
        "\n",
        "    alpha = schedule[\"alphas\"][t]\n",
        "    beta = schedule[\"betas\"][t]\n",
        "    alpha_bar = schedule[\"alpha_bars\"][t]\n",
        "    next_alpha_bar = schedule[\"alpha_bars\"][t - 1]\n",
        "\n",
        "    pred_clean_coeff = (beta * math.sqrt(next_alpha_bar)) / (1 - alpha_bar)\n",
        "\n",
        "    x_t_coeff = (math.sqrt(alpha) * (1 - next_alpha_bar)) / (1 - alpha_bar)\n",
        "\n",
        "    variance_coeff = math.sqrt(beta)\n",
        "\n",
        "    pred_clean = (1 / math.sqrt(alpha_bar)) * (x_t - (math.sqrt(1 - alpha_bar) * pred_noise))\n",
        "\n",
        "    x_t = (pred_clean_coeff * pred_clean) + (x_t_coeff * x_t) + (variance_coeff * z)\n",
        "\n",
        "    del pred_noise, pred_clean\n",
        "    torch.cuda.empty_cache()\n",
        "\n",
        "denoised_display = [img.permute(1, 2, 0).cpu() / 2. + 0.5 for img in x_t]\n",
        "\n",
        "mediapy.show_images(\n",
        "        denoised_display,\n",
        "        columns=4,  # Show 4 images per row\n",
        "        height=200  # Height of each image\n",
        "    )"
      ]
    },
    {
      "cell_type": "code",
      "execution_count": null,
      "metadata": {
        "id": "hfvtHEFf_7Q3"
      },
      "outputs": [],
      "source": [
        "def ddpm_forward(\n",
        "    unet: TimeConditionalUNet,\n",
        "    ddpm_schedule: dict,\n",
        "    x_0: torch.Tensor,\n",
        "    num_ts: int,\n",
        ") -> torch.Tensor:\n",
        "    \"\"\"Algorithm 1 of the DDPM paper.\n",
        "\n",
        "    Args:\n",
        "        unet: TimeConditionalUNet\n",
        "        ddpm_schedule: dict\n",
        "        x_0: (N, C, H, W) input tensor.\n",
        "        num_ts: int, number of timesteps.\n",
        "    Returns:\n",
        "        (,) diffusion loss.\n",
        "    \"\"\"\n",
        "    unet.train()\n",
        "\n",
        "    epsilon = torch.randn_like(x_0)\n",
        "    t = random.randint(0, num_ts - 1)\n",
        "\n",
        "    alpha_bar = ddpm_schedule[\"alpha_bars\"][t]\n",
        "    x_t = (math.sqrt(alpha_bar) * x_0) + (math.sqrt(1 - alpha_bar) * epsilon)\n",
        "    x_t = x_t.cuda()\n",
        "\n",
        "    optimizer.zero_grad()\n",
        "    t = t / num_ts\n",
        "    t_tensor = torch.tensor([t] * 128, dtype=torch.float32)\n",
        "    t_tensor = t_tensor.cuda()\n",
        "\n",
        "    outputs = unet(x_t, t_tensor)\n",
        "\n",
        "    loss = criterion(outputs, epsilon)\n",
        "    loss.backward()\n",
        "    optimizer.step()\n",
        "\n",
        "    return loss"
      ]
    }
  ],
  "metadata": {
    "accelerator": "GPU",
    "colab": {
      "gpuType": "T4",
      "provenance": []
    },
    "kernelspec": {
      "display_name": "cs180-proj5",
      "language": "python",
      "name": "cs180-proj5"
    },
    "language_info": {
      "codemirror_mode": {
        "name": "ipython",
        "version": 3
      },
      "file_extension": ".py",
      "mimetype": "text/x-python",
      "name": "python",
      "nbconvert_exporter": "python",
      "pygments_lexer": "ipython3",
      "version": "3.10.15"
    }
  },
  "nbformat": 4,
  "nbformat_minor": 0
}
